{
 "cells": [
  {
   "cell_type": "markdown",
   "metadata": {
    "deletable": true,
    "editable": true
   },
   "source": [
    "# The Late Show with Stephen Colbert Analysis"
   ]
  },
  {
   "cell_type": "markdown",
   "metadata": {
    "deletable": true,
    "editable": true
   },
   "source": [
    "## Standard Imports"
   ]
  },
  {
   "cell_type": "code",
   "execution_count": 1,
   "metadata": {
    "collapsed": false,
    "deletable": true,
    "editable": true
   },
   "outputs": [
    {
     "data": {
      "text/html": []
     },
     "metadata": {},
     "output_type": "display_data"
    },
    {
     "data": {
      "application/javascript": [
       "\n",
       "(function(global) {\n",
       "  function now() {\n",
       "    return new Date();\n",
       "  }\n",
       "\n",
       "  var force = true;\n",
       "\n",
       "  if (typeof (window._bokeh_onload_callbacks) === \"undefined\" || force === true) {\n",
       "    window._bokeh_onload_callbacks = [];\n",
       "    window._bokeh_is_loading = undefined;\n",
       "  }\n",
       "\n",
       "\n",
       "  \n",
       "  if (typeof (window._bokeh_timeout) === \"undefined\" || force === true) {\n",
       "    window._bokeh_timeout = Date.now() + 5000;\n",
       "    window._bokeh_failed_load = false;\n",
       "  }\n",
       "\n",
       "  var NB_LOAD_WARNING = {'data': {'text/html':\n",
       "     \"<div style='background-color: #fdd'>\\n\"+\n",
       "     \"<p>\\n\"+\n",
       "     \"BokehJS does not appear to have successfully loaded. If loading BokehJS from CDN, this \\n\"+\n",
       "     \"may be due to a slow or bad network connection. Possible fixes:\\n\"+\n",
       "     \"</p>\\n\"+\n",
       "     \"<ul>\\n\"+\n",
       "     \"<li>re-rerun `output_notebook()` to attempt to load from CDN again, or</li>\\n\"+\n",
       "     \"<li>use INLINE resources instead, as so:</li>\\n\"+\n",
       "     \"</ul>\\n\"+\n",
       "     \"<code>\\n\"+\n",
       "     \"from bokeh.resources import INLINE\\n\"+\n",
       "     \"output_notebook(resources=INLINE)\\n\"+\n",
       "     \"</code>\\n\"+\n",
       "     \"</div>\"}};\n",
       "\n",
       "  function display_loaded() {\n",
       "    if (window.Bokeh !== undefined) {\n",
       "      document.getElementById(\"\").textContent = \"BokehJS successfully loaded.\";\n",
       "    } else if (Date.now() < window._bokeh_timeout) {\n",
       "      setTimeout(display_loaded, 100)\n",
       "    }\n",
       "  }\n",
       "\n",
       "  function run_callbacks() {\n",
       "    window._bokeh_onload_callbacks.forEach(function(callback) { callback() });\n",
       "    delete window._bokeh_onload_callbacks\n",
       "    console.info(\"Bokeh: all callbacks have finished\");\n",
       "  }\n",
       "\n",
       "  function load_libs(js_urls, callback) {\n",
       "    window._bokeh_onload_callbacks.push(callback);\n",
       "    if (window._bokeh_is_loading > 0) {\n",
       "      console.log(\"Bokeh: BokehJS is being loaded, scheduling callback at\", now());\n",
       "      return null;\n",
       "    }\n",
       "    if (js_urls == null || js_urls.length === 0) {\n",
       "      run_callbacks();\n",
       "      return null;\n",
       "    }\n",
       "    console.log(\"Bokeh: BokehJS not loaded, scheduling load and callback at\", now());\n",
       "    window._bokeh_is_loading = js_urls.length;\n",
       "    for (var i = 0; i < js_urls.length; i++) {\n",
       "      var url = js_urls[i];\n",
       "      var s = document.createElement('script');\n",
       "      s.src = url;\n",
       "      s.async = false;\n",
       "      s.onreadystatechange = s.onload = function() {\n",
       "        window._bokeh_is_loading--;\n",
       "        if (window._bokeh_is_loading === 0) {\n",
       "          console.log(\"Bokeh: all BokehJS libraries loaded\");\n",
       "          run_callbacks()\n",
       "        }\n",
       "      };\n",
       "      s.onerror = function() {\n",
       "        console.warn(\"failed to load library \" + url);\n",
       "      };\n",
       "      console.log(\"Bokeh: injecting script tag for BokehJS library: \", url);\n",
       "      document.getElementsByTagName(\"head\")[0].appendChild(s);\n",
       "    }\n",
       "  };\n",
       "\n",
       "  var js_urls = [\"https://cdn.pydata.org/bokeh/release/bokeh-0.12.4.min.js\", \"https://cdn.pydata.org/bokeh/release/bokeh-widgets-0.12.4.min.js\"];\n",
       "\n",
       "  var inline_js = [\n",
       "    function(Bokeh) {\n",
       "      Bokeh.set_log_level(\"info\");\n",
       "    },\n",
       "    function(Bokeh) {\n",
       "      console.log(\"Bokeh: injecting CSS: https://cdn.pydata.org/bokeh/release/bokeh-0.12.4.min.css\");\n",
       "      Bokeh.embed.inject_css(\"https://cdn.pydata.org/bokeh/release/bokeh-0.12.4.min.css\");\n",
       "      console.log(\"Bokeh: injecting CSS: https://cdn.pydata.org/bokeh/release/bokeh-widgets-0.12.4.min.css\");\n",
       "      Bokeh.embed.inject_css(\"https://cdn.pydata.org/bokeh/release/bokeh-widgets-0.12.4.min.css\");\n",
       "    }\n",
       "  ];\n",
       "\n",
       "  function run_inline_js() {\n",
       "    \n",
       "    if ((window.Bokeh !== undefined) || (force === true)) {\n",
       "      for (var i = 0; i < inline_js.length; i++) {\n",
       "        inline_js[i](window.Bokeh);\n",
       "      }} else if (Date.now() < window._bokeh_timeout) {\n",
       "      setTimeout(run_inline_js, 100);\n",
       "    } else if (!window._bokeh_failed_load) {\n",
       "      console.log(\"Bokeh: BokehJS failed to load within specified timeout.\");\n",
       "      window._bokeh_failed_load = true;\n",
       "    } else if (force !== true) {\n",
       "      var cell = $(document.getElementById(\"\")).parents('.cell').data().cell;\n",
       "      cell.output_area.append_execute_result(NB_LOAD_WARNING)\n",
       "    }\n",
       "\n",
       "  }\n",
       "\n",
       "  if (window._bokeh_is_loading === 0) {\n",
       "    console.log(\"Bokeh: BokehJS loaded, going straight to plotting\");\n",
       "    run_inline_js();\n",
       "  } else {\n",
       "    load_libs(js_urls, function() {\n",
       "      console.log(\"Bokeh: BokehJS plotting callback run at\", now());\n",
       "      run_inline_js();\n",
       "    });\n",
       "  }\n",
       "}(this));"
      ]
     },
     "metadata": {},
     "output_type": "display_data"
    }
   ],
   "source": [
    "%matplotlib inline\n",
    "from matplotlib import pyplot as plt\n",
    "\n",
    "import pandas as pd\n",
    "import seaborn as sns\n",
    "from textblob import TextBlob\n",
    "import statsmodels.formula.api as smf\n",
    "\n",
    "plt.rcParams['figure.figsize'] = (20,6)\n",
    "\n",
    "from bokeh.plotting import output_notebook, show\n",
    "output_notebook(hide_banner=True)\n",
    "\n",
    "from IPython.display import display, HTML\n",
    "def printb(*args):\n",
    "    s = \" \".join([str(x) for x in args])\n",
    "    display(HTML('<strong>%s</strong>' % s))\n",
    "\n",
    "hover_cols = ['episode_number', 'title', 'air_date', 'rating', 'rating_count']\n",
    "\n",
    "from analysis_utils import create_df\n",
    "from lib.analysis_utils import plot_interactive_timeseries"
   ]
  },
  {
   "cell_type": "markdown",
   "metadata": {
    "deletable": true,
    "editable": true
   },
   "source": [
    "## Load Data"
   ]
  },
  {
   "cell_type": "code",
   "execution_count": 2,
   "metadata": {
    "collapsed": false,
    "deletable": true,
    "editable": true
   },
   "outputs": [
    {
     "data": {
      "text/html": [
       "<div>\n",
       "<table border=\"1\" class=\"dataframe\">\n",
       "  <thead>\n",
       "    <tr style=\"text-align: right;\">\n",
       "      <th></th>\n",
       "      <th>season</th>\n",
       "      <th>episode_number</th>\n",
       "      <th>rating</th>\n",
       "      <th>rating_count</th>\n",
       "      <th>air_date</th>\n",
       "      <th>title</th>\n",
       "      <th>description</th>\n",
       "    </tr>\n",
       "  </thead>\n",
       "  <tbody>\n",
       "    <tr>\n",
       "      <th>0</th>\n",
       "      <td>1</td>\n",
       "      <td>1</td>\n",
       "      <td>7.4</td>\n",
       "      <td>101.0</td>\n",
       "      <td>2015-09-08</td>\n",
       "      <td>George Clooney/Governor Jeb Bush/Mavis Staples...</td>\n",
       "      <td>Stephen Colbert succeeds David Letterman as \"L...</td>\n",
       "    </tr>\n",
       "    <tr>\n",
       "      <th>1</th>\n",
       "      <td>1</td>\n",
       "      <td>2</td>\n",
       "      <td>7.4</td>\n",
       "      <td>62.0</td>\n",
       "      <td>2015-09-09</td>\n",
       "      <td>Scarlett Johansson/Elon Musk/Kendrick Lamar</td>\n",
       "      <td>Scarlett Johansson (Avengers: Age of Ultron (2...</td>\n",
       "    </tr>\n",
       "    <tr>\n",
       "      <th>2</th>\n",
       "      <td>1</td>\n",
       "      <td>3</td>\n",
       "      <td>8.2</td>\n",
       "      <td>71.0</td>\n",
       "      <td>2015-09-10</td>\n",
       "      <td>Vice President Joe Biden/Travis Kalanick/Toby ...</td>\n",
       "      <td>Vice President Joe Biden; Uber CEO Travis Kala...</td>\n",
       "    </tr>\n",
       "    <tr>\n",
       "      <th>3</th>\n",
       "      <td>1</td>\n",
       "      <td>4</td>\n",
       "      <td>7.3</td>\n",
       "      <td>45.0</td>\n",
       "      <td>2015-09-11</td>\n",
       "      <td>Amy Schumer/Stephen King/Troubled Waters</td>\n",
       "      <td>Amy Schumer (Trainwreck (2015)); author Stephe...</td>\n",
       "    </tr>\n",
       "    <tr>\n",
       "      <th>4</th>\n",
       "      <td>1</td>\n",
       "      <td>5</td>\n",
       "      <td>7.6</td>\n",
       "      <td>38.0</td>\n",
       "      <td>2015-09-14</td>\n",
       "      <td>Emily Blunt/Justice Stephen Breyer/The Dead We...</td>\n",
       "      <td>Actress Emily Blunt (Sicario (2015)); Supreme ...</td>\n",
       "    </tr>\n",
       "  </tbody>\n",
       "</table>\n",
       "</div>"
      ],
      "text/plain": [
       "   season  episode_number  rating  rating_count   air_date  \\\n",
       "0       1               1     7.4         101.0 2015-09-08   \n",
       "1       1               2     7.4          62.0 2015-09-09   \n",
       "2       1               3     8.2          71.0 2015-09-10   \n",
       "3       1               4     7.3          45.0 2015-09-11   \n",
       "4       1               5     7.6          38.0 2015-09-14   \n",
       "\n",
       "                                               title  \\\n",
       "0  George Clooney/Governor Jeb Bush/Mavis Staples...   \n",
       "1        Scarlett Johansson/Elon Musk/Kendrick Lamar   \n",
       "2  Vice President Joe Biden/Travis Kalanick/Toby ...   \n",
       "3           Amy Schumer/Stephen King/Troubled Waters   \n",
       "4  Emily Blunt/Justice Stephen Breyer/The Dead We...   \n",
       "\n",
       "                                         description  \n",
       "0  Stephen Colbert succeeds David Letterman as \"L...  \n",
       "1  Scarlett Johansson (Avengers: Age of Ultron (2...  \n",
       "2  Vice President Joe Biden; Uber CEO Travis Kala...  \n",
       "3  Amy Schumer (Trainwreck (2015)); author Stephe...  \n",
       "4  Actress Emily Blunt (Sicario (2015)); Supreme ...  "
      ]
     },
     "execution_count": 2,
     "metadata": {},
     "output_type": "execute_result"
    }
   ],
   "source": [
    "episodes = create_df()\n",
    "episodes.head()"
   ]
  },
  {
   "cell_type": "markdown",
   "metadata": {
    "deletable": true,
    "editable": true
   },
   "source": [
    "## Distribution of Rating and Rating Count"
   ]
  },
  {
   "cell_type": "markdown",
   "metadata": {
    "deletable": true,
    "editable": true
   },
   "source": [
    "Number of episodes with null rating (< 5 ratings)"
   ]
  },
  {
   "cell_type": "code",
   "execution_count": 3,
   "metadata": {
    "collapsed": false,
    "deletable": true,
    "editable": true
   },
   "outputs": [
    {
     "data": {
      "text/plain": [
       "33"
      ]
     },
     "execution_count": 3,
     "metadata": {},
     "output_type": "execute_result"
    }
   ],
   "source": [
    "episodes.rating.isnull().sum()"
   ]
  },
  {
   "cell_type": "code",
   "execution_count": 4,
   "metadata": {
    "collapsed": false,
    "deletable": true,
    "editable": true
   },
   "outputs": [
    {
     "data": {
      "text/html": [
       "<div>\n",
       "<table border=\"1\" class=\"dataframe\">\n",
       "  <thead>\n",
       "    <tr style=\"text-align: right;\">\n",
       "      <th></th>\n",
       "      <th>count</th>\n",
       "      <th>mean</th>\n",
       "      <th>std</th>\n",
       "      <th>min</th>\n",
       "      <th>25%</th>\n",
       "      <th>50%</th>\n",
       "      <th>75%</th>\n",
       "      <th>max</th>\n",
       "    </tr>\n",
       "  </thead>\n",
       "  <tbody>\n",
       "    <tr>\n",
       "      <th>rating</th>\n",
       "      <td>293.0</td>\n",
       "      <td>6.875427</td>\n",
       "      <td>0.747972</td>\n",
       "      <td>5.0</td>\n",
       "      <td>6.4</td>\n",
       "      <td>6.9</td>\n",
       "      <td>7.4</td>\n",
       "      <td>8.6</td>\n",
       "    </tr>\n",
       "    <tr>\n",
       "      <th>rating_count</th>\n",
       "      <td>293.0</td>\n",
       "      <td>11.262799</td>\n",
       "      <td>9.442465</td>\n",
       "      <td>5.0</td>\n",
       "      <td>7.0</td>\n",
       "      <td>9.0</td>\n",
       "      <td>12.0</td>\n",
       "      <td>101.0</td>\n",
       "    </tr>\n",
       "  </tbody>\n",
       "</table>\n",
       "</div>"
      ],
      "text/plain": [
       "              count       mean       std  min  25%  50%   75%    max\n",
       "rating        293.0   6.875427  0.747972  5.0  6.4  6.9   7.4    8.6\n",
       "rating_count  293.0  11.262799  9.442465  5.0  7.0  9.0  12.0  101.0"
      ]
     },
     "execution_count": 4,
     "metadata": {},
     "output_type": "execute_result"
    }
   ],
   "source": [
    "episodes[['rating', 'rating_count']].describe().T"
   ]
  },
  {
   "cell_type": "code",
   "execution_count": 5,
   "metadata": {
    "collapsed": false,
    "deletable": true,
    "editable": true
   },
   "outputs": [
    {
     "data": {
      "text/plain": [
       "<matplotlib.axes._subplots.AxesSubplot at 0x1113f82b0>"
      ]
     },
     "execution_count": 5,
     "metadata": {},
     "output_type": "execute_result"
    },
    {
     "data": {
      "image/png": "[encoded data removed]",
      "text/plain": [
       "<matplotlib.figure.Figure at 0x1113078d0>"
      ]
     },
     "metadata": {},
     "output_type": "display_data"
    }
   ],
   "source": [
    "fig, (ax1, ax2) = plt.subplots(ncols=2)\n",
    "\n",
    "episodes.rating.plot(kind='hist', bins=20, ax=ax1, title=\"Histogram of Ratings\")\n",
    "episodes.rating_count.plot(kind='hist', bins=20, ax=ax2, title=\"Histogram of Rating Counts\")"
   ]
  },
  {
   "cell_type": "markdown",
   "metadata": {
    "deletable": true,
    "editable": true
   },
   "source": [
    "## Ratings over Time"
   ]
  },
  {
   "cell_type": "code",
   "execution_count": 6,
   "metadata": {
    "collapsed": false,
    "deletable": true,
    "editable": true
   },
   "outputs": [
    {
     "name": "stderr",
     "output_type": "stream",
     "text": [
      "/Users/johria/.pyenv/versions/3.6.0/lib/python3.6/site-packages/bokeh/util/deprecation.py:34: BokehDeprecationWarning: Plot.logo was deprecated in Bokeh 0.12.0 and will be removed, use Plot.toolbar.logo instead.\n",
      "  warn(message)\n"
     ]
    },
    {
     "data": {
      "text/html": [
       "\n",
       "\n",
       "    <div class=\"bk-root\">\n",
       "        <div class=\"bk-plotdiv\" id=\"5e6eef68-4e1d-4df9-b7bd-7b24c5081df7\"></div>\n",
       "    </div>\n",
       "<script type=\"text/javascript\">\n",
       "  \n",
       "  (function(global) {\n",
       "    function now() {\n",
       "      return new Date();\n",
       "    }\n",
       "  \n",
       "    var force = false;\n",
       "  \n",
       "    if (typeof (window._bokeh_onload_callbacks) === \"undefined\" || force === true) {\n",
       "      window._bokeh_onload_callbacks = [];\n",
       "      window._bokeh_is_loading = undefined;\n",
       "    }\n",
       "  \n",
       "  \n",
       "    \n",
       "    if (typeof (window._bokeh_timeout) === \"undefined\" || force === true) {\n",
       "      window._bokeh_timeout = Date.now() + 0;\n",
       "      window._bokeh_failed_load = false;\n",
       "    }\n",
       "  \n",
       "    var NB_LOAD_WARNING = {'data': {'text/html':\n",
       "       \"<div style='background-color: #fdd'>\\n\"+\n",
       "       \"<p>\\n\"+\n",
       "       \"BokehJS does not appear to have successfully loaded. If loading BokehJS from CDN, this \\n\"+\n",
       "       \"may be due to a slow or bad network connection. Possible fixes:\\n\"+\n",
       "       \"</p>\\n\"+\n",
       "       \"<ul>\\n\"+\n",
       "       \"<li>re-rerun `output_notebook()` to attempt to load from CDN again, or</li>\\n\"+\n",
       "       \"<li>use INLINE resources instead, as so:</li>\\n\"+\n",
       "       \"</ul>\\n\"+\n",
       "       \"<code>\\n\"+\n",
       "       \"from bokeh.resources import INLINE\\n\"+\n",
       "       \"output_notebook(resources=INLINE)\\n\"+\n",
       "       \"</code>\\n\"+\n",
       "       \"</div>\"}};\n",
       "  \n",
       "    function display_loaded() {\n",
       "      if (window.Bokeh !== undefined) {\n",
       "        document.getElementById(\"5e6eef68-4e1d-4df9-b7bd-7b24c5081df7\").textContent = \"BokehJS successfully loaded.\";\n",
       "      } else if (Date.now() < window._bokeh_timeout) {\n",
       "        setTimeout(display_loaded, 100)\n",
       "      }\n",
       "    }\n",
       "  \n",
       "    function run_callbacks() {\n",
       "      window._bokeh_onload_callbacks.forEach(function(callback) { callback() });\n",
       "      delete window._bokeh_onload_callbacks\n",
       "      console.info(\"Bokeh: all callbacks have finished\");\n",
       "    }\n",
       "  \n",
       "    function load_libs(js_urls, callback) {\n",
       "      window._bokeh_onload_callbacks.push(callback);\n",
       "      if (window._bokeh_is_loading > 0) {\n",
       "        console.log(\"Bokeh: BokehJS is being loaded, scheduling callback at\", now());\n",
       "        return null;\n",
       "      }\n",
       "      if (js_urls == null || js_urls.length === 0) {\n",
       "        run_callbacks();\n",
       "        return null;\n",
       "      }\n",
       "      console.log(\"Bokeh: BokehJS not loaded, scheduling load and callback at\", now());\n",
       "      window._bokeh_is_loading = js_urls.length;\n",
       "      for (var i = 0; i < js_urls.length; i++) {\n",
       "        var url = js_urls[i];\n",
       "        var s = document.createElement('script');\n",
       "        s.src = url;\n",
       "        s.async = false;\n",
       "        s.onreadystatechange = s.onload = function() {\n",
       "          window._bokeh_is_loading--;\n",
       "          if (window._bokeh_is_loading === 0) {\n",
       "            console.log(\"Bokeh: all BokehJS libraries loaded\");\n",
       "            run_callbacks()\n",
       "          }\n",
       "        };\n",
       "        s.onerror = function() {\n",
       "          console.warn(\"failed to load library \" + url);\n",
       "        };\n",
       "        console.log(\"Bokeh: injecting script tag for BokehJS library: \", url);\n",
       "        document.getElementsByTagName(\"head\")[0].appendChild(s);\n",
       "      }\n",
       "    };var element = document.getElementById(\"5e6eef68-4e1d-4df9-b7bd-7b24c5081df7\");\n",
       "    if (element == null) {\n",
       "      console.log(\"Bokeh: ERROR: autoload.js configured with elementid '5e6eef68-4e1d-4df9-b7bd-7b24c5081df7' but no matching script tag was found. \")\n",
       "      return false;\n",
       "    }\n",
       "  \n",
       "    var js_urls = [];\n",
       "  \n",
       "    var inline_js = [\n",
       "      function(Bokeh) {\n",
       "        (function() {\n",
       "          var fn = function() {\n",
       "            var docs_json = {\"245a3525-f46f-4ec7-a577-2ae12bfb8c3a\":{\"roots\":{\"references\":[{\"attributes\":{\"callback\":null,\"plot\":{\"id\":\"f79ec487-7f05-4f76-bcae-dde076698430\",\"subtype\":\"Figure\",\"type\":\"Plot\"},\"tooltips\":[[\"episode_number\",\"@episode_number\"],[\"title\",\"@title\"],[\"air_date\",\"@air_date_str\"],[\"rating\",\"@rating{1.11}\"],[\"rating_count\",\"@rating_count{1.11}\"]]},\"id\":\"309df00f-3848-479c-87d2-7eca9856561b\",\"type\":\"HoverTool\"},{\"attributes\":{\"days\":[1,8,15,22]},\"id\":\"a67bb7a4-2c22-4fb6-a724-c4134d7f43cf\",\"type\":\"DaysTicker\"},{\"attributes\":{\"days\":[1,15]},\"id\":\"d251f1f6-8288-4dc0-9dd6-11fa3780883d\",\"type\":\"DaysTicker\"},{\"attributes\":{\"callback\":null,\"column_names\":[\"episode_number\",\"title\",\"air_date\",\"rating\",\"rating_count\",\"index\",\"air_date_str\"],\"data\":{\"air_date\":[1441670400000.0,1441756800000.0,1441843200000.0,1441929600000.0,1442188800000.0,1442275200000.0,1442361600000.0,1442448000000.0,1442534400000.0,1442793600000.0,1442880000000.0,1442966400000.0,1443052800000.0,1443139200000.0,1443398400000.0,1443484800000.0,1443571200000.0,1443657600000.0,1443744000000.0,1444003200000.0,1444089600000.0,1444176000000.0,1444262400000.0,1444348800000.0,1444608000000.0,1444694400000.0,1444780800000.0,1444867200000.0,1444953600000.0,1445817600000.0,1445904000000.0,1445990400000.0,1446076800000.0,1446163200000.0,1446422400000.0,1446508800000.0,1446595200000.0,1446681600000.0,1446768000000.0,1447027200000.0,1447113600000.0,1447200000000.0,1447286400000.0,1447372800000.0,1447632000000.0,1447718400000.0,1447804800000.0,1447891200000.0,1447977600000.0,1448236800000.0,1448323200000.0,1448409600000.0,1449446400000.0,1449532800000.0,1449619200000.0,1449705600000.0,1449792000000.0,1450051200000.0,1450137600000.0,1450224000000.0,1450310400000.0,1450396800000.0,1451865600000.0,1451952000000.0,1452038400000.0,1452124800000.0,1452211200000.0,1452470400000.0,1452556800000.0,1452643200000.0,1452729600000.0,1452816000000.0,1453075200000.0,1453161600000.0,1453248000000.0,1453334400000.0,1453420800000.0,1453680000000.0,1453766400000.0,1453852800000.0,1453939200000.0,1454284800000.0,1454371200000.0,1454457600000.0,1454544000000.0,1454630400000.0,1454803200000.0,1454889600000.0,1454976000000.0,1455062400000.0,1455148800000.0,1455494400000.0,1455580800000.0,1455667200000.0,1455753600000.0,1455840000000.0,1456099200000.0,1456185600000.0,1456272000000.0,1456358400000.0,1456704000000.0,1456790400000.0,1456876800000.0,1456963200000.0,1457308800000.0,1457395200000.0,1457481600000.0,1457568000000.0,1457654400000.0,1457913600000.0,1458000000000.0,1458086400000.0,1458172800000.0,1459123200000.0,1459209600000.0,1459296000000.0,1459382400000.0,1459468800000.0,1459728000000.0,1459814400000.0,1459900800000.0,1459987200000.0,1460937600000.0,1461024000000.0,1461110400000.0,1461196800000.0,1461283200000.0,1461542400000.0,1461628800000.0,1461715200000.0,1461801600000.0,1461888000000.0,1462147200000.0,1462233600000.0,1462320000000.0,1462406400000.0,1462492800000.0,1462752000000.0,1462838400000.0,1462924800000.0,1463011200000.0,1463097600000.0,1463356800000.0,1463443200000.0,1463529600000.0,1463616000000.0,1463702400000.0,1463961600000.0,1464048000000.0,1464134400000.0,1464220800000.0,1464307200000.0,1465171200000.0,1465257600000.0,1465344000000.0,1465430400000.0,1465516800000.0,1465776000000.0,1465862400000.0,1465948800000.0,1466035200000.0,1466121600000.0,1466380800000.0,1466467200000.0,1466553600000.0,1466640000000.0,1466726400000.0,1466985600000.0,1467072000000.0,1467158400000.0,1467244800000.0,1467331200000.0,1468195200000.0,1468281600000.0,1468368000000.0,1468454400000.0,1468540800000.0,1468800000000.0,1468886400000.0,1468972800000.0,1469059200000.0,1469145600000.0,1469404800000.0,1469491200000.0,1469577600000.0,1469664000000.0,1469750400000.0,1470009600000.0,1470096000000.0,1470182400000.0,1470268800000.0,1470355200000.0,1471824000000.0,1471910400000.0,1471996800000.0,1472083200000.0,1472169600000.0,1472428800000.0,1472515200000.0,1472601600000.0,1472688000000.0,1472774400000.0,1473120000000.0,1473206400000.0,1473292800000.0,1473379200000.0,1473638400000.0,1473724800000.0,1473811200000.0,1473897600000.0,1473984000000.0,1474243200000.0,1474329600000.0,1474416000000.0,1474502400000.0,1474588800000.0,1474848000000.0,1474934400000.0,1475020800000.0,1475107200000.0,1475193600000.0,1475452800000.0,1475539200000.0,1475625600000.0,1475712000000.0,1475798400000.0,1476662400000.0,1476748800000.0,1476835200000.0,1476921600000.0,1477008000000.0,1477267200000.0,1477353600000.0,1477440000000.0,1477526400000.0,1477612800000.0,1477872000000.0,1477958400000.0,1478044800000.0,1478131200000.0,1478217600000.0,1478476800000.0,1478649600000.0,1478736000000.0,1479081600000.0,1479168000000.0,1479254400000.0,1479427200000.0,1479686400000.0,1479772800000.0,1480896000000.0,1480982400000.0,1481068800000.0,1481846400000.0,1483401600000.0,1483488000000.0,1483660800000.0,1484006400000.0,1484092800000.0,1484265600000.0,1484524800000.0,1484784000000.0,1484870400000.0,1485734400000.0,1485820800000.0,1485907200000.0,1486080000000.0,1486339200000.0,1486425600000.0,1486684800000.0,1486944000000.0,1487030400000.0,1487116800000.0,1487203200000.0,1487548800000.0,1487635200000.0,1487808000000.0,1487894400000.0,1488153600000.0,1488240000000.0,1488758400000.0,1488844800000.0,1489363200000.0,1489449600000.0,1489968000000.0,1490054400000.0,1490140800000.0,1490572800000.0,1490659200000.0,1490745600000.0,1490832000000.0,1490918400000.0,1491177600000.0],\"air_date_str\":[\"09/08/15\",\"09/09/15\",\"09/10/15\",\"09/11/15\",\"09/14/15\",\"09/15/15\",\"09/16/15\",\"09/17/15\",\"09/18/15\",\"09/21/15\",\"09/22/15\",\"09/23/15\",\"09/24/15\",\"09/25/15\",\"09/28/15\",\"09/29/15\",\"09/30/15\",\"10/01/15\",\"10/02/15\",\"10/05/15\",\"10/06/15\",\"10/07/15\",\"10/08/15\",\"10/09/15\",\"10/12/15\",\"10/13/15\",\"10/14/15\",\"10/15/15\",\"10/16/15\",\"10/26/15\",\"10/27/15\",\"10/28/15\",\"10/29/15\",\"10/30/15\",\"11/02/15\",\"11/03/15\",\"11/04/15\",\"11/05/15\",\"11/06/15\",\"11/09/15\",\"11/10/15\",\"11/11/15\",\"11/12/15\",\"11/13/15\",\"11/16/15\",\"11/17/15\",\"11/18/15\",\"11/19/15\",\"11/20/15\",\"11/23/15\",\"11/24/15\",\"11/25/15\",\"12/07/15\",\"12/08/15\",\"12/09/15\",\"12/10/15\",\"12/11/15\",\"12/14/15\",\"12/15/15\",\"12/16/15\",\"12/17/15\",\"12/18/15\",\"01/04/16\",\"01/05/16\",\"01/06/16\",\"01/07/16\",\"01/08/16\",\"01/11/16\",\"01/12/16\",\"01/13/16\",\"01/14/16\",\"01/15/16\",\"01/18/16\",\"01/19/16\",\"01/20/16\",\"01/21/16\",\"01/22/16\",\"01/25/16\",\"01/26/16\",\"01/27/16\",\"01/28/16\",\"02/01/16\",\"02/02/16\",\"02/03/16\",\"02/04/16\",\"02/05/16\",\"02/07/16\",\"02/08/16\",\"02/09/16\",\"02/10/16\",\"02/11/16\",\"02/15/16\",\"02/16/16\",\"02/17/16\",\"02/18/16\",\"02/19/16\",\"02/22/16\",\"02/23/16\",\"02/24/16\",\"02/25/16\",\"02/29/16\",\"03/01/16\",\"03/02/16\",\"03/03/16\",\"03/07/16\",\"03/08/16\",\"03/09/16\",\"03/10/16\",\"03/11/16\",\"03/14/16\",\"03/15/16\",\"03/16/16\",\"03/17/16\",\"03/28/16\",\"03/29/16\",\"03/30/16\",\"03/31/16\",\"04/01/16\",\"04/04/16\",\"04/05/16\",\"04/06/16\",\"04/07/16\",\"04/18/16\",\"04/19/16\",\"04/20/16\",\"04/21/16\",\"04/22/16\",\"04/25/16\",\"04/26/16\",\"04/27/16\",\"04/28/16\",\"04/29/16\",\"05/02/16\",\"05/03/16\",\"05/04/16\",\"05/05/16\",\"05/06/16\",\"05/09/16\",\"05/10/16\",\"05/11/16\",\"05/12/16\",\"05/13/16\",\"05/16/16\",\"05/17/16\",\"05/18/16\",\"05/19/16\",\"05/20/16\",\"05/23/16\",\"05/24/16\",\"05/25/16\",\"05/26/16\",\"05/27/16\",\"06/06/16\",\"06/07/16\",\"06/08/16\",\"06/09/16\",\"06/10/16\",\"06/13/16\",\"06/14/16\",\"06/15/16\",\"06/16/16\",\"06/17/16\",\"06/20/16\",\"06/21/16\",\"06/22/16\",\"06/23/16\",\"06/24/16\",\"06/27/16\",\"06/28/16\",\"06/29/16\",\"06/30/16\",\"07/01/16\",\"07/11/16\",\"07/12/16\",\"07/13/16\",\"07/14/16\",\"07/15/16\",\"07/18/16\",\"07/19/16\",\"07/20/16\",\"07/21/16\",\"07/22/16\",\"07/25/16\",\"07/26/16\",\"07/27/16\",\"07/28/16\",\"07/29/16\",\"08/01/16\",\"08/02/16\",\"08/03/16\",\"08/04/16\",\"08/05/16\",\"08/22/16\",\"08/23/16\",\"08/24/16\",\"08/25/16\",\"08/26/16\",\"08/29/16\",\"08/30/16\",\"08/31/16\",\"09/01/16\",\"09/02/16\",\"09/06/16\",\"09/07/16\",\"09/08/16\",\"09/09/16\",\"09/12/16\",\"09/13/16\",\"09/14/16\",\"09/15/16\",\"09/16/16\",\"09/19/16\",\"09/20/16\",\"09/21/16\",\"09/22/16\",\"09/23/16\",\"09/26/16\",\"09/27/16\",\"09/28/16\",\"09/29/16\",\"09/30/16\",\"10/03/16\",\"10/04/16\",\"10/05/16\",\"10/06/16\",\"10/07/16\",\"10/17/16\",\"10/18/16\",\"10/19/16\",\"10/20/16\",\"10/21/16\",\"10/24/16\",\"10/25/16\",\"10/26/16\",\"10/27/16\",\"10/28/16\",\"10/31/16\",\"11/01/16\",\"11/02/16\",\"11/03/16\",\"11/04/16\",\"11/07/16\",\"11/09/16\",\"11/10/16\",\"11/14/16\",\"11/15/16\",\"11/16/16\",\"11/18/16\",\"11/21/16\",\"11/22/16\",\"12/05/16\",\"12/06/16\",\"12/07/16\",\"12/16/16\",\"01/03/17\",\"01/04/17\",\"01/06/17\",\"01/10/17\",\"01/11/17\",\"01/13/17\",\"01/16/17\",\"01/19/17\",\"01/20/17\",\"01/30/17\",\"01/31/17\",\"02/01/17\",\"02/03/17\",\"02/06/17\",\"02/07/17\",\"02/10/17\",\"02/13/17\",\"02/14/17\",\"02/15/17\",\"02/16/17\",\"02/20/17\",\"02/21/17\",\"02/23/17\",\"02/24/17\",\"02/27/17\",\"02/28/17\",\"03/06/17\",\"03/07/17\",\"03/13/17\",\"03/14/17\",\"03/20/17\",\"03/21/17\",\"03/22/17\",\"03/27/17\",\"03/28/17\",\"03/29/17\",\"03/30/17\",\"03/31/17\",\"04/03/17\"],\"episode_number\":[1,2,3,4,5,6,7,8,9,10,11,12,13,14,15,16,17,18,19,20,21,22,23,24,25,26,27,28,29,30,31,32,33,34,35,36,37,38,39,40,41,42,43,44,45,46,47,48,49,50,51,52,53,54,55,56,57,58,59,60,61,62,63,64,65,66,67,68,69,70,71,72,73,74,75,76,77,78,79,80,81,82,83,84,85,86,87,88,89,90,91,92,93,94,95,96,97,98,99,100,101,102,103,104,105,106,107,108,109,110,111,112,113,114,115,116,117,118,119,120,121,122,123,124,125,126,127,128,129,130,131,132,133,134,135,136,137,138,139,140,141,142,143,144,145,146,147,148,149,150,151,152,153,154,155,156,157,158,159,160,161,162,163,164,165,166,167,168,169,170,171,172,173,174,175,176,177,178,179,180,181,182,183,184,185,186,187,188,189,190,191,192,193,194,195,196,197,198,199,200,201,202,1,2,3,4,5,6,7,8,9,10,11,12,13,14,15,16,17,18,19,20,21,22,23,24,25,26,27,28,29,30,31,32,33,34,35,36,37,38,39,40,41,42,43,44,45,47,48,49,54,55,56,63,69,70,72,74,75,77,78,81,82,83,84,85,87,88,89,92,93,94,95,96,98,99,101,102,103,104,108,109,113,114,116,117,118,119,120,121,122,123,124],\"index\":[0,1,2,3,4,5,6,7,8,9,10,11,12,13,14,15,16,17,18,19,20,21,22,23,24,25,26,27,28,29,30,31,32,33,34,35,36,37,38,39,40,41,42,43,44,45,46,47,48,49,50,51,52,53,54,55,56,57,58,59,60,61,62,63,64,65,66,67,68,69,70,71,72,73,74,75,76,77,78,79,80,81,82,83,84,85,86,87,88,89,90,91,92,93,94,95,96,97,98,99,100,101,102,103,104,105,106,107,108,109,110,111,112,113,114,115,116,117,118,119,120,121,122,123,124,125,126,127,128,129,130,131,132,133,134,135,136,137,138,139,140,141,142,143,144,145,146,147,148,149,150,151,152,153,154,155,156,157,158,159,160,161,162,163,164,165,166,167,168,169,170,171,172,173,174,175,176,177,178,179,180,181,182,183,184,185,186,187,188,189,190,191,192,193,194,195,196,197,198,199,200,201,202,203,204,205,206,207,208,209,210,211,212,213,214,215,216,217,218,219,220,221,222,223,224,225,226,227,228,229,230,231,232,233,234,235,236,237,238,239,240,241,242,243,244,245,246,248,249,250,255,256,257,264,270,271,273,275,276,278,279,282,283,284,285,286,288,289,290,293,294,295,296,297,299,300,302,303,304,305,309,310,314,315,317,318,319,320,321,322,323,324,325],\"rating\":[7.4,7.4,8.2,7.3,7.6,7.6,7.8,7.4,8.0,7.7,7.8,7.3,7.0,7.4,6.9,7.0,7.6,6.5,7.3,7.6,7.0,7.1,7.4,7.2,7.5,7.5,7.6,6.8,8.0,6.7,7.5,7.3,7.7,6.8,6.9,7.2,7.9,7.3,6.8,6.4,7.1,7.0,6.8,6.9,7.6,7.2,6.9,7.5,7.7,7.5,6.5,6.5,6.6,7.1,6.1,7.4,6.9,6.8,7.4,6.7,7.2,6.9,6.7,6.8,7.2,6.6,6.9,6.3,6.4,6.4,6.8,6.9,6.8,6.9,7.6,6.9,7.3,7.2,6.9,6.7,7.0,7.0,6.5,5.8,7.0,6.9,7.0,6.6,6.9,7.5,6.7,6.6,6.3,6.6,6.6,5.1,6.4,6.6,7.0,6.7,7.6,6.3,7.0,6.9,6.3,7.0,6.8,6.6,5.7,7.2,6.5,6.6,7.0,6.7,5.9,7.3,7.1,7.3,6.5,5.7,6.5,5.8,7.4,7.4,7.6,6.3,7.0,6.7,5.9,6.6,6.4,7.4,6.4,6.6,6.4,6.1,5.0,5.9,6.0,6.8,7.1,5.4,5.6,5.6,5.2,5.8,5.4,6.2,6.0,5.7,5.7,5.6,5.7,6.0,5.9,6.8,6.6,6.4,6.1,5.6,6.6,5.6,6.1,5.9,5.6,6.0,5.7,5.6,6.2,6.0,6.3,5.9,6.1,5.6,6.0,5.8,5.8,7.9,7.8,7.4,8.1,7.2,7.3,7.5,7.5,6.9,6.0,7.4,7.2,6.6,6.9,7.4,6.8,7.1,7.0,7.2,7.0,8.2,7.0,8.2,6.9,8.0,6.2,6.6,6.3,6.0,6.8,7.0,6.5,5.9,6.1,6.3,6.6,6.2,6.1,7.1,6.1,6.2,6.1,6.0,6.1,6.0,5.9,5.9,6.8,6.6,6.5,6.8,5.7,7.0,6.8,6.8,7.0,7.2,7.0,6.6,6.6,6.6,6.6,6.1,5.3,7.0,6.9,6.8,6.1,6.7,5.6,6.4,6.4,6.4,6.6,7.6,8.0,7.4,6.6,8.3,7.4,7.8,8.3,7.8,8.2,8.2,8.6,8.2,7.8,8.2,7.8,8.2,8.5,8.0,7.0,7.4,7.0,7.6,7.8,7.0,8.2,7.6,8.4,7.6,8.1,8.5,7.6,8.2,8.4,8.5,7.8,8.6,7.8,7.9,6.8,7.8,7.4],\"rating_count\":[101.0,62.0,71.0,45.0,38.0,35.0,38.0,34.0,40.0,34.0,36.0,29.0,26.0,27.0,21.0,23.0,23.0,21.0,23.0,21.0,23.0,11.0,17.0,18.0,17.0,19.0,16.0,17.0,22.0,15.0,18.0,15.0,22.0,16.0,14.0,18.0,20.0,18.0,15.0,14.0,18.0,14.0,11.0,17.0,21.0,15.0,13.0,11.0,16.0,13.0,11.0,11.0,12.0,14.0,11.0,13.0,11.0,13.0,14.0,15.0,12.0,9.0,10.0,9.0,10.0,11.0,11.0,9.0,10.0,9.0,12.0,9.0,9.0,10.0,14.0,9.0,10.0,12.0,9.0,11.0,11.0,10.0,11.0,12.0,11.0,8.0,14.0,9.0,11.0,16.0,10.0,8.0,12.0,7.0,7.0,11.0,9.0,8.0,8.0,9.0,9.0,11.0,9.0,8.0,9.0,11.0,11.0,12.0,9.0,10.0,10.0,10.0,11.0,12.0,15.0,9.0,10.0,12.0,8.0,12.0,13.0,8.0,9.0,10.0,5.0,11.0,8.0,6.0,7.0,12.0,7.0,5.0,9.0,11.0,10.0,8.0,8.0,8.0,11.0,11.0,15.0,7.0,8.0,9.0,9.0,9.0,10.0,9.0,8.0,7.0,7.0,7.0,7.0,8.0,7.0,5.0,9.0,8.0,8.0,7.0,9.0,5.0,8.0,9.0,7.0,7.0,7.0,8.0,5.0,8.0,9.0,9.0,8.0,8.0,9.0,10.0,8.0,19.0,12.0,10.0,22.0,8.0,11.0,10.0,10.0,8.0,9.0,9.0,11.0,8.0,7.0,10.0,12.0,9.0,9.0,8.0,7.0,6.0,9.0,5.0,7.0,5.0,9.0,9.0,11.0,7.0,5.0,13.0,8.0,7.0,7.0,9.0,10.0,8.0,7.0,11.0,8.0,8.0,8.0,7.0,9.0,7.0,7.0,7.0,9.0,5.0,8.0,5.0,9.0,5.0,5.0,9.0,5.0,5.0,5.0,5.0,5.0,7.0,5.0,7.0,7.0,6.0,7.0,5.0,9.0,6.0,8.0,5.0,7.0,5.0,5.0,7.0,5.0,5.0,5.0,6.0,5.0,5.0,7.0,5.0,5.0,5.0,9.0,8.0,6.0,6.0,5.0,5.0,10.0,6.0,7.0,7.0,7.0,5.0,5.0,5.0,5.0,7.0,8.0,7.0,7.0,6.0,5.0,5.0,5.0,6.0,5.0,5.0,5.0,9.0,5.0,5.0,5.0],\"title\":[\"George Clooney/Governor Jeb Bush/Mavis Staples & Friends\",\"Scarlett Johansson/Elon Musk/Kendrick Lamar\",\"Vice President Joe Biden/Travis Kalanick/Toby Keith\",\"Amy Schumer/Stephen King/Troubled Waters\",\"Emily Blunt/Justice Stephen Breyer/The Dead Weather\",\"Jake Gyllenhaal/Apple CEO Tim Cook/Run the Jewels & TV on the Radio\",\"Kevin Spacey/Carol Burnett/Abbi Jacobson & Ilana Glazer/Willie Nelson & John Mellencamp\",\"Trevor Noah/Ban Ki-Moon/Chris Stapleton\",\"Lupita Nyong'o/Sen. Bernie Sanders/Cast of \\\"An American in Paris\\\"\",\"Steph Curry/Sen. Ted Cruz/Don Henley\",\"Donald Trump/Ernest Moniz/Raury\",\"Hugh Jackman/Sen. Elizabeth Warren/Pearl Jam\",\"Andrew Sullivan/Maria Shriver/Jim Gaffigan/Archbishop Thomas Wenski\",\"Malala Yousafzai/Kerry Washington/The Arcs\",\"Michelle Obama/Mindy Kaling/John Legend\",\"Ellen Page/Jesse Eisenberg/Dominic Wilcox\",\"Elizabeth Gilbert/John Oliver/Evan Spiegel/Bill Withers/Ed Sheeran\",\"Secretary of State John Kerry/Claire Danes/PewDiePie\",\"Morgan Freeman/Ruth Wilson/Sean Murray\",\"John McCain/Yo-Yo Ma/Misty Copeland\",\"Bill Clinton/Billy Eichner/Florence and the Machine\",\"Gina Rodriguez/Ben Bernanke/Tame Impala\",\"Cate Blanchett/Airbnb CEO Brian Chesky\",\"James Corden/Shane Smith/Halsey\",\"Carey Mulligan/Elvis Costello/Darlene Love\",\"Sarah Silverman/Elijah Wood/The Legends of Zelda: Symphony of the Goddesses\",\"Jack Black/Nick Woodman/Michelle Dorrance\",\"Oprah Winfrey/Joseph Fink & Jeffrey Cranor/Judith Hill\",\"Jimmy Kimmel/\\\"Crimson Peak\\\" Cast/Beach House\",\"Sienna Miller/Melissa Benoist/Chance the Rapper\",\"Hillary Clinton/Anthony Bourdain/Carrie Brownstein/Lianne La Navas\",\"Julianna Margulies/Jonathan Franzen/Alabama Shakes\",\"Seth MacFarlane/Neil DeGrasse Tyson\",\"Charlie Rose/Stacy Schiff/Ghost/The Zombies\",\"Allison Janney/Colin Quinn/Margaret Cho\",\"Antonio Banderas/Reed Hastings/John Irving\",\"Daniel Craig/Elizabeth Gilbert/Dr. Eugenia Cheng\",\"Bryan Cranston/Karl Ove Knausgaard/Shamir\",\"Whoopi Goldberg/Gov. John Kasich/Glen Hansard\",\"Ethan Hawke/Sen. Claire McCaskill & Sen. Amy Klobuchar/Nathaniel Ratcliff & the Night Sweats\",\"Aziz Ansari/Shonda Rhimes/Bruce Campbell & Lucy Lawless\",\"Viola Davis/Brian Greene/George Ezra\",\"Jennifer Connelly/Judd Apatow/The Internet\",\"Mark Ruffalo/John Cleese/Micheal Flatley\",\"Capt. Florent Groberg/Bill Maher/Shepard Fairey/The Acro-Cats\",\"Julianne Moore/Burt Reynolds/Public Image Ltd./CeeLo Green\",\"Sharon Stone/Justin Theroux/James Taylor\",\"Jane Fonda/Andrew Lloyd Webber/Brandon Niederauer\",\"Michael Caine/Larry Wilmore/Boots/Vulfpeck\",\"Sylvester Stallone/Ted Koppel/My Morning Jacket\",\"Spike Lee/Andy Cohen/Carly Simon\",\"Gloria Estefan/Navy Seal Eric Greitens/Jake Wood/Chef Daniel Boulud\",\"Steve Carell/Jennifer Hudson\",\"Marion Cotillard/George Saunders/Joanna Newsom\",\"Cast of \\\"Downton Abbey\\\"/Adam McKay/Kurt Vile\",\"Bruce Willis/Michael Lewis/Lizzo\",\"Lin-Manuel Miranda/Ike Barinholtz/Sharon Jones & the Dap Kings\",\"Jennifer Lawrence/Doris Kearns Goodwin/Sleater-Kinney\",\"Quentin Tarantino/Jonathan Groff/Squeeze\",\"Robert De Niro/Daniel Gilbert/Henry Rollins\",\"Michael Moore/Samantha Power/Michael C. Hall\",\"Mandy Patinkin/Kayvon Beykpour/Leon Bridges\",\"Samuel L. Jackson/Olivia Hallisey/Foals\",\"John Krasinski/Killer Mike/George Church/Foals\",\"Jerry Seinfeld/Sen. Rand Paul/Andra Day\",\"Damian Lewis/America Ferrera/FloydLittle's Double Dutch Team\",\"Matthew Broderick/Sarah Parcak/Kacey Musgraves\",\"Jane Lynch/HUD Secretary Julian Castro/EL VY\",\"Saoirse Ronan/Jeremy Stoppelman/Laura Ricciardi & Moira Demos/James Bay\",\"Paul Giamatti/Guerilla Girls/J.B. Mauney\",\"Olivia Munn/T.J. Miller/Father John Misty\",\"Scott Kelly/Abby Wambach/Maria Bamford\",\"Patricia Heaton/Quincy Jones/DeRay Mckesson/Grace\",\"Charlie Day/Colin Hanks/Margo Price\",\"James Spader/Brandon Marshall/Sarah Koenig/Rev Run\",\"Christian Slater/Josh Radnor/Iggy Pop\",\"Steven Tyler/Gaby Hoffmann/Lapsley\",\"Donald Rumsfeld/Russell Westbrook/Anderson Paak & the Free Nationals\",\"Laurence Fishburne/Sarah Paulson/Woke\",\"Chris Pine/Danielle Brooks/Jonah Reider/Baauer\",\"Josh Brolin/John Dickerson/Erin Brockovich/Aubrie Sellers\",\"John Travolta & Courtney B. Vance/Amy Cuddy/John Moreland\",\"David Schwimmer/Pastor Joel Osteen/M. Ward\",\"Dr. Phil McGraw/Mark & Jay Duplass/Michael Eric Dyson/Anderson Paak & the Free Nationals\",\"Michael Strahan/Samantha Bee/Wilco\",\"Bobby Cannavale/Donny Deutsch/Charles Kelley\",\"Tina Fey & Margot Robbie/Will Ferrell/Megyn Kelly/Keegan-Michael Key & Jordan Peele\",\"Bill O'Reilly/Eddie George/Macklemore & Ryan Lewis\",\"Olivia Wilde/Christiane Amanpour\",\"Ben Stiller/Sen. Bernie Sanders/TAO: Seventeen Samurai\",\"Kelsey Grammer/Fred Armisen/Sarah McDaniel/Ty Segall & the Muggers\",\"Craig Ferguson/Hailey Clauson & Ashley Graham/Cory Booker\",\"Eva Longoria/Abbi Jacobson & Ilana Glazer/Lucinda Williams\",\"Kate Hudson/Governor John Kasich/Courtney Barnett\",\"T\\u00e9a Leoni/Amanda Peet/Triumph the Insult Comic Dog\",\"Chelsea Handler/Zosia Mamet/The Lumineers\",\"Casey Affleck/Richard Dreyfuss/Mavis Staples\",\"Debra Messing/Zachary Quinto/Violent Femmes\",\"Adrien Brody/Danai Gurira/Brian Greene\",\"Tim Daly/Krysten Ritter/Jason Isbell\",\"Spike Jonze/Jeffrey Dean Morgan/Jack Garratt\",\"Chrissy Teigen/Mike Birbiglia/Adam Savage\",\"Octavia Spencer/John Stamos, Bob Saget & Dave Coulier/Lucius\",\"Christopher Meloni/Edward Byers/Ray LaMontagne\",\"Will Arnett/Charles Barkley/Max Greenfield\",\"Helen Mirren/J.J. Abrams/DMA's\",\"Sally Field/Jerrod Carmichael/Esperanza Spalding\",\"Anna Kendrick/Loretta Lynch/Brian Fallon\",\"Jeff Daniels/Audra McDonald/Mary Elizabeth Winstead\",\"John Oliver/Jordan Spieth/New Order\",\"Steve Martin & Edie Brickell/Shirley MacLaine/Gustavo Dudamel/Los Angeles Philharmonic\",\"Theo James/Jussie Smollett/Laurie Anderson\",\"William H. Macy/Melissa Rauch/Isaac Mizrahi\",\"Tom Hiddleston/Laura Benanti/Frightened Rabbit\",\"Adam Driver/Rachel Bloom/Savages\",\"Eric Stonestreet/Jason Jones/Sen. Elizabeth Warren\",\"Sarah Paulson/Tatiana Maslany/Wynton Marsalis, Lil Buck & Jared Grimes\",\"Steve Buscemi/Benjamin Walker/Cast of Broadway's \\\"American Psycho\\\"\",\"Matthew Perry/Nick Offerman/Explosions in the Sky\",\"Melissa McCarthy & Ben Falcone/Arianna Huffington/Babymetal\",\"Anna Kendrick & Sam Rockwell/David Duchovny/Autolux\",\"Mindy Kaling/Tituss Burgess/Ken Burns\",\"Hillary Clinton/Jesse Tyler Ferguson/Katharine McPhee/Sturgill Simpson\",\"Kevin Spacey/Thomas Middleditch/The Flaming Lips\",\"Dennis Quaid/Matt Walsh/Charles Bradley\",\"Tom Hanks/Leslie Odom, Jr./The Strumbellas/Roy Haynes\",\"Julia Louis-Dreyfus/Nikolaj Coster-Waldau/Sam Morril\",\"Michelle Williams/Eddie Huang/Bob Mould\",\"J. K. Simmons/Jane Krakowski/Chris Wallace\",\"Susan Sarandon/David Tennant/Catfish & the Bottlemen\",\"Julianna Margulies, Christine Baranski & Matt Czuchry/Hank Azaria/Anderson Cooper\",\"Anderson Cooper/Mark Feuerstein/Gwen Stefani\",\"Bill O'Reilly/Morris Chestnut/Deerhunter\",\"Dakota Johnson/Sebastian Stan/Lukas Nelson & Promise of the Real\",\"Anthony Mackie/Rob Reiner/Maxwell\",\"Judy Sheindlin/Zac Posen/W. Kamau Bell\",\"Lily Tomlin/Kumail Nanjiani/Ryan Hamilton\",\"Kaley Cuoco/Dan Savage/The National\",\"Chloe Grace Moretz/Katie Couric/Brian Green/Charlamagne Tha God\",\"Kate Beckinsale/B.J. Novak/Desiigner\",\"Ryan Gosling & Russell Crowe/Jessie Mueller/Animal Collective\",\"Matt Bomer/Zach Woods/Nick Griffin\",\"Jason Sudeikis/Michael Weatherly/Megyn Kelly\",\"Anthony Anderson/Eugene Levy & Catherine O'Hara/Coldplay\",\"Josh Gad/Gillian Jacobs/Band of Horses\",\"Rose Byrne/Bobby Flay/Weird Al Yankovic\",\"Seth Rogen/Krysten Ritter/Wolf Parade\",\"Emilia Clarke/Shiri Appleby/Cynthia Erivo\",\"Sean Hayes/Brooklyn Decker/Lewis Black\",\"James McAvoy/Nick Swardson/Physicist Brian Greene\",\"Lizzy Caplan/Neil Young/Mike Epps\",\"Rashida Jones/Daveed Diggs/Marina Franklin/The Struts\",\"James Corden/Scott Speedman/Death Cab for Cutie\",\"Jude Law/Norman Reedus/Hundred Waters, Skrillex & Chance the Rapper\",\"Laura Linney/John Leguizamo/Gary Clark Jr./Paula Robison\",\"Patrick Wilson/Gayle King/Gary Johnson & William Weld\",\"David Duchovny/Aaron Tveit/Alexander Koblikov\",\"Bill O'Reilly/Anna Chlumsky/Aesop Rock\",\"Daniel Radcliffe/George Lopez/Hinds\",\"Liam Hemsworth/Ana Gasteyer/Paul Mecurio\",\"Demi Lovato & Nick Jonas/Amy Ryan\",\"Aaron Paul/Michael Ian Black/Silversun Pickups\",\"Alexander Skarsgard/Natasha Leggero/Ziggy Marley\",\"Aubrey Plaza/Hugh Dancy/Andrew Zimmern\",\"Uzo Aduba/Neil DeGrasse Tyson/Adia Victoria\",\"Sen. Bernie Sanders/Paul Dano/Rascal Flatts\",\"Kevin Hart/Taylor Schilling/RuPaul\",\"Kevin Love/Jenny Slate/Dierks Bentley\",\"Tom Brokaw/Sara and Erin Foster/Bibi Bourelly\",\"Samuel L. Jackson/Julie Klausner/Schoolboy Q\",\"Ellie Kemper/Patrick Fugit/We Are Scientists\",\"Zachary Quinto/Natasha Lyonne/2 Chainz\",\"Bryan Cranston/Busy Philipps/Hollywood Vampires\",\"Nicholas Hoult/John Turturro/Bret Baier\",\"Benjamin Bratt/Rob Corddry/The Shelters\",\"Bill Maher/Michael K. Williams/Parquet Courts\",\"Charlie Rose, Gayle King & Norah O'Donnell/DeRay McKesson/Bonnie McFarlane\",\"Zoe Saldana/Jennifer Saunders/Ron Suskind\",\"Keegan-Michael Key/Kathryn Hahn/Jenny Lewis & NAF\",\"Tony Goldwyn/Mark Cuban/Lewis Black/Cory Kahaney/Wyclef Jean\",\"RNC/Sen. Elizabeth Warren/Billy Eichner/Cory Kahaney\",\"Jennifer Saunders/Cory Kahaney\",\"Allison Janney/Anthony Weiner/Ryan Adams\",\"DNC/Jeff Daniels/Bassem Youssef/Aurora\",\"DNC/John Oliver/Jai Courtney/Charlamagne Tha God/DMC\",\"DNC/Abbi Jacobson & Ilana Glazer/Doris Kearns Goodwin/Eric Andre\",\"The 2016 Democratic National Convention - A Look Back\",\"Viola Davis/Simon Helberg/Declan McKenna\",\"Will Smith/Logan Lerman/Tony Bennett\",\"John Cena/Scott Eastwood/Aaron Neville\",\"Jamie Dornan/Javier Munoz/Malcolm Gladwell/The O'Jays\",\"Diane Kruger/Mark Normand/Ibtihaj Muhammad\",\"Amy Schumer/Omari Hardwick/Michaela Watkins\",\"Rami Malek/Tika Sumpter & Parker Sawyers/Diana Gordon\",\"Anderson Cooper/Edgar Ramirez/Kip Moore\",\"Sen. Tim Kaine/Tony Hale/Car Seat Headrest\",\"Rachel Weisz/Kevin Smith/Spike Feresten\",\"Riz Ahmed/Pedro Pascal/Angel Olsen\",\"John Krasinski/Adam Brody/St. Paul & the Broken Bones\",\"Christian Slater/Rep. John Lewis/Chris Geere\",\"Larry Wilmore/Chris Noth/Sampha\",\"Anna Gunn/John Dickerson/Simone Giertz\",\"Harry Connick Jr./Ava DuVernay/Grouplove\",\"Whoopi Goldberg/Regina Hall/Sully Sullenberger\",\"Jessica Alba/Bradley Whitford/George Takei\",\"Tituss Burgess/Jeff Ross/Adam Richman\",\"Dr. Phil McGraw/Alan Cumming/Hamilton Leithauser & Rostam\",\"Joseph Gordon-Levitt/Millie Bobby Brown/The Head and the Heart\",\"Trevor Noah/Allen Iverson/Rachel Maddow\",\"Tracee Ellis Ross/Andrew Rannells/Mac Miller & Anderson.Paak\",\"John Slattery/Oliver Stone/Jon Fisch\",\"Chris Pratt/Scott Bakula/Frederik the Great\",\"Michelle Obama/America Ferrera\",\"Ethan Hawke/Tim Meadows/Wilco/Nile Rodgers\",\"Anthony Anderson/Mark Consuelos/The Kills\",\"Bruce Springsteen/Emma Willman\",\"Rob Lowe/Kal Penn/Emma Willmann\",\"Sean Penn/Sutton Foster/Regina Spektor\",\"Lupita Nyong'o/Donnie Wahlberg/John Prine\",\"Morgan Freeman/Judith Light/Jimmy Eat World\",\"Samantha Bee/Abby Elliott/Asa Butterfield\",\"Mindy Kaling/Gary Owen/Sum 41\",\"John Leguizamo/Cheri Oteri/Paul F. Tompkins/Melissa Etheridge\",\"Armie Hammer/Lindsey Vonn/Gustavo Dudamel/Simon Bolivar Symphony Orchestra\",\"Emily Blunt/Gael Garcia Bernal/Phantogram\",\"Diane Lane/Aja Naomi King/Alingon Mitra\",\"President Barack Obama/Bill O'Reilly/Randall Park/Bob Weir\",\"Nick Offerman/Wayne Gretzky/Morgan Spurlock/Joseph\",\"Hugh Laurie/Paul Reiser/Nate Silver\",\"Tiger Woods/Elijah Wood/Jorge Ramos\",\"Matt LeBlanc/Del. Eleanor Holmes Norton/Wyclef Jean\",\"Tom Hanks/Adam Conover\",\"Will Forte/Dermot Mulroney/Wyatt Cenac/Mitski\",\"Joel McHale/Abbi Jacobson/Jon Glaser\",\"Mary-Louise Parker/Pusha T/The Record Company\",\"Drew Carey/Claire Foy & Matt Smith/Sebastian Maniscalco/Aimee Mann\",\"Ruth Wilson/J.B. Smoove/Dalen Spratt, Juwan Mass & Marcus Harvey\",\"Mel Gibson & Luke Bracey/Tegan & Sara\",\"Michael Strahan/Nick Kroll/Aaron Lewis\",\"Aaron Eckhart/Tig Notaro/Ron Suskind\",\"Viggo Mortensen/Patton Oswalt/Maz Jobrani\",\"Don Cheadle/Stevie Wonder/Katherine Waterston\",\"Miles Teller/Neil DeGrasse Tyson/Triumph, the Insult Comic Dog\",\"Sting/Thandie Newton\",\"Eddie Redmayne/Bernie Sanders/Alton Brown/Chris Thile\",\"Anna Kendrick/Mahershala Ali/Chris Gethard\",\"Marion Cotillard/Dev Patel/Dwight Yoakam\",\"William H. Macy/Colin Quinn/Drive-By Truckers\",\"Michael Weatherly/Carrie Fisher/Pretenders\",\"James Marsden/Jimmie Johnson/John Waters\",\"Jason Bateman/Padma Lakshmi/Michael Lewis\",\"Joe Biden/DJ Khaled\",\"Sigourney Weaver/Andy Cohen/Pilobolus Dance Theater\",\"Liam Neeson/Shepard Smith/Jon Batiste\",\"Oprah Winfrey/Pretty Yende\",\"Kate Beckinsale/Chris Messina/Jen Kirkman\",\"Charlie Rose/Hayden Panettiere/Jack Maxwell\",\"Andrew Garfield/Erin Andrews/Cage the Elephant\",\"Jude Law/Gabrielle Union/Thomas L. Friedman\",\"Cuba Gooding Jr./Rupert Friend/Gary Gulman\",\"Sarah Paulson/Corey Stoll/Nick Grant & Watch the Duck\",\"Johnny Galecki/Chris Matthews/Bash & Pop\",\"Jim Gaffigan/Cristela Alonzo/The Avett Brothers\",\"Leslie Mann/Lewis Black/Dan Levy\",\"Josh Groban/Rachael Ray/Japandroids\",\"Ricky Gervais/Christina Ricci/Jain\",\"Priyanka Chopra/Thomas Sadoski/Pat Brown\",\"Paul Giamatti/Wendy Williams/Highly Suspect\",\"John Oliver/Isabelle Huppert/The Avett Brothers\",\"Will Arnett/Pete Holmes/Paul Mecurio\",\"Shailene Woodley/Laverne Cox/Rick & Marty Lagina\",\"Christine Baranski/Hans Zimmer\",\"Bob Odenkirk/Tatiana Maslany/George Saunders\",\"Sally Field/Maggie Siff/Lady Antebellum\",\"Uma Thurman/Jason Jones/Alison Krauss\",\"Joe Scarborough/Kate Upton/Yvette Nicole Brown\",\"Aubrey Plaza/Bradley Whitford/Lupe Fiasco\",\"Allison Williams/Cush Jumbo/Carmen Lynch\",\"Jon Stewart/Connie Britton/Zoey Deutch/Lori McKenna\",\"Lisa Kudrow/Josh Earnest/Tony Rock\",\"Anderson Cooper/Judd Apatow/Jidenna\",\"Kevin Kline/Jerrod Carmichael/Michael Hayden\",\"Ewan McGregor/Finn Wittrock/The Shins\",\"Neil DeGrasse Tyson/Rick Ross\",\"Bryan Cranston/Audra McDonald/Greer Barnes\",\"Ryan Reynolds/Josh Lucas/Andy Daly/Green Day\",\"Glenn Close/Michael McKean/H. Jon Benjamin\",\"Lily Tomlin & Jane Fonda/Jay Chandrasekhar/Aimee Mann\",\"Hank Azaria/Kate Walsh/Circus 1903\",\"Emma Roberts/Ken Jeong/Luke Bryan & Dierks Bentley\",\"Marisa Tomei/Hugh Dancy/Broken Social Scene\",\"Susan Sarandon/Joey McIntyre/Robert Klein\",\"Jason Sudeikis/Jennifer Esposito/Joey Bada$$\"]}},\"id\":\"ba6c1616-a39e-402d-91fb-e773daa42cd8\",\"type\":\"ColumnDataSource\"},{\"attributes\":{\"months\":[0,6]},\"id\":\"ffdb5164-4010-4259-9a74-0cb18eafd85c\",\"type\":\"MonthsTicker\"},{\"attributes\":{},\"id\":\"15b632c5-6278-4d61-abc4-52f311c0f08d\",\"type\":\"YearsTicker\"},{\"attributes\":{\"data_source\":{\"id\":\"ba6c1616-a39e-402d-91fb-e773daa42cd8\",\"type\":\"ColumnDataSource\"},\"glyph\":{\"id\":\"d89e1493-440e-4a16-aec5-59ec97e2738c\",\"type\":\"Circle\"},\"hover_glyph\":null,\"nonselection_glyph\":{\"id\":\"b3d4aeba-abea-4c54-97e3-241de379cf1a\",\"type\":\"Circle\"},\"selection_glyph\":null},\"id\":\"7c884f20-1eb7-4a13-a32d-26dd9bd44fd9\",\"type\":\"GlyphRenderer\"},{\"attributes\":{\"months\":[0,2,4,6,8,10]},\"id\":\"d4ef7a02-360b-4ada-bc09-4f5620f0765f\",\"type\":\"MonthsTicker\"},{\"attributes\":{\"days\":[1,2,3,4,5,6,7,8,9,10,11,12,13,14,15,16,17,18,19,20,21,22,23,24,25,26,27,28,29,30,31]},\"id\":\"037e6b21-6370-487e-8973-2bd426004a95\",\"type\":\"DaysTicker\"},{\"attributes\":{\"days\":[1,4,7,10,13,16,19,22,25,28]},\"id\":\"30a2d1ef-5e2e-4a79-a618-b988ebc975f5\",\"type\":\"DaysTicker\"},{\"attributes\":{\"below\":[{\"id\":\"83977c8b-6b03-4456-8408-79e45cf883c8\",\"type\":\"DatetimeAxis\"}],\"left\":[{\"id\":\"785cf651-5aa0-4e00-bf0f-00fe9a46854a\",\"type\":\"LinearAxis\"}],\"plot_height\":400,\"plot_width\":950,\"renderers\":[{\"id\":\"83977c8b-6b03-4456-8408-79e45cf883c8\",\"type\":\"DatetimeAxis\"},{\"id\":\"6bfc6f1b-5611-493c-a53e-432ecaa3119e\",\"type\":\"Grid\"},{\"id\":\"785cf651-5aa0-4e00-bf0f-00fe9a46854a\",\"type\":\"LinearAxis\"},{\"id\":\"93293587-3feb-48bf-83ae-c10ff9f9be81\",\"type\":\"Grid\"},{\"id\":\"6a62bd58-5b2d-4950-97b2-0eb146dd9056\",\"type\":\"BoxAnnotation\"},{\"id\":\"7c884f20-1eb7-4a13-a32d-26dd9bd44fd9\",\"type\":\"GlyphRenderer\"}],\"title\":{\"id\":\"74f8a229-8585-475e-b452-c7b4c297414d\",\"type\":\"Title\"},\"tool_events\":{\"id\":\"bdb27f42-783c-4bd6-84e2-9b7388f7eaad\",\"type\":\"ToolEvents\"},\"toolbar\":{\"id\":\"4aee6ea1-efc1-4f57-ade3-e3afe94e81bb\",\"type\":\"Toolbar\"},\"x_range\":{\"id\":\"45f32719-934d-473b-a39c-96953b3814e1\",\"type\":\"DataRange1d\"},\"y_range\":{\"id\":\"f98747f2-0d50-407c-9406-8cf671106e7a\",\"type\":\"DataRange1d\"}},\"id\":\"f79ec487-7f05-4f76-bcae-dde076698430\",\"subtype\":\"Figure\",\"type\":\"Plot\"},{\"attributes\":{\"plot\":{\"id\":\"f79ec487-7f05-4f76-bcae-dde076698430\",\"subtype\":\"Figure\",\"type\":\"Plot\"}},\"id\":\"27427568-c90c-4be2-89aa-fd81fe12a07f\",\"type\":\"HelpTool\"},{\"attributes\":{\"use_scientific\":false},\"id\":\"105fde2a-5505-4c16-a2aa-b50dd24ca5b6\",\"type\":\"BasicTickFormatter\"},{\"attributes\":{\"base\":60,\"mantissas\":[1,2,5,10,15,20,30],\"max_interval\":1800000.0,\"min_interval\":1000.0,\"num_minor_ticks\":0},\"id\":\"e583ea8b-4926-45b1-9ba7-41afd7d905c5\",\"type\":\"AdaptiveTicker\"},{\"attributes\":{\"max_interval\":500.0,\"num_minor_ticks\":0},\"id\":\"cb04e2c8-1e12-4180-8fd4-6f5ea1fa9ec8\",\"type\":\"AdaptiveTicker\"},{\"attributes\":{\"active_drag\":\"auto\",\"active_scroll\":\"auto\",\"active_tap\":\"auto\",\"logo\":null,\"tools\":[{\"id\":\"4f0f4222-8c0e-49ed-8201-93524bd101ea\",\"type\":\"PanTool\"},{\"id\":\"7850abf0-c6b9-4b56-9552-42dfde9c54eb\",\"type\":\"WheelZoomTool\"},{\"id\":\"83c5ce65-4f62-4305-b055-405d53e07d07\",\"type\":\"BoxZoomTool\"},{\"id\":\"d37de6b4-a675-464d-b2aa-80054bb90230\",\"type\":\"SaveTool\"},{\"id\":\"0b37ebcd-d608-42e9-a2a3-620b96ab0327\",\"type\":\"ResetTool\"},{\"id\":\"27427568-c90c-4be2-89aa-fd81fe12a07f\",\"type\":\"HelpTool\"},{\"id\":\"309df00f-3848-479c-87d2-7eca9856561b\",\"type\":\"HoverTool\"}]},\"id\":\"4aee6ea1-efc1-4f57-ade3-e3afe94e81bb\",\"type\":\"Toolbar\"},{\"attributes\":{\"months\":[0,4,8]},\"id\":\"14dfc452-de06-4776-a371-b9b70a244406\",\"type\":\"MonthsTicker\"},{\"attributes\":{\"formatter\":{\"id\":\"105fde2a-5505-4c16-a2aa-b50dd24ca5b6\",\"type\":\"BasicTickFormatter\"},\"plot\":{\"id\":\"f79ec487-7f05-4f76-bcae-dde076698430\",\"subtype\":\"Figure\",\"type\":\"Plot\"},\"ticker\":{\"id\":\"86cc5ca6-5798-4036-9365-d8baaf1bb52b\",\"type\":\"BasicTicker\"}},\"id\":\"785cf651-5aa0-4e00-bf0f-00fe9a46854a\",\"type\":\"LinearAxis\"},{\"attributes\":{},\"id\":\"86cc5ca6-5798-4036-9365-d8baaf1bb52b\",\"type\":\"BasicTicker\"},{\"attributes\":{\"fill_color\":{\"value\":\"#1f77b4\"},\"line_color\":{\"value\":\"#1f77b4\"},\"line_width\":{\"value\":2},\"size\":{\"units\":\"screen\",\"value\":5},\"x\":{\"field\":\"air_date\"},\"y\":{\"field\":\"rating\"}},\"id\":\"d89e1493-440e-4a16-aec5-59ec97e2738c\",\"type\":\"Circle\"},{\"attributes\":{\"num_minor_ticks\":5},\"id\":\"7c7450e2-3cd9-4c1f-b114-c9c304ce0acb\",\"type\":\"DatetimeTicker\"},{\"attributes\":{\"fill_alpha\":{\"value\":0.1},\"fill_color\":{\"value\":\"#1f77b4\"},\"line_alpha\":{\"value\":0.1},\"line_color\":{\"value\":\"#1f77b4\"},\"line_width\":{\"value\":2},\"size\":{\"units\":\"screen\",\"value\":5},\"x\":{\"field\":\"air_date\"},\"y\":{\"field\":\"rating\"}},\"id\":\"b3d4aeba-abea-4c54-97e3-241de379cf1a\",\"type\":\"Circle\"},{\"attributes\":{\"dimension\":1,\"plot\":{\"id\":\"f79ec487-7f05-4f76-bcae-dde076698430\",\"subtype\":\"Figure\",\"type\":\"Plot\"},\"ticker\":{\"id\":\"86cc5ca6-5798-4036-9365-d8baaf1bb52b\",\"type\":\"BasicTicker\"}},\"id\":\"93293587-3feb-48bf-83ae-c10ff9f9be81\",\"type\":\"Grid\"},{\"attributes\":{\"overlay\":{\"id\":\"6a62bd58-5b2d-4950-97b2-0eb146dd9056\",\"type\":\"BoxAnnotation\"},\"plot\":{\"id\":\"f79ec487-7f05-4f76-bcae-dde076698430\",\"subtype\":\"Figure\",\"type\":\"Plot\"}},\"id\":\"83c5ce65-4f62-4305-b055-405d53e07d07\",\"type\":\"BoxZoomTool\"},{\"attributes\":{\"plot\":{\"id\":\"f79ec487-7f05-4f76-bcae-dde076698430\",\"subtype\":\"Figure\",\"type\":\"Plot\"}},\"id\":\"d37de6b4-a675-464d-b2aa-80054bb90230\",\"type\":\"SaveTool\"},{\"attributes\":{\"plot\":{\"id\":\"f79ec487-7f05-4f76-bcae-dde076698430\",\"subtype\":\"Figure\",\"type\":\"Plot\"},\"ticker\":{\"id\":\"7c7450e2-3cd9-4c1f-b114-c9c304ce0acb\",\"type\":\"DatetimeTicker\"}},\"id\":\"6bfc6f1b-5611-493c-a53e-432ecaa3119e\",\"type\":\"Grid\"},{\"attributes\":{},\"id\":\"bdb27f42-783c-4bd6-84e2-9b7388f7eaad\",\"type\":\"ToolEvents\"},{\"attributes\":{\"callback\":null},\"id\":\"45f32719-934d-473b-a39c-96953b3814e1\",\"type\":\"DataRange1d\"},{\"attributes\":{\"callback\":null},\"id\":\"f98747f2-0d50-407c-9406-8cf671106e7a\",\"type\":\"DataRange1d\"},{\"attributes\":{\"months\":[0,1,2,3,4,5,6,7,8,9,10,11]},\"id\":\"65006a99-8b25-4a90-9bfd-83576bc0845e\",\"type\":\"MonthsTicker\"},{\"attributes\":{\"bottom_units\":\"screen\",\"fill_alpha\":{\"value\":0.5},\"fill_color\":{\"value\":\"lightgrey\"},\"left_units\":\"screen\",\"level\":\"overlay\",\"line_alpha\":{\"value\":1.0},\"line_color\":{\"value\":\"black\"},\"line_dash\":[4,4],\"line_width\":{\"value\":2},\"plot\":null,\"render_mode\":\"css\",\"right_units\":\"screen\",\"top_units\":\"screen\"},\"id\":\"6a62bd58-5b2d-4950-97b2-0eb146dd9056\",\"type\":\"BoxAnnotation\"},{\"attributes\":{},\"id\":\"64c9e4f6-3f8b-4f7d-ab4b-a1c996429fd4\",\"type\":\"DatetimeTickFormatter\"},{\"attributes\":{\"plot\":{\"id\":\"f79ec487-7f05-4f76-bcae-dde076698430\",\"subtype\":\"Figure\",\"type\":\"Plot\"}},\"id\":\"0b37ebcd-d608-42e9-a2a3-620b96ab0327\",\"type\":\"ResetTool\"},{\"attributes\":{\"formatter\":{\"id\":\"64c9e4f6-3f8b-4f7d-ab4b-a1c996429fd4\",\"type\":\"DatetimeTickFormatter\"},\"plot\":{\"id\":\"f79ec487-7f05-4f76-bcae-dde076698430\",\"subtype\":\"Figure\",\"type\":\"Plot\"},\"ticker\":{\"id\":\"7c7450e2-3cd9-4c1f-b114-c9c304ce0acb\",\"type\":\"DatetimeTicker\"}},\"id\":\"83977c8b-6b03-4456-8408-79e45cf883c8\",\"type\":\"DatetimeAxis\"},{\"attributes\":{\"plot\":null,\"text\":\"Ratings per Episode\"},\"id\":\"74f8a229-8585-475e-b452-c7b4c297414d\",\"type\":\"Title\"},{\"attributes\":{\"plot\":{\"id\":\"f79ec487-7f05-4f76-bcae-dde076698430\",\"subtype\":\"Figure\",\"type\":\"Plot\"}},\"id\":\"4f0f4222-8c0e-49ed-8201-93524bd101ea\",\"type\":\"PanTool\"},{\"attributes\":{\"base\":24,\"mantissas\":[1,2,4,6,8,12],\"max_interval\":43200000.0,\"min_interval\":3600000.0,\"num_minor_ticks\":0},\"id\":\"61a49d25-4c53-4c48-93fa-ee3e23306afc\",\"type\":\"AdaptiveTicker\"},{\"attributes\":{\"plot\":{\"id\":\"f79ec487-7f05-4f76-bcae-dde076698430\",\"subtype\":\"Figure\",\"type\":\"Plot\"}},\"id\":\"7850abf0-c6b9-4b56-9552-42dfde9c54eb\",\"type\":\"WheelZoomTool\"}],\"root_ids\":[\"f79ec487-7f05-4f76-bcae-dde076698430\"]},\"title\":\"Bokeh Application\",\"version\":\"0.12.4\"}};\n",
       "            var render_items = [{\"docid\":\"245a3525-f46f-4ec7-a577-2ae12bfb8c3a\",\"elementid\":\"5e6eef68-4e1d-4df9-b7bd-7b24c5081df7\",\"modelid\":\"f79ec487-7f05-4f76-bcae-dde076698430\"}];\n",
       "            \n",
       "            Bokeh.embed.embed_items(docs_json, render_items);\n",
       "          };\n",
       "          if (document.readyState != \"loading\") fn();\n",
       "          else document.addEventListener(\"DOMContentLoaded\", fn);\n",
       "        })();\n",
       "      },\n",
       "      function(Bokeh) {\n",
       "      }\n",
       "    ];\n",
       "  \n",
       "    function run_inline_js() {\n",
       "      \n",
       "      if ((window.Bokeh !== undefined) || (force === true)) {\n",
       "        for (var i = 0; i < inline_js.length; i++) {\n",
       "          inline_js[i](window.Bokeh);\n",
       "        }if (force === true) {\n",
       "          display_loaded();\n",
       "        }} else if (Date.now() < window._bokeh_timeout) {\n",
       "        setTimeout(run_inline_js, 100);\n",
       "      } else if (!window._bokeh_failed_load) {\n",
       "        console.log(\"Bokeh: BokehJS failed to load within specified timeout.\");\n",
       "        window._bokeh_failed_load = true;\n",
       "      } else if (force !== true) {\n",
       "        var cell = $(document.getElementById(\"5e6eef68-4e1d-4df9-b7bd-7b24c5081df7\")).parents('.cell').data().cell;\n",
       "        cell.output_area.append_execute_result(NB_LOAD_WARNING)\n",
       "      }\n",
       "  \n",
       "    }\n",
       "  \n",
       "    if (window._bokeh_is_loading === 0) {\n",
       "      console.log(\"Bokeh: BokehJS loaded, going straight to plotting\");\n",
       "      run_inline_js();\n",
       "    } else {\n",
       "      load_libs(js_urls, function() {\n",
       "        console.log(\"Bokeh: BokehJS plotting callback run at\", now());\n",
       "        run_inline_js();\n",
       "      });\n",
       "    }\n",
       "  }(this));\n",
       "</script>"
      ]
     },
     "metadata": {},
     "output_type": "display_data"
    }
   ],
   "source": [
    "p = plot_interactive_timeseries(x='air_date', y='rating', data=episodes, \n",
    "                                title=\"Ratings per Episode\",\n",
    "                               hover_cols=hover_cols)\n",
    "show(p)"
   ]
  },
  {
   "cell_type": "markdown",
   "metadata": {
    "deletable": true,
    "editable": true
   },
   "source": [
    "## Ratings Count over Time"
   ]
  },
  {
   "cell_type": "code",
   "execution_count": 7,
   "metadata": {
    "collapsed": false,
    "deletable": true,
    "editable": true
   },
   "outputs": [
    {
     "name": "stderr",
     "output_type": "stream",
     "text": [
      "/Users/johria/.pyenv/versions/3.6.0/lib/python3.6/site-packages/bokeh/util/deprecation.py:34: BokehDeprecationWarning: Plot.logo was deprecated in Bokeh 0.12.0 and will be removed, use Plot.toolbar.logo instead.\n",
      "  warn(message)\n"
     ]
    },
    {
     "data": {
      "text/html": [
       "\n",
       "\n",
       "    <div class=\"bk-root\">\n",
       "        <div class=\"bk-plotdiv\" id=\"c80345ce-d06d-4ae6-a942-8e90b74cbb3e\"></div>\n",
       "    </div>\n",
       "<script type=\"text/javascript\">\n",
       "  \n",
       "  (function(global) {\n",
       "    function now() {\n",
       "      return new Date();\n",
       "    }\n",
       "  \n",
       "    var force = false;\n",
       "  \n",
       "    if (typeof (window._bokeh_onload_callbacks) === \"undefined\" || force === true) {\n",
       "      window._bokeh_onload_callbacks = [];\n",
       "      window._bokeh_is_loading = undefined;\n",
       "    }\n",
       "  \n",
       "  \n",
       "    \n",
       "    if (typeof (window._bokeh_timeout) === \"undefined\" || force === true) {\n",
       "      window._bokeh_timeout = Date.now() + 0;\n",
       "      window._bokeh_failed_load = false;\n",
       "    }\n",
       "  \n",
       "    var NB_LOAD_WARNING = {'data': {'text/html':\n",
       "       \"<div style='background-color: #fdd'>\\n\"+\n",
       "       \"<p>\\n\"+\n",
       "       \"BokehJS does not appear to have successfully loaded. If loading BokehJS from CDN, this \\n\"+\n",
       "       \"may be due to a slow or bad network connection. Possible fixes:\\n\"+\n",
       "       \"</p>\\n\"+\n",
       "       \"<ul>\\n\"+\n",
       "       \"<li>re-rerun `output_notebook()` to attempt to load from CDN again, or</li>\\n\"+\n",
       "       \"<li>use INLINE resources instead, as so:</li>\\n\"+\n",
       "       \"</ul>\\n\"+\n",
       "       \"<code>\\n\"+\n",
       "       \"from bokeh.resources import INLINE\\n\"+\n",
       "       \"output_notebook(resources=INLINE)\\n\"+\n",
       "       \"</code>\\n\"+\n",
       "       \"</div>\"}};\n",
       "  \n",
       "    function display_loaded() {\n",
       "      if (window.Bokeh !== undefined) {\n",
       "        document.getElementById(\"c80345ce-d06d-4ae6-a942-8e90b74cbb3e\").textContent = \"BokehJS successfully loaded.\";\n",
       "      } else if (Date.now() < window._bokeh_timeout) {\n",
       "        setTimeout(display_loaded, 100)\n",
       "      }\n",
       "    }\n",
       "  \n",
       "    function run_callbacks() {\n",
       "      window._bokeh_onload_callbacks.forEach(function(callback) { callback() });\n",
       "      delete window._bokeh_onload_callbacks\n",
       "      console.info(\"Bokeh: all callbacks have finished\");\n",
       "    }\n",
       "  \n",
       "    function load_libs(js_urls, callback) {\n",
       "      window._bokeh_onload_callbacks.push(callback);\n",
       "      if (window._bokeh_is_loading > 0) {\n",
       "        console.log(\"Bokeh: BokehJS is being loaded, scheduling callback at\", now());\n",
       "        return null;\n",
       "      }\n",
       "      if (js_urls == null || js_urls.length === 0) {\n",
       "        run_callbacks();\n",
       "        return null;\n",
       "      }\n",
       "      console.log(\"Bokeh: BokehJS not loaded, scheduling load and callback at\", now());\n",
       "      window._bokeh_is_loading = js_urls.length;\n",
       "      for (var i = 0; i < js_urls.length; i++) {\n",
       "        var url = js_urls[i];\n",
       "        var s = document.createElement('script');\n",
       "        s.src = url;\n",
       "        s.async = false;\n",
       "        s.onreadystatechange = s.onload = function() {\n",
       "          window._bokeh_is_loading--;\n",
       "          if (window._bokeh_is_loading === 0) {\n",
       "            console.log(\"Bokeh: all BokehJS libraries loaded\");\n",
       "            run_callbacks()\n",
       "          }\n",
       "        };\n",
       "        s.onerror = function() {\n",
       "          console.warn(\"failed to load library \" + url);\n",
       "        };\n",
       "        console.log(\"Bokeh: injecting script tag for BokehJS library: \", url);\n",
       "        document.getElementsByTagName(\"head\")[0].appendChild(s);\n",
       "      }\n",
       "    };var element = document.getElementById(\"c80345ce-d06d-4ae6-a942-8e90b74cbb3e\");\n",
       "    if (element == null) {\n",
       "      console.log(\"Bokeh: ERROR: autoload.js configured with elementid 'c80345ce-d06d-4ae6-a942-8e90b74cbb3e' but no matching script tag was found. \")\n",
       "      return false;\n",
       "    }\n",
       "  \n",
       "    var js_urls = [];\n",
       "  \n",
       "    var inline_js = [\n",
       "      function(Bokeh) {\n",
       "        (function() {\n",
       "          var fn = function() {\n",
       "            var docs_json = {\"2ba7c4ba-7f52-4df1-bfee-ca52ca1ea040\":{\"roots\":{\"references\":[{\"attributes\":{},\"id\":\"ea27293c-9ff1-4c73-9b20-ad31ef15f4e5\",\"type\":\"ToolEvents\"},{\"attributes\":{\"plot\":{\"id\":\"eade8cdd-a01e-4f85-870d-d9a85248295f\",\"subtype\":\"Figure\",\"type\":\"Plot\"}},\"id\":\"0bec333a-3b91-4c13-9327-da017af9f10e\",\"type\":\"PanTool\"},{\"attributes\":{\"plot\":{\"id\":\"eade8cdd-a01e-4f85-870d-d9a85248295f\",\"subtype\":\"Figure\",\"type\":\"Plot\"},\"ticker\":{\"id\":\"56e51556-7627-42c3-a43b-60d119c0abcc\",\"type\":\"DatetimeTicker\"}},\"id\":\"9142c411-09fd-4552-a79a-700993be1fee\",\"type\":\"Grid\"},{\"attributes\":{\"months\":[0,6]},\"id\":\"4a89b755-d702-4074-af04-ea5712c339be\",\"type\":\"MonthsTicker\"},{\"attributes\":{\"dimension\":1,\"plot\":{\"id\":\"eade8cdd-a01e-4f85-870d-d9a85248295f\",\"subtype\":\"Figure\",\"type\":\"Plot\"},\"ticker\":{\"id\":\"17880b73-16ae-47e6-85ba-0d1783eb74fa\",\"type\":\"BasicTicker\"}},\"id\":\"5e6dfd2f-1891-4b6c-85ef-3f12ad74477f\",\"type\":\"Grid\"},{\"attributes\":{\"callback\":null},\"id\":\"d4644578-8fff-4779-9fde-a82b915cd063\",\"type\":\"DataRange1d\"},{\"attributes\":{\"callback\":null},\"id\":\"dca1e5f7-c6ce-4f31-a245-d77f9d10b91b\",\"type\":\"DataRange1d\"},{\"attributes\":{\"plot\":{\"id\":\"eade8cdd-a01e-4f85-870d-d9a85248295f\",\"subtype\":\"Figure\",\"type\":\"Plot\"}},\"id\":\"344a47aa-55e9-4c70-977e-bb0efaa0f7a4\",\"type\":\"HelpTool\"},{\"attributes\":{\"active_drag\":\"auto\",\"active_scroll\":\"auto\",\"active_tap\":\"auto\",\"logo\":null,\"tools\":[{\"id\":\"0bec333a-3b91-4c13-9327-da017af9f10e\",\"type\":\"PanTool\"},{\"id\":\"e4341888-73d1-4e35-9628-801ddbf4ce58\",\"type\":\"WheelZoomTool\"},{\"id\":\"b0a125ec-e4ca-418c-82d1-cd8eabcc5925\",\"type\":\"BoxZoomTool\"},{\"id\":\"d6c7f59f-f770-48fc-9964-371d54ef3ac4\",\"type\":\"SaveTool\"},{\"id\":\"61f6986b-2fc9-4987-9bf6-b19d242e5634\",\"type\":\"ResetTool\"},{\"id\":\"344a47aa-55e9-4c70-977e-bb0efaa0f7a4\",\"type\":\"HelpTool\"},{\"id\":\"9a9f23c2-c2a3-4d87-83c3-43c7e0f66a67\",\"type\":\"HoverTool\"}]},\"id\":\"1a636331-eea9-42fc-92d2-8d0cd040847a\",\"type\":\"Toolbar\"},{\"attributes\":{\"months\":[0,4,8]},\"id\":\"dff558f8-d9ef-47b9-8976-d99d3e7cbd5f\",\"type\":\"MonthsTicker\"},{\"attributes\":{\"base\":24,\"mantissas\":[1,2,4,6,8,12],\"max_interval\":43200000.0,\"min_interval\":3600000.0,\"num_minor_ticks\":0},\"id\":\"fa64eccb-86d9-4b2c-880a-3660e8e39c0c\",\"type\":\"AdaptiveTicker\"},{\"attributes\":{\"months\":[0,2,4,6,8,10]},\"id\":\"86a27f12-e749-44fa-aa93-14f6e298315d\",\"type\":\"MonthsTicker\"},{\"attributes\":{\"formatter\":{\"id\":\"3908f852-6603-433a-be94-64cad7f101c8\",\"type\":\"BasicTickFormatter\"},\"plot\":{\"id\":\"eade8cdd-a01e-4f85-870d-d9a85248295f\",\"subtype\":\"Figure\",\"type\":\"Plot\"},\"ticker\":{\"id\":\"17880b73-16ae-47e6-85ba-0d1783eb74fa\",\"type\":\"BasicTicker\"}},\"id\":\"5d69c3bc-dc75-467e-bb28-1dde714b8118\",\"type\":\"LinearAxis\"},{\"attributes\":{\"below\":[{\"id\":\"32a63ba4-e886-43a4-a8c4-27f1f39c9d4c\",\"type\":\"DatetimeAxis\"}],\"left\":[{\"id\":\"5d69c3bc-dc75-467e-bb28-1dde714b8118\",\"type\":\"LinearAxis\"}],\"plot_height\":400,\"plot_width\":950,\"renderers\":[{\"id\":\"32a63ba4-e886-43a4-a8c4-27f1f39c9d4c\",\"type\":\"DatetimeAxis\"},{\"id\":\"9142c411-09fd-4552-a79a-700993be1fee\",\"type\":\"Grid\"},{\"id\":\"5d69c3bc-dc75-467e-bb28-1dde714b8118\",\"type\":\"LinearAxis\"},{\"id\":\"5e6dfd2f-1891-4b6c-85ef-3f12ad74477f\",\"type\":\"Grid\"},{\"id\":\"fd00bd4d-2262-41e5-945f-995090d92703\",\"type\":\"BoxAnnotation\"},{\"id\":\"f67acefc-7a5b-48c9-b8b8-83c9e6420a39\",\"type\":\"GlyphRenderer\"}],\"title\":{\"id\":\"8b44d8c2-cc89-4cba-9ac4-0da4cb94feee\",\"type\":\"Title\"},\"tool_events\":{\"id\":\"ea27293c-9ff1-4c73-9b20-ad31ef15f4e5\",\"type\":\"ToolEvents\"},\"toolbar\":{\"id\":\"1a636331-eea9-42fc-92d2-8d0cd040847a\",\"type\":\"Toolbar\"},\"x_range\":{\"id\":\"dca1e5f7-c6ce-4f31-a245-d77f9d10b91b\",\"type\":\"DataRange1d\"},\"y_range\":{\"id\":\"d4644578-8fff-4779-9fde-a82b915cd063\",\"type\":\"DataRange1d\"}},\"id\":\"eade8cdd-a01e-4f85-870d-d9a85248295f\",\"subtype\":\"Figure\",\"type\":\"Plot\"},{\"attributes\":{\"days\":[1,8,15,22]},\"id\":\"0b45c04c-eefc-4fff-b828-0c6d0bcc0d7b\",\"type\":\"DaysTicker\"},{\"attributes\":{\"data_source\":{\"id\":\"cd64b7b5-9512-47ed-9543-6df2ba920a17\",\"type\":\"ColumnDataSource\"},\"glyph\":{\"id\":\"5f98c4ed-6690-4a01-837e-37bdd385707e\",\"type\":\"Circle\"},\"hover_glyph\":null,\"nonselection_glyph\":{\"id\":\"857c766d-0720-4bb4-8c1b-4236a7b6eb38\",\"type\":\"Circle\"},\"selection_glyph\":null},\"id\":\"f67acefc-7a5b-48c9-b8b8-83c9e6420a39\",\"type\":\"GlyphRenderer\"},{\"attributes\":{\"days\":[1,15]},\"id\":\"1b54691a-9c92-437f-a59f-03fb04ec14b6\",\"type\":\"DaysTicker\"},{\"attributes\":{\"plot\":{\"id\":\"eade8cdd-a01e-4f85-870d-d9a85248295f\",\"subtype\":\"Figure\",\"type\":\"Plot\"}},\"id\":\"e4341888-73d1-4e35-9628-801ddbf4ce58\",\"type\":\"WheelZoomTool\"},{\"attributes\":{\"callback\":null,\"plot\":{\"id\":\"eade8cdd-a01e-4f85-870d-d9a85248295f\",\"subtype\":\"Figure\",\"type\":\"Plot\"},\"tooltips\":[[\"episode_number\",\"@episode_number\"],[\"title\",\"@title\"],[\"air_date\",\"@air_date_str\"],[\"rating\",\"@rating{1.11}\"],[\"rating_count\",\"@rating_count{1.11}\"]]},\"id\":\"9a9f23c2-c2a3-4d87-83c3-43c7e0f66a67\",\"type\":\"HoverTool\"},{\"attributes\":{\"fill_color\":{\"value\":\"#1f77b4\"},\"line_color\":{\"value\":\"#1f77b4\"},\"line_width\":{\"value\":2},\"size\":{\"units\":\"screen\",\"value\":5},\"x\":{\"field\":\"air_date\"},\"y\":{\"field\":\"rating_count\"}},\"id\":\"5f98c4ed-6690-4a01-837e-37bdd385707e\",\"type\":\"Circle\"},{\"attributes\":{\"max_interval\":500.0,\"num_minor_ticks\":0},\"id\":\"74256346-a1be-46c9-9869-a6454b10591e\",\"type\":\"AdaptiveTicker\"},{\"attributes\":{\"use_scientific\":false},\"id\":\"3908f852-6603-433a-be94-64cad7f101c8\",\"type\":\"BasicTickFormatter\"},{\"attributes\":{},\"id\":\"17880b73-16ae-47e6-85ba-0d1783eb74fa\",\"type\":\"BasicTicker\"},{\"attributes\":{\"overlay\":{\"id\":\"fd00bd4d-2262-41e5-945f-995090d92703\",\"type\":\"BoxAnnotation\"},\"plot\":{\"id\":\"eade8cdd-a01e-4f85-870d-d9a85248295f\",\"subtype\":\"Figure\",\"type\":\"Plot\"}},\"id\":\"b0a125ec-e4ca-418c-82d1-cd8eabcc5925\",\"type\":\"BoxZoomTool\"},{\"attributes\":{\"num_minor_ticks\":5},\"id\":\"56e51556-7627-42c3-a43b-60d119c0abcc\",\"type\":\"DatetimeTicker\"},{\"attributes\":{\"plot\":null,\"text\":\"Number of Ratings per Episode\"},\"id\":\"8b44d8c2-cc89-4cba-9ac4-0da4cb94feee\",\"type\":\"Title\"},{\"attributes\":{\"bottom_units\":\"screen\",\"fill_alpha\":{\"value\":0.5},\"fill_color\":{\"value\":\"lightgrey\"},\"left_units\":\"screen\",\"level\":\"overlay\",\"line_alpha\":{\"value\":1.0},\"line_color\":{\"value\":\"black\"},\"line_dash\":[4,4],\"line_width\":{\"value\":2},\"plot\":null,\"render_mode\":\"css\",\"right_units\":\"screen\",\"top_units\":\"screen\"},\"id\":\"fd00bd4d-2262-41e5-945f-995090d92703\",\"type\":\"BoxAnnotation\"},{\"attributes\":{\"fill_alpha\":{\"value\":0.1},\"fill_color\":{\"value\":\"#1f77b4\"},\"line_alpha\":{\"value\":0.1},\"line_color\":{\"value\":\"#1f77b4\"},\"line_width\":{\"value\":2},\"size\":{\"units\":\"screen\",\"value\":5},\"x\":{\"field\":\"air_date\"},\"y\":{\"field\":\"rating_count\"}},\"id\":\"857c766d-0720-4bb4-8c1b-4236a7b6eb38\",\"type\":\"Circle\"},{\"attributes\":{\"formatter\":{\"id\":\"c7c0e660-23f5-442b-80ea-fa0581d321f3\",\"type\":\"DatetimeTickFormatter\"},\"plot\":{\"id\":\"eade8cdd-a01e-4f85-870d-d9a85248295f\",\"subtype\":\"Figure\",\"type\":\"Plot\"},\"ticker\":{\"id\":\"56e51556-7627-42c3-a43b-60d119c0abcc\",\"type\":\"DatetimeTicker\"}},\"id\":\"32a63ba4-e886-43a4-a8c4-27f1f39c9d4c\",\"type\":\"DatetimeAxis\"},{\"attributes\":{\"plot\":{\"id\":\"eade8cdd-a01e-4f85-870d-d9a85248295f\",\"subtype\":\"Figure\",\"type\":\"Plot\"}},\"id\":\"d6c7f59f-f770-48fc-9964-371d54ef3ac4\",\"type\":\"SaveTool\"},{\"attributes\":{},\"id\":\"b89538df-9856-4d95-a73e-f0e798f1955a\",\"type\":\"YearsTicker\"},{\"attributes\":{\"plot\":{\"id\":\"eade8cdd-a01e-4f85-870d-d9a85248295f\",\"subtype\":\"Figure\",\"type\":\"Plot\"}},\"id\":\"61f6986b-2fc9-4987-9bf6-b19d242e5634\",\"type\":\"ResetTool\"},{\"attributes\":{\"base\":60,\"mantissas\":[1,2,5,10,15,20,30],\"max_interval\":1800000.0,\"min_interval\":1000.0,\"num_minor_ticks\":0},\"id\":\"af7a43cf-50d7-485e-bec2-066246b324ef\",\"type\":\"AdaptiveTicker\"},{\"attributes\":{\"days\":[1,4,7,10,13,16,19,22,25,28]},\"id\":\"2570444c-daff-4c80-843d-3668d6d2129e\",\"type\":\"DaysTicker\"},{\"attributes\":{},\"id\":\"c7c0e660-23f5-442b-80ea-fa0581d321f3\",\"type\":\"DatetimeTickFormatter\"},{\"attributes\":{\"days\":[1,2,3,4,5,6,7,8,9,10,11,12,13,14,15,16,17,18,19,20,21,22,23,24,25,26,27,28,29,30,31]},\"id\":\"3aea1dee-0a9e-4b3a-8bcc-05bc56226dfa\",\"type\":\"DaysTicker\"},{\"attributes\":{\"callback\":null,\"column_names\":[\"episode_number\",\"title\",\"air_date\",\"rating\",\"rating_count\",\"index\",\"air_date_str\"],\"data\":{\"air_date\":[1441670400000.0,1441756800000.0,1441843200000.0,1441929600000.0,1442188800000.0,1442275200000.0,1442361600000.0,1442448000000.0,1442534400000.0,1442793600000.0,1442880000000.0,1442966400000.0,1443052800000.0,1443139200000.0,1443398400000.0,1443484800000.0,1443571200000.0,1443657600000.0,1443744000000.0,1444003200000.0,1444089600000.0,1444176000000.0,1444262400000.0,1444348800000.0,1444608000000.0,1444694400000.0,1444780800000.0,1444867200000.0,1444953600000.0,1445817600000.0,1445904000000.0,1445990400000.0,1446076800000.0,1446163200000.0,1446422400000.0,1446508800000.0,1446595200000.0,1446681600000.0,1446768000000.0,1447027200000.0,1447113600000.0,1447200000000.0,1447286400000.0,1447372800000.0,1447632000000.0,1447718400000.0,1447804800000.0,1447891200000.0,1447977600000.0,1448236800000.0,1448323200000.0,1448409600000.0,1449446400000.0,1449532800000.0,1449619200000.0,1449705600000.0,1449792000000.0,1450051200000.0,1450137600000.0,1450224000000.0,1450310400000.0,1450396800000.0,1451865600000.0,1451952000000.0,1452038400000.0,1452124800000.0,1452211200000.0,1452470400000.0,1452556800000.0,1452643200000.0,1452729600000.0,1452816000000.0,1453075200000.0,1453161600000.0,1453248000000.0,1453334400000.0,1453420800000.0,1453680000000.0,1453766400000.0,1453852800000.0,1453939200000.0,1454284800000.0,1454371200000.0,1454457600000.0,1454544000000.0,1454630400000.0,1454803200000.0,1454889600000.0,1454976000000.0,1455062400000.0,1455148800000.0,1455494400000.0,1455580800000.0,1455667200000.0,1455753600000.0,1455840000000.0,1456099200000.0,1456185600000.0,1456272000000.0,1456358400000.0,1456704000000.0,1456790400000.0,1456876800000.0,1456963200000.0,1457308800000.0,1457395200000.0,1457481600000.0,1457568000000.0,1457654400000.0,1457913600000.0,1458000000000.0,1458086400000.0,1458172800000.0,1459123200000.0,1459209600000.0,1459296000000.0,1459382400000.0,1459468800000.0,1459728000000.0,1459814400000.0,1459900800000.0,1459987200000.0,1460937600000.0,1461024000000.0,1461110400000.0,1461196800000.0,1461283200000.0,1461542400000.0,1461628800000.0,1461715200000.0,1461801600000.0,1461888000000.0,1462147200000.0,1462233600000.0,1462320000000.0,1462406400000.0,1462492800000.0,1462752000000.0,1462838400000.0,1462924800000.0,1463011200000.0,1463097600000.0,1463356800000.0,1463443200000.0,1463529600000.0,1463616000000.0,1463702400000.0,1463961600000.0,1464048000000.0,1464134400000.0,1464220800000.0,1464307200000.0,1465171200000.0,1465257600000.0,1465344000000.0,1465430400000.0,1465516800000.0,1465776000000.0,1465862400000.0,1465948800000.0,1466035200000.0,1466121600000.0,1466380800000.0,1466467200000.0,1466553600000.0,1466640000000.0,1466726400000.0,1466985600000.0,1467072000000.0,1467158400000.0,1467244800000.0,1467331200000.0,1468195200000.0,1468281600000.0,1468368000000.0,1468454400000.0,1468540800000.0,1468800000000.0,1468886400000.0,1468972800000.0,1469059200000.0,1469145600000.0,1469404800000.0,1469491200000.0,1469577600000.0,1469664000000.0,1469750400000.0,1470009600000.0,1470096000000.0,1470182400000.0,1470268800000.0,1470355200000.0,1471824000000.0,1471910400000.0,1471996800000.0,1472083200000.0,1472169600000.0,1472428800000.0,1472515200000.0,1472601600000.0,1472688000000.0,1472774400000.0,1473120000000.0,1473206400000.0,1473292800000.0,1473379200000.0,1473638400000.0,1473724800000.0,1473811200000.0,1473897600000.0,1473984000000.0,1474243200000.0,1474329600000.0,1474416000000.0,1474502400000.0,1474588800000.0,1474848000000.0,1474934400000.0,1475020800000.0,1475107200000.0,1475193600000.0,1475452800000.0,1475539200000.0,1475625600000.0,1475712000000.0,1475798400000.0,1476662400000.0,1476748800000.0,1476835200000.0,1476921600000.0,1477008000000.0,1477267200000.0,1477353600000.0,1477440000000.0,1477526400000.0,1477612800000.0,1477872000000.0,1477958400000.0,1478044800000.0,1478131200000.0,1478217600000.0,1478476800000.0,1478649600000.0,1478736000000.0,1479081600000.0,1479168000000.0,1479254400000.0,1479427200000.0,1479686400000.0,1479772800000.0,1480896000000.0,1480982400000.0,1481068800000.0,1481846400000.0,1483401600000.0,1483488000000.0,1483660800000.0,1484006400000.0,1484092800000.0,1484265600000.0,1484524800000.0,1484784000000.0,1484870400000.0,1485734400000.0,1485820800000.0,1485907200000.0,1486080000000.0,1486339200000.0,1486425600000.0,1486684800000.0,1486944000000.0,1487030400000.0,1487116800000.0,1487203200000.0,1487548800000.0,1487635200000.0,1487808000000.0,1487894400000.0,1488153600000.0,1488240000000.0,1488758400000.0,1488844800000.0,1489363200000.0,1489449600000.0,1489968000000.0,1490054400000.0,1490140800000.0,1490572800000.0,1490659200000.0,1490745600000.0,1490832000000.0,1490918400000.0,1491177600000.0],\"air_date_str\":[\"09/08/15\",\"09/09/15\",\"09/10/15\",\"09/11/15\",\"09/14/15\",\"09/15/15\",\"09/16/15\",\"09/17/15\",\"09/18/15\",\"09/21/15\",\"09/22/15\",\"09/23/15\",\"09/24/15\",\"09/25/15\",\"09/28/15\",\"09/29/15\",\"09/30/15\",\"10/01/15\",\"10/02/15\",\"10/05/15\",\"10/06/15\",\"10/07/15\",\"10/08/15\",\"10/09/15\",\"10/12/15\",\"10/13/15\",\"10/14/15\",\"10/15/15\",\"10/16/15\",\"10/26/15\",\"10/27/15\",\"10/28/15\",\"10/29/15\",\"10/30/15\",\"11/02/15\",\"11/03/15\",\"11/04/15\",\"11/05/15\",\"11/06/15\",\"11/09/15\",\"11/10/15\",\"11/11/15\",\"11/12/15\",\"11/13/15\",\"11/16/15\",\"11/17/15\",\"11/18/15\",\"11/19/15\",\"11/20/15\",\"11/23/15\",\"11/24/15\",\"11/25/15\",\"12/07/15\",\"12/08/15\",\"12/09/15\",\"12/10/15\",\"12/11/15\",\"12/14/15\",\"12/15/15\",\"12/16/15\",\"12/17/15\",\"12/18/15\",\"01/04/16\",\"01/05/16\",\"01/06/16\",\"01/07/16\",\"01/08/16\",\"01/11/16\",\"01/12/16\",\"01/13/16\",\"01/14/16\",\"01/15/16\",\"01/18/16\",\"01/19/16\",\"01/20/16\",\"01/21/16\",\"01/22/16\",\"01/25/16\",\"01/26/16\",\"01/27/16\",\"01/28/16\",\"02/01/16\",\"02/02/16\",\"02/03/16\",\"02/04/16\",\"02/05/16\",\"02/07/16\",\"02/08/16\",\"02/09/16\",\"02/10/16\",\"02/11/16\",\"02/15/16\",\"02/16/16\",\"02/17/16\",\"02/18/16\",\"02/19/16\",\"02/22/16\",\"02/23/16\",\"02/24/16\",\"02/25/16\",\"02/29/16\",\"03/01/16\",\"03/02/16\",\"03/03/16\",\"03/07/16\",\"03/08/16\",\"03/09/16\",\"03/10/16\",\"03/11/16\",\"03/14/16\",\"03/15/16\",\"03/16/16\",\"03/17/16\",\"03/28/16\",\"03/29/16\",\"03/30/16\",\"03/31/16\",\"04/01/16\",\"04/04/16\",\"04/05/16\",\"04/06/16\",\"04/07/16\",\"04/18/16\",\"04/19/16\",\"04/20/16\",\"04/21/16\",\"04/22/16\",\"04/25/16\",\"04/26/16\",\"04/27/16\",\"04/28/16\",\"04/29/16\",\"05/02/16\",\"05/03/16\",\"05/04/16\",\"05/05/16\",\"05/06/16\",\"05/09/16\",\"05/10/16\",\"05/11/16\",\"05/12/16\",\"05/13/16\",\"05/16/16\",\"05/17/16\",\"05/18/16\",\"05/19/16\",\"05/20/16\",\"05/23/16\",\"05/24/16\",\"05/25/16\",\"05/26/16\",\"05/27/16\",\"06/06/16\",\"06/07/16\",\"06/08/16\",\"06/09/16\",\"06/10/16\",\"06/13/16\",\"06/14/16\",\"06/15/16\",\"06/16/16\",\"06/17/16\",\"06/20/16\",\"06/21/16\",\"06/22/16\",\"06/23/16\",\"06/24/16\",\"06/27/16\",\"06/28/16\",\"06/29/16\",\"06/30/16\",\"07/01/16\",\"07/11/16\",\"07/12/16\",\"07/13/16\",\"07/14/16\",\"07/15/16\",\"07/18/16\",\"07/19/16\",\"07/20/16\",\"07/21/16\",\"07/22/16\",\"07/25/16\",\"07/26/16\",\"07/27/16\",\"07/28/16\",\"07/29/16\",\"08/01/16\",\"08/02/16\",\"08/03/16\",\"08/04/16\",\"08/05/16\",\"08/22/16\",\"08/23/16\",\"08/24/16\",\"08/25/16\",\"08/26/16\",\"08/29/16\",\"08/30/16\",\"08/31/16\",\"09/01/16\",\"09/02/16\",\"09/06/16\",\"09/07/16\",\"09/08/16\",\"09/09/16\",\"09/12/16\",\"09/13/16\",\"09/14/16\",\"09/15/16\",\"09/16/16\",\"09/19/16\",\"09/20/16\",\"09/21/16\",\"09/22/16\",\"09/23/16\",\"09/26/16\",\"09/27/16\",\"09/28/16\",\"09/29/16\",\"09/30/16\",\"10/03/16\",\"10/04/16\",\"10/05/16\",\"10/06/16\",\"10/07/16\",\"10/17/16\",\"10/18/16\",\"10/19/16\",\"10/20/16\",\"10/21/16\",\"10/24/16\",\"10/25/16\",\"10/26/16\",\"10/27/16\",\"10/28/16\",\"10/31/16\",\"11/01/16\",\"11/02/16\",\"11/03/16\",\"11/04/16\",\"11/07/16\",\"11/09/16\",\"11/10/16\",\"11/14/16\",\"11/15/16\",\"11/16/16\",\"11/18/16\",\"11/21/16\",\"11/22/16\",\"12/05/16\",\"12/06/16\",\"12/07/16\",\"12/16/16\",\"01/03/17\",\"01/04/17\",\"01/06/17\",\"01/10/17\",\"01/11/17\",\"01/13/17\",\"01/16/17\",\"01/19/17\",\"01/20/17\",\"01/30/17\",\"01/31/17\",\"02/01/17\",\"02/03/17\",\"02/06/17\",\"02/07/17\",\"02/10/17\",\"02/13/17\",\"02/14/17\",\"02/15/17\",\"02/16/17\",\"02/20/17\",\"02/21/17\",\"02/23/17\",\"02/24/17\",\"02/27/17\",\"02/28/17\",\"03/06/17\",\"03/07/17\",\"03/13/17\",\"03/14/17\",\"03/20/17\",\"03/21/17\",\"03/22/17\",\"03/27/17\",\"03/28/17\",\"03/29/17\",\"03/30/17\",\"03/31/17\",\"04/03/17\"],\"episode_number\":[1,2,3,4,5,6,7,8,9,10,11,12,13,14,15,16,17,18,19,20,21,22,23,24,25,26,27,28,29,30,31,32,33,34,35,36,37,38,39,40,41,42,43,44,45,46,47,48,49,50,51,52,53,54,55,56,57,58,59,60,61,62,63,64,65,66,67,68,69,70,71,72,73,74,75,76,77,78,79,80,81,82,83,84,85,86,87,88,89,90,91,92,93,94,95,96,97,98,99,100,101,102,103,104,105,106,107,108,109,110,111,112,113,114,115,116,117,118,119,120,121,122,123,124,125,126,127,128,129,130,131,132,133,134,135,136,137,138,139,140,141,142,143,144,145,146,147,148,149,150,151,152,153,154,155,156,157,158,159,160,161,162,163,164,165,166,167,168,169,170,171,172,173,174,175,176,177,178,179,180,181,182,183,184,185,186,187,188,189,190,191,192,193,194,195,196,197,198,199,200,201,202,1,2,3,4,5,6,7,8,9,10,11,12,13,14,15,16,17,18,19,20,21,22,23,24,25,26,27,28,29,30,31,32,33,34,35,36,37,38,39,40,41,42,43,44,45,47,48,49,54,55,56,63,69,70,72,74,75,77,78,81,82,83,84,85,87,88,89,92,93,94,95,96,98,99,101,102,103,104,108,109,113,114,116,117,118,119,120,121,122,123,124],\"index\":[0,1,2,3,4,5,6,7,8,9,10,11,12,13,14,15,16,17,18,19,20,21,22,23,24,25,26,27,28,29,30,31,32,33,34,35,36,37,38,39,40,41,42,43,44,45,46,47,48,49,50,51,52,53,54,55,56,57,58,59,60,61,62,63,64,65,66,67,68,69,70,71,72,73,74,75,76,77,78,79,80,81,82,83,84,85,86,87,88,89,90,91,92,93,94,95,96,97,98,99,100,101,102,103,104,105,106,107,108,109,110,111,112,113,114,115,116,117,118,119,120,121,122,123,124,125,126,127,128,129,130,131,132,133,134,135,136,137,138,139,140,141,142,143,144,145,146,147,148,149,150,151,152,153,154,155,156,157,158,159,160,161,162,163,164,165,166,167,168,169,170,171,172,173,174,175,176,177,178,179,180,181,182,183,184,185,186,187,188,189,190,191,192,193,194,195,196,197,198,199,200,201,202,203,204,205,206,207,208,209,210,211,212,213,214,215,216,217,218,219,220,221,222,223,224,225,226,227,228,229,230,231,232,233,234,235,236,237,238,239,240,241,242,243,244,245,246,248,249,250,255,256,257,264,270,271,273,275,276,278,279,282,283,284,285,286,288,289,290,293,294,295,296,297,299,300,302,303,304,305,309,310,314,315,317,318,319,320,321,322,323,324,325],\"rating\":[7.4,7.4,8.2,7.3,7.6,7.6,7.8,7.4,8.0,7.7,7.8,7.3,7.0,7.4,6.9,7.0,7.6,6.5,7.3,7.6,7.0,7.1,7.4,7.2,7.5,7.5,7.6,6.8,8.0,6.7,7.5,7.3,7.7,6.8,6.9,7.2,7.9,7.3,6.8,6.4,7.1,7.0,6.8,6.9,7.6,7.2,6.9,7.5,7.7,7.5,6.5,6.5,6.6,7.1,6.1,7.4,6.9,6.8,7.4,6.7,7.2,6.9,6.7,6.8,7.2,6.6,6.9,6.3,6.4,6.4,6.8,6.9,6.8,6.9,7.6,6.9,7.3,7.2,6.9,6.7,7.0,7.0,6.5,5.8,7.0,6.9,7.0,6.6,6.9,7.5,6.7,6.6,6.3,6.6,6.6,5.1,6.4,6.6,7.0,6.7,7.6,6.3,7.0,6.9,6.3,7.0,6.8,6.6,5.7,7.2,6.5,6.6,7.0,6.7,5.9,7.3,7.1,7.3,6.5,5.7,6.5,5.8,7.4,7.4,7.6,6.3,7.0,6.7,5.9,6.6,6.4,7.4,6.4,6.6,6.4,6.1,5.0,5.9,6.0,6.8,7.1,5.4,5.6,5.6,5.2,5.8,5.4,6.2,6.0,5.7,5.7,5.6,5.7,6.0,5.9,6.8,6.6,6.4,6.1,5.6,6.6,5.6,6.1,5.9,5.6,6.0,5.7,5.6,6.2,6.0,6.3,5.9,6.1,5.6,6.0,5.8,5.8,7.9,7.8,7.4,8.1,7.2,7.3,7.5,7.5,6.9,6.0,7.4,7.2,6.6,6.9,7.4,6.8,7.1,7.0,7.2,7.0,8.2,7.0,8.2,6.9,8.0,6.2,6.6,6.3,6.0,6.8,7.0,6.5,5.9,6.1,6.3,6.6,6.2,6.1,7.1,6.1,6.2,6.1,6.0,6.1,6.0,5.9,5.9,6.8,6.6,6.5,6.8,5.7,7.0,6.8,6.8,7.0,7.2,7.0,6.6,6.6,6.6,6.6,6.1,5.3,7.0,6.9,6.8,6.1,6.7,5.6,6.4,6.4,6.4,6.6,7.6,8.0,7.4,6.6,8.3,7.4,7.8,8.3,7.8,8.2,8.2,8.6,8.2,7.8,8.2,7.8,8.2,8.5,8.0,7.0,7.4,7.0,7.6,7.8,7.0,8.2,7.6,8.4,7.6,8.1,8.5,7.6,8.2,8.4,8.5,7.8,8.6,7.8,7.9,6.8,7.8,7.4],\"rating_count\":[101.0,62.0,71.0,45.0,38.0,35.0,38.0,34.0,40.0,34.0,36.0,29.0,26.0,27.0,21.0,23.0,23.0,21.0,23.0,21.0,23.0,11.0,17.0,18.0,17.0,19.0,16.0,17.0,22.0,15.0,18.0,15.0,22.0,16.0,14.0,18.0,20.0,18.0,15.0,14.0,18.0,14.0,11.0,17.0,21.0,15.0,13.0,11.0,16.0,13.0,11.0,11.0,12.0,14.0,11.0,13.0,11.0,13.0,14.0,15.0,12.0,9.0,10.0,9.0,10.0,11.0,11.0,9.0,10.0,9.0,12.0,9.0,9.0,10.0,14.0,9.0,10.0,12.0,9.0,11.0,11.0,10.0,11.0,12.0,11.0,8.0,14.0,9.0,11.0,16.0,10.0,8.0,12.0,7.0,7.0,11.0,9.0,8.0,8.0,9.0,9.0,11.0,9.0,8.0,9.0,11.0,11.0,12.0,9.0,10.0,10.0,10.0,11.0,12.0,15.0,9.0,10.0,12.0,8.0,12.0,13.0,8.0,9.0,10.0,5.0,11.0,8.0,6.0,7.0,12.0,7.0,5.0,9.0,11.0,10.0,8.0,8.0,8.0,11.0,11.0,15.0,7.0,8.0,9.0,9.0,9.0,10.0,9.0,8.0,7.0,7.0,7.0,7.0,8.0,7.0,5.0,9.0,8.0,8.0,7.0,9.0,5.0,8.0,9.0,7.0,7.0,7.0,8.0,5.0,8.0,9.0,9.0,8.0,8.0,9.0,10.0,8.0,19.0,12.0,10.0,22.0,8.0,11.0,10.0,10.0,8.0,9.0,9.0,11.0,8.0,7.0,10.0,12.0,9.0,9.0,8.0,7.0,6.0,9.0,5.0,7.0,5.0,9.0,9.0,11.0,7.0,5.0,13.0,8.0,7.0,7.0,9.0,10.0,8.0,7.0,11.0,8.0,8.0,8.0,7.0,9.0,7.0,7.0,7.0,9.0,5.0,8.0,5.0,9.0,5.0,5.0,9.0,5.0,5.0,5.0,5.0,5.0,7.0,5.0,7.0,7.0,6.0,7.0,5.0,9.0,6.0,8.0,5.0,7.0,5.0,5.0,7.0,5.0,5.0,5.0,6.0,5.0,5.0,7.0,5.0,5.0,5.0,9.0,8.0,6.0,6.0,5.0,5.0,10.0,6.0,7.0,7.0,7.0,5.0,5.0,5.0,5.0,7.0,8.0,7.0,7.0,6.0,5.0,5.0,5.0,6.0,5.0,5.0,5.0,9.0,5.0,5.0,5.0],\"title\":[\"George Clooney/Governor Jeb Bush/Mavis Staples & Friends\",\"Scarlett Johansson/Elon Musk/Kendrick Lamar\",\"Vice President Joe Biden/Travis Kalanick/Toby Keith\",\"Amy Schumer/Stephen King/Troubled Waters\",\"Emily Blunt/Justice Stephen Breyer/The Dead Weather\",\"Jake Gyllenhaal/Apple CEO Tim Cook/Run the Jewels & TV on the Radio\",\"Kevin Spacey/Carol Burnett/Abbi Jacobson & Ilana Glazer/Willie Nelson & John Mellencamp\",\"Trevor Noah/Ban Ki-Moon/Chris Stapleton\",\"Lupita Nyong'o/Sen. Bernie Sanders/Cast of \\\"An American in Paris\\\"\",\"Steph Curry/Sen. Ted Cruz/Don Henley\",\"Donald Trump/Ernest Moniz/Raury\",\"Hugh Jackman/Sen. Elizabeth Warren/Pearl Jam\",\"Andrew Sullivan/Maria Shriver/Jim Gaffigan/Archbishop Thomas Wenski\",\"Malala Yousafzai/Kerry Washington/The Arcs\",\"Michelle Obama/Mindy Kaling/John Legend\",\"Ellen Page/Jesse Eisenberg/Dominic Wilcox\",\"Elizabeth Gilbert/John Oliver/Evan Spiegel/Bill Withers/Ed Sheeran\",\"Secretary of State John Kerry/Claire Danes/PewDiePie\",\"Morgan Freeman/Ruth Wilson/Sean Murray\",\"John McCain/Yo-Yo Ma/Misty Copeland\",\"Bill Clinton/Billy Eichner/Florence and the Machine\",\"Gina Rodriguez/Ben Bernanke/Tame Impala\",\"Cate Blanchett/Airbnb CEO Brian Chesky\",\"James Corden/Shane Smith/Halsey\",\"Carey Mulligan/Elvis Costello/Darlene Love\",\"Sarah Silverman/Elijah Wood/The Legends of Zelda: Symphony of the Goddesses\",\"Jack Black/Nick Woodman/Michelle Dorrance\",\"Oprah Winfrey/Joseph Fink & Jeffrey Cranor/Judith Hill\",\"Jimmy Kimmel/\\\"Crimson Peak\\\" Cast/Beach House\",\"Sienna Miller/Melissa Benoist/Chance the Rapper\",\"Hillary Clinton/Anthony Bourdain/Carrie Brownstein/Lianne La Navas\",\"Julianna Margulies/Jonathan Franzen/Alabama Shakes\",\"Seth MacFarlane/Neil DeGrasse Tyson\",\"Charlie Rose/Stacy Schiff/Ghost/The Zombies\",\"Allison Janney/Colin Quinn/Margaret Cho\",\"Antonio Banderas/Reed Hastings/John Irving\",\"Daniel Craig/Elizabeth Gilbert/Dr. Eugenia Cheng\",\"Bryan Cranston/Karl Ove Knausgaard/Shamir\",\"Whoopi Goldberg/Gov. John Kasich/Glen Hansard\",\"Ethan Hawke/Sen. Claire McCaskill & Sen. Amy Klobuchar/Nathaniel Ratcliff & the Night Sweats\",\"Aziz Ansari/Shonda Rhimes/Bruce Campbell & Lucy Lawless\",\"Viola Davis/Brian Greene/George Ezra\",\"Jennifer Connelly/Judd Apatow/The Internet\",\"Mark Ruffalo/John Cleese/Micheal Flatley\",\"Capt. Florent Groberg/Bill Maher/Shepard Fairey/The Acro-Cats\",\"Julianne Moore/Burt Reynolds/Public Image Ltd./CeeLo Green\",\"Sharon Stone/Justin Theroux/James Taylor\",\"Jane Fonda/Andrew Lloyd Webber/Brandon Niederauer\",\"Michael Caine/Larry Wilmore/Boots/Vulfpeck\",\"Sylvester Stallone/Ted Koppel/My Morning Jacket\",\"Spike Lee/Andy Cohen/Carly Simon\",\"Gloria Estefan/Navy Seal Eric Greitens/Jake Wood/Chef Daniel Boulud\",\"Steve Carell/Jennifer Hudson\",\"Marion Cotillard/George Saunders/Joanna Newsom\",\"Cast of \\\"Downton Abbey\\\"/Adam McKay/Kurt Vile\",\"Bruce Willis/Michael Lewis/Lizzo\",\"Lin-Manuel Miranda/Ike Barinholtz/Sharon Jones & the Dap Kings\",\"Jennifer Lawrence/Doris Kearns Goodwin/Sleater-Kinney\",\"Quentin Tarantino/Jonathan Groff/Squeeze\",\"Robert De Niro/Daniel Gilbert/Henry Rollins\",\"Michael Moore/Samantha Power/Michael C. Hall\",\"Mandy Patinkin/Kayvon Beykpour/Leon Bridges\",\"Samuel L. Jackson/Olivia Hallisey/Foals\",\"John Krasinski/Killer Mike/George Church/Foals\",\"Jerry Seinfeld/Sen. Rand Paul/Andra Day\",\"Damian Lewis/America Ferrera/FloydLittle's Double Dutch Team\",\"Matthew Broderick/Sarah Parcak/Kacey Musgraves\",\"Jane Lynch/HUD Secretary Julian Castro/EL VY\",\"Saoirse Ronan/Jeremy Stoppelman/Laura Ricciardi & Moira Demos/James Bay\",\"Paul Giamatti/Guerilla Girls/J.B. Mauney\",\"Olivia Munn/T.J. Miller/Father John Misty\",\"Scott Kelly/Abby Wambach/Maria Bamford\",\"Patricia Heaton/Quincy Jones/DeRay Mckesson/Grace\",\"Charlie Day/Colin Hanks/Margo Price\",\"James Spader/Brandon Marshall/Sarah Koenig/Rev Run\",\"Christian Slater/Josh Radnor/Iggy Pop\",\"Steven Tyler/Gaby Hoffmann/Lapsley\",\"Donald Rumsfeld/Russell Westbrook/Anderson Paak & the Free Nationals\",\"Laurence Fishburne/Sarah Paulson/Woke\",\"Chris Pine/Danielle Brooks/Jonah Reider/Baauer\",\"Josh Brolin/John Dickerson/Erin Brockovich/Aubrie Sellers\",\"John Travolta & Courtney B. Vance/Amy Cuddy/John Moreland\",\"David Schwimmer/Pastor Joel Osteen/M. Ward\",\"Dr. Phil McGraw/Mark & Jay Duplass/Michael Eric Dyson/Anderson Paak & the Free Nationals\",\"Michael Strahan/Samantha Bee/Wilco\",\"Bobby Cannavale/Donny Deutsch/Charles Kelley\",\"Tina Fey & Margot Robbie/Will Ferrell/Megyn Kelly/Keegan-Michael Key & Jordan Peele\",\"Bill O'Reilly/Eddie George/Macklemore & Ryan Lewis\",\"Olivia Wilde/Christiane Amanpour\",\"Ben Stiller/Sen. Bernie Sanders/TAO: Seventeen Samurai\",\"Kelsey Grammer/Fred Armisen/Sarah McDaniel/Ty Segall & the Muggers\",\"Craig Ferguson/Hailey Clauson & Ashley Graham/Cory Booker\",\"Eva Longoria/Abbi Jacobson & Ilana Glazer/Lucinda Williams\",\"Kate Hudson/Governor John Kasich/Courtney Barnett\",\"T\\u00e9a Leoni/Amanda Peet/Triumph the Insult Comic Dog\",\"Chelsea Handler/Zosia Mamet/The Lumineers\",\"Casey Affleck/Richard Dreyfuss/Mavis Staples\",\"Debra Messing/Zachary Quinto/Violent Femmes\",\"Adrien Brody/Danai Gurira/Brian Greene\",\"Tim Daly/Krysten Ritter/Jason Isbell\",\"Spike Jonze/Jeffrey Dean Morgan/Jack Garratt\",\"Chrissy Teigen/Mike Birbiglia/Adam Savage\",\"Octavia Spencer/John Stamos, Bob Saget & Dave Coulier/Lucius\",\"Christopher Meloni/Edward Byers/Ray LaMontagne\",\"Will Arnett/Charles Barkley/Max Greenfield\",\"Helen Mirren/J.J. Abrams/DMA's\",\"Sally Field/Jerrod Carmichael/Esperanza Spalding\",\"Anna Kendrick/Loretta Lynch/Brian Fallon\",\"Jeff Daniels/Audra McDonald/Mary Elizabeth Winstead\",\"John Oliver/Jordan Spieth/New Order\",\"Steve Martin & Edie Brickell/Shirley MacLaine/Gustavo Dudamel/Los Angeles Philharmonic\",\"Theo James/Jussie Smollett/Laurie Anderson\",\"William H. Macy/Melissa Rauch/Isaac Mizrahi\",\"Tom Hiddleston/Laura Benanti/Frightened Rabbit\",\"Adam Driver/Rachel Bloom/Savages\",\"Eric Stonestreet/Jason Jones/Sen. Elizabeth Warren\",\"Sarah Paulson/Tatiana Maslany/Wynton Marsalis, Lil Buck & Jared Grimes\",\"Steve Buscemi/Benjamin Walker/Cast of Broadway's \\\"American Psycho\\\"\",\"Matthew Perry/Nick Offerman/Explosions in the Sky\",\"Melissa McCarthy & Ben Falcone/Arianna Huffington/Babymetal\",\"Anna Kendrick & Sam Rockwell/David Duchovny/Autolux\",\"Mindy Kaling/Tituss Burgess/Ken Burns\",\"Hillary Clinton/Jesse Tyler Ferguson/Katharine McPhee/Sturgill Simpson\",\"Kevin Spacey/Thomas Middleditch/The Flaming Lips\",\"Dennis Quaid/Matt Walsh/Charles Bradley\",\"Tom Hanks/Leslie Odom, Jr./The Strumbellas/Roy Haynes\",\"Julia Louis-Dreyfus/Nikolaj Coster-Waldau/Sam Morril\",\"Michelle Williams/Eddie Huang/Bob Mould\",\"J. K. Simmons/Jane Krakowski/Chris Wallace\",\"Susan Sarandon/David Tennant/Catfish & the Bottlemen\",\"Julianna Margulies, Christine Baranski & Matt Czuchry/Hank Azaria/Anderson Cooper\",\"Anderson Cooper/Mark Feuerstein/Gwen Stefani\",\"Bill O'Reilly/Morris Chestnut/Deerhunter\",\"Dakota Johnson/Sebastian Stan/Lukas Nelson & Promise of the Real\",\"Anthony Mackie/Rob Reiner/Maxwell\",\"Judy Sheindlin/Zac Posen/W. Kamau Bell\",\"Lily Tomlin/Kumail Nanjiani/Ryan Hamilton\",\"Kaley Cuoco/Dan Savage/The National\",\"Chloe Grace Moretz/Katie Couric/Brian Green/Charlamagne Tha God\",\"Kate Beckinsale/B.J. Novak/Desiigner\",\"Ryan Gosling & Russell Crowe/Jessie Mueller/Animal Collective\",\"Matt Bomer/Zach Woods/Nick Griffin\",\"Jason Sudeikis/Michael Weatherly/Megyn Kelly\",\"Anthony Anderson/Eugene Levy & Catherine O'Hara/Coldplay\",\"Josh Gad/Gillian Jacobs/Band of Horses\",\"Rose Byrne/Bobby Flay/Weird Al Yankovic\",\"Seth Rogen/Krysten Ritter/Wolf Parade\",\"Emilia Clarke/Shiri Appleby/Cynthia Erivo\",\"Sean Hayes/Brooklyn Decker/Lewis Black\",\"James McAvoy/Nick Swardson/Physicist Brian Greene\",\"Lizzy Caplan/Neil Young/Mike Epps\",\"Rashida Jones/Daveed Diggs/Marina Franklin/The Struts\",\"James Corden/Scott Speedman/Death Cab for Cutie\",\"Jude Law/Norman Reedus/Hundred Waters, Skrillex & Chance the Rapper\",\"Laura Linney/John Leguizamo/Gary Clark Jr./Paula Robison\",\"Patrick Wilson/Gayle King/Gary Johnson & William Weld\",\"David Duchovny/Aaron Tveit/Alexander Koblikov\",\"Bill O'Reilly/Anna Chlumsky/Aesop Rock\",\"Daniel Radcliffe/George Lopez/Hinds\",\"Liam Hemsworth/Ana Gasteyer/Paul Mecurio\",\"Demi Lovato & Nick Jonas/Amy Ryan\",\"Aaron Paul/Michael Ian Black/Silversun Pickups\",\"Alexander Skarsgard/Natasha Leggero/Ziggy Marley\",\"Aubrey Plaza/Hugh Dancy/Andrew Zimmern\",\"Uzo Aduba/Neil DeGrasse Tyson/Adia Victoria\",\"Sen. Bernie Sanders/Paul Dano/Rascal Flatts\",\"Kevin Hart/Taylor Schilling/RuPaul\",\"Kevin Love/Jenny Slate/Dierks Bentley\",\"Tom Brokaw/Sara and Erin Foster/Bibi Bourelly\",\"Samuel L. Jackson/Julie Klausner/Schoolboy Q\",\"Ellie Kemper/Patrick Fugit/We Are Scientists\",\"Zachary Quinto/Natasha Lyonne/2 Chainz\",\"Bryan Cranston/Busy Philipps/Hollywood Vampires\",\"Nicholas Hoult/John Turturro/Bret Baier\",\"Benjamin Bratt/Rob Corddry/The Shelters\",\"Bill Maher/Michael K. Williams/Parquet Courts\",\"Charlie Rose, Gayle King & Norah O'Donnell/DeRay McKesson/Bonnie McFarlane\",\"Zoe Saldana/Jennifer Saunders/Ron Suskind\",\"Keegan-Michael Key/Kathryn Hahn/Jenny Lewis & NAF\",\"Tony Goldwyn/Mark Cuban/Lewis Black/Cory Kahaney/Wyclef Jean\",\"RNC/Sen. Elizabeth Warren/Billy Eichner/Cory Kahaney\",\"Jennifer Saunders/Cory Kahaney\",\"Allison Janney/Anthony Weiner/Ryan Adams\",\"DNC/Jeff Daniels/Bassem Youssef/Aurora\",\"DNC/John Oliver/Jai Courtney/Charlamagne Tha God/DMC\",\"DNC/Abbi Jacobson & Ilana Glazer/Doris Kearns Goodwin/Eric Andre\",\"The 2016 Democratic National Convention - A Look Back\",\"Viola Davis/Simon Helberg/Declan McKenna\",\"Will Smith/Logan Lerman/Tony Bennett\",\"John Cena/Scott Eastwood/Aaron Neville\",\"Jamie Dornan/Javier Munoz/Malcolm Gladwell/The O'Jays\",\"Diane Kruger/Mark Normand/Ibtihaj Muhammad\",\"Amy Schumer/Omari Hardwick/Michaela Watkins\",\"Rami Malek/Tika Sumpter & Parker Sawyers/Diana Gordon\",\"Anderson Cooper/Edgar Ramirez/Kip Moore\",\"Sen. Tim Kaine/Tony Hale/Car Seat Headrest\",\"Rachel Weisz/Kevin Smith/Spike Feresten\",\"Riz Ahmed/Pedro Pascal/Angel Olsen\",\"John Krasinski/Adam Brody/St. Paul & the Broken Bones\",\"Christian Slater/Rep. John Lewis/Chris Geere\",\"Larry Wilmore/Chris Noth/Sampha\",\"Anna Gunn/John Dickerson/Simone Giertz\",\"Harry Connick Jr./Ava DuVernay/Grouplove\",\"Whoopi Goldberg/Regina Hall/Sully Sullenberger\",\"Jessica Alba/Bradley Whitford/George Takei\",\"Tituss Burgess/Jeff Ross/Adam Richman\",\"Dr. Phil McGraw/Alan Cumming/Hamilton Leithauser & Rostam\",\"Joseph Gordon-Levitt/Millie Bobby Brown/The Head and the Heart\",\"Trevor Noah/Allen Iverson/Rachel Maddow\",\"Tracee Ellis Ross/Andrew Rannells/Mac Miller & Anderson.Paak\",\"John Slattery/Oliver Stone/Jon Fisch\",\"Chris Pratt/Scott Bakula/Frederik the Great\",\"Michelle Obama/America Ferrera\",\"Ethan Hawke/Tim Meadows/Wilco/Nile Rodgers\",\"Anthony Anderson/Mark Consuelos/The Kills\",\"Bruce Springsteen/Emma Willman\",\"Rob Lowe/Kal Penn/Emma Willmann\",\"Sean Penn/Sutton Foster/Regina Spektor\",\"Lupita Nyong'o/Donnie Wahlberg/John Prine\",\"Morgan Freeman/Judith Light/Jimmy Eat World\",\"Samantha Bee/Abby Elliott/Asa Butterfield\",\"Mindy Kaling/Gary Owen/Sum 41\",\"John Leguizamo/Cheri Oteri/Paul F. Tompkins/Melissa Etheridge\",\"Armie Hammer/Lindsey Vonn/Gustavo Dudamel/Simon Bolivar Symphony Orchestra\",\"Emily Blunt/Gael Garcia Bernal/Phantogram\",\"Diane Lane/Aja Naomi King/Alingon Mitra\",\"President Barack Obama/Bill O'Reilly/Randall Park/Bob Weir\",\"Nick Offerman/Wayne Gretzky/Morgan Spurlock/Joseph\",\"Hugh Laurie/Paul Reiser/Nate Silver\",\"Tiger Woods/Elijah Wood/Jorge Ramos\",\"Matt LeBlanc/Del. Eleanor Holmes Norton/Wyclef Jean\",\"Tom Hanks/Adam Conover\",\"Will Forte/Dermot Mulroney/Wyatt Cenac/Mitski\",\"Joel McHale/Abbi Jacobson/Jon Glaser\",\"Mary-Louise Parker/Pusha T/The Record Company\",\"Drew Carey/Claire Foy & Matt Smith/Sebastian Maniscalco/Aimee Mann\",\"Ruth Wilson/J.B. Smoove/Dalen Spratt, Juwan Mass & Marcus Harvey\",\"Mel Gibson & Luke Bracey/Tegan & Sara\",\"Michael Strahan/Nick Kroll/Aaron Lewis\",\"Aaron Eckhart/Tig Notaro/Ron Suskind\",\"Viggo Mortensen/Patton Oswalt/Maz Jobrani\",\"Don Cheadle/Stevie Wonder/Katherine Waterston\",\"Miles Teller/Neil DeGrasse Tyson/Triumph, the Insult Comic Dog\",\"Sting/Thandie Newton\",\"Eddie Redmayne/Bernie Sanders/Alton Brown/Chris Thile\",\"Anna Kendrick/Mahershala Ali/Chris Gethard\",\"Marion Cotillard/Dev Patel/Dwight Yoakam\",\"William H. Macy/Colin Quinn/Drive-By Truckers\",\"Michael Weatherly/Carrie Fisher/Pretenders\",\"James Marsden/Jimmie Johnson/John Waters\",\"Jason Bateman/Padma Lakshmi/Michael Lewis\",\"Joe Biden/DJ Khaled\",\"Sigourney Weaver/Andy Cohen/Pilobolus Dance Theater\",\"Liam Neeson/Shepard Smith/Jon Batiste\",\"Oprah Winfrey/Pretty Yende\",\"Kate Beckinsale/Chris Messina/Jen Kirkman\",\"Charlie Rose/Hayden Panettiere/Jack Maxwell\",\"Andrew Garfield/Erin Andrews/Cage the Elephant\",\"Jude Law/Gabrielle Union/Thomas L. Friedman\",\"Cuba Gooding Jr./Rupert Friend/Gary Gulman\",\"Sarah Paulson/Corey Stoll/Nick Grant & Watch the Duck\",\"Johnny Galecki/Chris Matthews/Bash & Pop\",\"Jim Gaffigan/Cristela Alonzo/The Avett Brothers\",\"Leslie Mann/Lewis Black/Dan Levy\",\"Josh Groban/Rachael Ray/Japandroids\",\"Ricky Gervais/Christina Ricci/Jain\",\"Priyanka Chopra/Thomas Sadoski/Pat Brown\",\"Paul Giamatti/Wendy Williams/Highly Suspect\",\"John Oliver/Isabelle Huppert/The Avett Brothers\",\"Will Arnett/Pete Holmes/Paul Mecurio\",\"Shailene Woodley/Laverne Cox/Rick & Marty Lagina\",\"Christine Baranski/Hans Zimmer\",\"Bob Odenkirk/Tatiana Maslany/George Saunders\",\"Sally Field/Maggie Siff/Lady Antebellum\",\"Uma Thurman/Jason Jones/Alison Krauss\",\"Joe Scarborough/Kate Upton/Yvette Nicole Brown\",\"Aubrey Plaza/Bradley Whitford/Lupe Fiasco\",\"Allison Williams/Cush Jumbo/Carmen Lynch\",\"Jon Stewart/Connie Britton/Zoey Deutch/Lori McKenna\",\"Lisa Kudrow/Josh Earnest/Tony Rock\",\"Anderson Cooper/Judd Apatow/Jidenna\",\"Kevin Kline/Jerrod Carmichael/Michael Hayden\",\"Ewan McGregor/Finn Wittrock/The Shins\",\"Neil DeGrasse Tyson/Rick Ross\",\"Bryan Cranston/Audra McDonald/Greer Barnes\",\"Ryan Reynolds/Josh Lucas/Andy Daly/Green Day\",\"Glenn Close/Michael McKean/H. Jon Benjamin\",\"Lily Tomlin & Jane Fonda/Jay Chandrasekhar/Aimee Mann\",\"Hank Azaria/Kate Walsh/Circus 1903\",\"Emma Roberts/Ken Jeong/Luke Bryan & Dierks Bentley\",\"Marisa Tomei/Hugh Dancy/Broken Social Scene\",\"Susan Sarandon/Joey McIntyre/Robert Klein\",\"Jason Sudeikis/Jennifer Esposito/Joey Bada$$\"]}},\"id\":\"cd64b7b5-9512-47ed-9543-6df2ba920a17\",\"type\":\"ColumnDataSource\"},{\"attributes\":{\"months\":[0,1,2,3,4,5,6,7,8,9,10,11]},\"id\":\"5c4aaabc-90ec-4aa8-b2ed-cff5af1e2744\",\"type\":\"MonthsTicker\"}],\"root_ids\":[\"eade8cdd-a01e-4f85-870d-d9a85248295f\"]},\"title\":\"Bokeh Application\",\"version\":\"0.12.4\"}};\n",
       "            var render_items = [{\"docid\":\"2ba7c4ba-7f52-4df1-bfee-ca52ca1ea040\",\"elementid\":\"c80345ce-d06d-4ae6-a942-8e90b74cbb3e\",\"modelid\":\"eade8cdd-a01e-4f85-870d-d9a85248295f\"}];\n",
       "            \n",
       "            Bokeh.embed.embed_items(docs_json, render_items);\n",
       "          };\n",
       "          if (document.readyState != \"loading\") fn();\n",
       "          else document.addEventListener(\"DOMContentLoaded\", fn);\n",
       "        })();\n",
       "      },\n",
       "      function(Bokeh) {\n",
       "      }\n",
       "    ];\n",
       "  \n",
       "    function run_inline_js() {\n",
       "      \n",
       "      if ((window.Bokeh !== undefined) || (force === true)) {\n",
       "        for (var i = 0; i < inline_js.length; i++) {\n",
       "          inline_js[i](window.Bokeh);\n",
       "        }if (force === true) {\n",
       "          display_loaded();\n",
       "        }} else if (Date.now() < window._bokeh_timeout) {\n",
       "        setTimeout(run_inline_js, 100);\n",
       "      } else if (!window._bokeh_failed_load) {\n",
       "        console.log(\"Bokeh: BokehJS failed to load within specified timeout.\");\n",
       "        window._bokeh_failed_load = true;\n",
       "      } else if (force !== true) {\n",
       "        var cell = $(document.getElementById(\"c80345ce-d06d-4ae6-a942-8e90b74cbb3e\")).parents('.cell').data().cell;\n",
       "        cell.output_area.append_execute_result(NB_LOAD_WARNING)\n",
       "      }\n",
       "  \n",
       "    }\n",
       "  \n",
       "    if (window._bokeh_is_loading === 0) {\n",
       "      console.log(\"Bokeh: BokehJS loaded, going straight to plotting\");\n",
       "      run_inline_js();\n",
       "    } else {\n",
       "      load_libs(js_urls, function() {\n",
       "        console.log(\"Bokeh: BokehJS plotting callback run at\", now());\n",
       "        run_inline_js();\n",
       "      });\n",
       "    }\n",
       "  }(this));\n",
       "</script>"
      ]
     },
     "metadata": {},
     "output_type": "display_data"
    }
   ],
   "source": [
    "p = plot_interactive_timeseries(x='air_date', y='rating_count', data=episodes, \n",
    "                                title=\"Number of Ratings per Episode\",\n",
    "                                hover_cols=hover_cols)\n",
    "show(p)"
   ]
  },
  {
   "cell_type": "markdown",
   "metadata": {
    "deletable": true,
    "editable": true
   },
   "source": [
    "## Ratings vs Rating Count"
   ]
  },
  {
   "cell_type": "code",
   "execution_count": 8,
   "metadata": {
    "collapsed": false,
    "deletable": true,
    "editable": true
   },
   "outputs": [
    {
     "data": {
      "text/plain": [
       "<matplotlib.axes._subplots.AxesSubplot at 0x111785eb8>"
      ]
     },
     "execution_count": 8,
     "metadata": {},
     "output_type": "execute_result"
    },
    {
     "data": {
      "image/png": "[encoded data removed]",
      "text/plain": [
       "<matplotlib.figure.Figure at 0x111a23c88>"
      ]
     },
     "metadata": {},
     "output_type": "display_data"
    }
   ],
   "source": [
    "episodes.plot(kind='scatter', x='rating', y='rating_count')"
   ]
  },
  {
   "cell_type": "markdown",
   "metadata": {
    "deletable": true,
    "editable": true
   },
   "source": [
    "## Sentiment Analysis"
   ]
  },
  {
   "cell_type": "code",
   "execution_count": 9,
   "metadata": {
    "collapsed": false,
    "deletable": true,
    "editable": true,
    "scrolled": false
   },
   "outputs": [],
   "source": [
    "# rows = []\n",
    "# for index, row in episodes.iterrows():\n",
    "#     if pd.isnull(row.text): continue\n",
    "#     blob = TextBlob(row.text)\n",
    "#     sentiment = blob.sentiment\n",
    "#     row = {\"episode_number\": row.episode_number, \"polarity\": sentiment.polarity, \"subjectivity\": sentiment.subjectivity}\n",
    "#     rows.append(row)\n",
    "\n",
    "# sentiment = pd.DataFrame(rows).set_index('episode_number')\n",
    "# episodes = pd.concat([episodes.set_index('episode_number'), sentiment], axis=1).reset_index()\n",
    "# episodes[['episode_number', 'air_date', 'polarity', 'subjectivity', 'rating', 'rating_count']].head()"
   ]
  },
  {
   "cell_type": "code",
   "execution_count": 10,
   "metadata": {
    "collapsed": false,
    "deletable": true,
    "editable": true
   },
   "outputs": [],
   "source": [
    "# episodes.set_index('air_date').polarity.plot(style='.')\n",
    "# episodes.set_index('air_date').subjectivity.plot(style='.')\n",
    "# plt.legend()"
   ]
  },
  {
   "cell_type": "code",
   "execution_count": 11,
   "metadata": {
    "collapsed": false,
    "deletable": true,
    "editable": true
   },
   "outputs": [],
   "source": [
    "# mod = smf.ols(formula='rating ~ subjectivity + polarity', data=episodes)\n",
    "# res = mod.fit()\n",
    "# res.summary()"
   ]
  },
  {
   "cell_type": "markdown",
   "metadata": {
    "deletable": true,
    "editable": true
   },
   "source": [
    "## Subtitles of Most Recent Episodes"
   ]
  },
  {
   "cell_type": "code",
   "execution_count": 12,
   "metadata": {
    "collapsed": false,
    "deletable": true,
    "editable": true,
    "scrolled": false
   },
   "outputs": [],
   "source": [
    "# for i, row in episodes.tail(5).iterrows():\n",
    "#     if pd.isnull(row.text): continue\n",
    "#     printb(row.episode_number, row.title)\n",
    "#     print(row.text[:800] + '...')\n",
    "#     print(\"\\n----------------------------------\\n\")"
   ]
  },
  {
   "cell_type": "code",
   "execution_count": null,
   "metadata": {
    "collapsed": true
   },
   "outputs": [],
   "source": []
  }
 ],
 "metadata": {
  "kernelspec": {
   "display_name": "Python 3",
   "language": "python",
   "name": "python3"
  },
  "language_info": {
   "codemirror_mode": {
    "name": "ipython",
    "version": 3
   },
   "file_extension": ".py",
   "mimetype": "text/x-python",
   "name": "python",
   "nbconvert_exporter": "python",
   "pygments_lexer": "ipython3",
   "version": "3.6.0"
  }
 },
 "nbformat": 4,
 "nbformat_minor": 0
}
