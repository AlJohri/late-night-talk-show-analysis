{
 "cells": [
  {
   "cell_type": "markdown",
   "metadata": {},
   "source": [
    "# The Late Show with Stephen Colbert Analysis"
   ]
  },
  {
   "cell_type": "markdown",
   "metadata": {},
   "source": [
    "## Standard Imports"
   ]
  },
  {
   "cell_type": "code",
   "execution_count": 1,
   "metadata": {
    "collapsed": false
   },
   "outputs": [
    {
     "data": {
      "text/html": []
     },
     "metadata": {},
     "output_type": "display_data"
    },
    {
     "data": {
      "application/javascript": [
       "\n",
       "(function(global) {\n",
       "  function now() {\n",
       "    return new Date();\n",
       "  }\n",
       "\n",
       "  if (typeof (window._bokeh_onload_callbacks) === \"undefined\") {\n",
       "    window._bokeh_onload_callbacks = [];\n",
       "  }\n",
       "\n",
       "  function run_callbacks() {\n",
       "    window._bokeh_onload_callbacks.forEach(function(callback) { callback() });\n",
       "    delete window._bokeh_onload_callbacks\n",
       "    console.info(\"Bokeh: all callbacks have finished\");\n",
       "  }\n",
       "\n",
       "  function load_libs(js_urls, callback) {\n",
       "    window._bokeh_onload_callbacks.push(callback);\n",
       "    if (window._bokeh_is_loading > 0) {\n",
       "      console.log(\"Bokeh: BokehJS is being loaded, scheduling callback at\", now());\n",
       "      return null;\n",
       "    }\n",
       "    if (js_urls == null || js_urls.length === 0) {\n",
       "      run_callbacks();\n",
       "      return null;\n",
       "    }\n",
       "    console.log(\"Bokeh: BokehJS not loaded, scheduling load and callback at\", now());\n",
       "    window._bokeh_is_loading = js_urls.length;\n",
       "    for (var i = 0; i < js_urls.length; i++) {\n",
       "      var url = js_urls[i];\n",
       "      var s = document.createElement('script');\n",
       "      s.src = url;\n",
       "      s.async = false;\n",
       "      s.onreadystatechange = s.onload = function() {\n",
       "        window._bokeh_is_loading--;\n",
       "        if (window._bokeh_is_loading === 0) {\n",
       "          console.log(\"Bokeh: all BokehJS libraries loaded\");\n",
       "          run_callbacks()\n",
       "        }\n",
       "      };\n",
       "      s.onerror = function() {\n",
       "        console.warn(\"failed to load library \" + url);\n",
       "      };\n",
       "      console.log(\"Bokeh: injecting script tag for BokehJS library: \", url);\n",
       "      document.getElementsByTagName(\"head\")[0].appendChild(s);\n",
       "    }\n",
       "  };\n",
       "\n",
       "  var js_urls = ['https://cdn.pydata.org/bokeh/release/bokeh-0.11.1.min.js', 'https://cdn.pydata.org/bokeh/release/bokeh-widgets-0.11.1.min.js', 'https://cdn.pydata.org/bokeh/release/bokeh-compiler-0.11.1.min.js'];\n",
       "\n",
       "  var inline_js = [\n",
       "    function(Bokeh) {\n",
       "      Bokeh.set_log_level(\"info\");\n",
       "    },\n",
       "    \n",
       "    function(Bokeh) {\n",
       "      Bokeh.$(\"#dee25721-c40b-4c78-b2e4-facdaf7ca9e3\").text(\"BokehJS successfully loaded\");\n",
       "    },\n",
       "    function(Bokeh) {\n",
       "      console.log(\"Bokeh: injecting CSS: https://cdn.pydata.org/bokeh/release/bokeh-0.11.1.min.css\");\n",
       "      Bokeh.embed.inject_css(\"https://cdn.pydata.org/bokeh/release/bokeh-0.11.1.min.css\");\n",
       "      console.log(\"Bokeh: injecting CSS: https://cdn.pydata.org/bokeh/release/bokeh-widgets-0.11.1.min.css\");\n",
       "      Bokeh.embed.inject_css(\"https://cdn.pydata.org/bokeh/release/bokeh-widgets-0.11.1.min.css\");\n",
       "    }\n",
       "  ];\n",
       "\n",
       "  function run_inline_js() {\n",
       "    for (var i = 0; i < inline_js.length; i++) {\n",
       "      inline_js[i](window.Bokeh);\n",
       "    }\n",
       "  }\n",
       "\n",
       "  if (window._bokeh_is_loading === 0) {\n",
       "    console.log(\"Bokeh: BokehJS loaded, going straight to plotting\");\n",
       "    run_inline_js();\n",
       "  } else {\n",
       "    load_libs(js_urls, function() {\n",
       "      console.log(\"Bokeh: BokehJS plotting callback run at\", now());\n",
       "      run_inline_js();\n",
       "    });\n",
       "  }\n",
       "}(this));"
      ]
     },
     "metadata": {},
     "output_type": "display_data"
    }
   ],
   "source": [
    "%matplotlib inline\n",
    "from matplotlib import pyplot as plt\n",
    "\n",
    "import pandas as pd\n",
    "import seaborn as sns\n",
    "from textblob import TextBlob\n",
    "import statsmodels.formula.api as smf\n",
    "\n",
    "plt.rcParams['figure.figsize'] = (20,6)\n",
    "\n",
    "from bokeh.plotting import output_notebook, show\n",
    "output_notebook(hide_banner=True)\n",
    "\n",
    "from IPython.display import display, HTML\n",
    "def printb(*args):\n",
    "    s = \" \".join([str(x) for x in args])\n",
    "    display(HTML('<strong>%s</strong>' % s))\n",
    "\n",
    "from analysis_utils import create_df, plot_interactive_timeseries"
   ]
  },
  {
   "cell_type": "markdown",
   "metadata": {},
   "source": [
    "## Load Data"
   ]
  },
  {
   "cell_type": "code",
   "execution_count": 2,
   "metadata": {
    "collapsed": false
   },
   "outputs": [
    {
     "data": {
      "text/html": [
       "<div>\n",
       "<table border=\"1\" class=\"dataframe\">\n",
       "  <thead>\n",
       "    <tr style=\"text-align: right;\">\n",
       "      <th></th>\n",
       "      <th>number</th>\n",
       "      <th>rating</th>\n",
       "      <th>rating_count</th>\n",
       "      <th>airdate</th>\n",
       "      <th>title</th>\n",
       "      <th>description</th>\n",
       "      <th>text</th>\n",
       "    </tr>\n",
       "  </thead>\n",
       "  <tbody>\n",
       "    <tr>\n",
       "      <th>0</th>\n",
       "      <td>1</td>\n",
       "      <td>7.5</td>\n",
       "      <td>97.0</td>\n",
       "      <td>2015-09-08</td>\n",
       "      <td>George Clooney/Governor Jeb Bush/Mavis Staples...</td>\n",
       "      <td>Stephen Colbert succeeds David Letterman as \"L...</td>\n",
       "      <td>OH, SAY CAN YOU SEE BY THE DAWN'S EARLY LIGHT ...</td>\n",
       "    </tr>\n",
       "    <tr>\n",
       "      <th>1</th>\n",
       "      <td>2</td>\n",
       "      <td>7.5</td>\n",
       "      <td>58.0</td>\n",
       "      <td>2015-09-09</td>\n",
       "      <td>Scarlett Johansson/Elon Musk/Kendrick Lamar</td>\n",
       "      <td>Scarlett Johansson (Avengers: Age of Ultron (2...</td>\n",
       "      <td>♪ ♪ ♪  Captioning sponsored by CBS\\nStephen: W...</td>\n",
       "    </tr>\n",
       "    <tr>\n",
       "      <th>2</th>\n",
       "      <td>3</td>\n",
       "      <td>8.6</td>\n",
       "      <td>66.0</td>\n",
       "      <td>2015-09-10</td>\n",
       "      <td>Vice President Joe Biden/Travis Kalanick/Toby ...</td>\n",
       "      <td>Vice President Joe Biden; Uber CEO Travis Kala...</td>\n",
       "      <td>(CHEERS AND APPLAUSE)\\nStephen: HEY! (CHEERS A...</td>\n",
       "    </tr>\n",
       "    <tr>\n",
       "      <th>3</th>\n",
       "      <td>4</td>\n",
       "      <td>7.4</td>\n",
       "      <td>42.0</td>\n",
       "      <td>2015-09-11</td>\n",
       "      <td>Amy Schumer/Stephen King/Troubled Waters</td>\n",
       "      <td>Amy Schumer (Trainwreck (2015)); author Stephe...</td>\n",
       "      <td>COME ON! COME ON! ♪ ♪ ♪ ( CHEERS AND APPLAUSE ...</td>\n",
       "    </tr>\n",
       "    <tr>\n",
       "      <th>4</th>\n",
       "      <td>5</td>\n",
       "      <td>7.9</td>\n",
       "      <td>36.0</td>\n",
       "      <td>2015-09-14</td>\n",
       "      <td>Emily Blunt/Justice Stephen Breyer/The Dead We...</td>\n",
       "      <td>Actress Emily Blunt (Sicario (2015)); Supreme ...</td>\n",
       "      <td>(  BAND PLAYING  \"LATE SHOW\" THEME  ) (  CHEER...</td>\n",
       "    </tr>\n",
       "  </tbody>\n",
       "</table>\n",
       "</div>"
      ],
      "text/plain": [
       "   number  rating  rating_count    airdate  \\\n",
       "0       1     7.5          97.0 2015-09-08   \n",
       "1       2     7.5          58.0 2015-09-09   \n",
       "2       3     8.6          66.0 2015-09-10   \n",
       "3       4     7.4          42.0 2015-09-11   \n",
       "4       5     7.9          36.0 2015-09-14   \n",
       "\n",
       "                                               title  \\\n",
       "0  George Clooney/Governor Jeb Bush/Mavis Staples...   \n",
       "1        Scarlett Johansson/Elon Musk/Kendrick Lamar   \n",
       "2  Vice President Joe Biden/Travis Kalanick/Toby ...   \n",
       "3           Amy Schumer/Stephen King/Troubled Waters   \n",
       "4  Emily Blunt/Justice Stephen Breyer/The Dead We...   \n",
       "\n",
       "                                         description  \\\n",
       "0  Stephen Colbert succeeds David Letterman as \"L...   \n",
       "1  Scarlett Johansson (Avengers: Age of Ultron (2...   \n",
       "2  Vice President Joe Biden; Uber CEO Travis Kala...   \n",
       "3  Amy Schumer (Trainwreck (2015)); author Stephe...   \n",
       "4  Actress Emily Blunt (Sicario (2015)); Supreme ...   \n",
       "\n",
       "                                                text  \n",
       "0  OH, SAY CAN YOU SEE BY THE DAWN'S EARLY LIGHT ...  \n",
       "1  ♪ ♪ ♪  Captioning sponsored by CBS\\nStephen: W...  \n",
       "2  (CHEERS AND APPLAUSE)\\nStephen: HEY! (CHEERS A...  \n",
       "3  COME ON! COME ON! ♪ ♪ ♪ ( CHEERS AND APPLAUSE ...  \n",
       "4  (  BAND PLAYING  \"LATE SHOW\" THEME  ) (  CHEER...  "
      ]
     },
     "execution_count": 2,
     "metadata": {},
     "output_type": "execute_result"
    }
   ],
   "source": [
    "episodes = create_df()\n",
    "episodes.head()"
   ]
  },
  {
   "cell_type": "markdown",
   "metadata": {},
   "source": [
    "## Distribution of Rating and Rating Count"
   ]
  },
  {
   "cell_type": "markdown",
   "metadata": {},
   "source": [
    "Number of episodes with null rating (< 5 ratings)"
   ]
  },
  {
   "cell_type": "code",
   "execution_count": 3,
   "metadata": {
    "collapsed": false
   },
   "outputs": [
    {
     "data": {
      "text/plain": [
       "17"
      ]
     },
     "execution_count": 3,
     "metadata": {},
     "output_type": "execute_result"
    }
   ],
   "source": [
    "episodes.rating.isnull().sum()"
   ]
  },
  {
   "cell_type": "code",
   "execution_count": 4,
   "metadata": {
    "collapsed": false
   },
   "outputs": [
    {
     "data": {
      "text/html": [
       "<div>\n",
       "<table border=\"1\" class=\"dataframe\">\n",
       "  <thead>\n",
       "    <tr style=\"text-align: right;\">\n",
       "      <th></th>\n",
       "      <th>count</th>\n",
       "      <th>mean</th>\n",
       "      <th>std</th>\n",
       "      <th>min</th>\n",
       "      <th>25%</th>\n",
       "      <th>50%</th>\n",
       "      <th>75%</th>\n",
       "      <th>max</th>\n",
       "    </tr>\n",
       "  </thead>\n",
       "  <tbody>\n",
       "    <tr>\n",
       "      <th>rating</th>\n",
       "      <td>125.0</td>\n",
       "      <td>7.572</td>\n",
       "      <td>0.567905</td>\n",
       "      <td>5.9</td>\n",
       "      <td>7.2</td>\n",
       "      <td>7.7</td>\n",
       "      <td>8.0</td>\n",
       "      <td>9.0</td>\n",
       "    </tr>\n",
       "    <tr>\n",
       "      <th>rating_count</th>\n",
       "      <td>125.0</td>\n",
       "      <td>13.352</td>\n",
       "      <td>12.346644</td>\n",
       "      <td>5.0</td>\n",
       "      <td>7.0</td>\n",
       "      <td>9.0</td>\n",
       "      <td>14.0</td>\n",
       "      <td>97.0</td>\n",
       "    </tr>\n",
       "  </tbody>\n",
       "</table>\n",
       "</div>"
      ],
      "text/plain": [
       "              count    mean        std  min  25%  50%   75%   max\n",
       "rating        125.0   7.572   0.567905  5.9  7.2  7.7   8.0   9.0\n",
       "rating_count  125.0  13.352  12.346644  5.0  7.0  9.0  14.0  97.0"
      ]
     },
     "execution_count": 4,
     "metadata": {},
     "output_type": "execute_result"
    }
   ],
   "source": [
    "episodes[['rating', 'rating_count']].describe().T"
   ]
  },
  {
   "cell_type": "code",
   "execution_count": 5,
   "metadata": {
    "collapsed": false
   },
   "outputs": [
    {
     "data": {
      "text/plain": [
       "<matplotlib.axes._subplots.AxesSubplot at 0x11a6875c0>"
      ]
     },
     "execution_count": 5,
     "metadata": {},
     "output_type": "execute_result"
    },
    {
     "data": {
      "image/png": "[encoded data removed]",
      "text/plain": [
       "<matplotlib.figure.Figure at 0x11a616f60>"
      ]
     },
     "metadata": {},
     "output_type": "display_data"
    }
   ],
   "source": [
    "fig, (ax1, ax2) = plt.subplots(ncols=2)\n",
    "\n",
    "episodes.rating.plot(kind='hist', bins=20, ax=ax1, title=\"Histogram of Ratings\")\n",
    "episodes.rating_count.plot(kind='hist', bins=20, ax=ax2, title=\"Histogram of Rating Counts\")"
   ]
  },
  {
   "cell_type": "markdown",
   "metadata": {},
   "source": [
    "## Ratings over Time"
   ]
  },
  {
   "cell_type": "code",
   "execution_count": 6,
   "metadata": {
    "collapsed": false
   },
   "outputs": [
    {
     "data": {
      "text/html": [
       "\n",
       "\n",
       "    <div class=\"plotdiv\" id=\"24a8b842-a691-4eb5-8870-f617a3a36661\"></div>\n",
       "<script type=\"text/javascript\">\n",
       "  \n",
       "  (function(global) {\n",
       "    function now() {\n",
       "      return new Date();\n",
       "    }\n",
       "  \n",
       "    if (typeof (window._bokeh_onload_callbacks) === \"undefined\") {\n",
       "      window._bokeh_onload_callbacks = [];\n",
       "    }\n",
       "  \n",
       "    function run_callbacks() {\n",
       "      window._bokeh_onload_callbacks.forEach(function(callback) { callback() });\n",
       "      delete window._bokeh_onload_callbacks\n",
       "      console.info(\"Bokeh: all callbacks have finished\");\n",
       "    }\n",
       "  \n",
       "    function load_libs(js_urls, callback) {\n",
       "      window._bokeh_onload_callbacks.push(callback);\n",
       "      if (window._bokeh_is_loading > 0) {\n",
       "        console.log(\"Bokeh: BokehJS is being loaded, scheduling callback at\", now());\n",
       "        return null;\n",
       "      }\n",
       "      if (js_urls == null || js_urls.length === 0) {\n",
       "        run_callbacks();\n",
       "        return null;\n",
       "      }\n",
       "      console.log(\"Bokeh: BokehJS not loaded, scheduling load and callback at\", now());\n",
       "      window._bokeh_is_loading = js_urls.length;\n",
       "      for (var i = 0; i < js_urls.length; i++) {\n",
       "        var url = js_urls[i];\n",
       "        var s = document.createElement('script');\n",
       "        s.src = url;\n",
       "        s.async = false;\n",
       "        s.onreadystatechange = s.onload = function() {\n",
       "          window._bokeh_is_loading--;\n",
       "          if (window._bokeh_is_loading === 0) {\n",
       "            console.log(\"Bokeh: all BokehJS libraries loaded\");\n",
       "            run_callbacks()\n",
       "          }\n",
       "        };\n",
       "        s.onerror = function() {\n",
       "          console.warn(\"failed to load library \" + url);\n",
       "        };\n",
       "        console.log(\"Bokeh: injecting script tag for BokehJS library: \", url);\n",
       "        document.getElementsByTagName(\"head\")[0].appendChild(s);\n",
       "      }\n",
       "    };var element = document.getElementById(\"24a8b842-a691-4eb5-8870-f617a3a36661\");\n",
       "    if (element == null) {\n",
       "      console.log(\"Bokeh: ERROR: autoload.js configured with elementid '24a8b842-a691-4eb5-8870-f617a3a36661' but no matching script tag was found. \")\n",
       "      return false;\n",
       "    }\n",
       "  \n",
       "    var js_urls = [];\n",
       "  \n",
       "    var inline_js = [\n",
       "      function(Bokeh) {\n",
       "        Bokeh.$(function() {\n",
       "            var docs_json = {\"2293d22f-19bc-4171-b37b-d214e3360e0a\":{\"roots\":{\"references\":[{\"attributes\":{\"formatter\":{\"id\":\"a53f900b-eb30-430c-84ea-e14acc3896fa\",\"type\":\"BasicTickFormatter\"},\"plot\":{\"id\":\"61562e15-3788-4247-8cab-0a02bad8f956\",\"subtype\":\"Figure\",\"type\":\"Plot\"},\"ticker\":{\"id\":\"0db2b3cd-ca3f-4648-b6a4-cab84ac6878f\",\"type\":\"BasicTicker\"}},\"id\":\"dcabc086-475b-47bb-8bb6-086058b18a33\",\"type\":\"LinearAxis\"},{\"attributes\":{\"fill_alpha\":{\"value\":0.1},\"fill_color\":{\"value\":\"#1f77b4\"},\"line_alpha\":{\"value\":0.1},\"line_color\":{\"value\":\"#1f77b4\"},\"line_width\":{\"value\":2},\"size\":{\"units\":\"screen\",\"value\":5},\"x\":{\"field\":\"airdate\"},\"y\":{\"field\":\"rating\"}},\"id\":\"23851785-94d1-48a6-8354-f30379497ed5\",\"type\":\"Circle\"},{\"attributes\":{},\"id\":\"fc766c4c-4ca4-48ca-981e-9c70bfcfbf98\",\"type\":\"YearsTicker\"},{\"attributes\":{\"days\":[1,2,3,4,5,6,7,8,9,10,11,12,13,14,15,16,17,18,19,20,21,22,23,24,25,26,27,28,29,30,31]},\"id\":\"4b915bbf-6773-4166-ba66-9671d728e1ed\",\"type\":\"DaysTicker\"},{\"attributes\":{\"num_minor_ticks\":5},\"id\":\"d69a77f6-637c-4c12-8fa5-342271ab04ba\",\"type\":\"DatetimeTicker\"},{\"attributes\":{\"base\":24,\"mantissas\":[1,2,4,6,8,12],\"max_interval\":43200000.0,\"min_interval\":3600000.0,\"num_minor_ticks\":0},\"id\":\"f6d8b455-742f-41f9-ae1e-1b70c2ef2686\",\"type\":\"AdaptiveTicker\"},{\"attributes\":{\"callback\":null,\"column_names\":[\"airdate\",\"rating_count\",\"number\",\"index\",\"title\",\"rating\",\"airdatestr\"],\"data\":{\"airdate\":[1441670400000.0,1441756800000.0,1441843200000.0,1441929600000.0,1442188800000.0,1442275200000.0,1442361600000.0,1442448000000.0,1442534400000.0,1442793600000.0,1442880000000.0,1442966400000.0,1443052800000.0,1443139200000.0,1443398400000.0,1443484800000.0,1443571200000.0,1443657600000.0,1443744000000.0,1444003200000.0,1444089600000.0,1444176000000.0,1444262400000.0,1444348800000.0,1444608000000.0,1444694400000.0,1444780800000.0,1444867200000.0,1444953600000.0,1445817600000.0,1445904000000.0,1445990400000.0,1446076800000.0,1446163200000.0,1446422400000.0,1446508800000.0,1446595200000.0,1446681600000.0,1446768000000.0,1447027200000.0,1447113600000.0,1447200000000.0,1447286400000.0,1447372800000.0,1447632000000.0,1447718400000.0,1447804800000.0,1447891200000.0,1447977600000.0,1448236800000.0,1448323200000.0,1448409600000.0,1449446400000.0,1449532800000.0,1449619200000.0,1449705600000.0,1449792000000.0,1450051200000.0,1450137600000.0,1450224000000.0,1450310400000.0,1450396800000.0,1451865600000.0,1451952000000.0,1452038400000.0,1452124800000.0,1452211200000.0,1452556800000.0,1452643200000.0,1452729600000.0,1452816000000.0,1453075200000.0,1453161600000.0,1453248000000.0,1453334400000.0,1453420800000.0,1453680000000.0,1453766400000.0,1453852800000.0,1453939200000.0,1454284800000.0,1454371200000.0,1454457600000.0,1454544000000.0,1454630400000.0,1454803200000.0,1454889600000.0,1454976000000.0,1455062400000.0,1455148800000.0,1455494400000.0,1455580800000.0,1455840000000.0,1456099200000.0,1456185600000.0,1456272000000.0,1456358400000.0,1456704000000.0,1456790400000.0,1456876800000.0,1456963200000.0,1457308800000.0,1457395200000.0,1457481600000.0,1457568000000.0,1457654400000.0,1457913600000.0,1458000000000.0,1458086400000.0,1458172800000.0,1459123200000.0,1459209600000.0,1459296000000.0,1459382400000.0,1459468800000.0,1459728000000.0,1459814400000.0,1459900800000.0,1459987200000.0,1460937600000.0,1461024000000.0,1461196800000.0,1461283200000.0,1461715200000.0,1462233600000.0],\"airdatestr\":[\"09/08/15\",\"09/09/15\",\"09/10/15\",\"09/11/15\",\"09/14/15\",\"09/15/15\",\"09/16/15\",\"09/17/15\",\"09/18/15\",\"09/21/15\",\"09/22/15\",\"09/23/15\",\"09/24/15\",\"09/25/15\",\"09/28/15\",\"09/29/15\",\"09/30/15\",\"10/01/15\",\"10/02/15\",\"10/05/15\",\"10/06/15\",\"10/07/15\",\"10/08/15\",\"10/09/15\",\"10/12/15\",\"10/13/15\",\"10/14/15\",\"10/15/15\",\"10/16/15\",\"10/26/15\",\"10/27/15\",\"10/28/15\",\"10/29/15\",\"10/30/15\",\"11/02/15\",\"11/03/15\",\"11/04/15\",\"11/05/15\",\"11/06/15\",\"11/09/15\",\"11/10/15\",\"11/11/15\",\"11/12/15\",\"11/13/15\",\"11/16/15\",\"11/17/15\",\"11/18/15\",\"11/19/15\",\"11/20/15\",\"11/23/15\",\"11/24/15\",\"11/25/15\",\"12/07/15\",\"12/08/15\",\"12/09/15\",\"12/10/15\",\"12/11/15\",\"12/14/15\",\"12/15/15\",\"12/16/15\",\"12/17/15\",\"12/18/15\",\"01/04/16\",\"01/05/16\",\"01/06/16\",\"01/07/16\",\"01/08/16\",\"01/12/16\",\"01/13/16\",\"01/14/16\",\"01/15/16\",\"01/18/16\",\"01/19/16\",\"01/20/16\",\"01/21/16\",\"01/22/16\",\"01/25/16\",\"01/26/16\",\"01/27/16\",\"01/28/16\",\"02/01/16\",\"02/02/16\",\"02/03/16\",\"02/04/16\",\"02/05/16\",\"02/07/16\",\"02/08/16\",\"02/09/16\",\"02/10/16\",\"02/11/16\",\"02/15/16\",\"02/16/16\",\"02/19/16\",\"02/22/16\",\"02/23/16\",\"02/24/16\",\"02/25/16\",\"02/29/16\",\"03/01/16\",\"03/02/16\",\"03/03/16\",\"03/07/16\",\"03/08/16\",\"03/09/16\",\"03/10/16\",\"03/11/16\",\"03/14/16\",\"03/15/16\",\"03/16/16\",\"03/17/16\",\"03/28/16\",\"03/29/16\",\"03/30/16\",\"03/31/16\",\"04/01/16\",\"04/04/16\",\"04/05/16\",\"04/06/16\",\"04/07/16\",\"04/18/16\",\"04/19/16\",\"04/21/16\",\"04/22/16\",\"04/27/16\",\"05/03/16\"],\"index\":[0,1,2,3,4,5,6,7,8,9,10,11,12,13,14,15,16,17,18,19,20,21,22,23,24,25,26,27,28,29,30,31,32,33,34,35,36,37,38,39,40,41,42,43,44,45,46,47,48,49,50,51,52,53,54,55,56,57,58,59,60,61,62,63,64,65,66,68,69,70,71,72,73,74,75,76,77,78,79,80,81,82,83,84,85,86,87,88,89,90,91,92,95,96,97,98,99,100,101,102,103,104,105,106,107,108,109,110,111,112,113,114,115,116,117,118,119,120,121,122,123,125,126,129,133],\"number\":[1,2,3,4,5,6,7,8,9,10,11,12,13,14,15,16,17,18,19,20,21,22,23,24,25,26,27,28,29,30,31,32,33,34,35,36,37,38,39,40,41,42,43,44,45,46,47,48,49,50,51,52,53,54,55,56,57,58,59,60,61,62,63,64,65,66,67,69,70,71,72,73,74,75,76,77,78,79,80,81,82,83,84,85,86,87,88,89,90,91,92,93,96,97,98,99,100,101,102,103,104,105,106,107,108,109,110,111,112,113,114,115,116,117,118,119,120,121,122,123,124,126,127,130,134],\"rating\":[7.5,7.5,8.6,7.4,7.9,7.8,8.0,7.7,8.2,8.0,8.2,7.7,7.3,7.8,7.2,7.4,8.2,6.9,7.7,8.2,7.4,7.9,8.5,7.7,8.1,8.5,8.3,7.2,8.5,7.2,7.9,8.0,8.0,7.3,7.5,7.7,8.3,7.7,7.3,6.9,8.1,7.6,7.6,7.4,8.1,8.0,7.7,8.5,9.0,8.4,7.2,7.1,7.2,7.7,6.6,8.2,7.8,7.4,8.0,7.1,7.9,7.8,7.4,7.7,8.1,7.5,8.0,7.0,7.0,7.0,7.7,7.5,7.6,8.0,7.7,8.5,7.9,7.8,7.2,7.8,7.6,7.0,6.4,7.6,7.7,7.6,7.1,7.4,7.8,7.2,6.8,6.7,6.4,7.0,7.3,7.8,7.3,8.4,7.4,7.7,7.7,6.9,7.3,6.8,7.0,6.0,7.9,7.0,7.1,7.6,7.1,6.1,8.1,8.0,7.7,7.2,5.9,6.9,6.2,8.0,8.1,6.8,7.8,7.8,8.4],\"rating_count\":[97.0,58.0,66.0,42.0,36.0,32.0,36.0,32.0,36.0,32.0,31.0,27.0,23.0,24.0,18.0,20.0,19.0,18.0,20.0,18.0,20.0,8.0,13.0,15.0,14.0,15.0,13.0,14.0,20.0,12.0,14.0,12.0,18.0,14.0,11.0,16.0,18.0,15.0,12.0,11.0,14.0,11.0,8.0,13.0,18.0,10.0,10.0,8.0,11.0,10.0,8.0,8.0,9.0,9.0,8.0,10.0,8.0,10.0,9.0,11.0,8.0,6.0,7.0,6.0,7.0,6.0,7.0,7.0,6.0,7.0,6.0,6.0,7.0,9.0,6.0,6.0,9.0,6.0,8.0,8.0,8.0,9.0,9.0,9.0,6.0,11.0,7.0,9.0,13.0,8.0,5.0,10.0,7.0,7.0,6.0,6.0,7.0,7.0,8.0,7.0,6.0,7.0,10.0,10.0,8.0,7.0,8.0,8.0,8.0,9.0,10.0,13.0,7.0,9.0,11.0,6.0,10.0,9.0,6.0,6.0,8.0,5.0,5.0,8.0,5.0],\"title\":[\"George Clooney/Governor Jeb Bush/Mavis Staples & Friends\",\"Scarlett Johansson/Elon Musk/Kendrick Lamar\",\"Vice President Joe Biden/Travis Kalanick/Toby Keith\",\"Amy Schumer/Stephen King/Troubled Waters\",\"Emily Blunt/Justice Stephen Breyer/The Dead Weather\",\"Jake Gyllenhaal/Apple CEO Tim Cook/Run the Jewels & TV on the Radio\",\"Kevin Spacey/Carol Burnett/Abbi Jacobson & Ilana Glazer/Willie Nelson & John Mellencamp\",\"Trevor Noah/Ban Ki-Moon/Chris Stapleton\",\"Lupita Nyong'o/Sen. Bernie Sanders/Cast of \\\"An American in Paris\\\"\",\"Steph Curry/Sen. Ted Cruz/Don Henley\",\"Donald Trump/Ernest Moniz/Raury\",\"Hugh Jackman/Sen. Elizabeth Warren/Pearl Jam\",\"Andrew Sullivan/Maria Shriver/Jim Gaffigan/Archbishop Thomas Wenski\",\"Malala Yousafzai/Kerry Washington/The Arcs\",\"Michelle Obama/Mindy Kaling/John Legend\",\"Ellen Page/Jesse Eisenberg/Dominic Wilcox\",\"Elizabeth Gilbert/John Oliver/Evan Spiegel/Bill Withers/Ed Sheeran\",\"Secretary of State John Kerry/Claire Danes/PewDiePie\",\"Morgan Freeman/Ruth Wilson/Sean Murray\",\"John McCain/Yo-Yo Ma/Misty Copeland\",\"Bill Clinton/Billy Eichner/Florence and the Machine\",\"Gina Rodriguez/Ben Bernanke/Tame Impala\",\"Cate Blanchett/Airbnb CEO Brian Chesky\",\"James Corden/Shane Smith/Halsey\",\"Carey Mulligan/Elvis Costello/Darlene Love\",\"Sarah Silverman/Elijah Wood/The Legends of Zelda: Symphony of the Goddesses\",\"Jack Black/Nick Woodman/Michelle Dorrance\",\"Oprah Winfrey/Joseph Fink & Jeffrey Cranor/Judith Hill\",\"Jimmy Kimmel/\\\"Crimson Peak\\\" Cast/Beach House\",\"Sienna Miller/Melissa Benoist/Chance the Rapper\",\"Hillary Clinton/Anthony Bourdain/Carrie Brownstein/Lianne La Navas\",\"Julianna Margulies/Jonathan Franzen/Alabama Shakes\",\"Seth MacFarlane/Neil DeGrasse Tyson\",\"Charlie Rose/Stacy Schiff/Ghost/The Zombies\",\"Allison Janney/Colin Quinn/Margaret Cho\",\"Antonio Banderas/Reed Hastings/John Irving\",\"Daniel Craig/Elizabeth Gilbert/Dr. Eugenia Cheng\",\"Bryan Cranston/Karl Ove Knausgaard/Shamir\",\"Whoopi Goldberg/Gov. John Kasich/Glen Hansard\",\"Ethan Hawke/Sen. Claire McCaskill & Sen. Amy Klobuchar/Nathaniel Ratcliff & the Night Sweats\",\"Aziz Ansari/Shonda Rhimes/Bruce Campbell & Lucy Lawless\",\"Viola Davis/Brian Greene/George Ezra\",\"Jennifer Connelly/Judd Apatow/The Internet\",\"Mark Ruffalo/John Cleese/Micheal Flatley\",\"Capt. Florent Groberg/Bill Maher/Shepard Fairey/The Acro-Cats\",\"Julianne Moore/Burt Reynolds/Public Image Ltd./CeeLo Green\",\"Sharon Stone/Justin Theroux/James Taylor\",\"Jane Fonda/Andrew Lloyd Webber/Brandon Niederauer\",\"Michael Caine/Larry Wilmore/Boots/Vulfpeck\",\"Sylvester Stallone/Ted Koppel/My Morning Jacket\",\"Spike Lee/Andy Cohen/Carly Simon\",\"Gloria Estefan/Navy Seal Eric Greitens/Jake Wood/Chef Daniel Boulud\",\"Steve Carell/Jennifer Hudson\",\"Marion Cotillard/George Saunders/Joanna Newsom\",\"Cast of \\\"Downton Abbey\\\"/Adam McKay/Kurt Vile\",\"Bruce Willis/Michael Lewis/Lizzo\",\"Lin-Manuel Miranda/Ike Barinholtz/Sharon Jones & the Dap Kings\",\"Jennifer Lawrence/Doris Kearns Goodwin/Sleater-Kinney\",\"Quentin Tarantino/Jonathan Groff/Squeeze\",\"Robert De Niro/Daniel Gilbert/Henry Rollins\",\"Michael Moore/Samantha Power/Michael C. Hall\",\"Mandy Patinkin/Kayvon Beykpour/Leon Bridges\",\"Samuel L. Jackson/Olivia Hallisey/Foals\",\"John Krasinski/Killer Mike/George Church/Foals\",\"Jerry Seinfeld/Sen. Rand Paul/Andra Day\",\"Damian Lewis/America Ferrera/FloydLittle's Double Dutch Team\",\"Matthew Broderick/Sarah Parcak/Kacey Musgraves\",\"Saoirse Ronan/Jeremy Stoppelman/Laura Ricciardi & Moira Demos/James Bay\",\"Paul Giamatti/Guerilla Girls/J.B. Mauney\",\"Olivia Munn/T.J. Miller/Father John Misty\",\"Scott Kelly/Abby Wambach/Maria Bamford\",\"Patricia Heaton/Quincy Jones/DeRay Mckesson/Grace\",\"Charlie Day/Colin Hanks/Margo Price\",\"James Spader/Brandon Marshall/Sarah Koenig/Rev Run\",\"Christian Slater/Josh Radnor/Iggy Pop\",\"Steven Tyler/Gaby Hoffmann/Lapsley\",\"Donald Rumsfeld/Russell Westbrook/Anderson Paak & the Free Nationals\",\"Laurence Fishburne/Sarah Paulson/Woke\",\"Chris Pine/Danielle Brooks/Jonah Reider/Baauer\",\"Josh Brolin/John Dickerson/Erin Brockovich/Aubrie Sellers\",\"John Travolta & Courtney B. Vance/Amy Cuddy/John Moreland\",\"David Schwimmer/Pastor Joel Osteen/M. Ward\",\"Dr. Phil McGraw/Mark & Jay Duplass/Michael Eric Dyson/Anderson Paak & the Free Nationals\",\"Michael Strahan/Samantha Bee/Wilco\",\"Bobby Cannavale/Donny Deutsch/Charles Kelley\",\"Tina Fey & Margot Robbie/Will Ferrell/Megyn Kelly/Keegan-Michael Key & Jordan Peele\",\"Bill O'Reilly/Eddie George/Macklemore & Ryan Lewis\",\"Olivia Wilde/Christiane Amanpour\",\"Ben Stiller/Sen. Bernie Sanders/TAO: Seventeen Samurai\",\"Kelsey Grammer/Fred Armisen/Sarah McDaniel/Ty Segall & the Muggers\",\"Craig Ferguson/Hailey Clauson & Ashley Graham/Cory Booker\",\"Eva Longoria/Abbi Jacobson & Ilana Glazer/Lucinda Williams\",\"Chelsea Handler/Zosia Mamet/The Lumineers\",\"Casey Affleck/Richard Dreyfuss/Mavis Staples\",\"Debra Messing/Zachary Quinto/Violent Femmes\",\"Adrien Brody/Danai Gurira/Brian Greene\",\"Tim Daly/Krysten Ritter/Jason Isbell\",\"Spike Jonze/Jeffrey Dean Morgan/Jack Garratt\",\"Chrissy Teigen/Mike Birbiglia/Adam Savage\",\"Octavia Spencer/John Stamos, Bob Saget & Dave Coulier/Lucius\",\"Christopher Meloni/Edward Byers/Ray LaMontagne\",\"Will Arnett/Charles Barkley/Max Greenfield\",\"Helen Mirren/J.J. Abrams/DMA's\",\"Sally Field/Jerrod Carmichael/Esperanza Spalding\",\"Anna Kendrick/Loretta Lynch/Brian Fallon\",\"Jeff Daniels/Audra McDonald/Mary Elizabeth Winstead\",\"John Oliver/Jordan Spieth/New Order\",\"Steve Martin & Edie Brickell/Shirley MacLaine/Gustavo Dudamel/Los Angeles Philharmonic\",\"Theo James/Jussie Smollett/Laurie Anderson\",\"William H. Macy/Melissa Rauch/Isaac Mizrahi\",\"Tom Hiddleston/Laura Benanti/Frightened Rabbit\",\"Adam Driver/Rachel Bloom/Savages\",\"Eric Stonestreet/Jason Jones/Sen. Elizabeth Warren\",\"Sarah Paulson/Tatiana Maslany/Wynton Marsalis, Lil Buck & Jared Grimes\",\"Steve Buscemi/Benjamin Walker/Cast of Broadway's \\\"American Psycho\\\"\",\"Matthew Perry/Nick Offerman/Explosions in the Sky\",\"Melissa McCarthy & Ben Falcone/Arianna Huffington/Babymetal\",\"Anna Kendrick & Sam Rockwell/David Duchovny/Autolux\",\"Mindy Kaling/Tituss Burgess/Ken Burns\",\"Hillary Clinton/Jesse Tyler Ferguson/Katharine McPhee/Sturgill Simpson\",\"Kevin Spacey/Thomas Middleditch/The Flaming Lips\",\"Tom Hanks/Leslie Odom, Jr./The Strumbellas/Roy Haynes\",\"Julia Louis-Dreyfus/Nikolaj Coster-Waldau/Sam Morril\",\"Susan Sarandon/David Tennant/Catfish & the Bottlemen\",\"Dakota Johnson/Sebastian Stan/Lukas Nelson & Promise of the Real\"]}},\"id\":\"dc68f97a-7c25-4194-9fd6-066959f6b006\",\"type\":\"ColumnDataSource\"},{\"attributes\":{\"fill_color\":{\"value\":\"#1f77b4\"},\"line_color\":{\"value\":\"#1f77b4\"},\"line_width\":{\"value\":2},\"size\":{\"units\":\"screen\",\"value\":5},\"x\":{\"field\":\"airdate\"},\"y\":{\"field\":\"rating\"}},\"id\":\"4ea11cb3-7c8d-4acf-9da8-7db64c6a54cf\",\"type\":\"Circle\"},{\"attributes\":{\"plot\":{\"id\":\"61562e15-3788-4247-8cab-0a02bad8f956\",\"subtype\":\"Figure\",\"type\":\"Plot\"}},\"id\":\"3f8799ca-5f6d-4e01-bfba-d81cf856e67b\",\"type\":\"PreviewSaveTool\"},{\"attributes\":{},\"id\":\"55429cd2-a862-4378-9fa7-5e65bb988bc9\",\"type\":\"DatetimeTickFormatter\"},{\"attributes\":{\"overlay\":{\"id\":\"d56e7897-f71b-4c0d-9ba9-4f84107fce95\",\"type\":\"BoxAnnotation\"},\"plot\":{\"id\":\"61562e15-3788-4247-8cab-0a02bad8f956\",\"subtype\":\"Figure\",\"type\":\"Plot\"}},\"id\":\"4311f831-ba09-4ad1-a08d-13be40eb285f\",\"type\":\"BoxZoomTool\"},{\"attributes\":{\"base\":60,\"mantissas\":[1,2,5,10,15,20,30],\"max_interval\":1800000.0,\"min_interval\":1000.0,\"num_minor_ticks\":0},\"id\":\"7550647c-9f0f-4e11-8205-585b9d736c62\",\"type\":\"AdaptiveTicker\"},{\"attributes\":{\"bottom_units\":\"screen\",\"fill_alpha\":{\"value\":0.5},\"fill_color\":{\"value\":\"lightgrey\"},\"left_units\":\"screen\",\"level\":\"overlay\",\"line_alpha\":{\"value\":1.0},\"line_color\":{\"value\":\"black\"},\"line_dash\":[4,4],\"line_width\":{\"value\":2},\"plot\":null,\"render_mode\":\"css\",\"right_units\":\"screen\",\"top_units\":\"screen\"},\"id\":\"d56e7897-f71b-4c0d-9ba9-4f84107fce95\",\"type\":\"BoxAnnotation\"},{\"attributes\":{\"plot\":{\"id\":\"61562e15-3788-4247-8cab-0a02bad8f956\",\"subtype\":\"Figure\",\"type\":\"Plot\"}},\"id\":\"b2bb3bbc-e7ce-4d4b-99e6-119192a5e23d\",\"type\":\"ResetTool\"},{\"attributes\":{\"plot\":{\"id\":\"61562e15-3788-4247-8cab-0a02bad8f956\",\"subtype\":\"Figure\",\"type\":\"Plot\"}},\"id\":\"08e04f66-4a89-44c9-9986-d6ca781e0c25\",\"type\":\"WheelZoomTool\"},{\"attributes\":{\"callback\":null,\"plot\":{\"id\":\"61562e15-3788-4247-8cab-0a02bad8f956\",\"subtype\":\"Figure\",\"type\":\"Plot\"},\"tooltips\":[[\"Episode\",\"@number\"],[\"Title\",\"@title\"],[\"Airdate\",\"@airdatestr\"],[\"Rating\",\"@rating{1.11}\"],[\"Rating Count\",\"@rating_count{1.11}\"]]},\"id\":\"dbf6ebc0-88a1-4ee0-85d7-006904791a6c\",\"type\":\"HoverTool\"},{\"attributes\":{\"days\":[1,8,15,22]},\"id\":\"bee35d2f-e222-4390-9ca7-f0da0288c234\",\"type\":\"DaysTicker\"},{\"attributes\":{\"months\":[0,2,4,6,8,10]},\"id\":\"4c529a1d-f859-40f4-ae92-1d57b3106a26\",\"type\":\"MonthsTicker\"},{\"attributes\":{\"days\":[1,4,7,10,13,16,19,22,25,28]},\"id\":\"510bcf11-cfd9-4c66-9b29-2125dcc5fb5d\",\"type\":\"DaysTicker\"},{\"attributes\":{\"below\":[{\"id\":\"176affdd-da32-4464-93b2-88f387f97163\",\"type\":\"DatetimeAxis\"}],\"left\":[{\"id\":\"dcabc086-475b-47bb-8bb6-086058b18a33\",\"type\":\"LinearAxis\"}],\"logo\":null,\"plot_height\":400,\"plot_width\":950,\"renderers\":[{\"id\":\"176affdd-da32-4464-93b2-88f387f97163\",\"type\":\"DatetimeAxis\"},{\"id\":\"f08b503a-cbd9-41ab-a9b7-9ccf0b667251\",\"type\":\"Grid\"},{\"id\":\"dcabc086-475b-47bb-8bb6-086058b18a33\",\"type\":\"LinearAxis\"},{\"id\":\"f13ac384-5275-492e-8c27-19aa40ecb119\",\"type\":\"Grid\"},{\"id\":\"d56e7897-f71b-4c0d-9ba9-4f84107fce95\",\"type\":\"BoxAnnotation\"},{\"id\":\"95bef24c-eaa7-4835-92d1-bc67aab35e5d\",\"type\":\"GlyphRenderer\"}],\"title\":\"Ratings per Episode on The Late Show with Stephen Colbert\",\"tool_events\":{\"id\":\"c39431bf-7735-4478-ba3e-907300134f5c\",\"type\":\"ToolEvents\"},\"tools\":[{\"id\":\"5eaf4514-cbb3-4d8e-8942-bb33e5dfa7d6\",\"type\":\"PanTool\"},{\"id\":\"08e04f66-4a89-44c9-9986-d6ca781e0c25\",\"type\":\"WheelZoomTool\"},{\"id\":\"4311f831-ba09-4ad1-a08d-13be40eb285f\",\"type\":\"BoxZoomTool\"},{\"id\":\"3f8799ca-5f6d-4e01-bfba-d81cf856e67b\",\"type\":\"PreviewSaveTool\"},{\"id\":\"de136212-030c-4c79-9e28-36fa81ac80d4\",\"type\":\"ResizeTool\"},{\"id\":\"b2bb3bbc-e7ce-4d4b-99e6-119192a5e23d\",\"type\":\"ResetTool\"},{\"id\":\"d9e5aa6a-0cd6-48b9-a95f-4309b34d14ea\",\"type\":\"HelpTool\"},{\"id\":\"dbf6ebc0-88a1-4ee0-85d7-006904791a6c\",\"type\":\"HoverTool\"}],\"x_range\":{\"id\":\"1ff1638d-f686-4a54-a1eb-97c0a11f75be\",\"type\":\"DataRange1d\"},\"y_range\":{\"id\":\"0e8729d1-b76f-4c6a-bd1f-be4cada18b3d\",\"type\":\"DataRange1d\"}},\"id\":\"61562e15-3788-4247-8cab-0a02bad8f956\",\"subtype\":\"Figure\",\"type\":\"Plot\"},{\"attributes\":{\"plot\":{\"id\":\"61562e15-3788-4247-8cab-0a02bad8f956\",\"subtype\":\"Figure\",\"type\":\"Plot\"}},\"id\":\"5eaf4514-cbb3-4d8e-8942-bb33e5dfa7d6\",\"type\":\"PanTool\"},{\"attributes\":{},\"id\":\"c39431bf-7735-4478-ba3e-907300134f5c\",\"type\":\"ToolEvents\"},{\"attributes\":{\"months\":[0,6]},\"id\":\"97e9b6a8-a364-422e-9dae-aea96111be03\",\"type\":\"MonthsTicker\"},{\"attributes\":{\"plot\":{\"id\":\"61562e15-3788-4247-8cab-0a02bad8f956\",\"subtype\":\"Figure\",\"type\":\"Plot\"}},\"id\":\"de136212-030c-4c79-9e28-36fa81ac80d4\",\"type\":\"ResizeTool\"},{\"attributes\":{\"months\":[0,4,8]},\"id\":\"69002097-76a4-409e-9250-e21512c38a72\",\"type\":\"MonthsTicker\"},{\"attributes\":{},\"id\":\"a53f900b-eb30-430c-84ea-e14acc3896fa\",\"type\":\"BasicTickFormatter\"},{\"attributes\":{\"days\":[1,15]},\"id\":\"a741a162-abb1-4ad0-a0b4-301b6d0f2faf\",\"type\":\"DaysTicker\"},{\"attributes\":{\"months\":[0,1,2,3,4,5,6,7,8,9,10,11]},\"id\":\"403a2933-378b-4a55-82a6-d43251d85044\",\"type\":\"MonthsTicker\"},{\"attributes\":{\"callback\":null},\"id\":\"1ff1638d-f686-4a54-a1eb-97c0a11f75be\",\"type\":\"DataRange1d\"},{\"attributes\":{\"plot\":{\"id\":\"61562e15-3788-4247-8cab-0a02bad8f956\",\"subtype\":\"Figure\",\"type\":\"Plot\"}},\"id\":\"d9e5aa6a-0cd6-48b9-a95f-4309b34d14ea\",\"type\":\"HelpTool\"},{\"attributes\":{\"formatter\":{\"id\":\"55429cd2-a862-4378-9fa7-5e65bb988bc9\",\"type\":\"DatetimeTickFormatter\"},\"plot\":{\"id\":\"61562e15-3788-4247-8cab-0a02bad8f956\",\"subtype\":\"Figure\",\"type\":\"Plot\"},\"ticker\":{\"id\":\"d69a77f6-637c-4c12-8fa5-342271ab04ba\",\"type\":\"DatetimeTicker\"}},\"id\":\"176affdd-da32-4464-93b2-88f387f97163\",\"type\":\"DatetimeAxis\"},{\"attributes\":{\"max_interval\":500.0,\"num_minor_ticks\":0},\"id\":\"77361461-e1d5-4bb1-adfd-50b018e9a434\",\"type\":\"AdaptiveTicker\"},{\"attributes\":{\"data_source\":{\"id\":\"dc68f97a-7c25-4194-9fd6-066959f6b006\",\"type\":\"ColumnDataSource\"},\"glyph\":{\"id\":\"4ea11cb3-7c8d-4acf-9da8-7db64c6a54cf\",\"type\":\"Circle\"},\"hover_glyph\":null,\"nonselection_glyph\":{\"id\":\"23851785-94d1-48a6-8354-f30379497ed5\",\"type\":\"Circle\"},\"selection_glyph\":null},\"id\":\"95bef24c-eaa7-4835-92d1-bc67aab35e5d\",\"type\":\"GlyphRenderer\"},{\"attributes\":{\"callback\":null},\"id\":\"0e8729d1-b76f-4c6a-bd1f-be4cada18b3d\",\"type\":\"DataRange1d\"},{\"attributes\":{\"dimension\":1,\"plot\":{\"id\":\"61562e15-3788-4247-8cab-0a02bad8f956\",\"subtype\":\"Figure\",\"type\":\"Plot\"},\"ticker\":{\"id\":\"0db2b3cd-ca3f-4648-b6a4-cab84ac6878f\",\"type\":\"BasicTicker\"}},\"id\":\"f13ac384-5275-492e-8c27-19aa40ecb119\",\"type\":\"Grid\"},{\"attributes\":{\"plot\":{\"id\":\"61562e15-3788-4247-8cab-0a02bad8f956\",\"subtype\":\"Figure\",\"type\":\"Plot\"},\"ticker\":{\"id\":\"d69a77f6-637c-4c12-8fa5-342271ab04ba\",\"type\":\"DatetimeTicker\"}},\"id\":\"f08b503a-cbd9-41ab-a9b7-9ccf0b667251\",\"type\":\"Grid\"},{\"attributes\":{},\"id\":\"0db2b3cd-ca3f-4648-b6a4-cab84ac6878f\",\"type\":\"BasicTicker\"}],\"root_ids\":[\"61562e15-3788-4247-8cab-0a02bad8f956\"]},\"title\":\"Bokeh Application\",\"version\":\"0.11.1\"}};\n",
       "            var render_items = [{\"docid\":\"2293d22f-19bc-4171-b37b-d214e3360e0a\",\"elementid\":\"24a8b842-a691-4eb5-8870-f617a3a36661\",\"modelid\":\"61562e15-3788-4247-8cab-0a02bad8f956\",\"notebook_comms_target\":\"2fe78cf2-107f-4040-ae39-0f197be762c1\"}];\n",
       "            \n",
       "            Bokeh.embed.embed_items(docs_json, render_items);\n",
       "        });\n",
       "      },\n",
       "      function(Bokeh) {\n",
       "      }\n",
       "    ];\n",
       "  \n",
       "    function run_inline_js() {\n",
       "      for (var i = 0; i < inline_js.length; i++) {\n",
       "        inline_js[i](window.Bokeh);\n",
       "      }\n",
       "    }\n",
       "  \n",
       "    if (window._bokeh_is_loading === 0) {\n",
       "      console.log(\"Bokeh: BokehJS loaded, going straight to plotting\");\n",
       "      run_inline_js();\n",
       "    } else {\n",
       "      load_libs(js_urls, function() {\n",
       "        console.log(\"Bokeh: BokehJS plotting callback run at\", now());\n",
       "        run_inline_js();\n",
       "      });\n",
       "    }\n",
       "  }(this));\n",
       "</script>"
      ]
     },
     "metadata": {},
     "output_type": "display_data"
    },
    {
     "data": {
      "text/html": [
       "<p><code>&lt;Bokeh Notebook handle for <strong>In[6]</strong>&gt;</code></p>"
      ],
      "text/plain": [
       "<bokeh.io._CommsHandle at 0x11d3d45f8>"
      ]
     },
     "execution_count": 6,
     "metadata": {},
     "output_type": "execute_result"
    }
   ],
   "source": [
    "p = plot_interactive_timeseries(x='airdate', y='rating', data=episodes, \n",
    "                                title=\"Ratings per Episode on The Late Show with Stephen Colbert\")\n",
    "show(p)"
   ]
  },
  {
   "cell_type": "markdown",
   "metadata": {},
   "source": [
    "## Ratings Count over Time"
   ]
  },
  {
   "cell_type": "code",
   "execution_count": 7,
   "metadata": {
    "collapsed": false
   },
   "outputs": [
    {
     "data": {
      "text/html": [
       "\n",
       "\n",
       "    <div class=\"plotdiv\" id=\"36f1d442-7aba-4784-a090-fd5025f759f1\"></div>\n",
       "<script type=\"text/javascript\">\n",
       "  \n",
       "  (function(global) {\n",
       "    function now() {\n",
       "      return new Date();\n",
       "    }\n",
       "  \n",
       "    if (typeof (window._bokeh_onload_callbacks) === \"undefined\") {\n",
       "      window._bokeh_onload_callbacks = [];\n",
       "    }\n",
       "  \n",
       "    function run_callbacks() {\n",
       "      window._bokeh_onload_callbacks.forEach(function(callback) { callback() });\n",
       "      delete window._bokeh_onload_callbacks\n",
       "      console.info(\"Bokeh: all callbacks have finished\");\n",
       "    }\n",
       "  \n",
       "    function load_libs(js_urls, callback) {\n",
       "      window._bokeh_onload_callbacks.push(callback);\n",
       "      if (window._bokeh_is_loading > 0) {\n",
       "        console.log(\"Bokeh: BokehJS is being loaded, scheduling callback at\", now());\n",
       "        return null;\n",
       "      }\n",
       "      if (js_urls == null || js_urls.length === 0) {\n",
       "        run_callbacks();\n",
       "        return null;\n",
       "      }\n",
       "      console.log(\"Bokeh: BokehJS not loaded, scheduling load and callback at\", now());\n",
       "      window._bokeh_is_loading = js_urls.length;\n",
       "      for (var i = 0; i < js_urls.length; i++) {\n",
       "        var url = js_urls[i];\n",
       "        var s = document.createElement('script');\n",
       "        s.src = url;\n",
       "        s.async = false;\n",
       "        s.onreadystatechange = s.onload = function() {\n",
       "          window._bokeh_is_loading--;\n",
       "          if (window._bokeh_is_loading === 0) {\n",
       "            console.log(\"Bokeh: all BokehJS libraries loaded\");\n",
       "            run_callbacks()\n",
       "          }\n",
       "        };\n",
       "        s.onerror = function() {\n",
       "          console.warn(\"failed to load library \" + url);\n",
       "        };\n",
       "        console.log(\"Bokeh: injecting script tag for BokehJS library: \", url);\n",
       "        document.getElementsByTagName(\"head\")[0].appendChild(s);\n",
       "      }\n",
       "    };var element = document.getElementById(\"36f1d442-7aba-4784-a090-fd5025f759f1\");\n",
       "    if (element == null) {\n",
       "      console.log(\"Bokeh: ERROR: autoload.js configured with elementid '36f1d442-7aba-4784-a090-fd5025f759f1' but no matching script tag was found. \")\n",
       "      return false;\n",
       "    }\n",
       "  \n",
       "    var js_urls = [];\n",
       "  \n",
       "    var inline_js = [\n",
       "      function(Bokeh) {\n",
       "        Bokeh.$(function() {\n",
       "            var docs_json = {\"d879b80f-a0f2-4696-8150-9ac984e73504\":{\"roots\":{\"references\":[{\"attributes\":{\"data_source\":{\"id\":\"27918eb8-2a46-4ef4-9392-56aeeac5a17f\",\"type\":\"ColumnDataSource\"},\"glyph\":{\"id\":\"6985c568-b79c-4a03-b905-49091837b1fa\",\"type\":\"Circle\"},\"hover_glyph\":null,\"nonselection_glyph\":{\"id\":\"346fa4bb-70f9-4d45-8d46-0ffc4d55fa3c\",\"type\":\"Circle\"},\"selection_glyph\":null},\"id\":\"c483c952-b134-41db-bcb7-2f4374b01725\",\"type\":\"GlyphRenderer\"},{\"attributes\":{\"below\":[{\"id\":\"3be59895-537b-4a46-a75a-b86db6c68ec1\",\"type\":\"DatetimeAxis\"}],\"left\":[{\"id\":\"c1521e94-99e8-4c98-9bcc-ef80017a755d\",\"type\":\"LinearAxis\"}],\"logo\":null,\"plot_height\":400,\"plot_width\":950,\"renderers\":[{\"id\":\"3be59895-537b-4a46-a75a-b86db6c68ec1\",\"type\":\"DatetimeAxis\"},{\"id\":\"73f1565e-7f1a-4772-84d6-1f9b07af5c9b\",\"type\":\"Grid\"},{\"id\":\"c1521e94-99e8-4c98-9bcc-ef80017a755d\",\"type\":\"LinearAxis\"},{\"id\":\"4db49822-11f0-4486-89d4-f62bce663d8f\",\"type\":\"Grid\"},{\"id\":\"60899e5c-f887-4bf4-b3b9-d277c01bda15\",\"type\":\"BoxAnnotation\"},{\"id\":\"c483c952-b134-41db-bcb7-2f4374b01725\",\"type\":\"GlyphRenderer\"}],\"title\":\"Number of Ratings per Episode on The Late Show with Stephen Colbert\",\"tool_events\":{\"id\":\"8f4011af-e76c-4555-840d-843d026fa631\",\"type\":\"ToolEvents\"},\"tools\":[{\"id\":\"48380e5e-afde-4ae5-a792-2b74e6e83ba7\",\"type\":\"PanTool\"},{\"id\":\"01869746-b076-4ec2-a81a-079250d78519\",\"type\":\"WheelZoomTool\"},{\"id\":\"c6f53740-d1b7-4115-9c68-41347a0c4baa\",\"type\":\"BoxZoomTool\"},{\"id\":\"80c96cef-6365-4a0d-b94d-7a0d229c124f\",\"type\":\"PreviewSaveTool\"},{\"id\":\"7231e8f5-e0bb-46f6-b63f-5dc0b9eb7e2f\",\"type\":\"ResizeTool\"},{\"id\":\"7d75c6ea-e29e-4517-b014-b815795e0b15\",\"type\":\"ResetTool\"},{\"id\":\"666d6fbc-603e-4949-b3ee-6b0abd7e2828\",\"type\":\"HelpTool\"},{\"id\":\"40659462-8755-4ef2-a5a5-e84873404496\",\"type\":\"HoverTool\"}],\"x_range\":{\"id\":\"1b10bc2a-4cc1-4f46-aea7-3aec809b2651\",\"type\":\"DataRange1d\"},\"y_range\":{\"id\":\"c4bcc570-bfcd-42ee-81aa-a7629071240e\",\"type\":\"DataRange1d\"}},\"id\":\"1b5f4386-c2ec-4813-abec-69c0aeff12e5\",\"subtype\":\"Figure\",\"type\":\"Plot\"},{\"attributes\":{\"months\":[0,4,8]},\"id\":\"69002097-76a4-409e-9250-e21512c38a72\",\"type\":\"MonthsTicker\"},{\"attributes\":{\"base\":60,\"mantissas\":[1,2,5,10,15,20,30],\"max_interval\":1800000.0,\"min_interval\":1000.0,\"num_minor_ticks\":0},\"id\":\"381d1b15-05dd-4004-8dbf-5a9e6846f518\",\"type\":\"AdaptiveTicker\"},{\"attributes\":{\"days\":[1,8,15,22]},\"id\":\"bee35d2f-e222-4390-9ca7-f0da0288c234\",\"type\":\"DaysTicker\"},{\"attributes\":{\"months\":[0,6]},\"id\":\"97e9b6a8-a364-422e-9dae-aea96111be03\",\"type\":\"MonthsTicker\"},{\"attributes\":{\"months\":[0,1,2,3,4,5,6,7,8,9,10,11]},\"id\":\"fdb4ea93-7a73-4775-a264-896460dce742\",\"type\":\"MonthsTicker\"},{\"attributes\":{\"plot\":{\"id\":\"61562e15-3788-4247-8cab-0a02bad8f956\",\"subtype\":\"Figure\",\"type\":\"Plot\"},\"ticker\":{\"id\":\"d69a77f6-637c-4c12-8fa5-342271ab04ba\",\"type\":\"DatetimeTicker\"}},\"id\":\"f08b503a-cbd9-41ab-a9b7-9ccf0b667251\",\"type\":\"Grid\"},{\"attributes\":{},\"id\":\"2879581b-bd7b-4031-9d8b-6122141b7031\",\"type\":\"DatetimeTickFormatter\"},{\"attributes\":{\"base\":24,\"mantissas\":[1,2,4,6,8,12],\"max_interval\":43200000.0,\"min_interval\":3600000.0,\"num_minor_ticks\":0},\"id\":\"f6d8b455-742f-41f9-ae1e-1b70c2ef2686\",\"type\":\"AdaptiveTicker\"},{\"attributes\":{\"fill_alpha\":{\"value\":0.1},\"fill_color\":{\"value\":\"#1f77b4\"},\"line_alpha\":{\"value\":0.1},\"line_color\":{\"value\":\"#1f77b4\"},\"line_width\":{\"value\":2},\"size\":{\"units\":\"screen\",\"value\":5},\"x\":{\"field\":\"airdate\"},\"y\":{\"field\":\"rating_count\"}},\"id\":\"346fa4bb-70f9-4d45-8d46-0ffc4d55fa3c\",\"type\":\"Circle\"},{\"attributes\":{\"callback\":null,\"plot\":{\"id\":\"1b5f4386-c2ec-4813-abec-69c0aeff12e5\",\"subtype\":\"Figure\",\"type\":\"Plot\"},\"tooltips\":[[\"Episode\",\"@number\"],[\"Title\",\"@title\"],[\"Airdate\",\"@airdatestr\"],[\"Rating\",\"@rating{1.11}\"],[\"Rating Count\",\"@rating_count{1.11}\"]]},\"id\":\"40659462-8755-4ef2-a5a5-e84873404496\",\"type\":\"HoverTool\"},{\"attributes\":{},\"id\":\"e13aca69-4a67-485d-af48-fc456ed71c64\",\"type\":\"YearsTicker\"},{\"attributes\":{\"max_interval\":500.0,\"num_minor_ticks\":0},\"id\":\"22f6ce9a-e207-4a48-84d1-8d7ea44641c0\",\"type\":\"AdaptiveTicker\"},{\"attributes\":{\"overlay\":{\"id\":\"d56e7897-f71b-4c0d-9ba9-4f84107fce95\",\"type\":\"BoxAnnotation\"},\"plot\":{\"id\":\"61562e15-3788-4247-8cab-0a02bad8f956\",\"subtype\":\"Figure\",\"type\":\"Plot\"}},\"id\":\"4311f831-ba09-4ad1-a08d-13be40eb285f\",\"type\":\"BoxZoomTool\"},{\"attributes\":{\"callback\":null},\"id\":\"c4bcc570-bfcd-42ee-81aa-a7629071240e\",\"type\":\"DataRange1d\"},{\"attributes\":{\"formatter\":{\"id\":\"2e73fd67-9ca5-4fed-a411-7a6096490590\",\"type\":\"BasicTickFormatter\"},\"plot\":{\"id\":\"1b5f4386-c2ec-4813-abec-69c0aeff12e5\",\"subtype\":\"Figure\",\"type\":\"Plot\"},\"ticker\":{\"id\":\"4228c67b-d497-4b42-ac72-43319dad7039\",\"type\":\"BasicTicker\"}},\"id\":\"c1521e94-99e8-4c98-9bcc-ef80017a755d\",\"type\":\"LinearAxis\"},{\"attributes\":{\"days\":[1,2,3,4,5,6,7,8,9,10,11,12,13,14,15,16,17,18,19,20,21,22,23,24,25,26,27,28,29,30,31]},\"id\":\"13e4487a-fa75-41fe-992c-24ff5d4f0880\",\"type\":\"DaysTicker\"},{\"attributes\":{\"base\":24,\"mantissas\":[1,2,4,6,8,12],\"max_interval\":43200000.0,\"min_interval\":3600000.0,\"num_minor_ticks\":0},\"id\":\"aabb23be-35bc-4dec-938d-af34527ed3aa\",\"type\":\"AdaptiveTicker\"},{\"attributes\":{\"bottom_units\":\"screen\",\"fill_alpha\":{\"value\":0.5},\"fill_color\":{\"value\":\"lightgrey\"},\"left_units\":\"screen\",\"level\":\"overlay\",\"line_alpha\":{\"value\":1.0},\"line_color\":{\"value\":\"black\"},\"line_dash\":[4,4],\"line_width\":{\"value\":2},\"plot\":null,\"render_mode\":\"css\",\"right_units\":\"screen\",\"top_units\":\"screen\"},\"id\":\"60899e5c-f887-4bf4-b3b9-d277c01bda15\",\"type\":\"BoxAnnotation\"},{\"attributes\":{\"callback\":null,\"plot\":{\"id\":\"61562e15-3788-4247-8cab-0a02bad8f956\",\"subtype\":\"Figure\",\"type\":\"Plot\"},\"tooltips\":[[\"Episode\",\"@number\"],[\"Title\",\"@title\"],[\"Airdate\",\"@airdatestr\"],[\"Rating\",\"@rating{1.11}\"],[\"Rating Count\",\"@rating_count{1.11}\"]]},\"id\":\"dbf6ebc0-88a1-4ee0-85d7-006904791a6c\",\"type\":\"HoverTool\"},{\"attributes\":{\"formatter\":{\"id\":\"2879581b-bd7b-4031-9d8b-6122141b7031\",\"type\":\"DatetimeTickFormatter\"},\"plot\":{\"id\":\"1b5f4386-c2ec-4813-abec-69c0aeff12e5\",\"subtype\":\"Figure\",\"type\":\"Plot\"},\"ticker\":{\"id\":\"034db809-6b93-43ef-92b3-2b69c869d1d0\",\"type\":\"DatetimeTicker\"}},\"id\":\"3be59895-537b-4a46-a75a-b86db6c68ec1\",\"type\":\"DatetimeAxis\"},{\"attributes\":{\"months\":[0,2,4,6,8,10]},\"id\":\"4c529a1d-f859-40f4-ae92-1d57b3106a26\",\"type\":\"MonthsTicker\"},{\"attributes\":{\"days\":[1,4,7,10,13,16,19,22,25,28]},\"id\":\"510bcf11-cfd9-4c66-9b29-2125dcc5fb5d\",\"type\":\"DaysTicker\"},{\"attributes\":{\"callback\":null},\"id\":\"1b10bc2a-4cc1-4f46-aea7-3aec809b2651\",\"type\":\"DataRange1d\"},{\"attributes\":{\"plot\":{\"id\":\"1b5f4386-c2ec-4813-abec-69c0aeff12e5\",\"subtype\":\"Figure\",\"type\":\"Plot\"}},\"id\":\"7d75c6ea-e29e-4517-b014-b815795e0b15\",\"type\":\"ResetTool\"},{\"attributes\":{},\"id\":\"c39431bf-7735-4478-ba3e-907300134f5c\",\"type\":\"ToolEvents\"},{\"attributes\":{\"plot\":{\"id\":\"61562e15-3788-4247-8cab-0a02bad8f956\",\"subtype\":\"Figure\",\"type\":\"Plot\"}},\"id\":\"de136212-030c-4c79-9e28-36fa81ac80d4\",\"type\":\"ResizeTool\"},{\"attributes\":{},\"id\":\"0db2b3cd-ca3f-4648-b6a4-cab84ac6878f\",\"type\":\"BasicTicker\"},{\"attributes\":{},\"id\":\"a53f900b-eb30-430c-84ea-e14acc3896fa\",\"type\":\"BasicTickFormatter\"},{\"attributes\":{\"plot\":{\"id\":\"1b5f4386-c2ec-4813-abec-69c0aeff12e5\",\"subtype\":\"Figure\",\"type\":\"Plot\"}},\"id\":\"01869746-b076-4ec2-a81a-079250d78519\",\"type\":\"WheelZoomTool\"},{\"attributes\":{\"plot\":{\"id\":\"61562e15-3788-4247-8cab-0a02bad8f956\",\"subtype\":\"Figure\",\"type\":\"Plot\"}},\"id\":\"08e04f66-4a89-44c9-9986-d6ca781e0c25\",\"type\":\"WheelZoomTool\"},{\"attributes\":{\"fill_color\":{\"value\":\"#1f77b4\"},\"line_color\":{\"value\":\"#1f77b4\"},\"line_width\":{\"value\":2},\"size\":{\"units\":\"screen\",\"value\":5},\"x\":{\"field\":\"airdate\"},\"y\":{\"field\":\"rating_count\"}},\"id\":\"6985c568-b79c-4a03-b905-49091837b1fa\",\"type\":\"Circle\"},{\"attributes\":{\"days\":[1,2,3,4,5,6,7,8,9,10,11,12,13,14,15,16,17,18,19,20,21,22,23,24,25,26,27,28,29,30,31]},\"id\":\"4b915bbf-6773-4166-ba66-9671d728e1ed\",\"type\":\"DaysTicker\"},{\"attributes\":{\"plot\":{\"id\":\"1b5f4386-c2ec-4813-abec-69c0aeff12e5\",\"subtype\":\"Figure\",\"type\":\"Plot\"}},\"id\":\"48380e5e-afde-4ae5-a792-2b74e6e83ba7\",\"type\":\"PanTool\"},{\"attributes\":{\"days\":[1,8,15,22]},\"id\":\"3ddbc6d6-ba1a-4db5-bfa0-726e5ff8ac07\",\"type\":\"DaysTicker\"},{\"attributes\":{\"plot\":{\"id\":\"61562e15-3788-4247-8cab-0a02bad8f956\",\"subtype\":\"Figure\",\"type\":\"Plot\"}},\"id\":\"b2bb3bbc-e7ce-4d4b-99e6-119192a5e23d\",\"type\":\"ResetTool\"},{\"attributes\":{},\"id\":\"8f4011af-e76c-4555-840d-843d026fa631\",\"type\":\"ToolEvents\"},{\"attributes\":{\"callback\":null,\"column_names\":[\"airdate\",\"rating_count\",\"number\",\"index\",\"title\",\"rating\",\"airdatestr\"],\"data\":{\"airdate\":[1441670400000.0,1441756800000.0,1441843200000.0,1441929600000.0,1442188800000.0,1442275200000.0,1442361600000.0,1442448000000.0,1442534400000.0,1442793600000.0,1442880000000.0,1442966400000.0,1443052800000.0,1443139200000.0,1443398400000.0,1443484800000.0,1443571200000.0,1443657600000.0,1443744000000.0,1444003200000.0,1444089600000.0,1444176000000.0,1444262400000.0,1444348800000.0,1444608000000.0,1444694400000.0,1444780800000.0,1444867200000.0,1444953600000.0,1445817600000.0,1445904000000.0,1445990400000.0,1446076800000.0,1446163200000.0,1446422400000.0,1446508800000.0,1446595200000.0,1446681600000.0,1446768000000.0,1447027200000.0,1447113600000.0,1447200000000.0,1447286400000.0,1447372800000.0,1447632000000.0,1447718400000.0,1447804800000.0,1447891200000.0,1447977600000.0,1448236800000.0,1448323200000.0,1448409600000.0,1449446400000.0,1449532800000.0,1449619200000.0,1449705600000.0,1449792000000.0,1450051200000.0,1450137600000.0,1450224000000.0,1450310400000.0,1450396800000.0,1451865600000.0,1451952000000.0,1452038400000.0,1452124800000.0,1452211200000.0,1452556800000.0,1452643200000.0,1452729600000.0,1452816000000.0,1453075200000.0,1453161600000.0,1453248000000.0,1453334400000.0,1453420800000.0,1453680000000.0,1453766400000.0,1453852800000.0,1453939200000.0,1454284800000.0,1454371200000.0,1454457600000.0,1454544000000.0,1454630400000.0,1454803200000.0,1454889600000.0,1454976000000.0,1455062400000.0,1455148800000.0,1455494400000.0,1455580800000.0,1455840000000.0,1456099200000.0,1456185600000.0,1456272000000.0,1456358400000.0,1456704000000.0,1456790400000.0,1456876800000.0,1456963200000.0,1457308800000.0,1457395200000.0,1457481600000.0,1457568000000.0,1457654400000.0,1457913600000.0,1458000000000.0,1458086400000.0,1458172800000.0,1459123200000.0,1459209600000.0,1459296000000.0,1459382400000.0,1459468800000.0,1459728000000.0,1459814400000.0,1459900800000.0,1459987200000.0,1460937600000.0,1461024000000.0,1461196800000.0,1461283200000.0,1461715200000.0,1462233600000.0],\"airdatestr\":[\"09/08/15\",\"09/09/15\",\"09/10/15\",\"09/11/15\",\"09/14/15\",\"09/15/15\",\"09/16/15\",\"09/17/15\",\"09/18/15\",\"09/21/15\",\"09/22/15\",\"09/23/15\",\"09/24/15\",\"09/25/15\",\"09/28/15\",\"09/29/15\",\"09/30/15\",\"10/01/15\",\"10/02/15\",\"10/05/15\",\"10/06/15\",\"10/07/15\",\"10/08/15\",\"10/09/15\",\"10/12/15\",\"10/13/15\",\"10/14/15\",\"10/15/15\",\"10/16/15\",\"10/26/15\",\"10/27/15\",\"10/28/15\",\"10/29/15\",\"10/30/15\",\"11/02/15\",\"11/03/15\",\"11/04/15\",\"11/05/15\",\"11/06/15\",\"11/09/15\",\"11/10/15\",\"11/11/15\",\"11/12/15\",\"11/13/15\",\"11/16/15\",\"11/17/15\",\"11/18/15\",\"11/19/15\",\"11/20/15\",\"11/23/15\",\"11/24/15\",\"11/25/15\",\"12/07/15\",\"12/08/15\",\"12/09/15\",\"12/10/15\",\"12/11/15\",\"12/14/15\",\"12/15/15\",\"12/16/15\",\"12/17/15\",\"12/18/15\",\"01/04/16\",\"01/05/16\",\"01/06/16\",\"01/07/16\",\"01/08/16\",\"01/12/16\",\"01/13/16\",\"01/14/16\",\"01/15/16\",\"01/18/16\",\"01/19/16\",\"01/20/16\",\"01/21/16\",\"01/22/16\",\"01/25/16\",\"01/26/16\",\"01/27/16\",\"01/28/16\",\"02/01/16\",\"02/02/16\",\"02/03/16\",\"02/04/16\",\"02/05/16\",\"02/07/16\",\"02/08/16\",\"02/09/16\",\"02/10/16\",\"02/11/16\",\"02/15/16\",\"02/16/16\",\"02/19/16\",\"02/22/16\",\"02/23/16\",\"02/24/16\",\"02/25/16\",\"02/29/16\",\"03/01/16\",\"03/02/16\",\"03/03/16\",\"03/07/16\",\"03/08/16\",\"03/09/16\",\"03/10/16\",\"03/11/16\",\"03/14/16\",\"03/15/16\",\"03/16/16\",\"03/17/16\",\"03/28/16\",\"03/29/16\",\"03/30/16\",\"03/31/16\",\"04/01/16\",\"04/04/16\",\"04/05/16\",\"04/06/16\",\"04/07/16\",\"04/18/16\",\"04/19/16\",\"04/21/16\",\"04/22/16\",\"04/27/16\",\"05/03/16\"],\"index\":[0,1,2,3,4,5,6,7,8,9,10,11,12,13,14,15,16,17,18,19,20,21,22,23,24,25,26,27,28,29,30,31,32,33,34,35,36,37,38,39,40,41,42,43,44,45,46,47,48,49,50,51,52,53,54,55,56,57,58,59,60,61,62,63,64,65,66,68,69,70,71,72,73,74,75,76,77,78,79,80,81,82,83,84,85,86,87,88,89,90,91,92,95,96,97,98,99,100,101,102,103,104,105,106,107,108,109,110,111,112,113,114,115,116,117,118,119,120,121,122,123,125,126,129,133],\"number\":[1,2,3,4,5,6,7,8,9,10,11,12,13,14,15,16,17,18,19,20,21,22,23,24,25,26,27,28,29,30,31,32,33,34,35,36,37,38,39,40,41,42,43,44,45,46,47,48,49,50,51,52,53,54,55,56,57,58,59,60,61,62,63,64,65,66,67,69,70,71,72,73,74,75,76,77,78,79,80,81,82,83,84,85,86,87,88,89,90,91,92,93,96,97,98,99,100,101,102,103,104,105,106,107,108,109,110,111,112,113,114,115,116,117,118,119,120,121,122,123,124,126,127,130,134],\"rating\":[7.5,7.5,8.6,7.4,7.9,7.8,8.0,7.7,8.2,8.0,8.2,7.7,7.3,7.8,7.2,7.4,8.2,6.9,7.7,8.2,7.4,7.9,8.5,7.7,8.1,8.5,8.3,7.2,8.5,7.2,7.9,8.0,8.0,7.3,7.5,7.7,8.3,7.7,7.3,6.9,8.1,7.6,7.6,7.4,8.1,8.0,7.7,8.5,9.0,8.4,7.2,7.1,7.2,7.7,6.6,8.2,7.8,7.4,8.0,7.1,7.9,7.8,7.4,7.7,8.1,7.5,8.0,7.0,7.0,7.0,7.7,7.5,7.6,8.0,7.7,8.5,7.9,7.8,7.2,7.8,7.6,7.0,6.4,7.6,7.7,7.6,7.1,7.4,7.8,7.2,6.8,6.7,6.4,7.0,7.3,7.8,7.3,8.4,7.4,7.7,7.7,6.9,7.3,6.8,7.0,6.0,7.9,7.0,7.1,7.6,7.1,6.1,8.1,8.0,7.7,7.2,5.9,6.9,6.2,8.0,8.1,6.8,7.8,7.8,8.4],\"rating_count\":[97.0,58.0,66.0,42.0,36.0,32.0,36.0,32.0,36.0,32.0,31.0,27.0,23.0,24.0,18.0,20.0,19.0,18.0,20.0,18.0,20.0,8.0,13.0,15.0,14.0,15.0,13.0,14.0,20.0,12.0,14.0,12.0,18.0,14.0,11.0,16.0,18.0,15.0,12.0,11.0,14.0,11.0,8.0,13.0,18.0,10.0,10.0,8.0,11.0,10.0,8.0,8.0,9.0,9.0,8.0,10.0,8.0,10.0,9.0,11.0,8.0,6.0,7.0,6.0,7.0,6.0,7.0,7.0,6.0,7.0,6.0,6.0,7.0,9.0,6.0,6.0,9.0,6.0,8.0,8.0,8.0,9.0,9.0,9.0,6.0,11.0,7.0,9.0,13.0,8.0,5.0,10.0,7.0,7.0,6.0,6.0,7.0,7.0,8.0,7.0,6.0,7.0,10.0,10.0,8.0,7.0,8.0,8.0,8.0,9.0,10.0,13.0,7.0,9.0,11.0,6.0,10.0,9.0,6.0,6.0,8.0,5.0,5.0,8.0,5.0],\"title\":[\"George Clooney/Governor Jeb Bush/Mavis Staples & Friends\",\"Scarlett Johansson/Elon Musk/Kendrick Lamar\",\"Vice President Joe Biden/Travis Kalanick/Toby Keith\",\"Amy Schumer/Stephen King/Troubled Waters\",\"Emily Blunt/Justice Stephen Breyer/The Dead Weather\",\"Jake Gyllenhaal/Apple CEO Tim Cook/Run the Jewels & TV on the Radio\",\"Kevin Spacey/Carol Burnett/Abbi Jacobson & Ilana Glazer/Willie Nelson & John Mellencamp\",\"Trevor Noah/Ban Ki-Moon/Chris Stapleton\",\"Lupita Nyong'o/Sen. Bernie Sanders/Cast of \\\"An American in Paris\\\"\",\"Steph Curry/Sen. Ted Cruz/Don Henley\",\"Donald Trump/Ernest Moniz/Raury\",\"Hugh Jackman/Sen. Elizabeth Warren/Pearl Jam\",\"Andrew Sullivan/Maria Shriver/Jim Gaffigan/Archbishop Thomas Wenski\",\"Malala Yousafzai/Kerry Washington/The Arcs\",\"Michelle Obama/Mindy Kaling/John Legend\",\"Ellen Page/Jesse Eisenberg/Dominic Wilcox\",\"Elizabeth Gilbert/John Oliver/Evan Spiegel/Bill Withers/Ed Sheeran\",\"Secretary of State John Kerry/Claire Danes/PewDiePie\",\"Morgan Freeman/Ruth Wilson/Sean Murray\",\"John McCain/Yo-Yo Ma/Misty Copeland\",\"Bill Clinton/Billy Eichner/Florence and the Machine\",\"Gina Rodriguez/Ben Bernanke/Tame Impala\",\"Cate Blanchett/Airbnb CEO Brian Chesky\",\"James Corden/Shane Smith/Halsey\",\"Carey Mulligan/Elvis Costello/Darlene Love\",\"Sarah Silverman/Elijah Wood/The Legends of Zelda: Symphony of the Goddesses\",\"Jack Black/Nick Woodman/Michelle Dorrance\",\"Oprah Winfrey/Joseph Fink & Jeffrey Cranor/Judith Hill\",\"Jimmy Kimmel/\\\"Crimson Peak\\\" Cast/Beach House\",\"Sienna Miller/Melissa Benoist/Chance the Rapper\",\"Hillary Clinton/Anthony Bourdain/Carrie Brownstein/Lianne La Navas\",\"Julianna Margulies/Jonathan Franzen/Alabama Shakes\",\"Seth MacFarlane/Neil DeGrasse Tyson\",\"Charlie Rose/Stacy Schiff/Ghost/The Zombies\",\"Allison Janney/Colin Quinn/Margaret Cho\",\"Antonio Banderas/Reed Hastings/John Irving\",\"Daniel Craig/Elizabeth Gilbert/Dr. Eugenia Cheng\",\"Bryan Cranston/Karl Ove Knausgaard/Shamir\",\"Whoopi Goldberg/Gov. John Kasich/Glen Hansard\",\"Ethan Hawke/Sen. Claire McCaskill & Sen. Amy Klobuchar/Nathaniel Ratcliff & the Night Sweats\",\"Aziz Ansari/Shonda Rhimes/Bruce Campbell & Lucy Lawless\",\"Viola Davis/Brian Greene/George Ezra\",\"Jennifer Connelly/Judd Apatow/The Internet\",\"Mark Ruffalo/John Cleese/Micheal Flatley\",\"Capt. Florent Groberg/Bill Maher/Shepard Fairey/The Acro-Cats\",\"Julianne Moore/Burt Reynolds/Public Image Ltd./CeeLo Green\",\"Sharon Stone/Justin Theroux/James Taylor\",\"Jane Fonda/Andrew Lloyd Webber/Brandon Niederauer\",\"Michael Caine/Larry Wilmore/Boots/Vulfpeck\",\"Sylvester Stallone/Ted Koppel/My Morning Jacket\",\"Spike Lee/Andy Cohen/Carly Simon\",\"Gloria Estefan/Navy Seal Eric Greitens/Jake Wood/Chef Daniel Boulud\",\"Steve Carell/Jennifer Hudson\",\"Marion Cotillard/George Saunders/Joanna Newsom\",\"Cast of \\\"Downton Abbey\\\"/Adam McKay/Kurt Vile\",\"Bruce Willis/Michael Lewis/Lizzo\",\"Lin-Manuel Miranda/Ike Barinholtz/Sharon Jones & the Dap Kings\",\"Jennifer Lawrence/Doris Kearns Goodwin/Sleater-Kinney\",\"Quentin Tarantino/Jonathan Groff/Squeeze\",\"Robert De Niro/Daniel Gilbert/Henry Rollins\",\"Michael Moore/Samantha Power/Michael C. Hall\",\"Mandy Patinkin/Kayvon Beykpour/Leon Bridges\",\"Samuel L. Jackson/Olivia Hallisey/Foals\",\"John Krasinski/Killer Mike/George Church/Foals\",\"Jerry Seinfeld/Sen. Rand Paul/Andra Day\",\"Damian Lewis/America Ferrera/FloydLittle's Double Dutch Team\",\"Matthew Broderick/Sarah Parcak/Kacey Musgraves\",\"Saoirse Ronan/Jeremy Stoppelman/Laura Ricciardi & Moira Demos/James Bay\",\"Paul Giamatti/Guerilla Girls/J.B. Mauney\",\"Olivia Munn/T.J. Miller/Father John Misty\",\"Scott Kelly/Abby Wambach/Maria Bamford\",\"Patricia Heaton/Quincy Jones/DeRay Mckesson/Grace\",\"Charlie Day/Colin Hanks/Margo Price\",\"James Spader/Brandon Marshall/Sarah Koenig/Rev Run\",\"Christian Slater/Josh Radnor/Iggy Pop\",\"Steven Tyler/Gaby Hoffmann/Lapsley\",\"Donald Rumsfeld/Russell Westbrook/Anderson Paak & the Free Nationals\",\"Laurence Fishburne/Sarah Paulson/Woke\",\"Chris Pine/Danielle Brooks/Jonah Reider/Baauer\",\"Josh Brolin/John Dickerson/Erin Brockovich/Aubrie Sellers\",\"John Travolta & Courtney B. Vance/Amy Cuddy/John Moreland\",\"David Schwimmer/Pastor Joel Osteen/M. Ward\",\"Dr. Phil McGraw/Mark & Jay Duplass/Michael Eric Dyson/Anderson Paak & the Free Nationals\",\"Michael Strahan/Samantha Bee/Wilco\",\"Bobby Cannavale/Donny Deutsch/Charles Kelley\",\"Tina Fey & Margot Robbie/Will Ferrell/Megyn Kelly/Keegan-Michael Key & Jordan Peele\",\"Bill O'Reilly/Eddie George/Macklemore & Ryan Lewis\",\"Olivia Wilde/Christiane Amanpour\",\"Ben Stiller/Sen. Bernie Sanders/TAO: Seventeen Samurai\",\"Kelsey Grammer/Fred Armisen/Sarah McDaniel/Ty Segall & the Muggers\",\"Craig Ferguson/Hailey Clauson & Ashley Graham/Cory Booker\",\"Eva Longoria/Abbi Jacobson & Ilana Glazer/Lucinda Williams\",\"Chelsea Handler/Zosia Mamet/The Lumineers\",\"Casey Affleck/Richard Dreyfuss/Mavis Staples\",\"Debra Messing/Zachary Quinto/Violent Femmes\",\"Adrien Brody/Danai Gurira/Brian Greene\",\"Tim Daly/Krysten Ritter/Jason Isbell\",\"Spike Jonze/Jeffrey Dean Morgan/Jack Garratt\",\"Chrissy Teigen/Mike Birbiglia/Adam Savage\",\"Octavia Spencer/John Stamos, Bob Saget & Dave Coulier/Lucius\",\"Christopher Meloni/Edward Byers/Ray LaMontagne\",\"Will Arnett/Charles Barkley/Max Greenfield\",\"Helen Mirren/J.J. Abrams/DMA's\",\"Sally Field/Jerrod Carmichael/Esperanza Spalding\",\"Anna Kendrick/Loretta Lynch/Brian Fallon\",\"Jeff Daniels/Audra McDonald/Mary Elizabeth Winstead\",\"John Oliver/Jordan Spieth/New Order\",\"Steve Martin & Edie Brickell/Shirley MacLaine/Gustavo Dudamel/Los Angeles Philharmonic\",\"Theo James/Jussie Smollett/Laurie Anderson\",\"William H. Macy/Melissa Rauch/Isaac Mizrahi\",\"Tom Hiddleston/Laura Benanti/Frightened Rabbit\",\"Adam Driver/Rachel Bloom/Savages\",\"Eric Stonestreet/Jason Jones/Sen. Elizabeth Warren\",\"Sarah Paulson/Tatiana Maslany/Wynton Marsalis, Lil Buck & Jared Grimes\",\"Steve Buscemi/Benjamin Walker/Cast of Broadway's \\\"American Psycho\\\"\",\"Matthew Perry/Nick Offerman/Explosions in the Sky\",\"Melissa McCarthy & Ben Falcone/Arianna Huffington/Babymetal\",\"Anna Kendrick & Sam Rockwell/David Duchovny/Autolux\",\"Mindy Kaling/Tituss Burgess/Ken Burns\",\"Hillary Clinton/Jesse Tyler Ferguson/Katharine McPhee/Sturgill Simpson\",\"Kevin Spacey/Thomas Middleditch/The Flaming Lips\",\"Tom Hanks/Leslie Odom, Jr./The Strumbellas/Roy Haynes\",\"Julia Louis-Dreyfus/Nikolaj Coster-Waldau/Sam Morril\",\"Susan Sarandon/David Tennant/Catfish & the Bottlemen\",\"Dakota Johnson/Sebastian Stan/Lukas Nelson & Promise of the Real\"]}},\"id\":\"27918eb8-2a46-4ef4-9392-56aeeac5a17f\",\"type\":\"ColumnDataSource\"},{\"attributes\":{\"num_minor_ticks\":5},\"id\":\"d69a77f6-637c-4c12-8fa5-342271ab04ba\",\"type\":\"DatetimeTicker\"},{\"attributes\":{\"data_source\":{\"id\":\"dc68f97a-7c25-4194-9fd6-066959f6b006\",\"type\":\"ColumnDataSource\"},\"glyph\":{\"id\":\"4ea11cb3-7c8d-4acf-9da8-7db64c6a54cf\",\"type\":\"Circle\"},\"hover_glyph\":null,\"nonselection_glyph\":{\"id\":\"23851785-94d1-48a6-8354-f30379497ed5\",\"type\":\"Circle\"},\"selection_glyph\":null},\"id\":\"95bef24c-eaa7-4835-92d1-bc67aab35e5d\",\"type\":\"GlyphRenderer\"},{\"attributes\":{\"callback\":null},\"id\":\"0e8729d1-b76f-4c6a-bd1f-be4cada18b3d\",\"type\":\"DataRange1d\"},{\"attributes\":{\"days\":[1,15]},\"id\":\"a741a162-abb1-4ad0-a0b4-301b6d0f2faf\",\"type\":\"DaysTicker\"},{\"attributes\":{\"callback\":null},\"id\":\"1ff1638d-f686-4a54-a1eb-97c0a11f75be\",\"type\":\"DataRange1d\"},{\"attributes\":{},\"id\":\"2e73fd67-9ca5-4fed-a411-7a6096490590\",\"type\":\"BasicTickFormatter\"},{\"attributes\":{\"formatter\":{\"id\":\"a53f900b-eb30-430c-84ea-e14acc3896fa\",\"type\":\"BasicTickFormatter\"},\"plot\":{\"id\":\"61562e15-3788-4247-8cab-0a02bad8f956\",\"subtype\":\"Figure\",\"type\":\"Plot\"},\"ticker\":{\"id\":\"0db2b3cd-ca3f-4648-b6a4-cab84ac6878f\",\"type\":\"BasicTicker\"}},\"id\":\"dcabc086-475b-47bb-8bb6-086058b18a33\",\"type\":\"LinearAxis\"},{\"attributes\":{\"fill_alpha\":{\"value\":0.1},\"fill_color\":{\"value\":\"#1f77b4\"},\"line_alpha\":{\"value\":0.1},\"line_color\":{\"value\":\"#1f77b4\"},\"line_width\":{\"value\":2},\"size\":{\"units\":\"screen\",\"value\":5},\"x\":{\"field\":\"airdate\"},\"y\":{\"field\":\"rating\"}},\"id\":\"23851785-94d1-48a6-8354-f30379497ed5\",\"type\":\"Circle\"},{\"attributes\":{},\"id\":\"fc766c4c-4ca4-48ca-981e-9c70bfcfbf98\",\"type\":\"YearsTicker\"},{\"attributes\":{\"months\":[0,4,8]},\"id\":\"693dca16-df88-42a9-8ae2-af876b0d4aa0\",\"type\":\"MonthsTicker\"},{\"attributes\":{\"plot\":{\"id\":\"1b5f4386-c2ec-4813-abec-69c0aeff12e5\",\"subtype\":\"Figure\",\"type\":\"Plot\"}},\"id\":\"7231e8f5-e0bb-46f6-b63f-5dc0b9eb7e2f\",\"type\":\"ResizeTool\"},{\"attributes\":{\"days\":[1,15]},\"id\":\"6cde046a-bd27-461a-b2bb-5af304d16a35\",\"type\":\"DaysTicker\"},{\"attributes\":{},\"id\":\"55429cd2-a862-4378-9fa7-5e65bb988bc9\",\"type\":\"DatetimeTickFormatter\"},{\"attributes\":{\"days\":[1,4,7,10,13,16,19,22,25,28]},\"id\":\"863a65d9-f851-47e8-81ce-8cbd15c43bb0\",\"type\":\"DaysTicker\"},{\"attributes\":{\"callback\":null,\"column_names\":[\"airdate\",\"rating_count\",\"number\",\"index\",\"title\",\"rating\",\"airdatestr\"],\"data\":{\"airdate\":[1441670400000.0,1441756800000.0,1441843200000.0,1441929600000.0,1442188800000.0,1442275200000.0,1442361600000.0,1442448000000.0,1442534400000.0,1442793600000.0,1442880000000.0,1442966400000.0,1443052800000.0,1443139200000.0,1443398400000.0,1443484800000.0,1443571200000.0,1443657600000.0,1443744000000.0,1444003200000.0,1444089600000.0,1444176000000.0,1444262400000.0,1444348800000.0,1444608000000.0,1444694400000.0,1444780800000.0,1444867200000.0,1444953600000.0,1445817600000.0,1445904000000.0,1445990400000.0,1446076800000.0,1446163200000.0,1446422400000.0,1446508800000.0,1446595200000.0,1446681600000.0,1446768000000.0,1447027200000.0,1447113600000.0,1447200000000.0,1447286400000.0,1447372800000.0,1447632000000.0,1447718400000.0,1447804800000.0,1447891200000.0,1447977600000.0,1448236800000.0,1448323200000.0,1448409600000.0,1449446400000.0,1449532800000.0,1449619200000.0,1449705600000.0,1449792000000.0,1450051200000.0,1450137600000.0,1450224000000.0,1450310400000.0,1450396800000.0,1451865600000.0,1451952000000.0,1452038400000.0,1452124800000.0,1452211200000.0,1452556800000.0,1452643200000.0,1452729600000.0,1452816000000.0,1453075200000.0,1453161600000.0,1453248000000.0,1453334400000.0,1453420800000.0,1453680000000.0,1453766400000.0,1453852800000.0,1453939200000.0,1454284800000.0,1454371200000.0,1454457600000.0,1454544000000.0,1454630400000.0,1454803200000.0,1454889600000.0,1454976000000.0,1455062400000.0,1455148800000.0,1455494400000.0,1455580800000.0,1455840000000.0,1456099200000.0,1456185600000.0,1456272000000.0,1456358400000.0,1456704000000.0,1456790400000.0,1456876800000.0,1456963200000.0,1457308800000.0,1457395200000.0,1457481600000.0,1457568000000.0,1457654400000.0,1457913600000.0,1458000000000.0,1458086400000.0,1458172800000.0,1459123200000.0,1459209600000.0,1459296000000.0,1459382400000.0,1459468800000.0,1459728000000.0,1459814400000.0,1459900800000.0,1459987200000.0,1460937600000.0,1461024000000.0,1461196800000.0,1461283200000.0,1461715200000.0,1462233600000.0],\"airdatestr\":[\"09/08/15\",\"09/09/15\",\"09/10/15\",\"09/11/15\",\"09/14/15\",\"09/15/15\",\"09/16/15\",\"09/17/15\",\"09/18/15\",\"09/21/15\",\"09/22/15\",\"09/23/15\",\"09/24/15\",\"09/25/15\",\"09/28/15\",\"09/29/15\",\"09/30/15\",\"10/01/15\",\"10/02/15\",\"10/05/15\",\"10/06/15\",\"10/07/15\",\"10/08/15\",\"10/09/15\",\"10/12/15\",\"10/13/15\",\"10/14/15\",\"10/15/15\",\"10/16/15\",\"10/26/15\",\"10/27/15\",\"10/28/15\",\"10/29/15\",\"10/30/15\",\"11/02/15\",\"11/03/15\",\"11/04/15\",\"11/05/15\",\"11/06/15\",\"11/09/15\",\"11/10/15\",\"11/11/15\",\"11/12/15\",\"11/13/15\",\"11/16/15\",\"11/17/15\",\"11/18/15\",\"11/19/15\",\"11/20/15\",\"11/23/15\",\"11/24/15\",\"11/25/15\",\"12/07/15\",\"12/08/15\",\"12/09/15\",\"12/10/15\",\"12/11/15\",\"12/14/15\",\"12/15/15\",\"12/16/15\",\"12/17/15\",\"12/18/15\",\"01/04/16\",\"01/05/16\",\"01/06/16\",\"01/07/16\",\"01/08/16\",\"01/12/16\",\"01/13/16\",\"01/14/16\",\"01/15/16\",\"01/18/16\",\"01/19/16\",\"01/20/16\",\"01/21/16\",\"01/22/16\",\"01/25/16\",\"01/26/16\",\"01/27/16\",\"01/28/16\",\"02/01/16\",\"02/02/16\",\"02/03/16\",\"02/04/16\",\"02/05/16\",\"02/07/16\",\"02/08/16\",\"02/09/16\",\"02/10/16\",\"02/11/16\",\"02/15/16\",\"02/16/16\",\"02/19/16\",\"02/22/16\",\"02/23/16\",\"02/24/16\",\"02/25/16\",\"02/29/16\",\"03/01/16\",\"03/02/16\",\"03/03/16\",\"03/07/16\",\"03/08/16\",\"03/09/16\",\"03/10/16\",\"03/11/16\",\"03/14/16\",\"03/15/16\",\"03/16/16\",\"03/17/16\",\"03/28/16\",\"03/29/16\",\"03/30/16\",\"03/31/16\",\"04/01/16\",\"04/04/16\",\"04/05/16\",\"04/06/16\",\"04/07/16\",\"04/18/16\",\"04/19/16\",\"04/21/16\",\"04/22/16\",\"04/27/16\",\"05/03/16\"],\"index\":[0,1,2,3,4,5,6,7,8,9,10,11,12,13,14,15,16,17,18,19,20,21,22,23,24,25,26,27,28,29,30,31,32,33,34,35,36,37,38,39,40,41,42,43,44,45,46,47,48,49,50,51,52,53,54,55,56,57,58,59,60,61,62,63,64,65,66,68,69,70,71,72,73,74,75,76,77,78,79,80,81,82,83,84,85,86,87,88,89,90,91,92,95,96,97,98,99,100,101,102,103,104,105,106,107,108,109,110,111,112,113,114,115,116,117,118,119,120,121,122,123,125,126,129,133],\"number\":[1,2,3,4,5,6,7,8,9,10,11,12,13,14,15,16,17,18,19,20,21,22,23,24,25,26,27,28,29,30,31,32,33,34,35,36,37,38,39,40,41,42,43,44,45,46,47,48,49,50,51,52,53,54,55,56,57,58,59,60,61,62,63,64,65,66,67,69,70,71,72,73,74,75,76,77,78,79,80,81,82,83,84,85,86,87,88,89,90,91,92,93,96,97,98,99,100,101,102,103,104,105,106,107,108,109,110,111,112,113,114,115,116,117,118,119,120,121,122,123,124,126,127,130,134],\"rating\":[7.5,7.5,8.6,7.4,7.9,7.8,8.0,7.7,8.2,8.0,8.2,7.7,7.3,7.8,7.2,7.4,8.2,6.9,7.7,8.2,7.4,7.9,8.5,7.7,8.1,8.5,8.3,7.2,8.5,7.2,7.9,8.0,8.0,7.3,7.5,7.7,8.3,7.7,7.3,6.9,8.1,7.6,7.6,7.4,8.1,8.0,7.7,8.5,9.0,8.4,7.2,7.1,7.2,7.7,6.6,8.2,7.8,7.4,8.0,7.1,7.9,7.8,7.4,7.7,8.1,7.5,8.0,7.0,7.0,7.0,7.7,7.5,7.6,8.0,7.7,8.5,7.9,7.8,7.2,7.8,7.6,7.0,6.4,7.6,7.7,7.6,7.1,7.4,7.8,7.2,6.8,6.7,6.4,7.0,7.3,7.8,7.3,8.4,7.4,7.7,7.7,6.9,7.3,6.8,7.0,6.0,7.9,7.0,7.1,7.6,7.1,6.1,8.1,8.0,7.7,7.2,5.9,6.9,6.2,8.0,8.1,6.8,7.8,7.8,8.4],\"rating_count\":[97.0,58.0,66.0,42.0,36.0,32.0,36.0,32.0,36.0,32.0,31.0,27.0,23.0,24.0,18.0,20.0,19.0,18.0,20.0,18.0,20.0,8.0,13.0,15.0,14.0,15.0,13.0,14.0,20.0,12.0,14.0,12.0,18.0,14.0,11.0,16.0,18.0,15.0,12.0,11.0,14.0,11.0,8.0,13.0,18.0,10.0,10.0,8.0,11.0,10.0,8.0,8.0,9.0,9.0,8.0,10.0,8.0,10.0,9.0,11.0,8.0,6.0,7.0,6.0,7.0,6.0,7.0,7.0,6.0,7.0,6.0,6.0,7.0,9.0,6.0,6.0,9.0,6.0,8.0,8.0,8.0,9.0,9.0,9.0,6.0,11.0,7.0,9.0,13.0,8.0,5.0,10.0,7.0,7.0,6.0,6.0,7.0,7.0,8.0,7.0,6.0,7.0,10.0,10.0,8.0,7.0,8.0,8.0,8.0,9.0,10.0,13.0,7.0,9.0,11.0,6.0,10.0,9.0,6.0,6.0,8.0,5.0,5.0,8.0,5.0],\"title\":[\"George Clooney/Governor Jeb Bush/Mavis Staples & Friends\",\"Scarlett Johansson/Elon Musk/Kendrick Lamar\",\"Vice President Joe Biden/Travis Kalanick/Toby Keith\",\"Amy Schumer/Stephen King/Troubled Waters\",\"Emily Blunt/Justice Stephen Breyer/The Dead Weather\",\"Jake Gyllenhaal/Apple CEO Tim Cook/Run the Jewels & TV on the Radio\",\"Kevin Spacey/Carol Burnett/Abbi Jacobson & Ilana Glazer/Willie Nelson & John Mellencamp\",\"Trevor Noah/Ban Ki-Moon/Chris Stapleton\",\"Lupita Nyong'o/Sen. Bernie Sanders/Cast of \\\"An American in Paris\\\"\",\"Steph Curry/Sen. Ted Cruz/Don Henley\",\"Donald Trump/Ernest Moniz/Raury\",\"Hugh Jackman/Sen. Elizabeth Warren/Pearl Jam\",\"Andrew Sullivan/Maria Shriver/Jim Gaffigan/Archbishop Thomas Wenski\",\"Malala Yousafzai/Kerry Washington/The Arcs\",\"Michelle Obama/Mindy Kaling/John Legend\",\"Ellen Page/Jesse Eisenberg/Dominic Wilcox\",\"Elizabeth Gilbert/John Oliver/Evan Spiegel/Bill Withers/Ed Sheeran\",\"Secretary of State John Kerry/Claire Danes/PewDiePie\",\"Morgan Freeman/Ruth Wilson/Sean Murray\",\"John McCain/Yo-Yo Ma/Misty Copeland\",\"Bill Clinton/Billy Eichner/Florence and the Machine\",\"Gina Rodriguez/Ben Bernanke/Tame Impala\",\"Cate Blanchett/Airbnb CEO Brian Chesky\",\"James Corden/Shane Smith/Halsey\",\"Carey Mulligan/Elvis Costello/Darlene Love\",\"Sarah Silverman/Elijah Wood/The Legends of Zelda: Symphony of the Goddesses\",\"Jack Black/Nick Woodman/Michelle Dorrance\",\"Oprah Winfrey/Joseph Fink & Jeffrey Cranor/Judith Hill\",\"Jimmy Kimmel/\\\"Crimson Peak\\\" Cast/Beach House\",\"Sienna Miller/Melissa Benoist/Chance the Rapper\",\"Hillary Clinton/Anthony Bourdain/Carrie Brownstein/Lianne La Navas\",\"Julianna Margulies/Jonathan Franzen/Alabama Shakes\",\"Seth MacFarlane/Neil DeGrasse Tyson\",\"Charlie Rose/Stacy Schiff/Ghost/The Zombies\",\"Allison Janney/Colin Quinn/Margaret Cho\",\"Antonio Banderas/Reed Hastings/John Irving\",\"Daniel Craig/Elizabeth Gilbert/Dr. Eugenia Cheng\",\"Bryan Cranston/Karl Ove Knausgaard/Shamir\",\"Whoopi Goldberg/Gov. John Kasich/Glen Hansard\",\"Ethan Hawke/Sen. Claire McCaskill & Sen. Amy Klobuchar/Nathaniel Ratcliff & the Night Sweats\",\"Aziz Ansari/Shonda Rhimes/Bruce Campbell & Lucy Lawless\",\"Viola Davis/Brian Greene/George Ezra\",\"Jennifer Connelly/Judd Apatow/The Internet\",\"Mark Ruffalo/John Cleese/Micheal Flatley\",\"Capt. Florent Groberg/Bill Maher/Shepard Fairey/The Acro-Cats\",\"Julianne Moore/Burt Reynolds/Public Image Ltd./CeeLo Green\",\"Sharon Stone/Justin Theroux/James Taylor\",\"Jane Fonda/Andrew Lloyd Webber/Brandon Niederauer\",\"Michael Caine/Larry Wilmore/Boots/Vulfpeck\",\"Sylvester Stallone/Ted Koppel/My Morning Jacket\",\"Spike Lee/Andy Cohen/Carly Simon\",\"Gloria Estefan/Navy Seal Eric Greitens/Jake Wood/Chef Daniel Boulud\",\"Steve Carell/Jennifer Hudson\",\"Marion Cotillard/George Saunders/Joanna Newsom\",\"Cast of \\\"Downton Abbey\\\"/Adam McKay/Kurt Vile\",\"Bruce Willis/Michael Lewis/Lizzo\",\"Lin-Manuel Miranda/Ike Barinholtz/Sharon Jones & the Dap Kings\",\"Jennifer Lawrence/Doris Kearns Goodwin/Sleater-Kinney\",\"Quentin Tarantino/Jonathan Groff/Squeeze\",\"Robert De Niro/Daniel Gilbert/Henry Rollins\",\"Michael Moore/Samantha Power/Michael C. Hall\",\"Mandy Patinkin/Kayvon Beykpour/Leon Bridges\",\"Samuel L. Jackson/Olivia Hallisey/Foals\",\"John Krasinski/Killer Mike/George Church/Foals\",\"Jerry Seinfeld/Sen. Rand Paul/Andra Day\",\"Damian Lewis/America Ferrera/FloydLittle's Double Dutch Team\",\"Matthew Broderick/Sarah Parcak/Kacey Musgraves\",\"Saoirse Ronan/Jeremy Stoppelman/Laura Ricciardi & Moira Demos/James Bay\",\"Paul Giamatti/Guerilla Girls/J.B. Mauney\",\"Olivia Munn/T.J. Miller/Father John Misty\",\"Scott Kelly/Abby Wambach/Maria Bamford\",\"Patricia Heaton/Quincy Jones/DeRay Mckesson/Grace\",\"Charlie Day/Colin Hanks/Margo Price\",\"James Spader/Brandon Marshall/Sarah Koenig/Rev Run\",\"Christian Slater/Josh Radnor/Iggy Pop\",\"Steven Tyler/Gaby Hoffmann/Lapsley\",\"Donald Rumsfeld/Russell Westbrook/Anderson Paak & the Free Nationals\",\"Laurence Fishburne/Sarah Paulson/Woke\",\"Chris Pine/Danielle Brooks/Jonah Reider/Baauer\",\"Josh Brolin/John Dickerson/Erin Brockovich/Aubrie Sellers\",\"John Travolta & Courtney B. Vance/Amy Cuddy/John Moreland\",\"David Schwimmer/Pastor Joel Osteen/M. Ward\",\"Dr. Phil McGraw/Mark & Jay Duplass/Michael Eric Dyson/Anderson Paak & the Free Nationals\",\"Michael Strahan/Samantha Bee/Wilco\",\"Bobby Cannavale/Donny Deutsch/Charles Kelley\",\"Tina Fey & Margot Robbie/Will Ferrell/Megyn Kelly/Keegan-Michael Key & Jordan Peele\",\"Bill O'Reilly/Eddie George/Macklemore & Ryan Lewis\",\"Olivia Wilde/Christiane Amanpour\",\"Ben Stiller/Sen. Bernie Sanders/TAO: Seventeen Samurai\",\"Kelsey Grammer/Fred Armisen/Sarah McDaniel/Ty Segall & the Muggers\",\"Craig Ferguson/Hailey Clauson & Ashley Graham/Cory Booker\",\"Eva Longoria/Abbi Jacobson & Ilana Glazer/Lucinda Williams\",\"Chelsea Handler/Zosia Mamet/The Lumineers\",\"Casey Affleck/Richard Dreyfuss/Mavis Staples\",\"Debra Messing/Zachary Quinto/Violent Femmes\",\"Adrien Brody/Danai Gurira/Brian Greene\",\"Tim Daly/Krysten Ritter/Jason Isbell\",\"Spike Jonze/Jeffrey Dean Morgan/Jack Garratt\",\"Chrissy Teigen/Mike Birbiglia/Adam Savage\",\"Octavia Spencer/John Stamos, Bob Saget & Dave Coulier/Lucius\",\"Christopher Meloni/Edward Byers/Ray LaMontagne\",\"Will Arnett/Charles Barkley/Max Greenfield\",\"Helen Mirren/J.J. Abrams/DMA's\",\"Sally Field/Jerrod Carmichael/Esperanza Spalding\",\"Anna Kendrick/Loretta Lynch/Brian Fallon\",\"Jeff Daniels/Audra McDonald/Mary Elizabeth Winstead\",\"John Oliver/Jordan Spieth/New Order\",\"Steve Martin & Edie Brickell/Shirley MacLaine/Gustavo Dudamel/Los Angeles Philharmonic\",\"Theo James/Jussie Smollett/Laurie Anderson\",\"William H. Macy/Melissa Rauch/Isaac Mizrahi\",\"Tom Hiddleston/Laura Benanti/Frightened Rabbit\",\"Adam Driver/Rachel Bloom/Savages\",\"Eric Stonestreet/Jason Jones/Sen. Elizabeth Warren\",\"Sarah Paulson/Tatiana Maslany/Wynton Marsalis, Lil Buck & Jared Grimes\",\"Steve Buscemi/Benjamin Walker/Cast of Broadway's \\\"American Psycho\\\"\",\"Matthew Perry/Nick Offerman/Explosions in the Sky\",\"Melissa McCarthy & Ben Falcone/Arianna Huffington/Babymetal\",\"Anna Kendrick & Sam Rockwell/David Duchovny/Autolux\",\"Mindy Kaling/Tituss Burgess/Ken Burns\",\"Hillary Clinton/Jesse Tyler Ferguson/Katharine McPhee/Sturgill Simpson\",\"Kevin Spacey/Thomas Middleditch/The Flaming Lips\",\"Tom Hanks/Leslie Odom, Jr./The Strumbellas/Roy Haynes\",\"Julia Louis-Dreyfus/Nikolaj Coster-Waldau/Sam Morril\",\"Susan Sarandon/David Tennant/Catfish & the Bottlemen\",\"Dakota Johnson/Sebastian Stan/Lukas Nelson & Promise of the Real\"]}},\"id\":\"dc68f97a-7c25-4194-9fd6-066959f6b006\",\"type\":\"ColumnDataSource\"},{\"attributes\":{\"fill_color\":{\"value\":\"#1f77b4\"},\"line_color\":{\"value\":\"#1f77b4\"},\"line_width\":{\"value\":2},\"size\":{\"units\":\"screen\",\"value\":5},\"x\":{\"field\":\"airdate\"},\"y\":{\"field\":\"rating\"}},\"id\":\"4ea11cb3-7c8d-4acf-9da8-7db64c6a54cf\",\"type\":\"Circle\"},{\"attributes\":{\"plot\":{\"id\":\"61562e15-3788-4247-8cab-0a02bad8f956\",\"subtype\":\"Figure\",\"type\":\"Plot\"}},\"id\":\"3f8799ca-5f6d-4e01-bfba-d81cf856e67b\",\"type\":\"PreviewSaveTool\"},{\"attributes\":{\"base\":60,\"mantissas\":[1,2,5,10,15,20,30],\"max_interval\":1800000.0,\"min_interval\":1000.0,\"num_minor_ticks\":0},\"id\":\"7550647c-9f0f-4e11-8205-585b9d736c62\",\"type\":\"AdaptiveTicker\"},{\"attributes\":{\"bottom_units\":\"screen\",\"fill_alpha\":{\"value\":0.5},\"fill_color\":{\"value\":\"lightgrey\"},\"left_units\":\"screen\",\"level\":\"overlay\",\"line_alpha\":{\"value\":1.0},\"line_color\":{\"value\":\"black\"},\"line_dash\":[4,4],\"line_width\":{\"value\":2},\"plot\":null,\"render_mode\":\"css\",\"right_units\":\"screen\",\"top_units\":\"screen\"},\"id\":\"d56e7897-f71b-4c0d-9ba9-4f84107fce95\",\"type\":\"BoxAnnotation\"},{\"attributes\":{\"plot\":{\"id\":\"1b5f4386-c2ec-4813-abec-69c0aeff12e5\",\"subtype\":\"Figure\",\"type\":\"Plot\"},\"ticker\":{\"id\":\"034db809-6b93-43ef-92b3-2b69c869d1d0\",\"type\":\"DatetimeTicker\"}},\"id\":\"73f1565e-7f1a-4772-84d6-1f9b07af5c9b\",\"type\":\"Grid\"},{\"attributes\":{\"dimension\":1,\"plot\":{\"id\":\"1b5f4386-c2ec-4813-abec-69c0aeff12e5\",\"subtype\":\"Figure\",\"type\":\"Plot\"},\"ticker\":{\"id\":\"4228c67b-d497-4b42-ac72-43319dad7039\",\"type\":\"BasicTicker\"}},\"id\":\"4db49822-11f0-4486-89d4-f62bce663d8f\",\"type\":\"Grid\"},{\"attributes\":{\"plot\":{\"id\":\"1b5f4386-c2ec-4813-abec-69c0aeff12e5\",\"subtype\":\"Figure\",\"type\":\"Plot\"}},\"id\":\"666d6fbc-603e-4949-b3ee-6b0abd7e2828\",\"type\":\"HelpTool\"},{\"attributes\":{\"months\":[0,6]},\"id\":\"d0357a5f-167a-4dae-9a05-8ea23a7565eb\",\"type\":\"MonthsTicker\"},{\"attributes\":{\"plot\":{\"id\":\"61562e15-3788-4247-8cab-0a02bad8f956\",\"subtype\":\"Figure\",\"type\":\"Plot\"}},\"id\":\"5eaf4514-cbb3-4d8e-8942-bb33e5dfa7d6\",\"type\":\"PanTool\"},{\"attributes\":{\"months\":[0,1,2,3,4,5,6,7,8,9,10,11]},\"id\":\"403a2933-378b-4a55-82a6-d43251d85044\",\"type\":\"MonthsTicker\"},{\"attributes\":{\"months\":[0,2,4,6,8,10]},\"id\":\"4881c0cb-342e-4f67-aea0-3e96ada8d489\",\"type\":\"MonthsTicker\"},{\"attributes\":{\"below\":[{\"id\":\"176affdd-da32-4464-93b2-88f387f97163\",\"type\":\"DatetimeAxis\"}],\"left\":[{\"id\":\"dcabc086-475b-47bb-8bb6-086058b18a33\",\"type\":\"LinearAxis\"}],\"logo\":null,\"plot_height\":400,\"plot_width\":950,\"renderers\":[{\"id\":\"176affdd-da32-4464-93b2-88f387f97163\",\"type\":\"DatetimeAxis\"},{\"id\":\"f08b503a-cbd9-41ab-a9b7-9ccf0b667251\",\"type\":\"Grid\"},{\"id\":\"dcabc086-475b-47bb-8bb6-086058b18a33\",\"type\":\"LinearAxis\"},{\"id\":\"f13ac384-5275-492e-8c27-19aa40ecb119\",\"type\":\"Grid\"},{\"id\":\"d56e7897-f71b-4c0d-9ba9-4f84107fce95\",\"type\":\"BoxAnnotation\"},{\"id\":\"95bef24c-eaa7-4835-92d1-bc67aab35e5d\",\"type\":\"GlyphRenderer\"}],\"title\":\"Ratings per Episode on The Late Show with Stephen Colbert\",\"tool_events\":{\"id\":\"c39431bf-7735-4478-ba3e-907300134f5c\",\"type\":\"ToolEvents\"},\"tools\":[{\"id\":\"5eaf4514-cbb3-4d8e-8942-bb33e5dfa7d6\",\"type\":\"PanTool\"},{\"id\":\"08e04f66-4a89-44c9-9986-d6ca781e0c25\",\"type\":\"WheelZoomTool\"},{\"id\":\"4311f831-ba09-4ad1-a08d-13be40eb285f\",\"type\":\"BoxZoomTool\"},{\"id\":\"3f8799ca-5f6d-4e01-bfba-d81cf856e67b\",\"type\":\"PreviewSaveTool\"},{\"id\":\"de136212-030c-4c79-9e28-36fa81ac80d4\",\"type\":\"ResizeTool\"},{\"id\":\"b2bb3bbc-e7ce-4d4b-99e6-119192a5e23d\",\"type\":\"ResetTool\"},{\"id\":\"d9e5aa6a-0cd6-48b9-a95f-4309b34d14ea\",\"type\":\"HelpTool\"},{\"id\":\"dbf6ebc0-88a1-4ee0-85d7-006904791a6c\",\"type\":\"HoverTool\"}],\"x_range\":{\"id\":\"1ff1638d-f686-4a54-a1eb-97c0a11f75be\",\"type\":\"DataRange1d\"},\"y_range\":{\"id\":\"0e8729d1-b76f-4c6a-bd1f-be4cada18b3d\",\"type\":\"DataRange1d\"}},\"id\":\"61562e15-3788-4247-8cab-0a02bad8f956\",\"subtype\":\"Figure\",\"type\":\"Plot\"},{\"attributes\":{\"overlay\":{\"id\":\"60899e5c-f887-4bf4-b3b9-d277c01bda15\",\"type\":\"BoxAnnotation\"},\"plot\":{\"id\":\"1b5f4386-c2ec-4813-abec-69c0aeff12e5\",\"subtype\":\"Figure\",\"type\":\"Plot\"}},\"id\":\"c6f53740-d1b7-4115-9c68-41347a0c4baa\",\"type\":\"BoxZoomTool\"},{\"attributes\":{\"num_minor_ticks\":5},\"id\":\"034db809-6b93-43ef-92b3-2b69c869d1d0\",\"type\":\"DatetimeTicker\"},{\"attributes\":{\"plot\":{\"id\":\"61562e15-3788-4247-8cab-0a02bad8f956\",\"subtype\":\"Figure\",\"type\":\"Plot\"}},\"id\":\"d9e5aa6a-0cd6-48b9-a95f-4309b34d14ea\",\"type\":\"HelpTool\"},{\"attributes\":{\"formatter\":{\"id\":\"55429cd2-a862-4378-9fa7-5e65bb988bc9\",\"type\":\"DatetimeTickFormatter\"},\"plot\":{\"id\":\"61562e15-3788-4247-8cab-0a02bad8f956\",\"subtype\":\"Figure\",\"type\":\"Plot\"},\"ticker\":{\"id\":\"d69a77f6-637c-4c12-8fa5-342271ab04ba\",\"type\":\"DatetimeTicker\"}},\"id\":\"176affdd-da32-4464-93b2-88f387f97163\",\"type\":\"DatetimeAxis\"},{\"attributes\":{\"max_interval\":500.0,\"num_minor_ticks\":0},\"id\":\"77361461-e1d5-4bb1-adfd-50b018e9a434\",\"type\":\"AdaptiveTicker\"},{\"attributes\":{\"plot\":{\"id\":\"1b5f4386-c2ec-4813-abec-69c0aeff12e5\",\"subtype\":\"Figure\",\"type\":\"Plot\"}},\"id\":\"80c96cef-6365-4a0d-b94d-7a0d229c124f\",\"type\":\"PreviewSaveTool\"},{\"attributes\":{\"dimension\":1,\"plot\":{\"id\":\"61562e15-3788-4247-8cab-0a02bad8f956\",\"subtype\":\"Figure\",\"type\":\"Plot\"},\"ticker\":{\"id\":\"0db2b3cd-ca3f-4648-b6a4-cab84ac6878f\",\"type\":\"BasicTicker\"}},\"id\":\"f13ac384-5275-492e-8c27-19aa40ecb119\",\"type\":\"Grid\"},{\"attributes\":{},\"id\":\"4228c67b-d497-4b42-ac72-43319dad7039\",\"type\":\"BasicTicker\"}],\"root_ids\":[\"61562e15-3788-4247-8cab-0a02bad8f956\",\"1b5f4386-c2ec-4813-abec-69c0aeff12e5\"]},\"title\":\"Bokeh Application\",\"version\":\"0.11.1\"}};\n",
       "            var render_items = [{\"docid\":\"d879b80f-a0f2-4696-8150-9ac984e73504\",\"elementid\":\"36f1d442-7aba-4784-a090-fd5025f759f1\",\"modelid\":\"1b5f4386-c2ec-4813-abec-69c0aeff12e5\",\"notebook_comms_target\":\"0254c1b0-4361-4d1d-97bf-c77f1cf9de71\"}];\n",
       "            \n",
       "            Bokeh.embed.embed_items(docs_json, render_items);\n",
       "        });\n",
       "      },\n",
       "      function(Bokeh) {\n",
       "      }\n",
       "    ];\n",
       "  \n",
       "    function run_inline_js() {\n",
       "      for (var i = 0; i < inline_js.length; i++) {\n",
       "        inline_js[i](window.Bokeh);\n",
       "      }\n",
       "    }\n",
       "  \n",
       "    if (window._bokeh_is_loading === 0) {\n",
       "      console.log(\"Bokeh: BokehJS loaded, going straight to plotting\");\n",
       "      run_inline_js();\n",
       "    } else {\n",
       "      load_libs(js_urls, function() {\n",
       "        console.log(\"Bokeh: BokehJS plotting callback run at\", now());\n",
       "        run_inline_js();\n",
       "      });\n",
       "    }\n",
       "  }(this));\n",
       "</script>"
      ]
     },
     "metadata": {},
     "output_type": "display_data"
    },
    {
     "data": {
      "text/html": [
       "<p><code>&lt;Bokeh Notebook handle for <strong>In[7]</strong>&gt;</code></p>"
      ],
      "text/plain": [
       "<bokeh.io._CommsHandle at 0x11dd12b38>"
      ]
     },
     "execution_count": 7,
     "metadata": {},
     "output_type": "execute_result"
    }
   ],
   "source": [
    "p = plot_interactive_timeseries(x='airdate', y='rating_count', data=episodes, \n",
    "                                title=\"Number of Ratings per Episode on The Late Show with Stephen Colbert\")\n",
    "show(p)"
   ]
  },
  {
   "cell_type": "markdown",
   "metadata": {},
   "source": [
    "## Sentiment Analysis"
   ]
  },
  {
   "cell_type": "code",
   "execution_count": 8,
   "metadata": {
    "collapsed": false,
    "scrolled": false
   },
   "outputs": [
    {
     "data": {
      "text/html": [
       "<div>\n",
       "<table border=\"1\" class=\"dataframe\">\n",
       "  <thead>\n",
       "    <tr style=\"text-align: right;\">\n",
       "      <th></th>\n",
       "      <th>number</th>\n",
       "      <th>airdate</th>\n",
       "      <th>polarity</th>\n",
       "      <th>subjectivity</th>\n",
       "      <th>rating</th>\n",
       "      <th>rating_count</th>\n",
       "    </tr>\n",
       "  </thead>\n",
       "  <tbody>\n",
       "    <tr>\n",
       "      <th>0</th>\n",
       "      <td>1</td>\n",
       "      <td>2015-09-08</td>\n",
       "      <td>0.177883</td>\n",
       "      <td>0.527630</td>\n",
       "      <td>7.5</td>\n",
       "      <td>97.0</td>\n",
       "    </tr>\n",
       "    <tr>\n",
       "      <th>1</th>\n",
       "      <td>2</td>\n",
       "      <td>2015-09-09</td>\n",
       "      <td>0.177891</td>\n",
       "      <td>0.529692</td>\n",
       "      <td>7.5</td>\n",
       "      <td>58.0</td>\n",
       "    </tr>\n",
       "    <tr>\n",
       "      <th>2</th>\n",
       "      <td>3</td>\n",
       "      <td>2015-09-10</td>\n",
       "      <td>0.210318</td>\n",
       "      <td>0.500193</td>\n",
       "      <td>8.6</td>\n",
       "      <td>66.0</td>\n",
       "    </tr>\n",
       "    <tr>\n",
       "      <th>3</th>\n",
       "      <td>4</td>\n",
       "      <td>2015-09-11</td>\n",
       "      <td>0.148042</td>\n",
       "      <td>0.523307</td>\n",
       "      <td>7.4</td>\n",
       "      <td>42.0</td>\n",
       "    </tr>\n",
       "    <tr>\n",
       "      <th>4</th>\n",
       "      <td>5</td>\n",
       "      <td>2015-09-14</td>\n",
       "      <td>0.171476</td>\n",
       "      <td>0.469937</td>\n",
       "      <td>7.9</td>\n",
       "      <td>36.0</td>\n",
       "    </tr>\n",
       "  </tbody>\n",
       "</table>\n",
       "</div>"
      ],
      "text/plain": [
       "   number    airdate  polarity  subjectivity  rating  rating_count\n",
       "0       1 2015-09-08  0.177883      0.527630     7.5          97.0\n",
       "1       2 2015-09-09  0.177891      0.529692     7.5          58.0\n",
       "2       3 2015-09-10  0.210318      0.500193     8.6          66.0\n",
       "3       4 2015-09-11  0.148042      0.523307     7.4          42.0\n",
       "4       5 2015-09-14  0.171476      0.469937     7.9          36.0"
      ]
     },
     "execution_count": 8,
     "metadata": {},
     "output_type": "execute_result"
    }
   ],
   "source": [
    "rows = []\n",
    "for index, row in episodes.iterrows():\n",
    "    if pd.isnull(row.text): continue\n",
    "    blob = TextBlob(row.text)\n",
    "    sentiment = blob.sentiment\n",
    "    row = {\"number\": row.number, \"polarity\": sentiment.polarity, \"subjectivity\": sentiment.subjectivity}\n",
    "    rows.append(row)\n",
    "\n",
    "sentiment = pd.DataFrame(rows).set_index('number')\n",
    "episodes = pd.concat([episodes.set_index('number'), sentiment], axis=1).reset_index()\n",
    "episodes[['number', 'airdate', 'polarity', 'subjectivity', 'rating', 'rating_count']].head()"
   ]
  },
  {
   "cell_type": "code",
   "execution_count": 9,
   "metadata": {
    "collapsed": false
   },
   "outputs": [
    {
     "data": {
      "text/plain": [
       "<matplotlib.legend.Legend at 0x11df11b38>"
      ]
     },
     "execution_count": 9,
     "metadata": {},
     "output_type": "execute_result"
    },
    {
     "data": {
      "image/png": "[encoded data removed]",
      "text/plain": [
       "<matplotlib.figure.Figure at 0x11df11668>"
      ]
     },
     "metadata": {},
     "output_type": "display_data"
    }
   ],
   "source": [
    "episodes.set_index('airdate').polarity.plot(style='.')\n",
    "episodes.set_index('airdate').subjectivity.plot(style='.')\n",
    "plt.legend()"
   ]
  },
  {
   "cell_type": "code",
   "execution_count": 10,
   "metadata": {
    "collapsed": false
   },
   "outputs": [
    {
     "data": {
      "text/html": [
       "<table class=\"simpletable\">\n",
       "<caption>OLS Regression Results</caption>\n",
       "<tr>\n",
       "  <th>Dep. Variable:</th>         <td>rating</td>      <th>  R-squared:         </th> <td>   0.005</td>\n",
       "</tr>\n",
       "<tr>\n",
       "  <th>Model:</th>                   <td>OLS</td>       <th>  Adj. R-squared:    </th> <td>  -0.012</td>\n",
       "</tr>\n",
       "<tr>\n",
       "  <th>Method:</th>             <td>Least Squares</td>  <th>  F-statistic:       </th> <td>  0.2923</td>\n",
       "</tr>\n",
       "<tr>\n",
       "  <th>Date:</th>             <td>Mon, 16 May 2016</td> <th>  Prob (F-statistic):</th>  <td> 0.747</td> \n",
       "</tr>\n",
       "<tr>\n",
       "  <th>Time:</th>                 <td>00:55:02</td>     <th>  Log-Likelihood:    </th> <td> -102.81</td>\n",
       "</tr>\n",
       "<tr>\n",
       "  <th>No. Observations:</th>      <td>   120</td>      <th>  AIC:               </th> <td>   211.6</td>\n",
       "</tr>\n",
       "<tr>\n",
       "  <th>Df Residuals:</th>          <td>   117</td>      <th>  BIC:               </th> <td>   220.0</td>\n",
       "</tr>\n",
       "<tr>\n",
       "  <th>Df Model:</th>              <td>     2</td>      <th>                     </th>     <td> </td>   \n",
       "</tr>\n",
       "<tr>\n",
       "  <th>Covariance Type:</th>      <td>nonrobust</td>    <th>                     </th>     <td> </td>   \n",
       "</tr>\n",
       "</table>\n",
       "<table class=\"simpletable\">\n",
       "<tr>\n",
       "        <td></td>          <th>coef</th>     <th>std err</th>      <th>t</th>      <th>P>|t|</th> <th>[95.0% Conf. Int.]</th> \n",
       "</tr>\n",
       "<tr>\n",
       "  <th>Intercept</th>    <td>    6.7362</td> <td>    1.191</td> <td>    5.658</td> <td> 0.000</td> <td>    4.378     9.094</td>\n",
       "</tr>\n",
       "<tr>\n",
       "  <th>subjectivity</th> <td>    1.4863</td> <td>    2.426</td> <td>    0.613</td> <td> 0.541</td> <td>   -3.319     6.291</td>\n",
       "</tr>\n",
       "<tr>\n",
       "  <th>polarity</th>     <td>    0.5739</td> <td>    1.867</td> <td>    0.307</td> <td> 0.759</td> <td>   -3.124     4.271</td>\n",
       "</tr>\n",
       "</table>\n",
       "<table class=\"simpletable\">\n",
       "<tr>\n",
       "  <th>Omnibus:</th>       <td> 5.931</td> <th>  Durbin-Watson:     </th> <td>   1.471</td>\n",
       "</tr>\n",
       "<tr>\n",
       "  <th>Prob(Omnibus):</th> <td> 0.052</td> <th>  Jarque-Bera (JB):  </th> <td>   5.419</td>\n",
       "</tr>\n",
       "<tr>\n",
       "  <th>Skew:</th>          <td>-0.494</td> <th>  Prob(JB):          </th> <td>  0.0666</td>\n",
       "</tr>\n",
       "<tr>\n",
       "  <th>Kurtosis:</th>      <td> 3.330</td> <th>  Cond. No.          </th> <td>    58.6</td>\n",
       "</tr>\n",
       "</table>"
      ],
      "text/plain": [
       "<class 'statsmodels.iolib.summary.Summary'>\n",
       "\"\"\"\n",
       "                            OLS Regression Results                            \n",
       "==============================================================================\n",
       "Dep. Variable:                 rating   R-squared:                       0.005\n",
       "Model:                            OLS   Adj. R-squared:                 -0.012\n",
       "Method:                 Least Squares   F-statistic:                    0.2923\n",
       "Date:                Mon, 16 May 2016   Prob (F-statistic):              0.747\n",
       "Time:                        00:55:02   Log-Likelihood:                -102.81\n",
       "No. Observations:                 120   AIC:                             211.6\n",
       "Df Residuals:                     117   BIC:                             220.0\n",
       "Df Model:                           2                                         \n",
       "Covariance Type:            nonrobust                                         \n",
       "================================================================================\n",
       "                   coef    std err          t      P>|t|      [95.0% Conf. Int.]\n",
       "--------------------------------------------------------------------------------\n",
       "Intercept        6.7362      1.191      5.658      0.000         4.378     9.094\n",
       "subjectivity     1.4863      2.426      0.613      0.541        -3.319     6.291\n",
       "polarity         0.5739      1.867      0.307      0.759        -3.124     4.271\n",
       "==============================================================================\n",
       "Omnibus:                        5.931   Durbin-Watson:                   1.471\n",
       "Prob(Omnibus):                  0.052   Jarque-Bera (JB):                5.419\n",
       "Skew:                          -0.494   Prob(JB):                       0.0666\n",
       "Kurtosis:                       3.330   Cond. No.                         58.6\n",
       "==============================================================================\n",
       "\n",
       "Warnings:\n",
       "[1] Standard Errors assume that the covariance matrix of the errors is correctly specified.\n",
       "\"\"\""
      ]
     },
     "execution_count": 10,
     "metadata": {},
     "output_type": "execute_result"
    }
   ],
   "source": [
    "mod = smf.ols(formula='rating ~ subjectivity + polarity', data=episodes)\n",
    "res = mod.fit()\n",
    "res.summary()"
   ]
  },
  {
   "cell_type": "markdown",
   "metadata": {},
   "source": [
    "## Subtitles of Most Recent Episodes"
   ]
  },
  {
   "cell_type": "code",
   "execution_count": 11,
   "metadata": {
    "collapsed": false,
    "scrolled": false
   },
   "outputs": [
    {
     "data": {
      "text/html": [
       "<strong>138 Kaley Cuoco/Dan Savage/The National</strong>"
      ],
      "text/plain": [
       "<IPython.core.display.HTML object>"
      ]
     },
     "metadata": {},
     "output_type": "display_data"
    },
    {
     "name": "stdout",
     "output_type": "stream",
     "text": [
      "OH, COME ON. ALL RIGHT, COME ON. OH, JEEZ. OH. MY HAND IS STUCK.\n",
      "IT'S A LOST CAUSE.\n",
      "IT IS NOT A LOST CAUSE. (CHEERS AND APPLAUSE).\n",
      "Stephen: WHAT ARE YOU DOING HERE?\n",
      "WELL, I DON'T TAKE MONEY FROM BILLIONAIRES BUT I DO CHECK EVERY VENDING MACHINE CHANGE SLOT.\n",
      "Stephen: COME ON. $27.\n",
      "NOTHING.\n",
      "Stephen: HEY, WAIT, AREN'T YOU GOING TO.\n",
      "TELL YOU ABOUT THE WEST VIRGINIA PRIMARY TOMORROW?\n",
      "Stephen: AH, SURE?\n",
      "WELL, I THINK WE GOT A SHOT TO WIN. AND I'LL TELL YOU WHY. IT'S BECAUSE IN WEST VIRGINIA LIKE EVERY PLACE ELSE IN THIS COUNTRY TOO MANY PEOPLE ARE WORKING LONGER HOURS FOR LOW WAGES AND THEY WANT CHANGE, STEPHEN.\n",
      "Stephen: OKAY, BUT EVEN IF YOU DO WELL TOMORROW, THE DELEGATE MATH IS AGAINST YOU. SO ISN'T THIS WIN REALLY ONLY A WIN. IT'S NOT REALLY A WIN.\n",
      "NOT REALLY.\n",
      "Stephen: MAYBE BOTH. I DON'T KN...\n",
      "\n",
      "----------------------------------\n",
      "\n"
     ]
    },
    {
     "data": {
      "text/html": [
       "<strong>139 Chloe Grace Moretz/Katie Couric/Brian Green/Charlamagne Tha God</strong>"
      ],
      "text/plain": [
       "<IPython.core.display.HTML object>"
      ]
     },
     "metadata": {},
     "output_type": "display_data"
    },
    {
     "name": "stdout",
     "output_type": "stream",
     "text": [
      "Stephen: KATIE COURIC.\n",
      "HEY, STEPHEN.\n",
      "Stephen: SO LOVELY TO SEE YOU. THANKS FOR BEING ON THE SHOW.\n",
      "ARE YOU KIDDING? SO HAPPY TO BE HERE.\n",
      "Stephen: MARNG YOU ARE GOING TO LOOK FANTASTIC IN THE CHICKEN SUIT.\n",
      "WHAT DO YOU MEAN.\n",
      "Stephen: I FORGOT TO TELL YOU WE ARE DOING THIS THING WHERE WE INTERVIEW OUR GUESTS IN COSTUMES.\n",
      "STEPHEN, I'M A SERIOUS JOURNALIST. I AM NOT GOING TO WEAR A CHICKEN SUIT.\n",
      "Stephen: IS IT OKAY IF I WEAR THE CHICKEN SUIT?\n",
      "IT'S JUR SHOW, KNOCK YOURSELF OUT.\n",
      "Stephen: YOU CAN BE THE HORSE.\n",
      "GREAT!\n",
      "TONIGHT, STEPHEN WELCOMES CHLOE GRACE MORETZ KATIE COURIC CHARLAMAGNE THA GOD FEATURING JON BATISTE AND STAY HUMAN. AND NOW IT'S TIME FOR \"THE LATE SHOW WITH STEPHEN COLBERT\"!  Captioning sponsored by CBS ( CHEERS AND APPLAUSE )\n",
      "Stephen: HEY! HEY! THANK YOU, JON! GOOD TO SEE YOU, MY MA...\n",
      "\n",
      "----------------------------------\n",
      "\n"
     ]
    },
    {
     "data": {
      "text/html": [
       "<strong>140 Kate Beckinsale/B.J. Novak/Desiigner</strong>"
      ],
      "text/plain": [
       "<IPython.core.display.HTML object>"
      ]
     },
     "metadata": {},
     "output_type": "display_data"
    },
    {
     "name": "stdout",
     "output_type": "stream",
     "text": [
      "Captioning sponsored by CBS\n",
      "Stephen: BUT I LOVE DONUTS. JUST TELL THEM TO BRING THE DONUTS. WE DON'T HAVE TO TALK ABOUT THE MOVIE. I'D LOVE TO HAVE HIM ON THE SHOW. THAT WOULD BE GREAT. LIZ.\n",
      "STEPHEN.\n",
      "Stephen: WE MEET AGAIN. WHAT CAN I DO FOR YOU?\n",
      "IN THE BROADWAY COLD OPEN, DO YOU ACTUALLY WANT TO PARTICIPATE IN THE DANCE, OR DO YOU JUST WANT TO BANG ON A DRUM AND NOT DO MUCH GLP I'LL JUST BANG ON A DRUM.\n",
      "GREAT.\n",
      "Stephen: ANY OTHER FOLLOW-UP QUESTIONS.\n",
      "YES, DOES THAT MEAN THEY DON'T HAVE TO COME EARLY AND REHEARSE.\n",
      "Stephen: YES, I'M BEAMING UP. I WANT TO DANCE, OR I DON'T. FIND OUT.\n",
      "TONIGHT, STEPHEN WELCOMES KATE BECKINSALE AND A MUSICAL PERFORMANCE BY DESIIGNER. FEATURING JON BATISTE AND STAY HUMAN. AND NOW IT'S TIME FOR \"THE LATE SHOW\" WITH STEPHEN COLBERT\"! ( CHEERS AND APPLAUSE )\n",
      "Stephen...\n",
      "\n",
      "----------------------------------\n",
      "\n"
     ]
    },
    {
     "data": {
      "text/html": [
       "<strong>141 Ryan Gosling & Russell Crowe/Jessie Mueller/Animal Collective</strong>"
      ],
      "text/plain": [
       "<IPython.core.display.HTML object>"
      ]
     },
     "metadata": {},
     "output_type": "display_data"
    },
    {
     "name": "stdout",
     "output_type": "stream",
     "text": [
      "Stephen: I AM SO EXCITED ABOUT TONIGHT'S SHOW. BOTH RYAN GOSLING AND RUSSELL CROWE ARE HERE AND I'M GOING TO STOP BY AND SAY HI. DO ALL OF YOU NEED TO BE HERE RIGHT NOW? (LAUGHTER)\n",
      "YES, WE ALL NEED TO BE DOWN HERE. FOR WORK.\n",
      "Stephen: OH, REALLY? SO YOU'RE NOT JUST STANDING HERE WAITING FOR RYAN GOSLING AND RUSSELL CROWE TO WALK OUT?\n",
      "NO. ARE THEY ON THE SHOW TONIGHT? WE DIDN'T EVEN REALIZE. AWKWARD.\n",
      "Stephen: WELL, I'M GOING TO SAY HI.\n",
      "WE WILL WATCH YOU.\n",
      "Announcer: TONIGHT, STEPHEN WELCOMES RYAN GOSLING AND RUSSELL CROWE! JESSIE MUELLER! AND A MUSICAL PERFORMANCE BY ANIMAL COLLECTIVE! FEATURING JON BATISTE AND \"STAY HUMAN\"! (CHEERS AND APPLAUSE) AND NOW IT'S TIME FOR \"THE LATE SHOW\" WITH STEPHEN COLBERT! (CHEERS AND APPLAUSE) ♪  Captioning sponsored by CBS ♪ ♪ ♪\n",
      "Stephen: HEY! HEY, EVERYBODY!...\n",
      "\n",
      "----------------------------------\n",
      "\n"
     ]
    },
    {
     "data": {
      "text/html": [
       "<strong>142 Matt Bomer/Zach Woods/Nick Griffin</strong>"
      ],
      "text/plain": [
       "<IPython.core.display.HTML object>"
      ]
     },
     "metadata": {},
     "output_type": "display_data"
    },
    {
     "name": "stdout",
     "output_type": "stream",
     "text": [
      "ARE YOU READY FOR MAIRK UP?\n",
      "Stephen: YEAH. I WANT TO TRY A DIFFERENT LOOK TONIGHT, THOUGH.\n",
      "OKAY. ( LAUGHTER ).\n",
      "Stephen: THAT'S A LITTLE TOO SALVADOR DAWLEY. SOMETHING ELSE. OOH, I LIKE McGREET, BUT I WON'T BE ABLE TO SEE MY GUESTS. SOMETHING ELSE. WOW! PICASSO IS BOLD, BUT MY GLASSES WON'T FIT. ( LAUGHTER ) JUST GIVE ME SOMETHING SIMPLE AND MASCULINE. OH, YEAH, SEXY GINGER.\n",
      "TONIGHT, STEPHEN WELCOMES MATT BOMER ZACH WOODS AND A PERFORMANCE BY COMEDIAN NICK GRIFFIN. FEATURING JON BATISTE AND STAY HUMAN. AND NOW IT'S TIME FOR \"THE LATE SHOW WITH STEPHEN COLBERT\"! ( CHEERS AND APPLAUSE )\n",
      "Stephen: HEY! HEY! BOOM! BA! WELCOME. HEY, EVERYBODY. HEY, YOU DOWN THERE. SORRY, I DROPPED MY PHONE. I DROPPED MY PHONE. I ALWAYS JUST CARRY A PHONE WITH ME. JUST IN CASE. I GOTTA GO. I GOTTA TALK TO-- SORRY,...\n",
      "\n",
      "----------------------------------\n",
      "\n"
     ]
    }
   ],
   "source": [
    "for i, row in episodes.tail(5).iterrows():\n",
    "    if pd.isnull(row.text): continue\n",
    "    printb(row.number, row.title)\n",
    "    print(row.text[:800] + '...')\n",
    "    print(\"\\n----------------------------------\\n\")"
   ]
  }
 ],
 "metadata": {
  "kernelspec": {
   "display_name": "Python 3",
   "language": "python",
   "name": "python3"
  },
  "language_info": {
   "codemirror_mode": {
    "name": "ipython",
    "version": 3
   },
   "file_extension": ".py",
   "mimetype": "text/x-python",
   "name": "python",
   "nbconvert_exporter": "python",
   "pygments_lexer": "ipython3",
   "version": "3.5.1"
  }
 },
 "nbformat": 4,
 "nbformat_minor": 0
}
