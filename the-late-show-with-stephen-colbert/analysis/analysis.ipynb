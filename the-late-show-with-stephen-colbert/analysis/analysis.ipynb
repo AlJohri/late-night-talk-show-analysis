{
 "cells": [
  {
   "cell_type": "markdown",
   "metadata": {},
   "source": [
    "# The Late Show with Stephen Colbert Analysis"
   ]
  },
  {
   "cell_type": "markdown",
   "metadata": {},
   "source": [
    "## Standard Imports"
   ]
  },
  {
   "cell_type": "code",
   "execution_count": 1,
   "metadata": {
    "collapsed": false
   },
   "outputs": [
    {
     "data": {
      "text/html": []
     },
     "metadata": {},
     "output_type": "display_data"
    },
    {
     "data": {
      "application/javascript": [
       "\n",
       "(function(global) {\n",
       "  function now() {\n",
       "    return new Date();\n",
       "  }\n",
       "\n",
       "  if (typeof (window._bokeh_onload_callbacks) === \"undefined\") {\n",
       "    window._bokeh_onload_callbacks = [];\n",
       "  }\n",
       "\n",
       "  function run_callbacks() {\n",
       "    window._bokeh_onload_callbacks.forEach(function(callback) { callback() });\n",
       "    delete window._bokeh_onload_callbacks\n",
       "    console.info(\"Bokeh: all callbacks have finished\");\n",
       "  }\n",
       "\n",
       "  function load_libs(js_urls, callback) {\n",
       "    window._bokeh_onload_callbacks.push(callback);\n",
       "    if (window._bokeh_is_loading > 0) {\n",
       "      console.log(\"Bokeh: BokehJS is being loaded, scheduling callback at\", now());\n",
       "      return null;\n",
       "    }\n",
       "    if (js_urls == null || js_urls.length === 0) {\n",
       "      run_callbacks();\n",
       "      return null;\n",
       "    }\n",
       "    console.log(\"Bokeh: BokehJS not loaded, scheduling load and callback at\", now());\n",
       "    window._bokeh_is_loading = js_urls.length;\n",
       "    for (var i = 0; i < js_urls.length; i++) {\n",
       "      var url = js_urls[i];\n",
       "      var s = document.createElement('script');\n",
       "      s.src = url;\n",
       "      s.async = false;\n",
       "      s.onreadystatechange = s.onload = function() {\n",
       "        window._bokeh_is_loading--;\n",
       "        if (window._bokeh_is_loading === 0) {\n",
       "          console.log(\"Bokeh: all BokehJS libraries loaded\");\n",
       "          run_callbacks()\n",
       "        }\n",
       "      };\n",
       "      s.onerror = function() {\n",
       "        console.warn(\"failed to load library \" + url);\n",
       "      };\n",
       "      console.log(\"Bokeh: injecting script tag for BokehJS library: \", url);\n",
       "      document.getElementsByTagName(\"head\")[0].appendChild(s);\n",
       "    }\n",
       "  };\n",
       "\n",
       "  var js_urls = ['https://cdn.pydata.org/bokeh/release/bokeh-0.11.1.min.js', 'https://cdn.pydata.org/bokeh/release/bokeh-widgets-0.11.1.min.js', 'https://cdn.pydata.org/bokeh/release/bokeh-compiler-0.11.1.min.js'];\n",
       "\n",
       "  var inline_js = [\n",
       "    function(Bokeh) {\n",
       "      Bokeh.set_log_level(\"info\");\n",
       "    },\n",
       "    \n",
       "    function(Bokeh) {\n",
       "      Bokeh.$(\"#797c4e2b-3693-45a9-9cb0-87c0d791f1f4\").text(\"BokehJS successfully loaded\");\n",
       "    },\n",
       "    function(Bokeh) {\n",
       "      console.log(\"Bokeh: injecting CSS: https://cdn.pydata.org/bokeh/release/bokeh-0.11.1.min.css\");\n",
       "      Bokeh.embed.inject_css(\"https://cdn.pydata.org/bokeh/release/bokeh-0.11.1.min.css\");\n",
       "      console.log(\"Bokeh: injecting CSS: https://cdn.pydata.org/bokeh/release/bokeh-widgets-0.11.1.min.css\");\n",
       "      Bokeh.embed.inject_css(\"https://cdn.pydata.org/bokeh/release/bokeh-widgets-0.11.1.min.css\");\n",
       "    }\n",
       "  ];\n",
       "\n",
       "  function run_inline_js() {\n",
       "    for (var i = 0; i < inline_js.length; i++) {\n",
       "      inline_js[i](window.Bokeh);\n",
       "    }\n",
       "  }\n",
       "\n",
       "  if (window._bokeh_is_loading === 0) {\n",
       "    console.log(\"Bokeh: BokehJS loaded, going straight to plotting\");\n",
       "    run_inline_js();\n",
       "  } else {\n",
       "    load_libs(js_urls, function() {\n",
       "      console.log(\"Bokeh: BokehJS plotting callback run at\", now());\n",
       "      run_inline_js();\n",
       "    });\n",
       "  }\n",
       "}(this));"
      ]
     },
     "metadata": {},
     "output_type": "display_data"
    }
   ],
   "source": [
    "%matplotlib inline\n",
    "from matplotlib import pyplot as plt\n",
    "\n",
    "import pandas as pd\n",
    "import seaborn as sns\n",
    "from textblob import TextBlob\n",
    "import statsmodels.formula.api as smf\n",
    "\n",
    "plt.rcParams['figure.figsize'] = (20,6)\n",
    "\n",
    "from bokeh.plotting import output_notebook, show\n",
    "output_notebook(hide_banner=True)\n",
    "\n",
    "from IPython.display import display, HTML\n",
    "def printb(*args):\n",
    "    s = \" \".join([str(x) for x in args])\n",
    "    display(HTML('<strong>%s</strong>' % s))\n",
    "\n",
    "from analysis_utils import create_df, plot_interactive_timeseries"
   ]
  },
  {
   "cell_type": "markdown",
   "metadata": {},
   "source": [
    "## Load Data"
   ]
  },
  {
   "cell_type": "code",
   "execution_count": 2,
   "metadata": {
    "collapsed": false
   },
   "outputs": [
    {
     "data": {
      "text/html": [
       "<div>\n",
       "<table border=\"1\" class=\"dataframe\">\n",
       "  <thead>\n",
       "    <tr style=\"text-align: right;\">\n",
       "      <th></th>\n",
       "      <th>episode_number</th>\n",
       "      <th>season</th>\n",
       "      <th>rating</th>\n",
       "      <th>rating_count</th>\n",
       "      <th>season</th>\n",
       "      <th>air_date</th>\n",
       "      <th>title</th>\n",
       "      <th>description</th>\n",
       "      <th>text</th>\n",
       "    </tr>\n",
       "  </thead>\n",
       "  <tbody>\n",
       "    <tr>\n",
       "      <th>0</th>\n",
       "      <td>1</td>\n",
       "      <td>1</td>\n",
       "      <td>7.5</td>\n",
       "      <td>97.0</td>\n",
       "      <td>1</td>\n",
       "      <td>2015-09-08</td>\n",
       "      <td>George Clooney/Governor Jeb Bush/Mavis Staples...</td>\n",
       "      <td>Stephen Colbert succeeds David Letterman as \"L...</td>\n",
       "      <td>OH, SAY CAN YOU SEE BY THE DAWN'S EARLY LIGHT ...</td>\n",
       "    </tr>\n",
       "    <tr>\n",
       "      <th>1</th>\n",
       "      <td>2</td>\n",
       "      <td>1</td>\n",
       "      <td>7.5</td>\n",
       "      <td>58.0</td>\n",
       "      <td>1</td>\n",
       "      <td>2015-09-09</td>\n",
       "      <td>Scarlett Johansson/Elon Musk/Kendrick Lamar</td>\n",
       "      <td>Scarlett Johansson (Avengers: Age of Ultron (2...</td>\n",
       "      <td>♪ ♪ ♪  Captioning sponsored by CBS\\nStephen: W...</td>\n",
       "    </tr>\n",
       "    <tr>\n",
       "      <th>2</th>\n",
       "      <td>3</td>\n",
       "      <td>1</td>\n",
       "      <td>8.6</td>\n",
       "      <td>66.0</td>\n",
       "      <td>1</td>\n",
       "      <td>2015-09-10</td>\n",
       "      <td>Vice President Joe Biden/Travis Kalanick/Toby ...</td>\n",
       "      <td>Vice President Joe Biden; Uber CEO Travis Kala...</td>\n",
       "      <td>(CHEERS AND APPLAUSE)\\nStephen: HEY! (CHEERS A...</td>\n",
       "    </tr>\n",
       "    <tr>\n",
       "      <th>3</th>\n",
       "      <td>4</td>\n",
       "      <td>1</td>\n",
       "      <td>7.4</td>\n",
       "      <td>42.0</td>\n",
       "      <td>1</td>\n",
       "      <td>2015-09-11</td>\n",
       "      <td>Amy Schumer/Stephen King/Troubled Waters</td>\n",
       "      <td>Amy Schumer (Trainwreck (2015)); author Stephe...</td>\n",
       "      <td>COME ON! COME ON! ♪ ♪ ♪ ( CHEERS AND APPLAUSE ...</td>\n",
       "    </tr>\n",
       "    <tr>\n",
       "      <th>4</th>\n",
       "      <td>5</td>\n",
       "      <td>1</td>\n",
       "      <td>7.9</td>\n",
       "      <td>36.0</td>\n",
       "      <td>1</td>\n",
       "      <td>2015-09-14</td>\n",
       "      <td>Emily Blunt/Justice Stephen Breyer/The Dead We...</td>\n",
       "      <td>Actress Emily Blunt (Sicario (2015)); Supreme ...</td>\n",
       "      <td>(  BAND PLAYING  \"LATE SHOW\" THEME  ) (  CHEER...</td>\n",
       "    </tr>\n",
       "  </tbody>\n",
       "</table>\n",
       "</div>"
      ],
      "text/plain": [
       "   episode_number  season  rating  rating_count  season   air_date  \\\n",
       "0               1       1     7.5          97.0       1 2015-09-08   \n",
       "1               2       1     7.5          58.0       1 2015-09-09   \n",
       "2               3       1     8.6          66.0       1 2015-09-10   \n",
       "3               4       1     7.4          42.0       1 2015-09-11   \n",
       "4               5       1     7.9          36.0       1 2015-09-14   \n",
       "\n",
       "                                               title  \\\n",
       "0  George Clooney/Governor Jeb Bush/Mavis Staples...   \n",
       "1        Scarlett Johansson/Elon Musk/Kendrick Lamar   \n",
       "2  Vice President Joe Biden/Travis Kalanick/Toby ...   \n",
       "3           Amy Schumer/Stephen King/Troubled Waters   \n",
       "4  Emily Blunt/Justice Stephen Breyer/The Dead We...   \n",
       "\n",
       "                                         description  \\\n",
       "0  Stephen Colbert succeeds David Letterman as \"L...   \n",
       "1  Scarlett Johansson (Avengers: Age of Ultron (2...   \n",
       "2  Vice President Joe Biden; Uber CEO Travis Kala...   \n",
       "3  Amy Schumer (Trainwreck (2015)); author Stephe...   \n",
       "4  Actress Emily Blunt (Sicario (2015)); Supreme ...   \n",
       "\n",
       "                                                text  \n",
       "0  OH, SAY CAN YOU SEE BY THE DAWN'S EARLY LIGHT ...  \n",
       "1  ♪ ♪ ♪  Captioning sponsored by CBS\\nStephen: W...  \n",
       "2  (CHEERS AND APPLAUSE)\\nStephen: HEY! (CHEERS A...  \n",
       "3  COME ON! COME ON! ♪ ♪ ♪ ( CHEERS AND APPLAUSE ...  \n",
       "4  (  BAND PLAYING  \"LATE SHOW\" THEME  ) (  CHEER...  "
      ]
     },
     "execution_count": 2,
     "metadata": {},
     "output_type": "execute_result"
    }
   ],
   "source": [
    "episodes = create_df()\n",
    "episodes.head()"
   ]
  },
  {
   "cell_type": "markdown",
   "metadata": {},
   "source": [
    "## Distribution of Rating and Rating Count"
   ]
  },
  {
   "cell_type": "markdown",
   "metadata": {},
   "source": [
    "Number of episodes with null rating (< 5 ratings)"
   ]
  },
  {
   "cell_type": "code",
   "execution_count": 3,
   "metadata": {
    "collapsed": false
   },
   "outputs": [
    {
     "data": {
      "text/plain": [
       "17"
      ]
     },
     "execution_count": 3,
     "metadata": {},
     "output_type": "execute_result"
    }
   ],
   "source": [
    "episodes.rating.isnull().sum()"
   ]
  },
  {
   "cell_type": "code",
   "execution_count": 4,
   "metadata": {
    "collapsed": false
   },
   "outputs": [
    {
     "data": {
      "text/html": [
       "<div>\n",
       "<table border=\"1\" class=\"dataframe\">\n",
       "  <thead>\n",
       "    <tr style=\"text-align: right;\">\n",
       "      <th></th>\n",
       "      <th>count</th>\n",
       "      <th>mean</th>\n",
       "      <th>std</th>\n",
       "      <th>min</th>\n",
       "      <th>25%</th>\n",
       "      <th>50%</th>\n",
       "      <th>75%</th>\n",
       "      <th>max</th>\n",
       "    </tr>\n",
       "  </thead>\n",
       "  <tbody>\n",
       "    <tr>\n",
       "      <th>rating</th>\n",
       "      <td>127.0</td>\n",
       "      <td>7.578740</td>\n",
       "      <td>0.585761</td>\n",
       "      <td>5.9</td>\n",
       "      <td>7.2</td>\n",
       "      <td>7.7</td>\n",
       "      <td>8.0</td>\n",
       "      <td>9.2</td>\n",
       "    </tr>\n",
       "    <tr>\n",
       "      <th>rating_count</th>\n",
       "      <td>127.0</td>\n",
       "      <td>13.228346</td>\n",
       "      <td>12.287682</td>\n",
       "      <td>5.0</td>\n",
       "      <td>7.0</td>\n",
       "      <td>9.0</td>\n",
       "      <td>14.0</td>\n",
       "      <td>97.0</td>\n",
       "    </tr>\n",
       "  </tbody>\n",
       "</table>\n",
       "</div>"
      ],
      "text/plain": [
       "              count       mean        std  min  25%  50%   75%   max\n",
       "rating        127.0   7.578740   0.585761  5.9  7.2  7.7   8.0   9.2\n",
       "rating_count  127.0  13.228346  12.287682  5.0  7.0  9.0  14.0  97.0"
      ]
     },
     "execution_count": 4,
     "metadata": {},
     "output_type": "execute_result"
    }
   ],
   "source": [
    "episodes[['rating', 'rating_count']].describe().T"
   ]
  },
  {
   "cell_type": "code",
   "execution_count": 5,
   "metadata": {
    "collapsed": false
   },
   "outputs": [
    {
     "data": {
      "text/plain": [
       "<matplotlib.axes._subplots.AxesSubplot at 0x119f86470>"
      ]
     },
     "execution_count": 5,
     "metadata": {},
     "output_type": "execute_result"
    },
    {
     "data": {
      "image/png": "[encoded data removed]",
      "text/plain": [
       "<matplotlib.figure.Figure at 0x119d2a0f0>"
      ]
     },
     "metadata": {},
     "output_type": "display_data"
    }
   ],
   "source": [
    "fig, (ax1, ax2) = plt.subplots(ncols=2)\n",
    "\n",
    "episodes.rating.plot(kind='hist', bins=20, ax=ax1, title=\"Histogram of Ratings\")\n",
    "episodes.rating_count.plot(kind='hist', bins=20, ax=ax2, title=\"Histogram of Rating Counts\")"
   ]
  },
  {
   "cell_type": "markdown",
   "metadata": {},
   "source": [
    "## Ratings over Time"
   ]
  },
  {
   "cell_type": "code",
   "execution_count": 6,
   "metadata": {
    "collapsed": false
   },
   "outputs": [
    {
     "data": {
      "text/html": [
       "\n",
       "\n",
       "    <div class=\"plotdiv\" id=\"fbe3c995-2e83-44fa-b1bf-ad6877005df5\"></div>\n",
       "<script type=\"text/javascript\">\n",
       "  \n",
       "  (function(global) {\n",
       "    function now() {\n",
       "      return new Date();\n",
       "    }\n",
       "  \n",
       "    if (typeof (window._bokeh_onload_callbacks) === \"undefined\") {\n",
       "      window._bokeh_onload_callbacks = [];\n",
       "    }\n",
       "  \n",
       "    function run_callbacks() {\n",
       "      window._bokeh_onload_callbacks.forEach(function(callback) { callback() });\n",
       "      delete window._bokeh_onload_callbacks\n",
       "      console.info(\"Bokeh: all callbacks have finished\");\n",
       "    }\n",
       "  \n",
       "    function load_libs(js_urls, callback) {\n",
       "      window._bokeh_onload_callbacks.push(callback);\n",
       "      if (window._bokeh_is_loading > 0) {\n",
       "        console.log(\"Bokeh: BokehJS is being loaded, scheduling callback at\", now());\n",
       "        return null;\n",
       "      }\n",
       "      if (js_urls == null || js_urls.length === 0) {\n",
       "        run_callbacks();\n",
       "        return null;\n",
       "      }\n",
       "      console.log(\"Bokeh: BokehJS not loaded, scheduling load and callback at\", now());\n",
       "      window._bokeh_is_loading = js_urls.length;\n",
       "      for (var i = 0; i < js_urls.length; i++) {\n",
       "        var url = js_urls[i];\n",
       "        var s = document.createElement('script');\n",
       "        s.src = url;\n",
       "        s.async = false;\n",
       "        s.onreadystatechange = s.onload = function() {\n",
       "          window._bokeh_is_loading--;\n",
       "          if (window._bokeh_is_loading === 0) {\n",
       "            console.log(\"Bokeh: all BokehJS libraries loaded\");\n",
       "            run_callbacks()\n",
       "          }\n",
       "        };\n",
       "        s.onerror = function() {\n",
       "          console.warn(\"failed to load library \" + url);\n",
       "        };\n",
       "        console.log(\"Bokeh: injecting script tag for BokehJS library: \", url);\n",
       "        document.getElementsByTagName(\"head\")[0].appendChild(s);\n",
       "      }\n",
       "    };var element = document.getElementById(\"fbe3c995-2e83-44fa-b1bf-ad6877005df5\");\n",
       "    if (element == null) {\n",
       "      console.log(\"Bokeh: ERROR: autoload.js configured with elementid 'fbe3c995-2e83-44fa-b1bf-ad6877005df5' but no matching script tag was found. \")\n",
       "      return false;\n",
       "    }\n",
       "  \n",
       "    var js_urls = [];\n",
       "  \n",
       "    var inline_js = [\n",
       "      function(Bokeh) {\n",
       "        Bokeh.$(function() {\n",
       "            var docs_json = {\"8413c613-ad55-49b9-8388-4cde2f50c6fa\":{\"roots\":{\"references\":[{\"attributes\":{\"days\":[1,15]},\"id\":\"23211703-be18-4ad0-81f8-c459eed25f96\",\"type\":\"DaysTicker\"},{\"attributes\":{\"callback\":null},\"id\":\"23895abd-3764-444f-a549-89b18c410680\",\"type\":\"DataRange1d\"},{\"attributes\":{\"months\":[0,2,4,6,8,10]},\"id\":\"3380e443-fdcb-46be-951e-0b251b5a283e\",\"type\":\"MonthsTicker\"},{\"attributes\":{},\"id\":\"2b27e2f2-08f6-4ff7-a202-c67c9e282c5e\",\"type\":\"YearsTicker\"},{\"attributes\":{\"base\":60,\"mantissas\":[1,2,5,10,15,20,30],\"max_interval\":1800000.0,\"min_interval\":1000.0,\"num_minor_ticks\":0},\"id\":\"af02676b-efd9-4fec-a6e9-e8ad009ec0bc\",\"type\":\"AdaptiveTicker\"},{\"attributes\":{\"days\":[1,8,15,22]},\"id\":\"2f2b4f15-b509-44ff-964e-23745c1beee4\",\"type\":\"DaysTicker\"},{\"attributes\":{\"days\":[1,2,3,4,5,6,7,8,9,10,11,12,13,14,15,16,17,18,19,20,21,22,23,24,25,26,27,28,29,30,31]},\"id\":\"0a172707-a801-4ee3-9d25-8dc9e0c750e7\",\"type\":\"DaysTicker\"},{\"attributes\":{\"fill_color\":{\"value\":\"#1f77b4\"},\"line_color\":{\"value\":\"#1f77b4\"},\"line_width\":{\"value\":2},\"size\":{\"units\":\"screen\",\"value\":5},\"x\":{\"field\":\"air_date\"},\"y\":{\"field\":\"rating\"}},\"id\":\"025686f6-15a8-4f9b-84dc-6377dc14cd17\",\"type\":\"Circle\"},{\"attributes\":{\"months\":[0,6]},\"id\":\"b9d519ea-1780-4d35-a956-03b0ccd5808a\",\"type\":\"MonthsTicker\"},{\"attributes\":{\"callback\":null},\"id\":\"52a76ce6-e802-4e49-8acf-b8ac8dfb5ee3\",\"type\":\"DataRange1d\"},{\"attributes\":{},\"id\":\"d7bc177e-10fb-4200-ad27-87a9216e7a28\",\"type\":\"BasicTickFormatter\"},{\"attributes\":{\"overlay\":{\"id\":\"7d19fba2-f594-4e5a-b3ff-5f1d75499ed3\",\"type\":\"BoxAnnotation\"},\"plot\":{\"id\":\"40af8668-5e73-45d3-b018-7c5232ee1bcc\",\"subtype\":\"Figure\",\"type\":\"Plot\"}},\"id\":\"ee4bbc83-5cf3-49c7-bbc6-ea0905354f51\",\"type\":\"BoxZoomTool\"},{\"attributes\":{\"days\":[1,4,7,10,13,16,19,22,25,28]},\"id\":\"5483556a-4e4b-42d8-9032-654aeacbc582\",\"type\":\"DaysTicker\"},{\"attributes\":{\"num_minor_ticks\":5},\"id\":\"40f10540-34a0-4678-9ea2-dc2de5eb7af6\",\"type\":\"DatetimeTicker\"},{\"attributes\":{\"bottom_units\":\"screen\",\"fill_alpha\":{\"value\":0.5},\"fill_color\":{\"value\":\"lightgrey\"},\"left_units\":\"screen\",\"level\":\"overlay\",\"line_alpha\":{\"value\":1.0},\"line_color\":{\"value\":\"black\"},\"line_dash\":[4,4],\"line_width\":{\"value\":2},\"plot\":null,\"render_mode\":\"css\",\"right_units\":\"screen\",\"top_units\":\"screen\"},\"id\":\"7d19fba2-f594-4e5a-b3ff-5f1d75499ed3\",\"type\":\"BoxAnnotation\"},{\"attributes\":{\"data_source\":{\"id\":\"0a2ea28d-d7da-4d8c-a8ad-12225561c307\",\"type\":\"ColumnDataSource\"},\"glyph\":{\"id\":\"025686f6-15a8-4f9b-84dc-6377dc14cd17\",\"type\":\"Circle\"},\"hover_glyph\":null,\"nonselection_glyph\":{\"id\":\"588f726b-fba7-47c4-8fe5-dddd7e2c3c6e\",\"type\":\"Circle\"},\"selection_glyph\":null},\"id\":\"80d44ea0-c985-4e34-a1c9-0ba4f85863eb\",\"type\":\"GlyphRenderer\"},{\"attributes\":{\"base\":24,\"mantissas\":[1,2,4,6,8,12],\"max_interval\":43200000.0,\"min_interval\":3600000.0,\"num_minor_ticks\":0},\"id\":\"c86ed119-8f6d-440b-abf8-47a964ef66e2\",\"type\":\"AdaptiveTicker\"},{\"attributes\":{\"plot\":{\"id\":\"40af8668-5e73-45d3-b018-7c5232ee1bcc\",\"subtype\":\"Figure\",\"type\":\"Plot\"}},\"id\":\"90980329-75cc-45f7-a2f1-e851ce317e22\",\"type\":\"ResizeTool\"},{\"attributes\":{\"plot\":{\"id\":\"40af8668-5e73-45d3-b018-7c5232ee1bcc\",\"subtype\":\"Figure\",\"type\":\"Plot\"}},\"id\":\"a927bde4-6a3d-4358-9ad9-3b12c3e23aed\",\"type\":\"PanTool\"},{\"attributes\":{},\"id\":\"1b6e2d60-21b1-407f-93ab-19d5357f4908\",\"type\":\"ToolEvents\"},{\"attributes\":{},\"id\":\"d765afc2-ecea-42ec-9031-392739746a15\",\"type\":\"BasicTicker\"},{\"attributes\":{},\"id\":\"55930f9f-3b4d-4496-abdd-7fe8a2c54b45\",\"type\":\"DatetimeTickFormatter\"},{\"attributes\":{\"plot\":{\"id\":\"40af8668-5e73-45d3-b018-7c5232ee1bcc\",\"subtype\":\"Figure\",\"type\":\"Plot\"}},\"id\":\"649f71ee-f5e6-48c7-ad70-a2bff8dd8b46\",\"type\":\"HelpTool\"},{\"attributes\":{\"fill_alpha\":{\"value\":0.1},\"fill_color\":{\"value\":\"#1f77b4\"},\"line_alpha\":{\"value\":0.1},\"line_color\":{\"value\":\"#1f77b4\"},\"line_width\":{\"value\":2},\"size\":{\"units\":\"screen\",\"value\":5},\"x\":{\"field\":\"air_date\"},\"y\":{\"field\":\"rating\"}},\"id\":\"588f726b-fba7-47c4-8fe5-dddd7e2c3c6e\",\"type\":\"Circle\"},{\"attributes\":{\"months\":[0,1,2,3,4,5,6,7,8,9,10,11]},\"id\":\"f008daca-d31c-49ab-be7c-3c7063820a14\",\"type\":\"MonthsTicker\"},{\"attributes\":{\"below\":[{\"id\":\"95318575-7fd1-4101-a0da-8d5e0ce657be\",\"type\":\"DatetimeAxis\"}],\"left\":[{\"id\":\"16cbe888-e5fb-46f5-9425-36b8da381740\",\"type\":\"LinearAxis\"}],\"logo\":null,\"plot_height\":400,\"plot_width\":950,\"renderers\":[{\"id\":\"95318575-7fd1-4101-a0da-8d5e0ce657be\",\"type\":\"DatetimeAxis\"},{\"id\":\"74fe5ff2-61db-41dd-9bdc-2c6648572f8a\",\"type\":\"Grid\"},{\"id\":\"16cbe888-e5fb-46f5-9425-36b8da381740\",\"type\":\"LinearAxis\"},{\"id\":\"3375268c-635a-40c0-8334-35b459924f55\",\"type\":\"Grid\"},{\"id\":\"7d19fba2-f594-4e5a-b3ff-5f1d75499ed3\",\"type\":\"BoxAnnotation\"},{\"id\":\"80d44ea0-c985-4e34-a1c9-0ba4f85863eb\",\"type\":\"GlyphRenderer\"}],\"title\":\"Ratings per Episode on The Late Show with Stephen Colbert\",\"tool_events\":{\"id\":\"1b6e2d60-21b1-407f-93ab-19d5357f4908\",\"type\":\"ToolEvents\"},\"tools\":[{\"id\":\"a927bde4-6a3d-4358-9ad9-3b12c3e23aed\",\"type\":\"PanTool\"},{\"id\":\"196fad63-3f86-442f-9808-5b6112e09964\",\"type\":\"WheelZoomTool\"},{\"id\":\"ee4bbc83-5cf3-49c7-bbc6-ea0905354f51\",\"type\":\"BoxZoomTool\"},{\"id\":\"9a4384cf-6d6d-41b1-bd2b-eaa7626ded49\",\"type\":\"PreviewSaveTool\"},{\"id\":\"90980329-75cc-45f7-a2f1-e851ce317e22\",\"type\":\"ResizeTool\"},{\"id\":\"54dfcdde-49c9-48ce-8374-1ce6aeb59479\",\"type\":\"ResetTool\"},{\"id\":\"649f71ee-f5e6-48c7-ad70-a2bff8dd8b46\",\"type\":\"HelpTool\"},{\"id\":\"89e2e392-ca5b-4ed1-b546-a9f2cc07bffc\",\"type\":\"HoverTool\"}],\"x_range\":{\"id\":\"23895abd-3764-444f-a549-89b18c410680\",\"type\":\"DataRange1d\"},\"y_range\":{\"id\":\"52a76ce6-e802-4e49-8acf-b8ac8dfb5ee3\",\"type\":\"DataRange1d\"}},\"id\":\"40af8668-5e73-45d3-b018-7c5232ee1bcc\",\"subtype\":\"Figure\",\"type\":\"Plot\"},{\"attributes\":{\"plot\":{\"id\":\"40af8668-5e73-45d3-b018-7c5232ee1bcc\",\"subtype\":\"Figure\",\"type\":\"Plot\"}},\"id\":\"9a4384cf-6d6d-41b1-bd2b-eaa7626ded49\",\"type\":\"PreviewSaveTool\"},{\"attributes\":{\"formatter\":{\"id\":\"d7bc177e-10fb-4200-ad27-87a9216e7a28\",\"type\":\"BasicTickFormatter\"},\"plot\":{\"id\":\"40af8668-5e73-45d3-b018-7c5232ee1bcc\",\"subtype\":\"Figure\",\"type\":\"Plot\"},\"ticker\":{\"id\":\"d765afc2-ecea-42ec-9031-392739746a15\",\"type\":\"BasicTicker\"}},\"id\":\"16cbe888-e5fb-46f5-9425-36b8da381740\",\"type\":\"LinearAxis\"},{\"attributes\":{\"callback\":null,\"plot\":{\"id\":\"40af8668-5e73-45d3-b018-7c5232ee1bcc\",\"subtype\":\"Figure\",\"type\":\"Plot\"},\"tooltips\":[[\"Episode\",\"@number\"],[\"Title\",\"@title\"],[\"Air Date\",\"@air_date_str\"],[\"Rating\",\"@rating{1.11}\"],[\"Rating Count\",\"@rating_count{1.11}\"]]},\"id\":\"89e2e392-ca5b-4ed1-b546-a9f2cc07bffc\",\"type\":\"HoverTool\"},{\"attributes\":{\"plot\":{\"id\":\"40af8668-5e73-45d3-b018-7c5232ee1bcc\",\"subtype\":\"Figure\",\"type\":\"Plot\"},\"ticker\":{\"id\":\"40f10540-34a0-4678-9ea2-dc2de5eb7af6\",\"type\":\"DatetimeTicker\"}},\"id\":\"74fe5ff2-61db-41dd-9bdc-2c6648572f8a\",\"type\":\"Grid\"},{\"attributes\":{\"plot\":{\"id\":\"40af8668-5e73-45d3-b018-7c5232ee1bcc\",\"subtype\":\"Figure\",\"type\":\"Plot\"}},\"id\":\"54dfcdde-49c9-48ce-8374-1ce6aeb59479\",\"type\":\"ResetTool\"},{\"attributes\":{\"callback\":null,\"column_names\":[\"air_date\",\"rating_count\",\"index\",\"rating\",\"episode_number\",\"title\",\"air_date_str\"],\"data\":{\"air_date\":[1441670400000.0,1441756800000.0,1441843200000.0,1441929600000.0,1442188800000.0,1442275200000.0,1442361600000.0,1442448000000.0,1442534400000.0,1442793600000.0,1442880000000.0,1442966400000.0,1443052800000.0,1443139200000.0,1443398400000.0,1443484800000.0,1443571200000.0,1443657600000.0,1443744000000.0,1444003200000.0,1444089600000.0,1444176000000.0,1444262400000.0,1444348800000.0,1444608000000.0,1444694400000.0,1444780800000.0,1444867200000.0,1444953600000.0,1445817600000.0,1445904000000.0,1445990400000.0,1446076800000.0,1446163200000.0,1446422400000.0,1446508800000.0,1446595200000.0,1446681600000.0,1446768000000.0,1447027200000.0,1447113600000.0,1447200000000.0,1447286400000.0,1447372800000.0,1447632000000.0,1447718400000.0,1447804800000.0,1447891200000.0,1447977600000.0,1448236800000.0,1448323200000.0,1448409600000.0,1449446400000.0,1449532800000.0,1449619200000.0,1449705600000.0,1449792000000.0,1450051200000.0,1450137600000.0,1450224000000.0,1450310400000.0,1450396800000.0,1451865600000.0,1451952000000.0,1452038400000.0,1452124800000.0,1452211200000.0,1452556800000.0,1452643200000.0,1452729600000.0,1452816000000.0,1453075200000.0,1453161600000.0,1453248000000.0,1453334400000.0,1453420800000.0,1453680000000.0,1453766400000.0,1453852800000.0,1453939200000.0,1454284800000.0,1454371200000.0,1454457600000.0,1454544000000.0,1454630400000.0,1454803200000.0,1454889600000.0,1454976000000.0,1455062400000.0,1455148800000.0,1455494400000.0,1455580800000.0,1455840000000.0,1456099200000.0,1456185600000.0,1456272000000.0,1456358400000.0,1456704000000.0,1456790400000.0,1456876800000.0,1456963200000.0,1457308800000.0,1457395200000.0,1457481600000.0,1457568000000.0,1457654400000.0,1457913600000.0,1458000000000.0,1458086400000.0,1458172800000.0,1459123200000.0,1459209600000.0,1459296000000.0,1459382400000.0,1459468800000.0,1459728000000.0,1459814400000.0,1459900800000.0,1459987200000.0,1460937600000.0,1461024000000.0,1461196800000.0,1461283200000.0,1461715200000.0,1462233600000.0,1462838400000.0,1462924800000.0],\"air_date_str\":[\"09/08/15\",\"09/09/15\",\"09/10/15\",\"09/11/15\",\"09/14/15\",\"09/15/15\",\"09/16/15\",\"09/17/15\",\"09/18/15\",\"09/21/15\",\"09/22/15\",\"09/23/15\",\"09/24/15\",\"09/25/15\",\"09/28/15\",\"09/29/15\",\"09/30/15\",\"10/01/15\",\"10/02/15\",\"10/05/15\",\"10/06/15\",\"10/07/15\",\"10/08/15\",\"10/09/15\",\"10/12/15\",\"10/13/15\",\"10/14/15\",\"10/15/15\",\"10/16/15\",\"10/26/15\",\"10/27/15\",\"10/28/15\",\"10/29/15\",\"10/30/15\",\"11/02/15\",\"11/03/15\",\"11/04/15\",\"11/05/15\",\"11/06/15\",\"11/09/15\",\"11/10/15\",\"11/11/15\",\"11/12/15\",\"11/13/15\",\"11/16/15\",\"11/17/15\",\"11/18/15\",\"11/19/15\",\"11/20/15\",\"11/23/15\",\"11/24/15\",\"11/25/15\",\"12/07/15\",\"12/08/15\",\"12/09/15\",\"12/10/15\",\"12/11/15\",\"12/14/15\",\"12/15/15\",\"12/16/15\",\"12/17/15\",\"12/18/15\",\"01/04/16\",\"01/05/16\",\"01/06/16\",\"01/07/16\",\"01/08/16\",\"01/12/16\",\"01/13/16\",\"01/14/16\",\"01/15/16\",\"01/18/16\",\"01/19/16\",\"01/20/16\",\"01/21/16\",\"01/22/16\",\"01/25/16\",\"01/26/16\",\"01/27/16\",\"01/28/16\",\"02/01/16\",\"02/02/16\",\"02/03/16\",\"02/04/16\",\"02/05/16\",\"02/07/16\",\"02/08/16\",\"02/09/16\",\"02/10/16\",\"02/11/16\",\"02/15/16\",\"02/16/16\",\"02/19/16\",\"02/22/16\",\"02/23/16\",\"02/24/16\",\"02/25/16\",\"02/29/16\",\"03/01/16\",\"03/02/16\",\"03/03/16\",\"03/07/16\",\"03/08/16\",\"03/09/16\",\"03/10/16\",\"03/11/16\",\"03/14/16\",\"03/15/16\",\"03/16/16\",\"03/17/16\",\"03/28/16\",\"03/29/16\",\"03/30/16\",\"03/31/16\",\"04/01/16\",\"04/04/16\",\"04/05/16\",\"04/06/16\",\"04/07/16\",\"04/18/16\",\"04/19/16\",\"04/21/16\",\"04/22/16\",\"04/27/16\",\"05/03/16\",\"05/10/16\",\"05/11/16\"],\"episode_number\":[1,2,3,4,5,6,7,8,9,10,11,12,13,14,15,16,17,18,19,20,21,22,23,24,25,26,27,28,29,30,31,32,33,34,35,36,37,38,39,40,41,42,43,44,45,46,47,48,49,50,51,52,53,54,55,56,57,58,59,60,61,62,63,64,65,66,67,69,70,71,72,73,74,75,76,77,78,79,80,81,82,83,84,85,86,87,88,89,90,91,92,93,96,97,98,99,100,101,102,103,104,105,106,107,108,109,110,111,112,113,114,115,116,117,118,119,120,121,122,123,124,126,127,130,134,139,140],\"index\":[0,1,2,3,4,5,6,7,8,9,10,11,12,13,14,15,16,17,18,19,20,21,22,23,24,25,26,27,28,29,30,31,32,33,34,35,36,37,38,39,40,41,42,43,44,45,46,47,48,49,50,51,52,53,54,55,56,57,58,59,60,61,62,63,64,65,66,68,69,70,71,72,73,74,75,76,77,78,79,80,81,82,83,84,85,86,87,88,89,90,91,92,95,96,97,98,99,100,101,102,103,104,105,106,107,108,109,110,111,112,113,114,115,116,117,118,119,120,121,122,123,125,126,129,133,138,139],\"rating\":[7.5,7.5,8.6,7.4,7.9,7.8,8.0,7.7,8.2,8.0,8.2,7.7,7.3,7.8,7.2,7.4,8.2,6.9,7.7,8.2,7.4,7.9,8.5,7.7,8.1,8.5,8.3,7.2,8.5,7.2,7.9,8.0,8.0,7.3,7.5,7.7,8.3,7.7,7.3,6.9,8.1,7.6,7.6,7.4,8.1,8.0,7.7,8.5,9.0,8.4,7.2,7.1,7.2,7.7,6.6,8.2,7.8,7.4,8.0,7.1,7.9,7.8,7.4,7.7,8.1,7.5,8.0,7.0,7.0,7.0,7.7,7.5,7.6,8.0,7.7,8.5,7.9,7.8,7.2,7.8,7.6,7.0,6.4,7.6,7.7,7.6,7.1,7.4,7.8,7.2,6.8,6.7,6.4,7.0,7.3,7.8,7.3,8.4,7.4,7.7,7.7,6.9,7.3,6.8,7.0,6.0,7.9,7.0,7.1,7.6,7.1,6.1,8.1,8.0,7.7,7.2,5.9,6.9,6.2,8.0,8.1,6.8,7.8,7.8,8.4,6.8,9.2],\"rating_count\":[97.0,58.0,66.0,42.0,36.0,32.0,36.0,32.0,36.0,32.0,31.0,27.0,23.0,24.0,18.0,20.0,19.0,18.0,20.0,18.0,20.0,8.0,13.0,15.0,14.0,15.0,13.0,14.0,20.0,12.0,14.0,12.0,18.0,14.0,11.0,16.0,18.0,15.0,12.0,11.0,14.0,11.0,8.0,13.0,18.0,10.0,10.0,8.0,11.0,10.0,8.0,8.0,9.0,9.0,8.0,10.0,8.0,10.0,9.0,11.0,8.0,6.0,7.0,6.0,7.0,6.0,7.0,7.0,6.0,7.0,6.0,6.0,7.0,9.0,6.0,6.0,9.0,6.0,8.0,8.0,8.0,9.0,9.0,9.0,6.0,11.0,7.0,9.0,13.0,8.0,5.0,10.0,7.0,7.0,6.0,6.0,7.0,7.0,8.0,7.0,6.0,7.0,10.0,10.0,8.0,7.0,8.0,8.0,8.0,9.0,10.0,13.0,7.0,9.0,11.0,6.0,10.0,9.0,6.0,6.0,8.0,6.0,5.0,8.0,5.0,5.0,5.0],\"title\":[\"George Clooney/Governor Jeb Bush/Mavis Staples & Friends\",\"Scarlett Johansson/Elon Musk/Kendrick Lamar\",\"Vice President Joe Biden/Travis Kalanick/Toby Keith\",\"Amy Schumer/Stephen King/Troubled Waters\",\"Emily Blunt/Justice Stephen Breyer/The Dead Weather\",\"Jake Gyllenhaal/Apple CEO Tim Cook/Run the Jewels & TV on the Radio\",\"Kevin Spacey/Carol Burnett/Abbi Jacobson & Ilana Glazer/Willie Nelson & John Mellencamp\",\"Trevor Noah/Ban Ki-Moon/Chris Stapleton\",\"Lupita Nyong'o/Sen. Bernie Sanders/Cast of \\\"An American in Paris\\\"\",\"Steph Curry/Sen. Ted Cruz/Don Henley\",\"Donald Trump/Ernest Moniz/Raury\",\"Hugh Jackman/Sen. Elizabeth Warren/Pearl Jam\",\"Andrew Sullivan/Maria Shriver/Jim Gaffigan/Archbishop Thomas Wenski\",\"Malala Yousafzai/Kerry Washington/The Arcs\",\"Michelle Obama/Mindy Kaling/John Legend\",\"Ellen Page/Jesse Eisenberg/Dominic Wilcox\",\"Elizabeth Gilbert/John Oliver/Evan Spiegel/Bill Withers/Ed Sheeran\",\"Secretary of State John Kerry/Claire Danes/PewDiePie\",\"Morgan Freeman/Ruth Wilson/Sean Murray\",\"John McCain/Yo-Yo Ma/Misty Copeland\",\"Bill Clinton/Billy Eichner/Florence and the Machine\",\"Gina Rodriguez/Ben Bernanke/Tame Impala\",\"Cate Blanchett/Airbnb CEO Brian Chesky\",\"James Corden/Shane Smith/Halsey\",\"Carey Mulligan/Elvis Costello/Darlene Love\",\"Sarah Silverman/Elijah Wood/The Legends of Zelda: Symphony of the Goddesses\",\"Jack Black/Nick Woodman/Michelle Dorrance\",\"Oprah Winfrey/Joseph Fink & Jeffrey Cranor/Judith Hill\",\"Jimmy Kimmel/\\\"Crimson Peak\\\" Cast/Beach House\",\"Sienna Miller/Melissa Benoist/Chance the Rapper\",\"Hillary Clinton/Anthony Bourdain/Carrie Brownstein/Lianne La Navas\",\"Julianna Margulies/Jonathan Franzen/Alabama Shakes\",\"Seth MacFarlane/Neil DeGrasse Tyson\",\"Charlie Rose/Stacy Schiff/Ghost/The Zombies\",\"Allison Janney/Colin Quinn/Margaret Cho\",\"Antonio Banderas/Reed Hastings/John Irving\",\"Daniel Craig/Elizabeth Gilbert/Dr. Eugenia Cheng\",\"Bryan Cranston/Karl Ove Knausgaard/Shamir\",\"Whoopi Goldberg/Gov. John Kasich/Glen Hansard\",\"Ethan Hawke/Sen. Claire McCaskill & Sen. Amy Klobuchar/Nathaniel Ratcliff & the Night Sweats\",\"Aziz Ansari/Shonda Rhimes/Bruce Campbell & Lucy Lawless\",\"Viola Davis/Brian Greene/George Ezra\",\"Jennifer Connelly/Judd Apatow/The Internet\",\"Mark Ruffalo/John Cleese/Micheal Flatley\",\"Capt. Florent Groberg/Bill Maher/Shepard Fairey/The Acro-Cats\",\"Julianne Moore/Burt Reynolds/Public Image Ltd./CeeLo Green\",\"Sharon Stone/Justin Theroux/James Taylor\",\"Jane Fonda/Andrew Lloyd Webber/Brandon Niederauer\",\"Michael Caine/Larry Wilmore/Boots/Vulfpeck\",\"Sylvester Stallone/Ted Koppel/My Morning Jacket\",\"Spike Lee/Andy Cohen/Carly Simon\",\"Gloria Estefan/Navy Seal Eric Greitens/Jake Wood/Chef Daniel Boulud\",\"Steve Carell/Jennifer Hudson\",\"Marion Cotillard/George Saunders/Joanna Newsom\",\"Cast of \\\"Downton Abbey\\\"/Adam McKay/Kurt Vile\",\"Bruce Willis/Michael Lewis/Lizzo\",\"Lin-Manuel Miranda/Ike Barinholtz/Sharon Jones & the Dap Kings\",\"Jennifer Lawrence/Doris Kearns Goodwin/Sleater-Kinney\",\"Quentin Tarantino/Jonathan Groff/Squeeze\",\"Robert De Niro/Daniel Gilbert/Henry Rollins\",\"Michael Moore/Samantha Power/Michael C. Hall\",\"Mandy Patinkin/Kayvon Beykpour/Leon Bridges\",\"Samuel L. Jackson/Olivia Hallisey/Foals\",\"John Krasinski/Killer Mike/George Church/Foals\",\"Jerry Seinfeld/Sen. Rand Paul/Andra Day\",\"Damian Lewis/America Ferrera/FloydLittle's Double Dutch Team\",\"Matthew Broderick/Sarah Parcak/Kacey Musgraves\",\"Saoirse Ronan/Jeremy Stoppelman/Laura Ricciardi & Moira Demos/James Bay\",\"Paul Giamatti/Guerilla Girls/J.B. Mauney\",\"Olivia Munn/T.J. Miller/Father John Misty\",\"Scott Kelly/Abby Wambach/Maria Bamford\",\"Patricia Heaton/Quincy Jones/DeRay Mckesson/Grace\",\"Charlie Day/Colin Hanks/Margo Price\",\"James Spader/Brandon Marshall/Sarah Koenig/Rev Run\",\"Christian Slater/Josh Radnor/Iggy Pop\",\"Steven Tyler/Gaby Hoffmann/Lapsley\",\"Donald Rumsfeld/Russell Westbrook/Anderson Paak & the Free Nationals\",\"Laurence Fishburne/Sarah Paulson/Woke\",\"Chris Pine/Danielle Brooks/Jonah Reider/Baauer\",\"Josh Brolin/John Dickerson/Erin Brockovich/Aubrie Sellers\",\"John Travolta & Courtney B. Vance/Amy Cuddy/John Moreland\",\"David Schwimmer/Pastor Joel Osteen/M. Ward\",\"Dr. Phil McGraw/Mark & Jay Duplass/Michael Eric Dyson/Anderson Paak & the Free Nationals\",\"Michael Strahan/Samantha Bee/Wilco\",\"Bobby Cannavale/Donny Deutsch/Charles Kelley\",\"Tina Fey & Margot Robbie/Will Ferrell/Megyn Kelly/Keegan-Michael Key & Jordan Peele\",\"Bill O'Reilly/Eddie George/Macklemore & Ryan Lewis\",\"Olivia Wilde/Christiane Amanpour\",\"Ben Stiller/Sen. Bernie Sanders/TAO: Seventeen Samurai\",\"Kelsey Grammer/Fred Armisen/Sarah McDaniel/Ty Segall & the Muggers\",\"Craig Ferguson/Hailey Clauson & Ashley Graham/Cory Booker\",\"Eva Longoria/Abbi Jacobson & Ilana Glazer/Lucinda Williams\",\"Chelsea Handler/Zosia Mamet/The Lumineers\",\"Casey Affleck/Richard Dreyfuss/Mavis Staples\",\"Debra Messing/Zachary Quinto/Violent Femmes\",\"Adrien Brody/Danai Gurira/Brian Greene\",\"Tim Daly/Krysten Ritter/Jason Isbell\",\"Spike Jonze/Jeffrey Dean Morgan/Jack Garratt\",\"Chrissy Teigen/Mike Birbiglia/Adam Savage\",\"Octavia Spencer/John Stamos, Bob Saget & Dave Coulier/Lucius\",\"Christopher Meloni/Edward Byers/Ray LaMontagne\",\"Will Arnett/Charles Barkley/Max Greenfield\",\"Helen Mirren/J.J. Abrams/DMA's\",\"Sally Field/Jerrod Carmichael/Esperanza Spalding\",\"Anna Kendrick/Loretta Lynch/Brian Fallon\",\"Jeff Daniels/Audra McDonald/Mary Elizabeth Winstead\",\"John Oliver/Jordan Spieth/New Order\",\"Steve Martin & Edie Brickell/Shirley MacLaine/Gustavo Dudamel/Los Angeles Philharmonic\",\"Theo James/Jussie Smollett/Laurie Anderson\",\"William H. Macy/Melissa Rauch/Isaac Mizrahi\",\"Tom Hiddleston/Laura Benanti/Frightened Rabbit\",\"Adam Driver/Rachel Bloom/Savages\",\"Eric Stonestreet/Jason Jones/Sen. Elizabeth Warren\",\"Sarah Paulson/Tatiana Maslany/Wynton Marsalis, Lil Buck & Jared Grimes\",\"Steve Buscemi/Benjamin Walker/Cast of Broadway's \\\"American Psycho\\\"\",\"Matthew Perry/Nick Offerman/Explosions in the Sky\",\"Melissa McCarthy & Ben Falcone/Arianna Huffington/Babymetal\",\"Anna Kendrick & Sam Rockwell/David Duchovny/Autolux\",\"Mindy Kaling/Tituss Burgess/Ken Burns\",\"Hillary Clinton/Jesse Tyler Ferguson/Katharine McPhee/Sturgill Simpson\",\"Kevin Spacey/Thomas Middleditch/The Flaming Lips\",\"Tom Hanks/Leslie Odom, Jr./The Strumbellas/Roy Haynes\",\"Julia Louis-Dreyfus/Nikolaj Coster-Waldau/Sam Morril\",\"Susan Sarandon/David Tennant/Catfish & the Bottlemen\",\"Dakota Johnson/Sebastian Stan/Lukas Nelson & Promise of the Real\",\"Chloe Grace Moretz/Katie Couric/Brian Green/Charlamagne Tha God\",\"Kate Beckinsale/B.J. Novak/Desiigner\"]}},\"id\":\"0a2ea28d-d7da-4d8c-a8ad-12225561c307\",\"type\":\"ColumnDataSource\"},{\"attributes\":{\"plot\":{\"id\":\"40af8668-5e73-45d3-b018-7c5232ee1bcc\",\"subtype\":\"Figure\",\"type\":\"Plot\"}},\"id\":\"196fad63-3f86-442f-9808-5b6112e09964\",\"type\":\"WheelZoomTool\"},{\"attributes\":{\"dimension\":1,\"plot\":{\"id\":\"40af8668-5e73-45d3-b018-7c5232ee1bcc\",\"subtype\":\"Figure\",\"type\":\"Plot\"},\"ticker\":{\"id\":\"d765afc2-ecea-42ec-9031-392739746a15\",\"type\":\"BasicTicker\"}},\"id\":\"3375268c-635a-40c0-8334-35b459924f55\",\"type\":\"Grid\"},{\"attributes\":{\"formatter\":{\"id\":\"55930f9f-3b4d-4496-abdd-7fe8a2c54b45\",\"type\":\"DatetimeTickFormatter\"},\"plot\":{\"id\":\"40af8668-5e73-45d3-b018-7c5232ee1bcc\",\"subtype\":\"Figure\",\"type\":\"Plot\"},\"ticker\":{\"id\":\"40f10540-34a0-4678-9ea2-dc2de5eb7af6\",\"type\":\"DatetimeTicker\"}},\"id\":\"95318575-7fd1-4101-a0da-8d5e0ce657be\",\"type\":\"DatetimeAxis\"},{\"attributes\":{\"max_interval\":500.0,\"num_minor_ticks\":0},\"id\":\"37647b7a-6683-4247-8601-7fabbae43419\",\"type\":\"AdaptiveTicker\"},{\"attributes\":{\"months\":[0,4,8]},\"id\":\"26989228-ebd2-4cf1-8790-cb8a795e9b54\",\"type\":\"MonthsTicker\"}],\"root_ids\":[\"40af8668-5e73-45d3-b018-7c5232ee1bcc\"]},\"title\":\"Bokeh Application\",\"version\":\"0.11.1\"}};\n",
       "            var render_items = [{\"docid\":\"8413c613-ad55-49b9-8388-4cde2f50c6fa\",\"elementid\":\"fbe3c995-2e83-44fa-b1bf-ad6877005df5\",\"modelid\":\"40af8668-5e73-45d3-b018-7c5232ee1bcc\",\"notebook_comms_target\":\"dd299bd3-e05c-4383-a527-f50387f5a14f\"}];\n",
       "            \n",
       "            Bokeh.embed.embed_items(docs_json, render_items);\n",
       "        });\n",
       "      },\n",
       "      function(Bokeh) {\n",
       "      }\n",
       "    ];\n",
       "  \n",
       "    function run_inline_js() {\n",
       "      for (var i = 0; i < inline_js.length; i++) {\n",
       "        inline_js[i](window.Bokeh);\n",
       "      }\n",
       "    }\n",
       "  \n",
       "    if (window._bokeh_is_loading === 0) {\n",
       "      console.log(\"Bokeh: BokehJS loaded, going straight to plotting\");\n",
       "      run_inline_js();\n",
       "    } else {\n",
       "      load_libs(js_urls, function() {\n",
       "        console.log(\"Bokeh: BokehJS plotting callback run at\", now());\n",
       "        run_inline_js();\n",
       "      });\n",
       "    }\n",
       "  }(this));\n",
       "</script>"
      ]
     },
     "metadata": {},
     "output_type": "display_data"
    },
    {
     "data": {
      "text/html": [
       "<p><code>&lt;Bokeh Notebook handle for <strong>In[6]</strong>&gt;</code></p>"
      ],
      "text/plain": [
       "<bokeh.io._CommsHandle at 0x11d3277b8>"
      ]
     },
     "execution_count": 6,
     "metadata": {},
     "output_type": "execute_result"
    }
   ],
   "source": [
    "p = plot_interactive_timeseries(x='air_date', y='rating', data=episodes, \n",
    "                                title=\"Ratings per Episode on The Late Show with Stephen Colbert\")\n",
    "show(p)"
   ]
  },
  {
   "cell_type": "markdown",
   "metadata": {},
   "source": [
    "## Ratings Count over Time"
   ]
  },
  {
   "cell_type": "code",
   "execution_count": 7,
   "metadata": {
    "collapsed": false
   },
   "outputs": [
    {
     "data": {
      "text/html": [
       "\n",
       "\n",
       "    <div class=\"plotdiv\" id=\"4eb2f659-4129-44f8-82f3-f7b56f3c2775\"></div>\n",
       "<script type=\"text/javascript\">\n",
       "  \n",
       "  (function(global) {\n",
       "    function now() {\n",
       "      return new Date();\n",
       "    }\n",
       "  \n",
       "    if (typeof (window._bokeh_onload_callbacks) === \"undefined\") {\n",
       "      window._bokeh_onload_callbacks = [];\n",
       "    }\n",
       "  \n",
       "    function run_callbacks() {\n",
       "      window._bokeh_onload_callbacks.forEach(function(callback) { callback() });\n",
       "      delete window._bokeh_onload_callbacks\n",
       "      console.info(\"Bokeh: all callbacks have finished\");\n",
       "    }\n",
       "  \n",
       "    function load_libs(js_urls, callback) {\n",
       "      window._bokeh_onload_callbacks.push(callback);\n",
       "      if (window._bokeh_is_loading > 0) {\n",
       "        console.log(\"Bokeh: BokehJS is being loaded, scheduling callback at\", now());\n",
       "        return null;\n",
       "      }\n",
       "      if (js_urls == null || js_urls.length === 0) {\n",
       "        run_callbacks();\n",
       "        return null;\n",
       "      }\n",
       "      console.log(\"Bokeh: BokehJS not loaded, scheduling load and callback at\", now());\n",
       "      window._bokeh_is_loading = js_urls.length;\n",
       "      for (var i = 0; i < js_urls.length; i++) {\n",
       "        var url = js_urls[i];\n",
       "        var s = document.createElement('script');\n",
       "        s.src = url;\n",
       "        s.async = false;\n",
       "        s.onreadystatechange = s.onload = function() {\n",
       "          window._bokeh_is_loading--;\n",
       "          if (window._bokeh_is_loading === 0) {\n",
       "            console.log(\"Bokeh: all BokehJS libraries loaded\");\n",
       "            run_callbacks()\n",
       "          }\n",
       "        };\n",
       "        s.onerror = function() {\n",
       "          console.warn(\"failed to load library \" + url);\n",
       "        };\n",
       "        console.log(\"Bokeh: injecting script tag for BokehJS library: \", url);\n",
       "        document.getElementsByTagName(\"head\")[0].appendChild(s);\n",
       "      }\n",
       "    };var element = document.getElementById(\"4eb2f659-4129-44f8-82f3-f7b56f3c2775\");\n",
       "    if (element == null) {\n",
       "      console.log(\"Bokeh: ERROR: autoload.js configured with elementid '4eb2f659-4129-44f8-82f3-f7b56f3c2775' but no matching script tag was found. \")\n",
       "      return false;\n",
       "    }\n",
       "  \n",
       "    var js_urls = [];\n",
       "  \n",
       "    var inline_js = [\n",
       "      function(Bokeh) {\n",
       "        Bokeh.$(function() {\n",
       "            var docs_json = {\"981682b2-c000-462e-b49c-47f278463520\":{\"roots\":{\"references\":[{\"attributes\":{\"callback\":null,\"column_names\":[\"air_date\",\"rating_count\",\"index\",\"rating\",\"episode_number\",\"title\",\"air_date_str\"],\"data\":{\"air_date\":[1441670400000.0,1441756800000.0,1441843200000.0,1441929600000.0,1442188800000.0,1442275200000.0,1442361600000.0,1442448000000.0,1442534400000.0,1442793600000.0,1442880000000.0,1442966400000.0,1443052800000.0,1443139200000.0,1443398400000.0,1443484800000.0,1443571200000.0,1443657600000.0,1443744000000.0,1444003200000.0,1444089600000.0,1444176000000.0,1444262400000.0,1444348800000.0,1444608000000.0,1444694400000.0,1444780800000.0,1444867200000.0,1444953600000.0,1445817600000.0,1445904000000.0,1445990400000.0,1446076800000.0,1446163200000.0,1446422400000.0,1446508800000.0,1446595200000.0,1446681600000.0,1446768000000.0,1447027200000.0,1447113600000.0,1447200000000.0,1447286400000.0,1447372800000.0,1447632000000.0,1447718400000.0,1447804800000.0,1447891200000.0,1447977600000.0,1448236800000.0,1448323200000.0,1448409600000.0,1449446400000.0,1449532800000.0,1449619200000.0,1449705600000.0,1449792000000.0,1450051200000.0,1450137600000.0,1450224000000.0,1450310400000.0,1450396800000.0,1451865600000.0,1451952000000.0,1452038400000.0,1452124800000.0,1452211200000.0,1452556800000.0,1452643200000.0,1452729600000.0,1452816000000.0,1453075200000.0,1453161600000.0,1453248000000.0,1453334400000.0,1453420800000.0,1453680000000.0,1453766400000.0,1453852800000.0,1453939200000.0,1454284800000.0,1454371200000.0,1454457600000.0,1454544000000.0,1454630400000.0,1454803200000.0,1454889600000.0,1454976000000.0,1455062400000.0,1455148800000.0,1455494400000.0,1455580800000.0,1455840000000.0,1456099200000.0,1456185600000.0,1456272000000.0,1456358400000.0,1456704000000.0,1456790400000.0,1456876800000.0,1456963200000.0,1457308800000.0,1457395200000.0,1457481600000.0,1457568000000.0,1457654400000.0,1457913600000.0,1458000000000.0,1458086400000.0,1458172800000.0,1459123200000.0,1459209600000.0,1459296000000.0,1459382400000.0,1459468800000.0,1459728000000.0,1459814400000.0,1459900800000.0,1459987200000.0,1460937600000.0,1461024000000.0,1461196800000.0,1461283200000.0,1461715200000.0,1462233600000.0,1462838400000.0,1462924800000.0],\"air_date_str\":[\"09/08/15\",\"09/09/15\",\"09/10/15\",\"09/11/15\",\"09/14/15\",\"09/15/15\",\"09/16/15\",\"09/17/15\",\"09/18/15\",\"09/21/15\",\"09/22/15\",\"09/23/15\",\"09/24/15\",\"09/25/15\",\"09/28/15\",\"09/29/15\",\"09/30/15\",\"10/01/15\",\"10/02/15\",\"10/05/15\",\"10/06/15\",\"10/07/15\",\"10/08/15\",\"10/09/15\",\"10/12/15\",\"10/13/15\",\"10/14/15\",\"10/15/15\",\"10/16/15\",\"10/26/15\",\"10/27/15\",\"10/28/15\",\"10/29/15\",\"10/30/15\",\"11/02/15\",\"11/03/15\",\"11/04/15\",\"11/05/15\",\"11/06/15\",\"11/09/15\",\"11/10/15\",\"11/11/15\",\"11/12/15\",\"11/13/15\",\"11/16/15\",\"11/17/15\",\"11/18/15\",\"11/19/15\",\"11/20/15\",\"11/23/15\",\"11/24/15\",\"11/25/15\",\"12/07/15\",\"12/08/15\",\"12/09/15\",\"12/10/15\",\"12/11/15\",\"12/14/15\",\"12/15/15\",\"12/16/15\",\"12/17/15\",\"12/18/15\",\"01/04/16\",\"01/05/16\",\"01/06/16\",\"01/07/16\",\"01/08/16\",\"01/12/16\",\"01/13/16\",\"01/14/16\",\"01/15/16\",\"01/18/16\",\"01/19/16\",\"01/20/16\",\"01/21/16\",\"01/22/16\",\"01/25/16\",\"01/26/16\",\"01/27/16\",\"01/28/16\",\"02/01/16\",\"02/02/16\",\"02/03/16\",\"02/04/16\",\"02/05/16\",\"02/07/16\",\"02/08/16\",\"02/09/16\",\"02/10/16\",\"02/11/16\",\"02/15/16\",\"02/16/16\",\"02/19/16\",\"02/22/16\",\"02/23/16\",\"02/24/16\",\"02/25/16\",\"02/29/16\",\"03/01/16\",\"03/02/16\",\"03/03/16\",\"03/07/16\",\"03/08/16\",\"03/09/16\",\"03/10/16\",\"03/11/16\",\"03/14/16\",\"03/15/16\",\"03/16/16\",\"03/17/16\",\"03/28/16\",\"03/29/16\",\"03/30/16\",\"03/31/16\",\"04/01/16\",\"04/04/16\",\"04/05/16\",\"04/06/16\",\"04/07/16\",\"04/18/16\",\"04/19/16\",\"04/21/16\",\"04/22/16\",\"04/27/16\",\"05/03/16\",\"05/10/16\",\"05/11/16\"],\"episode_number\":[1,2,3,4,5,6,7,8,9,10,11,12,13,14,15,16,17,18,19,20,21,22,23,24,25,26,27,28,29,30,31,32,33,34,35,36,37,38,39,40,41,42,43,44,45,46,47,48,49,50,51,52,53,54,55,56,57,58,59,60,61,62,63,64,65,66,67,69,70,71,72,73,74,75,76,77,78,79,80,81,82,83,84,85,86,87,88,89,90,91,92,93,96,97,98,99,100,101,102,103,104,105,106,107,108,109,110,111,112,113,114,115,116,117,118,119,120,121,122,123,124,126,127,130,134,139,140],\"index\":[0,1,2,3,4,5,6,7,8,9,10,11,12,13,14,15,16,17,18,19,20,21,22,23,24,25,26,27,28,29,30,31,32,33,34,35,36,37,38,39,40,41,42,43,44,45,46,47,48,49,50,51,52,53,54,55,56,57,58,59,60,61,62,63,64,65,66,68,69,70,71,72,73,74,75,76,77,78,79,80,81,82,83,84,85,86,87,88,89,90,91,92,95,96,97,98,99,100,101,102,103,104,105,106,107,108,109,110,111,112,113,114,115,116,117,118,119,120,121,122,123,125,126,129,133,138,139],\"rating\":[7.5,7.5,8.6,7.4,7.9,7.8,8.0,7.7,8.2,8.0,8.2,7.7,7.3,7.8,7.2,7.4,8.2,6.9,7.7,8.2,7.4,7.9,8.5,7.7,8.1,8.5,8.3,7.2,8.5,7.2,7.9,8.0,8.0,7.3,7.5,7.7,8.3,7.7,7.3,6.9,8.1,7.6,7.6,7.4,8.1,8.0,7.7,8.5,9.0,8.4,7.2,7.1,7.2,7.7,6.6,8.2,7.8,7.4,8.0,7.1,7.9,7.8,7.4,7.7,8.1,7.5,8.0,7.0,7.0,7.0,7.7,7.5,7.6,8.0,7.7,8.5,7.9,7.8,7.2,7.8,7.6,7.0,6.4,7.6,7.7,7.6,7.1,7.4,7.8,7.2,6.8,6.7,6.4,7.0,7.3,7.8,7.3,8.4,7.4,7.7,7.7,6.9,7.3,6.8,7.0,6.0,7.9,7.0,7.1,7.6,7.1,6.1,8.1,8.0,7.7,7.2,5.9,6.9,6.2,8.0,8.1,6.8,7.8,7.8,8.4,6.8,9.2],\"rating_count\":[97.0,58.0,66.0,42.0,36.0,32.0,36.0,32.0,36.0,32.0,31.0,27.0,23.0,24.0,18.0,20.0,19.0,18.0,20.0,18.0,20.0,8.0,13.0,15.0,14.0,15.0,13.0,14.0,20.0,12.0,14.0,12.0,18.0,14.0,11.0,16.0,18.0,15.0,12.0,11.0,14.0,11.0,8.0,13.0,18.0,10.0,10.0,8.0,11.0,10.0,8.0,8.0,9.0,9.0,8.0,10.0,8.0,10.0,9.0,11.0,8.0,6.0,7.0,6.0,7.0,6.0,7.0,7.0,6.0,7.0,6.0,6.0,7.0,9.0,6.0,6.0,9.0,6.0,8.0,8.0,8.0,9.0,9.0,9.0,6.0,11.0,7.0,9.0,13.0,8.0,5.0,10.0,7.0,7.0,6.0,6.0,7.0,7.0,8.0,7.0,6.0,7.0,10.0,10.0,8.0,7.0,8.0,8.0,8.0,9.0,10.0,13.0,7.0,9.0,11.0,6.0,10.0,9.0,6.0,6.0,8.0,6.0,5.0,8.0,5.0,5.0,5.0],\"title\":[\"George Clooney/Governor Jeb Bush/Mavis Staples & Friends\",\"Scarlett Johansson/Elon Musk/Kendrick Lamar\",\"Vice President Joe Biden/Travis Kalanick/Toby Keith\",\"Amy Schumer/Stephen King/Troubled Waters\",\"Emily Blunt/Justice Stephen Breyer/The Dead Weather\",\"Jake Gyllenhaal/Apple CEO Tim Cook/Run the Jewels & TV on the Radio\",\"Kevin Spacey/Carol Burnett/Abbi Jacobson & Ilana Glazer/Willie Nelson & John Mellencamp\",\"Trevor Noah/Ban Ki-Moon/Chris Stapleton\",\"Lupita Nyong'o/Sen. Bernie Sanders/Cast of \\\"An American in Paris\\\"\",\"Steph Curry/Sen. Ted Cruz/Don Henley\",\"Donald Trump/Ernest Moniz/Raury\",\"Hugh Jackman/Sen. Elizabeth Warren/Pearl Jam\",\"Andrew Sullivan/Maria Shriver/Jim Gaffigan/Archbishop Thomas Wenski\",\"Malala Yousafzai/Kerry Washington/The Arcs\",\"Michelle Obama/Mindy Kaling/John Legend\",\"Ellen Page/Jesse Eisenberg/Dominic Wilcox\",\"Elizabeth Gilbert/John Oliver/Evan Spiegel/Bill Withers/Ed Sheeran\",\"Secretary of State John Kerry/Claire Danes/PewDiePie\",\"Morgan Freeman/Ruth Wilson/Sean Murray\",\"John McCain/Yo-Yo Ma/Misty Copeland\",\"Bill Clinton/Billy Eichner/Florence and the Machine\",\"Gina Rodriguez/Ben Bernanke/Tame Impala\",\"Cate Blanchett/Airbnb CEO Brian Chesky\",\"James Corden/Shane Smith/Halsey\",\"Carey Mulligan/Elvis Costello/Darlene Love\",\"Sarah Silverman/Elijah Wood/The Legends of Zelda: Symphony of the Goddesses\",\"Jack Black/Nick Woodman/Michelle Dorrance\",\"Oprah Winfrey/Joseph Fink & Jeffrey Cranor/Judith Hill\",\"Jimmy Kimmel/\\\"Crimson Peak\\\" Cast/Beach House\",\"Sienna Miller/Melissa Benoist/Chance the Rapper\",\"Hillary Clinton/Anthony Bourdain/Carrie Brownstein/Lianne La Navas\",\"Julianna Margulies/Jonathan Franzen/Alabama Shakes\",\"Seth MacFarlane/Neil DeGrasse Tyson\",\"Charlie Rose/Stacy Schiff/Ghost/The Zombies\",\"Allison Janney/Colin Quinn/Margaret Cho\",\"Antonio Banderas/Reed Hastings/John Irving\",\"Daniel Craig/Elizabeth Gilbert/Dr. Eugenia Cheng\",\"Bryan Cranston/Karl Ove Knausgaard/Shamir\",\"Whoopi Goldberg/Gov. John Kasich/Glen Hansard\",\"Ethan Hawke/Sen. Claire McCaskill & Sen. Amy Klobuchar/Nathaniel Ratcliff & the Night Sweats\",\"Aziz Ansari/Shonda Rhimes/Bruce Campbell & Lucy Lawless\",\"Viola Davis/Brian Greene/George Ezra\",\"Jennifer Connelly/Judd Apatow/The Internet\",\"Mark Ruffalo/John Cleese/Micheal Flatley\",\"Capt. Florent Groberg/Bill Maher/Shepard Fairey/The Acro-Cats\",\"Julianne Moore/Burt Reynolds/Public Image Ltd./CeeLo Green\",\"Sharon Stone/Justin Theroux/James Taylor\",\"Jane Fonda/Andrew Lloyd Webber/Brandon Niederauer\",\"Michael Caine/Larry Wilmore/Boots/Vulfpeck\",\"Sylvester Stallone/Ted Koppel/My Morning Jacket\",\"Spike Lee/Andy Cohen/Carly Simon\",\"Gloria Estefan/Navy Seal Eric Greitens/Jake Wood/Chef Daniel Boulud\",\"Steve Carell/Jennifer Hudson\",\"Marion Cotillard/George Saunders/Joanna Newsom\",\"Cast of \\\"Downton Abbey\\\"/Adam McKay/Kurt Vile\",\"Bruce Willis/Michael Lewis/Lizzo\",\"Lin-Manuel Miranda/Ike Barinholtz/Sharon Jones & the Dap Kings\",\"Jennifer Lawrence/Doris Kearns Goodwin/Sleater-Kinney\",\"Quentin Tarantino/Jonathan Groff/Squeeze\",\"Robert De Niro/Daniel Gilbert/Henry Rollins\",\"Michael Moore/Samantha Power/Michael C. Hall\",\"Mandy Patinkin/Kayvon Beykpour/Leon Bridges\",\"Samuel L. Jackson/Olivia Hallisey/Foals\",\"John Krasinski/Killer Mike/George Church/Foals\",\"Jerry Seinfeld/Sen. Rand Paul/Andra Day\",\"Damian Lewis/America Ferrera/FloydLittle's Double Dutch Team\",\"Matthew Broderick/Sarah Parcak/Kacey Musgraves\",\"Saoirse Ronan/Jeremy Stoppelman/Laura Ricciardi & Moira Demos/James Bay\",\"Paul Giamatti/Guerilla Girls/J.B. Mauney\",\"Olivia Munn/T.J. Miller/Father John Misty\",\"Scott Kelly/Abby Wambach/Maria Bamford\",\"Patricia Heaton/Quincy Jones/DeRay Mckesson/Grace\",\"Charlie Day/Colin Hanks/Margo Price\",\"James Spader/Brandon Marshall/Sarah Koenig/Rev Run\",\"Christian Slater/Josh Radnor/Iggy Pop\",\"Steven Tyler/Gaby Hoffmann/Lapsley\",\"Donald Rumsfeld/Russell Westbrook/Anderson Paak & the Free Nationals\",\"Laurence Fishburne/Sarah Paulson/Woke\",\"Chris Pine/Danielle Brooks/Jonah Reider/Baauer\",\"Josh Brolin/John Dickerson/Erin Brockovich/Aubrie Sellers\",\"John Travolta & Courtney B. Vance/Amy Cuddy/John Moreland\",\"David Schwimmer/Pastor Joel Osteen/M. Ward\",\"Dr. Phil McGraw/Mark & Jay Duplass/Michael Eric Dyson/Anderson Paak & the Free Nationals\",\"Michael Strahan/Samantha Bee/Wilco\",\"Bobby Cannavale/Donny Deutsch/Charles Kelley\",\"Tina Fey & Margot Robbie/Will Ferrell/Megyn Kelly/Keegan-Michael Key & Jordan Peele\",\"Bill O'Reilly/Eddie George/Macklemore & Ryan Lewis\",\"Olivia Wilde/Christiane Amanpour\",\"Ben Stiller/Sen. Bernie Sanders/TAO: Seventeen Samurai\",\"Kelsey Grammer/Fred Armisen/Sarah McDaniel/Ty Segall & the Muggers\",\"Craig Ferguson/Hailey Clauson & Ashley Graham/Cory Booker\",\"Eva Longoria/Abbi Jacobson & Ilana Glazer/Lucinda Williams\",\"Chelsea Handler/Zosia Mamet/The Lumineers\",\"Casey Affleck/Richard Dreyfuss/Mavis Staples\",\"Debra Messing/Zachary Quinto/Violent Femmes\",\"Adrien Brody/Danai Gurira/Brian Greene\",\"Tim Daly/Krysten Ritter/Jason Isbell\",\"Spike Jonze/Jeffrey Dean Morgan/Jack Garratt\",\"Chrissy Teigen/Mike Birbiglia/Adam Savage\",\"Octavia Spencer/John Stamos, Bob Saget & Dave Coulier/Lucius\",\"Christopher Meloni/Edward Byers/Ray LaMontagne\",\"Will Arnett/Charles Barkley/Max Greenfield\",\"Helen Mirren/J.J. Abrams/DMA's\",\"Sally Field/Jerrod Carmichael/Esperanza Spalding\",\"Anna Kendrick/Loretta Lynch/Brian Fallon\",\"Jeff Daniels/Audra McDonald/Mary Elizabeth Winstead\",\"John Oliver/Jordan Spieth/New Order\",\"Steve Martin & Edie Brickell/Shirley MacLaine/Gustavo Dudamel/Los Angeles Philharmonic\",\"Theo James/Jussie Smollett/Laurie Anderson\",\"William H. Macy/Melissa Rauch/Isaac Mizrahi\",\"Tom Hiddleston/Laura Benanti/Frightened Rabbit\",\"Adam Driver/Rachel Bloom/Savages\",\"Eric Stonestreet/Jason Jones/Sen. Elizabeth Warren\",\"Sarah Paulson/Tatiana Maslany/Wynton Marsalis, Lil Buck & Jared Grimes\",\"Steve Buscemi/Benjamin Walker/Cast of Broadway's \\\"American Psycho\\\"\",\"Matthew Perry/Nick Offerman/Explosions in the Sky\",\"Melissa McCarthy & Ben Falcone/Arianna Huffington/Babymetal\",\"Anna Kendrick & Sam Rockwell/David Duchovny/Autolux\",\"Mindy Kaling/Tituss Burgess/Ken Burns\",\"Hillary Clinton/Jesse Tyler Ferguson/Katharine McPhee/Sturgill Simpson\",\"Kevin Spacey/Thomas Middleditch/The Flaming Lips\",\"Tom Hanks/Leslie Odom, Jr./The Strumbellas/Roy Haynes\",\"Julia Louis-Dreyfus/Nikolaj Coster-Waldau/Sam Morril\",\"Susan Sarandon/David Tennant/Catfish & the Bottlemen\",\"Dakota Johnson/Sebastian Stan/Lukas Nelson & Promise of the Real\",\"Chloe Grace Moretz/Katie Couric/Brian Green/Charlamagne Tha God\",\"Kate Beckinsale/B.J. Novak/Desiigner\"]}},\"id\":\"8814692e-2696-4601-a5a2-9971823077c5\",\"type\":\"ColumnDataSource\"},{\"attributes\":{},\"id\":\"055bae0a-e267-4d9c-bfc1-ccbda6d3ca03\",\"type\":\"BasicTicker\"},{\"attributes\":{\"callback\":null},\"id\":\"755eef07-f603-4f67-8dc4-b90fc3b24d90\",\"type\":\"DataRange1d\"},{\"attributes\":{\"num_minor_ticks\":5},\"id\":\"62c6637c-9633-447e-90b9-fee304ece093\",\"type\":\"DatetimeTicker\"},{\"attributes\":{\"days\":[1,8,15,22]},\"id\":\"2f2b4f15-b509-44ff-964e-23745c1beee4\",\"type\":\"DaysTicker\"},{\"attributes\":{\"days\":[1,2,3,4,5,6,7,8,9,10,11,12,13,14,15,16,17,18,19,20,21,22,23,24,25,26,27,28,29,30,31]},\"id\":\"0a172707-a801-4ee3-9d25-8dc9e0c750e7\",\"type\":\"DaysTicker\"},{\"attributes\":{\"callback\":null},\"id\":\"52a76ce6-e802-4e49-8acf-b8ac8dfb5ee3\",\"type\":\"DataRange1d\"},{\"attributes\":{\"months\":[0,2,4,6,8,10]},\"id\":\"3380e443-fdcb-46be-951e-0b251b5a283e\",\"type\":\"MonthsTicker\"},{\"attributes\":{\"days\":[1,4,7,10,13,16,19,22,25,28]},\"id\":\"5483556a-4e4b-42d8-9032-654aeacbc582\",\"type\":\"DaysTicker\"},{\"attributes\":{\"plot\":{\"id\":\"ee1f274f-5bf0-47cc-8519-755f94fac046\",\"subtype\":\"Figure\",\"type\":\"Plot\"}},\"id\":\"3bca1188-3513-4e16-b6e2-1088ab702bf7\",\"type\":\"HelpTool\"},{\"attributes\":{},\"id\":\"2b27e2f2-08f6-4ff7-a202-c67c9e282c5e\",\"type\":\"YearsTicker\"},{\"attributes\":{\"months\":[0,1,2,3,4,5,6,7,8,9,10,11]},\"id\":\"d54a48ec-3fc2-42fa-82f5-c31ae9f3d4bd\",\"type\":\"MonthsTicker\"},{\"attributes\":{\"plot\":{\"id\":\"ee1f274f-5bf0-47cc-8519-755f94fac046\",\"subtype\":\"Figure\",\"type\":\"Plot\"}},\"id\":\"aa448262-54ba-43f1-aa61-c1ab100d30bc\",\"type\":\"WheelZoomTool\"},{\"attributes\":{\"days\":[1,4,7,10,13,16,19,22,25,28]},\"id\":\"21e4a359-da25-4a51-a3a2-a842c54db31b\",\"type\":\"DaysTicker\"},{\"attributes\":{\"base\":24,\"mantissas\":[1,2,4,6,8,12],\"max_interval\":43200000.0,\"min_interval\":3600000.0,\"num_minor_ticks\":0},\"id\":\"c86ed119-8f6d-440b-abf8-47a964ef66e2\",\"type\":\"AdaptiveTicker\"},{\"attributes\":{\"plot\":{\"id\":\"40af8668-5e73-45d3-b018-7c5232ee1bcc\",\"subtype\":\"Figure\",\"type\":\"Plot\"}},\"id\":\"90980329-75cc-45f7-a2f1-e851ce317e22\",\"type\":\"ResizeTool\"},{\"attributes\":{\"plot\":{\"id\":\"40af8668-5e73-45d3-b018-7c5232ee1bcc\",\"subtype\":\"Figure\",\"type\":\"Plot\"}},\"id\":\"a927bde4-6a3d-4358-9ad9-3b12c3e23aed\",\"type\":\"PanTool\"},{\"attributes\":{},\"id\":\"d765afc2-ecea-42ec-9031-392739746a15\",\"type\":\"BasicTicker\"},{\"attributes\":{\"max_interval\":500.0,\"num_minor_ticks\":0},\"id\":\"8064ab3d-cda3-48ec-9621-333aee0551c2\",\"type\":\"AdaptiveTicker\"},{\"attributes\":{\"fill_alpha\":{\"value\":0.1},\"fill_color\":{\"value\":\"#1f77b4\"},\"line_alpha\":{\"value\":0.1},\"line_color\":{\"value\":\"#1f77b4\"},\"line_width\":{\"value\":2},\"size\":{\"units\":\"screen\",\"value\":5},\"x\":{\"field\":\"air_date\"},\"y\":{\"field\":\"rating\"}},\"id\":\"588f726b-fba7-47c4-8fe5-dddd7e2c3c6e\",\"type\":\"Circle\"},{\"attributes\":{\"num_minor_ticks\":5},\"id\":\"40f10540-34a0-4678-9ea2-dc2de5eb7af6\",\"type\":\"DatetimeTicker\"},{\"attributes\":{\"below\":[{\"id\":\"95318575-7fd1-4101-a0da-8d5e0ce657be\",\"type\":\"DatetimeAxis\"}],\"left\":[{\"id\":\"16cbe888-e5fb-46f5-9425-36b8da381740\",\"type\":\"LinearAxis\"}],\"logo\":null,\"plot_height\":400,\"plot_width\":950,\"renderers\":[{\"id\":\"95318575-7fd1-4101-a0da-8d5e0ce657be\",\"type\":\"DatetimeAxis\"},{\"id\":\"74fe5ff2-61db-41dd-9bdc-2c6648572f8a\",\"type\":\"Grid\"},{\"id\":\"16cbe888-e5fb-46f5-9425-36b8da381740\",\"type\":\"LinearAxis\"},{\"id\":\"3375268c-635a-40c0-8334-35b459924f55\",\"type\":\"Grid\"},{\"id\":\"7d19fba2-f594-4e5a-b3ff-5f1d75499ed3\",\"type\":\"BoxAnnotation\"},{\"id\":\"80d44ea0-c985-4e34-a1c9-0ba4f85863eb\",\"type\":\"GlyphRenderer\"}],\"title\":\"Ratings per Episode on The Late Show with Stephen Colbert\",\"tool_events\":{\"id\":\"1b6e2d60-21b1-407f-93ab-19d5357f4908\",\"type\":\"ToolEvents\"},\"tools\":[{\"id\":\"a927bde4-6a3d-4358-9ad9-3b12c3e23aed\",\"type\":\"PanTool\"},{\"id\":\"196fad63-3f86-442f-9808-5b6112e09964\",\"type\":\"WheelZoomTool\"},{\"id\":\"ee4bbc83-5cf3-49c7-bbc6-ea0905354f51\",\"type\":\"BoxZoomTool\"},{\"id\":\"9a4384cf-6d6d-41b1-bd2b-eaa7626ded49\",\"type\":\"PreviewSaveTool\"},{\"id\":\"90980329-75cc-45f7-a2f1-e851ce317e22\",\"type\":\"ResizeTool\"},{\"id\":\"54dfcdde-49c9-48ce-8374-1ce6aeb59479\",\"type\":\"ResetTool\"},{\"id\":\"649f71ee-f5e6-48c7-ad70-a2bff8dd8b46\",\"type\":\"HelpTool\"},{\"id\":\"89e2e392-ca5b-4ed1-b546-a9f2cc07bffc\",\"type\":\"HoverTool\"}],\"x_range\":{\"id\":\"23895abd-3764-444f-a549-89b18c410680\",\"type\":\"DataRange1d\"},\"y_range\":{\"id\":\"52a76ce6-e802-4e49-8acf-b8ac8dfb5ee3\",\"type\":\"DataRange1d\"}},\"id\":\"40af8668-5e73-45d3-b018-7c5232ee1bcc\",\"subtype\":\"Figure\",\"type\":\"Plot\"},{\"attributes\":{\"callback\":null},\"id\":\"7a845387-6d97-4751-96d8-0ca4f59be0fd\",\"type\":\"DataRange1d\"},{\"attributes\":{\"callback\":null,\"plot\":{\"id\":\"ee1f274f-5bf0-47cc-8519-755f94fac046\",\"subtype\":\"Figure\",\"type\":\"Plot\"},\"tooltips\":[[\"Episode\",\"@number\"],[\"Title\",\"@title\"],[\"Air Date\",\"@air_date_str\"],[\"Rating\",\"@rating{1.11}\"],[\"Rating Count\",\"@rating_count{1.11}\"]]},\"id\":\"1fa8b47c-3e5e-4b97-9f77-45703dcf255f\",\"type\":\"HoverTool\"},{\"attributes\":{\"fill_color\":{\"value\":\"#1f77b4\"},\"line_color\":{\"value\":\"#1f77b4\"},\"line_width\":{\"value\":2},\"size\":{\"units\":\"screen\",\"value\":5},\"x\":{\"field\":\"air_date\"},\"y\":{\"field\":\"rating_count\"}},\"id\":\"bc0a2ea0-f8d1-46f2-8a89-83daec8f9b17\",\"type\":\"Circle\"},{\"attributes\":{\"max_interval\":500.0,\"num_minor_ticks\":0},\"id\":\"37647b7a-6683-4247-8601-7fabbae43419\",\"type\":\"AdaptiveTicker\"},{\"attributes\":{\"callback\":null,\"column_names\":[\"air_date\",\"rating_count\",\"index\",\"rating\",\"episode_number\",\"title\",\"air_date_str\"],\"data\":{\"air_date\":[1441670400000.0,1441756800000.0,1441843200000.0,1441929600000.0,1442188800000.0,1442275200000.0,1442361600000.0,1442448000000.0,1442534400000.0,1442793600000.0,1442880000000.0,1442966400000.0,1443052800000.0,1443139200000.0,1443398400000.0,1443484800000.0,1443571200000.0,1443657600000.0,1443744000000.0,1444003200000.0,1444089600000.0,1444176000000.0,1444262400000.0,1444348800000.0,1444608000000.0,1444694400000.0,1444780800000.0,1444867200000.0,1444953600000.0,1445817600000.0,1445904000000.0,1445990400000.0,1446076800000.0,1446163200000.0,1446422400000.0,1446508800000.0,1446595200000.0,1446681600000.0,1446768000000.0,1447027200000.0,1447113600000.0,1447200000000.0,1447286400000.0,1447372800000.0,1447632000000.0,1447718400000.0,1447804800000.0,1447891200000.0,1447977600000.0,1448236800000.0,1448323200000.0,1448409600000.0,1449446400000.0,1449532800000.0,1449619200000.0,1449705600000.0,1449792000000.0,1450051200000.0,1450137600000.0,1450224000000.0,1450310400000.0,1450396800000.0,1451865600000.0,1451952000000.0,1452038400000.0,1452124800000.0,1452211200000.0,1452556800000.0,1452643200000.0,1452729600000.0,1452816000000.0,1453075200000.0,1453161600000.0,1453248000000.0,1453334400000.0,1453420800000.0,1453680000000.0,1453766400000.0,1453852800000.0,1453939200000.0,1454284800000.0,1454371200000.0,1454457600000.0,1454544000000.0,1454630400000.0,1454803200000.0,1454889600000.0,1454976000000.0,1455062400000.0,1455148800000.0,1455494400000.0,1455580800000.0,1455840000000.0,1456099200000.0,1456185600000.0,1456272000000.0,1456358400000.0,1456704000000.0,1456790400000.0,1456876800000.0,1456963200000.0,1457308800000.0,1457395200000.0,1457481600000.0,1457568000000.0,1457654400000.0,1457913600000.0,1458000000000.0,1458086400000.0,1458172800000.0,1459123200000.0,1459209600000.0,1459296000000.0,1459382400000.0,1459468800000.0,1459728000000.0,1459814400000.0,1459900800000.0,1459987200000.0,1460937600000.0,1461024000000.0,1461196800000.0,1461283200000.0,1461715200000.0,1462233600000.0,1462838400000.0,1462924800000.0],\"air_date_str\":[\"09/08/15\",\"09/09/15\",\"09/10/15\",\"09/11/15\",\"09/14/15\",\"09/15/15\",\"09/16/15\",\"09/17/15\",\"09/18/15\",\"09/21/15\",\"09/22/15\",\"09/23/15\",\"09/24/15\",\"09/25/15\",\"09/28/15\",\"09/29/15\",\"09/30/15\",\"10/01/15\",\"10/02/15\",\"10/05/15\",\"10/06/15\",\"10/07/15\",\"10/08/15\",\"10/09/15\",\"10/12/15\",\"10/13/15\",\"10/14/15\",\"10/15/15\",\"10/16/15\",\"10/26/15\",\"10/27/15\",\"10/28/15\",\"10/29/15\",\"10/30/15\",\"11/02/15\",\"11/03/15\",\"11/04/15\",\"11/05/15\",\"11/06/15\",\"11/09/15\",\"11/10/15\",\"11/11/15\",\"11/12/15\",\"11/13/15\",\"11/16/15\",\"11/17/15\",\"11/18/15\",\"11/19/15\",\"11/20/15\",\"11/23/15\",\"11/24/15\",\"11/25/15\",\"12/07/15\",\"12/08/15\",\"12/09/15\",\"12/10/15\",\"12/11/15\",\"12/14/15\",\"12/15/15\",\"12/16/15\",\"12/17/15\",\"12/18/15\",\"01/04/16\",\"01/05/16\",\"01/06/16\",\"01/07/16\",\"01/08/16\",\"01/12/16\",\"01/13/16\",\"01/14/16\",\"01/15/16\",\"01/18/16\",\"01/19/16\",\"01/20/16\",\"01/21/16\",\"01/22/16\",\"01/25/16\",\"01/26/16\",\"01/27/16\",\"01/28/16\",\"02/01/16\",\"02/02/16\",\"02/03/16\",\"02/04/16\",\"02/05/16\",\"02/07/16\",\"02/08/16\",\"02/09/16\",\"02/10/16\",\"02/11/16\",\"02/15/16\",\"02/16/16\",\"02/19/16\",\"02/22/16\",\"02/23/16\",\"02/24/16\",\"02/25/16\",\"02/29/16\",\"03/01/16\",\"03/02/16\",\"03/03/16\",\"03/07/16\",\"03/08/16\",\"03/09/16\",\"03/10/16\",\"03/11/16\",\"03/14/16\",\"03/15/16\",\"03/16/16\",\"03/17/16\",\"03/28/16\",\"03/29/16\",\"03/30/16\",\"03/31/16\",\"04/01/16\",\"04/04/16\",\"04/05/16\",\"04/06/16\",\"04/07/16\",\"04/18/16\",\"04/19/16\",\"04/21/16\",\"04/22/16\",\"04/27/16\",\"05/03/16\",\"05/10/16\",\"05/11/16\"],\"episode_number\":[1,2,3,4,5,6,7,8,9,10,11,12,13,14,15,16,17,18,19,20,21,22,23,24,25,26,27,28,29,30,31,32,33,34,35,36,37,38,39,40,41,42,43,44,45,46,47,48,49,50,51,52,53,54,55,56,57,58,59,60,61,62,63,64,65,66,67,69,70,71,72,73,74,75,76,77,78,79,80,81,82,83,84,85,86,87,88,89,90,91,92,93,96,97,98,99,100,101,102,103,104,105,106,107,108,109,110,111,112,113,114,115,116,117,118,119,120,121,122,123,124,126,127,130,134,139,140],\"index\":[0,1,2,3,4,5,6,7,8,9,10,11,12,13,14,15,16,17,18,19,20,21,22,23,24,25,26,27,28,29,30,31,32,33,34,35,36,37,38,39,40,41,42,43,44,45,46,47,48,49,50,51,52,53,54,55,56,57,58,59,60,61,62,63,64,65,66,68,69,70,71,72,73,74,75,76,77,78,79,80,81,82,83,84,85,86,87,88,89,90,91,92,95,96,97,98,99,100,101,102,103,104,105,106,107,108,109,110,111,112,113,114,115,116,117,118,119,120,121,122,123,125,126,129,133,138,139],\"rating\":[7.5,7.5,8.6,7.4,7.9,7.8,8.0,7.7,8.2,8.0,8.2,7.7,7.3,7.8,7.2,7.4,8.2,6.9,7.7,8.2,7.4,7.9,8.5,7.7,8.1,8.5,8.3,7.2,8.5,7.2,7.9,8.0,8.0,7.3,7.5,7.7,8.3,7.7,7.3,6.9,8.1,7.6,7.6,7.4,8.1,8.0,7.7,8.5,9.0,8.4,7.2,7.1,7.2,7.7,6.6,8.2,7.8,7.4,8.0,7.1,7.9,7.8,7.4,7.7,8.1,7.5,8.0,7.0,7.0,7.0,7.7,7.5,7.6,8.0,7.7,8.5,7.9,7.8,7.2,7.8,7.6,7.0,6.4,7.6,7.7,7.6,7.1,7.4,7.8,7.2,6.8,6.7,6.4,7.0,7.3,7.8,7.3,8.4,7.4,7.7,7.7,6.9,7.3,6.8,7.0,6.0,7.9,7.0,7.1,7.6,7.1,6.1,8.1,8.0,7.7,7.2,5.9,6.9,6.2,8.0,8.1,6.8,7.8,7.8,8.4,6.8,9.2],\"rating_count\":[97.0,58.0,66.0,42.0,36.0,32.0,36.0,32.0,36.0,32.0,31.0,27.0,23.0,24.0,18.0,20.0,19.0,18.0,20.0,18.0,20.0,8.0,13.0,15.0,14.0,15.0,13.0,14.0,20.0,12.0,14.0,12.0,18.0,14.0,11.0,16.0,18.0,15.0,12.0,11.0,14.0,11.0,8.0,13.0,18.0,10.0,10.0,8.0,11.0,10.0,8.0,8.0,9.0,9.0,8.0,10.0,8.0,10.0,9.0,11.0,8.0,6.0,7.0,6.0,7.0,6.0,7.0,7.0,6.0,7.0,6.0,6.0,7.0,9.0,6.0,6.0,9.0,6.0,8.0,8.0,8.0,9.0,9.0,9.0,6.0,11.0,7.0,9.0,13.0,8.0,5.0,10.0,7.0,7.0,6.0,6.0,7.0,7.0,8.0,7.0,6.0,7.0,10.0,10.0,8.0,7.0,8.0,8.0,8.0,9.0,10.0,13.0,7.0,9.0,11.0,6.0,10.0,9.0,6.0,6.0,8.0,6.0,5.0,8.0,5.0,5.0,5.0],\"title\":[\"George Clooney/Governor Jeb Bush/Mavis Staples & Friends\",\"Scarlett Johansson/Elon Musk/Kendrick Lamar\",\"Vice President Joe Biden/Travis Kalanick/Toby Keith\",\"Amy Schumer/Stephen King/Troubled Waters\",\"Emily Blunt/Justice Stephen Breyer/The Dead Weather\",\"Jake Gyllenhaal/Apple CEO Tim Cook/Run the Jewels & TV on the Radio\",\"Kevin Spacey/Carol Burnett/Abbi Jacobson & Ilana Glazer/Willie Nelson & John Mellencamp\",\"Trevor Noah/Ban Ki-Moon/Chris Stapleton\",\"Lupita Nyong'o/Sen. Bernie Sanders/Cast of \\\"An American in Paris\\\"\",\"Steph Curry/Sen. Ted Cruz/Don Henley\",\"Donald Trump/Ernest Moniz/Raury\",\"Hugh Jackman/Sen. Elizabeth Warren/Pearl Jam\",\"Andrew Sullivan/Maria Shriver/Jim Gaffigan/Archbishop Thomas Wenski\",\"Malala Yousafzai/Kerry Washington/The Arcs\",\"Michelle Obama/Mindy Kaling/John Legend\",\"Ellen Page/Jesse Eisenberg/Dominic Wilcox\",\"Elizabeth Gilbert/John Oliver/Evan Spiegel/Bill Withers/Ed Sheeran\",\"Secretary of State John Kerry/Claire Danes/PewDiePie\",\"Morgan Freeman/Ruth Wilson/Sean Murray\",\"John McCain/Yo-Yo Ma/Misty Copeland\",\"Bill Clinton/Billy Eichner/Florence and the Machine\",\"Gina Rodriguez/Ben Bernanke/Tame Impala\",\"Cate Blanchett/Airbnb CEO Brian Chesky\",\"James Corden/Shane Smith/Halsey\",\"Carey Mulligan/Elvis Costello/Darlene Love\",\"Sarah Silverman/Elijah Wood/The Legends of Zelda: Symphony of the Goddesses\",\"Jack Black/Nick Woodman/Michelle Dorrance\",\"Oprah Winfrey/Joseph Fink & Jeffrey Cranor/Judith Hill\",\"Jimmy Kimmel/\\\"Crimson Peak\\\" Cast/Beach House\",\"Sienna Miller/Melissa Benoist/Chance the Rapper\",\"Hillary Clinton/Anthony Bourdain/Carrie Brownstein/Lianne La Navas\",\"Julianna Margulies/Jonathan Franzen/Alabama Shakes\",\"Seth MacFarlane/Neil DeGrasse Tyson\",\"Charlie Rose/Stacy Schiff/Ghost/The Zombies\",\"Allison Janney/Colin Quinn/Margaret Cho\",\"Antonio Banderas/Reed Hastings/John Irving\",\"Daniel Craig/Elizabeth Gilbert/Dr. Eugenia Cheng\",\"Bryan Cranston/Karl Ove Knausgaard/Shamir\",\"Whoopi Goldberg/Gov. John Kasich/Glen Hansard\",\"Ethan Hawke/Sen. Claire McCaskill & Sen. Amy Klobuchar/Nathaniel Ratcliff & the Night Sweats\",\"Aziz Ansari/Shonda Rhimes/Bruce Campbell & Lucy Lawless\",\"Viola Davis/Brian Greene/George Ezra\",\"Jennifer Connelly/Judd Apatow/The Internet\",\"Mark Ruffalo/John Cleese/Micheal Flatley\",\"Capt. Florent Groberg/Bill Maher/Shepard Fairey/The Acro-Cats\",\"Julianne Moore/Burt Reynolds/Public Image Ltd./CeeLo Green\",\"Sharon Stone/Justin Theroux/James Taylor\",\"Jane Fonda/Andrew Lloyd Webber/Brandon Niederauer\",\"Michael Caine/Larry Wilmore/Boots/Vulfpeck\",\"Sylvester Stallone/Ted Koppel/My Morning Jacket\",\"Spike Lee/Andy Cohen/Carly Simon\",\"Gloria Estefan/Navy Seal Eric Greitens/Jake Wood/Chef Daniel Boulud\",\"Steve Carell/Jennifer Hudson\",\"Marion Cotillard/George Saunders/Joanna Newsom\",\"Cast of \\\"Downton Abbey\\\"/Adam McKay/Kurt Vile\",\"Bruce Willis/Michael Lewis/Lizzo\",\"Lin-Manuel Miranda/Ike Barinholtz/Sharon Jones & the Dap Kings\",\"Jennifer Lawrence/Doris Kearns Goodwin/Sleater-Kinney\",\"Quentin Tarantino/Jonathan Groff/Squeeze\",\"Robert De Niro/Daniel Gilbert/Henry Rollins\",\"Michael Moore/Samantha Power/Michael C. Hall\",\"Mandy Patinkin/Kayvon Beykpour/Leon Bridges\",\"Samuel L. Jackson/Olivia Hallisey/Foals\",\"John Krasinski/Killer Mike/George Church/Foals\",\"Jerry Seinfeld/Sen. Rand Paul/Andra Day\",\"Damian Lewis/America Ferrera/FloydLittle's Double Dutch Team\",\"Matthew Broderick/Sarah Parcak/Kacey Musgraves\",\"Saoirse Ronan/Jeremy Stoppelman/Laura Ricciardi & Moira Demos/James Bay\",\"Paul Giamatti/Guerilla Girls/J.B. Mauney\",\"Olivia Munn/T.J. Miller/Father John Misty\",\"Scott Kelly/Abby Wambach/Maria Bamford\",\"Patricia Heaton/Quincy Jones/DeRay Mckesson/Grace\",\"Charlie Day/Colin Hanks/Margo Price\",\"James Spader/Brandon Marshall/Sarah Koenig/Rev Run\",\"Christian Slater/Josh Radnor/Iggy Pop\",\"Steven Tyler/Gaby Hoffmann/Lapsley\",\"Donald Rumsfeld/Russell Westbrook/Anderson Paak & the Free Nationals\",\"Laurence Fishburne/Sarah Paulson/Woke\",\"Chris Pine/Danielle Brooks/Jonah Reider/Baauer\",\"Josh Brolin/John Dickerson/Erin Brockovich/Aubrie Sellers\",\"John Travolta & Courtney B. Vance/Amy Cuddy/John Moreland\",\"David Schwimmer/Pastor Joel Osteen/M. Ward\",\"Dr. Phil McGraw/Mark & Jay Duplass/Michael Eric Dyson/Anderson Paak & the Free Nationals\",\"Michael Strahan/Samantha Bee/Wilco\",\"Bobby Cannavale/Donny Deutsch/Charles Kelley\",\"Tina Fey & Margot Robbie/Will Ferrell/Megyn Kelly/Keegan-Michael Key & Jordan Peele\",\"Bill O'Reilly/Eddie George/Macklemore & Ryan Lewis\",\"Olivia Wilde/Christiane Amanpour\",\"Ben Stiller/Sen. Bernie Sanders/TAO: Seventeen Samurai\",\"Kelsey Grammer/Fred Armisen/Sarah McDaniel/Ty Segall & the Muggers\",\"Craig Ferguson/Hailey Clauson & Ashley Graham/Cory Booker\",\"Eva Longoria/Abbi Jacobson & Ilana Glazer/Lucinda Williams\",\"Chelsea Handler/Zosia Mamet/The Lumineers\",\"Casey Affleck/Richard Dreyfuss/Mavis Staples\",\"Debra Messing/Zachary Quinto/Violent Femmes\",\"Adrien Brody/Danai Gurira/Brian Greene\",\"Tim Daly/Krysten Ritter/Jason Isbell\",\"Spike Jonze/Jeffrey Dean Morgan/Jack Garratt\",\"Chrissy Teigen/Mike Birbiglia/Adam Savage\",\"Octavia Spencer/John Stamos, Bob Saget & Dave Coulier/Lucius\",\"Christopher Meloni/Edward Byers/Ray LaMontagne\",\"Will Arnett/Charles Barkley/Max Greenfield\",\"Helen Mirren/J.J. Abrams/DMA's\",\"Sally Field/Jerrod Carmichael/Esperanza Spalding\",\"Anna Kendrick/Loretta Lynch/Brian Fallon\",\"Jeff Daniels/Audra McDonald/Mary Elizabeth Winstead\",\"John Oliver/Jordan Spieth/New Order\",\"Steve Martin & Edie Brickell/Shirley MacLaine/Gustavo Dudamel/Los Angeles Philharmonic\",\"Theo James/Jussie Smollett/Laurie Anderson\",\"William H. Macy/Melissa Rauch/Isaac Mizrahi\",\"Tom Hiddleston/Laura Benanti/Frightened Rabbit\",\"Adam Driver/Rachel Bloom/Savages\",\"Eric Stonestreet/Jason Jones/Sen. Elizabeth Warren\",\"Sarah Paulson/Tatiana Maslany/Wynton Marsalis, Lil Buck & Jared Grimes\",\"Steve Buscemi/Benjamin Walker/Cast of Broadway's \\\"American Psycho\\\"\",\"Matthew Perry/Nick Offerman/Explosions in the Sky\",\"Melissa McCarthy & Ben Falcone/Arianna Huffington/Babymetal\",\"Anna Kendrick & Sam Rockwell/David Duchovny/Autolux\",\"Mindy Kaling/Tituss Burgess/Ken Burns\",\"Hillary Clinton/Jesse Tyler Ferguson/Katharine McPhee/Sturgill Simpson\",\"Kevin Spacey/Thomas Middleditch/The Flaming Lips\",\"Tom Hanks/Leslie Odom, Jr./The Strumbellas/Roy Haynes\",\"Julia Louis-Dreyfus/Nikolaj Coster-Waldau/Sam Morril\",\"Susan Sarandon/David Tennant/Catfish & the Bottlemen\",\"Dakota Johnson/Sebastian Stan/Lukas Nelson & Promise of the Real\",\"Chloe Grace Moretz/Katie Couric/Brian Green/Charlamagne Tha God\",\"Kate Beckinsale/B.J. Novak/Desiigner\"]}},\"id\":\"0a2ea28d-d7da-4d8c-a8ad-12225561c307\",\"type\":\"ColumnDataSource\"},{\"attributes\":{\"plot\":{\"id\":\"40af8668-5e73-45d3-b018-7c5232ee1bcc\",\"subtype\":\"Figure\",\"type\":\"Plot\"},\"ticker\":{\"id\":\"40f10540-34a0-4678-9ea2-dc2de5eb7af6\",\"type\":\"DatetimeTicker\"}},\"id\":\"74fe5ff2-61db-41dd-9bdc-2c6648572f8a\",\"type\":\"Grid\"},{\"attributes\":{\"plot\":{\"id\":\"40af8668-5e73-45d3-b018-7c5232ee1bcc\",\"subtype\":\"Figure\",\"type\":\"Plot\"}},\"id\":\"54dfcdde-49c9-48ce-8374-1ce6aeb59479\",\"type\":\"ResetTool\"},{\"attributes\":{\"data_source\":{\"id\":\"8814692e-2696-4601-a5a2-9971823077c5\",\"type\":\"ColumnDataSource\"},\"glyph\":{\"id\":\"bc0a2ea0-f8d1-46f2-8a89-83daec8f9b17\",\"type\":\"Circle\"},\"hover_glyph\":null,\"nonselection_glyph\":{\"id\":\"31346104-661c-4a79-8562-c61174bade72\",\"type\":\"Circle\"},\"selection_glyph\":null},\"id\":\"130a7cc5-8f94-4c7b-9f1b-e664282a9954\",\"type\":\"GlyphRenderer\"},{\"attributes\":{\"formatter\":{\"id\":\"d7bc177e-10fb-4200-ad27-87a9216e7a28\",\"type\":\"BasicTickFormatter\"},\"plot\":{\"id\":\"40af8668-5e73-45d3-b018-7c5232ee1bcc\",\"subtype\":\"Figure\",\"type\":\"Plot\"},\"ticker\":{\"id\":\"d765afc2-ecea-42ec-9031-392739746a15\",\"type\":\"BasicTicker\"}},\"id\":\"16cbe888-e5fb-46f5-9425-36b8da381740\",\"type\":\"LinearAxis\"},{\"attributes\":{\"months\":[0,6]},\"id\":\"cbf27ed1-9d6d-435c-9f38-5072998cf35f\",\"type\":\"MonthsTicker\"},{\"attributes\":{\"days\":[1,15]},\"id\":\"81e43742-b2bf-4fae-8058-6a4105af91d9\",\"type\":\"DaysTicker\"},{\"attributes\":{\"plot\":{\"id\":\"ee1f274f-5bf0-47cc-8519-755f94fac046\",\"subtype\":\"Figure\",\"type\":\"Plot\"}},\"id\":\"b76d51fc-1ee6-4e79-a29b-522a20f95070\",\"type\":\"PreviewSaveTool\"},{\"attributes\":{\"callback\":null},\"id\":\"23895abd-3764-444f-a549-89b18c410680\",\"type\":\"DataRange1d\"},{\"attributes\":{\"plot\":{\"id\":\"ee1f274f-5bf0-47cc-8519-755f94fac046\",\"subtype\":\"Figure\",\"type\":\"Plot\"},\"ticker\":{\"id\":\"62c6637c-9633-447e-90b9-fee304ece093\",\"type\":\"DatetimeTicker\"}},\"id\":\"5680149a-e0cf-4ef3-a7a1-4eed4cbe8cfe\",\"type\":\"Grid\"},{\"attributes\":{\"formatter\":{\"id\":\"55930f9f-3b4d-4496-abdd-7fe8a2c54b45\",\"type\":\"DatetimeTickFormatter\"},\"plot\":{\"id\":\"40af8668-5e73-45d3-b018-7c5232ee1bcc\",\"subtype\":\"Figure\",\"type\":\"Plot\"},\"ticker\":{\"id\":\"40f10540-34a0-4678-9ea2-dc2de5eb7af6\",\"type\":\"DatetimeTicker\"}},\"id\":\"95318575-7fd1-4101-a0da-8d5e0ce657be\",\"type\":\"DatetimeAxis\"},{\"attributes\":{\"formatter\":{\"id\":\"7fa6efc0-ce33-4dd6-97f0-ad961239666e\",\"type\":\"DatetimeTickFormatter\"},\"plot\":{\"id\":\"ee1f274f-5bf0-47cc-8519-755f94fac046\",\"subtype\":\"Figure\",\"type\":\"Plot\"},\"ticker\":{\"id\":\"62c6637c-9633-447e-90b9-fee304ece093\",\"type\":\"DatetimeTicker\"}},\"id\":\"018227f3-024b-4660-8b2a-872beb88a329\",\"type\":\"DatetimeAxis\"},{\"attributes\":{\"plot\":{\"id\":\"ee1f274f-5bf0-47cc-8519-755f94fac046\",\"subtype\":\"Figure\",\"type\":\"Plot\"}},\"id\":\"069d9b08-f375-4693-83e0-8e4400992021\",\"type\":\"ResizeTool\"},{\"attributes\":{\"days\":[1,15]},\"id\":\"23211703-be18-4ad0-81f8-c459eed25f96\",\"type\":\"DaysTicker\"},{\"attributes\":{\"bottom_units\":\"screen\",\"fill_alpha\":{\"value\":0.5},\"fill_color\":{\"value\":\"lightgrey\"},\"left_units\":\"screen\",\"level\":\"overlay\",\"line_alpha\":{\"value\":1.0},\"line_color\":{\"value\":\"black\"},\"line_dash\":[4,4],\"line_width\":{\"value\":2},\"plot\":null,\"render_mode\":\"css\",\"right_units\":\"screen\",\"top_units\":\"screen\"},\"id\":\"7d19fba2-f594-4e5a-b3ff-5f1d75499ed3\",\"type\":\"BoxAnnotation\"},{\"attributes\":{\"plot\":{\"id\":\"40af8668-5e73-45d3-b018-7c5232ee1bcc\",\"subtype\":\"Figure\",\"type\":\"Plot\"}},\"id\":\"649f71ee-f5e6-48c7-ad70-a2bff8dd8b46\",\"type\":\"HelpTool\"},{\"attributes\":{\"base\":60,\"mantissas\":[1,2,5,10,15,20,30],\"max_interval\":1800000.0,\"min_interval\":1000.0,\"num_minor_ticks\":0},\"id\":\"af02676b-efd9-4fec-a6e9-e8ad009ec0bc\",\"type\":\"AdaptiveTicker\"},{\"attributes\":{\"days\":[1,2,3,4,5,6,7,8,9,10,11,12,13,14,15,16,17,18,19,20,21,22,23,24,25,26,27,28,29,30,31]},\"id\":\"5d6d9480-b87d-41da-b2bd-092ff75df186\",\"type\":\"DaysTicker\"},{\"attributes\":{\"fill_color\":{\"value\":\"#1f77b4\"},\"line_color\":{\"value\":\"#1f77b4\"},\"line_width\":{\"value\":2},\"size\":{\"units\":\"screen\",\"value\":5},\"x\":{\"field\":\"air_date\"},\"y\":{\"field\":\"rating\"}},\"id\":\"025686f6-15a8-4f9b-84dc-6377dc14cd17\",\"type\":\"Circle\"},{\"attributes\":{\"months\":[0,6]},\"id\":\"b9d519ea-1780-4d35-a956-03b0ccd5808a\",\"type\":\"MonthsTicker\"},{\"attributes\":{\"formatter\":{\"id\":\"3f87771e-da98-4103-ac42-9b2d79f3c8e3\",\"type\":\"BasicTickFormatter\"},\"plot\":{\"id\":\"ee1f274f-5bf0-47cc-8519-755f94fac046\",\"subtype\":\"Figure\",\"type\":\"Plot\"},\"ticker\":{\"id\":\"055bae0a-e267-4d9c-bfc1-ccbda6d3ca03\",\"type\":\"BasicTicker\"}},\"id\":\"9f31be75-1773-4a00-ae07-9392d553d06f\",\"type\":\"LinearAxis\"},{\"attributes\":{\"plot\":{\"id\":\"ee1f274f-5bf0-47cc-8519-755f94fac046\",\"subtype\":\"Figure\",\"type\":\"Plot\"}},\"id\":\"aed0305c-7282-46a3-9279-6ef153a9a330\",\"type\":\"PanTool\"},{\"attributes\":{\"plot\":{\"id\":\"ee1f274f-5bf0-47cc-8519-755f94fac046\",\"subtype\":\"Figure\",\"type\":\"Plot\"}},\"id\":\"8de715b2-c3c5-42dc-b14f-9c0f1c9e4b65\",\"type\":\"ResetTool\"},{\"attributes\":{\"dimension\":1,\"plot\":{\"id\":\"40af8668-5e73-45d3-b018-7c5232ee1bcc\",\"subtype\":\"Figure\",\"type\":\"Plot\"},\"ticker\":{\"id\":\"d765afc2-ecea-42ec-9031-392739746a15\",\"type\":\"BasicTicker\"}},\"id\":\"3375268c-635a-40c0-8334-35b459924f55\",\"type\":\"Grid\"},{\"attributes\":{\"overlay\":{\"id\":\"7d19fba2-f594-4e5a-b3ff-5f1d75499ed3\",\"type\":\"BoxAnnotation\"},\"plot\":{\"id\":\"40af8668-5e73-45d3-b018-7c5232ee1bcc\",\"subtype\":\"Figure\",\"type\":\"Plot\"}},\"id\":\"ee4bbc83-5cf3-49c7-bbc6-ea0905354f51\",\"type\":\"BoxZoomTool\"},{\"attributes\":{},\"id\":\"7fa6efc0-ce33-4dd6-97f0-ad961239666e\",\"type\":\"DatetimeTickFormatter\"},{\"attributes\":{\"months\":[0,4,8]},\"id\":\"02197c26-0553-42ca-b560-f56be6e3fb38\",\"type\":\"MonthsTicker\"},{\"attributes\":{\"bottom_units\":\"screen\",\"fill_alpha\":{\"value\":0.5},\"fill_color\":{\"value\":\"lightgrey\"},\"left_units\":\"screen\",\"level\":\"overlay\",\"line_alpha\":{\"value\":1.0},\"line_color\":{\"value\":\"black\"},\"line_dash\":[4,4],\"line_width\":{\"value\":2},\"plot\":null,\"render_mode\":\"css\",\"right_units\":\"screen\",\"top_units\":\"screen\"},\"id\":\"cdcd3654-2f6d-4684-afb9-80b9ab503325\",\"type\":\"BoxAnnotation\"},{\"attributes\":{},\"id\":\"fea0ca2c-7ce2-4aac-98fc-fb92b9648278\",\"type\":\"ToolEvents\"},{\"attributes\":{\"data_source\":{\"id\":\"0a2ea28d-d7da-4d8c-a8ad-12225561c307\",\"type\":\"ColumnDataSource\"},\"glyph\":{\"id\":\"025686f6-15a8-4f9b-84dc-6377dc14cd17\",\"type\":\"Circle\"},\"hover_glyph\":null,\"nonselection_glyph\":{\"id\":\"588f726b-fba7-47c4-8fe5-dddd7e2c3c6e\",\"type\":\"Circle\"},\"selection_glyph\":null},\"id\":\"80d44ea0-c985-4e34-a1c9-0ba4f85863eb\",\"type\":\"GlyphRenderer\"},{\"attributes\":{},\"id\":\"3f87771e-da98-4103-ac42-9b2d79f3c8e3\",\"type\":\"BasicTickFormatter\"},{\"attributes\":{},\"id\":\"d7bc177e-10fb-4200-ad27-87a9216e7a28\",\"type\":\"BasicTickFormatter\"},{\"attributes\":{\"base\":24,\"mantissas\":[1,2,4,6,8,12],\"max_interval\":43200000.0,\"min_interval\":3600000.0,\"num_minor_ticks\":0},\"id\":\"873542bb-6ab2-4b07-aa56-b66b8b161f3d\",\"type\":\"AdaptiveTicker\"},{\"attributes\":{\"fill_alpha\":{\"value\":0.1},\"fill_color\":{\"value\":\"#1f77b4\"},\"line_alpha\":{\"value\":0.1},\"line_color\":{\"value\":\"#1f77b4\"},\"line_width\":{\"value\":2},\"size\":{\"units\":\"screen\",\"value\":5},\"x\":{\"field\":\"air_date\"},\"y\":{\"field\":\"rating_count\"}},\"id\":\"31346104-661c-4a79-8562-c61174bade72\",\"type\":\"Circle\"},{\"attributes\":{},\"id\":\"55930f9f-3b4d-4496-abdd-7fe8a2c54b45\",\"type\":\"DatetimeTickFormatter\"},{\"attributes\":{\"months\":[0,2,4,6,8,10]},\"id\":\"ba9e097f-7477-43fb-bc1f-e4e47125ed15\",\"type\":\"MonthsTicker\"},{\"attributes\":{\"months\":[0,1,2,3,4,5,6,7,8,9,10,11]},\"id\":\"f008daca-d31c-49ab-be7c-3c7063820a14\",\"type\":\"MonthsTicker\"},{\"attributes\":{\"base\":60,\"mantissas\":[1,2,5,10,15,20,30],\"max_interval\":1800000.0,\"min_interval\":1000.0,\"num_minor_ticks\":0},\"id\":\"5b4e2e41-ebb3-4391-b818-201a7f2ca855\",\"type\":\"AdaptiveTicker\"},{\"attributes\":{\"overlay\":{\"id\":\"cdcd3654-2f6d-4684-afb9-80b9ab503325\",\"type\":\"BoxAnnotation\"},\"plot\":{\"id\":\"ee1f274f-5bf0-47cc-8519-755f94fac046\",\"subtype\":\"Figure\",\"type\":\"Plot\"}},\"id\":\"3f3b87a7-c1e1-4e1a-a239-9acbc705c7ff\",\"type\":\"BoxZoomTool\"},{\"attributes\":{\"callback\":null,\"plot\":{\"id\":\"40af8668-5e73-45d3-b018-7c5232ee1bcc\",\"subtype\":\"Figure\",\"type\":\"Plot\"},\"tooltips\":[[\"Episode\",\"@number\"],[\"Title\",\"@title\"],[\"Air Date\",\"@air_date_str\"],[\"Rating\",\"@rating{1.11}\"],[\"Rating Count\",\"@rating_count{1.11}\"]]},\"id\":\"89e2e392-ca5b-4ed1-b546-a9f2cc07bffc\",\"type\":\"HoverTool\"},{\"attributes\":{\"dimension\":1,\"plot\":{\"id\":\"ee1f274f-5bf0-47cc-8519-755f94fac046\",\"subtype\":\"Figure\",\"type\":\"Plot\"},\"ticker\":{\"id\":\"055bae0a-e267-4d9c-bfc1-ccbda6d3ca03\",\"type\":\"BasicTicker\"}},\"id\":\"8725d02c-3624-4ef9-be7a-a5ae53027e1f\",\"type\":\"Grid\"},{\"attributes\":{},\"id\":\"1b6e2d60-21b1-407f-93ab-19d5357f4908\",\"type\":\"ToolEvents\"},{\"attributes\":{\"plot\":{\"id\":\"40af8668-5e73-45d3-b018-7c5232ee1bcc\",\"subtype\":\"Figure\",\"type\":\"Plot\"}},\"id\":\"196fad63-3f86-442f-9808-5b6112e09964\",\"type\":\"WheelZoomTool\"},{\"attributes\":{\"days\":[1,8,15,22]},\"id\":\"3e8b194f-af3a-44d1-aa82-589f1c59099f\",\"type\":\"DaysTicker\"},{\"attributes\":{},\"id\":\"73fd36f2-6819-43b2-aa5e-dd23db54bf0b\",\"type\":\"YearsTicker\"},{\"attributes\":{\"plot\":{\"id\":\"40af8668-5e73-45d3-b018-7c5232ee1bcc\",\"subtype\":\"Figure\",\"type\":\"Plot\"}},\"id\":\"9a4384cf-6d6d-41b1-bd2b-eaa7626ded49\",\"type\":\"PreviewSaveTool\"},{\"attributes\":{\"below\":[{\"id\":\"018227f3-024b-4660-8b2a-872beb88a329\",\"type\":\"DatetimeAxis\"}],\"left\":[{\"id\":\"9f31be75-1773-4a00-ae07-9392d553d06f\",\"type\":\"LinearAxis\"}],\"logo\":null,\"plot_height\":400,\"plot_width\":950,\"renderers\":[{\"id\":\"018227f3-024b-4660-8b2a-872beb88a329\",\"type\":\"DatetimeAxis\"},{\"id\":\"5680149a-e0cf-4ef3-a7a1-4eed4cbe8cfe\",\"type\":\"Grid\"},{\"id\":\"9f31be75-1773-4a00-ae07-9392d553d06f\",\"type\":\"LinearAxis\"},{\"id\":\"8725d02c-3624-4ef9-be7a-a5ae53027e1f\",\"type\":\"Grid\"},{\"id\":\"cdcd3654-2f6d-4684-afb9-80b9ab503325\",\"type\":\"BoxAnnotation\"},{\"id\":\"130a7cc5-8f94-4c7b-9f1b-e664282a9954\",\"type\":\"GlyphRenderer\"}],\"title\":\"Number of Ratings per Episode on The Late Show with Stephen Colbert\",\"tool_events\":{\"id\":\"fea0ca2c-7ce2-4aac-98fc-fb92b9648278\",\"type\":\"ToolEvents\"},\"tools\":[{\"id\":\"aed0305c-7282-46a3-9279-6ef153a9a330\",\"type\":\"PanTool\"},{\"id\":\"aa448262-54ba-43f1-aa61-c1ab100d30bc\",\"type\":\"WheelZoomTool\"},{\"id\":\"3f3b87a7-c1e1-4e1a-a239-9acbc705c7ff\",\"type\":\"BoxZoomTool\"},{\"id\":\"b76d51fc-1ee6-4e79-a29b-522a20f95070\",\"type\":\"PreviewSaveTool\"},{\"id\":\"069d9b08-f375-4693-83e0-8e4400992021\",\"type\":\"ResizeTool\"},{\"id\":\"8de715b2-c3c5-42dc-b14f-9c0f1c9e4b65\",\"type\":\"ResetTool\"},{\"id\":\"3bca1188-3513-4e16-b6e2-1088ab702bf7\",\"type\":\"HelpTool\"},{\"id\":\"1fa8b47c-3e5e-4b97-9f77-45703dcf255f\",\"type\":\"HoverTool\"}],\"x_range\":{\"id\":\"7a845387-6d97-4751-96d8-0ca4f59be0fd\",\"type\":\"DataRange1d\"},\"y_range\":{\"id\":\"755eef07-f603-4f67-8dc4-b90fc3b24d90\",\"type\":\"DataRange1d\"}},\"id\":\"ee1f274f-5bf0-47cc-8519-755f94fac046\",\"subtype\":\"Figure\",\"type\":\"Plot\"},{\"attributes\":{\"months\":[0,4,8]},\"id\":\"26989228-ebd2-4cf1-8790-cb8a795e9b54\",\"type\":\"MonthsTicker\"}],\"root_ids\":[\"40af8668-5e73-45d3-b018-7c5232ee1bcc\",\"ee1f274f-5bf0-47cc-8519-755f94fac046\"]},\"title\":\"Bokeh Application\",\"version\":\"0.11.1\"}};\n",
       "            var render_items = [{\"docid\":\"981682b2-c000-462e-b49c-47f278463520\",\"elementid\":\"4eb2f659-4129-44f8-82f3-f7b56f3c2775\",\"modelid\":\"ee1f274f-5bf0-47cc-8519-755f94fac046\",\"notebook_comms_target\":\"80cf8a3a-8221-4b8d-ad3e-7fd5b31fbff5\"}];\n",
       "            \n",
       "            Bokeh.embed.embed_items(docs_json, render_items);\n",
       "        });\n",
       "      },\n",
       "      function(Bokeh) {\n",
       "      }\n",
       "    ];\n",
       "  \n",
       "    function run_inline_js() {\n",
       "      for (var i = 0; i < inline_js.length; i++) {\n",
       "        inline_js[i](window.Bokeh);\n",
       "      }\n",
       "    }\n",
       "  \n",
       "    if (window._bokeh_is_loading === 0) {\n",
       "      console.log(\"Bokeh: BokehJS loaded, going straight to plotting\");\n",
       "      run_inline_js();\n",
       "    } else {\n",
       "      load_libs(js_urls, function() {\n",
       "        console.log(\"Bokeh: BokehJS plotting callback run at\", now());\n",
       "        run_inline_js();\n",
       "      });\n",
       "    }\n",
       "  }(this));\n",
       "</script>"
      ]
     },
     "metadata": {},
     "output_type": "display_data"
    },
    {
     "data": {
      "text/html": [
       "<p><code>&lt;Bokeh Notebook handle for <strong>In[7]</strong>&gt;</code></p>"
      ],
      "text/plain": [
       "<bokeh.io._CommsHandle at 0x11d3a2550>"
      ]
     },
     "execution_count": 7,
     "metadata": {},
     "output_type": "execute_result"
    }
   ],
   "source": [
    "p = plot_interactive_timeseries(x='air_date', y='rating_count', data=episodes, \n",
    "                                title=\"Number of Ratings per Episode on The Late Show with Stephen Colbert\")\n",
    "show(p)"
   ]
  },
  {
   "cell_type": "markdown",
   "metadata": {},
   "source": [
    "## Sentiment Analysis"
   ]
  },
  {
   "cell_type": "code",
   "execution_count": 8,
   "metadata": {
    "collapsed": false,
    "scrolled": false
   },
   "outputs": [
    {
     "data": {
      "text/html": [
       "<div>\n",
       "<table border=\"1\" class=\"dataframe\">\n",
       "  <thead>\n",
       "    <tr style=\"text-align: right;\">\n",
       "      <th></th>\n",
       "      <th>episode_number</th>\n",
       "      <th>air_date</th>\n",
       "      <th>polarity</th>\n",
       "      <th>subjectivity</th>\n",
       "      <th>rating</th>\n",
       "      <th>rating_count</th>\n",
       "    </tr>\n",
       "  </thead>\n",
       "  <tbody>\n",
       "    <tr>\n",
       "      <th>0</th>\n",
       "      <td>1</td>\n",
       "      <td>2015-09-08</td>\n",
       "      <td>0.177883</td>\n",
       "      <td>0.527630</td>\n",
       "      <td>7.5</td>\n",
       "      <td>97.0</td>\n",
       "    </tr>\n",
       "    <tr>\n",
       "      <th>1</th>\n",
       "      <td>2</td>\n",
       "      <td>2015-09-09</td>\n",
       "      <td>0.177891</td>\n",
       "      <td>0.529692</td>\n",
       "      <td>7.5</td>\n",
       "      <td>58.0</td>\n",
       "    </tr>\n",
       "    <tr>\n",
       "      <th>2</th>\n",
       "      <td>3</td>\n",
       "      <td>2015-09-10</td>\n",
       "      <td>0.210318</td>\n",
       "      <td>0.500193</td>\n",
       "      <td>8.6</td>\n",
       "      <td>66.0</td>\n",
       "    </tr>\n",
       "    <tr>\n",
       "      <th>3</th>\n",
       "      <td>4</td>\n",
       "      <td>2015-09-11</td>\n",
       "      <td>0.148042</td>\n",
       "      <td>0.523307</td>\n",
       "      <td>7.4</td>\n",
       "      <td>42.0</td>\n",
       "    </tr>\n",
       "    <tr>\n",
       "      <th>4</th>\n",
       "      <td>5</td>\n",
       "      <td>2015-09-14</td>\n",
       "      <td>0.171476</td>\n",
       "      <td>0.469937</td>\n",
       "      <td>7.9</td>\n",
       "      <td>36.0</td>\n",
       "    </tr>\n",
       "  </tbody>\n",
       "</table>\n",
       "</div>"
      ],
      "text/plain": [
       "   episode_number   air_date  polarity  subjectivity  rating  rating_count\n",
       "0               1 2015-09-08  0.177883      0.527630     7.5          97.0\n",
       "1               2 2015-09-09  0.177891      0.529692     7.5          58.0\n",
       "2               3 2015-09-10  0.210318      0.500193     8.6          66.0\n",
       "3               4 2015-09-11  0.148042      0.523307     7.4          42.0\n",
       "4               5 2015-09-14  0.171476      0.469937     7.9          36.0"
      ]
     },
     "execution_count": 8,
     "metadata": {},
     "output_type": "execute_result"
    }
   ],
   "source": [
    "rows = []\n",
    "for index, row in episodes.iterrows():\n",
    "    if pd.isnull(row.text): continue\n",
    "    blob = TextBlob(row.text)\n",
    "    sentiment = blob.sentiment\n",
    "    row = {\"episode_number\": row.episode_number, \"polarity\": sentiment.polarity, \"subjectivity\": sentiment.subjectivity}\n",
    "    rows.append(row)\n",
    "\n",
    "sentiment = pd.DataFrame(rows).set_index('episode_number')\n",
    "episodes = pd.concat([episodes.set_index('episode_number'), sentiment], axis=1).reset_index()\n",
    "episodes[['episode_number', 'air_date', 'polarity', 'subjectivity', 'rating', 'rating_count']].head()"
   ]
  },
  {
   "cell_type": "code",
   "execution_count": 9,
   "metadata": {
    "collapsed": false
   },
   "outputs": [
    {
     "data": {
      "text/plain": [
       "<matplotlib.legend.Legend at 0x11e09ce10>"
      ]
     },
     "execution_count": 9,
     "metadata": {},
     "output_type": "execute_result"
    },
    {
     "data": {
      "image/png": "[encoded data removed]",
      "text/plain": [
       "<matplotlib.figure.Figure at 0x11e0e1dd8>"
      ]
     },
     "metadata": {},
     "output_type": "display_data"
    }
   ],
   "source": [
    "episodes.set_index('air_date').polarity.plot(style='.')\n",
    "episodes.set_index('air_date').subjectivity.plot(style='.')\n",
    "plt.legend()"
   ]
  },
  {
   "cell_type": "code",
   "execution_count": 10,
   "metadata": {
    "collapsed": false
   },
   "outputs": [
    {
     "data": {
      "text/html": [
       "<table class=\"simpletable\">\n",
       "<caption>OLS Regression Results</caption>\n",
       "<tr>\n",
       "  <th>Dep. Variable:</th>         <td>rating</td>      <th>  R-squared:         </th> <td>   0.006</td>\n",
       "</tr>\n",
       "<tr>\n",
       "  <th>Model:</th>                   <td>OLS</td>       <th>  Adj. R-squared:    </th> <td>  -0.010</td>\n",
       "</tr>\n",
       "<tr>\n",
       "  <th>Method:</th>             <td>Least Squares</td>  <th>  F-statistic:       </th> <td>  0.3882</td>\n",
       "</tr>\n",
       "<tr>\n",
       "  <th>Date:</th>             <td>Thu, 19 May 2016</td> <th>  Prob (F-statistic):</th>  <td> 0.679</td> \n",
       "</tr>\n",
       "<tr>\n",
       "  <th>Time:</th>                 <td>23:07:04</td>     <th>  Log-Likelihood:    </th> <td> -108.24</td>\n",
       "</tr>\n",
       "<tr>\n",
       "  <th>No. Observations:</th>      <td>   122</td>      <th>  AIC:               </th> <td>   222.5</td>\n",
       "</tr>\n",
       "<tr>\n",
       "  <th>Df Residuals:</th>          <td>   119</td>      <th>  BIC:               </th> <td>   230.9</td>\n",
       "</tr>\n",
       "<tr>\n",
       "  <th>Df Model:</th>              <td>     2</td>      <th>                     </th>     <td> </td>   \n",
       "</tr>\n",
       "<tr>\n",
       "  <th>Covariance Type:</th>      <td>nonrobust</td>    <th>                     </th>     <td> </td>   \n",
       "</tr>\n",
       "</table>\n",
       "<table class=\"simpletable\">\n",
       "<tr>\n",
       "        <td></td>          <th>coef</th>     <th>std err</th>      <th>t</th>      <th>P>|t|</th> <th>[95.0% Conf. Int.]</th> \n",
       "</tr>\n",
       "<tr>\n",
       "  <th>Intercept</th>    <td>    6.5507</td> <td>    1.225</td> <td>    5.346</td> <td> 0.000</td> <td>    4.125     8.977</td>\n",
       "</tr>\n",
       "<tr>\n",
       "  <th>subjectivity</th> <td>    2.1932</td> <td>    2.489</td> <td>    0.881</td> <td> 0.380</td> <td>   -2.736     7.122</td>\n",
       "</tr>\n",
       "<tr>\n",
       "  <th>polarity</th>     <td>   -0.3564</td> <td>    1.885</td> <td>   -0.189</td> <td> 0.850</td> <td>   -4.089     3.376</td>\n",
       "</tr>\n",
       "</table>\n",
       "<table class=\"simpletable\">\n",
       "<tr>\n",
       "  <th>Omnibus:</th>       <td> 3.405</td> <th>  Durbin-Watson:     </th> <td>   1.570</td>\n",
       "</tr>\n",
       "<tr>\n",
       "  <th>Prob(Omnibus):</th> <td> 0.182</td> <th>  Jarque-Bera (JB):  </th> <td>   2.819</td>\n",
       "</tr>\n",
       "<tr>\n",
       "  <th>Skew:</th>          <td>-0.321</td> <th>  Prob(JB):          </th> <td>   0.244</td>\n",
       "</tr>\n",
       "<tr>\n",
       "  <th>Kurtosis:</th>      <td> 3.378</td> <th>  Cond. No.          </th> <td>    58.7</td>\n",
       "</tr>\n",
       "</table>"
      ],
      "text/plain": [
       "<class 'statsmodels.iolib.summary.Summary'>\n",
       "\"\"\"\n",
       "                            OLS Regression Results                            \n",
       "==============================================================================\n",
       "Dep. Variable:                 rating   R-squared:                       0.006\n",
       "Model:                            OLS   Adj. R-squared:                 -0.010\n",
       "Method:                 Least Squares   F-statistic:                    0.3882\n",
       "Date:                Thu, 19 May 2016   Prob (F-statistic):              0.679\n",
       "Time:                        23:07:04   Log-Likelihood:                -108.24\n",
       "No. Observations:                 122   AIC:                             222.5\n",
       "Df Residuals:                     119   BIC:                             230.9\n",
       "Df Model:                           2                                         \n",
       "Covariance Type:            nonrobust                                         \n",
       "================================================================================\n",
       "                   coef    std err          t      P>|t|      [95.0% Conf. Int.]\n",
       "--------------------------------------------------------------------------------\n",
       "Intercept        6.5507      1.225      5.346      0.000         4.125     8.977\n",
       "subjectivity     2.1932      2.489      0.881      0.380        -2.736     7.122\n",
       "polarity        -0.3564      1.885     -0.189      0.850        -4.089     3.376\n",
       "==============================================================================\n",
       "Omnibus:                        3.405   Durbin-Watson:                   1.570\n",
       "Prob(Omnibus):                  0.182   Jarque-Bera (JB):                2.819\n",
       "Skew:                          -0.321   Prob(JB):                        0.244\n",
       "Kurtosis:                       3.378   Cond. No.                         58.7\n",
       "==============================================================================\n",
       "\n",
       "Warnings:\n",
       "[1] Standard Errors assume that the covariance matrix of the errors is correctly specified.\n",
       "\"\"\""
      ]
     },
     "execution_count": 10,
     "metadata": {},
     "output_type": "execute_result"
    }
   ],
   "source": [
    "mod = smf.ols(formula='rating ~ subjectivity + polarity', data=episodes)\n",
    "res = mod.fit()\n",
    "res.summary()"
   ]
  },
  {
   "cell_type": "markdown",
   "metadata": {},
   "source": [
    "## Subtitles of Most Recent Episodes"
   ]
  },
  {
   "cell_type": "code",
   "execution_count": 11,
   "metadata": {
    "collapsed": false,
    "scrolled": false
   },
   "outputs": [
    {
     "data": {
      "text/html": [
       "<strong>140 Kate Beckinsale/B.J. Novak/Desiigner</strong>"
      ],
      "text/plain": [
       "<IPython.core.display.HTML object>"
      ]
     },
     "metadata": {},
     "output_type": "display_data"
    },
    {
     "name": "stdout",
     "output_type": "stream",
     "text": [
      "Captioning sponsored by CBS\n",
      "Stephen: BUT I LOVE DONUTS. JUST TELL THEM TO BRING THE DONUTS. WE DON'T HAVE TO TALK ABOUT THE MOVIE. I'D LOVE TO HAVE HIM ON THE SHOW. THAT WOULD BE GREAT. LIZ.\n",
      "STEPHEN.\n",
      "Stephen: WE MEET AGAIN. WHAT CAN I DO FOR YOU?\n",
      "IN THE BROADWAY COLD OPEN, DO YOU ACTUALLY WANT TO PARTICIPATE IN THE DANCE, OR DO YOU JUST WANT TO BANG ON A DRUM AND NOT DO MUCH GLP I'LL JUST BANG ON A DRUM.\n",
      "GREAT.\n",
      "Stephen: ANY OTHER FOLLOW-UP QUESTIONS.\n",
      "YES, DOES THAT MEAN THEY DON'T HAVE TO COME EARLY AND REHEARSE.\n",
      "Stephen: YES, I'M BEAMING UP. I WANT TO DANCE, OR I DON'T. FIND OUT.\n",
      "TONIGHT, STEPHEN WELCOMES KATE BECKINSALE AND A MUSICAL PERFORMANCE BY DESIIGNER. FEATURING JON BATISTE AND STAY HUMAN. AND NOW IT'S TIME FOR \"THE LATE SHOW\" WITH STEPHEN COLBERT\"! ( CHEERS AND APPLAUSE )\n",
      "Stephen...\n",
      "\n",
      "----------------------------------\n",
      "\n"
     ]
    },
    {
     "data": {
      "text/html": [
       "<strong>141 Ryan Gosling & Russell Crowe/Jessie Mueller/Animal Collective</strong>"
      ],
      "text/plain": [
       "<IPython.core.display.HTML object>"
      ]
     },
     "metadata": {},
     "output_type": "display_data"
    },
    {
     "name": "stdout",
     "output_type": "stream",
     "text": [
      "Stephen: I AM SO EXCITED ABOUT TONIGHT'S SHOW. BOTH RYAN GOSLING AND RUSSELL CROWE ARE HERE AND I'M GOING TO STOP BY AND SAY HI. DO ALL OF YOU NEED TO BE HERE RIGHT NOW? (LAUGHTER)\n",
      "YES, WE ALL NEED TO BE DOWN HERE. FOR WORK.\n",
      "Stephen: OH, REALLY? SO YOU'RE NOT JUST STANDING HERE WAITING FOR RYAN GOSLING AND RUSSELL CROWE TO WALK OUT?\n",
      "NO. ARE THEY ON THE SHOW TONIGHT? WE DIDN'T EVEN REALIZE. AWKWARD.\n",
      "Stephen: WELL, I'M GOING TO SAY HI.\n",
      "WE WILL WATCH YOU.\n",
      "Announcer: TONIGHT, STEPHEN WELCOMES RYAN GOSLING AND RUSSELL CROWE! JESSIE MUELLER! AND A MUSICAL PERFORMANCE BY ANIMAL COLLECTIVE! FEATURING JON BATISTE AND \"STAY HUMAN\"! (CHEERS AND APPLAUSE) AND NOW IT'S TIME FOR \"THE LATE SHOW\" WITH STEPHEN COLBERT! (CHEERS AND APPLAUSE) ♪  Captioning sponsored by CBS ♪ ♪ ♪\n",
      "Stephen: HEY! HEY, EVERYBODY!...\n",
      "\n",
      "----------------------------------\n",
      "\n"
     ]
    },
    {
     "data": {
      "text/html": [
       "<strong>142 Matt Bomer/Zach Woods/Nick Griffin</strong>"
      ],
      "text/plain": [
       "<IPython.core.display.HTML object>"
      ]
     },
     "metadata": {},
     "output_type": "display_data"
    },
    {
     "name": "stdout",
     "output_type": "stream",
     "text": [
      "ARE YOU READY FOR MAIRK UP?\n",
      "Stephen: YEAH. I WANT TO TRY A DIFFERENT LOOK TONIGHT, THOUGH.\n",
      "OKAY. ( LAUGHTER ).\n",
      "Stephen: THAT'S A LITTLE TOO SALVADOR DAWLEY. SOMETHING ELSE. OOH, I LIKE McGREET, BUT I WON'T BE ABLE TO SEE MY GUESTS. SOMETHING ELSE. WOW! PICASSO IS BOLD, BUT MY GLASSES WON'T FIT. ( LAUGHTER ) JUST GIVE ME SOMETHING SIMPLE AND MASCULINE. OH, YEAH, SEXY GINGER.\n",
      "TONIGHT, STEPHEN WELCOMES MATT BOMER ZACH WOODS AND A PERFORMANCE BY COMEDIAN NICK GRIFFIN. FEATURING JON BATISTE AND STAY HUMAN. AND NOW IT'S TIME FOR \"THE LATE SHOW WITH STEPHEN COLBERT\"! ( CHEERS AND APPLAUSE )\n",
      "Stephen: HEY! HEY! BOOM! BA! WELCOME. HEY, EVERYBODY. HEY, YOU DOWN THERE. SORRY, I DROPPED MY PHONE. I DROPPED MY PHONE. I ALWAYS JUST CARRY A PHONE WITH ME. JUST IN CASE. I GOTTA GO. I GOTTA TALK TO-- SORRY,...\n",
      "\n",
      "----------------------------------\n",
      "\n"
     ]
    },
    {
     "data": {
      "text/html": [
       "<strong>143 Jason Sudeikis/Michael Weatherly/Megyn Kelly</strong>"
      ],
      "text/plain": [
       "<IPython.core.display.HTML object>"
      ]
     },
     "metadata": {},
     "output_type": "display_data"
    },
    {
     "name": "stdout",
     "output_type": "stream",
     "text": [
      "Stephen: GOOD EVENING. I'M STEPHEN COLBERT. BEFORE WE BEGIN: A DISCLAIMER AND A  WARNING FOR VIEWERS OF TONIGHT'S EPISODE. DUE TO NEWS EVENTS BEYOND OUR CONTROL, TONIGHT'S BROADCAST OF \"THE LATE SHOW\" CONTAINS GRAPHIC MATERIAL, SPECIFICALLY THE PHRASE: \"DONALD TRUMP KISSED VARIOUS WOMEN ON THE MOUTH.\" (LAUGHTER)\n",
      "Stephen: I'M SORRY. THIS MATERIAL MAY BE UNSUITABLE FOR SOME VIEWERS, INCLUDING CHILDREN, ADULTS AND LIVING CREATURES WITH A MOUTH. ADDITIONALLY, VIEWERS WITH \"EYES\" SHOULD BE WARNED THAT WE MAY SHOW IMAGES SUCH AS THIS: THIS... OR EVEN THIS. (AUDIENCE REACTS) IT WAS A SLOW YEAR AT THE MISS UNIVERSE PAGEANT. AND ONE FINAL DISCLAIMER: THIS SHOW WILL CONTAIN REFERENCES TO THE FACT THAT DONALD TRUMP MAY BECOME PRESIDENT.  Captioning sponsored by CBS\n",
      "Announcer: TONIGHT... STEPHEN WELCO...\n",
      "\n",
      "----------------------------------\n",
      "\n"
     ]
    },
    {
     "data": {
      "text/html": [
       "<strong>144 Anthony Anderson/Eugene Levy & Catherine O'Hara/Coldplay</strong>"
      ],
      "text/plain": [
       "<IPython.core.display.HTML object>"
      ]
     },
     "metadata": {},
     "output_type": "display_data"
    },
    {
     "name": "stdout",
     "output_type": "stream",
     "text": [
      "Stephen: HEY, CHRIS.\n",
      "HEY, STEPHEN GR HEY, MAN, THANKS SO MUCH FOR BEING HERE. WE'RE SO EXCITED COLDPLAY IS ON THE SHOW TONIGHT.\n",
      "IT LOOKS LIKE AN AMAZING SHOW.\n",
      "Stephen: YEAR GOING TO HAVE A GOOD TIME.\n",
      "EVERYTHING LOOKS GREAT, JUST ONE THING.\n",
      "Stephen: ABOUT THE SHOW?\n",
      "ABOUT THEE SONG.\n",
      "Stephen: IS THEREHING WRONG WITH THE THEME\n",
      "NO, THE TUNE ISAT, THE TUNE IS GREAT, BUT I FEEL LIK IT NEEDS WOR IT NEEDS LYRICS SO I'VE BEEN WORKING ON IT RIGHT HERE YOU.\n",
      "Stephen:  WROTE LYRICS TO OUR THEME SONG?\n",
      "I DID.\n",
      "Stephen: I CAN HEAR THEM?\n",
      "YOU KNOW HOW THE SHOW OPENS WITH THE DRUM SHOAL. AND SHOO-BE-DO-DOP. SHOO-DOO-DOP-DOO.\n",
      "Stephen: THAT'S OUR THEME\n",
      "THANKS, MAN, I'M GLAD YOU LOVE IT.\n",
      "Stephen: I'M SORRY, ARE THOSE THE LYRICS?\n",
      "YEAH.\n",
      "Stephen: DOOBY-SHOULD, OF SHOO-BE-DO. SHOO-BE-DO-BE-DO,.\n",
      "Stephen: BE-DO, YEAH.\n",
      "...\n",
      "\n",
      "----------------------------------\n",
      "\n"
     ]
    }
   ],
   "source": [
    "for i, row in episodes.tail(5).iterrows():\n",
    "    if pd.isnull(row.text): continue\n",
    "    printb(row.episode_number, row.title)\n",
    "    print(row.text[:800] + '...')\n",
    "    print(\"\\n----------------------------------\\n\")"
   ]
  }
 ],
 "metadata": {
  "kernelspec": {
   "display_name": "Python 3",
   "language": "python",
   "name": "python3"
  },
  "language_info": {
   "codemirror_mode": {
    "name": "ipython",
    "version": 3
   },
   "file_extension": ".py",
   "mimetype": "text/x-python",
   "name": "python",
   "nbconvert_exporter": "python",
   "pygments_lexer": "ipython3",
   "version": "3.5.1"
  }
 },
 "nbformat": 4,
 "nbformat_minor": 0
}
