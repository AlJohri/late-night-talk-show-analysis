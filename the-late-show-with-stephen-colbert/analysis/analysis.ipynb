{
 "cells": [
  {
   "cell_type": "markdown",
   "metadata": {},
   "source": [
    "# The Late Show with Stephen Colbert Analysis"
   ]
  },
  {
   "cell_type": "markdown",
   "metadata": {},
   "source": [
    "## Standard Imports"
   ]
  },
  {
   "cell_type": "code",
   "execution_count": 1,
   "metadata": {
    "collapsed": false
   },
   "outputs": [
    {
     "data": {
      "text/html": []
     },
     "metadata": {},
     "output_type": "display_data"
    },
    {
     "data": {
      "application/javascript": [
       "\n",
       "(function(global) {\n",
       "  function now() {\n",
       "    return new Date();\n",
       "  }\n",
       "\n",
       "  if (typeof (window._bokeh_onload_callbacks) === \"undefined\") {\n",
       "    window._bokeh_onload_callbacks = [];\n",
       "  }\n",
       "\n",
       "  function run_callbacks() {\n",
       "    window._bokeh_onload_callbacks.forEach(function(callback) { callback() });\n",
       "    delete window._bokeh_onload_callbacks\n",
       "    console.info(\"Bokeh: all callbacks have finished\");\n",
       "  }\n",
       "\n",
       "  function load_libs(js_urls, callback) {\n",
       "    window._bokeh_onload_callbacks.push(callback);\n",
       "    if (window._bokeh_is_loading > 0) {\n",
       "      console.log(\"Bokeh: BokehJS is being loaded, scheduling callback at\", now());\n",
       "      return null;\n",
       "    }\n",
       "    if (js_urls == null || js_urls.length === 0) {\n",
       "      run_callbacks();\n",
       "      return null;\n",
       "    }\n",
       "    console.log(\"Bokeh: BokehJS not loaded, scheduling load and callback at\", now());\n",
       "    window._bokeh_is_loading = js_urls.length;\n",
       "    for (var i = 0; i < js_urls.length; i++) {\n",
       "      var url = js_urls[i];\n",
       "      var s = document.createElement('script');\n",
       "      s.src = url;\n",
       "      s.async = false;\n",
       "      s.onreadystatechange = s.onload = function() {\n",
       "        window._bokeh_is_loading--;\n",
       "        if (window._bokeh_is_loading === 0) {\n",
       "          console.log(\"Bokeh: all BokehJS libraries loaded\");\n",
       "          run_callbacks()\n",
       "        }\n",
       "      };\n",
       "      s.onerror = function() {\n",
       "        console.warn(\"failed to load library \" + url);\n",
       "      };\n",
       "      console.log(\"Bokeh: injecting script tag for BokehJS library: \", url);\n",
       "      document.getElementsByTagName(\"head\")[0].appendChild(s);\n",
       "    }\n",
       "  };\n",
       "\n",
       "  var js_urls = ['https://cdn.pydata.org/bokeh/release/bokeh-0.11.1.min.js', 'https://cdn.pydata.org/bokeh/release/bokeh-widgets-0.11.1.min.js', 'https://cdn.pydata.org/bokeh/release/bokeh-compiler-0.11.1.min.js'];\n",
       "\n",
       "  var inline_js = [\n",
       "    function(Bokeh) {\n",
       "      Bokeh.set_log_level(\"info\");\n",
       "    },\n",
       "    \n",
       "    function(Bokeh) {\n",
       "      Bokeh.$(\"#51d017be-9427-4b4e-82bc-52e6bb4d2569\").text(\"BokehJS successfully loaded\");\n",
       "    },\n",
       "    function(Bokeh) {\n",
       "      console.log(\"Bokeh: injecting CSS: https://cdn.pydata.org/bokeh/release/bokeh-0.11.1.min.css\");\n",
       "      Bokeh.embed.inject_css(\"https://cdn.pydata.org/bokeh/release/bokeh-0.11.1.min.css\");\n",
       "      console.log(\"Bokeh: injecting CSS: https://cdn.pydata.org/bokeh/release/bokeh-widgets-0.11.1.min.css\");\n",
       "      Bokeh.embed.inject_css(\"https://cdn.pydata.org/bokeh/release/bokeh-widgets-0.11.1.min.css\");\n",
       "    }\n",
       "  ];\n",
       "\n",
       "  function run_inline_js() {\n",
       "    for (var i = 0; i < inline_js.length; i++) {\n",
       "      inline_js[i](window.Bokeh);\n",
       "    }\n",
       "  }\n",
       "\n",
       "  if (window._bokeh_is_loading === 0) {\n",
       "    console.log(\"Bokeh: BokehJS loaded, going straight to plotting\");\n",
       "    run_inline_js();\n",
       "  } else {\n",
       "    load_libs(js_urls, function() {\n",
       "      console.log(\"Bokeh: BokehJS plotting callback run at\", now());\n",
       "      run_inline_js();\n",
       "    });\n",
       "  }\n",
       "}(this));"
      ]
     },
     "metadata": {},
     "output_type": "display_data"
    }
   ],
   "source": [
    "%matplotlib inline\n",
    "from matplotlib import pyplot as plt\n",
    "\n",
    "import pandas as pd\n",
    "import seaborn as sns\n",
    "from textblob import TextBlob\n",
    "import statsmodels.formula.api as smf\n",
    "\n",
    "plt.rcParams['figure.figsize'] = (20,6)\n",
    "\n",
    "from bokeh.plotting import output_notebook, show\n",
    "output_notebook(hide_banner=True)\n",
    "\n",
    "from IPython.display import display, HTML\n",
    "def printb(*args):\n",
    "    s = \" \".join([str(x) for x in args])\n",
    "    display(HTML('<strong>%s</strong>' % s))\n",
    "\n",
    "hover_cols = ['episode_number', 'title', 'air_date', 'rating', 'rating_count']\n",
    "\n",
    "from analysis_utils import create_df\n",
    "from lib.analysis_utils import plot_interactive_timeseries"
   ]
  },
  {
   "cell_type": "markdown",
   "metadata": {},
   "source": [
    "## Load Data"
   ]
  },
  {
   "cell_type": "code",
   "execution_count": 2,
   "metadata": {
    "collapsed": false
   },
   "outputs": [
    {
     "data": {
      "text/html": [
       "<div>\n",
       "<table border=\"1\" class=\"dataframe\">\n",
       "  <thead>\n",
       "    <tr style=\"text-align: right;\">\n",
       "      <th></th>\n",
       "      <th>episode_number</th>\n",
       "      <th>rating</th>\n",
       "      <th>rating_count</th>\n",
       "      <th>air_date</th>\n",
       "      <th>title</th>\n",
       "      <th>description</th>\n",
       "      <th>text</th>\n",
       "    </tr>\n",
       "  </thead>\n",
       "  <tbody>\n",
       "    <tr>\n",
       "      <th>0</th>\n",
       "      <td>1</td>\n",
       "      <td>7.5</td>\n",
       "      <td>97.0</td>\n",
       "      <td>2015-09-08</td>\n",
       "      <td>George Clooney/Governor Jeb Bush/Mavis Staples...</td>\n",
       "      <td>Stephen Colbert succeeds David Letterman as \"L...</td>\n",
       "      <td>OH, SAY CAN YOU SEE BY THE DAWN'S EARLY LIGHT ...</td>\n",
       "    </tr>\n",
       "    <tr>\n",
       "      <th>1</th>\n",
       "      <td>2</td>\n",
       "      <td>7.5</td>\n",
       "      <td>58.0</td>\n",
       "      <td>2015-09-09</td>\n",
       "      <td>Scarlett Johansson/Elon Musk/Kendrick Lamar</td>\n",
       "      <td>Scarlett Johansson (Avengers: Age of Ultron (2...</td>\n",
       "      <td>♪ ♪ ♪  Captioning sponsored by CBS\\nStephen: W...</td>\n",
       "    </tr>\n",
       "    <tr>\n",
       "      <th>2</th>\n",
       "      <td>3</td>\n",
       "      <td>8.6</td>\n",
       "      <td>66.0</td>\n",
       "      <td>2015-09-10</td>\n",
       "      <td>Vice President Joe Biden/Travis Kalanick/Toby ...</td>\n",
       "      <td>Vice President Joe Biden; Uber CEO Travis Kala...</td>\n",
       "      <td>(CHEERS AND APPLAUSE)\\nStephen: HEY! (CHEERS A...</td>\n",
       "    </tr>\n",
       "    <tr>\n",
       "      <th>3</th>\n",
       "      <td>4</td>\n",
       "      <td>7.4</td>\n",
       "      <td>42.0</td>\n",
       "      <td>2015-09-11</td>\n",
       "      <td>Amy Schumer/Stephen King/Troubled Waters</td>\n",
       "      <td>Amy Schumer (Trainwreck (2015)); author Stephe...</td>\n",
       "      <td>COME ON! COME ON! ♪ ♪ ♪ ( CHEERS AND APPLAUSE ...</td>\n",
       "    </tr>\n",
       "    <tr>\n",
       "      <th>4</th>\n",
       "      <td>5</td>\n",
       "      <td>7.9</td>\n",
       "      <td>36.0</td>\n",
       "      <td>2015-09-14</td>\n",
       "      <td>Emily Blunt/Justice Stephen Breyer/The Dead We...</td>\n",
       "      <td>Actress Emily Blunt (Sicario (2015)); Supreme ...</td>\n",
       "      <td>(  BAND PLAYING  \"LATE SHOW\" THEME  ) (  CHEER...</td>\n",
       "    </tr>\n",
       "  </tbody>\n",
       "</table>\n",
       "</div>"
      ],
      "text/plain": [
       "   episode_number  rating  rating_count   air_date  \\\n",
       "0               1     7.5          97.0 2015-09-08   \n",
       "1               2     7.5          58.0 2015-09-09   \n",
       "2               3     8.6          66.0 2015-09-10   \n",
       "3               4     7.4          42.0 2015-09-11   \n",
       "4               5     7.9          36.0 2015-09-14   \n",
       "\n",
       "                                               title  \\\n",
       "0  George Clooney/Governor Jeb Bush/Mavis Staples...   \n",
       "1        Scarlett Johansson/Elon Musk/Kendrick Lamar   \n",
       "2  Vice President Joe Biden/Travis Kalanick/Toby ...   \n",
       "3           Amy Schumer/Stephen King/Troubled Waters   \n",
       "4  Emily Blunt/Justice Stephen Breyer/The Dead We...   \n",
       "\n",
       "                                         description  \\\n",
       "0  Stephen Colbert succeeds David Letterman as \"L...   \n",
       "1  Scarlett Johansson (Avengers: Age of Ultron (2...   \n",
       "2  Vice President Joe Biden; Uber CEO Travis Kala...   \n",
       "3  Amy Schumer (Trainwreck (2015)); author Stephe...   \n",
       "4  Actress Emily Blunt (Sicario (2015)); Supreme ...   \n",
       "\n",
       "                                                text  \n",
       "0  OH, SAY CAN YOU SEE BY THE DAWN'S EARLY LIGHT ...  \n",
       "1  ♪ ♪ ♪  Captioning sponsored by CBS\\nStephen: W...  \n",
       "2  (CHEERS AND APPLAUSE)\\nStephen: HEY! (CHEERS A...  \n",
       "3  COME ON! COME ON! ♪ ♪ ♪ ( CHEERS AND APPLAUSE ...  \n",
       "4  (  BAND PLAYING  \"LATE SHOW\" THEME  ) (  CHEER...  "
      ]
     },
     "execution_count": 2,
     "metadata": {},
     "output_type": "execute_result"
    }
   ],
   "source": [
    "episodes = create_df()\n",
    "episodes.head()"
   ]
  },
  {
   "cell_type": "markdown",
   "metadata": {},
   "source": [
    "## Distribution of Rating and Rating Count"
   ]
  },
  {
   "cell_type": "markdown",
   "metadata": {},
   "source": [
    "Number of episodes with null rating (< 5 ratings)"
   ]
  },
  {
   "cell_type": "code",
   "execution_count": 3,
   "metadata": {
    "collapsed": false
   },
   "outputs": [
    {
     "data": {
      "text/plain": [
       "17"
      ]
     },
     "execution_count": 3,
     "metadata": {},
     "output_type": "execute_result"
    }
   ],
   "source": [
    "episodes.rating.isnull().sum()"
   ]
  },
  {
   "cell_type": "code",
   "execution_count": 4,
   "metadata": {
    "collapsed": false
   },
   "outputs": [
    {
     "data": {
      "text/html": [
       "<div>\n",
       "<table border=\"1\" class=\"dataframe\">\n",
       "  <thead>\n",
       "    <tr style=\"text-align: right;\">\n",
       "      <th></th>\n",
       "      <th>count</th>\n",
       "      <th>mean</th>\n",
       "      <th>std</th>\n",
       "      <th>min</th>\n",
       "      <th>25%</th>\n",
       "      <th>50%</th>\n",
       "      <th>75%</th>\n",
       "      <th>max</th>\n",
       "    </tr>\n",
       "  </thead>\n",
       "  <tbody>\n",
       "    <tr>\n",
       "      <th>rating</th>\n",
       "      <td>127.0</td>\n",
       "      <td>7.578740</td>\n",
       "      <td>0.585761</td>\n",
       "      <td>5.9</td>\n",
       "      <td>7.2</td>\n",
       "      <td>7.7</td>\n",
       "      <td>8.0</td>\n",
       "      <td>9.2</td>\n",
       "    </tr>\n",
       "    <tr>\n",
       "      <th>rating_count</th>\n",
       "      <td>127.0</td>\n",
       "      <td>13.228346</td>\n",
       "      <td>12.287682</td>\n",
       "      <td>5.0</td>\n",
       "      <td>7.0</td>\n",
       "      <td>9.0</td>\n",
       "      <td>14.0</td>\n",
       "      <td>97.0</td>\n",
       "    </tr>\n",
       "  </tbody>\n",
       "</table>\n",
       "</div>"
      ],
      "text/plain": [
       "              count       mean        std  min  25%  50%   75%   max\n",
       "rating        127.0   7.578740   0.585761  5.9  7.2  7.7   8.0   9.2\n",
       "rating_count  127.0  13.228346  12.287682  5.0  7.0  9.0  14.0  97.0"
      ]
     },
     "execution_count": 4,
     "metadata": {},
     "output_type": "execute_result"
    }
   ],
   "source": [
    "episodes[['rating', 'rating_count']].describe().T"
   ]
  },
  {
   "cell_type": "code",
   "execution_count": 5,
   "metadata": {
    "collapsed": false
   },
   "outputs": [
    {
     "data": {
      "text/plain": [
       "<matplotlib.axes._subplots.AxesSubplot at 0x1173e9080>"
      ]
     },
     "execution_count": 5,
     "metadata": {},
     "output_type": "execute_result"
    },
    {
     "data": {
      "image/png": "[encoded data removed]",
      "text/plain": [
       "<matplotlib.figure.Figure at 0x1171903c8>"
      ]
     },
     "metadata": {},
     "output_type": "display_data"
    }
   ],
   "source": [
    "fig, (ax1, ax2) = plt.subplots(ncols=2)\n",
    "\n",
    "episodes.rating.plot(kind='hist', bins=20, ax=ax1, title=\"Histogram of Ratings\")\n",
    "episodes.rating_count.plot(kind='hist', bins=20, ax=ax2, title=\"Histogram of Rating Counts\")"
   ]
  },
  {
   "cell_type": "markdown",
   "metadata": {},
   "source": [
    "## Ratings over Time"
   ]
  },
  {
   "cell_type": "code",
   "execution_count": 6,
   "metadata": {
    "collapsed": false
   },
   "outputs": [
    {
     "data": {
      "text/html": [
       "\n",
       "\n",
       "    <div class=\"plotdiv\" id=\"32c2be70-0696-4d76-bbaf-9c5a93249db2\"></div>\n",
       "<script type=\"text/javascript\">\n",
       "  \n",
       "  (function(global) {\n",
       "    function now() {\n",
       "      return new Date();\n",
       "    }\n",
       "  \n",
       "    if (typeof (window._bokeh_onload_callbacks) === \"undefined\") {\n",
       "      window._bokeh_onload_callbacks = [];\n",
       "    }\n",
       "  \n",
       "    function run_callbacks() {\n",
       "      window._bokeh_onload_callbacks.forEach(function(callback) { callback() });\n",
       "      delete window._bokeh_onload_callbacks\n",
       "      console.info(\"Bokeh: all callbacks have finished\");\n",
       "    }\n",
       "  \n",
       "    function load_libs(js_urls, callback) {\n",
       "      window._bokeh_onload_callbacks.push(callback);\n",
       "      if (window._bokeh_is_loading > 0) {\n",
       "        console.log(\"Bokeh: BokehJS is being loaded, scheduling callback at\", now());\n",
       "        return null;\n",
       "      }\n",
       "      if (js_urls == null || js_urls.length === 0) {\n",
       "        run_callbacks();\n",
       "        return null;\n",
       "      }\n",
       "      console.log(\"Bokeh: BokehJS not loaded, scheduling load and callback at\", now());\n",
       "      window._bokeh_is_loading = js_urls.length;\n",
       "      for (var i = 0; i < js_urls.length; i++) {\n",
       "        var url = js_urls[i];\n",
       "        var s = document.createElement('script');\n",
       "        s.src = url;\n",
       "        s.async = false;\n",
       "        s.onreadystatechange = s.onload = function() {\n",
       "          window._bokeh_is_loading--;\n",
       "          if (window._bokeh_is_loading === 0) {\n",
       "            console.log(\"Bokeh: all BokehJS libraries loaded\");\n",
       "            run_callbacks()\n",
       "          }\n",
       "        };\n",
       "        s.onerror = function() {\n",
       "          console.warn(\"failed to load library \" + url);\n",
       "        };\n",
       "        console.log(\"Bokeh: injecting script tag for BokehJS library: \", url);\n",
       "        document.getElementsByTagName(\"head\")[0].appendChild(s);\n",
       "      }\n",
       "    };var element = document.getElementById(\"32c2be70-0696-4d76-bbaf-9c5a93249db2\");\n",
       "    if (element == null) {\n",
       "      console.log(\"Bokeh: ERROR: autoload.js configured with elementid '32c2be70-0696-4d76-bbaf-9c5a93249db2' but no matching script tag was found. \")\n",
       "      return false;\n",
       "    }\n",
       "  \n",
       "    var js_urls = [];\n",
       "  \n",
       "    var inline_js = [\n",
       "      function(Bokeh) {\n",
       "        Bokeh.$(function() {\n",
       "            var docs_json = {\"121bb549-26e9-4690-af16-5567ec82d186\":{\"roots\":{\"references\":[{\"attributes\":{\"days\":[1,4,7,10,13,16,19,22,25,28]},\"id\":\"fd7061f5-a25c-4287-8d9b-1ed19bf255bb\",\"type\":\"DaysTicker\"},{\"attributes\":{\"months\":[0,1,2,3,4,5,6,7,8,9,10,11]},\"id\":\"fc816a86-b6f7-4a64-8092-513678aaf347\",\"type\":\"MonthsTicker\"},{\"attributes\":{\"months\":[0,6]},\"id\":\"03a512a6-06dd-4275-9a0d-cc8ca0dd1752\",\"type\":\"MonthsTicker\"},{\"attributes\":{\"plot\":{\"id\":\"bf2b4baa-119b-4018-abfa-f3fbafd8b120\",\"subtype\":\"Figure\",\"type\":\"Plot\"}},\"id\":\"88865837-be1a-4aa8-a74b-37411747e13c\",\"type\":\"ResizeTool\"},{\"attributes\":{},\"id\":\"de41d040-284d-4db5-b0ac-2f14e7455ae4\",\"type\":\"ToolEvents\"},{\"attributes\":{\"plot\":{\"id\":\"bf2b4baa-119b-4018-abfa-f3fbafd8b120\",\"subtype\":\"Figure\",\"type\":\"Plot\"}},\"id\":\"73347f5f-1813-4dd7-b2c4-c567955af081\",\"type\":\"PreviewSaveTool\"},{\"attributes\":{\"days\":[1,15]},\"id\":\"f4c08ab9-bf47-453a-a45f-65d35c6a5cba\",\"type\":\"DaysTicker\"},{\"attributes\":{\"fill_color\":{\"value\":\"#1f77b4\"},\"line_color\":{\"value\":\"#1f77b4\"},\"line_width\":{\"value\":2},\"size\":{\"units\":\"screen\",\"value\":5},\"x\":{\"field\":\"air_date\"},\"y\":{\"field\":\"rating\"}},\"id\":\"a5aa2374-e5f1-48f0-a1fc-ca4fc43111e2\",\"type\":\"Circle\"},{\"attributes\":{},\"id\":\"463ce6b9-0ea3-45ae-be5f-4e7cff31b9b1\",\"type\":\"BasicTicker\"},{\"attributes\":{\"formatter\":{\"id\":\"62cedab1-f21a-41d3-b7d8-b75549509fcf\",\"type\":\"DatetimeTickFormatter\"},\"plot\":{\"id\":\"bf2b4baa-119b-4018-abfa-f3fbafd8b120\",\"subtype\":\"Figure\",\"type\":\"Plot\"},\"ticker\":{\"id\":\"f4475366-9fe0-4280-82d1-8a4742b25f34\",\"type\":\"DatetimeTicker\"}},\"id\":\"8a070089-cf5b-4102-b5a2-696498f88bf8\",\"type\":\"DatetimeAxis\"},{\"attributes\":{},\"id\":\"95e550d7-b440-4221-9932-a79f3df531e9\",\"type\":\"YearsTicker\"},{\"attributes\":{\"below\":[{\"id\":\"8a070089-cf5b-4102-b5a2-696498f88bf8\",\"type\":\"DatetimeAxis\"}],\"left\":[{\"id\":\"75d0639e-2e02-4b59-be1f-daf5246f396a\",\"type\":\"LinearAxis\"}],\"logo\":null,\"plot_height\":400,\"plot_width\":950,\"renderers\":[{\"id\":\"8a070089-cf5b-4102-b5a2-696498f88bf8\",\"type\":\"DatetimeAxis\"},{\"id\":\"debf9d71-b42e-4fdc-bc80-213cb2a21661\",\"type\":\"Grid\"},{\"id\":\"75d0639e-2e02-4b59-be1f-daf5246f396a\",\"type\":\"LinearAxis\"},{\"id\":\"2ee6d186-9350-4518-b4d1-970858d67886\",\"type\":\"Grid\"},{\"id\":\"0bdfbd2b-639e-47b0-a478-b01942eb08fd\",\"type\":\"BoxAnnotation\"},{\"id\":\"42824931-cc08-43a1-a95b-9a470a07f0b4\",\"type\":\"GlyphRenderer\"}],\"title\":\"Ratings per Episode\",\"tool_events\":{\"id\":\"de41d040-284d-4db5-b0ac-2f14e7455ae4\",\"type\":\"ToolEvents\"},\"tools\":[{\"id\":\"58b36ef6-ae41-40a4-a671-5ae190a720fd\",\"type\":\"PanTool\"},{\"id\":\"6b455d6f-10b4-4d40-b044-0ed42171ac5e\",\"type\":\"WheelZoomTool\"},{\"id\":\"0e09bccd-21d5-4c9c-b557-6657a7e72b90\",\"type\":\"BoxZoomTool\"},{\"id\":\"73347f5f-1813-4dd7-b2c4-c567955af081\",\"type\":\"PreviewSaveTool\"},{\"id\":\"88865837-be1a-4aa8-a74b-37411747e13c\",\"type\":\"ResizeTool\"},{\"id\":\"fcea0049-85ec-49d9-b4e4-c8f8a322dd16\",\"type\":\"ResetTool\"},{\"id\":\"49cea4fc-d18d-46df-8b7f-5ec52907e811\",\"type\":\"HelpTool\"},{\"id\":\"0e10fef8-0ac3-4709-a295-a2b5f57c217b\",\"type\":\"HoverTool\"}],\"x_range\":{\"id\":\"6cd74d36-e0b6-4d8f-bb37-cf15928c89ea\",\"type\":\"DataRange1d\"},\"y_range\":{\"id\":\"1ad9f06a-aebe-4428-869d-1cf5e5b73ff7\",\"type\":\"DataRange1d\"}},\"id\":\"bf2b4baa-119b-4018-abfa-f3fbafd8b120\",\"subtype\":\"Figure\",\"type\":\"Plot\"},{\"attributes\":{\"dimension\":1,\"plot\":{\"id\":\"bf2b4baa-119b-4018-abfa-f3fbafd8b120\",\"subtype\":\"Figure\",\"type\":\"Plot\"},\"ticker\":{\"id\":\"463ce6b9-0ea3-45ae-be5f-4e7cff31b9b1\",\"type\":\"BasicTicker\"}},\"id\":\"2ee6d186-9350-4518-b4d1-970858d67886\",\"type\":\"Grid\"},{\"attributes\":{\"base\":24,\"mantissas\":[1,2,4,6,8,12],\"max_interval\":43200000.0,\"min_interval\":3600000.0,\"num_minor_ticks\":0},\"id\":\"087e2587-8d47-4898-b01e-46a3bbb90a9d\",\"type\":\"AdaptiveTicker\"},{\"attributes\":{},\"id\":\"62cedab1-f21a-41d3-b7d8-b75549509fcf\",\"type\":\"DatetimeTickFormatter\"},{\"attributes\":{\"plot\":{\"id\":\"bf2b4baa-119b-4018-abfa-f3fbafd8b120\",\"subtype\":\"Figure\",\"type\":\"Plot\"},\"ticker\":{\"id\":\"f4475366-9fe0-4280-82d1-8a4742b25f34\",\"type\":\"DatetimeTicker\"}},\"id\":\"debf9d71-b42e-4fdc-bc80-213cb2a21661\",\"type\":\"Grid\"},{\"attributes\":{\"days\":[1,2,3,4,5,6,7,8,9,10,11,12,13,14,15,16,17,18,19,20,21,22,23,24,25,26,27,28,29,30,31]},\"id\":\"7dfc6a66-ba02-42af-b2c4-e1cfefbfc9f3\",\"type\":\"DaysTicker\"},{\"attributes\":{\"callback\":null,\"plot\":{\"id\":\"bf2b4baa-119b-4018-abfa-f3fbafd8b120\",\"subtype\":\"Figure\",\"type\":\"Plot\"},\"tooltips\":[[\"episode_number\",\"@episode_number\"],[\"title\",\"@title\"],[\"air_date\",\"@air_date_str\"],[\"rating\",\"@rating{1.11}\"],[\"rating_count\",\"@rating_count{1.11}\"]]},\"id\":\"0e10fef8-0ac3-4709-a295-a2b5f57c217b\",\"type\":\"HoverTool\"},{\"attributes\":{\"formatter\":{\"id\":\"2be94a87-a02b-4e21-8d32-1c462cb61208\",\"type\":\"BasicTickFormatter\"},\"plot\":{\"id\":\"bf2b4baa-119b-4018-abfa-f3fbafd8b120\",\"subtype\":\"Figure\",\"type\":\"Plot\"},\"ticker\":{\"id\":\"463ce6b9-0ea3-45ae-be5f-4e7cff31b9b1\",\"type\":\"BasicTicker\"}},\"id\":\"75d0639e-2e02-4b59-be1f-daf5246f396a\",\"type\":\"LinearAxis\"},{\"attributes\":{\"base\":60,\"mantissas\":[1,2,5,10,15,20,30],\"max_interval\":1800000.0,\"min_interval\":1000.0,\"num_minor_ticks\":0},\"id\":\"84c5fd7a-3c4a-4275-86e7-bb4051a56ad6\",\"type\":\"AdaptiveTicker\"},{\"attributes\":{\"bottom_units\":\"screen\",\"fill_alpha\":{\"value\":0.5},\"fill_color\":{\"value\":\"lightgrey\"},\"left_units\":\"screen\",\"level\":\"overlay\",\"line_alpha\":{\"value\":1.0},\"line_color\":{\"value\":\"black\"},\"line_dash\":[4,4],\"line_width\":{\"value\":2},\"plot\":null,\"render_mode\":\"css\",\"right_units\":\"screen\",\"top_units\":\"screen\"},\"id\":\"0bdfbd2b-639e-47b0-a478-b01942eb08fd\",\"type\":\"BoxAnnotation\"},{\"attributes\":{\"days\":[1,8,15,22]},\"id\":\"f4b09764-2311-4d95-a982-ea1033b0f5d0\",\"type\":\"DaysTicker\"},{\"attributes\":{\"use_scientific\":false},\"id\":\"2be94a87-a02b-4e21-8d32-1c462cb61208\",\"type\":\"BasicTickFormatter\"},{\"attributes\":{\"data_source\":{\"id\":\"57a98140-3901-4622-9c8e-94ce1e863927\",\"type\":\"ColumnDataSource\"},\"glyph\":{\"id\":\"a5aa2374-e5f1-48f0-a1fc-ca4fc43111e2\",\"type\":\"Circle\"},\"hover_glyph\":null,\"nonselection_glyph\":{\"id\":\"c3a0b207-5b1b-4a9a-a010-617763bdca82\",\"type\":\"Circle\"},\"selection_glyph\":null},\"id\":\"42824931-cc08-43a1-a95b-9a470a07f0b4\",\"type\":\"GlyphRenderer\"},{\"attributes\":{\"months\":[0,2,4,6,8,10]},\"id\":\"fdc78025-c916-4397-8032-617fdc70a322\",\"type\":\"MonthsTicker\"},{\"attributes\":{\"max_interval\":500.0,\"num_minor_ticks\":0},\"id\":\"6cd874fb-7373-44a3-ad4f-78ebb7898dcd\",\"type\":\"AdaptiveTicker\"},{\"attributes\":{\"num_minor_ticks\":5},\"id\":\"f4475366-9fe0-4280-82d1-8a4742b25f34\",\"type\":\"DatetimeTicker\"},{\"attributes\":{\"months\":[0,4,8]},\"id\":\"fc167ac7-e299-4aa7-b5bf-5c7c5150c9ae\",\"type\":\"MonthsTicker\"},{\"attributes\":{\"plot\":{\"id\":\"bf2b4baa-119b-4018-abfa-f3fbafd8b120\",\"subtype\":\"Figure\",\"type\":\"Plot\"}},\"id\":\"49cea4fc-d18d-46df-8b7f-5ec52907e811\",\"type\":\"HelpTool\"},{\"attributes\":{\"fill_alpha\":{\"value\":0.1},\"fill_color\":{\"value\":\"#1f77b4\"},\"line_alpha\":{\"value\":0.1},\"line_color\":{\"value\":\"#1f77b4\"},\"line_width\":{\"value\":2},\"size\":{\"units\":\"screen\",\"value\":5},\"x\":{\"field\":\"air_date\"},\"y\":{\"field\":\"rating\"}},\"id\":\"c3a0b207-5b1b-4a9a-a010-617763bdca82\",\"type\":\"Circle\"},{\"attributes\":{\"plot\":{\"id\":\"bf2b4baa-119b-4018-abfa-f3fbafd8b120\",\"subtype\":\"Figure\",\"type\":\"Plot\"}},\"id\":\"fcea0049-85ec-49d9-b4e4-c8f8a322dd16\",\"type\":\"ResetTool\"},{\"attributes\":{\"callback\":null,\"column_names\":[\"episode_number\",\"rating\",\"index\",\"air_date\",\"title\",\"rating_count\",\"air_date_str\"],\"data\":{\"air_date\":[1441670400000.0,1441756800000.0,1441843200000.0,1441929600000.0,1442188800000.0,1442275200000.0,1442361600000.0,1442448000000.0,1442534400000.0,1442793600000.0,1442880000000.0,1442966400000.0,1443052800000.0,1443139200000.0,1443398400000.0,1443484800000.0,1443571200000.0,1443657600000.0,1443744000000.0,1444003200000.0,1444089600000.0,1444176000000.0,1444262400000.0,1444348800000.0,1444608000000.0,1444694400000.0,1444780800000.0,1444867200000.0,1444953600000.0,1445817600000.0,1445904000000.0,1445990400000.0,1446076800000.0,1446163200000.0,1446422400000.0,1446508800000.0,1446595200000.0,1446681600000.0,1446768000000.0,1447027200000.0,1447113600000.0,1447200000000.0,1447286400000.0,1447372800000.0,1447632000000.0,1447718400000.0,1447804800000.0,1447891200000.0,1447977600000.0,1448236800000.0,1448323200000.0,1448409600000.0,1449446400000.0,1449532800000.0,1449619200000.0,1449705600000.0,1449792000000.0,1450051200000.0,1450137600000.0,1450224000000.0,1450310400000.0,1450396800000.0,1451865600000.0,1451952000000.0,1452038400000.0,1452124800000.0,1452211200000.0,1452556800000.0,1452643200000.0,1452729600000.0,1452816000000.0,1453075200000.0,1453161600000.0,1453248000000.0,1453334400000.0,1453420800000.0,1453680000000.0,1453766400000.0,1453852800000.0,1453939200000.0,1454284800000.0,1454371200000.0,1454457600000.0,1454544000000.0,1454630400000.0,1454803200000.0,1454889600000.0,1454976000000.0,1455062400000.0,1455148800000.0,1455494400000.0,1455580800000.0,1455840000000.0,1456099200000.0,1456185600000.0,1456272000000.0,1456358400000.0,1456704000000.0,1456790400000.0,1456876800000.0,1456963200000.0,1457308800000.0,1457395200000.0,1457481600000.0,1457568000000.0,1457654400000.0,1457913600000.0,1458000000000.0,1458086400000.0,1458172800000.0,1459123200000.0,1459209600000.0,1459296000000.0,1459382400000.0,1459468800000.0,1459728000000.0,1459814400000.0,1459900800000.0,1459987200000.0,1460937600000.0,1461024000000.0,1461196800000.0,1461283200000.0,1461715200000.0,1462233600000.0,1462838400000.0,1462924800000.0],\"air_date_str\":[\"09/08/15\",\"09/09/15\",\"09/10/15\",\"09/11/15\",\"09/14/15\",\"09/15/15\",\"09/16/15\",\"09/17/15\",\"09/18/15\",\"09/21/15\",\"09/22/15\",\"09/23/15\",\"09/24/15\",\"09/25/15\",\"09/28/15\",\"09/29/15\",\"09/30/15\",\"10/01/15\",\"10/02/15\",\"10/05/15\",\"10/06/15\",\"10/07/15\",\"10/08/15\",\"10/09/15\",\"10/12/15\",\"10/13/15\",\"10/14/15\",\"10/15/15\",\"10/16/15\",\"10/26/15\",\"10/27/15\",\"10/28/15\",\"10/29/15\",\"10/30/15\",\"11/02/15\",\"11/03/15\",\"11/04/15\",\"11/05/15\",\"11/06/15\",\"11/09/15\",\"11/10/15\",\"11/11/15\",\"11/12/15\",\"11/13/15\",\"11/16/15\",\"11/17/15\",\"11/18/15\",\"11/19/15\",\"11/20/15\",\"11/23/15\",\"11/24/15\",\"11/25/15\",\"12/07/15\",\"12/08/15\",\"12/09/15\",\"12/10/15\",\"12/11/15\",\"12/14/15\",\"12/15/15\",\"12/16/15\",\"12/17/15\",\"12/18/15\",\"01/04/16\",\"01/05/16\",\"01/06/16\",\"01/07/16\",\"01/08/16\",\"01/12/16\",\"01/13/16\",\"01/14/16\",\"01/15/16\",\"01/18/16\",\"01/19/16\",\"01/20/16\",\"01/21/16\",\"01/22/16\",\"01/25/16\",\"01/26/16\",\"01/27/16\",\"01/28/16\",\"02/01/16\",\"02/02/16\",\"02/03/16\",\"02/04/16\",\"02/05/16\",\"02/07/16\",\"02/08/16\",\"02/09/16\",\"02/10/16\",\"02/11/16\",\"02/15/16\",\"02/16/16\",\"02/19/16\",\"02/22/16\",\"02/23/16\",\"02/24/16\",\"02/25/16\",\"02/29/16\",\"03/01/16\",\"03/02/16\",\"03/03/16\",\"03/07/16\",\"03/08/16\",\"03/09/16\",\"03/10/16\",\"03/11/16\",\"03/14/16\",\"03/15/16\",\"03/16/16\",\"03/17/16\",\"03/28/16\",\"03/29/16\",\"03/30/16\",\"03/31/16\",\"04/01/16\",\"04/04/16\",\"04/05/16\",\"04/06/16\",\"04/07/16\",\"04/18/16\",\"04/19/16\",\"04/21/16\",\"04/22/16\",\"04/27/16\",\"05/03/16\",\"05/10/16\",\"05/11/16\"],\"episode_number\":[1,2,3,4,5,6,7,8,9,10,11,12,13,14,15,16,17,18,19,20,21,22,23,24,25,26,27,28,29,30,31,32,33,34,35,36,37,38,39,40,41,42,43,44,45,46,47,48,49,50,51,52,53,54,55,56,57,58,59,60,61,62,63,64,65,66,67,69,70,71,72,73,74,75,76,77,78,79,80,81,82,83,84,85,86,87,88,89,90,91,92,93,96,97,98,99,100,101,102,103,104,105,106,107,108,109,110,111,112,113,114,115,116,117,118,119,120,121,122,123,124,126,127,130,134,139,140],\"index\":[0,1,2,3,4,5,6,7,8,9,10,11,12,13,14,15,16,17,18,19,20,21,22,23,24,25,26,27,28,29,30,31,32,33,34,35,36,37,38,39,40,41,42,43,44,45,46,47,48,49,50,51,52,53,54,55,56,57,58,59,60,61,62,63,64,65,66,68,69,70,71,72,73,74,75,76,77,78,79,80,81,82,83,84,85,86,87,88,89,90,91,92,95,96,97,98,99,100,101,102,103,104,105,106,107,108,109,110,111,112,113,114,115,116,117,118,119,120,121,122,123,125,126,129,133,138,139],\"rating\":[7.5,7.5,8.6,7.4,7.9,7.8,8.0,7.7,8.2,8.0,8.2,7.7,7.3,7.8,7.2,7.4,8.2,6.9,7.7,8.2,7.4,7.9,8.5,7.7,8.1,8.5,8.3,7.2,8.5,7.2,7.9,8.0,8.0,7.3,7.5,7.7,8.3,7.7,7.3,6.9,8.1,7.6,7.6,7.4,8.1,8.0,7.7,8.5,9.0,8.4,7.2,7.1,7.2,7.7,6.6,8.2,7.8,7.4,8.0,7.1,7.9,7.8,7.4,7.7,8.1,7.5,8.0,7.0,7.0,7.0,7.7,7.5,7.6,8.0,7.7,8.5,7.9,7.8,7.2,7.8,7.6,7.0,6.4,7.6,7.7,7.6,7.1,7.4,7.8,7.2,6.8,6.7,6.4,7.0,7.3,7.8,7.3,8.4,7.4,7.7,7.7,6.9,7.3,6.8,7.0,6.0,7.9,7.0,7.1,7.6,7.1,6.1,8.1,8.0,7.7,7.2,5.9,6.9,6.2,8.0,8.1,6.8,7.8,7.8,8.4,6.8,9.2],\"rating_count\":[97.0,58.0,66.0,42.0,36.0,32.0,36.0,32.0,36.0,32.0,31.0,27.0,23.0,24.0,18.0,20.0,19.0,18.0,20.0,18.0,20.0,8.0,13.0,15.0,14.0,15.0,13.0,14.0,20.0,12.0,14.0,12.0,18.0,14.0,11.0,16.0,18.0,15.0,12.0,11.0,14.0,11.0,8.0,13.0,18.0,10.0,10.0,8.0,11.0,10.0,8.0,8.0,9.0,9.0,8.0,10.0,8.0,10.0,9.0,11.0,8.0,6.0,7.0,6.0,7.0,6.0,7.0,7.0,6.0,7.0,6.0,6.0,7.0,9.0,6.0,6.0,9.0,6.0,8.0,8.0,8.0,9.0,9.0,9.0,6.0,11.0,7.0,9.0,13.0,8.0,5.0,10.0,7.0,7.0,6.0,6.0,7.0,7.0,8.0,7.0,6.0,7.0,10.0,10.0,8.0,7.0,8.0,8.0,8.0,9.0,10.0,13.0,7.0,9.0,11.0,6.0,10.0,9.0,6.0,6.0,8.0,6.0,5.0,8.0,5.0,5.0,5.0],\"title\":[\"George Clooney/Governor Jeb Bush/Mavis Staples & Friends\",\"Scarlett Johansson/Elon Musk/Kendrick Lamar\",\"Vice President Joe Biden/Travis Kalanick/Toby Keith\",\"Amy Schumer/Stephen King/Troubled Waters\",\"Emily Blunt/Justice Stephen Breyer/The Dead Weather\",\"Jake Gyllenhaal/Apple CEO Tim Cook/Run the Jewels & TV on the Radio\",\"Kevin Spacey/Carol Burnett/Abbi Jacobson & Ilana Glazer/Willie Nelson & John Mellencamp\",\"Trevor Noah/Ban Ki-Moon/Chris Stapleton\",\"Lupita Nyong'o/Sen. Bernie Sanders/Cast of \\\"An American in Paris\\\"\",\"Steph Curry/Sen. Ted Cruz/Don Henley\",\"Donald Trump/Ernest Moniz/Raury\",\"Hugh Jackman/Sen. Elizabeth Warren/Pearl Jam\",\"Andrew Sullivan/Maria Shriver/Jim Gaffigan/Archbishop Thomas Wenski\",\"Malala Yousafzai/Kerry Washington/The Arcs\",\"Michelle Obama/Mindy Kaling/John Legend\",\"Ellen Page/Jesse Eisenberg/Dominic Wilcox\",\"Elizabeth Gilbert/John Oliver/Evan Spiegel/Bill Withers/Ed Sheeran\",\"Secretary of State John Kerry/Claire Danes/PewDiePie\",\"Morgan Freeman/Ruth Wilson/Sean Murray\",\"John McCain/Yo-Yo Ma/Misty Copeland\",\"Bill Clinton/Billy Eichner/Florence and the Machine\",\"Gina Rodriguez/Ben Bernanke/Tame Impala\",\"Cate Blanchett/Airbnb CEO Brian Chesky\",\"James Corden/Shane Smith/Halsey\",\"Carey Mulligan/Elvis Costello/Darlene Love\",\"Sarah Silverman/Elijah Wood/The Legends of Zelda: Symphony of the Goddesses\",\"Jack Black/Nick Woodman/Michelle Dorrance\",\"Oprah Winfrey/Joseph Fink & Jeffrey Cranor/Judith Hill\",\"Jimmy Kimmel/\\\"Crimson Peak\\\" Cast/Beach House\",\"Sienna Miller/Melissa Benoist/Chance the Rapper\",\"Hillary Clinton/Anthony Bourdain/Carrie Brownstein/Lianne La Navas\",\"Julianna Margulies/Jonathan Franzen/Alabama Shakes\",\"Seth MacFarlane/Neil DeGrasse Tyson\",\"Charlie Rose/Stacy Schiff/Ghost/The Zombies\",\"Allison Janney/Colin Quinn/Margaret Cho\",\"Antonio Banderas/Reed Hastings/John Irving\",\"Daniel Craig/Elizabeth Gilbert/Dr. Eugenia Cheng\",\"Bryan Cranston/Karl Ove Knausgaard/Shamir\",\"Whoopi Goldberg/Gov. John Kasich/Glen Hansard\",\"Ethan Hawke/Sen. Claire McCaskill & Sen. Amy Klobuchar/Nathaniel Ratcliff & the Night Sweats\",\"Aziz Ansari/Shonda Rhimes/Bruce Campbell & Lucy Lawless\",\"Viola Davis/Brian Greene/George Ezra\",\"Jennifer Connelly/Judd Apatow/The Internet\",\"Mark Ruffalo/John Cleese/Micheal Flatley\",\"Capt. Florent Groberg/Bill Maher/Shepard Fairey/The Acro-Cats\",\"Julianne Moore/Burt Reynolds/Public Image Ltd./CeeLo Green\",\"Sharon Stone/Justin Theroux/James Taylor\",\"Jane Fonda/Andrew Lloyd Webber/Brandon Niederauer\",\"Michael Caine/Larry Wilmore/Boots/Vulfpeck\",\"Sylvester Stallone/Ted Koppel/My Morning Jacket\",\"Spike Lee/Andy Cohen/Carly Simon\",\"Gloria Estefan/Navy Seal Eric Greitens/Jake Wood/Chef Daniel Boulud\",\"Steve Carell/Jennifer Hudson\",\"Marion Cotillard/George Saunders/Joanna Newsom\",\"Cast of \\\"Downton Abbey\\\"/Adam McKay/Kurt Vile\",\"Bruce Willis/Michael Lewis/Lizzo\",\"Lin-Manuel Miranda/Ike Barinholtz/Sharon Jones & the Dap Kings\",\"Jennifer Lawrence/Doris Kearns Goodwin/Sleater-Kinney\",\"Quentin Tarantino/Jonathan Groff/Squeeze\",\"Robert De Niro/Daniel Gilbert/Henry Rollins\",\"Michael Moore/Samantha Power/Michael C. Hall\",\"Mandy Patinkin/Kayvon Beykpour/Leon Bridges\",\"Samuel L. Jackson/Olivia Hallisey/Foals\",\"John Krasinski/Killer Mike/George Church/Foals\",\"Jerry Seinfeld/Sen. Rand Paul/Andra Day\",\"Damian Lewis/America Ferrera/FloydLittle's Double Dutch Team\",\"Matthew Broderick/Sarah Parcak/Kacey Musgraves\",\"Saoirse Ronan/Jeremy Stoppelman/Laura Ricciardi & Moira Demos/James Bay\",\"Paul Giamatti/Guerilla Girls/J.B. Mauney\",\"Olivia Munn/T.J. Miller/Father John Misty\",\"Scott Kelly/Abby Wambach/Maria Bamford\",\"Patricia Heaton/Quincy Jones/DeRay Mckesson/Grace\",\"Charlie Day/Colin Hanks/Margo Price\",\"James Spader/Brandon Marshall/Sarah Koenig/Rev Run\",\"Christian Slater/Josh Radnor/Iggy Pop\",\"Steven Tyler/Gaby Hoffmann/Lapsley\",\"Donald Rumsfeld/Russell Westbrook/Anderson Paak & the Free Nationals\",\"Laurence Fishburne/Sarah Paulson/Woke\",\"Chris Pine/Danielle Brooks/Jonah Reider/Baauer\",\"Josh Brolin/John Dickerson/Erin Brockovich/Aubrie Sellers\",\"John Travolta & Courtney B. Vance/Amy Cuddy/John Moreland\",\"David Schwimmer/Pastor Joel Osteen/M. Ward\",\"Dr. Phil McGraw/Mark & Jay Duplass/Michael Eric Dyson/Anderson Paak & the Free Nationals\",\"Michael Strahan/Samantha Bee/Wilco\",\"Bobby Cannavale/Donny Deutsch/Charles Kelley\",\"Tina Fey & Margot Robbie/Will Ferrell/Megyn Kelly/Keegan-Michael Key & Jordan Peele\",\"Bill O'Reilly/Eddie George/Macklemore & Ryan Lewis\",\"Olivia Wilde/Christiane Amanpour\",\"Ben Stiller/Sen. Bernie Sanders/TAO: Seventeen Samurai\",\"Kelsey Grammer/Fred Armisen/Sarah McDaniel/Ty Segall & the Muggers\",\"Craig Ferguson/Hailey Clauson & Ashley Graham/Cory Booker\",\"Eva Longoria/Abbi Jacobson & Ilana Glazer/Lucinda Williams\",\"Chelsea Handler/Zosia Mamet/The Lumineers\",\"Casey Affleck/Richard Dreyfuss/Mavis Staples\",\"Debra Messing/Zachary Quinto/Violent Femmes\",\"Adrien Brody/Danai Gurira/Brian Greene\",\"Tim Daly/Krysten Ritter/Jason Isbell\",\"Spike Jonze/Jeffrey Dean Morgan/Jack Garratt\",\"Chrissy Teigen/Mike Birbiglia/Adam Savage\",\"Octavia Spencer/John Stamos, Bob Saget & Dave Coulier/Lucius\",\"Christopher Meloni/Edward Byers/Ray LaMontagne\",\"Will Arnett/Charles Barkley/Max Greenfield\",\"Helen Mirren/J.J. Abrams/DMA's\",\"Sally Field/Jerrod Carmichael/Esperanza Spalding\",\"Anna Kendrick/Loretta Lynch/Brian Fallon\",\"Jeff Daniels/Audra McDonald/Mary Elizabeth Winstead\",\"John Oliver/Jordan Spieth/New Order\",\"Steve Martin & Edie Brickell/Shirley MacLaine/Gustavo Dudamel/Los Angeles Philharmonic\",\"Theo James/Jussie Smollett/Laurie Anderson\",\"William H. Macy/Melissa Rauch/Isaac Mizrahi\",\"Tom Hiddleston/Laura Benanti/Frightened Rabbit\",\"Adam Driver/Rachel Bloom/Savages\",\"Eric Stonestreet/Jason Jones/Sen. Elizabeth Warren\",\"Sarah Paulson/Tatiana Maslany/Wynton Marsalis, Lil Buck & Jared Grimes\",\"Steve Buscemi/Benjamin Walker/Cast of Broadway's \\\"American Psycho\\\"\",\"Matthew Perry/Nick Offerman/Explosions in the Sky\",\"Melissa McCarthy & Ben Falcone/Arianna Huffington/Babymetal\",\"Anna Kendrick & Sam Rockwell/David Duchovny/Autolux\",\"Mindy Kaling/Tituss Burgess/Ken Burns\",\"Hillary Clinton/Jesse Tyler Ferguson/Katharine McPhee/Sturgill Simpson\",\"Kevin Spacey/Thomas Middleditch/The Flaming Lips\",\"Tom Hanks/Leslie Odom, Jr./The Strumbellas/Roy Haynes\",\"Julia Louis-Dreyfus/Nikolaj Coster-Waldau/Sam Morril\",\"Susan Sarandon/David Tennant/Catfish & the Bottlemen\",\"Dakota Johnson/Sebastian Stan/Lukas Nelson & Promise of the Real\",\"Chloe Grace Moretz/Katie Couric/Brian Green/Charlamagne Tha God\",\"Kate Beckinsale/B.J. Novak/Desiigner\"]}},\"id\":\"57a98140-3901-4622-9c8e-94ce1e863927\",\"type\":\"ColumnDataSource\"},{\"attributes\":{\"callback\":null},\"id\":\"6cd74d36-e0b6-4d8f-bb37-cf15928c89ea\",\"type\":\"DataRange1d\"},{\"attributes\":{\"overlay\":{\"id\":\"0bdfbd2b-639e-47b0-a478-b01942eb08fd\",\"type\":\"BoxAnnotation\"},\"plot\":{\"id\":\"bf2b4baa-119b-4018-abfa-f3fbafd8b120\",\"subtype\":\"Figure\",\"type\":\"Plot\"}},\"id\":\"0e09bccd-21d5-4c9c-b557-6657a7e72b90\",\"type\":\"BoxZoomTool\"},{\"attributes\":{\"plot\":{\"id\":\"bf2b4baa-119b-4018-abfa-f3fbafd8b120\",\"subtype\":\"Figure\",\"type\":\"Plot\"}},\"id\":\"6b455d6f-10b4-4d40-b044-0ed42171ac5e\",\"type\":\"WheelZoomTool\"},{\"attributes\":{\"plot\":{\"id\":\"bf2b4baa-119b-4018-abfa-f3fbafd8b120\",\"subtype\":\"Figure\",\"type\":\"Plot\"}},\"id\":\"58b36ef6-ae41-40a4-a671-5ae190a720fd\",\"type\":\"PanTool\"},{\"attributes\":{\"callback\":null},\"id\":\"1ad9f06a-aebe-4428-869d-1cf5e5b73ff7\",\"type\":\"DataRange1d\"}],\"root_ids\":[\"bf2b4baa-119b-4018-abfa-f3fbafd8b120\"]},\"title\":\"Bokeh Application\",\"version\":\"0.11.1\"}};\n",
       "            var render_items = [{\"docid\":\"121bb549-26e9-4690-af16-5567ec82d186\",\"elementid\":\"32c2be70-0696-4d76-bbaf-9c5a93249db2\",\"modelid\":\"bf2b4baa-119b-4018-abfa-f3fbafd8b120\",\"notebook_comms_target\":\"277b1f7a-5942-401a-af60-e59fb4ce9830\"}];\n",
       "            \n",
       "            Bokeh.embed.embed_items(docs_json, render_items);\n",
       "        });\n",
       "      },\n",
       "      function(Bokeh) {\n",
       "      }\n",
       "    ];\n",
       "  \n",
       "    function run_inline_js() {\n",
       "      for (var i = 0; i < inline_js.length; i++) {\n",
       "        inline_js[i](window.Bokeh);\n",
       "      }\n",
       "    }\n",
       "  \n",
       "    if (window._bokeh_is_loading === 0) {\n",
       "      console.log(\"Bokeh: BokehJS loaded, going straight to plotting\");\n",
       "      run_inline_js();\n",
       "    } else {\n",
       "      load_libs(js_urls, function() {\n",
       "        console.log(\"Bokeh: BokehJS plotting callback run at\", now());\n",
       "        run_inline_js();\n",
       "      });\n",
       "    }\n",
       "  }(this));\n",
       "</script>"
      ]
     },
     "metadata": {},
     "output_type": "display_data"
    },
    {
     "data": {
      "text/html": [
       "<p><code>&lt;Bokeh Notebook handle for <strong>In[6]</strong>&gt;</code></p>"
      ],
      "text/plain": [
       "<bokeh.io._CommsHandle at 0x1174d0ba8>"
      ]
     },
     "execution_count": 6,
     "metadata": {},
     "output_type": "execute_result"
    }
   ],
   "source": [
    "p = plot_interactive_timeseries(x='air_date', y='rating', data=episodes, \n",
    "                                title=\"Ratings per Episode\",\n",
    "                               hover_cols=hover_cols)\n",
    "show(p)"
   ]
  },
  {
   "cell_type": "markdown",
   "metadata": {},
   "source": [
    "## Ratings Count over Time"
   ]
  },
  {
   "cell_type": "code",
   "execution_count": 7,
   "metadata": {
    "collapsed": false
   },
   "outputs": [
    {
     "data": {
      "text/html": [
       "\n",
       "\n",
       "    <div class=\"plotdiv\" id=\"e8c18d33-f226-4601-90c4-d0f022e080a9\"></div>\n",
       "<script type=\"text/javascript\">\n",
       "  \n",
       "  (function(global) {\n",
       "    function now() {\n",
       "      return new Date();\n",
       "    }\n",
       "  \n",
       "    if (typeof (window._bokeh_onload_callbacks) === \"undefined\") {\n",
       "      window._bokeh_onload_callbacks = [];\n",
       "    }\n",
       "  \n",
       "    function run_callbacks() {\n",
       "      window._bokeh_onload_callbacks.forEach(function(callback) { callback() });\n",
       "      delete window._bokeh_onload_callbacks\n",
       "      console.info(\"Bokeh: all callbacks have finished\");\n",
       "    }\n",
       "  \n",
       "    function load_libs(js_urls, callback) {\n",
       "      window._bokeh_onload_callbacks.push(callback);\n",
       "      if (window._bokeh_is_loading > 0) {\n",
       "        console.log(\"Bokeh: BokehJS is being loaded, scheduling callback at\", now());\n",
       "        return null;\n",
       "      }\n",
       "      if (js_urls == null || js_urls.length === 0) {\n",
       "        run_callbacks();\n",
       "        return null;\n",
       "      }\n",
       "      console.log(\"Bokeh: BokehJS not loaded, scheduling load and callback at\", now());\n",
       "      window._bokeh_is_loading = js_urls.length;\n",
       "      for (var i = 0; i < js_urls.length; i++) {\n",
       "        var url = js_urls[i];\n",
       "        var s = document.createElement('script');\n",
       "        s.src = url;\n",
       "        s.async = false;\n",
       "        s.onreadystatechange = s.onload = function() {\n",
       "          window._bokeh_is_loading--;\n",
       "          if (window._bokeh_is_loading === 0) {\n",
       "            console.log(\"Bokeh: all BokehJS libraries loaded\");\n",
       "            run_callbacks()\n",
       "          }\n",
       "        };\n",
       "        s.onerror = function() {\n",
       "          console.warn(\"failed to load library \" + url);\n",
       "        };\n",
       "        console.log(\"Bokeh: injecting script tag for BokehJS library: \", url);\n",
       "        document.getElementsByTagName(\"head\")[0].appendChild(s);\n",
       "      }\n",
       "    };var element = document.getElementById(\"e8c18d33-f226-4601-90c4-d0f022e080a9\");\n",
       "    if (element == null) {\n",
       "      console.log(\"Bokeh: ERROR: autoload.js configured with elementid 'e8c18d33-f226-4601-90c4-d0f022e080a9' but no matching script tag was found. \")\n",
       "      return false;\n",
       "    }\n",
       "  \n",
       "    var js_urls = [];\n",
       "  \n",
       "    var inline_js = [\n",
       "      function(Bokeh) {\n",
       "        Bokeh.$(function() {\n",
       "            var docs_json = {\"d170fb06-b756-43fa-a6fe-8d0065f5ebc6\":{\"roots\":{\"references\":[{\"attributes\":{\"callback\":null,\"plot\":{\"id\":\"9f09edd8-9092-42ea-8ed8-b29298bbac8a\",\"subtype\":\"Figure\",\"type\":\"Plot\"},\"tooltips\":[[\"episode_number\",\"@episode_number\"],[\"title\",\"@title\"],[\"air_date\",\"@air_date_str\"],[\"rating\",\"@rating{1.11}\"],[\"rating_count\",\"@rating_count{1.11}\"]]},\"id\":\"cfba3bf9-8369-48d4-b525-17e12fe62054\",\"type\":\"HoverTool\"},{\"attributes\":{\"months\":[0,6]},\"id\":\"03a512a6-06dd-4275-9a0d-cc8ca0dd1752\",\"type\":\"MonthsTicker\"},{\"attributes\":{\"plot\":{\"id\":\"bf2b4baa-119b-4018-abfa-f3fbafd8b120\",\"subtype\":\"Figure\",\"type\":\"Plot\"}},\"id\":\"88865837-be1a-4aa8-a74b-37411747e13c\",\"type\":\"ResizeTool\"},{\"attributes\":{},\"id\":\"c019b2a6-8e6b-4923-a4f6-8b27808402bf\",\"type\":\"DatetimeTickFormatter\"},{\"attributes\":{},\"id\":\"de41d040-284d-4db5-b0ac-2f14e7455ae4\",\"type\":\"ToolEvents\"},{\"attributes\":{\"plot\":{\"id\":\"bf2b4baa-119b-4018-abfa-f3fbafd8b120\",\"subtype\":\"Figure\",\"type\":\"Plot\"}},\"id\":\"73347f5f-1813-4dd7-b2c4-c567955af081\",\"type\":\"PreviewSaveTool\"},{\"attributes\":{\"callback\":null,\"column_names\":[\"episode_number\",\"rating\",\"index\",\"air_date\",\"title\",\"rating_count\",\"air_date_str\"],\"data\":{\"air_date\":[1441670400000.0,1441756800000.0,1441843200000.0,1441929600000.0,1442188800000.0,1442275200000.0,1442361600000.0,1442448000000.0,1442534400000.0,1442793600000.0,1442880000000.0,1442966400000.0,1443052800000.0,1443139200000.0,1443398400000.0,1443484800000.0,1443571200000.0,1443657600000.0,1443744000000.0,1444003200000.0,1444089600000.0,1444176000000.0,1444262400000.0,1444348800000.0,1444608000000.0,1444694400000.0,1444780800000.0,1444867200000.0,1444953600000.0,1445817600000.0,1445904000000.0,1445990400000.0,1446076800000.0,1446163200000.0,1446422400000.0,1446508800000.0,1446595200000.0,1446681600000.0,1446768000000.0,1447027200000.0,1447113600000.0,1447200000000.0,1447286400000.0,1447372800000.0,1447632000000.0,1447718400000.0,1447804800000.0,1447891200000.0,1447977600000.0,1448236800000.0,1448323200000.0,1448409600000.0,1449446400000.0,1449532800000.0,1449619200000.0,1449705600000.0,1449792000000.0,1450051200000.0,1450137600000.0,1450224000000.0,1450310400000.0,1450396800000.0,1451865600000.0,1451952000000.0,1452038400000.0,1452124800000.0,1452211200000.0,1452556800000.0,1452643200000.0,1452729600000.0,1452816000000.0,1453075200000.0,1453161600000.0,1453248000000.0,1453334400000.0,1453420800000.0,1453680000000.0,1453766400000.0,1453852800000.0,1453939200000.0,1454284800000.0,1454371200000.0,1454457600000.0,1454544000000.0,1454630400000.0,1454803200000.0,1454889600000.0,1454976000000.0,1455062400000.0,1455148800000.0,1455494400000.0,1455580800000.0,1455840000000.0,1456099200000.0,1456185600000.0,1456272000000.0,1456358400000.0,1456704000000.0,1456790400000.0,1456876800000.0,1456963200000.0,1457308800000.0,1457395200000.0,1457481600000.0,1457568000000.0,1457654400000.0,1457913600000.0,1458000000000.0,1458086400000.0,1458172800000.0,1459123200000.0,1459209600000.0,1459296000000.0,1459382400000.0,1459468800000.0,1459728000000.0,1459814400000.0,1459900800000.0,1459987200000.0,1460937600000.0,1461024000000.0,1461196800000.0,1461283200000.0,1461715200000.0,1462233600000.0,1462838400000.0,1462924800000.0],\"air_date_str\":[\"09/08/15\",\"09/09/15\",\"09/10/15\",\"09/11/15\",\"09/14/15\",\"09/15/15\",\"09/16/15\",\"09/17/15\",\"09/18/15\",\"09/21/15\",\"09/22/15\",\"09/23/15\",\"09/24/15\",\"09/25/15\",\"09/28/15\",\"09/29/15\",\"09/30/15\",\"10/01/15\",\"10/02/15\",\"10/05/15\",\"10/06/15\",\"10/07/15\",\"10/08/15\",\"10/09/15\",\"10/12/15\",\"10/13/15\",\"10/14/15\",\"10/15/15\",\"10/16/15\",\"10/26/15\",\"10/27/15\",\"10/28/15\",\"10/29/15\",\"10/30/15\",\"11/02/15\",\"11/03/15\",\"11/04/15\",\"11/05/15\",\"11/06/15\",\"11/09/15\",\"11/10/15\",\"11/11/15\",\"11/12/15\",\"11/13/15\",\"11/16/15\",\"11/17/15\",\"11/18/15\",\"11/19/15\",\"11/20/15\",\"11/23/15\",\"11/24/15\",\"11/25/15\",\"12/07/15\",\"12/08/15\",\"12/09/15\",\"12/10/15\",\"12/11/15\",\"12/14/15\",\"12/15/15\",\"12/16/15\",\"12/17/15\",\"12/18/15\",\"01/04/16\",\"01/05/16\",\"01/06/16\",\"01/07/16\",\"01/08/16\",\"01/12/16\",\"01/13/16\",\"01/14/16\",\"01/15/16\",\"01/18/16\",\"01/19/16\",\"01/20/16\",\"01/21/16\",\"01/22/16\",\"01/25/16\",\"01/26/16\",\"01/27/16\",\"01/28/16\",\"02/01/16\",\"02/02/16\",\"02/03/16\",\"02/04/16\",\"02/05/16\",\"02/07/16\",\"02/08/16\",\"02/09/16\",\"02/10/16\",\"02/11/16\",\"02/15/16\",\"02/16/16\",\"02/19/16\",\"02/22/16\",\"02/23/16\",\"02/24/16\",\"02/25/16\",\"02/29/16\",\"03/01/16\",\"03/02/16\",\"03/03/16\",\"03/07/16\",\"03/08/16\",\"03/09/16\",\"03/10/16\",\"03/11/16\",\"03/14/16\",\"03/15/16\",\"03/16/16\",\"03/17/16\",\"03/28/16\",\"03/29/16\",\"03/30/16\",\"03/31/16\",\"04/01/16\",\"04/04/16\",\"04/05/16\",\"04/06/16\",\"04/07/16\",\"04/18/16\",\"04/19/16\",\"04/21/16\",\"04/22/16\",\"04/27/16\",\"05/03/16\",\"05/10/16\",\"05/11/16\"],\"episode_number\":[1,2,3,4,5,6,7,8,9,10,11,12,13,14,15,16,17,18,19,20,21,22,23,24,25,26,27,28,29,30,31,32,33,34,35,36,37,38,39,40,41,42,43,44,45,46,47,48,49,50,51,52,53,54,55,56,57,58,59,60,61,62,63,64,65,66,67,69,70,71,72,73,74,75,76,77,78,79,80,81,82,83,84,85,86,87,88,89,90,91,92,93,96,97,98,99,100,101,102,103,104,105,106,107,108,109,110,111,112,113,114,115,116,117,118,119,120,121,122,123,124,126,127,130,134,139,140],\"index\":[0,1,2,3,4,5,6,7,8,9,10,11,12,13,14,15,16,17,18,19,20,21,22,23,24,25,26,27,28,29,30,31,32,33,34,35,36,37,38,39,40,41,42,43,44,45,46,47,48,49,50,51,52,53,54,55,56,57,58,59,60,61,62,63,64,65,66,68,69,70,71,72,73,74,75,76,77,78,79,80,81,82,83,84,85,86,87,88,89,90,91,92,95,96,97,98,99,100,101,102,103,104,105,106,107,108,109,110,111,112,113,114,115,116,117,118,119,120,121,122,123,125,126,129,133,138,139],\"rating\":[7.5,7.5,8.6,7.4,7.9,7.8,8.0,7.7,8.2,8.0,8.2,7.7,7.3,7.8,7.2,7.4,8.2,6.9,7.7,8.2,7.4,7.9,8.5,7.7,8.1,8.5,8.3,7.2,8.5,7.2,7.9,8.0,8.0,7.3,7.5,7.7,8.3,7.7,7.3,6.9,8.1,7.6,7.6,7.4,8.1,8.0,7.7,8.5,9.0,8.4,7.2,7.1,7.2,7.7,6.6,8.2,7.8,7.4,8.0,7.1,7.9,7.8,7.4,7.7,8.1,7.5,8.0,7.0,7.0,7.0,7.7,7.5,7.6,8.0,7.7,8.5,7.9,7.8,7.2,7.8,7.6,7.0,6.4,7.6,7.7,7.6,7.1,7.4,7.8,7.2,6.8,6.7,6.4,7.0,7.3,7.8,7.3,8.4,7.4,7.7,7.7,6.9,7.3,6.8,7.0,6.0,7.9,7.0,7.1,7.6,7.1,6.1,8.1,8.0,7.7,7.2,5.9,6.9,6.2,8.0,8.1,6.8,7.8,7.8,8.4,6.8,9.2],\"rating_count\":[97.0,58.0,66.0,42.0,36.0,32.0,36.0,32.0,36.0,32.0,31.0,27.0,23.0,24.0,18.0,20.0,19.0,18.0,20.0,18.0,20.0,8.0,13.0,15.0,14.0,15.0,13.0,14.0,20.0,12.0,14.0,12.0,18.0,14.0,11.0,16.0,18.0,15.0,12.0,11.0,14.0,11.0,8.0,13.0,18.0,10.0,10.0,8.0,11.0,10.0,8.0,8.0,9.0,9.0,8.0,10.0,8.0,10.0,9.0,11.0,8.0,6.0,7.0,6.0,7.0,6.0,7.0,7.0,6.0,7.0,6.0,6.0,7.0,9.0,6.0,6.0,9.0,6.0,8.0,8.0,8.0,9.0,9.0,9.0,6.0,11.0,7.0,9.0,13.0,8.0,5.0,10.0,7.0,7.0,6.0,6.0,7.0,7.0,8.0,7.0,6.0,7.0,10.0,10.0,8.0,7.0,8.0,8.0,8.0,9.0,10.0,13.0,7.0,9.0,11.0,6.0,10.0,9.0,6.0,6.0,8.0,6.0,5.0,8.0,5.0,5.0,5.0],\"title\":[\"George Clooney/Governor Jeb Bush/Mavis Staples & Friends\",\"Scarlett Johansson/Elon Musk/Kendrick Lamar\",\"Vice President Joe Biden/Travis Kalanick/Toby Keith\",\"Amy Schumer/Stephen King/Troubled Waters\",\"Emily Blunt/Justice Stephen Breyer/The Dead Weather\",\"Jake Gyllenhaal/Apple CEO Tim Cook/Run the Jewels & TV on the Radio\",\"Kevin Spacey/Carol Burnett/Abbi Jacobson & Ilana Glazer/Willie Nelson & John Mellencamp\",\"Trevor Noah/Ban Ki-Moon/Chris Stapleton\",\"Lupita Nyong'o/Sen. Bernie Sanders/Cast of \\\"An American in Paris\\\"\",\"Steph Curry/Sen. Ted Cruz/Don Henley\",\"Donald Trump/Ernest Moniz/Raury\",\"Hugh Jackman/Sen. Elizabeth Warren/Pearl Jam\",\"Andrew Sullivan/Maria Shriver/Jim Gaffigan/Archbishop Thomas Wenski\",\"Malala Yousafzai/Kerry Washington/The Arcs\",\"Michelle Obama/Mindy Kaling/John Legend\",\"Ellen Page/Jesse Eisenberg/Dominic Wilcox\",\"Elizabeth Gilbert/John Oliver/Evan Spiegel/Bill Withers/Ed Sheeran\",\"Secretary of State John Kerry/Claire Danes/PewDiePie\",\"Morgan Freeman/Ruth Wilson/Sean Murray\",\"John McCain/Yo-Yo Ma/Misty Copeland\",\"Bill Clinton/Billy Eichner/Florence and the Machine\",\"Gina Rodriguez/Ben Bernanke/Tame Impala\",\"Cate Blanchett/Airbnb CEO Brian Chesky\",\"James Corden/Shane Smith/Halsey\",\"Carey Mulligan/Elvis Costello/Darlene Love\",\"Sarah Silverman/Elijah Wood/The Legends of Zelda: Symphony of the Goddesses\",\"Jack Black/Nick Woodman/Michelle Dorrance\",\"Oprah Winfrey/Joseph Fink & Jeffrey Cranor/Judith Hill\",\"Jimmy Kimmel/\\\"Crimson Peak\\\" Cast/Beach House\",\"Sienna Miller/Melissa Benoist/Chance the Rapper\",\"Hillary Clinton/Anthony Bourdain/Carrie Brownstein/Lianne La Navas\",\"Julianna Margulies/Jonathan Franzen/Alabama Shakes\",\"Seth MacFarlane/Neil DeGrasse Tyson\",\"Charlie Rose/Stacy Schiff/Ghost/The Zombies\",\"Allison Janney/Colin Quinn/Margaret Cho\",\"Antonio Banderas/Reed Hastings/John Irving\",\"Daniel Craig/Elizabeth Gilbert/Dr. Eugenia Cheng\",\"Bryan Cranston/Karl Ove Knausgaard/Shamir\",\"Whoopi Goldberg/Gov. John Kasich/Glen Hansard\",\"Ethan Hawke/Sen. Claire McCaskill & Sen. Amy Klobuchar/Nathaniel Ratcliff & the Night Sweats\",\"Aziz Ansari/Shonda Rhimes/Bruce Campbell & Lucy Lawless\",\"Viola Davis/Brian Greene/George Ezra\",\"Jennifer Connelly/Judd Apatow/The Internet\",\"Mark Ruffalo/John Cleese/Micheal Flatley\",\"Capt. Florent Groberg/Bill Maher/Shepard Fairey/The Acro-Cats\",\"Julianne Moore/Burt Reynolds/Public Image Ltd./CeeLo Green\",\"Sharon Stone/Justin Theroux/James Taylor\",\"Jane Fonda/Andrew Lloyd Webber/Brandon Niederauer\",\"Michael Caine/Larry Wilmore/Boots/Vulfpeck\",\"Sylvester Stallone/Ted Koppel/My Morning Jacket\",\"Spike Lee/Andy Cohen/Carly Simon\",\"Gloria Estefan/Navy Seal Eric Greitens/Jake Wood/Chef Daniel Boulud\",\"Steve Carell/Jennifer Hudson\",\"Marion Cotillard/George Saunders/Joanna Newsom\",\"Cast of \\\"Downton Abbey\\\"/Adam McKay/Kurt Vile\",\"Bruce Willis/Michael Lewis/Lizzo\",\"Lin-Manuel Miranda/Ike Barinholtz/Sharon Jones & the Dap Kings\",\"Jennifer Lawrence/Doris Kearns Goodwin/Sleater-Kinney\",\"Quentin Tarantino/Jonathan Groff/Squeeze\",\"Robert De Niro/Daniel Gilbert/Henry Rollins\",\"Michael Moore/Samantha Power/Michael C. Hall\",\"Mandy Patinkin/Kayvon Beykpour/Leon Bridges\",\"Samuel L. Jackson/Olivia Hallisey/Foals\",\"John Krasinski/Killer Mike/George Church/Foals\",\"Jerry Seinfeld/Sen. Rand Paul/Andra Day\",\"Damian Lewis/America Ferrera/FloydLittle's Double Dutch Team\",\"Matthew Broderick/Sarah Parcak/Kacey Musgraves\",\"Saoirse Ronan/Jeremy Stoppelman/Laura Ricciardi & Moira Demos/James Bay\",\"Paul Giamatti/Guerilla Girls/J.B. Mauney\",\"Olivia Munn/T.J. Miller/Father John Misty\",\"Scott Kelly/Abby Wambach/Maria Bamford\",\"Patricia Heaton/Quincy Jones/DeRay Mckesson/Grace\",\"Charlie Day/Colin Hanks/Margo Price\",\"James Spader/Brandon Marshall/Sarah Koenig/Rev Run\",\"Christian Slater/Josh Radnor/Iggy Pop\",\"Steven Tyler/Gaby Hoffmann/Lapsley\",\"Donald Rumsfeld/Russell Westbrook/Anderson Paak & the Free Nationals\",\"Laurence Fishburne/Sarah Paulson/Woke\",\"Chris Pine/Danielle Brooks/Jonah Reider/Baauer\",\"Josh Brolin/John Dickerson/Erin Brockovich/Aubrie Sellers\",\"John Travolta & Courtney B. Vance/Amy Cuddy/John Moreland\",\"David Schwimmer/Pastor Joel Osteen/M. Ward\",\"Dr. Phil McGraw/Mark & Jay Duplass/Michael Eric Dyson/Anderson Paak & the Free Nationals\",\"Michael Strahan/Samantha Bee/Wilco\",\"Bobby Cannavale/Donny Deutsch/Charles Kelley\",\"Tina Fey & Margot Robbie/Will Ferrell/Megyn Kelly/Keegan-Michael Key & Jordan Peele\",\"Bill O'Reilly/Eddie George/Macklemore & Ryan Lewis\",\"Olivia Wilde/Christiane Amanpour\",\"Ben Stiller/Sen. Bernie Sanders/TAO: Seventeen Samurai\",\"Kelsey Grammer/Fred Armisen/Sarah McDaniel/Ty Segall & the Muggers\",\"Craig Ferguson/Hailey Clauson & Ashley Graham/Cory Booker\",\"Eva Longoria/Abbi Jacobson & Ilana Glazer/Lucinda Williams\",\"Chelsea Handler/Zosia Mamet/The Lumineers\",\"Casey Affleck/Richard Dreyfuss/Mavis Staples\",\"Debra Messing/Zachary Quinto/Violent Femmes\",\"Adrien Brody/Danai Gurira/Brian Greene\",\"Tim Daly/Krysten Ritter/Jason Isbell\",\"Spike Jonze/Jeffrey Dean Morgan/Jack Garratt\",\"Chrissy Teigen/Mike Birbiglia/Adam Savage\",\"Octavia Spencer/John Stamos, Bob Saget & Dave Coulier/Lucius\",\"Christopher Meloni/Edward Byers/Ray LaMontagne\",\"Will Arnett/Charles Barkley/Max Greenfield\",\"Helen Mirren/J.J. Abrams/DMA's\",\"Sally Field/Jerrod Carmichael/Esperanza Spalding\",\"Anna Kendrick/Loretta Lynch/Brian Fallon\",\"Jeff Daniels/Audra McDonald/Mary Elizabeth Winstead\",\"John Oliver/Jordan Spieth/New Order\",\"Steve Martin & Edie Brickell/Shirley MacLaine/Gustavo Dudamel/Los Angeles Philharmonic\",\"Theo James/Jussie Smollett/Laurie Anderson\",\"William H. Macy/Melissa Rauch/Isaac Mizrahi\",\"Tom Hiddleston/Laura Benanti/Frightened Rabbit\",\"Adam Driver/Rachel Bloom/Savages\",\"Eric Stonestreet/Jason Jones/Sen. Elizabeth Warren\",\"Sarah Paulson/Tatiana Maslany/Wynton Marsalis, Lil Buck & Jared Grimes\",\"Steve Buscemi/Benjamin Walker/Cast of Broadway's \\\"American Psycho\\\"\",\"Matthew Perry/Nick Offerman/Explosions in the Sky\",\"Melissa McCarthy & Ben Falcone/Arianna Huffington/Babymetal\",\"Anna Kendrick & Sam Rockwell/David Duchovny/Autolux\",\"Mindy Kaling/Tituss Burgess/Ken Burns\",\"Hillary Clinton/Jesse Tyler Ferguson/Katharine McPhee/Sturgill Simpson\",\"Kevin Spacey/Thomas Middleditch/The Flaming Lips\",\"Tom Hanks/Leslie Odom, Jr./The Strumbellas/Roy Haynes\",\"Julia Louis-Dreyfus/Nikolaj Coster-Waldau/Sam Morril\",\"Susan Sarandon/David Tennant/Catfish & the Bottlemen\",\"Dakota Johnson/Sebastian Stan/Lukas Nelson & Promise of the Real\",\"Chloe Grace Moretz/Katie Couric/Brian Green/Charlamagne Tha God\",\"Kate Beckinsale/B.J. Novak/Desiigner\"]}},\"id\":\"542a5e76-736a-4ce8-a018-3a98bdaeae93\",\"type\":\"ColumnDataSource\"},{\"attributes\":{\"formatter\":{\"id\":\"62cedab1-f21a-41d3-b7d8-b75549509fcf\",\"type\":\"DatetimeTickFormatter\"},\"plot\":{\"id\":\"bf2b4baa-119b-4018-abfa-f3fbafd8b120\",\"subtype\":\"Figure\",\"type\":\"Plot\"},\"ticker\":{\"id\":\"f4475366-9fe0-4280-82d1-8a4742b25f34\",\"type\":\"DatetimeTicker\"}},\"id\":\"8a070089-cf5b-4102-b5a2-696498f88bf8\",\"type\":\"DatetimeAxis\"},{\"attributes\":{\"max_interval\":500.0,\"num_minor_ticks\":0},\"id\":\"6cd874fb-7373-44a3-ad4f-78ebb7898dcd\",\"type\":\"AdaptiveTicker\"},{\"attributes\":{\"below\":[{\"id\":\"8a070089-cf5b-4102-b5a2-696498f88bf8\",\"type\":\"DatetimeAxis\"}],\"left\":[{\"id\":\"75d0639e-2e02-4b59-be1f-daf5246f396a\",\"type\":\"LinearAxis\"}],\"logo\":null,\"plot_height\":400,\"plot_width\":950,\"renderers\":[{\"id\":\"8a070089-cf5b-4102-b5a2-696498f88bf8\",\"type\":\"DatetimeAxis\"},{\"id\":\"debf9d71-b42e-4fdc-bc80-213cb2a21661\",\"type\":\"Grid\"},{\"id\":\"75d0639e-2e02-4b59-be1f-daf5246f396a\",\"type\":\"LinearAxis\"},{\"id\":\"2ee6d186-9350-4518-b4d1-970858d67886\",\"type\":\"Grid\"},{\"id\":\"0bdfbd2b-639e-47b0-a478-b01942eb08fd\",\"type\":\"BoxAnnotation\"},{\"id\":\"42824931-cc08-43a1-a95b-9a470a07f0b4\",\"type\":\"GlyphRenderer\"}],\"title\":\"Ratings per Episode\",\"tool_events\":{\"id\":\"de41d040-284d-4db5-b0ac-2f14e7455ae4\",\"type\":\"ToolEvents\"},\"tools\":[{\"id\":\"58b36ef6-ae41-40a4-a671-5ae190a720fd\",\"type\":\"PanTool\"},{\"id\":\"6b455d6f-10b4-4d40-b044-0ed42171ac5e\",\"type\":\"WheelZoomTool\"},{\"id\":\"0e09bccd-21d5-4c9c-b557-6657a7e72b90\",\"type\":\"BoxZoomTool\"},{\"id\":\"73347f5f-1813-4dd7-b2c4-c567955af081\",\"type\":\"PreviewSaveTool\"},{\"id\":\"88865837-be1a-4aa8-a74b-37411747e13c\",\"type\":\"ResizeTool\"},{\"id\":\"fcea0049-85ec-49d9-b4e4-c8f8a322dd16\",\"type\":\"ResetTool\"},{\"id\":\"49cea4fc-d18d-46df-8b7f-5ec52907e811\",\"type\":\"HelpTool\"},{\"id\":\"0e10fef8-0ac3-4709-a295-a2b5f57c217b\",\"type\":\"HoverTool\"}],\"x_range\":{\"id\":\"6cd74d36-e0b6-4d8f-bb37-cf15928c89ea\",\"type\":\"DataRange1d\"},\"y_range\":{\"id\":\"1ad9f06a-aebe-4428-869d-1cf5e5b73ff7\",\"type\":\"DataRange1d\"}},\"id\":\"bf2b4baa-119b-4018-abfa-f3fbafd8b120\",\"subtype\":\"Figure\",\"type\":\"Plot\"},{\"attributes\":{\"days\":[1,2,3,4,5,6,7,8,9,10,11,12,13,14,15,16,17,18,19,20,21,22,23,24,25,26,27,28,29,30,31]},\"id\":\"7dfc6a66-ba02-42af-b2c4-e1cfefbfc9f3\",\"type\":\"DaysTicker\"},{\"attributes\":{\"plot\":{\"id\":\"9f09edd8-9092-42ea-8ed8-b29298bbac8a\",\"subtype\":\"Figure\",\"type\":\"Plot\"}},\"id\":\"8132ef18-0a0b-4ef2-86f0-c7fe7e7c939f\",\"type\":\"PanTool\"},{\"attributes\":{\"num_minor_ticks\":5},\"id\":\"f4475366-9fe0-4280-82d1-8a4742b25f34\",\"type\":\"DatetimeTicker\"},{\"attributes\":{\"plot\":{\"id\":\"bf2b4baa-119b-4018-abfa-f3fbafd8b120\",\"subtype\":\"Figure\",\"type\":\"Plot\"},\"ticker\":{\"id\":\"f4475366-9fe0-4280-82d1-8a4742b25f34\",\"type\":\"DatetimeTicker\"}},\"id\":\"debf9d71-b42e-4fdc-bc80-213cb2a21661\",\"type\":\"Grid\"},{\"attributes\":{\"bottom_units\":\"screen\",\"fill_alpha\":{\"value\":0.5},\"fill_color\":{\"value\":\"lightgrey\"},\"left_units\":\"screen\",\"level\":\"overlay\",\"line_alpha\":{\"value\":1.0},\"line_color\":{\"value\":\"black\"},\"line_dash\":[4,4],\"line_width\":{\"value\":2},\"plot\":null,\"render_mode\":\"css\",\"right_units\":\"screen\",\"top_units\":\"screen\"},\"id\":\"1b3bf7de-1d15-47fb-b400-cd66a1bd82a1\",\"type\":\"BoxAnnotation\"},{\"attributes\":{\"months\":[0,6]},\"id\":\"0c64d67d-8fd3-4c73-83db-0f24f302fcae\",\"type\":\"MonthsTicker\"},{\"attributes\":{\"use_scientific\":false},\"id\":\"55dab31a-de62-4dc9-a5a3-6f0ca5376d1f\",\"type\":\"BasicTickFormatter\"},{\"attributes\":{\"months\":[0,4,8]},\"id\":\"97267ec6-31d2-43cf-9641-3c38777e5dc6\",\"type\":\"MonthsTicker\"},{\"attributes\":{\"bottom_units\":\"screen\",\"fill_alpha\":{\"value\":0.5},\"fill_color\":{\"value\":\"lightgrey\"},\"left_units\":\"screen\",\"level\":\"overlay\",\"line_alpha\":{\"value\":1.0},\"line_color\":{\"value\":\"black\"},\"line_dash\":[4,4],\"line_width\":{\"value\":2},\"plot\":null,\"render_mode\":\"css\",\"right_units\":\"screen\",\"top_units\":\"screen\"},\"id\":\"0bdfbd2b-639e-47b0-a478-b01942eb08fd\",\"type\":\"BoxAnnotation\"},{\"attributes\":{\"days\":[1,8,15,22]},\"id\":\"f4b09764-2311-4d95-a982-ea1033b0f5d0\",\"type\":\"DaysTicker\"},{\"attributes\":{\"callback\":null},\"id\":\"84621763-ef3a-4d9e-a0c8-68b1dfd4eb1c\",\"type\":\"DataRange1d\"},{\"attributes\":{\"use_scientific\":false},\"id\":\"2be94a87-a02b-4e21-8d32-1c462cb61208\",\"type\":\"BasicTickFormatter\"},{\"attributes\":{\"fill_color\":{\"value\":\"#1f77b4\"},\"line_color\":{\"value\":\"#1f77b4\"},\"line_width\":{\"value\":2},\"size\":{\"units\":\"screen\",\"value\":5},\"x\":{\"field\":\"air_date\"},\"y\":{\"field\":\"rating_count\"}},\"id\":\"d3b048eb-5706-4de7-b871-81899dd4a76d\",\"type\":\"Circle\"},{\"attributes\":{\"plot\":{\"id\":\"9f09edd8-9092-42ea-8ed8-b29298bbac8a\",\"subtype\":\"Figure\",\"type\":\"Plot\"}},\"id\":\"fb62018b-beeb-46bf-aef1-2bfbe03ccbb9\",\"type\":\"HelpTool\"},{\"attributes\":{\"months\":[0,2,4,6,8,10]},\"id\":\"fdc78025-c916-4397-8032-617fdc70a322\",\"type\":\"MonthsTicker\"},{\"attributes\":{\"max_interval\":500.0,\"num_minor_ticks\":0},\"id\":\"29a950d9-6a90-4bb1-a1a3-9fdc72994bb9\",\"type\":\"AdaptiveTicker\"},{\"attributes\":{\"dimension\":1,\"plot\":{\"id\":\"9f09edd8-9092-42ea-8ed8-b29298bbac8a\",\"subtype\":\"Figure\",\"type\":\"Plot\"},\"ticker\":{\"id\":\"44ac70b0-91ee-4a0a-820c-4508950724d0\",\"type\":\"BasicTicker\"}},\"id\":\"2cb6b930-081a-4321-b732-e2de79a8a74b\",\"type\":\"Grid\"},{\"attributes\":{\"months\":[0,4,8]},\"id\":\"fc167ac7-e299-4aa7-b5bf-5c7c5150c9ae\",\"type\":\"MonthsTicker\"},{\"attributes\":{\"plot\":{\"id\":\"9f09edd8-9092-42ea-8ed8-b29298bbac8a\",\"subtype\":\"Figure\",\"type\":\"Plot\"},\"ticker\":{\"id\":\"900e04a2-498f-4ad8-95f0-eecf902b78d7\",\"type\":\"DatetimeTicker\"}},\"id\":\"d9769bc1-a648-4e5d-92d3-8bf80c5896f2\",\"type\":\"Grid\"},{\"attributes\":{\"plot\":{\"id\":\"bf2b4baa-119b-4018-abfa-f3fbafd8b120\",\"subtype\":\"Figure\",\"type\":\"Plot\"}},\"id\":\"49cea4fc-d18d-46df-8b7f-5ec52907e811\",\"type\":\"HelpTool\"},{\"attributes\":{\"plot\":{\"id\":\"9f09edd8-9092-42ea-8ed8-b29298bbac8a\",\"subtype\":\"Figure\",\"type\":\"Plot\"}},\"id\":\"6be1a338-7d38-4a01-9b47-a7068c3fe156\",\"type\":\"PreviewSaveTool\"},{\"attributes\":{\"fill_alpha\":{\"value\":0.1},\"fill_color\":{\"value\":\"#1f77b4\"},\"line_alpha\":{\"value\":0.1},\"line_color\":{\"value\":\"#1f77b4\"},\"line_width\":{\"value\":2},\"size\":{\"units\":\"screen\",\"value\":5},\"x\":{\"field\":\"air_date\"},\"y\":{\"field\":\"rating\"}},\"id\":\"c3a0b207-5b1b-4a9a-a010-617763bdca82\",\"type\":\"Circle\"},{\"attributes\":{\"callback\":null,\"column_names\":[\"episode_number\",\"rating\",\"index\",\"air_date\",\"title\",\"rating_count\",\"air_date_str\"],\"data\":{\"air_date\":[1441670400000.0,1441756800000.0,1441843200000.0,1441929600000.0,1442188800000.0,1442275200000.0,1442361600000.0,1442448000000.0,1442534400000.0,1442793600000.0,1442880000000.0,1442966400000.0,1443052800000.0,1443139200000.0,1443398400000.0,1443484800000.0,1443571200000.0,1443657600000.0,1443744000000.0,1444003200000.0,1444089600000.0,1444176000000.0,1444262400000.0,1444348800000.0,1444608000000.0,1444694400000.0,1444780800000.0,1444867200000.0,1444953600000.0,1445817600000.0,1445904000000.0,1445990400000.0,1446076800000.0,1446163200000.0,1446422400000.0,1446508800000.0,1446595200000.0,1446681600000.0,1446768000000.0,1447027200000.0,1447113600000.0,1447200000000.0,1447286400000.0,1447372800000.0,1447632000000.0,1447718400000.0,1447804800000.0,1447891200000.0,1447977600000.0,1448236800000.0,1448323200000.0,1448409600000.0,1449446400000.0,1449532800000.0,1449619200000.0,1449705600000.0,1449792000000.0,1450051200000.0,1450137600000.0,1450224000000.0,1450310400000.0,1450396800000.0,1451865600000.0,1451952000000.0,1452038400000.0,1452124800000.0,1452211200000.0,1452556800000.0,1452643200000.0,1452729600000.0,1452816000000.0,1453075200000.0,1453161600000.0,1453248000000.0,1453334400000.0,1453420800000.0,1453680000000.0,1453766400000.0,1453852800000.0,1453939200000.0,1454284800000.0,1454371200000.0,1454457600000.0,1454544000000.0,1454630400000.0,1454803200000.0,1454889600000.0,1454976000000.0,1455062400000.0,1455148800000.0,1455494400000.0,1455580800000.0,1455840000000.0,1456099200000.0,1456185600000.0,1456272000000.0,1456358400000.0,1456704000000.0,1456790400000.0,1456876800000.0,1456963200000.0,1457308800000.0,1457395200000.0,1457481600000.0,1457568000000.0,1457654400000.0,1457913600000.0,1458000000000.0,1458086400000.0,1458172800000.0,1459123200000.0,1459209600000.0,1459296000000.0,1459382400000.0,1459468800000.0,1459728000000.0,1459814400000.0,1459900800000.0,1459987200000.0,1460937600000.0,1461024000000.0,1461196800000.0,1461283200000.0,1461715200000.0,1462233600000.0,1462838400000.0,1462924800000.0],\"air_date_str\":[\"09/08/15\",\"09/09/15\",\"09/10/15\",\"09/11/15\",\"09/14/15\",\"09/15/15\",\"09/16/15\",\"09/17/15\",\"09/18/15\",\"09/21/15\",\"09/22/15\",\"09/23/15\",\"09/24/15\",\"09/25/15\",\"09/28/15\",\"09/29/15\",\"09/30/15\",\"10/01/15\",\"10/02/15\",\"10/05/15\",\"10/06/15\",\"10/07/15\",\"10/08/15\",\"10/09/15\",\"10/12/15\",\"10/13/15\",\"10/14/15\",\"10/15/15\",\"10/16/15\",\"10/26/15\",\"10/27/15\",\"10/28/15\",\"10/29/15\",\"10/30/15\",\"11/02/15\",\"11/03/15\",\"11/04/15\",\"11/05/15\",\"11/06/15\",\"11/09/15\",\"11/10/15\",\"11/11/15\",\"11/12/15\",\"11/13/15\",\"11/16/15\",\"11/17/15\",\"11/18/15\",\"11/19/15\",\"11/20/15\",\"11/23/15\",\"11/24/15\",\"11/25/15\",\"12/07/15\",\"12/08/15\",\"12/09/15\",\"12/10/15\",\"12/11/15\",\"12/14/15\",\"12/15/15\",\"12/16/15\",\"12/17/15\",\"12/18/15\",\"01/04/16\",\"01/05/16\",\"01/06/16\",\"01/07/16\",\"01/08/16\",\"01/12/16\",\"01/13/16\",\"01/14/16\",\"01/15/16\",\"01/18/16\",\"01/19/16\",\"01/20/16\",\"01/21/16\",\"01/22/16\",\"01/25/16\",\"01/26/16\",\"01/27/16\",\"01/28/16\",\"02/01/16\",\"02/02/16\",\"02/03/16\",\"02/04/16\",\"02/05/16\",\"02/07/16\",\"02/08/16\",\"02/09/16\",\"02/10/16\",\"02/11/16\",\"02/15/16\",\"02/16/16\",\"02/19/16\",\"02/22/16\",\"02/23/16\",\"02/24/16\",\"02/25/16\",\"02/29/16\",\"03/01/16\",\"03/02/16\",\"03/03/16\",\"03/07/16\",\"03/08/16\",\"03/09/16\",\"03/10/16\",\"03/11/16\",\"03/14/16\",\"03/15/16\",\"03/16/16\",\"03/17/16\",\"03/28/16\",\"03/29/16\",\"03/30/16\",\"03/31/16\",\"04/01/16\",\"04/04/16\",\"04/05/16\",\"04/06/16\",\"04/07/16\",\"04/18/16\",\"04/19/16\",\"04/21/16\",\"04/22/16\",\"04/27/16\",\"05/03/16\",\"05/10/16\",\"05/11/16\"],\"episode_number\":[1,2,3,4,5,6,7,8,9,10,11,12,13,14,15,16,17,18,19,20,21,22,23,24,25,26,27,28,29,30,31,32,33,34,35,36,37,38,39,40,41,42,43,44,45,46,47,48,49,50,51,52,53,54,55,56,57,58,59,60,61,62,63,64,65,66,67,69,70,71,72,73,74,75,76,77,78,79,80,81,82,83,84,85,86,87,88,89,90,91,92,93,96,97,98,99,100,101,102,103,104,105,106,107,108,109,110,111,112,113,114,115,116,117,118,119,120,121,122,123,124,126,127,130,134,139,140],\"index\":[0,1,2,3,4,5,6,7,8,9,10,11,12,13,14,15,16,17,18,19,20,21,22,23,24,25,26,27,28,29,30,31,32,33,34,35,36,37,38,39,40,41,42,43,44,45,46,47,48,49,50,51,52,53,54,55,56,57,58,59,60,61,62,63,64,65,66,68,69,70,71,72,73,74,75,76,77,78,79,80,81,82,83,84,85,86,87,88,89,90,91,92,95,96,97,98,99,100,101,102,103,104,105,106,107,108,109,110,111,112,113,114,115,116,117,118,119,120,121,122,123,125,126,129,133,138,139],\"rating\":[7.5,7.5,8.6,7.4,7.9,7.8,8.0,7.7,8.2,8.0,8.2,7.7,7.3,7.8,7.2,7.4,8.2,6.9,7.7,8.2,7.4,7.9,8.5,7.7,8.1,8.5,8.3,7.2,8.5,7.2,7.9,8.0,8.0,7.3,7.5,7.7,8.3,7.7,7.3,6.9,8.1,7.6,7.6,7.4,8.1,8.0,7.7,8.5,9.0,8.4,7.2,7.1,7.2,7.7,6.6,8.2,7.8,7.4,8.0,7.1,7.9,7.8,7.4,7.7,8.1,7.5,8.0,7.0,7.0,7.0,7.7,7.5,7.6,8.0,7.7,8.5,7.9,7.8,7.2,7.8,7.6,7.0,6.4,7.6,7.7,7.6,7.1,7.4,7.8,7.2,6.8,6.7,6.4,7.0,7.3,7.8,7.3,8.4,7.4,7.7,7.7,6.9,7.3,6.8,7.0,6.0,7.9,7.0,7.1,7.6,7.1,6.1,8.1,8.0,7.7,7.2,5.9,6.9,6.2,8.0,8.1,6.8,7.8,7.8,8.4,6.8,9.2],\"rating_count\":[97.0,58.0,66.0,42.0,36.0,32.0,36.0,32.0,36.0,32.0,31.0,27.0,23.0,24.0,18.0,20.0,19.0,18.0,20.0,18.0,20.0,8.0,13.0,15.0,14.0,15.0,13.0,14.0,20.0,12.0,14.0,12.0,18.0,14.0,11.0,16.0,18.0,15.0,12.0,11.0,14.0,11.0,8.0,13.0,18.0,10.0,10.0,8.0,11.0,10.0,8.0,8.0,9.0,9.0,8.0,10.0,8.0,10.0,9.0,11.0,8.0,6.0,7.0,6.0,7.0,6.0,7.0,7.0,6.0,7.0,6.0,6.0,7.0,9.0,6.0,6.0,9.0,6.0,8.0,8.0,8.0,9.0,9.0,9.0,6.0,11.0,7.0,9.0,13.0,8.0,5.0,10.0,7.0,7.0,6.0,6.0,7.0,7.0,8.0,7.0,6.0,7.0,10.0,10.0,8.0,7.0,8.0,8.0,8.0,9.0,10.0,13.0,7.0,9.0,11.0,6.0,10.0,9.0,6.0,6.0,8.0,6.0,5.0,8.0,5.0,5.0,5.0],\"title\":[\"George Clooney/Governor Jeb Bush/Mavis Staples & Friends\",\"Scarlett Johansson/Elon Musk/Kendrick Lamar\",\"Vice President Joe Biden/Travis Kalanick/Toby Keith\",\"Amy Schumer/Stephen King/Troubled Waters\",\"Emily Blunt/Justice Stephen Breyer/The Dead Weather\",\"Jake Gyllenhaal/Apple CEO Tim Cook/Run the Jewels & TV on the Radio\",\"Kevin Spacey/Carol Burnett/Abbi Jacobson & Ilana Glazer/Willie Nelson & John Mellencamp\",\"Trevor Noah/Ban Ki-Moon/Chris Stapleton\",\"Lupita Nyong'o/Sen. Bernie Sanders/Cast of \\\"An American in Paris\\\"\",\"Steph Curry/Sen. Ted Cruz/Don Henley\",\"Donald Trump/Ernest Moniz/Raury\",\"Hugh Jackman/Sen. Elizabeth Warren/Pearl Jam\",\"Andrew Sullivan/Maria Shriver/Jim Gaffigan/Archbishop Thomas Wenski\",\"Malala Yousafzai/Kerry Washington/The Arcs\",\"Michelle Obama/Mindy Kaling/John Legend\",\"Ellen Page/Jesse Eisenberg/Dominic Wilcox\",\"Elizabeth Gilbert/John Oliver/Evan Spiegel/Bill Withers/Ed Sheeran\",\"Secretary of State John Kerry/Claire Danes/PewDiePie\",\"Morgan Freeman/Ruth Wilson/Sean Murray\",\"John McCain/Yo-Yo Ma/Misty Copeland\",\"Bill Clinton/Billy Eichner/Florence and the Machine\",\"Gina Rodriguez/Ben Bernanke/Tame Impala\",\"Cate Blanchett/Airbnb CEO Brian Chesky\",\"James Corden/Shane Smith/Halsey\",\"Carey Mulligan/Elvis Costello/Darlene Love\",\"Sarah Silverman/Elijah Wood/The Legends of Zelda: Symphony of the Goddesses\",\"Jack Black/Nick Woodman/Michelle Dorrance\",\"Oprah Winfrey/Joseph Fink & Jeffrey Cranor/Judith Hill\",\"Jimmy Kimmel/\\\"Crimson Peak\\\" Cast/Beach House\",\"Sienna Miller/Melissa Benoist/Chance the Rapper\",\"Hillary Clinton/Anthony Bourdain/Carrie Brownstein/Lianne La Navas\",\"Julianna Margulies/Jonathan Franzen/Alabama Shakes\",\"Seth MacFarlane/Neil DeGrasse Tyson\",\"Charlie Rose/Stacy Schiff/Ghost/The Zombies\",\"Allison Janney/Colin Quinn/Margaret Cho\",\"Antonio Banderas/Reed Hastings/John Irving\",\"Daniel Craig/Elizabeth Gilbert/Dr. Eugenia Cheng\",\"Bryan Cranston/Karl Ove Knausgaard/Shamir\",\"Whoopi Goldberg/Gov. John Kasich/Glen Hansard\",\"Ethan Hawke/Sen. Claire McCaskill & Sen. Amy Klobuchar/Nathaniel Ratcliff & the Night Sweats\",\"Aziz Ansari/Shonda Rhimes/Bruce Campbell & Lucy Lawless\",\"Viola Davis/Brian Greene/George Ezra\",\"Jennifer Connelly/Judd Apatow/The Internet\",\"Mark Ruffalo/John Cleese/Micheal Flatley\",\"Capt. Florent Groberg/Bill Maher/Shepard Fairey/The Acro-Cats\",\"Julianne Moore/Burt Reynolds/Public Image Ltd./CeeLo Green\",\"Sharon Stone/Justin Theroux/James Taylor\",\"Jane Fonda/Andrew Lloyd Webber/Brandon Niederauer\",\"Michael Caine/Larry Wilmore/Boots/Vulfpeck\",\"Sylvester Stallone/Ted Koppel/My Morning Jacket\",\"Spike Lee/Andy Cohen/Carly Simon\",\"Gloria Estefan/Navy Seal Eric Greitens/Jake Wood/Chef Daniel Boulud\",\"Steve Carell/Jennifer Hudson\",\"Marion Cotillard/George Saunders/Joanna Newsom\",\"Cast of \\\"Downton Abbey\\\"/Adam McKay/Kurt Vile\",\"Bruce Willis/Michael Lewis/Lizzo\",\"Lin-Manuel Miranda/Ike Barinholtz/Sharon Jones & the Dap Kings\",\"Jennifer Lawrence/Doris Kearns Goodwin/Sleater-Kinney\",\"Quentin Tarantino/Jonathan Groff/Squeeze\",\"Robert De Niro/Daniel Gilbert/Henry Rollins\",\"Michael Moore/Samantha Power/Michael C. Hall\",\"Mandy Patinkin/Kayvon Beykpour/Leon Bridges\",\"Samuel L. Jackson/Olivia Hallisey/Foals\",\"John Krasinski/Killer Mike/George Church/Foals\",\"Jerry Seinfeld/Sen. Rand Paul/Andra Day\",\"Damian Lewis/America Ferrera/FloydLittle's Double Dutch Team\",\"Matthew Broderick/Sarah Parcak/Kacey Musgraves\",\"Saoirse Ronan/Jeremy Stoppelman/Laura Ricciardi & Moira Demos/James Bay\",\"Paul Giamatti/Guerilla Girls/J.B. Mauney\",\"Olivia Munn/T.J. Miller/Father John Misty\",\"Scott Kelly/Abby Wambach/Maria Bamford\",\"Patricia Heaton/Quincy Jones/DeRay Mckesson/Grace\",\"Charlie Day/Colin Hanks/Margo Price\",\"James Spader/Brandon Marshall/Sarah Koenig/Rev Run\",\"Christian Slater/Josh Radnor/Iggy Pop\",\"Steven Tyler/Gaby Hoffmann/Lapsley\",\"Donald Rumsfeld/Russell Westbrook/Anderson Paak & the Free Nationals\",\"Laurence Fishburne/Sarah Paulson/Woke\",\"Chris Pine/Danielle Brooks/Jonah Reider/Baauer\",\"Josh Brolin/John Dickerson/Erin Brockovich/Aubrie Sellers\",\"John Travolta & Courtney B. Vance/Amy Cuddy/John Moreland\",\"David Schwimmer/Pastor Joel Osteen/M. Ward\",\"Dr. Phil McGraw/Mark & Jay Duplass/Michael Eric Dyson/Anderson Paak & the Free Nationals\",\"Michael Strahan/Samantha Bee/Wilco\",\"Bobby Cannavale/Donny Deutsch/Charles Kelley\",\"Tina Fey & Margot Robbie/Will Ferrell/Megyn Kelly/Keegan-Michael Key & Jordan Peele\",\"Bill O'Reilly/Eddie George/Macklemore & Ryan Lewis\",\"Olivia Wilde/Christiane Amanpour\",\"Ben Stiller/Sen. Bernie Sanders/TAO: Seventeen Samurai\",\"Kelsey Grammer/Fred Armisen/Sarah McDaniel/Ty Segall & the Muggers\",\"Craig Ferguson/Hailey Clauson & Ashley Graham/Cory Booker\",\"Eva Longoria/Abbi Jacobson & Ilana Glazer/Lucinda Williams\",\"Chelsea Handler/Zosia Mamet/The Lumineers\",\"Casey Affleck/Richard Dreyfuss/Mavis Staples\",\"Debra Messing/Zachary Quinto/Violent Femmes\",\"Adrien Brody/Danai Gurira/Brian Greene\",\"Tim Daly/Krysten Ritter/Jason Isbell\",\"Spike Jonze/Jeffrey Dean Morgan/Jack Garratt\",\"Chrissy Teigen/Mike Birbiglia/Adam Savage\",\"Octavia Spencer/John Stamos, Bob Saget & Dave Coulier/Lucius\",\"Christopher Meloni/Edward Byers/Ray LaMontagne\",\"Will Arnett/Charles Barkley/Max Greenfield\",\"Helen Mirren/J.J. Abrams/DMA's\",\"Sally Field/Jerrod Carmichael/Esperanza Spalding\",\"Anna Kendrick/Loretta Lynch/Brian Fallon\",\"Jeff Daniels/Audra McDonald/Mary Elizabeth Winstead\",\"John Oliver/Jordan Spieth/New Order\",\"Steve Martin & Edie Brickell/Shirley MacLaine/Gustavo Dudamel/Los Angeles Philharmonic\",\"Theo James/Jussie Smollett/Laurie Anderson\",\"William H. Macy/Melissa Rauch/Isaac Mizrahi\",\"Tom Hiddleston/Laura Benanti/Frightened Rabbit\",\"Adam Driver/Rachel Bloom/Savages\",\"Eric Stonestreet/Jason Jones/Sen. Elizabeth Warren\",\"Sarah Paulson/Tatiana Maslany/Wynton Marsalis, Lil Buck & Jared Grimes\",\"Steve Buscemi/Benjamin Walker/Cast of Broadway's \\\"American Psycho\\\"\",\"Matthew Perry/Nick Offerman/Explosions in the Sky\",\"Melissa McCarthy & Ben Falcone/Arianna Huffington/Babymetal\",\"Anna Kendrick & Sam Rockwell/David Duchovny/Autolux\",\"Mindy Kaling/Tituss Burgess/Ken Burns\",\"Hillary Clinton/Jesse Tyler Ferguson/Katharine McPhee/Sturgill Simpson\",\"Kevin Spacey/Thomas Middleditch/The Flaming Lips\",\"Tom Hanks/Leslie Odom, Jr./The Strumbellas/Roy Haynes\",\"Julia Louis-Dreyfus/Nikolaj Coster-Waldau/Sam Morril\",\"Susan Sarandon/David Tennant/Catfish & the Bottlemen\",\"Dakota Johnson/Sebastian Stan/Lukas Nelson & Promise of the Real\",\"Chloe Grace Moretz/Katie Couric/Brian Green/Charlamagne Tha God\",\"Kate Beckinsale/B.J. Novak/Desiigner\"]}},\"id\":\"57a98140-3901-4622-9c8e-94ce1e863927\",\"type\":\"ColumnDataSource\"},{\"attributes\":{\"callback\":null},\"id\":\"6cd74d36-e0b6-4d8f-bb37-cf15928c89ea\",\"type\":\"DataRange1d\"},{\"attributes\":{\"days\":[1,8,15,22]},\"id\":\"0e80b72a-a6da-4ec1-8afe-2d3c0f763676\",\"type\":\"DaysTicker\"},{\"attributes\":{\"plot\":{\"id\":\"9f09edd8-9092-42ea-8ed8-b29298bbac8a\",\"subtype\":\"Figure\",\"type\":\"Plot\"}},\"id\":\"86a0f097-d35b-407f-84e7-95e2d9e1b66f\",\"type\":\"ResetTool\"},{\"attributes\":{\"fill_alpha\":{\"value\":0.1},\"fill_color\":{\"value\":\"#1f77b4\"},\"line_alpha\":{\"value\":0.1},\"line_color\":{\"value\":\"#1f77b4\"},\"line_width\":{\"value\":2},\"size\":{\"units\":\"screen\",\"value\":5},\"x\":{\"field\":\"air_date\"},\"y\":{\"field\":\"rating_count\"}},\"id\":\"f4eb45cf-b7e5-4a8b-a1a9-8434970f4ffd\",\"type\":\"Circle\"},{\"attributes\":{},\"id\":\"44ac70b0-91ee-4a0a-820c-4508950724d0\",\"type\":\"BasicTicker\"},{\"attributes\":{\"callback\":null},\"id\":\"1ad9f06a-aebe-4428-869d-1cf5e5b73ff7\",\"type\":\"DataRange1d\"},{\"attributes\":{\"days\":[1,4,7,10,13,16,19,22,25,28]},\"id\":\"fd7061f5-a25c-4287-8d9b-1ed19bf255bb\",\"type\":\"DaysTicker\"},{\"attributes\":{\"num_minor_ticks\":5},\"id\":\"900e04a2-498f-4ad8-95f0-eecf902b78d7\",\"type\":\"DatetimeTicker\"},{\"attributes\":{},\"id\":\"1095527b-2607-4c21-b746-f107ffcaea24\",\"type\":\"YearsTicker\"},{\"attributes\":{\"callback\":null},\"id\":\"960c1c80-285b-4a04-8fa5-43b4d28b3ba1\",\"type\":\"DataRange1d\"},{\"attributes\":{\"data_source\":{\"id\":\"542a5e76-736a-4ce8-a018-3a98bdaeae93\",\"type\":\"ColumnDataSource\"},\"glyph\":{\"id\":\"d3b048eb-5706-4de7-b871-81899dd4a76d\",\"type\":\"Circle\"},\"hover_glyph\":null,\"nonselection_glyph\":{\"id\":\"f4eb45cf-b7e5-4a8b-a1a9-8434970f4ffd\",\"type\":\"Circle\"},\"selection_glyph\":null},\"id\":\"075345a7-c377-4e3a-af5f-e2d3e0564f97\",\"type\":\"GlyphRenderer\"},{\"attributes\":{\"days\":[1,15]},\"id\":\"f4c08ab9-bf47-453a-a45f-65d35c6a5cba\",\"type\":\"DaysTicker\"},{\"attributes\":{\"fill_color\":{\"value\":\"#1f77b4\"},\"line_color\":{\"value\":\"#1f77b4\"},\"line_width\":{\"value\":2},\"size\":{\"units\":\"screen\",\"value\":5},\"x\":{\"field\":\"air_date\"},\"y\":{\"field\":\"rating\"}},\"id\":\"a5aa2374-e5f1-48f0-a1fc-ca4fc43111e2\",\"type\":\"Circle\"},{\"attributes\":{\"formatter\":{\"id\":\"c019b2a6-8e6b-4923-a4f6-8b27808402bf\",\"type\":\"DatetimeTickFormatter\"},\"plot\":{\"id\":\"9f09edd8-9092-42ea-8ed8-b29298bbac8a\",\"subtype\":\"Figure\",\"type\":\"Plot\"},\"ticker\":{\"id\":\"900e04a2-498f-4ad8-95f0-eecf902b78d7\",\"type\":\"DatetimeTicker\"}},\"id\":\"26f1dc69-c3fa-4f7a-b440-ecb04ff0589f\",\"type\":\"DatetimeAxis\"},{\"attributes\":{\"formatter\":{\"id\":\"55dab31a-de62-4dc9-a5a3-6f0ca5376d1f\",\"type\":\"BasicTickFormatter\"},\"plot\":{\"id\":\"9f09edd8-9092-42ea-8ed8-b29298bbac8a\",\"subtype\":\"Figure\",\"type\":\"Plot\"},\"ticker\":{\"id\":\"44ac70b0-91ee-4a0a-820c-4508950724d0\",\"type\":\"BasicTicker\"}},\"id\":\"36ef99f1-1f9b-4477-aeb8-fc2be13f7589\",\"type\":\"LinearAxis\"},{\"attributes\":{\"months\":[0,1,2,3,4,5,6,7,8,9,10,11]},\"id\":\"4f89508a-9fda-42ab-8eaa-8065d002450a\",\"type\":\"MonthsTicker\"},{\"attributes\":{\"callback\":null,\"plot\":{\"id\":\"bf2b4baa-119b-4018-abfa-f3fbafd8b120\",\"subtype\":\"Figure\",\"type\":\"Plot\"},\"tooltips\":[[\"episode_number\",\"@episode_number\"],[\"title\",\"@title\"],[\"air_date\",\"@air_date_str\"],[\"rating\",\"@rating{1.11}\"],[\"rating_count\",\"@rating_count{1.11}\"]]},\"id\":\"0e10fef8-0ac3-4709-a295-a2b5f57c217b\",\"type\":\"HoverTool\"},{\"attributes\":{\"base\":24,\"mantissas\":[1,2,4,6,8,12],\"max_interval\":43200000.0,\"min_interval\":3600000.0,\"num_minor_ticks\":0},\"id\":\"087e2587-8d47-4898-b01e-46a3bbb90a9d\",\"type\":\"AdaptiveTicker\"},{\"attributes\":{},\"id\":\"62cedab1-f21a-41d3-b7d8-b75549509fcf\",\"type\":\"DatetimeTickFormatter\"},{\"attributes\":{\"plot\":{\"id\":\"9f09edd8-9092-42ea-8ed8-b29298bbac8a\",\"subtype\":\"Figure\",\"type\":\"Plot\"}},\"id\":\"d61785e1-7dcd-4aa5-aa10-7a9f95247ccf\",\"type\":\"ResizeTool\"},{\"attributes\":{},\"id\":\"d4f1c373-e0d3-42b6-8c4a-9d06027633ab\",\"type\":\"ToolEvents\"},{\"attributes\":{\"dimension\":1,\"plot\":{\"id\":\"bf2b4baa-119b-4018-abfa-f3fbafd8b120\",\"subtype\":\"Figure\",\"type\":\"Plot\"},\"ticker\":{\"id\":\"463ce6b9-0ea3-45ae-be5f-4e7cff31b9b1\",\"type\":\"BasicTicker\"}},\"id\":\"2ee6d186-9350-4518-b4d1-970858d67886\",\"type\":\"Grid\"},{\"attributes\":{},\"id\":\"95e550d7-b440-4221-9932-a79f3df531e9\",\"type\":\"YearsTicker\"},{\"attributes\":{\"base\":60,\"mantissas\":[1,2,5,10,15,20,30],\"max_interval\":1800000.0,\"min_interval\":1000.0,\"num_minor_ticks\":0},\"id\":\"84c5fd7a-3c4a-4275-86e7-bb4051a56ad6\",\"type\":\"AdaptiveTicker\"},{\"attributes\":{\"base\":24,\"mantissas\":[1,2,4,6,8,12],\"max_interval\":43200000.0,\"min_interval\":3600000.0,\"num_minor_ticks\":0},\"id\":\"41d3609c-fefa-4f3a-95b2-425669fe1dc2\",\"type\":\"AdaptiveTicker\"},{\"attributes\":{\"below\":[{\"id\":\"26f1dc69-c3fa-4f7a-b440-ecb04ff0589f\",\"type\":\"DatetimeAxis\"}],\"left\":[{\"id\":\"36ef99f1-1f9b-4477-aeb8-fc2be13f7589\",\"type\":\"LinearAxis\"}],\"logo\":null,\"plot_height\":400,\"plot_width\":950,\"renderers\":[{\"id\":\"26f1dc69-c3fa-4f7a-b440-ecb04ff0589f\",\"type\":\"DatetimeAxis\"},{\"id\":\"d9769bc1-a648-4e5d-92d3-8bf80c5896f2\",\"type\":\"Grid\"},{\"id\":\"36ef99f1-1f9b-4477-aeb8-fc2be13f7589\",\"type\":\"LinearAxis\"},{\"id\":\"2cb6b930-081a-4321-b732-e2de79a8a74b\",\"type\":\"Grid\"},{\"id\":\"1b3bf7de-1d15-47fb-b400-cd66a1bd82a1\",\"type\":\"BoxAnnotation\"},{\"id\":\"075345a7-c377-4e3a-af5f-e2d3e0564f97\",\"type\":\"GlyphRenderer\"}],\"title\":\"Number of Ratings per Episode\",\"tool_events\":{\"id\":\"d4f1c373-e0d3-42b6-8c4a-9d06027633ab\",\"type\":\"ToolEvents\"},\"tools\":[{\"id\":\"8132ef18-0a0b-4ef2-86f0-c7fe7e7c939f\",\"type\":\"PanTool\"},{\"id\":\"8966a424-aff2-4bfa-aa2b-5ca879b545a9\",\"type\":\"WheelZoomTool\"},{\"id\":\"e275fe9b-f2dc-4c96-b44a-a588fb669430\",\"type\":\"BoxZoomTool\"},{\"id\":\"6be1a338-7d38-4a01-9b47-a7068c3fe156\",\"type\":\"PreviewSaveTool\"},{\"id\":\"d61785e1-7dcd-4aa5-aa10-7a9f95247ccf\",\"type\":\"ResizeTool\"},{\"id\":\"86a0f097-d35b-407f-84e7-95e2d9e1b66f\",\"type\":\"ResetTool\"},{\"id\":\"fb62018b-beeb-46bf-aef1-2bfbe03ccbb9\",\"type\":\"HelpTool\"},{\"id\":\"cfba3bf9-8369-48d4-b525-17e12fe62054\",\"type\":\"HoverTool\"}],\"x_range\":{\"id\":\"84621763-ef3a-4d9e-a0c8-68b1dfd4eb1c\",\"type\":\"DataRange1d\"},\"y_range\":{\"id\":\"960c1c80-285b-4a04-8fa5-43b4d28b3ba1\",\"type\":\"DataRange1d\"}},\"id\":\"9f09edd8-9092-42ea-8ed8-b29298bbac8a\",\"subtype\":\"Figure\",\"type\":\"Plot\"},{\"attributes\":{\"months\":[0,1,2,3,4,5,6,7,8,9,10,11]},\"id\":\"fc816a86-b6f7-4a64-8092-513678aaf347\",\"type\":\"MonthsTicker\"},{\"attributes\":{\"months\":[0,2,4,6,8,10]},\"id\":\"e5f6d5f8-d886-444c-a36e-622779540e54\",\"type\":\"MonthsTicker\"},{\"attributes\":{\"formatter\":{\"id\":\"2be94a87-a02b-4e21-8d32-1c462cb61208\",\"type\":\"BasicTickFormatter\"},\"plot\":{\"id\":\"bf2b4baa-119b-4018-abfa-f3fbafd8b120\",\"subtype\":\"Figure\",\"type\":\"Plot\"},\"ticker\":{\"id\":\"463ce6b9-0ea3-45ae-be5f-4e7cff31b9b1\",\"type\":\"BasicTicker\"}},\"id\":\"75d0639e-2e02-4b59-be1f-daf5246f396a\",\"type\":\"LinearAxis\"},{\"attributes\":{\"data_source\":{\"id\":\"57a98140-3901-4622-9c8e-94ce1e863927\",\"type\":\"ColumnDataSource\"},\"glyph\":{\"id\":\"a5aa2374-e5f1-48f0-a1fc-ca4fc43111e2\",\"type\":\"Circle\"},\"hover_glyph\":null,\"nonselection_glyph\":{\"id\":\"c3a0b207-5b1b-4a9a-a010-617763bdca82\",\"type\":\"Circle\"},\"selection_glyph\":null},\"id\":\"42824931-cc08-43a1-a95b-9a470a07f0b4\",\"type\":\"GlyphRenderer\"},{\"attributes\":{\"base\":60,\"mantissas\":[1,2,5,10,15,20,30],\"max_interval\":1800000.0,\"min_interval\":1000.0,\"num_minor_ticks\":0},\"id\":\"f7759e08-e383-4f1c-9908-74f5053b56bd\",\"type\":\"AdaptiveTicker\"},{\"attributes\":{\"days\":[1,2,3,4,5,6,7,8,9,10,11,12,13,14,15,16,17,18,19,20,21,22,23,24,25,26,27,28,29,30,31]},\"id\":\"a36b94b0-9152-4163-bfaa-71beeb90c0d2\",\"type\":\"DaysTicker\"},{\"attributes\":{\"plot\":{\"id\":\"9f09edd8-9092-42ea-8ed8-b29298bbac8a\",\"subtype\":\"Figure\",\"type\":\"Plot\"}},\"id\":\"8966a424-aff2-4bfa-aa2b-5ca879b545a9\",\"type\":\"WheelZoomTool\"},{\"attributes\":{\"days\":[1,15]},\"id\":\"186a166a-1846-4f38-bd7d-980507f11336\",\"type\":\"DaysTicker\"},{\"attributes\":{\"overlay\":{\"id\":\"1b3bf7de-1d15-47fb-b400-cd66a1bd82a1\",\"type\":\"BoxAnnotation\"},\"plot\":{\"id\":\"9f09edd8-9092-42ea-8ed8-b29298bbac8a\",\"subtype\":\"Figure\",\"type\":\"Plot\"}},\"id\":\"e275fe9b-f2dc-4c96-b44a-a588fb669430\",\"type\":\"BoxZoomTool\"},{\"attributes\":{\"plot\":{\"id\":\"bf2b4baa-119b-4018-abfa-f3fbafd8b120\",\"subtype\":\"Figure\",\"type\":\"Plot\"}},\"id\":\"fcea0049-85ec-49d9-b4e4-c8f8a322dd16\",\"type\":\"ResetTool\"},{\"attributes\":{},\"id\":\"463ce6b9-0ea3-45ae-be5f-4e7cff31b9b1\",\"type\":\"BasicTicker\"},{\"attributes\":{\"days\":[1,4,7,10,13,16,19,22,25,28]},\"id\":\"1e61fa96-1ded-4ff7-82e2-81fa54785590\",\"type\":\"DaysTicker\"},{\"attributes\":{\"overlay\":{\"id\":\"0bdfbd2b-639e-47b0-a478-b01942eb08fd\",\"type\":\"BoxAnnotation\"},\"plot\":{\"id\":\"bf2b4baa-119b-4018-abfa-f3fbafd8b120\",\"subtype\":\"Figure\",\"type\":\"Plot\"}},\"id\":\"0e09bccd-21d5-4c9c-b557-6657a7e72b90\",\"type\":\"BoxZoomTool\"},{\"attributes\":{\"plot\":{\"id\":\"bf2b4baa-119b-4018-abfa-f3fbafd8b120\",\"subtype\":\"Figure\",\"type\":\"Plot\"}},\"id\":\"6b455d6f-10b4-4d40-b044-0ed42171ac5e\",\"type\":\"WheelZoomTool\"},{\"attributes\":{\"plot\":{\"id\":\"bf2b4baa-119b-4018-abfa-f3fbafd8b120\",\"subtype\":\"Figure\",\"type\":\"Plot\"}},\"id\":\"58b36ef6-ae41-40a4-a671-5ae190a720fd\",\"type\":\"PanTool\"}],\"root_ids\":[\"bf2b4baa-119b-4018-abfa-f3fbafd8b120\",\"9f09edd8-9092-42ea-8ed8-b29298bbac8a\"]},\"title\":\"Bokeh Application\",\"version\":\"0.11.1\"}};\n",
       "            var render_items = [{\"docid\":\"d170fb06-b756-43fa-a6fe-8d0065f5ebc6\",\"elementid\":\"e8c18d33-f226-4601-90c4-d0f022e080a9\",\"modelid\":\"9f09edd8-9092-42ea-8ed8-b29298bbac8a\",\"notebook_comms_target\":\"70b66311-758f-4d90-8cf1-b8df759d75af\"}];\n",
       "            \n",
       "            Bokeh.embed.embed_items(docs_json, render_items);\n",
       "        });\n",
       "      },\n",
       "      function(Bokeh) {\n",
       "      }\n",
       "    ];\n",
       "  \n",
       "    function run_inline_js() {\n",
       "      for (var i = 0; i < inline_js.length; i++) {\n",
       "        inline_js[i](window.Bokeh);\n",
       "      }\n",
       "    }\n",
       "  \n",
       "    if (window._bokeh_is_loading === 0) {\n",
       "      console.log(\"Bokeh: BokehJS loaded, going straight to plotting\");\n",
       "      run_inline_js();\n",
       "    } else {\n",
       "      load_libs(js_urls, function() {\n",
       "        console.log(\"Bokeh: BokehJS plotting callback run at\", now());\n",
       "        run_inline_js();\n",
       "      });\n",
       "    }\n",
       "  }(this));\n",
       "</script>"
      ]
     },
     "metadata": {},
     "output_type": "display_data"
    },
    {
     "data": {
      "text/html": [
       "<p><code>&lt;Bokeh Notebook handle for <strong>In[7]</strong>&gt;</code></p>"
      ],
      "text/plain": [
       "<bokeh.io._CommsHandle at 0x11a8816a0>"
      ]
     },
     "execution_count": 7,
     "metadata": {},
     "output_type": "execute_result"
    }
   ],
   "source": [
    "p = plot_interactive_timeseries(x='air_date', y='rating_count', data=episodes, \n",
    "                                title=\"Number of Ratings per Episode\",\n",
    "                                hover_cols=hover_cols)\n",
    "show(p)"
   ]
  },
  {
   "cell_type": "markdown",
   "metadata": {},
   "source": [
    "## Ratings vs Rating Count"
   ]
  },
  {
   "cell_type": "code",
   "execution_count": 8,
   "metadata": {
    "collapsed": false
   },
   "outputs": [
    {
     "data": {
      "text/plain": [
       "<matplotlib.axes._subplots.AxesSubplot at 0x1174be5f8>"
      ]
     },
     "execution_count": 8,
     "metadata": {},
     "output_type": "execute_result"
    },
    {
     "data": {
      "image/png": "[encoded data removed]",
      "text/plain": [
       "<matplotlib.figure.Figure at 0x1174884e0>"
      ]
     },
     "metadata": {},
     "output_type": "display_data"
    }
   ],
   "source": [
    "episodes.plot(kind='scatter', x='rating', y='rating_count')"
   ]
  },
  {
   "cell_type": "markdown",
   "metadata": {},
   "source": [
    "## Sentiment Analysis"
   ]
  },
  {
   "cell_type": "code",
   "execution_count": 9,
   "metadata": {
    "collapsed": false,
    "scrolled": false
   },
   "outputs": [
    {
     "data": {
      "text/html": [
       "<div>\n",
       "<table border=\"1\" class=\"dataframe\">\n",
       "  <thead>\n",
       "    <tr style=\"text-align: right;\">\n",
       "      <th></th>\n",
       "      <th>episode_number</th>\n",
       "      <th>air_date</th>\n",
       "      <th>polarity</th>\n",
       "      <th>subjectivity</th>\n",
       "      <th>rating</th>\n",
       "      <th>rating_count</th>\n",
       "    </tr>\n",
       "  </thead>\n",
       "  <tbody>\n",
       "    <tr>\n",
       "      <th>0</th>\n",
       "      <td>1</td>\n",
       "      <td>2015-09-08</td>\n",
       "      <td>0.177883</td>\n",
       "      <td>0.527630</td>\n",
       "      <td>7.5</td>\n",
       "      <td>97.0</td>\n",
       "    </tr>\n",
       "    <tr>\n",
       "      <th>1</th>\n",
       "      <td>2</td>\n",
       "      <td>2015-09-09</td>\n",
       "      <td>0.177891</td>\n",
       "      <td>0.529692</td>\n",
       "      <td>7.5</td>\n",
       "      <td>58.0</td>\n",
       "    </tr>\n",
       "    <tr>\n",
       "      <th>2</th>\n",
       "      <td>3</td>\n",
       "      <td>2015-09-10</td>\n",
       "      <td>0.210318</td>\n",
       "      <td>0.500193</td>\n",
       "      <td>8.6</td>\n",
       "      <td>66.0</td>\n",
       "    </tr>\n",
       "    <tr>\n",
       "      <th>3</th>\n",
       "      <td>4</td>\n",
       "      <td>2015-09-11</td>\n",
       "      <td>0.148042</td>\n",
       "      <td>0.523307</td>\n",
       "      <td>7.4</td>\n",
       "      <td>42.0</td>\n",
       "    </tr>\n",
       "    <tr>\n",
       "      <th>4</th>\n",
       "      <td>5</td>\n",
       "      <td>2015-09-14</td>\n",
       "      <td>0.171476</td>\n",
       "      <td>0.469937</td>\n",
       "      <td>7.9</td>\n",
       "      <td>36.0</td>\n",
       "    </tr>\n",
       "  </tbody>\n",
       "</table>\n",
       "</div>"
      ],
      "text/plain": [
       "   episode_number   air_date  polarity  subjectivity  rating  rating_count\n",
       "0               1 2015-09-08  0.177883      0.527630     7.5          97.0\n",
       "1               2 2015-09-09  0.177891      0.529692     7.5          58.0\n",
       "2               3 2015-09-10  0.210318      0.500193     8.6          66.0\n",
       "3               4 2015-09-11  0.148042      0.523307     7.4          42.0\n",
       "4               5 2015-09-14  0.171476      0.469937     7.9          36.0"
      ]
     },
     "execution_count": 9,
     "metadata": {},
     "output_type": "execute_result"
    }
   ],
   "source": [
    "rows = []\n",
    "for index, row in episodes.iterrows():\n",
    "    if pd.isnull(row.text): continue\n",
    "    blob = TextBlob(row.text)\n",
    "    sentiment = blob.sentiment\n",
    "    row = {\"episode_number\": row.episode_number, \"polarity\": sentiment.polarity, \"subjectivity\": sentiment.subjectivity}\n",
    "    rows.append(row)\n",
    "\n",
    "sentiment = pd.DataFrame(rows).set_index('episode_number')\n",
    "episodes = pd.concat([episodes.set_index('episode_number'), sentiment], axis=1).reset_index()\n",
    "episodes[['episode_number', 'air_date', 'polarity', 'subjectivity', 'rating', 'rating_count']].head()"
   ]
  },
  {
   "cell_type": "code",
   "execution_count": 10,
   "metadata": {
    "collapsed": false
   },
   "outputs": [
    {
     "data": {
      "text/plain": [
       "<matplotlib.legend.Legend at 0x11af7f940>"
      ]
     },
     "execution_count": 10,
     "metadata": {},
     "output_type": "execute_result"
    },
    {
     "data": {
      "image/png": "[encoded data removed]",
      "text/plain": [
       "<matplotlib.figure.Figure at 0x11b86db70>"
      ]
     },
     "metadata": {},
     "output_type": "display_data"
    }
   ],
   "source": [
    "episodes.set_index('air_date').polarity.plot(style='.')\n",
    "episodes.set_index('air_date').subjectivity.plot(style='.')\n",
    "plt.legend()"
   ]
  },
  {
   "cell_type": "code",
   "execution_count": 11,
   "metadata": {
    "collapsed": false
   },
   "outputs": [
    {
     "data": {
      "text/html": [
       "<table class=\"simpletable\">\n",
       "<caption>OLS Regression Results</caption>\n",
       "<tr>\n",
       "  <th>Dep. Variable:</th>         <td>rating</td>      <th>  R-squared:         </th> <td>   0.006</td>\n",
       "</tr>\n",
       "<tr>\n",
       "  <th>Model:</th>                   <td>OLS</td>       <th>  Adj. R-squared:    </th> <td>  -0.010</td>\n",
       "</tr>\n",
       "<tr>\n",
       "  <th>Method:</th>             <td>Least Squares</td>  <th>  F-statistic:       </th> <td>  0.3882</td>\n",
       "</tr>\n",
       "<tr>\n",
       "  <th>Date:</th>             <td>Fri, 20 May 2016</td> <th>  Prob (F-statistic):</th>  <td> 0.679</td> \n",
       "</tr>\n",
       "<tr>\n",
       "  <th>Time:</th>                 <td>22:57:54</td>     <th>  Log-Likelihood:    </th> <td> -108.24</td>\n",
       "</tr>\n",
       "<tr>\n",
       "  <th>No. Observations:</th>      <td>   122</td>      <th>  AIC:               </th> <td>   222.5</td>\n",
       "</tr>\n",
       "<tr>\n",
       "  <th>Df Residuals:</th>          <td>   119</td>      <th>  BIC:               </th> <td>   230.9</td>\n",
       "</tr>\n",
       "<tr>\n",
       "  <th>Df Model:</th>              <td>     2</td>      <th>                     </th>     <td> </td>   \n",
       "</tr>\n",
       "<tr>\n",
       "  <th>Covariance Type:</th>      <td>nonrobust</td>    <th>                     </th>     <td> </td>   \n",
       "</tr>\n",
       "</table>\n",
       "<table class=\"simpletable\">\n",
       "<tr>\n",
       "        <td></td>          <th>coef</th>     <th>std err</th>      <th>t</th>      <th>P>|t|</th> <th>[95.0% Conf. Int.]</th> \n",
       "</tr>\n",
       "<tr>\n",
       "  <th>Intercept</th>    <td>    6.5507</td> <td>    1.225</td> <td>    5.346</td> <td> 0.000</td> <td>    4.125     8.977</td>\n",
       "</tr>\n",
       "<tr>\n",
       "  <th>subjectivity</th> <td>    2.1932</td> <td>    2.489</td> <td>    0.881</td> <td> 0.380</td> <td>   -2.736     7.122</td>\n",
       "</tr>\n",
       "<tr>\n",
       "  <th>polarity</th>     <td>   -0.3564</td> <td>    1.885</td> <td>   -0.189</td> <td> 0.850</td> <td>   -4.089     3.376</td>\n",
       "</tr>\n",
       "</table>\n",
       "<table class=\"simpletable\">\n",
       "<tr>\n",
       "  <th>Omnibus:</th>       <td> 3.405</td> <th>  Durbin-Watson:     </th> <td>   1.570</td>\n",
       "</tr>\n",
       "<tr>\n",
       "  <th>Prob(Omnibus):</th> <td> 0.182</td> <th>  Jarque-Bera (JB):  </th> <td>   2.819</td>\n",
       "</tr>\n",
       "<tr>\n",
       "  <th>Skew:</th>          <td>-0.321</td> <th>  Prob(JB):          </th> <td>   0.244</td>\n",
       "</tr>\n",
       "<tr>\n",
       "  <th>Kurtosis:</th>      <td> 3.378</td> <th>  Cond. No.          </th> <td>    58.7</td>\n",
       "</tr>\n",
       "</table>"
      ],
      "text/plain": [
       "<class 'statsmodels.iolib.summary.Summary'>\n",
       "\"\"\"\n",
       "                            OLS Regression Results                            \n",
       "==============================================================================\n",
       "Dep. Variable:                 rating   R-squared:                       0.006\n",
       "Model:                            OLS   Adj. R-squared:                 -0.010\n",
       "Method:                 Least Squares   F-statistic:                    0.3882\n",
       "Date:                Fri, 20 May 2016   Prob (F-statistic):              0.679\n",
       "Time:                        22:57:54   Log-Likelihood:                -108.24\n",
       "No. Observations:                 122   AIC:                             222.5\n",
       "Df Residuals:                     119   BIC:                             230.9\n",
       "Df Model:                           2                                         \n",
       "Covariance Type:            nonrobust                                         \n",
       "================================================================================\n",
       "                   coef    std err          t      P>|t|      [95.0% Conf. Int.]\n",
       "--------------------------------------------------------------------------------\n",
       "Intercept        6.5507      1.225      5.346      0.000         4.125     8.977\n",
       "subjectivity     2.1932      2.489      0.881      0.380        -2.736     7.122\n",
       "polarity        -0.3564      1.885     -0.189      0.850        -4.089     3.376\n",
       "==============================================================================\n",
       "Omnibus:                        3.405   Durbin-Watson:                   1.570\n",
       "Prob(Omnibus):                  0.182   Jarque-Bera (JB):                2.819\n",
       "Skew:                          -0.321   Prob(JB):                        0.244\n",
       "Kurtosis:                       3.378   Cond. No.                         58.7\n",
       "==============================================================================\n",
       "\n",
       "Warnings:\n",
       "[1] Standard Errors assume that the covariance matrix of the errors is correctly specified.\n",
       "\"\"\""
      ]
     },
     "execution_count": 11,
     "metadata": {},
     "output_type": "execute_result"
    }
   ],
   "source": [
    "mod = smf.ols(formula='rating ~ subjectivity + polarity', data=episodes)\n",
    "res = mod.fit()\n",
    "res.summary()"
   ]
  },
  {
   "cell_type": "markdown",
   "metadata": {},
   "source": [
    "## Subtitles of Most Recent Episodes"
   ]
  },
  {
   "cell_type": "code",
   "execution_count": 12,
   "metadata": {
    "collapsed": false,
    "scrolled": false
   },
   "outputs": [
    {
     "data": {
      "text/html": [
       "<strong>140 Kate Beckinsale/B.J. Novak/Desiigner</strong>"
      ],
      "text/plain": [
       "<IPython.core.display.HTML object>"
      ]
     },
     "metadata": {},
     "output_type": "display_data"
    },
    {
     "name": "stdout",
     "output_type": "stream",
     "text": [
      "Captioning sponsored by CBS\n",
      "Stephen: BUT I LOVE DONUTS. JUST TELL THEM TO BRING THE DONUTS. WE DON'T HAVE TO TALK ABOUT THE MOVIE. I'D LOVE TO HAVE HIM ON THE SHOW. THAT WOULD BE GREAT. LIZ.\n",
      "STEPHEN.\n",
      "Stephen: WE MEET AGAIN. WHAT CAN I DO FOR YOU?\n",
      "IN THE BROADWAY COLD OPEN, DO YOU ACTUALLY WANT TO PARTICIPATE IN THE DANCE, OR DO YOU JUST WANT TO BANG ON A DRUM AND NOT DO MUCH GLP I'LL JUST BANG ON A DRUM.\n",
      "GREAT.\n",
      "Stephen: ANY OTHER FOLLOW-UP QUESTIONS.\n",
      "YES, DOES THAT MEAN THEY DON'T HAVE TO COME EARLY AND REHEARSE.\n",
      "Stephen: YES, I'M BEAMING UP. I WANT TO DANCE, OR I DON'T. FIND OUT.\n",
      "TONIGHT, STEPHEN WELCOMES KATE BECKINSALE AND A MUSICAL PERFORMANCE BY DESIIGNER. FEATURING JON BATISTE AND STAY HUMAN. AND NOW IT'S TIME FOR \"THE LATE SHOW\" WITH STEPHEN COLBERT\"! ( CHEERS AND APPLAUSE )\n",
      "Stephen...\n",
      "\n",
      "----------------------------------\n",
      "\n"
     ]
    },
    {
     "data": {
      "text/html": [
       "<strong>141 Ryan Gosling & Russell Crowe/Jessie Mueller/Animal Collective</strong>"
      ],
      "text/plain": [
       "<IPython.core.display.HTML object>"
      ]
     },
     "metadata": {},
     "output_type": "display_data"
    },
    {
     "name": "stdout",
     "output_type": "stream",
     "text": [
      "Stephen: I AM SO EXCITED ABOUT TONIGHT'S SHOW. BOTH RYAN GOSLING AND RUSSELL CROWE ARE HERE AND I'M GOING TO STOP BY AND SAY HI. DO ALL OF YOU NEED TO BE HERE RIGHT NOW? (LAUGHTER)\n",
      "YES, WE ALL NEED TO BE DOWN HERE. FOR WORK.\n",
      "Stephen: OH, REALLY? SO YOU'RE NOT JUST STANDING HERE WAITING FOR RYAN GOSLING AND RUSSELL CROWE TO WALK OUT?\n",
      "NO. ARE THEY ON THE SHOW TONIGHT? WE DIDN'T EVEN REALIZE. AWKWARD.\n",
      "Stephen: WELL, I'M GOING TO SAY HI.\n",
      "WE WILL WATCH YOU.\n",
      "Announcer: TONIGHT, STEPHEN WELCOMES RYAN GOSLING AND RUSSELL CROWE! JESSIE MUELLER! AND A MUSICAL PERFORMANCE BY ANIMAL COLLECTIVE! FEATURING JON BATISTE AND \"STAY HUMAN\"! (CHEERS AND APPLAUSE) AND NOW IT'S TIME FOR \"THE LATE SHOW\" WITH STEPHEN COLBERT! (CHEERS AND APPLAUSE) ♪  Captioning sponsored by CBS ♪ ♪ ♪\n",
      "Stephen: HEY! HEY, EVERYBODY!...\n",
      "\n",
      "----------------------------------\n",
      "\n"
     ]
    },
    {
     "data": {
      "text/html": [
       "<strong>142 Matt Bomer/Zach Woods/Nick Griffin</strong>"
      ],
      "text/plain": [
       "<IPython.core.display.HTML object>"
      ]
     },
     "metadata": {},
     "output_type": "display_data"
    },
    {
     "name": "stdout",
     "output_type": "stream",
     "text": [
      "ARE YOU READY FOR MAIRK UP?\n",
      "Stephen: YEAH. I WANT TO TRY A DIFFERENT LOOK TONIGHT, THOUGH.\n",
      "OKAY. ( LAUGHTER ).\n",
      "Stephen: THAT'S A LITTLE TOO SALVADOR DAWLEY. SOMETHING ELSE. OOH, I LIKE McGREET, BUT I WON'T BE ABLE TO SEE MY GUESTS. SOMETHING ELSE. WOW! PICASSO IS BOLD, BUT MY GLASSES WON'T FIT. ( LAUGHTER ) JUST GIVE ME SOMETHING SIMPLE AND MASCULINE. OH, YEAH, SEXY GINGER.\n",
      "TONIGHT, STEPHEN WELCOMES MATT BOMER ZACH WOODS AND A PERFORMANCE BY COMEDIAN NICK GRIFFIN. FEATURING JON BATISTE AND STAY HUMAN. AND NOW IT'S TIME FOR \"THE LATE SHOW WITH STEPHEN COLBERT\"! ( CHEERS AND APPLAUSE )\n",
      "Stephen: HEY! HEY! BOOM! BA! WELCOME. HEY, EVERYBODY. HEY, YOU DOWN THERE. SORRY, I DROPPED MY PHONE. I DROPPED MY PHONE. I ALWAYS JUST CARRY A PHONE WITH ME. JUST IN CASE. I GOTTA GO. I GOTTA TALK TO-- SORRY,...\n",
      "\n",
      "----------------------------------\n",
      "\n"
     ]
    },
    {
     "data": {
      "text/html": [
       "<strong>143 Jason Sudeikis/Michael Weatherly/Megyn Kelly</strong>"
      ],
      "text/plain": [
       "<IPython.core.display.HTML object>"
      ]
     },
     "metadata": {},
     "output_type": "display_data"
    },
    {
     "name": "stdout",
     "output_type": "stream",
     "text": [
      "Stephen: GOOD EVENING. I'M STEPHEN COLBERT. BEFORE WE BEGIN: A DISCLAIMER AND A  WARNING FOR VIEWERS OF TONIGHT'S EPISODE. DUE TO NEWS EVENTS BEYOND OUR CONTROL, TONIGHT'S BROADCAST OF \"THE LATE SHOW\" CONTAINS GRAPHIC MATERIAL, SPECIFICALLY THE PHRASE: \"DONALD TRUMP KISSED VARIOUS WOMEN ON THE MOUTH.\" (LAUGHTER)\n",
      "Stephen: I'M SORRY. THIS MATERIAL MAY BE UNSUITABLE FOR SOME VIEWERS, INCLUDING CHILDREN, ADULTS AND LIVING CREATURES WITH A MOUTH. ADDITIONALLY, VIEWERS WITH \"EYES\" SHOULD BE WARNED THAT WE MAY SHOW IMAGES SUCH AS THIS: THIS... OR EVEN THIS. (AUDIENCE REACTS) IT WAS A SLOW YEAR AT THE MISS UNIVERSE PAGEANT. AND ONE FINAL DISCLAIMER: THIS SHOW WILL CONTAIN REFERENCES TO THE FACT THAT DONALD TRUMP MAY BECOME PRESIDENT.  Captioning sponsored by CBS\n",
      "Announcer: TONIGHT... STEPHEN WELCO...\n",
      "\n",
      "----------------------------------\n",
      "\n"
     ]
    },
    {
     "data": {
      "text/html": [
       "<strong>144 Anthony Anderson/Eugene Levy & Catherine O'Hara/Coldplay</strong>"
      ],
      "text/plain": [
       "<IPython.core.display.HTML object>"
      ]
     },
     "metadata": {},
     "output_type": "display_data"
    },
    {
     "name": "stdout",
     "output_type": "stream",
     "text": [
      "Stephen: HEY, CHRIS.\n",
      "HEY, STEPHEN GR HEY, MAN, THANKS SO MUCH FOR BEING HERE. WE'RE SO EXCITED COLDPLAY IS ON THE SHOW TONIGHT.\n",
      "IT LOOKS LIKE AN AMAZING SHOW.\n",
      "Stephen: YEAR GOING TO HAVE A GOOD TIME.\n",
      "EVERYTHING LOOKS GREAT, JUST ONE THING.\n",
      "Stephen: ABOUT THE SHOW?\n",
      "ABOUT THEE SONG.\n",
      "Stephen: IS THEREHING WRONG WITH THE THEME\n",
      "NO, THE TUNE ISAT, THE TUNE IS GREAT, BUT I FEEL LIK IT NEEDS WOR IT NEEDS LYRICS SO I'VE BEEN WORKING ON IT RIGHT HERE YOU.\n",
      "Stephen:  WROTE LYRICS TO OUR THEME SONG?\n",
      "I DID.\n",
      "Stephen: I CAN HEAR THEM?\n",
      "YOU KNOW HOW THE SHOW OPENS WITH THE DRUM SHOAL. AND SHOO-BE-DO-DOP. SHOO-DOO-DOP-DOO.\n",
      "Stephen: THAT'S OUR THEME\n",
      "THANKS, MAN, I'M GLAD YOU LOVE IT.\n",
      "Stephen: I'M SORRY, ARE THOSE THE LYRICS?\n",
      "YEAH.\n",
      "Stephen: DOOBY-SHOULD, OF SHOO-BE-DO. SHOO-BE-DO-BE-DO,.\n",
      "Stephen: BE-DO, YEAH.\n",
      "...\n",
      "\n",
      "----------------------------------\n",
      "\n"
     ]
    }
   ],
   "source": [
    "for i, row in episodes.tail(5).iterrows():\n",
    "    if pd.isnull(row.text): continue\n",
    "    printb(row.episode_number, row.title)\n",
    "    print(row.text[:800] + '...')\n",
    "    print(\"\\n----------------------------------\\n\")"
   ]
  }
 ],
 "metadata": {
  "kernelspec": {
   "display_name": "Python 3",
   "language": "python",
   "name": "python3"
  },
  "language_info": {
   "codemirror_mode": {
    "name": "ipython",
    "version": 3
   },
   "file_extension": ".py",
   "mimetype": "text/x-python",
   "name": "python",
   "nbconvert_exporter": "python",
   "pygments_lexer": "ipython3",
   "version": "3.5.1"
  }
 },
 "nbformat": 4,
 "nbformat_minor": 0
}
