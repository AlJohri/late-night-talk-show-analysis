{
 "cells": [
  {
   "cell_type": "markdown",
   "metadata": {},
   "source": [
    "# The Late Show with Stephen Colbert Analysis"
   ]
  },
  {
   "cell_type": "markdown",
   "metadata": {},
   "source": [
    "## Standard Imports"
   ]
  },
  {
   "cell_type": "code",
   "execution_count": 1,
   "metadata": {
    "collapsed": false
   },
   "outputs": [
    {
     "data": {
      "text/html": []
     },
     "metadata": {},
     "output_type": "display_data"
    },
    {
     "data": {
      "application/javascript": [
       "\n",
       "(function(global) {\n",
       "  function now() {\n",
       "    return new Date();\n",
       "  }\n",
       "\n",
       "  if (typeof (window._bokeh_onload_callbacks) === \"undefined\") {\n",
       "    window._bokeh_onload_callbacks = [];\n",
       "  }\n",
       "\n",
       "  function run_callbacks() {\n",
       "    window._bokeh_onload_callbacks.forEach(function(callback) { callback() });\n",
       "    delete window._bokeh_onload_callbacks\n",
       "    console.info(\"Bokeh: all callbacks have finished\");\n",
       "  }\n",
       "\n",
       "  function load_libs(js_urls, callback) {\n",
       "    window._bokeh_onload_callbacks.push(callback);\n",
       "    if (window._bokeh_is_loading > 0) {\n",
       "      console.log(\"Bokeh: BokehJS is being loaded, scheduling callback at\", now());\n",
       "      return null;\n",
       "    }\n",
       "    if (js_urls == null || js_urls.length === 0) {\n",
       "      run_callbacks();\n",
       "      return null;\n",
       "    }\n",
       "    console.log(\"Bokeh: BokehJS not loaded, scheduling load and callback at\", now());\n",
       "    window._bokeh_is_loading = js_urls.length;\n",
       "    for (var i = 0; i < js_urls.length; i++) {\n",
       "      var url = js_urls[i];\n",
       "      var s = document.createElement('script');\n",
       "      s.src = url;\n",
       "      s.async = false;\n",
       "      s.onreadystatechange = s.onload = function() {\n",
       "        window._bokeh_is_loading--;\n",
       "        if (window._bokeh_is_loading === 0) {\n",
       "          console.log(\"Bokeh: all BokehJS libraries loaded\");\n",
       "          run_callbacks()\n",
       "        }\n",
       "      };\n",
       "      s.onerror = function() {\n",
       "        console.warn(\"failed to load library \" + url);\n",
       "      };\n",
       "      console.log(\"Bokeh: injecting script tag for BokehJS library: \", url);\n",
       "      document.getElementsByTagName(\"head\")[0].appendChild(s);\n",
       "    }\n",
       "  };\n",
       "\n",
       "  var js_urls = ['https://cdn.pydata.org/bokeh/release/bokeh-0.11.1.min.js', 'https://cdn.pydata.org/bokeh/release/bokeh-widgets-0.11.1.min.js', 'https://cdn.pydata.org/bokeh/release/bokeh-compiler-0.11.1.min.js'];\n",
       "\n",
       "  var inline_js = [\n",
       "    function(Bokeh) {\n",
       "      Bokeh.set_log_level(\"info\");\n",
       "    },\n",
       "    \n",
       "    function(Bokeh) {\n",
       "      Bokeh.$(\"#41e1bfb4-d14c-450e-8af6-3f2478b7ef03\").text(\"BokehJS successfully loaded\");\n",
       "    },\n",
       "    function(Bokeh) {\n",
       "      console.log(\"Bokeh: injecting CSS: https://cdn.pydata.org/bokeh/release/bokeh-0.11.1.min.css\");\n",
       "      Bokeh.embed.inject_css(\"https://cdn.pydata.org/bokeh/release/bokeh-0.11.1.min.css\");\n",
       "      console.log(\"Bokeh: injecting CSS: https://cdn.pydata.org/bokeh/release/bokeh-widgets-0.11.1.min.css\");\n",
       "      Bokeh.embed.inject_css(\"https://cdn.pydata.org/bokeh/release/bokeh-widgets-0.11.1.min.css\");\n",
       "    }\n",
       "  ];\n",
       "\n",
       "  function run_inline_js() {\n",
       "    for (var i = 0; i < inline_js.length; i++) {\n",
       "      inline_js[i](window.Bokeh);\n",
       "    }\n",
       "  }\n",
       "\n",
       "  if (window._bokeh_is_loading === 0) {\n",
       "    console.log(\"Bokeh: BokehJS loaded, going straight to plotting\");\n",
       "    run_inline_js();\n",
       "  } else {\n",
       "    load_libs(js_urls, function() {\n",
       "      console.log(\"Bokeh: BokehJS plotting callback run at\", now());\n",
       "      run_inline_js();\n",
       "    });\n",
       "  }\n",
       "}(this));"
      ]
     },
     "metadata": {},
     "output_type": "display_data"
    }
   ],
   "source": [
    "%matplotlib inline\n",
    "from matplotlib import pyplot as plt\n",
    "\n",
    "import pandas as pd\n",
    "import seaborn as sns\n",
    "from textblob import TextBlob\n",
    "import statsmodels.formula.api as smf\n",
    "\n",
    "plt.rcParams['figure.figsize'] = (20,6)\n",
    "\n",
    "from bokeh.plotting import output_notebook, show\n",
    "output_notebook(hide_banner=True)\n",
    "\n",
    "from IPython.display import display, HTML\n",
    "def printb(*args):\n",
    "    s = \" \".join([str(x) for x in args])\n",
    "    display(HTML('<strong>%s</strong>' % s))\n",
    "\n",
    "from analysis_utils import create_df, plot_interactive_timeseries"
   ]
  },
  {
   "cell_type": "markdown",
   "metadata": {},
   "source": [
    "## Load Data"
   ]
  },
  {
   "cell_type": "code",
   "execution_count": 2,
   "metadata": {
    "collapsed": false
   },
   "outputs": [
    {
     "data": {
      "text/html": [
       "<div>\n",
       "<table border=\"1\" class=\"dataframe\">\n",
       "  <thead>\n",
       "    <tr style=\"text-align: right;\">\n",
       "      <th></th>\n",
       "      <th>number</th>\n",
       "      <th>rating</th>\n",
       "      <th>rating_count</th>\n",
       "      <th>airdate</th>\n",
       "      <th>title</th>\n",
       "      <th>description</th>\n",
       "      <th>text</th>\n",
       "    </tr>\n",
       "  </thead>\n",
       "  <tbody>\n",
       "    <tr>\n",
       "      <th>0</th>\n",
       "      <td>1</td>\n",
       "      <td>7.5</td>\n",
       "      <td>97.0</td>\n",
       "      <td>2015-09-08</td>\n",
       "      <td>George Clooney/Governor Jeb Bush/Mavis Staples...</td>\n",
       "      <td>Stephen Colbert succeeds David Letterman as \"L...</td>\n",
       "      <td>OH, SAY CAN YOU SEE BY THE DAWN'S EARLY LIGHT ...</td>\n",
       "    </tr>\n",
       "    <tr>\n",
       "      <th>1</th>\n",
       "      <td>2</td>\n",
       "      <td>7.5</td>\n",
       "      <td>58.0</td>\n",
       "      <td>2015-09-09</td>\n",
       "      <td>Scarlett Johansson/Elon Musk/Kendrick Lamar</td>\n",
       "      <td>Scarlett Johansson (Avengers: Age of Ultron (2...</td>\n",
       "      <td>♪ ♪ ♪  Captioning sponsored by CBS\\nStephen: W...</td>\n",
       "    </tr>\n",
       "    <tr>\n",
       "      <th>2</th>\n",
       "      <td>3</td>\n",
       "      <td>8.6</td>\n",
       "      <td>66.0</td>\n",
       "      <td>2015-09-10</td>\n",
       "      <td>Vice President Joe Biden/Travis Kalanick/Toby ...</td>\n",
       "      <td>Vice President Joe Biden; Uber CEO Travis Kala...</td>\n",
       "      <td>(CHEERS AND APPLAUSE)\\nStephen: HEY! (CHEERS A...</td>\n",
       "    </tr>\n",
       "    <tr>\n",
       "      <th>3</th>\n",
       "      <td>4</td>\n",
       "      <td>7.4</td>\n",
       "      <td>42.0</td>\n",
       "      <td>2015-09-11</td>\n",
       "      <td>Amy Schumer/Stephen King/Troubled Waters</td>\n",
       "      <td>Amy Schumer (Trainwreck (2015)); author Stephe...</td>\n",
       "      <td>COME ON! COME ON! ♪ ♪ ♪ ( CHEERS AND APPLAUSE ...</td>\n",
       "    </tr>\n",
       "    <tr>\n",
       "      <th>4</th>\n",
       "      <td>5</td>\n",
       "      <td>7.9</td>\n",
       "      <td>36.0</td>\n",
       "      <td>2015-09-14</td>\n",
       "      <td>Emily Blunt/Justice Stephen Breyer/The Dead We...</td>\n",
       "      <td>Actress Emily Blunt (Sicario (2015)); Supreme ...</td>\n",
       "      <td>(  BAND PLAYING  \"LATE SHOW\" THEME  ) (  CHEER...</td>\n",
       "    </tr>\n",
       "  </tbody>\n",
       "</table>\n",
       "</div>"
      ],
      "text/plain": [
       "   number  rating  rating_count    airdate  \\\n",
       "0       1     7.5          97.0 2015-09-08   \n",
       "1       2     7.5          58.0 2015-09-09   \n",
       "2       3     8.6          66.0 2015-09-10   \n",
       "3       4     7.4          42.0 2015-09-11   \n",
       "4       5     7.9          36.0 2015-09-14   \n",
       "\n",
       "                                               title  \\\n",
       "0  George Clooney/Governor Jeb Bush/Mavis Staples...   \n",
       "1        Scarlett Johansson/Elon Musk/Kendrick Lamar   \n",
       "2  Vice President Joe Biden/Travis Kalanick/Toby ...   \n",
       "3           Amy Schumer/Stephen King/Troubled Waters   \n",
       "4  Emily Blunt/Justice Stephen Breyer/The Dead We...   \n",
       "\n",
       "                                         description  \\\n",
       "0  Stephen Colbert succeeds David Letterman as \"L...   \n",
       "1  Scarlett Johansson (Avengers: Age of Ultron (2...   \n",
       "2  Vice President Joe Biden; Uber CEO Travis Kala...   \n",
       "3  Amy Schumer (Trainwreck (2015)); author Stephe...   \n",
       "4  Actress Emily Blunt (Sicario (2015)); Supreme ...   \n",
       "\n",
       "                                                text  \n",
       "0  OH, SAY CAN YOU SEE BY THE DAWN'S EARLY LIGHT ...  \n",
       "1  ♪ ♪ ♪  Captioning sponsored by CBS\\nStephen: W...  \n",
       "2  (CHEERS AND APPLAUSE)\\nStephen: HEY! (CHEERS A...  \n",
       "3  COME ON! COME ON! ♪ ♪ ♪ ( CHEERS AND APPLAUSE ...  \n",
       "4  (  BAND PLAYING  \"LATE SHOW\" THEME  ) (  CHEER...  "
      ]
     },
     "execution_count": 2,
     "metadata": {},
     "output_type": "execute_result"
    }
   ],
   "source": [
    "episodes = create_df()\n",
    "episodes.head()"
   ]
  },
  {
   "cell_type": "markdown",
   "metadata": {},
   "source": [
    "## Distribution of Rating and Rating Count"
   ]
  },
  {
   "cell_type": "markdown",
   "metadata": {},
   "source": [
    "Number of episodes with null rating (< 5 ratings)"
   ]
  },
  {
   "cell_type": "code",
   "execution_count": 3,
   "metadata": {
    "collapsed": false
   },
   "outputs": [
    {
     "data": {
      "text/plain": [
       "16"
      ]
     },
     "execution_count": 3,
     "metadata": {},
     "output_type": "execute_result"
    }
   ],
   "source": [
    "episodes.rating.isnull().sum()"
   ]
  },
  {
   "cell_type": "code",
   "execution_count": 4,
   "metadata": {
    "collapsed": false
   },
   "outputs": [
    {
     "data": {
      "text/html": [
       "<div>\n",
       "<table border=\"1\" class=\"dataframe\">\n",
       "  <thead>\n",
       "    <tr style=\"text-align: right;\">\n",
       "      <th></th>\n",
       "      <th>count</th>\n",
       "      <th>mean</th>\n",
       "      <th>std</th>\n",
       "      <th>min</th>\n",
       "      <th>25%</th>\n",
       "      <th>50%</th>\n",
       "      <th>75%</th>\n",
       "      <th>max</th>\n",
       "    </tr>\n",
       "  </thead>\n",
       "  <tbody>\n",
       "    <tr>\n",
       "      <th>rating</th>\n",
       "      <td>124.0</td>\n",
       "      <td>7.565323</td>\n",
       "      <td>0.565260</td>\n",
       "      <td>5.9</td>\n",
       "      <td>7.2</td>\n",
       "      <td>7.7</td>\n",
       "      <td>8.0</td>\n",
       "      <td>9.0</td>\n",
       "    </tr>\n",
       "    <tr>\n",
       "      <th>rating_count</th>\n",
       "      <td>124.0</td>\n",
       "      <td>13.419355</td>\n",
       "      <td>12.373652</td>\n",
       "      <td>5.0</td>\n",
       "      <td>7.0</td>\n",
       "      <td>9.0</td>\n",
       "      <td>14.0</td>\n",
       "      <td>97.0</td>\n",
       "    </tr>\n",
       "  </tbody>\n",
       "</table>\n",
       "</div>"
      ],
      "text/plain": [
       "              count       mean        std  min  25%  50%   75%   max\n",
       "rating        124.0   7.565323   0.565260  5.9  7.2  7.7   8.0   9.0\n",
       "rating_count  124.0  13.419355  12.373652  5.0  7.0  9.0  14.0  97.0"
      ]
     },
     "execution_count": 4,
     "metadata": {},
     "output_type": "execute_result"
    }
   ],
   "source": [
    "episodes[['rating', 'rating_count']].describe().T"
   ]
  },
  {
   "cell_type": "code",
   "execution_count": 5,
   "metadata": {
    "collapsed": false
   },
   "outputs": [
    {
     "data": {
      "text/plain": [
       "<matplotlib.axes._subplots.AxesSubplot at 0x119f83908>"
      ]
     },
     "execution_count": 5,
     "metadata": {},
     "output_type": "execute_result"
    },
    {
     "data": {
      "image/png": "[encoded data removed]",
      "text/plain": [
       "<matplotlib.figure.Figure at 0x119d2d320>"
      ]
     },
     "metadata": {},
     "output_type": "display_data"
    }
   ],
   "source": [
    "fig, (ax1, ax2) = plt.subplots(ncols=2)\n",
    "\n",
    "episodes.rating.plot(kind='hist', bins=20, ax=ax1, title=\"Histogram of Ratings\")\n",
    "episodes.rating_count.plot(kind='hist', bins=20, ax=ax2, title=\"Histogram of Rating Counts\")"
   ]
  },
  {
   "cell_type": "markdown",
   "metadata": {},
   "source": [
    "## Ratings over Time"
   ]
  },
  {
   "cell_type": "code",
   "execution_count": 6,
   "metadata": {
    "collapsed": false
   },
   "outputs": [
    {
     "data": {
      "text/html": [
       "\n",
       "\n",
       "    <div class=\"plotdiv\" id=\"d152ee7f-beee-4262-aa69-9d565433425d\"></div>\n",
       "<script type=\"text/javascript\">\n",
       "  \n",
       "  (function(global) {\n",
       "    function now() {\n",
       "      return new Date();\n",
       "    }\n",
       "  \n",
       "    if (typeof (window._bokeh_onload_callbacks) === \"undefined\") {\n",
       "      window._bokeh_onload_callbacks = [];\n",
       "    }\n",
       "  \n",
       "    function run_callbacks() {\n",
       "      window._bokeh_onload_callbacks.forEach(function(callback) { callback() });\n",
       "      delete window._bokeh_onload_callbacks\n",
       "      console.info(\"Bokeh: all callbacks have finished\");\n",
       "    }\n",
       "  \n",
       "    function load_libs(js_urls, callback) {\n",
       "      window._bokeh_onload_callbacks.push(callback);\n",
       "      if (window._bokeh_is_loading > 0) {\n",
       "        console.log(\"Bokeh: BokehJS is being loaded, scheduling callback at\", now());\n",
       "        return null;\n",
       "      }\n",
       "      if (js_urls == null || js_urls.length === 0) {\n",
       "        run_callbacks();\n",
       "        return null;\n",
       "      }\n",
       "      console.log(\"Bokeh: BokehJS not loaded, scheduling load and callback at\", now());\n",
       "      window._bokeh_is_loading = js_urls.length;\n",
       "      for (var i = 0; i < js_urls.length; i++) {\n",
       "        var url = js_urls[i];\n",
       "        var s = document.createElement('script');\n",
       "        s.src = url;\n",
       "        s.async = false;\n",
       "        s.onreadystatechange = s.onload = function() {\n",
       "          window._bokeh_is_loading--;\n",
       "          if (window._bokeh_is_loading === 0) {\n",
       "            console.log(\"Bokeh: all BokehJS libraries loaded\");\n",
       "            run_callbacks()\n",
       "          }\n",
       "        };\n",
       "        s.onerror = function() {\n",
       "          console.warn(\"failed to load library \" + url);\n",
       "        };\n",
       "        console.log(\"Bokeh: injecting script tag for BokehJS library: \", url);\n",
       "        document.getElementsByTagName(\"head\")[0].appendChild(s);\n",
       "      }\n",
       "    };var element = document.getElementById(\"d152ee7f-beee-4262-aa69-9d565433425d\");\n",
       "    if (element == null) {\n",
       "      console.log(\"Bokeh: ERROR: autoload.js configured with elementid 'd152ee7f-beee-4262-aa69-9d565433425d' but no matching script tag was found. \")\n",
       "      return false;\n",
       "    }\n",
       "  \n",
       "    var js_urls = [];\n",
       "  \n",
       "    var inline_js = [\n",
       "      function(Bokeh) {\n",
       "        Bokeh.$(function() {\n",
       "            var docs_json = {\"c5dadf63-2d72-4673-b92b-295a0bd33d10\":{\"roots\":{\"references\":[{\"attributes\":{\"days\":[1,2,3,4,5,6,7,8,9,10,11,12,13,14,15,16,17,18,19,20,21,22,23,24,25,26,27,28,29,30,31]},\"id\":\"5548dc23-4bfe-4d2a-bced-94f1369cb2aa\",\"type\":\"DaysTicker\"},{\"attributes\":{},\"id\":\"c6e8a685-3bd3-4fe8-aadf-fdfbba3e19c2\",\"type\":\"ToolEvents\"},{\"attributes\":{\"months\":[0,4,8]},\"id\":\"d6263a63-1151-41da-90b8-96d9946e945b\",\"type\":\"MonthsTicker\"},{\"attributes\":{\"below\":[{\"id\":\"d1f1ac6d-a119-4712-98f8-4f738cd208d7\",\"type\":\"DatetimeAxis\"}],\"left\":[{\"id\":\"bbb2b8b4-5d10-458c-858f-36ff1d2f7d5e\",\"type\":\"LinearAxis\"}],\"logo\":null,\"plot_height\":400,\"plot_width\":950,\"renderers\":[{\"id\":\"d1f1ac6d-a119-4712-98f8-4f738cd208d7\",\"type\":\"DatetimeAxis\"},{\"id\":\"9104c3ad-de14-440b-b127-feee37db96e8\",\"type\":\"Grid\"},{\"id\":\"bbb2b8b4-5d10-458c-858f-36ff1d2f7d5e\",\"type\":\"LinearAxis\"},{\"id\":\"f12787b8-063b-4a46-990c-e9b8d11aa8ed\",\"type\":\"Grid\"},{\"id\":\"48a7f9ed-75e9-461d-9cb9-728d79526d1a\",\"type\":\"BoxAnnotation\"},{\"id\":\"a18208e7-b7eb-4afe-9598-e143467781bc\",\"type\":\"GlyphRenderer\"}],\"title\":\"Ratings per Episode on The Late Show with Stephen Colbert\",\"tool_events\":{\"id\":\"c6e8a685-3bd3-4fe8-aadf-fdfbba3e19c2\",\"type\":\"ToolEvents\"},\"tools\":[{\"id\":\"274e1450-3ba0-4017-9f8f-239b1afc669e\",\"type\":\"PanTool\"},{\"id\":\"5ff47c5e-2fe0-439b-9112-f849ac869423\",\"type\":\"WheelZoomTool\"},{\"id\":\"bd0179bb-73f2-4d83-a689-8364ef205e26\",\"type\":\"BoxZoomTool\"},{\"id\":\"2e1fd624-676d-40dd-a385-39e8c6794a09\",\"type\":\"PreviewSaveTool\"},{\"id\":\"cb927e01-1eec-4916-8924-2129c46f45d3\",\"type\":\"ResizeTool\"},{\"id\":\"cd4769e2-e46a-45bf-9801-527e5c6c75bb\",\"type\":\"ResetTool\"},{\"id\":\"2d8c1542-7860-4157-8b78-30a4e6b299c1\",\"type\":\"HelpTool\"},{\"id\":\"2a2d297a-c9c9-4240-969c-7f83ab8ce12f\",\"type\":\"HoverTool\"}],\"x_range\":{\"id\":\"5c2ffa45-6686-4a65-9221-7dd4e368b06e\",\"type\":\"DataRange1d\"},\"y_range\":{\"id\":\"9eff1832-d7d0-4cfa-a126-264e83261d20\",\"type\":\"DataRange1d\"}},\"id\":\"d386855f-d3b8-4d13-a7a7-318d9f5d6cca\",\"subtype\":\"Figure\",\"type\":\"Plot\"},{\"attributes\":{\"callback\":null},\"id\":\"9eff1832-d7d0-4cfa-a126-264e83261d20\",\"type\":\"DataRange1d\"},{\"attributes\":{\"max_interval\":500.0,\"num_minor_ticks\":0},\"id\":\"c887e444-f8c6-4cb6-8588-a7c4b8878afe\",\"type\":\"AdaptiveTicker\"},{\"attributes\":{},\"id\":\"3fbd6be0-7fba-4933-8539-53569e336143\",\"type\":\"BasicTicker\"},{\"attributes\":{\"days\":[1,15]},\"id\":\"11bb3084-9501-4787-b977-6e3cc1cd607e\",\"type\":\"DaysTicker\"},{\"attributes\":{\"overlay\":{\"id\":\"48a7f9ed-75e9-461d-9cb9-728d79526d1a\",\"type\":\"BoxAnnotation\"},\"plot\":{\"id\":\"d386855f-d3b8-4d13-a7a7-318d9f5d6cca\",\"subtype\":\"Figure\",\"type\":\"Plot\"}},\"id\":\"bd0179bb-73f2-4d83-a689-8364ef205e26\",\"type\":\"BoxZoomTool\"},{\"attributes\":{},\"id\":\"cac36f56-25ed-4835-83f6-5537e93617fa\",\"type\":\"BasicTickFormatter\"},{\"attributes\":{\"months\":[0,6]},\"id\":\"335f15f5-0130-4806-b051-5db391e098a0\",\"type\":\"MonthsTicker\"},{\"attributes\":{\"base\":24,\"mantissas\":[1,2,4,6,8,12],\"max_interval\":43200000.0,\"min_interval\":3600000.0,\"num_minor_ticks\":0},\"id\":\"1e6c45cd-69b1-4303-bb66-44e0b066b298\",\"type\":\"AdaptiveTicker\"},{\"attributes\":{\"plot\":{\"id\":\"d386855f-d3b8-4d13-a7a7-318d9f5d6cca\",\"subtype\":\"Figure\",\"type\":\"Plot\"},\"ticker\":{\"id\":\"3e2f9d51-aed0-4072-b7e1-3c5268e99c13\",\"type\":\"DatetimeTicker\"}},\"id\":\"9104c3ad-de14-440b-b127-feee37db96e8\",\"type\":\"Grid\"},{\"attributes\":{\"days\":[1,8,15,22]},\"id\":\"efed0184-3527-40be-a255-aeea83ec0cee\",\"type\":\"DaysTicker\"},{\"attributes\":{\"dimension\":1,\"plot\":{\"id\":\"d386855f-d3b8-4d13-a7a7-318d9f5d6cca\",\"subtype\":\"Figure\",\"type\":\"Plot\"},\"ticker\":{\"id\":\"3fbd6be0-7fba-4933-8539-53569e336143\",\"type\":\"BasicTicker\"}},\"id\":\"f12787b8-063b-4a46-990c-e9b8d11aa8ed\",\"type\":\"Grid\"},{\"attributes\":{\"callback\":null,\"column_names\":[\"index\",\"number\",\"airdate\",\"rating\",\"title\",\"rating_count\",\"airdatestr\"],\"data\":{\"airdate\":[1441670400000.0,1441756800000.0,1441843200000.0,1441929600000.0,1442188800000.0,1442275200000.0,1442361600000.0,1442448000000.0,1442534400000.0,1442793600000.0,1442880000000.0,1442966400000.0,1443052800000.0,1443139200000.0,1443398400000.0,1443484800000.0,1443571200000.0,1443657600000.0,1443744000000.0,1444003200000.0,1444089600000.0,1444176000000.0,1444262400000.0,1444348800000.0,1444608000000.0,1444694400000.0,1444780800000.0,1444867200000.0,1444953600000.0,1445817600000.0,1445904000000.0,1445990400000.0,1446076800000.0,1446163200000.0,1446422400000.0,1446508800000.0,1446595200000.0,1446681600000.0,1446768000000.0,1447027200000.0,1447113600000.0,1447200000000.0,1447286400000.0,1447372800000.0,1447632000000.0,1447718400000.0,1447804800000.0,1447891200000.0,1447977600000.0,1448236800000.0,1448323200000.0,1448409600000.0,1449446400000.0,1449532800000.0,1449619200000.0,1449705600000.0,1449792000000.0,1450051200000.0,1450137600000.0,1450224000000.0,1450310400000.0,1450396800000.0,1451865600000.0,1451952000000.0,1452038400000.0,1452124800000.0,1452211200000.0,1452556800000.0,1452643200000.0,1452729600000.0,1452816000000.0,1453075200000.0,1453161600000.0,1453248000000.0,1453334400000.0,1453420800000.0,1453680000000.0,1453766400000.0,1453852800000.0,1453939200000.0,1454284800000.0,1454371200000.0,1454457600000.0,1454544000000.0,1454630400000.0,1454803200000.0,1454889600000.0,1454976000000.0,1455062400000.0,1455148800000.0,1455494400000.0,1455580800000.0,1455840000000.0,1456099200000.0,1456185600000.0,1456272000000.0,1456358400000.0,1456704000000.0,1456790400000.0,1456876800000.0,1456963200000.0,1457308800000.0,1457395200000.0,1457481600000.0,1457568000000.0,1457654400000.0,1457913600000.0,1458000000000.0,1458086400000.0,1458172800000.0,1459123200000.0,1459209600000.0,1459296000000.0,1459382400000.0,1459468800000.0,1459728000000.0,1459814400000.0,1459900800000.0,1459987200000.0,1460937600000.0,1461024000000.0,1461196800000.0,1461283200000.0,1461715200000.0],\"airdatestr\":[\"09/08/15\",\"09/09/15\",\"09/10/15\",\"09/11/15\",\"09/14/15\",\"09/15/15\",\"09/16/15\",\"09/17/15\",\"09/18/15\",\"09/21/15\",\"09/22/15\",\"09/23/15\",\"09/24/15\",\"09/25/15\",\"09/28/15\",\"09/29/15\",\"09/30/15\",\"10/01/15\",\"10/02/15\",\"10/05/15\",\"10/06/15\",\"10/07/15\",\"10/08/15\",\"10/09/15\",\"10/12/15\",\"10/13/15\",\"10/14/15\",\"10/15/15\",\"10/16/15\",\"10/26/15\",\"10/27/15\",\"10/28/15\",\"10/29/15\",\"10/30/15\",\"11/02/15\",\"11/03/15\",\"11/04/15\",\"11/05/15\",\"11/06/15\",\"11/09/15\",\"11/10/15\",\"11/11/15\",\"11/12/15\",\"11/13/15\",\"11/16/15\",\"11/17/15\",\"11/18/15\",\"11/19/15\",\"11/20/15\",\"11/23/15\",\"11/24/15\",\"11/25/15\",\"12/07/15\",\"12/08/15\",\"12/09/15\",\"12/10/15\",\"12/11/15\",\"12/14/15\",\"12/15/15\",\"12/16/15\",\"12/17/15\",\"12/18/15\",\"01/04/16\",\"01/05/16\",\"01/06/16\",\"01/07/16\",\"01/08/16\",\"01/12/16\",\"01/13/16\",\"01/14/16\",\"01/15/16\",\"01/18/16\",\"01/19/16\",\"01/20/16\",\"01/21/16\",\"01/22/16\",\"01/25/16\",\"01/26/16\",\"01/27/16\",\"01/28/16\",\"02/01/16\",\"02/02/16\",\"02/03/16\",\"02/04/16\",\"02/05/16\",\"02/07/16\",\"02/08/16\",\"02/09/16\",\"02/10/16\",\"02/11/16\",\"02/15/16\",\"02/16/16\",\"02/19/16\",\"02/22/16\",\"02/23/16\",\"02/24/16\",\"02/25/16\",\"02/29/16\",\"03/01/16\",\"03/02/16\",\"03/03/16\",\"03/07/16\",\"03/08/16\",\"03/09/16\",\"03/10/16\",\"03/11/16\",\"03/14/16\",\"03/15/16\",\"03/16/16\",\"03/17/16\",\"03/28/16\",\"03/29/16\",\"03/30/16\",\"03/31/16\",\"04/01/16\",\"04/04/16\",\"04/05/16\",\"04/06/16\",\"04/07/16\",\"04/18/16\",\"04/19/16\",\"04/21/16\",\"04/22/16\",\"04/27/16\"],\"index\":[0,1,2,3,4,5,6,7,8,9,10,11,12,13,14,15,16,17,18,19,20,21,22,23,24,25,26,27,28,29,30,31,32,33,34,35,36,37,38,39,40,41,42,43,44,45,46,47,48,49,50,51,52,53,54,55,56,57,58,59,60,61,62,63,64,65,66,68,69,70,71,72,73,74,75,76,77,78,79,80,81,82,83,84,85,86,87,88,89,90,91,92,95,96,97,98,99,100,101,102,103,104,105,106,107,108,109,110,111,112,113,114,115,116,117,118,119,120,121,122,123,125,126,129],\"number\":[1,2,3,4,5,6,7,8,9,10,11,12,13,14,15,16,17,18,19,20,21,22,23,24,25,26,27,28,29,30,31,32,33,34,35,36,37,38,39,40,41,42,43,44,45,46,47,48,49,50,51,52,53,54,55,56,57,58,59,60,61,62,63,64,65,66,67,69,70,71,72,73,74,75,76,77,78,79,80,81,82,83,84,85,86,87,88,89,90,91,92,93,96,97,98,99,100,101,102,103,104,105,106,107,108,109,110,111,112,113,114,115,116,117,118,119,120,121,122,123,124,126,127,130],\"rating\":[7.5,7.5,8.6,7.4,7.9,7.8,8.0,7.7,8.2,8.0,8.2,7.7,7.3,7.8,7.2,7.4,8.2,6.9,7.7,8.2,7.4,7.9,8.5,7.7,8.1,8.5,8.3,7.2,8.5,7.2,7.9,8.0,8.0,7.3,7.5,7.7,8.3,7.7,7.3,6.9,8.1,7.6,7.6,7.4,8.1,8.0,7.7,8.5,9.0,8.4,7.2,7.1,7.2,7.7,6.6,8.2,7.8,7.4,8.0,7.1,7.9,7.8,7.4,7.7,8.1,7.5,8.0,7.0,7.0,7.0,7.7,7.5,7.6,8.0,7.7,8.5,7.9,7.8,7.2,7.8,7.6,7.0,6.4,7.6,7.7,7.6,7.1,7.4,7.8,7.2,6.8,6.7,6.4,7.0,7.3,7.8,7.3,8.4,7.4,7.7,7.7,6.9,7.3,6.8,7.0,6.0,7.9,7.0,7.1,7.6,7.1,6.1,8.1,8.0,7.7,7.2,5.9,6.9,6.2,8.0,8.1,6.8,7.8,7.8],\"rating_count\":[97.0,58.0,66.0,42.0,36.0,32.0,36.0,32.0,36.0,32.0,31.0,27.0,23.0,24.0,18.0,20.0,19.0,18.0,20.0,18.0,20.0,8.0,13.0,15.0,14.0,15.0,13.0,14.0,20.0,12.0,14.0,12.0,18.0,14.0,11.0,16.0,18.0,15.0,12.0,11.0,14.0,11.0,8.0,13.0,18.0,10.0,10.0,8.0,11.0,10.0,8.0,8.0,9.0,9.0,8.0,10.0,8.0,10.0,9.0,11.0,8.0,6.0,7.0,6.0,7.0,6.0,7.0,7.0,6.0,7.0,6.0,6.0,7.0,9.0,6.0,6.0,9.0,6.0,8.0,8.0,8.0,9.0,9.0,9.0,6.0,11.0,7.0,9.0,13.0,8.0,5.0,10.0,7.0,7.0,6.0,6.0,7.0,7.0,8.0,7.0,6.0,7.0,10.0,10.0,8.0,7.0,8.0,8.0,8.0,9.0,10.0,13.0,7.0,9.0,11.0,6.0,10.0,9.0,6.0,6.0,8.0,5.0,5.0,8.0],\"title\":[\"George Clooney/Governor Jeb Bush/Mavis Staples & Friends\",\"Scarlett Johansson/Elon Musk/Kendrick Lamar\",\"Vice President Joe Biden/Travis Kalanick/Toby Keith\",\"Amy Schumer/Stephen King/Troubled Waters\",\"Emily Blunt/Justice Stephen Breyer/The Dead Weather\",\"Jake Gyllenhaal/Apple CEO Tim Cook/Run the Jewels & TV on the Radio\",\"Kevin Spacey/Carol Burnett/Abbi Jacobson & Ilana Glazer/Willie Nelson & John Mellencamp\",\"Trevor Noah/Ban Ki-Moon/Chris Stapleton\",\"Lupita Nyong'o/Sen. Bernie Sanders/Cast of \\\"An American in Paris\\\"\",\"Steph Curry/Sen. Ted Cruz/Don Henley\",\"Donald Trump/Ernest Moniz/Raury\",\"Hugh Jackman/Sen. Elizabeth Warren/Pearl Jam\",\"Andrew Sullivan/Maria Shriver/Jim Gaffigan/Archbishop Thomas Wenski\",\"Malala Yousafzai/Kerry Washington/The Arcs\",\"Michelle Obama/Mindy Kaling/John Legend\",\"Ellen Page/Jesse Eisenberg/Dominic Wilcox\",\"Elizabeth Gilbert/John Oliver/Evan Spiegel/Bill Withers/Ed Sheeran\",\"Secretary of State John Kerry/Claire Danes/PewDiePie\",\"Morgan Freeman/Ruth Wilson/Sean Murray\",\"John McCain/Yo-Yo Ma/Misty Copeland\",\"Bill Clinton/Billy Eichner/Florence and the Machine\",\"Gina Rodriguez/Ben Bernanke/Tame Impala\",\"Cate Blanchett/Airbnb CEO Brian Chesky\",\"James Corden/Shane Smith/Halsey\",\"Carey Mulligan/Elvis Costello/Darlene Love\",\"Sarah Silverman/Elijah Wood/The Legends of Zelda: Symphony of the Goddesses\",\"Jack Black/Nick Woodman/Michelle Dorrance\",\"Oprah Winfrey/Joseph Fink & Jeffrey Cranor/Judith Hill\",\"Jimmy Kimmel/\\\"Crimson Peak\\\" Cast/Beach House\",\"Sienna Miller/Melissa Benoist/Chance the Rapper\",\"Hillary Clinton/Anthony Bourdain/Carrie Brownstein/Lianne La Navas\",\"Julianna Margulies/Jonathan Franzen/Alabama Shakes\",\"Seth MacFarlane/Neil DeGrasse Tyson\",\"Charlie Rose/Stacy Schiff/Ghost/The Zombies\",\"Allison Janney/Colin Quinn/Margaret Cho\",\"Antonio Banderas/Reed Hastings/John Irving\",\"Daniel Craig/Elizabeth Gilbert/Dr. Eugenia Cheng\",\"Bryan Cranston/Karl Ove Knausgaard/Shamir\",\"Whoopi Goldberg/Gov. John Kasich/Glen Hansard\",\"Ethan Hawke/Sen. Claire McCaskill & Sen. Amy Klobuchar/Nathaniel Ratcliff & the Night Sweats\",\"Aziz Ansari/Shonda Rhimes/Bruce Campbell & Lucy Lawless\",\"Viola Davis/Brian Greene/George Ezra\",\"Jennifer Connelly/Judd Apatow/The Internet\",\"Mark Ruffalo/John Cleese/Micheal Flatley\",\"Capt. Florent Groberg/Bill Maher/Shepard Fairey/The Acro-Cats\",\"Julianne Moore/Burt Reynolds/Public Image Ltd./CeeLo Green\",\"Sharon Stone/Justin Theroux/James Taylor\",\"Jane Fonda/Andrew Lloyd Webber/Brandon Niederauer\",\"Michael Caine/Larry Wilmore/Boots/Vulfpeck\",\"Sylvester Stallone/Ted Koppel/My Morning Jacket\",\"Spike Lee/Andy Cohen/Carly Simon\",\"Gloria Estefan/Navy Seal Eric Greitens/Jake Wood/Chef Daniel Boulud\",\"Steve Carell/Jennifer Hudson\",\"Marion Cotillard/George Saunders/Joanna Newsom\",\"Cast of \\\"Downton Abbey\\\"/Adam McKay/Kurt Vile\",\"Bruce Willis/Michael Lewis/Lizzo\",\"Lin-Manuel Miranda/Ike Barinholtz/Sharon Jones & the Dap Kings\",\"Jennifer Lawrence/Doris Kearns Goodwin/Sleater-Kinney\",\"Quentin Tarantino/Jonathan Groff/Squeeze\",\"Robert De Niro/Daniel Gilbert/Henry Rollins\",\"Michael Moore/Samantha Power/Michael C. Hall\",\"Mandy Patinkin/Kayvon Beykpour/Leon Bridges\",\"Samuel L. Jackson/Olivia Hallisey/Foals\",\"John Krasinski/Killer Mike/George Church/Foals\",\"Jerry Seinfeld/Sen. Rand Paul/Andra Day\",\"Damian Lewis/America Ferrera/FloydLittle's Double Dutch Team\",\"Matthew Broderick/Sarah Parcak/Kacey Musgraves\",\"Saoirse Ronan/Jeremy Stoppelman/Laura Ricciardi & Moira Demos/James Bay\",\"Paul Giamatti/Guerilla Girls/J.B. Mauney\",\"Olivia Munn/T.J. Miller/Father John Misty\",\"Scott Kelly/Abby Wambach/Maria Bamford\",\"Patricia Heaton/Quincy Jones/DeRay Mckesson/Grace\",\"Charlie Day/Colin Hanks/Margo Price\",\"James Spader/Brandon Marshall/Sarah Koenig/Rev Run\",\"Christian Slater/Josh Radnor/Iggy Pop\",\"Steven Tyler/Gaby Hoffmann/Lapsley\",\"Donald Rumsfeld/Russell Westbrook/Anderson Paak & the Free Nationals\",\"Laurence Fishburne/Sarah Paulson/Woke\",\"Chris Pine/Danielle Brooks/Jonah Reider/Baauer\",\"Josh Brolin/John Dickerson/Erin Brockovich/Aubrie Sellers\",\"John Travolta & Courtney B. Vance/Amy Cuddy/John Moreland\",\"David Schwimmer/Pastor Joel Osteen/M. Ward\",\"Dr. Phil McGraw/Mark & Jay Duplass/Michael Eric Dyson/Anderson Paak & the Free Nationals\",\"Michael Strahan/Samantha Bee/Wilco\",\"Bobby Cannavale/Donny Deutsch/Charles Kelley\",\"Tina Fey & Margot Robbie/Will Ferrell/Megyn Kelly/Keegan-Michael Key & Jordan Peele\",\"Bill O'Reilly/Eddie George/Macklemore & Ryan Lewis\",\"Olivia Wilde/Christiane Amanpour\",\"Ben Stiller/Sen. Bernie Sanders/TAO: Seventeen Samurai\",\"Kelsey Grammer/Fred Armisen/Sarah McDaniel/Ty Segall & the Muggers\",\"Craig Ferguson/Hailey Clauson & Ashley Graham/Cory Booker\",\"Eva Longoria/Abbi Jacobson & Ilana Glazer/Lucinda Williams\",\"Chelsea Handler/Zosia Mamet/The Lumineers\",\"Casey Affleck/Richard Dreyfuss/Mavis Staples\",\"Debra Messing/Zachary Quinto/Violent Femmes\",\"Adrien Brody/Danai Gurira/Brian Greene\",\"Tim Daly/Krysten Ritter/Jason Isbell\",\"Spike Jonze/Jeffrey Dean Morgan/Jack Garratt\",\"Chrissy Teigen/Mike Birbiglia/Adam Savage\",\"Octavia Spencer/John Stamos, Bob Saget & Dave Coulier/Lucius\",\"Christopher Meloni/Edward Byers/Ray LaMontagne\",\"Will Arnett/Charles Barkley/Max Greenfield\",\"Helen Mirren/J.J. Abrams/DMA's\",\"Sally Field/Jerrod Carmichael/Esperanza Spalding\",\"Anna Kendrick/Loretta Lynch/Brian Fallon\",\"Jeff Daniels/Audra McDonald/Mary Elizabeth Winstead\",\"John Oliver/Jordan Spieth/New Order\",\"Steve Martin & Edie Brickell/Shirley MacLaine/Gustavo Dudamel/Los Angeles Philharmonic\",\"Theo James/Jussie Smollett/Laurie Anderson\",\"William H. Macy/Melissa Rauch/Isaac Mizrahi\",\"Tom Hiddleston/Laura Benanti/Frightened Rabbit\",\"Adam Driver/Rachel Bloom/Savages\",\"Eric Stonestreet/Jason Jones/Sen. Elizabeth Warren\",\"Sarah Paulson/Tatiana Maslany/Wynton Marsalis, Lil Buck & Jared Grimes\",\"Steve Buscemi/Benjamin Walker/Cast of Broadway's \\\"American Psycho\\\"\",\"Matthew Perry/Nick Offerman/Explosions in the Sky\",\"Melissa McCarthy & Ben Falcone/Arianna Huffington/Babymetal\",\"Anna Kendrick & Sam Rockwell/David Duchovny/Autolux\",\"Mindy Kaling/Tituss Burgess/Ken Burns\",\"Hillary Clinton/Jesse Tyler Ferguson/Katharine McPhee/Sturgill Simpson\",\"Kevin Spacey/Thomas Middleditch/The Flaming Lips\",\"Tom Hanks/Leslie Odom, Jr./The Strumbellas/Roy Haynes\",\"Julia Louis-Dreyfus/Nikolaj Coster-Waldau/Sam Morril\",\"Susan Sarandon/David Tennant/Catfish & the Bottlemen\"]}},\"id\":\"db5253c9-09fa-4ed5-93f8-ebf1da9768bd\",\"type\":\"ColumnDataSource\"},{\"attributes\":{\"plot\":{\"id\":\"d386855f-d3b8-4d13-a7a7-318d9f5d6cca\",\"subtype\":\"Figure\",\"type\":\"Plot\"}},\"id\":\"274e1450-3ba0-4017-9f8f-239b1afc669e\",\"type\":\"PanTool\"},{\"attributes\":{\"num_minor_ticks\":5},\"id\":\"3e2f9d51-aed0-4072-b7e1-3c5268e99c13\",\"type\":\"DatetimeTicker\"},{\"attributes\":{\"data_source\":{\"id\":\"db5253c9-09fa-4ed5-93f8-ebf1da9768bd\",\"type\":\"ColumnDataSource\"},\"glyph\":{\"id\":\"2b010905-a141-40cb-a251-411b53295be9\",\"type\":\"Circle\"},\"hover_glyph\":null,\"nonselection_glyph\":{\"id\":\"8ff3ae2f-4871-441d-af8b-5fe2280013b1\",\"type\":\"Circle\"},\"selection_glyph\":null},\"id\":\"a18208e7-b7eb-4afe-9598-e143467781bc\",\"type\":\"GlyphRenderer\"},{\"attributes\":{},\"id\":\"52ed8aba-836f-459c-b1ce-b2279fb2d8f2\",\"type\":\"YearsTicker\"},{\"attributes\":{\"plot\":{\"id\":\"d386855f-d3b8-4d13-a7a7-318d9f5d6cca\",\"subtype\":\"Figure\",\"type\":\"Plot\"}},\"id\":\"cd4769e2-e46a-45bf-9801-527e5c6c75bb\",\"type\":\"ResetTool\"},{\"attributes\":{\"callback\":null,\"plot\":{\"id\":\"d386855f-d3b8-4d13-a7a7-318d9f5d6cca\",\"subtype\":\"Figure\",\"type\":\"Plot\"},\"tooltips\":[[\"Episode\",\"@number\"],[\"Title\",\"@title\"],[\"Airdate\",\"@airdatestr\"],[\"Rating\",\"@rating{1.11}\"],[\"Rating Count\",\"@rating_count{1.11}\"]]},\"id\":\"2a2d297a-c9c9-4240-969c-7f83ab8ce12f\",\"type\":\"HoverTool\"},{\"attributes\":{\"days\":[1,4,7,10,13,16,19,22,25,28]},\"id\":\"d18fd675-0edb-469a-a983-e2870f1eed99\",\"type\":\"DaysTicker\"},{\"attributes\":{\"bottom_units\":\"screen\",\"fill_alpha\":{\"value\":0.5},\"fill_color\":{\"value\":\"lightgrey\"},\"left_units\":\"screen\",\"level\":\"overlay\",\"line_alpha\":{\"value\":1.0},\"line_color\":{\"value\":\"black\"},\"line_dash\":[4,4],\"line_width\":{\"value\":2},\"plot\":null,\"render_mode\":\"css\",\"right_units\":\"screen\",\"top_units\":\"screen\"},\"id\":\"48a7f9ed-75e9-461d-9cb9-728d79526d1a\",\"type\":\"BoxAnnotation\"},{\"attributes\":{\"base\":60,\"mantissas\":[1,2,5,10,15,20,30],\"max_interval\":1800000.0,\"min_interval\":1000.0,\"num_minor_ticks\":0},\"id\":\"7c85f904-5375-41bc-8f72-fad17a294378\",\"type\":\"AdaptiveTicker\"},{\"attributes\":{\"plot\":{\"id\":\"d386855f-d3b8-4d13-a7a7-318d9f5d6cca\",\"subtype\":\"Figure\",\"type\":\"Plot\"}},\"id\":\"5ff47c5e-2fe0-439b-9112-f849ac869423\",\"type\":\"WheelZoomTool\"},{\"attributes\":{\"plot\":{\"id\":\"d386855f-d3b8-4d13-a7a7-318d9f5d6cca\",\"subtype\":\"Figure\",\"type\":\"Plot\"}},\"id\":\"cb927e01-1eec-4916-8924-2129c46f45d3\",\"type\":\"ResizeTool\"},{\"attributes\":{},\"id\":\"fa52aabe-9e0f-449c-8d69-02a99725ee71\",\"type\":\"DatetimeTickFormatter\"},{\"attributes\":{\"callback\":null},\"id\":\"5c2ffa45-6686-4a65-9221-7dd4e368b06e\",\"type\":\"DataRange1d\"},{\"attributes\":{\"months\":[0,2,4,6,8,10]},\"id\":\"1ca71a9e-d657-4f81-9e79-66fb68006a8e\",\"type\":\"MonthsTicker\"},{\"attributes\":{\"formatter\":{\"id\":\"cac36f56-25ed-4835-83f6-5537e93617fa\",\"type\":\"BasicTickFormatter\"},\"plot\":{\"id\":\"d386855f-d3b8-4d13-a7a7-318d9f5d6cca\",\"subtype\":\"Figure\",\"type\":\"Plot\"},\"ticker\":{\"id\":\"3fbd6be0-7fba-4933-8539-53569e336143\",\"type\":\"BasicTicker\"}},\"id\":\"bbb2b8b4-5d10-458c-858f-36ff1d2f7d5e\",\"type\":\"LinearAxis\"},{\"attributes\":{\"months\":[0,1,2,3,4,5,6,7,8,9,10,11]},\"id\":\"79d14219-94b5-41a1-8782-410cda137dfa\",\"type\":\"MonthsTicker\"},{\"attributes\":{\"plot\":{\"id\":\"d386855f-d3b8-4d13-a7a7-318d9f5d6cca\",\"subtype\":\"Figure\",\"type\":\"Plot\"}},\"id\":\"2d8c1542-7860-4157-8b78-30a4e6b299c1\",\"type\":\"HelpTool\"},{\"attributes\":{\"plot\":{\"id\":\"d386855f-d3b8-4d13-a7a7-318d9f5d6cca\",\"subtype\":\"Figure\",\"type\":\"Plot\"}},\"id\":\"2e1fd624-676d-40dd-a385-39e8c6794a09\",\"type\":\"PreviewSaveTool\"},{\"attributes\":{\"fill_color\":{\"value\":\"#1f77b4\"},\"line_color\":{\"value\":\"#1f77b4\"},\"line_width\":{\"value\":2},\"size\":{\"units\":\"screen\",\"value\":5},\"x\":{\"field\":\"airdate\"},\"y\":{\"field\":\"rating\"}},\"id\":\"2b010905-a141-40cb-a251-411b53295be9\",\"type\":\"Circle\"},{\"attributes\":{\"fill_alpha\":{\"value\":0.1},\"fill_color\":{\"value\":\"#1f77b4\"},\"line_alpha\":{\"value\":0.1},\"line_color\":{\"value\":\"#1f77b4\"},\"line_width\":{\"value\":2},\"size\":{\"units\":\"screen\",\"value\":5},\"x\":{\"field\":\"airdate\"},\"y\":{\"field\":\"rating\"}},\"id\":\"8ff3ae2f-4871-441d-af8b-5fe2280013b1\",\"type\":\"Circle\"},{\"attributes\":{\"formatter\":{\"id\":\"fa52aabe-9e0f-449c-8d69-02a99725ee71\",\"type\":\"DatetimeTickFormatter\"},\"plot\":{\"id\":\"d386855f-d3b8-4d13-a7a7-318d9f5d6cca\",\"subtype\":\"Figure\",\"type\":\"Plot\"},\"ticker\":{\"id\":\"3e2f9d51-aed0-4072-b7e1-3c5268e99c13\",\"type\":\"DatetimeTicker\"}},\"id\":\"d1f1ac6d-a119-4712-98f8-4f738cd208d7\",\"type\":\"DatetimeAxis\"}],\"root_ids\":[\"d386855f-d3b8-4d13-a7a7-318d9f5d6cca\"]},\"title\":\"Bokeh Application\",\"version\":\"0.11.1\"}};\n",
       "            var render_items = [{\"docid\":\"c5dadf63-2d72-4673-b92b-295a0bd33d10\",\"elementid\":\"d152ee7f-beee-4262-aa69-9d565433425d\",\"modelid\":\"d386855f-d3b8-4d13-a7a7-318d9f5d6cca\",\"notebook_comms_target\":\"0ef61f3f-f4df-4f34-a11b-9affc0ca4025\"}];\n",
       "            \n",
       "            Bokeh.embed.embed_items(docs_json, render_items);\n",
       "        });\n",
       "      },\n",
       "      function(Bokeh) {\n",
       "      }\n",
       "    ];\n",
       "  \n",
       "    function run_inline_js() {\n",
       "      for (var i = 0; i < inline_js.length; i++) {\n",
       "        inline_js[i](window.Bokeh);\n",
       "      }\n",
       "    }\n",
       "  \n",
       "    if (window._bokeh_is_loading === 0) {\n",
       "      console.log(\"Bokeh: BokehJS loaded, going straight to plotting\");\n",
       "      run_inline_js();\n",
       "    } else {\n",
       "      load_libs(js_urls, function() {\n",
       "        console.log(\"Bokeh: BokehJS plotting callback run at\", now());\n",
       "        run_inline_js();\n",
       "      });\n",
       "    }\n",
       "  }(this));\n",
       "</script>"
      ]
     },
     "metadata": {},
     "output_type": "display_data"
    },
    {
     "data": {
      "text/html": [
       "<p><code>&lt;Bokeh Notebook handle for <strong>In[6]</strong>&gt;</code></p>"
      ],
      "text/plain": [
       "<bokeh.io._CommsHandle at 0x11c9c2be0>"
      ]
     },
     "execution_count": 6,
     "metadata": {},
     "output_type": "execute_result"
    }
   ],
   "source": [
    "p = plot_interactive_timeseries(x='airdate', y='rating', data=episodes, \n",
    "                                title=\"Ratings per Episode on The Late Show with Stephen Colbert\")\n",
    "show(p)"
   ]
  },
  {
   "cell_type": "markdown",
   "metadata": {},
   "source": [
    "## Ratings Count over Time"
   ]
  },
  {
   "cell_type": "code",
   "execution_count": 7,
   "metadata": {
    "collapsed": false
   },
   "outputs": [
    {
     "data": {
      "text/html": [
       "\n",
       "\n",
       "    <div class=\"plotdiv\" id=\"6d7558c5-f7f5-44ac-a079-a45175673b1c\"></div>\n",
       "<script type=\"text/javascript\">\n",
       "  \n",
       "  (function(global) {\n",
       "    function now() {\n",
       "      return new Date();\n",
       "    }\n",
       "  \n",
       "    if (typeof (window._bokeh_onload_callbacks) === \"undefined\") {\n",
       "      window._bokeh_onload_callbacks = [];\n",
       "    }\n",
       "  \n",
       "    function run_callbacks() {\n",
       "      window._bokeh_onload_callbacks.forEach(function(callback) { callback() });\n",
       "      delete window._bokeh_onload_callbacks\n",
       "      console.info(\"Bokeh: all callbacks have finished\");\n",
       "    }\n",
       "  \n",
       "    function load_libs(js_urls, callback) {\n",
       "      window._bokeh_onload_callbacks.push(callback);\n",
       "      if (window._bokeh_is_loading > 0) {\n",
       "        console.log(\"Bokeh: BokehJS is being loaded, scheduling callback at\", now());\n",
       "        return null;\n",
       "      }\n",
       "      if (js_urls == null || js_urls.length === 0) {\n",
       "        run_callbacks();\n",
       "        return null;\n",
       "      }\n",
       "      console.log(\"Bokeh: BokehJS not loaded, scheduling load and callback at\", now());\n",
       "      window._bokeh_is_loading = js_urls.length;\n",
       "      for (var i = 0; i < js_urls.length; i++) {\n",
       "        var url = js_urls[i];\n",
       "        var s = document.createElement('script');\n",
       "        s.src = url;\n",
       "        s.async = false;\n",
       "        s.onreadystatechange = s.onload = function() {\n",
       "          window._bokeh_is_loading--;\n",
       "          if (window._bokeh_is_loading === 0) {\n",
       "            console.log(\"Bokeh: all BokehJS libraries loaded\");\n",
       "            run_callbacks()\n",
       "          }\n",
       "        };\n",
       "        s.onerror = function() {\n",
       "          console.warn(\"failed to load library \" + url);\n",
       "        };\n",
       "        console.log(\"Bokeh: injecting script tag for BokehJS library: \", url);\n",
       "        document.getElementsByTagName(\"head\")[0].appendChild(s);\n",
       "      }\n",
       "    };var element = document.getElementById(\"6d7558c5-f7f5-44ac-a079-a45175673b1c\");\n",
       "    if (element == null) {\n",
       "      console.log(\"Bokeh: ERROR: autoload.js configured with elementid '6d7558c5-f7f5-44ac-a079-a45175673b1c' but no matching script tag was found. \")\n",
       "      return false;\n",
       "    }\n",
       "  \n",
       "    var js_urls = [];\n",
       "  \n",
       "    var inline_js = [\n",
       "      function(Bokeh) {\n",
       "        Bokeh.$(function() {\n",
       "            var docs_json = {\"e862afd0-dffa-4cc5-967b-a10738859431\":{\"roots\":{\"references\":[{\"attributes\":{\"plot\":{\"id\":\"daef0b65-a5af-4827-95fb-f4bd67b51a97\",\"subtype\":\"Figure\",\"type\":\"Plot\"}},\"id\":\"e0d32a8c-2ea3-4bc9-8728-c9654db7c067\",\"type\":\"WheelZoomTool\"},{\"attributes\":{\"days\":[1,15]},\"id\":\"11bb3084-9501-4787-b977-6e3cc1cd607e\",\"type\":\"DaysTicker\"},{\"attributes\":{\"months\":[0,6]},\"id\":\"335f15f5-0130-4806-b051-5db391e098a0\",\"type\":\"MonthsTicker\"},{\"attributes\":{\"below\":[{\"id\":\"93230be2-79cd-4dd5-8c76-671db7d6e1ea\",\"type\":\"DatetimeAxis\"}],\"left\":[{\"id\":\"30adfbd2-ec5f-49b2-8f65-82b779b615ad\",\"type\":\"LinearAxis\"}],\"logo\":null,\"plot_height\":400,\"plot_width\":950,\"renderers\":[{\"id\":\"93230be2-79cd-4dd5-8c76-671db7d6e1ea\",\"type\":\"DatetimeAxis\"},{\"id\":\"284e918a-d817-4b88-8ec5-69a0cb003d12\",\"type\":\"Grid\"},{\"id\":\"30adfbd2-ec5f-49b2-8f65-82b779b615ad\",\"type\":\"LinearAxis\"},{\"id\":\"37100fe4-e059-4ddb-a373-6c6dd371d2ae\",\"type\":\"Grid\"},{\"id\":\"7cd99c49-023c-46ea-b609-9aa5c9e27a54\",\"type\":\"BoxAnnotation\"},{\"id\":\"bff2535f-a7e8-4647-b0fb-a02d60844016\",\"type\":\"GlyphRenderer\"}],\"title\":\"Number of Ratings per Episode on The Late Show with Stephen Colbert\",\"tool_events\":{\"id\":\"f57213f1-3f47-4c19-b8bd-c1662ff90beb\",\"type\":\"ToolEvents\"},\"tools\":[{\"id\":\"f16dc1f4-49c1-4fa3-9054-54f00d4ac41a\",\"type\":\"PanTool\"},{\"id\":\"e0d32a8c-2ea3-4bc9-8728-c9654db7c067\",\"type\":\"WheelZoomTool\"},{\"id\":\"2012b89b-5224-4f5c-bf0e-7884fe0d422f\",\"type\":\"BoxZoomTool\"},{\"id\":\"d4743cf6-32b3-47db-a146-7e7a05360b08\",\"type\":\"PreviewSaveTool\"},{\"id\":\"d50a9114-2ed5-490e-bb8f-c6fd17a2ce16\",\"type\":\"ResizeTool\"},{\"id\":\"88584ef8-b4a6-4683-8ef1-9b3de65c4e1f\",\"type\":\"ResetTool\"},{\"id\":\"753b9394-0915-45e2-be24-76e9e2a9b9e0\",\"type\":\"HelpTool\"},{\"id\":\"6a7c6b22-a2de-4529-9421-7a64aaa5e23e\",\"type\":\"HoverTool\"}],\"x_range\":{\"id\":\"c2159b4a-3073-428c-9f96-9b3d7bedae6c\",\"type\":\"DataRange1d\"},\"y_range\":{\"id\":\"39cc2de3-7e46-448d-8867-181d8b769cef\",\"type\":\"DataRange1d\"}},\"id\":\"daef0b65-a5af-4827-95fb-f4bd67b51a97\",\"subtype\":\"Figure\",\"type\":\"Plot\"},{\"attributes\":{\"plot\":{\"id\":\"daef0b65-a5af-4827-95fb-f4bd67b51a97\",\"subtype\":\"Figure\",\"type\":\"Plot\"}},\"id\":\"d50a9114-2ed5-490e-bb8f-c6fd17a2ce16\",\"type\":\"ResizeTool\"},{\"attributes\":{\"bottom_units\":\"screen\",\"fill_alpha\":{\"value\":0.5},\"fill_color\":{\"value\":\"lightgrey\"},\"left_units\":\"screen\",\"level\":\"overlay\",\"line_alpha\":{\"value\":1.0},\"line_color\":{\"value\":\"black\"},\"line_dash\":[4,4],\"line_width\":{\"value\":2},\"plot\":null,\"render_mode\":\"css\",\"right_units\":\"screen\",\"top_units\":\"screen\"},\"id\":\"7cd99c49-023c-46ea-b609-9aa5c9e27a54\",\"type\":\"BoxAnnotation\"},{\"attributes\":{\"callback\":null},\"id\":\"9eff1832-d7d0-4cfa-a126-264e83261d20\",\"type\":\"DataRange1d\"},{\"attributes\":{\"max_interval\":500.0,\"num_minor_ticks\":0},\"id\":\"c887e444-f8c6-4cb6-8588-a7c4b8878afe\",\"type\":\"AdaptiveTicker\"},{\"attributes\":{\"fill_color\":{\"value\":\"#1f77b4\"},\"line_color\":{\"value\":\"#1f77b4\"},\"line_width\":{\"value\":2},\"size\":{\"units\":\"screen\",\"value\":5},\"x\":{\"field\":\"airdate\"},\"y\":{\"field\":\"rating_count\"}},\"id\":\"2b7522e4-8a41-4058-856b-8dd4f6898d52\",\"type\":\"Circle\"},{\"attributes\":{\"days\":[1,8,15,22]},\"id\":\"dc705dee-0913-4229-b650-cc2d23283179\",\"type\":\"DaysTicker\"},{\"attributes\":{\"callback\":null,\"plot\":{\"id\":\"daef0b65-a5af-4827-95fb-f4bd67b51a97\",\"subtype\":\"Figure\",\"type\":\"Plot\"},\"tooltips\":[[\"Episode\",\"@number\"],[\"Title\",\"@title\"],[\"Airdate\",\"@airdatestr\"],[\"Rating\",\"@rating{1.11}\"],[\"Rating Count\",\"@rating_count{1.11}\"]]},\"id\":\"6a7c6b22-a2de-4529-9421-7a64aaa5e23e\",\"type\":\"HoverTool\"},{\"attributes\":{\"overlay\":{\"id\":\"48a7f9ed-75e9-461d-9cb9-728d79526d1a\",\"type\":\"BoxAnnotation\"},\"plot\":{\"id\":\"d386855f-d3b8-4d13-a7a7-318d9f5d6cca\",\"subtype\":\"Figure\",\"type\":\"Plot\"}},\"id\":\"bd0179bb-73f2-4d83-a689-8364ef205e26\",\"type\":\"BoxZoomTool\"},{\"attributes\":{},\"id\":\"c6e8a685-3bd3-4fe8-aadf-fdfbba3e19c2\",\"type\":\"ToolEvents\"},{\"attributes\":{\"base\":24,\"mantissas\":[1,2,4,6,8,12],\"max_interval\":43200000.0,\"min_interval\":3600000.0,\"num_minor_ticks\":0},\"id\":\"1e6c45cd-69b1-4303-bb66-44e0b066b298\",\"type\":\"AdaptiveTicker\"},{\"attributes\":{\"plot\":{\"id\":\"d386855f-d3b8-4d13-a7a7-318d9f5d6cca\",\"subtype\":\"Figure\",\"type\":\"Plot\"},\"ticker\":{\"id\":\"3e2f9d51-aed0-4072-b7e1-3c5268e99c13\",\"type\":\"DatetimeTicker\"}},\"id\":\"9104c3ad-de14-440b-b127-feee37db96e8\",\"type\":\"Grid\"},{\"attributes\":{\"days\":[1,8,15,22]},\"id\":\"efed0184-3527-40be-a255-aeea83ec0cee\",\"type\":\"DaysTicker\"},{\"attributes\":{\"formatter\":{\"id\":\"69caff3d-0773-4a52-9b77-91aad923ca8d\",\"type\":\"BasicTickFormatter\"},\"plot\":{\"id\":\"daef0b65-a5af-4827-95fb-f4bd67b51a97\",\"subtype\":\"Figure\",\"type\":\"Plot\"},\"ticker\":{\"id\":\"62c13188-cd49-4a96-bcb8-cdf5cb342fc4\",\"type\":\"BasicTicker\"}},\"id\":\"30adfbd2-ec5f-49b2-8f65-82b779b615ad\",\"type\":\"LinearAxis\"},{\"attributes\":{\"num_minor_ticks\":5},\"id\":\"3e2f9d51-aed0-4072-b7e1-3c5268e99c13\",\"type\":\"DatetimeTicker\"},{\"attributes\":{\"plot\":{\"id\":\"d386855f-d3b8-4d13-a7a7-318d9f5d6cca\",\"subtype\":\"Figure\",\"type\":\"Plot\"}},\"id\":\"274e1450-3ba0-4017-9f8f-239b1afc669e\",\"type\":\"PanTool\"},{\"attributes\":{\"overlay\":{\"id\":\"7cd99c49-023c-46ea-b609-9aa5c9e27a54\",\"type\":\"BoxAnnotation\"},\"plot\":{\"id\":\"daef0b65-a5af-4827-95fb-f4bd67b51a97\",\"subtype\":\"Figure\",\"type\":\"Plot\"}},\"id\":\"2012b89b-5224-4f5c-bf0e-7884fe0d422f\",\"type\":\"BoxZoomTool\"},{\"attributes\":{},\"id\":\"f57213f1-3f47-4c19-b8bd-c1662ff90beb\",\"type\":\"ToolEvents\"},{\"attributes\":{\"plot\":{\"id\":\"d386855f-d3b8-4d13-a7a7-318d9f5d6cca\",\"subtype\":\"Figure\",\"type\":\"Plot\"}},\"id\":\"5ff47c5e-2fe0-439b-9112-f849ac869423\",\"type\":\"WheelZoomTool\"},{\"attributes\":{\"callback\":null,\"plot\":{\"id\":\"d386855f-d3b8-4d13-a7a7-318d9f5d6cca\",\"subtype\":\"Figure\",\"type\":\"Plot\"},\"tooltips\":[[\"Episode\",\"@number\"],[\"Title\",\"@title\"],[\"Airdate\",\"@airdatestr\"],[\"Rating\",\"@rating{1.11}\"],[\"Rating Count\",\"@rating_count{1.11}\"]]},\"id\":\"2a2d297a-c9c9-4240-969c-7f83ab8ce12f\",\"type\":\"HoverTool\"},{\"attributes\":{\"days\":[1,4,7,10,13,16,19,22,25,28]},\"id\":\"d18fd675-0edb-469a-a983-e2870f1eed99\",\"type\":\"DaysTicker\"},{\"attributes\":{\"below\":[{\"id\":\"d1f1ac6d-a119-4712-98f8-4f738cd208d7\",\"type\":\"DatetimeAxis\"}],\"left\":[{\"id\":\"bbb2b8b4-5d10-458c-858f-36ff1d2f7d5e\",\"type\":\"LinearAxis\"}],\"logo\":null,\"plot_height\":400,\"plot_width\":950,\"renderers\":[{\"id\":\"d1f1ac6d-a119-4712-98f8-4f738cd208d7\",\"type\":\"DatetimeAxis\"},{\"id\":\"9104c3ad-de14-440b-b127-feee37db96e8\",\"type\":\"Grid\"},{\"id\":\"bbb2b8b4-5d10-458c-858f-36ff1d2f7d5e\",\"type\":\"LinearAxis\"},{\"id\":\"f12787b8-063b-4a46-990c-e9b8d11aa8ed\",\"type\":\"Grid\"},{\"id\":\"48a7f9ed-75e9-461d-9cb9-728d79526d1a\",\"type\":\"BoxAnnotation\"},{\"id\":\"a18208e7-b7eb-4afe-9598-e143467781bc\",\"type\":\"GlyphRenderer\"}],\"title\":\"Ratings per Episode on The Late Show with Stephen Colbert\",\"tool_events\":{\"id\":\"c6e8a685-3bd3-4fe8-aadf-fdfbba3e19c2\",\"type\":\"ToolEvents\"},\"tools\":[{\"id\":\"274e1450-3ba0-4017-9f8f-239b1afc669e\",\"type\":\"PanTool\"},{\"id\":\"5ff47c5e-2fe0-439b-9112-f849ac869423\",\"type\":\"WheelZoomTool\"},{\"id\":\"bd0179bb-73f2-4d83-a689-8364ef205e26\",\"type\":\"BoxZoomTool\"},{\"id\":\"2e1fd624-676d-40dd-a385-39e8c6794a09\",\"type\":\"PreviewSaveTool\"},{\"id\":\"cb927e01-1eec-4916-8924-2129c46f45d3\",\"type\":\"ResizeTool\"},{\"id\":\"cd4769e2-e46a-45bf-9801-527e5c6c75bb\",\"type\":\"ResetTool\"},{\"id\":\"2d8c1542-7860-4157-8b78-30a4e6b299c1\",\"type\":\"HelpTool\"},{\"id\":\"2a2d297a-c9c9-4240-969c-7f83ab8ce12f\",\"type\":\"HoverTool\"}],\"x_range\":{\"id\":\"5c2ffa45-6686-4a65-9221-7dd4e368b06e\",\"type\":\"DataRange1d\"},\"y_range\":{\"id\":\"9eff1832-d7d0-4cfa-a126-264e83261d20\",\"type\":\"DataRange1d\"}},\"id\":\"d386855f-d3b8-4d13-a7a7-318d9f5d6cca\",\"subtype\":\"Figure\",\"type\":\"Plot\"},{\"attributes\":{\"plot\":{\"id\":\"d386855f-d3b8-4d13-a7a7-318d9f5d6cca\",\"subtype\":\"Figure\",\"type\":\"Plot\"}},\"id\":\"cb927e01-1eec-4916-8924-2129c46f45d3\",\"type\":\"ResizeTool\"},{\"attributes\":{\"callback\":null},\"id\":\"5c2ffa45-6686-4a65-9221-7dd4e368b06e\",\"type\":\"DataRange1d\"},{\"attributes\":{\"months\":[0,4,8]},\"id\":\"d4d99b17-2043-4411-bc3d-24efd317ed75\",\"type\":\"MonthsTicker\"},{\"attributes\":{\"months\":[0,6]},\"id\":\"83e5dc34-3b83-43ac-bc55-dce46a5f061c\",\"type\":\"MonthsTicker\"},{\"attributes\":{\"months\":[0,2,4,6,8,10]},\"id\":\"1ca71a9e-d657-4f81-9e79-66fb68006a8e\",\"type\":\"MonthsTicker\"},{\"attributes\":{\"formatter\":{\"id\":\"cac36f56-25ed-4835-83f6-5537e93617fa\",\"type\":\"BasicTickFormatter\"},\"plot\":{\"id\":\"d386855f-d3b8-4d13-a7a7-318d9f5d6cca\",\"subtype\":\"Figure\",\"type\":\"Plot\"},\"ticker\":{\"id\":\"3fbd6be0-7fba-4933-8539-53569e336143\",\"type\":\"BasicTicker\"}},\"id\":\"bbb2b8b4-5d10-458c-858f-36ff1d2f7d5e\",\"type\":\"LinearAxis\"},{\"attributes\":{\"days\":[1,15]},\"id\":\"01e02bd5-1d92-4e5a-a6b1-a0f992e89af4\",\"type\":\"DaysTicker\"},{\"attributes\":{\"callback\":null},\"id\":\"39cc2de3-7e46-448d-8867-181d8b769cef\",\"type\":\"DataRange1d\"},{\"attributes\":{\"plot\":{\"id\":\"daef0b65-a5af-4827-95fb-f4bd67b51a97\",\"subtype\":\"Figure\",\"type\":\"Plot\"},\"ticker\":{\"id\":\"0e12fd50-6485-45c1-9572-fa42a6f130de\",\"type\":\"DatetimeTicker\"}},\"id\":\"284e918a-d817-4b88-8ec5-69a0cb003d12\",\"type\":\"Grid\"},{\"attributes\":{\"formatter\":{\"id\":\"fa52aabe-9e0f-449c-8d69-02a99725ee71\",\"type\":\"DatetimeTickFormatter\"},\"plot\":{\"id\":\"d386855f-d3b8-4d13-a7a7-318d9f5d6cca\",\"subtype\":\"Figure\",\"type\":\"Plot\"},\"ticker\":{\"id\":\"3e2f9d51-aed0-4072-b7e1-3c5268e99c13\",\"type\":\"DatetimeTicker\"}},\"id\":\"d1f1ac6d-a119-4712-98f8-4f738cd208d7\",\"type\":\"DatetimeAxis\"},{\"attributes\":{},\"id\":\"1ddc2619-e221-40e2-a697-d9f57b866922\",\"type\":\"YearsTicker\"},{\"attributes\":{\"dimension\":1,\"plot\":{\"id\":\"daef0b65-a5af-4827-95fb-f4bd67b51a97\",\"subtype\":\"Figure\",\"type\":\"Plot\"},\"ticker\":{\"id\":\"62c13188-cd49-4a96-bcb8-cdf5cb342fc4\",\"type\":\"BasicTicker\"}},\"id\":\"37100fe4-e059-4ddb-a373-6c6dd371d2ae\",\"type\":\"Grid\"},{\"attributes\":{\"days\":[1,2,3,4,5,6,7,8,9,10,11,12,13,14,15,16,17,18,19,20,21,22,23,24,25,26,27,28,29,30,31]},\"id\":\"5548dc23-4bfe-4d2a-bced-94f1369cb2aa\",\"type\":\"DaysTicker\"},{\"attributes\":{\"plot\":{\"id\":\"d386855f-d3b8-4d13-a7a7-318d9f5d6cca\",\"subtype\":\"Figure\",\"type\":\"Plot\"}},\"id\":\"cd4769e2-e46a-45bf-9801-527e5c6c75bb\",\"type\":\"ResetTool\"},{\"attributes\":{\"months\":[0,4,8]},\"id\":\"d6263a63-1151-41da-90b8-96d9946e945b\",\"type\":\"MonthsTicker\"},{\"attributes\":{\"bottom_units\":\"screen\",\"fill_alpha\":{\"value\":0.5},\"fill_color\":{\"value\":\"lightgrey\"},\"left_units\":\"screen\",\"level\":\"overlay\",\"line_alpha\":{\"value\":1.0},\"line_color\":{\"value\":\"black\"},\"line_dash\":[4,4],\"line_width\":{\"value\":2},\"plot\":null,\"render_mode\":\"css\",\"right_units\":\"screen\",\"top_units\":\"screen\"},\"id\":\"48a7f9ed-75e9-461d-9cb9-728d79526d1a\",\"type\":\"BoxAnnotation\"},{\"attributes\":{},\"id\":\"3fbd6be0-7fba-4933-8539-53569e336143\",\"type\":\"BasicTicker\"},{\"attributes\":{\"plot\":{\"id\":\"daef0b65-a5af-4827-95fb-f4bd67b51a97\",\"subtype\":\"Figure\",\"type\":\"Plot\"}},\"id\":\"d4743cf6-32b3-47db-a146-7e7a05360b08\",\"type\":\"PreviewSaveTool\"},{\"attributes\":{\"months\":[0,2,4,6,8,10]},\"id\":\"c12a451e-2258-4352-ae8f-91f1f289225b\",\"type\":\"MonthsTicker\"},{\"attributes\":{\"days\":[1,2,3,4,5,6,7,8,9,10,11,12,13,14,15,16,17,18,19,20,21,22,23,24,25,26,27,28,29,30,31]},\"id\":\"0641f978-9e4d-4ce2-8eb7-700b287145a1\",\"type\":\"DaysTicker\"},{\"attributes\":{\"callback\":null},\"id\":\"c2159b4a-3073-428c-9f96-9b3d7bedae6c\",\"type\":\"DataRange1d\"},{\"attributes\":{\"dimension\":1,\"plot\":{\"id\":\"d386855f-d3b8-4d13-a7a7-318d9f5d6cca\",\"subtype\":\"Figure\",\"type\":\"Plot\"},\"ticker\":{\"id\":\"3fbd6be0-7fba-4933-8539-53569e336143\",\"type\":\"BasicTicker\"}},\"id\":\"f12787b8-063b-4a46-990c-e9b8d11aa8ed\",\"type\":\"Grid\"},{\"attributes\":{\"data_source\":{\"id\":\"db5253c9-09fa-4ed5-93f8-ebf1da9768bd\",\"type\":\"ColumnDataSource\"},\"glyph\":{\"id\":\"2b010905-a141-40cb-a251-411b53295be9\",\"type\":\"Circle\"},\"hover_glyph\":null,\"nonselection_glyph\":{\"id\":\"8ff3ae2f-4871-441d-af8b-5fe2280013b1\",\"type\":\"Circle\"},\"selection_glyph\":null},\"id\":\"a18208e7-b7eb-4afe-9598-e143467781bc\",\"type\":\"GlyphRenderer\"},{\"attributes\":{},\"id\":\"62c13188-cd49-4a96-bcb8-cdf5cb342fc4\",\"type\":\"BasicTicker\"},{\"attributes\":{},\"id\":\"52ed8aba-836f-459c-b1ce-b2279fb2d8f2\",\"type\":\"YearsTicker\"},{\"attributes\":{\"plot\":{\"id\":\"daef0b65-a5af-4827-95fb-f4bd67b51a97\",\"subtype\":\"Figure\",\"type\":\"Plot\"}},\"id\":\"88584ef8-b4a6-4683-8ef1-9b3de65c4e1f\",\"type\":\"ResetTool\"},{\"attributes\":{\"max_interval\":500.0,\"num_minor_ticks\":0},\"id\":\"5fb3d7d4-a6f9-4a81-ba50-ce68e3969631\",\"type\":\"AdaptiveTicker\"},{\"attributes\":{\"months\":[0,1,2,3,4,5,6,7,8,9,10,11]},\"id\":\"28c15f0a-420a-41bd-8a4f-18abccd122ea\",\"type\":\"MonthsTicker\"},{\"attributes\":{\"callback\":null,\"column_names\":[\"index\",\"number\",\"airdate\",\"rating\",\"title\",\"rating_count\",\"airdatestr\"],\"data\":{\"airdate\":[1441670400000.0,1441756800000.0,1441843200000.0,1441929600000.0,1442188800000.0,1442275200000.0,1442361600000.0,1442448000000.0,1442534400000.0,1442793600000.0,1442880000000.0,1442966400000.0,1443052800000.0,1443139200000.0,1443398400000.0,1443484800000.0,1443571200000.0,1443657600000.0,1443744000000.0,1444003200000.0,1444089600000.0,1444176000000.0,1444262400000.0,1444348800000.0,1444608000000.0,1444694400000.0,1444780800000.0,1444867200000.0,1444953600000.0,1445817600000.0,1445904000000.0,1445990400000.0,1446076800000.0,1446163200000.0,1446422400000.0,1446508800000.0,1446595200000.0,1446681600000.0,1446768000000.0,1447027200000.0,1447113600000.0,1447200000000.0,1447286400000.0,1447372800000.0,1447632000000.0,1447718400000.0,1447804800000.0,1447891200000.0,1447977600000.0,1448236800000.0,1448323200000.0,1448409600000.0,1449446400000.0,1449532800000.0,1449619200000.0,1449705600000.0,1449792000000.0,1450051200000.0,1450137600000.0,1450224000000.0,1450310400000.0,1450396800000.0,1451865600000.0,1451952000000.0,1452038400000.0,1452124800000.0,1452211200000.0,1452556800000.0,1452643200000.0,1452729600000.0,1452816000000.0,1453075200000.0,1453161600000.0,1453248000000.0,1453334400000.0,1453420800000.0,1453680000000.0,1453766400000.0,1453852800000.0,1453939200000.0,1454284800000.0,1454371200000.0,1454457600000.0,1454544000000.0,1454630400000.0,1454803200000.0,1454889600000.0,1454976000000.0,1455062400000.0,1455148800000.0,1455494400000.0,1455580800000.0,1455840000000.0,1456099200000.0,1456185600000.0,1456272000000.0,1456358400000.0,1456704000000.0,1456790400000.0,1456876800000.0,1456963200000.0,1457308800000.0,1457395200000.0,1457481600000.0,1457568000000.0,1457654400000.0,1457913600000.0,1458000000000.0,1458086400000.0,1458172800000.0,1459123200000.0,1459209600000.0,1459296000000.0,1459382400000.0,1459468800000.0,1459728000000.0,1459814400000.0,1459900800000.0,1459987200000.0,1460937600000.0,1461024000000.0,1461196800000.0,1461283200000.0,1461715200000.0],\"airdatestr\":[\"09/08/15\",\"09/09/15\",\"09/10/15\",\"09/11/15\",\"09/14/15\",\"09/15/15\",\"09/16/15\",\"09/17/15\",\"09/18/15\",\"09/21/15\",\"09/22/15\",\"09/23/15\",\"09/24/15\",\"09/25/15\",\"09/28/15\",\"09/29/15\",\"09/30/15\",\"10/01/15\",\"10/02/15\",\"10/05/15\",\"10/06/15\",\"10/07/15\",\"10/08/15\",\"10/09/15\",\"10/12/15\",\"10/13/15\",\"10/14/15\",\"10/15/15\",\"10/16/15\",\"10/26/15\",\"10/27/15\",\"10/28/15\",\"10/29/15\",\"10/30/15\",\"11/02/15\",\"11/03/15\",\"11/04/15\",\"11/05/15\",\"11/06/15\",\"11/09/15\",\"11/10/15\",\"11/11/15\",\"11/12/15\",\"11/13/15\",\"11/16/15\",\"11/17/15\",\"11/18/15\",\"11/19/15\",\"11/20/15\",\"11/23/15\",\"11/24/15\",\"11/25/15\",\"12/07/15\",\"12/08/15\",\"12/09/15\",\"12/10/15\",\"12/11/15\",\"12/14/15\",\"12/15/15\",\"12/16/15\",\"12/17/15\",\"12/18/15\",\"01/04/16\",\"01/05/16\",\"01/06/16\",\"01/07/16\",\"01/08/16\",\"01/12/16\",\"01/13/16\",\"01/14/16\",\"01/15/16\",\"01/18/16\",\"01/19/16\",\"01/20/16\",\"01/21/16\",\"01/22/16\",\"01/25/16\",\"01/26/16\",\"01/27/16\",\"01/28/16\",\"02/01/16\",\"02/02/16\",\"02/03/16\",\"02/04/16\",\"02/05/16\",\"02/07/16\",\"02/08/16\",\"02/09/16\",\"02/10/16\",\"02/11/16\",\"02/15/16\",\"02/16/16\",\"02/19/16\",\"02/22/16\",\"02/23/16\",\"02/24/16\",\"02/25/16\",\"02/29/16\",\"03/01/16\",\"03/02/16\",\"03/03/16\",\"03/07/16\",\"03/08/16\",\"03/09/16\",\"03/10/16\",\"03/11/16\",\"03/14/16\",\"03/15/16\",\"03/16/16\",\"03/17/16\",\"03/28/16\",\"03/29/16\",\"03/30/16\",\"03/31/16\",\"04/01/16\",\"04/04/16\",\"04/05/16\",\"04/06/16\",\"04/07/16\",\"04/18/16\",\"04/19/16\",\"04/21/16\",\"04/22/16\",\"04/27/16\"],\"index\":[0,1,2,3,4,5,6,7,8,9,10,11,12,13,14,15,16,17,18,19,20,21,22,23,24,25,26,27,28,29,30,31,32,33,34,35,36,37,38,39,40,41,42,43,44,45,46,47,48,49,50,51,52,53,54,55,56,57,58,59,60,61,62,63,64,65,66,68,69,70,71,72,73,74,75,76,77,78,79,80,81,82,83,84,85,86,87,88,89,90,91,92,95,96,97,98,99,100,101,102,103,104,105,106,107,108,109,110,111,112,113,114,115,116,117,118,119,120,121,122,123,125,126,129],\"number\":[1,2,3,4,5,6,7,8,9,10,11,12,13,14,15,16,17,18,19,20,21,22,23,24,25,26,27,28,29,30,31,32,33,34,35,36,37,38,39,40,41,42,43,44,45,46,47,48,49,50,51,52,53,54,55,56,57,58,59,60,61,62,63,64,65,66,67,69,70,71,72,73,74,75,76,77,78,79,80,81,82,83,84,85,86,87,88,89,90,91,92,93,96,97,98,99,100,101,102,103,104,105,106,107,108,109,110,111,112,113,114,115,116,117,118,119,120,121,122,123,124,126,127,130],\"rating\":[7.5,7.5,8.6,7.4,7.9,7.8,8.0,7.7,8.2,8.0,8.2,7.7,7.3,7.8,7.2,7.4,8.2,6.9,7.7,8.2,7.4,7.9,8.5,7.7,8.1,8.5,8.3,7.2,8.5,7.2,7.9,8.0,8.0,7.3,7.5,7.7,8.3,7.7,7.3,6.9,8.1,7.6,7.6,7.4,8.1,8.0,7.7,8.5,9.0,8.4,7.2,7.1,7.2,7.7,6.6,8.2,7.8,7.4,8.0,7.1,7.9,7.8,7.4,7.7,8.1,7.5,8.0,7.0,7.0,7.0,7.7,7.5,7.6,8.0,7.7,8.5,7.9,7.8,7.2,7.8,7.6,7.0,6.4,7.6,7.7,7.6,7.1,7.4,7.8,7.2,6.8,6.7,6.4,7.0,7.3,7.8,7.3,8.4,7.4,7.7,7.7,6.9,7.3,6.8,7.0,6.0,7.9,7.0,7.1,7.6,7.1,6.1,8.1,8.0,7.7,7.2,5.9,6.9,6.2,8.0,8.1,6.8,7.8,7.8],\"rating_count\":[97.0,58.0,66.0,42.0,36.0,32.0,36.0,32.0,36.0,32.0,31.0,27.0,23.0,24.0,18.0,20.0,19.0,18.0,20.0,18.0,20.0,8.0,13.0,15.0,14.0,15.0,13.0,14.0,20.0,12.0,14.0,12.0,18.0,14.0,11.0,16.0,18.0,15.0,12.0,11.0,14.0,11.0,8.0,13.0,18.0,10.0,10.0,8.0,11.0,10.0,8.0,8.0,9.0,9.0,8.0,10.0,8.0,10.0,9.0,11.0,8.0,6.0,7.0,6.0,7.0,6.0,7.0,7.0,6.0,7.0,6.0,6.0,7.0,9.0,6.0,6.0,9.0,6.0,8.0,8.0,8.0,9.0,9.0,9.0,6.0,11.0,7.0,9.0,13.0,8.0,5.0,10.0,7.0,7.0,6.0,6.0,7.0,7.0,8.0,7.0,6.0,7.0,10.0,10.0,8.0,7.0,8.0,8.0,8.0,9.0,10.0,13.0,7.0,9.0,11.0,6.0,10.0,9.0,6.0,6.0,8.0,5.0,5.0,8.0],\"title\":[\"George Clooney/Governor Jeb Bush/Mavis Staples & Friends\",\"Scarlett Johansson/Elon Musk/Kendrick Lamar\",\"Vice President Joe Biden/Travis Kalanick/Toby Keith\",\"Amy Schumer/Stephen King/Troubled Waters\",\"Emily Blunt/Justice Stephen Breyer/The Dead Weather\",\"Jake Gyllenhaal/Apple CEO Tim Cook/Run the Jewels & TV on the Radio\",\"Kevin Spacey/Carol Burnett/Abbi Jacobson & Ilana Glazer/Willie Nelson & John Mellencamp\",\"Trevor Noah/Ban Ki-Moon/Chris Stapleton\",\"Lupita Nyong'o/Sen. Bernie Sanders/Cast of \\\"An American in Paris\\\"\",\"Steph Curry/Sen. Ted Cruz/Don Henley\",\"Donald Trump/Ernest Moniz/Raury\",\"Hugh Jackman/Sen. Elizabeth Warren/Pearl Jam\",\"Andrew Sullivan/Maria Shriver/Jim Gaffigan/Archbishop Thomas Wenski\",\"Malala Yousafzai/Kerry Washington/The Arcs\",\"Michelle Obama/Mindy Kaling/John Legend\",\"Ellen Page/Jesse Eisenberg/Dominic Wilcox\",\"Elizabeth Gilbert/John Oliver/Evan Spiegel/Bill Withers/Ed Sheeran\",\"Secretary of State John Kerry/Claire Danes/PewDiePie\",\"Morgan Freeman/Ruth Wilson/Sean Murray\",\"John McCain/Yo-Yo Ma/Misty Copeland\",\"Bill Clinton/Billy Eichner/Florence and the Machine\",\"Gina Rodriguez/Ben Bernanke/Tame Impala\",\"Cate Blanchett/Airbnb CEO Brian Chesky\",\"James Corden/Shane Smith/Halsey\",\"Carey Mulligan/Elvis Costello/Darlene Love\",\"Sarah Silverman/Elijah Wood/The Legends of Zelda: Symphony of the Goddesses\",\"Jack Black/Nick Woodman/Michelle Dorrance\",\"Oprah Winfrey/Joseph Fink & Jeffrey Cranor/Judith Hill\",\"Jimmy Kimmel/\\\"Crimson Peak\\\" Cast/Beach House\",\"Sienna Miller/Melissa Benoist/Chance the Rapper\",\"Hillary Clinton/Anthony Bourdain/Carrie Brownstein/Lianne La Navas\",\"Julianna Margulies/Jonathan Franzen/Alabama Shakes\",\"Seth MacFarlane/Neil DeGrasse Tyson\",\"Charlie Rose/Stacy Schiff/Ghost/The Zombies\",\"Allison Janney/Colin Quinn/Margaret Cho\",\"Antonio Banderas/Reed Hastings/John Irving\",\"Daniel Craig/Elizabeth Gilbert/Dr. Eugenia Cheng\",\"Bryan Cranston/Karl Ove Knausgaard/Shamir\",\"Whoopi Goldberg/Gov. John Kasich/Glen Hansard\",\"Ethan Hawke/Sen. Claire McCaskill & Sen. Amy Klobuchar/Nathaniel Ratcliff & the Night Sweats\",\"Aziz Ansari/Shonda Rhimes/Bruce Campbell & Lucy Lawless\",\"Viola Davis/Brian Greene/George Ezra\",\"Jennifer Connelly/Judd Apatow/The Internet\",\"Mark Ruffalo/John Cleese/Micheal Flatley\",\"Capt. Florent Groberg/Bill Maher/Shepard Fairey/The Acro-Cats\",\"Julianne Moore/Burt Reynolds/Public Image Ltd./CeeLo Green\",\"Sharon Stone/Justin Theroux/James Taylor\",\"Jane Fonda/Andrew Lloyd Webber/Brandon Niederauer\",\"Michael Caine/Larry Wilmore/Boots/Vulfpeck\",\"Sylvester Stallone/Ted Koppel/My Morning Jacket\",\"Spike Lee/Andy Cohen/Carly Simon\",\"Gloria Estefan/Navy Seal Eric Greitens/Jake Wood/Chef Daniel Boulud\",\"Steve Carell/Jennifer Hudson\",\"Marion Cotillard/George Saunders/Joanna Newsom\",\"Cast of \\\"Downton Abbey\\\"/Adam McKay/Kurt Vile\",\"Bruce Willis/Michael Lewis/Lizzo\",\"Lin-Manuel Miranda/Ike Barinholtz/Sharon Jones & the Dap Kings\",\"Jennifer Lawrence/Doris Kearns Goodwin/Sleater-Kinney\",\"Quentin Tarantino/Jonathan Groff/Squeeze\",\"Robert De Niro/Daniel Gilbert/Henry Rollins\",\"Michael Moore/Samantha Power/Michael C. Hall\",\"Mandy Patinkin/Kayvon Beykpour/Leon Bridges\",\"Samuel L. Jackson/Olivia Hallisey/Foals\",\"John Krasinski/Killer Mike/George Church/Foals\",\"Jerry Seinfeld/Sen. Rand Paul/Andra Day\",\"Damian Lewis/America Ferrera/FloydLittle's Double Dutch Team\",\"Matthew Broderick/Sarah Parcak/Kacey Musgraves\",\"Saoirse Ronan/Jeremy Stoppelman/Laura Ricciardi & Moira Demos/James Bay\",\"Paul Giamatti/Guerilla Girls/J.B. Mauney\",\"Olivia Munn/T.J. Miller/Father John Misty\",\"Scott Kelly/Abby Wambach/Maria Bamford\",\"Patricia Heaton/Quincy Jones/DeRay Mckesson/Grace\",\"Charlie Day/Colin Hanks/Margo Price\",\"James Spader/Brandon Marshall/Sarah Koenig/Rev Run\",\"Christian Slater/Josh Radnor/Iggy Pop\",\"Steven Tyler/Gaby Hoffmann/Lapsley\",\"Donald Rumsfeld/Russell Westbrook/Anderson Paak & the Free Nationals\",\"Laurence Fishburne/Sarah Paulson/Woke\",\"Chris Pine/Danielle Brooks/Jonah Reider/Baauer\",\"Josh Brolin/John Dickerson/Erin Brockovich/Aubrie Sellers\",\"John Travolta & Courtney B. Vance/Amy Cuddy/John Moreland\",\"David Schwimmer/Pastor Joel Osteen/M. Ward\",\"Dr. Phil McGraw/Mark & Jay Duplass/Michael Eric Dyson/Anderson Paak & the Free Nationals\",\"Michael Strahan/Samantha Bee/Wilco\",\"Bobby Cannavale/Donny Deutsch/Charles Kelley\",\"Tina Fey & Margot Robbie/Will Ferrell/Megyn Kelly/Keegan-Michael Key & Jordan Peele\",\"Bill O'Reilly/Eddie George/Macklemore & Ryan Lewis\",\"Olivia Wilde/Christiane Amanpour\",\"Ben Stiller/Sen. Bernie Sanders/TAO: Seventeen Samurai\",\"Kelsey Grammer/Fred Armisen/Sarah McDaniel/Ty Segall & the Muggers\",\"Craig Ferguson/Hailey Clauson & Ashley Graham/Cory Booker\",\"Eva Longoria/Abbi Jacobson & Ilana Glazer/Lucinda Williams\",\"Chelsea Handler/Zosia Mamet/The Lumineers\",\"Casey Affleck/Richard Dreyfuss/Mavis Staples\",\"Debra Messing/Zachary Quinto/Violent Femmes\",\"Adrien Brody/Danai Gurira/Brian Greene\",\"Tim Daly/Krysten Ritter/Jason Isbell\",\"Spike Jonze/Jeffrey Dean Morgan/Jack Garratt\",\"Chrissy Teigen/Mike Birbiglia/Adam Savage\",\"Octavia Spencer/John Stamos, Bob Saget & Dave Coulier/Lucius\",\"Christopher Meloni/Edward Byers/Ray LaMontagne\",\"Will Arnett/Charles Barkley/Max Greenfield\",\"Helen Mirren/J.J. Abrams/DMA's\",\"Sally Field/Jerrod Carmichael/Esperanza Spalding\",\"Anna Kendrick/Loretta Lynch/Brian Fallon\",\"Jeff Daniels/Audra McDonald/Mary Elizabeth Winstead\",\"John Oliver/Jordan Spieth/New Order\",\"Steve Martin & Edie Brickell/Shirley MacLaine/Gustavo Dudamel/Los Angeles Philharmonic\",\"Theo James/Jussie Smollett/Laurie Anderson\",\"William H. Macy/Melissa Rauch/Isaac Mizrahi\",\"Tom Hiddleston/Laura Benanti/Frightened Rabbit\",\"Adam Driver/Rachel Bloom/Savages\",\"Eric Stonestreet/Jason Jones/Sen. Elizabeth Warren\",\"Sarah Paulson/Tatiana Maslany/Wynton Marsalis, Lil Buck & Jared Grimes\",\"Steve Buscemi/Benjamin Walker/Cast of Broadway's \\\"American Psycho\\\"\",\"Matthew Perry/Nick Offerman/Explosions in the Sky\",\"Melissa McCarthy & Ben Falcone/Arianna Huffington/Babymetal\",\"Anna Kendrick & Sam Rockwell/David Duchovny/Autolux\",\"Mindy Kaling/Tituss Burgess/Ken Burns\",\"Hillary Clinton/Jesse Tyler Ferguson/Katharine McPhee/Sturgill Simpson\",\"Kevin Spacey/Thomas Middleditch/The Flaming Lips\",\"Tom Hanks/Leslie Odom, Jr./The Strumbellas/Roy Haynes\",\"Julia Louis-Dreyfus/Nikolaj Coster-Waldau/Sam Morril\",\"Susan Sarandon/David Tennant/Catfish & the Bottlemen\"]}},\"id\":\"db5253c9-09fa-4ed5-93f8-ebf1da9768bd\",\"type\":\"ColumnDataSource\"},{\"attributes\":{\"days\":[1,4,7,10,13,16,19,22,25,28]},\"id\":\"6e7dd4c8-56c6-48fb-812c-f36ce1071f05\",\"type\":\"DaysTicker\"},{\"attributes\":{\"plot\":{\"id\":\"daef0b65-a5af-4827-95fb-f4bd67b51a97\",\"subtype\":\"Figure\",\"type\":\"Plot\"}},\"id\":\"f16dc1f4-49c1-4fa3-9054-54f00d4ac41a\",\"type\":\"PanTool\"},{\"attributes\":{\"base\":60,\"mantissas\":[1,2,5,10,15,20,30],\"max_interval\":1800000.0,\"min_interval\":1000.0,\"num_minor_ticks\":0},\"id\":\"7c85f904-5375-41bc-8f72-fad17a294378\",\"type\":\"AdaptiveTicker\"},{\"attributes\":{\"callback\":null,\"column_names\":[\"index\",\"number\",\"airdate\",\"rating\",\"title\",\"rating_count\",\"airdatestr\"],\"data\":{\"airdate\":[1441670400000.0,1441756800000.0,1441843200000.0,1441929600000.0,1442188800000.0,1442275200000.0,1442361600000.0,1442448000000.0,1442534400000.0,1442793600000.0,1442880000000.0,1442966400000.0,1443052800000.0,1443139200000.0,1443398400000.0,1443484800000.0,1443571200000.0,1443657600000.0,1443744000000.0,1444003200000.0,1444089600000.0,1444176000000.0,1444262400000.0,1444348800000.0,1444608000000.0,1444694400000.0,1444780800000.0,1444867200000.0,1444953600000.0,1445817600000.0,1445904000000.0,1445990400000.0,1446076800000.0,1446163200000.0,1446422400000.0,1446508800000.0,1446595200000.0,1446681600000.0,1446768000000.0,1447027200000.0,1447113600000.0,1447200000000.0,1447286400000.0,1447372800000.0,1447632000000.0,1447718400000.0,1447804800000.0,1447891200000.0,1447977600000.0,1448236800000.0,1448323200000.0,1448409600000.0,1449446400000.0,1449532800000.0,1449619200000.0,1449705600000.0,1449792000000.0,1450051200000.0,1450137600000.0,1450224000000.0,1450310400000.0,1450396800000.0,1451865600000.0,1451952000000.0,1452038400000.0,1452124800000.0,1452211200000.0,1452556800000.0,1452643200000.0,1452729600000.0,1452816000000.0,1453075200000.0,1453161600000.0,1453248000000.0,1453334400000.0,1453420800000.0,1453680000000.0,1453766400000.0,1453852800000.0,1453939200000.0,1454284800000.0,1454371200000.0,1454457600000.0,1454544000000.0,1454630400000.0,1454803200000.0,1454889600000.0,1454976000000.0,1455062400000.0,1455148800000.0,1455494400000.0,1455580800000.0,1455840000000.0,1456099200000.0,1456185600000.0,1456272000000.0,1456358400000.0,1456704000000.0,1456790400000.0,1456876800000.0,1456963200000.0,1457308800000.0,1457395200000.0,1457481600000.0,1457568000000.0,1457654400000.0,1457913600000.0,1458000000000.0,1458086400000.0,1458172800000.0,1459123200000.0,1459209600000.0,1459296000000.0,1459382400000.0,1459468800000.0,1459728000000.0,1459814400000.0,1459900800000.0,1459987200000.0,1460937600000.0,1461024000000.0,1461196800000.0,1461283200000.0,1461715200000.0],\"airdatestr\":[\"09/08/15\",\"09/09/15\",\"09/10/15\",\"09/11/15\",\"09/14/15\",\"09/15/15\",\"09/16/15\",\"09/17/15\",\"09/18/15\",\"09/21/15\",\"09/22/15\",\"09/23/15\",\"09/24/15\",\"09/25/15\",\"09/28/15\",\"09/29/15\",\"09/30/15\",\"10/01/15\",\"10/02/15\",\"10/05/15\",\"10/06/15\",\"10/07/15\",\"10/08/15\",\"10/09/15\",\"10/12/15\",\"10/13/15\",\"10/14/15\",\"10/15/15\",\"10/16/15\",\"10/26/15\",\"10/27/15\",\"10/28/15\",\"10/29/15\",\"10/30/15\",\"11/02/15\",\"11/03/15\",\"11/04/15\",\"11/05/15\",\"11/06/15\",\"11/09/15\",\"11/10/15\",\"11/11/15\",\"11/12/15\",\"11/13/15\",\"11/16/15\",\"11/17/15\",\"11/18/15\",\"11/19/15\",\"11/20/15\",\"11/23/15\",\"11/24/15\",\"11/25/15\",\"12/07/15\",\"12/08/15\",\"12/09/15\",\"12/10/15\",\"12/11/15\",\"12/14/15\",\"12/15/15\",\"12/16/15\",\"12/17/15\",\"12/18/15\",\"01/04/16\",\"01/05/16\",\"01/06/16\",\"01/07/16\",\"01/08/16\",\"01/12/16\",\"01/13/16\",\"01/14/16\",\"01/15/16\",\"01/18/16\",\"01/19/16\",\"01/20/16\",\"01/21/16\",\"01/22/16\",\"01/25/16\",\"01/26/16\",\"01/27/16\",\"01/28/16\",\"02/01/16\",\"02/02/16\",\"02/03/16\",\"02/04/16\",\"02/05/16\",\"02/07/16\",\"02/08/16\",\"02/09/16\",\"02/10/16\",\"02/11/16\",\"02/15/16\",\"02/16/16\",\"02/19/16\",\"02/22/16\",\"02/23/16\",\"02/24/16\",\"02/25/16\",\"02/29/16\",\"03/01/16\",\"03/02/16\",\"03/03/16\",\"03/07/16\",\"03/08/16\",\"03/09/16\",\"03/10/16\",\"03/11/16\",\"03/14/16\",\"03/15/16\",\"03/16/16\",\"03/17/16\",\"03/28/16\",\"03/29/16\",\"03/30/16\",\"03/31/16\",\"04/01/16\",\"04/04/16\",\"04/05/16\",\"04/06/16\",\"04/07/16\",\"04/18/16\",\"04/19/16\",\"04/21/16\",\"04/22/16\",\"04/27/16\"],\"index\":[0,1,2,3,4,5,6,7,8,9,10,11,12,13,14,15,16,17,18,19,20,21,22,23,24,25,26,27,28,29,30,31,32,33,34,35,36,37,38,39,40,41,42,43,44,45,46,47,48,49,50,51,52,53,54,55,56,57,58,59,60,61,62,63,64,65,66,68,69,70,71,72,73,74,75,76,77,78,79,80,81,82,83,84,85,86,87,88,89,90,91,92,95,96,97,98,99,100,101,102,103,104,105,106,107,108,109,110,111,112,113,114,115,116,117,118,119,120,121,122,123,125,126,129],\"number\":[1,2,3,4,5,6,7,8,9,10,11,12,13,14,15,16,17,18,19,20,21,22,23,24,25,26,27,28,29,30,31,32,33,34,35,36,37,38,39,40,41,42,43,44,45,46,47,48,49,50,51,52,53,54,55,56,57,58,59,60,61,62,63,64,65,66,67,69,70,71,72,73,74,75,76,77,78,79,80,81,82,83,84,85,86,87,88,89,90,91,92,93,96,97,98,99,100,101,102,103,104,105,106,107,108,109,110,111,112,113,114,115,116,117,118,119,120,121,122,123,124,126,127,130],\"rating\":[7.5,7.5,8.6,7.4,7.9,7.8,8.0,7.7,8.2,8.0,8.2,7.7,7.3,7.8,7.2,7.4,8.2,6.9,7.7,8.2,7.4,7.9,8.5,7.7,8.1,8.5,8.3,7.2,8.5,7.2,7.9,8.0,8.0,7.3,7.5,7.7,8.3,7.7,7.3,6.9,8.1,7.6,7.6,7.4,8.1,8.0,7.7,8.5,9.0,8.4,7.2,7.1,7.2,7.7,6.6,8.2,7.8,7.4,8.0,7.1,7.9,7.8,7.4,7.7,8.1,7.5,8.0,7.0,7.0,7.0,7.7,7.5,7.6,8.0,7.7,8.5,7.9,7.8,7.2,7.8,7.6,7.0,6.4,7.6,7.7,7.6,7.1,7.4,7.8,7.2,6.8,6.7,6.4,7.0,7.3,7.8,7.3,8.4,7.4,7.7,7.7,6.9,7.3,6.8,7.0,6.0,7.9,7.0,7.1,7.6,7.1,6.1,8.1,8.0,7.7,7.2,5.9,6.9,6.2,8.0,8.1,6.8,7.8,7.8],\"rating_count\":[97.0,58.0,66.0,42.0,36.0,32.0,36.0,32.0,36.0,32.0,31.0,27.0,23.0,24.0,18.0,20.0,19.0,18.0,20.0,18.0,20.0,8.0,13.0,15.0,14.0,15.0,13.0,14.0,20.0,12.0,14.0,12.0,18.0,14.0,11.0,16.0,18.0,15.0,12.0,11.0,14.0,11.0,8.0,13.0,18.0,10.0,10.0,8.0,11.0,10.0,8.0,8.0,9.0,9.0,8.0,10.0,8.0,10.0,9.0,11.0,8.0,6.0,7.0,6.0,7.0,6.0,7.0,7.0,6.0,7.0,6.0,6.0,7.0,9.0,6.0,6.0,9.0,6.0,8.0,8.0,8.0,9.0,9.0,9.0,6.0,11.0,7.0,9.0,13.0,8.0,5.0,10.0,7.0,7.0,6.0,6.0,7.0,7.0,8.0,7.0,6.0,7.0,10.0,10.0,8.0,7.0,8.0,8.0,8.0,9.0,10.0,13.0,7.0,9.0,11.0,6.0,10.0,9.0,6.0,6.0,8.0,5.0,5.0,8.0],\"title\":[\"George Clooney/Governor Jeb Bush/Mavis Staples & Friends\",\"Scarlett Johansson/Elon Musk/Kendrick Lamar\",\"Vice President Joe Biden/Travis Kalanick/Toby Keith\",\"Amy Schumer/Stephen King/Troubled Waters\",\"Emily Blunt/Justice Stephen Breyer/The Dead Weather\",\"Jake Gyllenhaal/Apple CEO Tim Cook/Run the Jewels & TV on the Radio\",\"Kevin Spacey/Carol Burnett/Abbi Jacobson & Ilana Glazer/Willie Nelson & John Mellencamp\",\"Trevor Noah/Ban Ki-Moon/Chris Stapleton\",\"Lupita Nyong'o/Sen. Bernie Sanders/Cast of \\\"An American in Paris\\\"\",\"Steph Curry/Sen. Ted Cruz/Don Henley\",\"Donald Trump/Ernest Moniz/Raury\",\"Hugh Jackman/Sen. Elizabeth Warren/Pearl Jam\",\"Andrew Sullivan/Maria Shriver/Jim Gaffigan/Archbishop Thomas Wenski\",\"Malala Yousafzai/Kerry Washington/The Arcs\",\"Michelle Obama/Mindy Kaling/John Legend\",\"Ellen Page/Jesse Eisenberg/Dominic Wilcox\",\"Elizabeth Gilbert/John Oliver/Evan Spiegel/Bill Withers/Ed Sheeran\",\"Secretary of State John Kerry/Claire Danes/PewDiePie\",\"Morgan Freeman/Ruth Wilson/Sean Murray\",\"John McCain/Yo-Yo Ma/Misty Copeland\",\"Bill Clinton/Billy Eichner/Florence and the Machine\",\"Gina Rodriguez/Ben Bernanke/Tame Impala\",\"Cate Blanchett/Airbnb CEO Brian Chesky\",\"James Corden/Shane Smith/Halsey\",\"Carey Mulligan/Elvis Costello/Darlene Love\",\"Sarah Silverman/Elijah Wood/The Legends of Zelda: Symphony of the Goddesses\",\"Jack Black/Nick Woodman/Michelle Dorrance\",\"Oprah Winfrey/Joseph Fink & Jeffrey Cranor/Judith Hill\",\"Jimmy Kimmel/\\\"Crimson Peak\\\" Cast/Beach House\",\"Sienna Miller/Melissa Benoist/Chance the Rapper\",\"Hillary Clinton/Anthony Bourdain/Carrie Brownstein/Lianne La Navas\",\"Julianna Margulies/Jonathan Franzen/Alabama Shakes\",\"Seth MacFarlane/Neil DeGrasse Tyson\",\"Charlie Rose/Stacy Schiff/Ghost/The Zombies\",\"Allison Janney/Colin Quinn/Margaret Cho\",\"Antonio Banderas/Reed Hastings/John Irving\",\"Daniel Craig/Elizabeth Gilbert/Dr. Eugenia Cheng\",\"Bryan Cranston/Karl Ove Knausgaard/Shamir\",\"Whoopi Goldberg/Gov. John Kasich/Glen Hansard\",\"Ethan Hawke/Sen. Claire McCaskill & Sen. Amy Klobuchar/Nathaniel Ratcliff & the Night Sweats\",\"Aziz Ansari/Shonda Rhimes/Bruce Campbell & Lucy Lawless\",\"Viola Davis/Brian Greene/George Ezra\",\"Jennifer Connelly/Judd Apatow/The Internet\",\"Mark Ruffalo/John Cleese/Micheal Flatley\",\"Capt. Florent Groberg/Bill Maher/Shepard Fairey/The Acro-Cats\",\"Julianne Moore/Burt Reynolds/Public Image Ltd./CeeLo Green\",\"Sharon Stone/Justin Theroux/James Taylor\",\"Jane Fonda/Andrew Lloyd Webber/Brandon Niederauer\",\"Michael Caine/Larry Wilmore/Boots/Vulfpeck\",\"Sylvester Stallone/Ted Koppel/My Morning Jacket\",\"Spike Lee/Andy Cohen/Carly Simon\",\"Gloria Estefan/Navy Seal Eric Greitens/Jake Wood/Chef Daniel Boulud\",\"Steve Carell/Jennifer Hudson\",\"Marion Cotillard/George Saunders/Joanna Newsom\",\"Cast of \\\"Downton Abbey\\\"/Adam McKay/Kurt Vile\",\"Bruce Willis/Michael Lewis/Lizzo\",\"Lin-Manuel Miranda/Ike Barinholtz/Sharon Jones & the Dap Kings\",\"Jennifer Lawrence/Doris Kearns Goodwin/Sleater-Kinney\",\"Quentin Tarantino/Jonathan Groff/Squeeze\",\"Robert De Niro/Daniel Gilbert/Henry Rollins\",\"Michael Moore/Samantha Power/Michael C. Hall\",\"Mandy Patinkin/Kayvon Beykpour/Leon Bridges\",\"Samuel L. Jackson/Olivia Hallisey/Foals\",\"John Krasinski/Killer Mike/George Church/Foals\",\"Jerry Seinfeld/Sen. Rand Paul/Andra Day\",\"Damian Lewis/America Ferrera/FloydLittle's Double Dutch Team\",\"Matthew Broderick/Sarah Parcak/Kacey Musgraves\",\"Saoirse Ronan/Jeremy Stoppelman/Laura Ricciardi & Moira Demos/James Bay\",\"Paul Giamatti/Guerilla Girls/J.B. Mauney\",\"Olivia Munn/T.J. Miller/Father John Misty\",\"Scott Kelly/Abby Wambach/Maria Bamford\",\"Patricia Heaton/Quincy Jones/DeRay Mckesson/Grace\",\"Charlie Day/Colin Hanks/Margo Price\",\"James Spader/Brandon Marshall/Sarah Koenig/Rev Run\",\"Christian Slater/Josh Radnor/Iggy Pop\",\"Steven Tyler/Gaby Hoffmann/Lapsley\",\"Donald Rumsfeld/Russell Westbrook/Anderson Paak & the Free Nationals\",\"Laurence Fishburne/Sarah Paulson/Woke\",\"Chris Pine/Danielle Brooks/Jonah Reider/Baauer\",\"Josh Brolin/John Dickerson/Erin Brockovich/Aubrie Sellers\",\"John Travolta & Courtney B. Vance/Amy Cuddy/John Moreland\",\"David Schwimmer/Pastor Joel Osteen/M. Ward\",\"Dr. Phil McGraw/Mark & Jay Duplass/Michael Eric Dyson/Anderson Paak & the Free Nationals\",\"Michael Strahan/Samantha Bee/Wilco\",\"Bobby Cannavale/Donny Deutsch/Charles Kelley\",\"Tina Fey & Margot Robbie/Will Ferrell/Megyn Kelly/Keegan-Michael Key & Jordan Peele\",\"Bill O'Reilly/Eddie George/Macklemore & Ryan Lewis\",\"Olivia Wilde/Christiane Amanpour\",\"Ben Stiller/Sen. Bernie Sanders/TAO: Seventeen Samurai\",\"Kelsey Grammer/Fred Armisen/Sarah McDaniel/Ty Segall & the Muggers\",\"Craig Ferguson/Hailey Clauson & Ashley Graham/Cory Booker\",\"Eva Longoria/Abbi Jacobson & Ilana Glazer/Lucinda Williams\",\"Chelsea Handler/Zosia Mamet/The Lumineers\",\"Casey Affleck/Richard Dreyfuss/Mavis Staples\",\"Debra Messing/Zachary Quinto/Violent Femmes\",\"Adrien Brody/Danai Gurira/Brian Greene\",\"Tim Daly/Krysten Ritter/Jason Isbell\",\"Spike Jonze/Jeffrey Dean Morgan/Jack Garratt\",\"Chrissy Teigen/Mike Birbiglia/Adam Savage\",\"Octavia Spencer/John Stamos, Bob Saget & Dave Coulier/Lucius\",\"Christopher Meloni/Edward Byers/Ray LaMontagne\",\"Will Arnett/Charles Barkley/Max Greenfield\",\"Helen Mirren/J.J. Abrams/DMA's\",\"Sally Field/Jerrod Carmichael/Esperanza Spalding\",\"Anna Kendrick/Loretta Lynch/Brian Fallon\",\"Jeff Daniels/Audra McDonald/Mary Elizabeth Winstead\",\"John Oliver/Jordan Spieth/New Order\",\"Steve Martin & Edie Brickell/Shirley MacLaine/Gustavo Dudamel/Los Angeles Philharmonic\",\"Theo James/Jussie Smollett/Laurie Anderson\",\"William H. Macy/Melissa Rauch/Isaac Mizrahi\",\"Tom Hiddleston/Laura Benanti/Frightened Rabbit\",\"Adam Driver/Rachel Bloom/Savages\",\"Eric Stonestreet/Jason Jones/Sen. Elizabeth Warren\",\"Sarah Paulson/Tatiana Maslany/Wynton Marsalis, Lil Buck & Jared Grimes\",\"Steve Buscemi/Benjamin Walker/Cast of Broadway's \\\"American Psycho\\\"\",\"Matthew Perry/Nick Offerman/Explosions in the Sky\",\"Melissa McCarthy & Ben Falcone/Arianna Huffington/Babymetal\",\"Anna Kendrick & Sam Rockwell/David Duchovny/Autolux\",\"Mindy Kaling/Tituss Burgess/Ken Burns\",\"Hillary Clinton/Jesse Tyler Ferguson/Katharine McPhee/Sturgill Simpson\",\"Kevin Spacey/Thomas Middleditch/The Flaming Lips\",\"Tom Hanks/Leslie Odom, Jr./The Strumbellas/Roy Haynes\",\"Julia Louis-Dreyfus/Nikolaj Coster-Waldau/Sam Morril\",\"Susan Sarandon/David Tennant/Catfish & the Bottlemen\"]}},\"id\":\"64a1d4bf-162e-4fd0-b743-84946c63e1f2\",\"type\":\"ColumnDataSource\"},{\"attributes\":{\"data_source\":{\"id\":\"64a1d4bf-162e-4fd0-b743-84946c63e1f2\",\"type\":\"ColumnDataSource\"},\"glyph\":{\"id\":\"2b7522e4-8a41-4058-856b-8dd4f6898d52\",\"type\":\"Circle\"},\"hover_glyph\":null,\"nonselection_glyph\":{\"id\":\"296f4796-f3b1-405b-aaae-c1b3dc5a6a0a\",\"type\":\"Circle\"},\"selection_glyph\":null},\"id\":\"bff2535f-a7e8-4647-b0fb-a02d60844016\",\"type\":\"GlyphRenderer\"},{\"attributes\":{},\"id\":\"fa52aabe-9e0f-449c-8d69-02a99725ee71\",\"type\":\"DatetimeTickFormatter\"},{\"attributes\":{\"formatter\":{\"id\":\"9278ab68-7a1c-4df7-b923-657a03bb094e\",\"type\":\"DatetimeTickFormatter\"},\"plot\":{\"id\":\"daef0b65-a5af-4827-95fb-f4bd67b51a97\",\"subtype\":\"Figure\",\"type\":\"Plot\"},\"ticker\":{\"id\":\"0e12fd50-6485-45c1-9572-fa42a6f130de\",\"type\":\"DatetimeTicker\"}},\"id\":\"93230be2-79cd-4dd5-8c76-671db7d6e1ea\",\"type\":\"DatetimeAxis\"},{\"attributes\":{},\"id\":\"cac36f56-25ed-4835-83f6-5537e93617fa\",\"type\":\"BasicTickFormatter\"},{\"attributes\":{},\"id\":\"69caff3d-0773-4a52-9b77-91aad923ca8d\",\"type\":\"BasicTickFormatter\"},{\"attributes\":{\"base\":60,\"mantissas\":[1,2,5,10,15,20,30],\"max_interval\":1800000.0,\"min_interval\":1000.0,\"num_minor_ticks\":0},\"id\":\"24264d5a-e55b-4e0b-bb28-c017e4cc06fe\",\"type\":\"AdaptiveTicker\"},{\"attributes\":{\"months\":[0,1,2,3,4,5,6,7,8,9,10,11]},\"id\":\"79d14219-94b5-41a1-8782-410cda137dfa\",\"type\":\"MonthsTicker\"},{\"attributes\":{\"plot\":{\"id\":\"daef0b65-a5af-4827-95fb-f4bd67b51a97\",\"subtype\":\"Figure\",\"type\":\"Plot\"}},\"id\":\"753b9394-0915-45e2-be24-76e9e2a9b9e0\",\"type\":\"HelpTool\"},{\"attributes\":{\"plot\":{\"id\":\"d386855f-d3b8-4d13-a7a7-318d9f5d6cca\",\"subtype\":\"Figure\",\"type\":\"Plot\"}},\"id\":\"2d8c1542-7860-4157-8b78-30a4e6b299c1\",\"type\":\"HelpTool\"},{\"attributes\":{\"base\":24,\"mantissas\":[1,2,4,6,8,12],\"max_interval\":43200000.0,\"min_interval\":3600000.0,\"num_minor_ticks\":0},\"id\":\"fd162752-18a4-4955-b47a-f6e4c357007c\",\"type\":\"AdaptiveTicker\"},{\"attributes\":{\"plot\":{\"id\":\"d386855f-d3b8-4d13-a7a7-318d9f5d6cca\",\"subtype\":\"Figure\",\"type\":\"Plot\"}},\"id\":\"2e1fd624-676d-40dd-a385-39e8c6794a09\",\"type\":\"PreviewSaveTool\"},{\"attributes\":{\"fill_color\":{\"value\":\"#1f77b4\"},\"line_color\":{\"value\":\"#1f77b4\"},\"line_width\":{\"value\":2},\"size\":{\"units\":\"screen\",\"value\":5},\"x\":{\"field\":\"airdate\"},\"y\":{\"field\":\"rating\"}},\"id\":\"2b010905-a141-40cb-a251-411b53295be9\",\"type\":\"Circle\"},{\"attributes\":{},\"id\":\"9278ab68-7a1c-4df7-b923-657a03bb094e\",\"type\":\"DatetimeTickFormatter\"},{\"attributes\":{\"num_minor_ticks\":5},\"id\":\"0e12fd50-6485-45c1-9572-fa42a6f130de\",\"type\":\"DatetimeTicker\"},{\"attributes\":{\"fill_alpha\":{\"value\":0.1},\"fill_color\":{\"value\":\"#1f77b4\"},\"line_alpha\":{\"value\":0.1},\"line_color\":{\"value\":\"#1f77b4\"},\"line_width\":{\"value\":2},\"size\":{\"units\":\"screen\",\"value\":5},\"x\":{\"field\":\"airdate\"},\"y\":{\"field\":\"rating\"}},\"id\":\"8ff3ae2f-4871-441d-af8b-5fe2280013b1\",\"type\":\"Circle\"},{\"attributes\":{\"fill_alpha\":{\"value\":0.1},\"fill_color\":{\"value\":\"#1f77b4\"},\"line_alpha\":{\"value\":0.1},\"line_color\":{\"value\":\"#1f77b4\"},\"line_width\":{\"value\":2},\"size\":{\"units\":\"screen\",\"value\":5},\"x\":{\"field\":\"airdate\"},\"y\":{\"field\":\"rating_count\"}},\"id\":\"296f4796-f3b1-405b-aaae-c1b3dc5a6a0a\",\"type\":\"Circle\"}],\"root_ids\":[\"d386855f-d3b8-4d13-a7a7-318d9f5d6cca\",\"daef0b65-a5af-4827-95fb-f4bd67b51a97\"]},\"title\":\"Bokeh Application\",\"version\":\"0.11.1\"}};\n",
       "            var render_items = [{\"docid\":\"e862afd0-dffa-4cc5-967b-a10738859431\",\"elementid\":\"6d7558c5-f7f5-44ac-a079-a45175673b1c\",\"modelid\":\"daef0b65-a5af-4827-95fb-f4bd67b51a97\",\"notebook_comms_target\":\"28c25c88-d4a3-41f6-9545-72788230cb5b\"}];\n",
       "            \n",
       "            Bokeh.embed.embed_items(docs_json, render_items);\n",
       "        });\n",
       "      },\n",
       "      function(Bokeh) {\n",
       "      }\n",
       "    ];\n",
       "  \n",
       "    function run_inline_js() {\n",
       "      for (var i = 0; i < inline_js.length; i++) {\n",
       "        inline_js[i](window.Bokeh);\n",
       "      }\n",
       "    }\n",
       "  \n",
       "    if (window._bokeh_is_loading === 0) {\n",
       "      console.log(\"Bokeh: BokehJS loaded, going straight to plotting\");\n",
       "      run_inline_js();\n",
       "    } else {\n",
       "      load_libs(js_urls, function() {\n",
       "        console.log(\"Bokeh: BokehJS plotting callback run at\", now());\n",
       "        run_inline_js();\n",
       "      });\n",
       "    }\n",
       "  }(this));\n",
       "</script>"
      ]
     },
     "metadata": {},
     "output_type": "display_data"
    },
    {
     "data": {
      "text/html": [
       "<p><code>&lt;Bokeh Notebook handle for <strong>In[7]</strong>&gt;</code></p>"
      ],
      "text/plain": [
       "<bokeh.io._CommsHandle at 0x11d444ef0>"
      ]
     },
     "execution_count": 7,
     "metadata": {},
     "output_type": "execute_result"
    }
   ],
   "source": [
    "p = plot_interactive_timeseries(x='airdate', y='rating_count', data=episodes, \n",
    "                                title=\"Number of Ratings per Episode on The Late Show with Stephen Colbert\")\n",
    "show(p)"
   ]
  },
  {
   "cell_type": "markdown",
   "metadata": {},
   "source": [
    "## Sentiment Analysis"
   ]
  },
  {
   "cell_type": "code",
   "execution_count": 8,
   "metadata": {
    "collapsed": false,
    "scrolled": false
   },
   "outputs": [
    {
     "data": {
      "text/html": [
       "<div>\n",
       "<table border=\"1\" class=\"dataframe\">\n",
       "  <thead>\n",
       "    <tr style=\"text-align: right;\">\n",
       "      <th></th>\n",
       "      <th>number</th>\n",
       "      <th>airdate</th>\n",
       "      <th>polarity</th>\n",
       "      <th>subjectivity</th>\n",
       "      <th>rating</th>\n",
       "      <th>rating_count</th>\n",
       "    </tr>\n",
       "  </thead>\n",
       "  <tbody>\n",
       "    <tr>\n",
       "      <th>0</th>\n",
       "      <td>1</td>\n",
       "      <td>2015-09-08</td>\n",
       "      <td>0.177883</td>\n",
       "      <td>0.527630</td>\n",
       "      <td>7.5</td>\n",
       "      <td>97.0</td>\n",
       "    </tr>\n",
       "    <tr>\n",
       "      <th>1</th>\n",
       "      <td>2</td>\n",
       "      <td>2015-09-09</td>\n",
       "      <td>0.177891</td>\n",
       "      <td>0.529692</td>\n",
       "      <td>7.5</td>\n",
       "      <td>58.0</td>\n",
       "    </tr>\n",
       "    <tr>\n",
       "      <th>2</th>\n",
       "      <td>3</td>\n",
       "      <td>2015-09-10</td>\n",
       "      <td>0.210318</td>\n",
       "      <td>0.500193</td>\n",
       "      <td>8.6</td>\n",
       "      <td>66.0</td>\n",
       "    </tr>\n",
       "    <tr>\n",
       "      <th>3</th>\n",
       "      <td>4</td>\n",
       "      <td>2015-09-11</td>\n",
       "      <td>0.148042</td>\n",
       "      <td>0.523307</td>\n",
       "      <td>7.4</td>\n",
       "      <td>42.0</td>\n",
       "    </tr>\n",
       "    <tr>\n",
       "      <th>4</th>\n",
       "      <td>5</td>\n",
       "      <td>2015-09-14</td>\n",
       "      <td>0.171476</td>\n",
       "      <td>0.469937</td>\n",
       "      <td>7.9</td>\n",
       "      <td>36.0</td>\n",
       "    </tr>\n",
       "  </tbody>\n",
       "</table>\n",
       "</div>"
      ],
      "text/plain": [
       "   number    airdate  polarity  subjectivity  rating  rating_count\n",
       "0       1 2015-09-08  0.177883      0.527630     7.5          97.0\n",
       "1       2 2015-09-09  0.177891      0.529692     7.5          58.0\n",
       "2       3 2015-09-10  0.210318      0.500193     8.6          66.0\n",
       "3       4 2015-09-11  0.148042      0.523307     7.4          42.0\n",
       "4       5 2015-09-14  0.171476      0.469937     7.9          36.0"
      ]
     },
     "execution_count": 8,
     "metadata": {},
     "output_type": "execute_result"
    }
   ],
   "source": [
    "rows = []\n",
    "for index, row in episodes.iterrows():\n",
    "    if pd.isnull(row.text): continue\n",
    "    blob = TextBlob(row.text)\n",
    "    sentiment = blob.sentiment\n",
    "    row = {\"number\": row.number, \"polarity\": sentiment.polarity, \"subjectivity\": sentiment.subjectivity}\n",
    "    rows.append(row)\n",
    "\n",
    "sentiment = pd.DataFrame(rows).set_index('number')\n",
    "episodes = pd.concat([episodes.set_index('number'), sentiment], axis=1).reset_index()\n",
    "episodes[['number', 'airdate', 'polarity', 'subjectivity', 'rating', 'rating_count']].head()"
   ]
  },
  {
   "cell_type": "code",
   "execution_count": 9,
   "metadata": {
    "collapsed": false
   },
   "outputs": [
    {
     "data": {
      "text/plain": [
       "<matplotlib.legend.Legend at 0x11d6949e8>"
      ]
     },
     "execution_count": 9,
     "metadata": {},
     "output_type": "execute_result"
    },
    {
     "data": {
      "image/png": "[encoded data removed]",
      "text/plain": [
       "<matplotlib.figure.Figure at 0x11d6949b0>"
      ]
     },
     "metadata": {},
     "output_type": "display_data"
    }
   ],
   "source": [
    "episodes.set_index('airdate').polarity.plot(style='.')\n",
    "episodes.set_index('airdate').subjectivity.plot(style='.')\n",
    "plt.legend()"
   ]
  },
  {
   "cell_type": "code",
   "execution_count": 10,
   "metadata": {
    "collapsed": false
   },
   "outputs": [
    {
     "data": {
      "text/html": [
       "<table class=\"simpletable\">\n",
       "<caption>OLS Regression Results</caption>\n",
       "<tr>\n",
       "  <th>Dep. Variable:</th>         <td>rating</td>      <th>  R-squared:         </th> <td>   0.004</td>\n",
       "</tr>\n",
       "<tr>\n",
       "  <th>Model:</th>                   <td>OLS</td>       <th>  Adj. R-squared:    </th> <td>  -0.013</td>\n",
       "</tr>\n",
       "<tr>\n",
       "  <th>Method:</th>             <td>Least Squares</td>  <th>  F-statistic:       </th> <td>  0.2252</td>\n",
       "</tr>\n",
       "<tr>\n",
       "  <th>Date:</th>             <td>Thu, 12 May 2016</td> <th>  Prob (F-statistic):</th>  <td> 0.799</td> \n",
       "</tr>\n",
       "<tr>\n",
       "  <th>Time:</th>                 <td>13:08:50</td>     <th>  Log-Likelihood:    </th> <td> -101.49</td>\n",
       "</tr>\n",
       "<tr>\n",
       "  <th>No. Observations:</th>      <td>   119</td>      <th>  AIC:               </th> <td>   209.0</td>\n",
       "</tr>\n",
       "<tr>\n",
       "  <th>Df Residuals:</th>          <td>   116</td>      <th>  BIC:               </th> <td>   217.3</td>\n",
       "</tr>\n",
       "<tr>\n",
       "  <th>Df Model:</th>              <td>     2</td>      <th>                     </th>     <td> </td>   \n",
       "</tr>\n",
       "<tr>\n",
       "  <th>Covariance Type:</th>      <td>nonrobust</td>    <th>                     </th>     <td> </td>   \n",
       "</tr>\n",
       "</table>\n",
       "<table class=\"simpletable\">\n",
       "<tr>\n",
       "        <td></td>          <th>coef</th>     <th>std err</th>      <th>t</th>      <th>P>|t|</th> <th>[95.0% Conf. Int.]</th> \n",
       "</tr>\n",
       "<tr>\n",
       "  <th>Intercept</th>    <td>    6.8203</td> <td>    1.188</td> <td>    5.743</td> <td> 0.000</td> <td>    4.468     9.172</td>\n",
       "</tr>\n",
       "<tr>\n",
       "  <th>subjectivity</th> <td>    1.3520</td> <td>    2.419</td> <td>    0.559</td> <td> 0.577</td> <td>   -3.439     6.143</td>\n",
       "</tr>\n",
       "<tr>\n",
       "  <th>polarity</th>     <td>    0.4420</td> <td>    1.862</td> <td>    0.237</td> <td> 0.813</td> <td>   -3.247     4.131</td>\n",
       "</tr>\n",
       "</table>\n",
       "<table class=\"simpletable\">\n",
       "<tr>\n",
       "  <th>Omnibus:</th>       <td> 5.996</td> <th>  Durbin-Watson:     </th> <td>   1.490</td>\n",
       "</tr>\n",
       "<tr>\n",
       "  <th>Prob(Omnibus):</th> <td> 0.050</td> <th>  Jarque-Bera (JB):  </th> <td>   5.466</td>\n",
       "</tr>\n",
       "<tr>\n",
       "  <th>Skew:</th>          <td>-0.492</td> <th>  Prob(JB):          </th> <td>  0.0650</td>\n",
       "</tr>\n",
       "<tr>\n",
       "  <th>Kurtosis:</th>      <td> 3.366</td> <th>  Cond. No.          </th> <td>    58.3</td>\n",
       "</tr>\n",
       "</table>"
      ],
      "text/plain": [
       "<class 'statsmodels.iolib.summary.Summary'>\n",
       "\"\"\"\n",
       "                            OLS Regression Results                            \n",
       "==============================================================================\n",
       "Dep. Variable:                 rating   R-squared:                       0.004\n",
       "Model:                            OLS   Adj. R-squared:                 -0.013\n",
       "Method:                 Least Squares   F-statistic:                    0.2252\n",
       "Date:                Thu, 12 May 2016   Prob (F-statistic):              0.799\n",
       "Time:                        13:08:50   Log-Likelihood:                -101.49\n",
       "No. Observations:                 119   AIC:                             209.0\n",
       "Df Residuals:                     116   BIC:                             217.3\n",
       "Df Model:                           2                                         \n",
       "Covariance Type:            nonrobust                                         \n",
       "================================================================================\n",
       "                   coef    std err          t      P>|t|      [95.0% Conf. Int.]\n",
       "--------------------------------------------------------------------------------\n",
       "Intercept        6.8203      1.188      5.743      0.000         4.468     9.172\n",
       "subjectivity     1.3520      2.419      0.559      0.577        -3.439     6.143\n",
       "polarity         0.4420      1.862      0.237      0.813        -3.247     4.131\n",
       "==============================================================================\n",
       "Omnibus:                        5.996   Durbin-Watson:                   1.490\n",
       "Prob(Omnibus):                  0.050   Jarque-Bera (JB):                5.466\n",
       "Skew:                          -0.492   Prob(JB):                       0.0650\n",
       "Kurtosis:                       3.366   Cond. No.                         58.3\n",
       "==============================================================================\n",
       "\n",
       "Warnings:\n",
       "[1] Standard Errors assume that the covariance matrix of the errors is correctly specified.\n",
       "\"\"\""
      ]
     },
     "execution_count": 10,
     "metadata": {},
     "output_type": "execute_result"
    }
   ],
   "source": [
    "mod = smf.ols(formula='rating ~ subjectivity + polarity', data=episodes)\n",
    "res = mod.fit()\n",
    "res.summary()"
   ]
  },
  {
   "cell_type": "markdown",
   "metadata": {},
   "source": [
    "## Subtitles of Most Recent Episodes"
   ]
  },
  {
   "cell_type": "code",
   "execution_count": 11,
   "metadata": {
    "collapsed": false,
    "scrolled": false
   },
   "outputs": [
    {
     "data": {
      "text/html": [
       "<strong>136 Judy Sheindlin/Zac Posen/W. Kamau Bell</strong>"
      ],
      "text/plain": [
       "<IPython.core.display.HTML object>"
      ]
     },
     "metadata": {},
     "output_type": "display_data"
    },
    {
     "name": "stdout",
     "output_type": "stream",
     "text": [
      "STEPHEN, STEPHEN, I NEED TO TALK TO YOU ABOUT A PIZZA. GOT A MINUTE?\n",
      "NO. GOTCHA! NOW, IT'S AT THE TOP OF THE SHOW OR ACT FIVE.\n",
      "DON'T ASK HIM. IT'S JUST MY STUNT DOUBLE.\n",
      "HOW MUCH DO YOU EVEN PAY FOR THIS STUNT DOUBLE?\n",
      "GOTTA GO. (THEME SONG PLAYING)\n",
      "TONIGHT, STEPHEN WELCOMES JUDGE JUDY! ZAC POSEN! AND W. KA-MAO BELL! FEATURING JON BATISTE AND \"STAY HUMAN\"! AND NOW IT'S TIME FOR \"THE LATE SHOW\" WITH STEPHEN COLBERT! (CHEERS AND APPLAUSE) Captioning sponsored by CBS\n",
      "Stephen: HEY! WHAT'S UP? ♪ ♪ ♪\n",
      "Stephen: THANK YOU SO MUCH! WELCOME TO \"THE LATE SHOW\"! HELLO, JON!\n",
      "Jon: HEY!\n",
      "Stephen: HOW ARE YOU, MY FRIEND? GOOD TO SEE YOU! (CHEERS AND APPLAUSE) THANK YOU! WELCOME TO THE SHOAVMENT I'M YOUR HOST STEPHEN COLBERT. HAPPY CINCO DE MAYO! YOU GUYS LOVE CINCO DE MAYO? (CHEERS AND APPLAUSE) HEY, YOU KNOW...\n",
      "\n",
      "----------------------------------\n",
      "\n"
     ]
    },
    {
     "data": {
      "text/html": [
       "<strong>137 Lily Tomlin/Kumail Nanjiani/Ryan Hamilton</strong>"
      ],
      "text/plain": [
       "<IPython.core.display.HTML object>"
      ]
     },
     "metadata": {},
     "output_type": "display_data"
    },
    {
     "name": "stdout",
     "output_type": "stream",
     "text": [
      "Stephen: SO EXPLAIN THIS TO ME. IN THE SIMIRILLIAN, THERE IS A GRORFINDLE WHOIDIZE, BUT IN THE FELLOWSHIP OF THE RING IN THE FIGHT TO THE FORD, THERE IS ANOTHER ELFORD NAMED GALORAD FINDLE, IS THAT THE SAME GUIDE?\n",
      "NO HABLOS ENGLISH.  Captioning sponsored by CBS\n",
      "TONIGHT, STEPHEN WELCOMES LILY TOMLIN KUMAIL NANJIANI AND A PERFORMANCE BY COMEDIAN RYAN HAMILTON. FEATURING JON BATISTE AND STAY HUMAN. AND NOW IT'S TIME FOR \"THE LATE SHOW WITH STEPHEN COLBERT\"! ( CHEERS AND APPLAUSE )\n",
      "Stephen: HEY! WELCOME TO \"THE LATE SHOW,\"\" EVERYBODY. THANK YOU SO MUCH. THANK YOU SO MUCH, EVERYBODY. I AM STEPHEN COLBERT AND I AM SO EXCITED BECAUSE THIS WEEKEND IS THE KENTUCKY DERBY, THE ONE DAY A YEAR WHEN IT'S LEGAL TO BET ON THREE-YEAR-OLDS. LAST YEAR'S DERBY AND TRIPLE CROWN WINNER, AMERICAN PHAROAH, RETIRE...\n",
      "\n",
      "----------------------------------\n",
      "\n"
     ]
    },
    {
     "data": {
      "text/html": [
       "<strong>138 Kaley Cuoco/Dan Savage/The National</strong>"
      ],
      "text/plain": [
       "<IPython.core.display.HTML object>"
      ]
     },
     "metadata": {},
     "output_type": "display_data"
    },
    {
     "name": "stdout",
     "output_type": "stream",
     "text": [
      "OH, COME ON. ALL RIGHT, COME ON. OH, JEEZ. OH. MY HAND IS STUCK.\n",
      "IT'S A LOST CAUSE.\n",
      "IT IS NOT A LOST CAUSE. (CHEERS AND APPLAUSE).\n",
      "Stephen: WHAT ARE YOU DOING HERE?\n",
      "WELL, I DON'T TAKE MONEY FROM BILLIONAIRES BUT I DO CHECK EVERY VENDING MACHINE CHANGE SLOT.\n",
      "Stephen: COME ON. $27.\n",
      "NOTHING.\n",
      "Stephen: HEY, WAIT, AREN'T YOU GOING TO.\n",
      "TELL YOU ABOUT THE WEST VIRGINIA PRIMARY TOMORROW?\n",
      "Stephen: AH, SURE?\n",
      "WELL, I THINK WE GOT A SHOT TO WIN. AND I'LL TELL YOU WHY. IT'S BECAUSE IN WEST VIRGINIA LIKE EVERY PLACE ELSE IN THIS COUNTRY TOO MANY PEOPLE ARE WORKING LONGER HOURS FOR LOW WAGES AND THEY WANT CHANGE, STEPHEN.\n",
      "Stephen: OKAY, BUT EVEN IF YOU DO WELL TOMORROW, THE DELEGATE MATH IS AGAINST YOU. SO ISN'T THIS WIN REALLY ONLY A WIN. IT'S NOT REALLY A WIN.\n",
      "NOT REALLY.\n",
      "Stephen: MAYBE BOTH. I DON'T KN...\n",
      "\n",
      "----------------------------------\n",
      "\n"
     ]
    },
    {
     "data": {
      "text/html": [
       "<strong>139 Chloe Grace Moretz/Katie Couric/Brian Green/Charlamagne Tha God</strong>"
      ],
      "text/plain": [
       "<IPython.core.display.HTML object>"
      ]
     },
     "metadata": {},
     "output_type": "display_data"
    },
    {
     "name": "stdout",
     "output_type": "stream",
     "text": [
      "Stephen: KATIE COURIC.\n",
      "HEY, STEPHEN.\n",
      "Stephen: SO LOVELY TO SEE YOU. THANKS FOR BEING ON THE SHOW.\n",
      "ARE YOU KIDDING? SO HAPPY TO BE HERE.\n",
      "Stephen: MARNG YOU ARE GOING TO LOOK FANTASTIC IN THE CHICKEN SUIT.\n",
      "WHAT DO YOU MEAN.\n",
      "Stephen: I FORGOT TO TELL YOU WE ARE DOING THIS THING WHERE WE INTERVIEW OUR GUESTS IN COSTUMES.\n",
      "STEPHEN, I'M A SERIOUS JOURNALIST. I AM NOT GOING TO WEAR A CHICKEN SUIT.\n",
      "Stephen: IS IT OKAY IF I WEAR THE CHICKEN SUIT?\n",
      "IT'S JUR SHOW, KNOCK YOURSELF OUT.\n",
      "Stephen: YOU CAN BE THE HORSE.\n",
      "GREAT!\n",
      "TONIGHT, STEPHEN WELCOMES CHLOE GRACE MORETZ KATIE COURIC CHARLAMAGNE THA GOD FEATURING JON BATISTE AND STAY HUMAN. AND NOW IT'S TIME FOR \"THE LATE SHOW WITH STEPHEN COLBERT\"!  Captioning sponsored by CBS ( CHEERS AND APPLAUSE )\n",
      "Stephen: HEY! HEY! THANK YOU, JON! GOOD TO SEE YOU, MY MA...\n",
      "\n",
      "----------------------------------\n",
      "\n"
     ]
    },
    {
     "data": {
      "text/html": [
       "<strong>140 Kate Beckinsale/B.J. Novak/Desiigner</strong>"
      ],
      "text/plain": [
       "<IPython.core.display.HTML object>"
      ]
     },
     "metadata": {},
     "output_type": "display_data"
    },
    {
     "name": "stdout",
     "output_type": "stream",
     "text": [
      "Captioning sponsored by CBS\n",
      "Stephen: BUT I LOVE DONUTS. JUST TELL THEM TO BRING THE DONUTS. WE DON'T HAVE TO TALK ABOUT THE MOVIE. I'D LOVE TO HAVE HIM ON THE SHOW. THAT WOULD BE GREAT. LIZ.\n",
      "STEPHEN.\n",
      "Stephen: WE MEET AGAIN. WHAT CAN I DO FOR YOU?\n",
      "IN THE BROADWAY COLD OPEN, DO YOU ACTUALLY WANT TO PARTICIPATE IN THE DANCE, OR DO YOU JUST WANT TO BANG ON A DRUM AND NOT DO MUCH GLP I'LL JUST BANG ON A DRUM.\n",
      "GREAT.\n",
      "Stephen: ANY OTHER FOLLOW-UP QUESTIONS.\n",
      "YES, DOES THAT MEAN THEY DON'T HAVE TO COME EARLY AND REHEARSE.\n",
      "Stephen: YES, I'M BEAMING UP. I WANT TO DANCE, OR I DON'T. FIND OUT.\n",
      "TONIGHT, STEPHEN WELCOMES KATE BECKINSALE AND A MUSICAL PERFORMANCE BY DESIIGNER. FEATURING JON BATISTE AND STAY HUMAN. AND NOW IT'S TIME FOR \"THE LATE SHOW\" WITH STEPHEN COLBERT\"! ( CHEERS AND APPLAUSE )\n",
      "Stephen...\n",
      "\n",
      "----------------------------------\n",
      "\n"
     ]
    }
   ],
   "source": [
    "for i, row in episodes.tail(5).iterrows():\n",
    "    if pd.isnull(row.text): continue\n",
    "    printb(row.number, row.title)\n",
    "    print(row.text[:800] + '...')\n",
    "    print(\"\\n----------------------------------\\n\")"
   ]
  }
 ],
 "metadata": {
  "kernelspec": {
   "display_name": "Python 3",
   "language": "python",
   "name": "python3"
  },
  "language_info": {
   "codemirror_mode": {
    "name": "ipython",
    "version": 3
   },
   "file_extension": ".py",
   "mimetype": "text/x-python",
   "name": "python",
   "nbconvert_exporter": "python",
   "pygments_lexer": "ipython3",
   "version": "3.5.1"
  }
 },
 "nbformat": 4,
 "nbformat_minor": 0
}
