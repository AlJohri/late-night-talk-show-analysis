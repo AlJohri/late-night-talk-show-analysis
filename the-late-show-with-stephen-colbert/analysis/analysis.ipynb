{
 "cells": [
  {
   "cell_type": "markdown",
   "metadata": {},
   "source": [
    "# The Late Show with Stephen Colbert Analysis"
   ]
  },
  {
   "cell_type": "markdown",
   "metadata": {},
   "source": [
    "## Standard Imports"
   ]
  },
  {
   "cell_type": "code",
   "execution_count": 1,
   "metadata": {},
   "outputs": [
    {
     "data": {
      "text/html": []
     },
     "metadata": {},
     "output_type": "display_data"
    },
    {
     "data": {
      "application/javascript": [
       "\n",
       "(function(global) {\n",
       "  function now() {\n",
       "    return new Date();\n",
       "  }\n",
       "\n",
       "  var force = true;\n",
       "\n",
       "  if (typeof (window._bokeh_onload_callbacks) === \"undefined\" || force === true) {\n",
       "    window._bokeh_onload_callbacks = [];\n",
       "    window._bokeh_is_loading = undefined;\n",
       "  }\n",
       "\n",
       "\n",
       "  \n",
       "  if (typeof (window._bokeh_timeout) === \"undefined\" || force === true) {\n",
       "    window._bokeh_timeout = Date.now() + 5000;\n",
       "    window._bokeh_failed_load = false;\n",
       "  }\n",
       "\n",
       "  var NB_LOAD_WARNING = {'data': {'text/html':\n",
       "     \"<div style='background-color: #fdd'>\\n\"+\n",
       "     \"<p>\\n\"+\n",
       "     \"BokehJS does not appear to have successfully loaded. If loading BokehJS from CDN, this \\n\"+\n",
       "     \"may be due to a slow or bad network connection. Possible fixes:\\n\"+\n",
       "     \"</p>\\n\"+\n",
       "     \"<ul>\\n\"+\n",
       "     \"<li>re-rerun `output_notebook()` to attempt to load from CDN again, or</li>\\n\"+\n",
       "     \"<li>use INLINE resources instead, as so:</li>\\n\"+\n",
       "     \"</ul>\\n\"+\n",
       "     \"<code>\\n\"+\n",
       "     \"from bokeh.resources import INLINE\\n\"+\n",
       "     \"output_notebook(resources=INLINE)\\n\"+\n",
       "     \"</code>\\n\"+\n",
       "     \"</div>\"}};\n",
       "\n",
       "  function display_loaded() {\n",
       "    if (window.Bokeh !== undefined) {\n",
       "      var el = document.getElementById(\"\");\n",
       "      el.textContent = \"BokehJS \" + Bokeh.version + \" successfully loaded.\";\n",
       "    } else if (Date.now() < window._bokeh_timeout) {\n",
       "      setTimeout(display_loaded, 100)\n",
       "    }\n",
       "  }\n",
       "\n",
       "  function run_callbacks() {\n",
       "    window._bokeh_onload_callbacks.forEach(function(callback) { callback() });\n",
       "    delete window._bokeh_onload_callbacks\n",
       "    console.info(\"Bokeh: all callbacks have finished\");\n",
       "  }\n",
       "\n",
       "  function load_libs(js_urls, callback) {\n",
       "    window._bokeh_onload_callbacks.push(callback);\n",
       "    if (window._bokeh_is_loading > 0) {\n",
       "      console.log(\"Bokeh: BokehJS is being loaded, scheduling callback at\", now());\n",
       "      return null;\n",
       "    }\n",
       "    if (js_urls == null || js_urls.length === 0) {\n",
       "      run_callbacks();\n",
       "      return null;\n",
       "    }\n",
       "    console.log(\"Bokeh: BokehJS not loaded, scheduling load and callback at\", now());\n",
       "    window._bokeh_is_loading = js_urls.length;\n",
       "    for (var i = 0; i < js_urls.length; i++) {\n",
       "      var url = js_urls[i];\n",
       "      var s = document.createElement('script');\n",
       "      s.src = url;\n",
       "      s.async = false;\n",
       "      s.onreadystatechange = s.onload = function() {\n",
       "        window._bokeh_is_loading--;\n",
       "        if (window._bokeh_is_loading === 0) {\n",
       "          console.log(\"Bokeh: all BokehJS libraries loaded\");\n",
       "          run_callbacks()\n",
       "        }\n",
       "      };\n",
       "      s.onerror = function() {\n",
       "        console.warn(\"failed to load library \" + url);\n",
       "      };\n",
       "      console.log(\"Bokeh: injecting script tag for BokehJS library: \", url);\n",
       "      document.getElementsByTagName(\"head\")[0].appendChild(s);\n",
       "    }\n",
       "  };\n",
       "\n",
       "  var js_urls = [\"https://cdn.pydata.org/bokeh/release/bokeh-0.12.5.min.js\", \"https://cdn.pydata.org/bokeh/release/bokeh-widgets-0.12.5.min.js\"];\n",
       "\n",
       "  var inline_js = [\n",
       "    function(Bokeh) {\n",
       "      Bokeh.set_log_level(\"info\");\n",
       "    },\n",
       "    \n",
       "    function(Bokeh) {\n",
       "      \n",
       "    },\n",
       "    function(Bokeh) {\n",
       "      console.log(\"Bokeh: injecting CSS: https://cdn.pydata.org/bokeh/release/bokeh-0.12.5.min.css\");\n",
       "      Bokeh.embed.inject_css(\"https://cdn.pydata.org/bokeh/release/bokeh-0.12.5.min.css\");\n",
       "      console.log(\"Bokeh: injecting CSS: https://cdn.pydata.org/bokeh/release/bokeh-widgets-0.12.5.min.css\");\n",
       "      Bokeh.embed.inject_css(\"https://cdn.pydata.org/bokeh/release/bokeh-widgets-0.12.5.min.css\");\n",
       "    }\n",
       "  ];\n",
       "\n",
       "  function run_inline_js() {\n",
       "    \n",
       "    if ((window.Bokeh !== undefined) || (force === true)) {\n",
       "      for (var i = 0; i < inline_js.length; i++) {\n",
       "        inline_js[i](window.Bokeh);\n",
       "      }} else if (Date.now() < window._bokeh_timeout) {\n",
       "      setTimeout(run_inline_js, 100);\n",
       "    } else if (!window._bokeh_failed_load) {\n",
       "      console.log(\"Bokeh: BokehJS failed to load within specified timeout.\");\n",
       "      window._bokeh_failed_load = true;\n",
       "    } else if (force !== true) {\n",
       "      var cell = $(document.getElementById(\"\")).parents('.cell').data().cell;\n",
       "      cell.output_area.append_execute_result(NB_LOAD_WARNING)\n",
       "    }\n",
       "\n",
       "  }\n",
       "\n",
       "  if (window._bokeh_is_loading === 0) {\n",
       "    console.log(\"Bokeh: BokehJS loaded, going straight to plotting\");\n",
       "    run_inline_js();\n",
       "  } else {\n",
       "    load_libs(js_urls, function() {\n",
       "      console.log(\"Bokeh: BokehJS plotting callback run at\", now());\n",
       "      run_inline_js();\n",
       "    });\n",
       "  }\n",
       "}(this));"
      ]
     },
     "metadata": {},
     "output_type": "display_data"
    }
   ],
   "source": [
    "%matplotlib inline\n",
    "from matplotlib import pyplot as plt\n",
    "\n",
    "import pandas as pd\n",
    "import seaborn as sns\n",
    "from textblob import TextBlob\n",
    "import statsmodels.formula.api as smf\n",
    "\n",
    "plt.rcParams['figure.figsize'] = (20,6)\n",
    "\n",
    "from bokeh.plotting import output_notebook, show\n",
    "output_notebook(hide_banner=True)\n",
    "\n",
    "from IPython.display import display, HTML\n",
    "def printb(*args):\n",
    "    s = \" \".join([str(x) for x in args])\n",
    "    display(HTML('<strong>%s</strong>' % s))\n",
    "\n",
    "hover_cols = ['episode_number', 'title', 'air_date', 'rating', 'rating_count']\n",
    "\n",
    "from analysis_utils import create_df\n",
    "from lib.analysis_utils import plot_interactive_timeseries"
   ]
  },
  {
   "cell_type": "markdown",
   "metadata": {},
   "source": [
    "## Load Data"
   ]
  },
  {
   "cell_type": "code",
   "execution_count": 2,
   "metadata": {},
   "outputs": [
    {
     "data": {
      "text/html": [
       "<div>\n",
       "<table border=\"1\" class=\"dataframe\">\n",
       "  <thead>\n",
       "    <tr style=\"text-align: right;\">\n",
       "      <th></th>\n",
       "      <th>season</th>\n",
       "      <th>episode_number</th>\n",
       "      <th>rating</th>\n",
       "      <th>rating_count</th>\n",
       "      <th>air_date</th>\n",
       "      <th>title</th>\n",
       "      <th>description</th>\n",
       "    </tr>\n",
       "  </thead>\n",
       "  <tbody>\n",
       "    <tr>\n",
       "      <th>0</th>\n",
       "      <td>1</td>\n",
       "      <td>1</td>\n",
       "      <td>7.4</td>\n",
       "      <td>101.0</td>\n",
       "      <td>2015-09-08</td>\n",
       "      <td>George Clooney/Governor Jeb Bush/Mavis Staples...</td>\n",
       "      <td>Stephen Colbert succeeds David Letterman as \"L...</td>\n",
       "    </tr>\n",
       "    <tr>\n",
       "      <th>1</th>\n",
       "      <td>1</td>\n",
       "      <td>2</td>\n",
       "      <td>7.4</td>\n",
       "      <td>62.0</td>\n",
       "      <td>2015-09-09</td>\n",
       "      <td>Scarlett Johansson/Elon Musk/Kendrick Lamar</td>\n",
       "      <td>Scarlett Johansson (Avengers: Age of Ultron (2...</td>\n",
       "    </tr>\n",
       "    <tr>\n",
       "      <th>2</th>\n",
       "      <td>1</td>\n",
       "      <td>3</td>\n",
       "      <td>8.2</td>\n",
       "      <td>71.0</td>\n",
       "      <td>2015-09-10</td>\n",
       "      <td>Vice President Joe Biden/Travis Kalanick/Toby ...</td>\n",
       "      <td>Vice President Joe Biden; Uber CEO Travis Kala...</td>\n",
       "    </tr>\n",
       "    <tr>\n",
       "      <th>3</th>\n",
       "      <td>1</td>\n",
       "      <td>4</td>\n",
       "      <td>7.3</td>\n",
       "      <td>45.0</td>\n",
       "      <td>2015-09-11</td>\n",
       "      <td>Amy Schumer/Stephen King/Troubled Waters</td>\n",
       "      <td>Amy Schumer (Trainwreck (2015)); author Stephe...</td>\n",
       "    </tr>\n",
       "    <tr>\n",
       "      <th>4</th>\n",
       "      <td>1</td>\n",
       "      <td>5</td>\n",
       "      <td>7.6</td>\n",
       "      <td>38.0</td>\n",
       "      <td>2015-09-14</td>\n",
       "      <td>Emily Blunt/Justice Stephen Breyer/The Dead We...</td>\n",
       "      <td>Actress Emily Blunt (Sicario (2015)); Supreme ...</td>\n",
       "    </tr>\n",
       "  </tbody>\n",
       "</table>\n",
       "</div>"
      ],
      "text/plain": [
       "   season  episode_number  rating  rating_count   air_date  \\\n",
       "0       1               1     7.4         101.0 2015-09-08   \n",
       "1       1               2     7.4          62.0 2015-09-09   \n",
       "2       1               3     8.2          71.0 2015-09-10   \n",
       "3       1               4     7.3          45.0 2015-09-11   \n",
       "4       1               5     7.6          38.0 2015-09-14   \n",
       "\n",
       "                                               title  \\\n",
       "0  George Clooney/Governor Jeb Bush/Mavis Staples...   \n",
       "1        Scarlett Johansson/Elon Musk/Kendrick Lamar   \n",
       "2  Vice President Joe Biden/Travis Kalanick/Toby ...   \n",
       "3           Amy Schumer/Stephen King/Troubled Waters   \n",
       "4  Emily Blunt/Justice Stephen Breyer/The Dead We...   \n",
       "\n",
       "                                         description  \n",
       "0  Stephen Colbert succeeds David Letterman as \"L...  \n",
       "1  Scarlett Johansson (Avengers: Age of Ultron (2...  \n",
       "2  Vice President Joe Biden; Uber CEO Travis Kala...  \n",
       "3  Amy Schumer (Trainwreck (2015)); author Stephe...  \n",
       "4  Actress Emily Blunt (Sicario (2015)); Supreme ...  "
      ]
     },
     "execution_count": 2,
     "metadata": {},
     "output_type": "execute_result"
    }
   ],
   "source": [
    "episodes = create_df()\n",
    "episodes.head()"
   ]
  },
  {
   "cell_type": "markdown",
   "metadata": {},
   "source": [
    "## Distribution of Rating and Rating Count"
   ]
  },
  {
   "cell_type": "markdown",
   "metadata": {},
   "source": [
    "Number of episodes with null rating (< 5 ratings)"
   ]
  },
  {
   "cell_type": "code",
   "execution_count": 3,
   "metadata": {},
   "outputs": [
    {
     "data": {
      "text/plain": [
       "33"
      ]
     },
     "execution_count": 3,
     "metadata": {},
     "output_type": "execute_result"
    }
   ],
   "source": [
    "episodes.rating.isnull().sum()"
   ]
  },
  {
   "cell_type": "code",
   "execution_count": 4,
   "metadata": {},
   "outputs": [
    {
     "data": {
      "text/html": [
       "<div>\n",
       "<table border=\"1\" class=\"dataframe\">\n",
       "  <thead>\n",
       "    <tr style=\"text-align: right;\">\n",
       "      <th></th>\n",
       "      <th>count</th>\n",
       "      <th>mean</th>\n",
       "      <th>std</th>\n",
       "      <th>min</th>\n",
       "      <th>25%</th>\n",
       "      <th>50%</th>\n",
       "      <th>75%</th>\n",
       "      <th>max</th>\n",
       "    </tr>\n",
       "  </thead>\n",
       "  <tbody>\n",
       "    <tr>\n",
       "      <th>rating</th>\n",
       "      <td>293.0</td>\n",
       "      <td>6.875427</td>\n",
       "      <td>0.747972</td>\n",
       "      <td>5.0</td>\n",
       "      <td>6.4</td>\n",
       "      <td>6.9</td>\n",
       "      <td>7.4</td>\n",
       "      <td>8.6</td>\n",
       "    </tr>\n",
       "    <tr>\n",
       "      <th>rating_count</th>\n",
       "      <td>293.0</td>\n",
       "      <td>11.262799</td>\n",
       "      <td>9.442465</td>\n",
       "      <td>5.0</td>\n",
       "      <td>7.0</td>\n",
       "      <td>9.0</td>\n",
       "      <td>12.0</td>\n",
       "      <td>101.0</td>\n",
       "    </tr>\n",
       "  </tbody>\n",
       "</table>\n",
       "</div>"
      ],
      "text/plain": [
       "              count       mean       std  min  25%  50%   75%    max\n",
       "rating        293.0   6.875427  0.747972  5.0  6.4  6.9   7.4    8.6\n",
       "rating_count  293.0  11.262799  9.442465  5.0  7.0  9.0  12.0  101.0"
      ]
     },
     "execution_count": 4,
     "metadata": {},
     "output_type": "execute_result"
    }
   ],
   "source": [
    "episodes[['rating', 'rating_count']].describe().T"
   ]
  },
  {
   "cell_type": "code",
   "execution_count": 5,
   "metadata": {},
   "outputs": [
    {
     "data": {
      "text/plain": [
       "<matplotlib.axes._subplots.AxesSubplot at 0x1158eb198>"
      ]
     },
     "execution_count": 5,
     "metadata": {},
     "output_type": "execute_result"
    },
    {
     "data": {
      "image/png": "[encoded data removed]",
      "text/plain": [
       "<matplotlib.figure.Figure at 0x11582d2e8>"
      ]
     },
     "metadata": {},
     "output_type": "display_data"
    }
   ],
   "source": [
    "fig, (ax1, ax2) = plt.subplots(ncols=2)\n",
    "\n",
    "episodes.rating.plot(kind='hist', bins=20, ax=ax1, title=\"Histogram of Ratings\")\n",
    "episodes.rating_count.plot(kind='hist', bins=20, ax=ax2, title=\"Histogram of Rating Counts\")"
   ]
  },
  {
   "cell_type": "markdown",
   "metadata": {},
   "source": [
    "## Ratings over Time"
   ]
  },
  {
   "cell_type": "code",
   "execution_count": 6,
   "metadata": {},
   "outputs": [
    {
     "data": {
      "text/html": [
       "\n",
       "\n",
       "    <div class=\"bk-root\">\n",
       "        <div class=\"bk-plotdiv\" id=\"6252af48-4aa8-4b37-ad0f-6119a05c519d\"></div>\n",
       "    </div>\n",
       "<script type=\"text/javascript\">\n",
       "  \n",
       "  (function(global) {\n",
       "    function now() {\n",
       "      return new Date();\n",
       "    }\n",
       "  \n",
       "    var force = false;\n",
       "  \n",
       "    if (typeof (window._bokeh_onload_callbacks) === \"undefined\" || force === true) {\n",
       "      window._bokeh_onload_callbacks = [];\n",
       "      window._bokeh_is_loading = undefined;\n",
       "    }\n",
       "  \n",
       "  \n",
       "    \n",
       "    if (typeof (window._bokeh_timeout) === \"undefined\" || force === true) {\n",
       "      window._bokeh_timeout = Date.now() + 0;\n",
       "      window._bokeh_failed_load = false;\n",
       "    }\n",
       "  \n",
       "    var NB_LOAD_WARNING = {'data': {'text/html':\n",
       "       \"<div style='background-color: #fdd'>\\n\"+\n",
       "       \"<p>\\n\"+\n",
       "       \"BokehJS does not appear to have successfully loaded. If loading BokehJS from CDN, this \\n\"+\n",
       "       \"may be due to a slow or bad network connection. Possible fixes:\\n\"+\n",
       "       \"</p>\\n\"+\n",
       "       \"<ul>\\n\"+\n",
       "       \"<li>re-rerun `output_notebook()` to attempt to load from CDN again, or</li>\\n\"+\n",
       "       \"<li>use INLINE resources instead, as so:</li>\\n\"+\n",
       "       \"</ul>\\n\"+\n",
       "       \"<code>\\n\"+\n",
       "       \"from bokeh.resources import INLINE\\n\"+\n",
       "       \"output_notebook(resources=INLINE)\\n\"+\n",
       "       \"</code>\\n\"+\n",
       "       \"</div>\"}};\n",
       "  \n",
       "    function display_loaded() {\n",
       "      if (window.Bokeh !== undefined) {\n",
       "        var el = document.getElementById(\"6252af48-4aa8-4b37-ad0f-6119a05c519d\");\n",
       "        el.textContent = \"BokehJS \" + Bokeh.version + \" successfully loaded.\";\n",
       "      } else if (Date.now() < window._bokeh_timeout) {\n",
       "        setTimeout(display_loaded, 100)\n",
       "      }\n",
       "    }\n",
       "  \n",
       "    function run_callbacks() {\n",
       "      window._bokeh_onload_callbacks.forEach(function(callback) { callback() });\n",
       "      delete window._bokeh_onload_callbacks\n",
       "      console.info(\"Bokeh: all callbacks have finished\");\n",
       "    }\n",
       "  \n",
       "    function load_libs(js_urls, callback) {\n",
       "      window._bokeh_onload_callbacks.push(callback);\n",
       "      if (window._bokeh_is_loading > 0) {\n",
       "        console.log(\"Bokeh: BokehJS is being loaded, scheduling callback at\", now());\n",
       "        return null;\n",
       "      }\n",
       "      if (js_urls == null || js_urls.length === 0) {\n",
       "        run_callbacks();\n",
       "        return null;\n",
       "      }\n",
       "      console.log(\"Bokeh: BokehJS not loaded, scheduling load and callback at\", now());\n",
       "      window._bokeh_is_loading = js_urls.length;\n",
       "      for (var i = 0; i < js_urls.length; i++) {\n",
       "        var url = js_urls[i];\n",
       "        var s = document.createElement('script');\n",
       "        s.src = url;\n",
       "        s.async = false;\n",
       "        s.onreadystatechange = s.onload = function() {\n",
       "          window._bokeh_is_loading--;\n",
       "          if (window._bokeh_is_loading === 0) {\n",
       "            console.log(\"Bokeh: all BokehJS libraries loaded\");\n",
       "            run_callbacks()\n",
       "          }\n",
       "        };\n",
       "        s.onerror = function() {\n",
       "          console.warn(\"failed to load library \" + url);\n",
       "        };\n",
       "        console.log(\"Bokeh: injecting script tag for BokehJS library: \", url);\n",
       "        document.getElementsByTagName(\"head\")[0].appendChild(s);\n",
       "      }\n",
       "    };var element = document.getElementById(\"6252af48-4aa8-4b37-ad0f-6119a05c519d\");\n",
       "    if (element == null) {\n",
       "      console.log(\"Bokeh: ERROR: autoload.js configured with elementid '6252af48-4aa8-4b37-ad0f-6119a05c519d' but no matching script tag was found. \")\n",
       "      return false;\n",
       "    }\n",
       "  \n",
       "    var js_urls = [];\n",
       "  \n",
       "    var inline_js = [\n",
       "      function(Bokeh) {\n",
       "        (function() {\n",
       "          var fn = function() {\n",
       "            var docs_json = {\"d3913476-d202-45c0-a7c8-23dc5fc02adf\":{\"roots\":{\"references\":[{\"attributes\":{\"use_scientific\":false},\"id\":\"750cfe24-7ca0-4959-a274-0a8c74d0d1df\",\"type\":\"BasicTickFormatter\"},{\"attributes\":{\"callback\":null,\"plot\":{\"id\":\"55db2a77-a6c4-48da-9471-ebc6f2936bfa\",\"subtype\":\"Figure\",\"type\":\"Plot\"},\"tooltips\":[[\"episode_number\",\"@episode_number\"],[\"title\",\"@title\"],[\"air_date\",\"@air_date_str\"],[\"rating\",\"@rating{1.11}\"],[\"rating_count\",\"@rating_count{1.11}\"]]},\"id\":\"7f0ba73b-933c-4d4c-aa2e-4142b6ce558b\",\"type\":\"HoverTool\"},{\"attributes\":{\"data_source\":{\"id\":\"a468ac64-cfce-414b-a8cb-911f34bf22dc\",\"type\":\"ColumnDataSource\"},\"glyph\":{\"id\":\"546a9e44-1f45-4faa-a466-154bba150783\",\"type\":\"Circle\"},\"hover_glyph\":null,\"muted_glyph\":null,\"nonselection_glyph\":{\"id\":\"6f71cec3-c853-4b58-a12b-5f4dab3578ac\",\"type\":\"Circle\"},\"selection_glyph\":null},\"id\":\"8cf2c95b-8c71-452b-a779-6fd3236bf5e3\",\"type\":\"GlyphRenderer\"},{\"attributes\":{\"plot\":{\"id\":\"55db2a77-a6c4-48da-9471-ebc6f2936bfa\",\"subtype\":\"Figure\",\"type\":\"Plot\"}},\"id\":\"808cdbc9-dc78-4013-9b7d-105df7334e2d\",\"type\":\"PanTool\"},{\"attributes\":{\"formatter\":{\"id\":\"430371bd-0b1d-4609-8f2b-e4448f17e100\",\"type\":\"DatetimeTickFormatter\"},\"plot\":{\"id\":\"55db2a77-a6c4-48da-9471-ebc6f2936bfa\",\"subtype\":\"Figure\",\"type\":\"Plot\"},\"ticker\":{\"id\":\"8539bcb7-8ded-454b-9fdc-1abeba6dbebd\",\"type\":\"DatetimeTicker\"}},\"id\":\"d23c1386-51a4-44db-b75d-14b21f8e7efc\",\"type\":\"DatetimeAxis\"},{\"attributes\":{\"fill_alpha\":{\"value\":0.1},\"fill_color\":{\"value\":\"#1f77b4\"},\"line_alpha\":{\"value\":0.1},\"line_color\":{\"value\":\"#1f77b4\"},\"line_width\":{\"value\":2},\"size\":{\"units\":\"screen\",\"value\":5},\"x\":{\"field\":\"air_date\"},\"y\":{\"field\":\"rating\"}},\"id\":\"6f71cec3-c853-4b58-a12b-5f4dab3578ac\",\"type\":\"Circle\"},{\"attributes\":{\"days\":[1,8,15,22]},\"id\":\"ab734a50-aa10-40ce-a298-f2a1f86ab925\",\"type\":\"DaysTicker\"},{\"attributes\":{\"plot\":null,\"text\":\"Ratings per Episode\"},\"id\":\"926284d4-fdec-433e-9725-e70998ebe5db\",\"type\":\"Title\"},{\"attributes\":{\"days\":[1,15]},\"id\":\"94a4dea0-4575-4a9b-afb1-3e56448f8260\",\"type\":\"DaysTicker\"},{\"attributes\":{\"below\":[{\"id\":\"d23c1386-51a4-44db-b75d-14b21f8e7efc\",\"type\":\"DatetimeAxis\"}],\"left\":[{\"id\":\"6a54acef-04ef-4928-8f2a-287a4e7f1c80\",\"type\":\"LinearAxis\"}],\"plot_height\":400,\"plot_width\":950,\"renderers\":[{\"id\":\"d23c1386-51a4-44db-b75d-14b21f8e7efc\",\"type\":\"DatetimeAxis\"},{\"id\":\"4502bcab-c6c2-479e-b294-85a9c143824c\",\"type\":\"Grid\"},{\"id\":\"6a54acef-04ef-4928-8f2a-287a4e7f1c80\",\"type\":\"LinearAxis\"},{\"id\":\"1f728cea-5eb9-446d-a8d1-dbc494da117f\",\"type\":\"Grid\"},{\"id\":\"f9a17b71-0713-4768-8ed1-1243ba1f1d28\",\"type\":\"BoxAnnotation\"},{\"id\":\"8cf2c95b-8c71-452b-a779-6fd3236bf5e3\",\"type\":\"GlyphRenderer\"}],\"title\":{\"id\":\"926284d4-fdec-433e-9725-e70998ebe5db\",\"type\":\"Title\"},\"tool_events\":{\"id\":\"64e8ac77-e2d6-442c-a974-77825100c75c\",\"type\":\"ToolEvents\"},\"toolbar\":{\"id\":\"759b6098-5888-4611-b18e-388ffd85c1f8\",\"type\":\"Toolbar\"},\"x_range\":{\"id\":\"df0162ff-1f03-45e5-b8cc-bce8dba518d2\",\"type\":\"DataRange1d\"},\"y_range\":{\"id\":\"e162e8d0-f883-4170-a066-b4f451294550\",\"type\":\"DataRange1d\"}},\"id\":\"55db2a77-a6c4-48da-9471-ebc6f2936bfa\",\"subtype\":\"Figure\",\"type\":\"Plot\"},{\"attributes\":{\"plot\":{\"id\":\"55db2a77-a6c4-48da-9471-ebc6f2936bfa\",\"subtype\":\"Figure\",\"type\":\"Plot\"}},\"id\":\"ea341f35-13ad-4d2d-91a7-a57e7157bd93\",\"type\":\"SaveTool\"},{\"attributes\":{\"months\":[0,1,2,3,4,5,6,7,8,9,10,11]},\"id\":\"22d48301-9eee-4f19-9849-8ba555494920\",\"type\":\"MonthsTicker\"},{\"attributes\":{\"days\":[1,4,7,10,13,16,19,22,25,28]},\"id\":\"fcccd713-e99a-4b88-84e1-e92f2e28ee88\",\"type\":\"DaysTicker\"},{\"attributes\":{},\"id\":\"430371bd-0b1d-4609-8f2b-e4448f17e100\",\"type\":\"DatetimeTickFormatter\"},{\"attributes\":{\"days\":[1,2,3,4,5,6,7,8,9,10,11,12,13,14,15,16,17,18,19,20,21,22,23,24,25,26,27,28,29,30,31]},\"id\":\"f555487c-74f5-4c1b-9a0c-f338453842c7\",\"type\":\"DaysTicker\"},{\"attributes\":{},\"id\":\"5a95ac7c-dbe8-4f4f-a85b-b50e6379c493\",\"type\":\"YearsTicker\"},{\"attributes\":{\"callback\":null,\"column_names\":[\"episode_number\",\"title\",\"air_date\",\"rating\",\"rating_count\",\"index\",\"air_date_str\"],\"data\":{\"air_date\":{\"__ndarray__\":\"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\",\"dtype\":\"float64\",\"shape\":[293]},\"air_date_str\":[\"09/08/15\",\"09/09/15\",\"09/10/15\",\"09/11/15\",\"09/14/15\",\"09/15/15\",\"09/16/15\",\"09/17/15\",\"09/18/15\",\"09/21/15\",\"09/22/15\",\"09/23/15\",\"09/24/15\",\"09/25/15\",\"09/28/15\",\"09/29/15\",\"09/30/15\",\"10/01/15\",\"10/02/15\",\"10/05/15\",\"10/06/15\",\"10/07/15\",\"10/08/15\",\"10/09/15\",\"10/12/15\",\"10/13/15\",\"10/14/15\",\"10/15/15\",\"10/16/15\",\"10/26/15\",\"10/27/15\",\"10/28/15\",\"10/29/15\",\"10/30/15\",\"11/02/15\",\"11/03/15\",\"11/04/15\",\"11/05/15\",\"11/06/15\",\"11/09/15\",\"11/10/15\",\"11/11/15\",\"11/12/15\",\"11/13/15\",\"11/16/15\",\"11/17/15\",\"11/18/15\",\"11/19/15\",\"11/20/15\",\"11/23/15\",\"11/24/15\",\"11/25/15\",\"12/07/15\",\"12/08/15\",\"12/09/15\",\"12/10/15\",\"12/11/15\",\"12/14/15\",\"12/15/15\",\"12/16/15\",\"12/17/15\",\"12/18/15\",\"01/04/16\",\"01/05/16\",\"01/06/16\",\"01/07/16\",\"01/08/16\",\"01/11/16\",\"01/12/16\",\"01/13/16\",\"01/14/16\",\"01/15/16\",\"01/18/16\",\"01/19/16\",\"01/20/16\",\"01/21/16\",\"01/22/16\",\"01/25/16\",\"01/26/16\",\"01/27/16\",\"01/28/16\",\"02/01/16\",\"02/02/16\",\"02/03/16\",\"02/04/16\",\"02/05/16\",\"02/07/16\",\"02/08/16\",\"02/09/16\",\"02/10/16\",\"02/11/16\",\"02/15/16\",\"02/16/16\",\"02/17/16\",\"02/18/16\",\"02/19/16\",\"02/22/16\",\"02/23/16\",\"02/24/16\",\"02/25/16\",\"02/29/16\",\"03/01/16\",\"03/02/16\",\"03/03/16\",\"03/07/16\",\"03/08/16\",\"03/09/16\",\"03/10/16\",\"03/11/16\",\"03/14/16\",\"03/15/16\",\"03/16/16\",\"03/17/16\",\"03/28/16\",\"03/29/16\",\"03/30/16\",\"03/31/16\",\"04/01/16\",\"04/04/16\",\"04/05/16\",\"04/06/16\",\"04/07/16\",\"04/18/16\",\"04/19/16\",\"04/20/16\",\"04/21/16\",\"04/22/16\",\"04/25/16\",\"04/26/16\",\"04/27/16\",\"04/28/16\",\"04/29/16\",\"05/02/16\",\"05/03/16\",\"05/04/16\",\"05/05/16\",\"05/06/16\",\"05/09/16\",\"05/10/16\",\"05/11/16\",\"05/12/16\",\"05/13/16\",\"05/16/16\",\"05/17/16\",\"05/18/16\",\"05/19/16\",\"05/20/16\",\"05/23/16\",\"05/24/16\",\"05/25/16\",\"05/26/16\",\"05/27/16\",\"06/06/16\",\"06/07/16\",\"06/08/16\",\"06/09/16\",\"06/10/16\",\"06/13/16\",\"06/14/16\",\"06/15/16\",\"06/16/16\",\"06/17/16\",\"06/20/16\",\"06/21/16\",\"06/22/16\",\"06/23/16\",\"06/24/16\",\"06/27/16\",\"06/28/16\",\"06/29/16\",\"06/30/16\",\"07/01/16\",\"07/11/16\",\"07/12/16\",\"07/13/16\",\"07/14/16\",\"07/15/16\",\"07/18/16\",\"07/19/16\",\"07/20/16\",\"07/21/16\",\"07/22/16\",\"07/25/16\",\"07/26/16\",\"07/27/16\",\"07/28/16\",\"07/29/16\",\"08/01/16\",\"08/02/16\",\"08/03/16\",\"08/04/16\",\"08/05/16\",\"08/22/16\",\"08/23/16\",\"08/24/16\",\"08/25/16\",\"08/26/16\",\"08/29/16\",\"08/30/16\",\"08/31/16\",\"09/01/16\",\"09/02/16\",\"09/06/16\",\"09/07/16\",\"09/08/16\",\"09/09/16\",\"09/12/16\",\"09/13/16\",\"09/14/16\",\"09/15/16\",\"09/16/16\",\"09/19/16\",\"09/20/16\",\"09/21/16\",\"09/22/16\",\"09/23/16\",\"09/26/16\",\"09/27/16\",\"09/28/16\",\"09/29/16\",\"09/30/16\",\"10/03/16\",\"10/04/16\",\"10/05/16\",\"10/06/16\",\"10/07/16\",\"10/17/16\",\"10/18/16\",\"10/19/16\",\"10/20/16\",\"10/21/16\",\"10/24/16\",\"10/25/16\",\"10/26/16\",\"10/27/16\",\"10/28/16\",\"10/31/16\",\"11/01/16\",\"11/02/16\",\"11/03/16\",\"11/04/16\",\"11/07/16\",\"11/09/16\",\"11/10/16\",\"11/14/16\",\"11/15/16\",\"11/16/16\",\"11/18/16\",\"11/21/16\",\"11/22/16\",\"12/05/16\",\"12/06/16\",\"12/07/16\",\"12/16/16\",\"01/03/17\",\"01/04/17\",\"01/06/17\",\"01/10/17\",\"01/11/17\",\"01/13/17\",\"01/16/17\",\"01/19/17\",\"01/20/17\",\"01/30/17\",\"01/31/17\",\"02/01/17\",\"02/03/17\",\"02/06/17\",\"02/07/17\",\"02/10/17\",\"02/13/17\",\"02/14/17\",\"02/15/17\",\"02/16/17\",\"02/20/17\",\"02/21/17\",\"02/23/17\",\"02/24/17\",\"02/27/17\",\"02/28/17\",\"03/06/17\",\"03/07/17\",\"03/13/17\",\"03/14/17\",\"03/20/17\",\"03/21/17\",\"03/22/17\",\"03/27/17\",\"03/28/17\",\"03/29/17\",\"03/30/17\",\"03/31/17\",\"04/03/17\"],\"episode_number\":[1,2,3,4,5,6,7,8,9,10,11,12,13,14,15,16,17,18,19,20,21,22,23,24,25,26,27,28,29,30,31,32,33,34,35,36,37,38,39,40,41,42,43,44,45,46,47,48,49,50,51,52,53,54,55,56,57,58,59,60,61,62,63,64,65,66,67,68,69,70,71,72,73,74,75,76,77,78,79,80,81,82,83,84,85,86,87,88,89,90,91,92,93,94,95,96,97,98,99,100,101,102,103,104,105,106,107,108,109,110,111,112,113,114,115,116,117,118,119,120,121,122,123,124,125,126,127,128,129,130,131,132,133,134,135,136,137,138,139,140,141,142,143,144,145,146,147,148,149,150,151,152,153,154,155,156,157,158,159,160,161,162,163,164,165,166,167,168,169,170,171,172,173,174,175,176,177,178,179,180,181,182,183,184,185,186,187,188,189,190,191,192,193,194,195,196,197,198,199,200,201,202,1,2,3,4,5,6,7,8,9,10,11,12,13,14,15,16,17,18,19,20,21,22,23,24,25,26,27,28,29,30,31,32,33,34,35,36,37,38,39,40,41,42,43,44,45,47,48,49,54,55,56,63,69,70,72,74,75,77,78,81,82,83,84,85,87,88,89,92,93,94,95,96,98,99,101,102,103,104,108,109,113,114,116,117,118,119,120,121,122,123,124],\"index\":[0,1,2,3,4,5,6,7,8,9,10,11,12,13,14,15,16,17,18,19,20,21,22,23,24,25,26,27,28,29,30,31,32,33,34,35,36,37,38,39,40,41,42,43,44,45,46,47,48,49,50,51,52,53,54,55,56,57,58,59,60,61,62,63,64,65,66,67,68,69,70,71,72,73,74,75,76,77,78,79,80,81,82,83,84,85,86,87,88,89,90,91,92,93,94,95,96,97,98,99,100,101,102,103,104,105,106,107,108,109,110,111,112,113,114,115,116,117,118,119,120,121,122,123,124,125,126,127,128,129,130,131,132,133,134,135,136,137,138,139,140,141,142,143,144,145,146,147,148,149,150,151,152,153,154,155,156,157,158,159,160,161,162,163,164,165,166,167,168,169,170,171,172,173,174,175,176,177,178,179,180,181,182,183,184,185,186,187,188,189,190,191,192,193,194,195,196,197,198,199,200,201,202,203,204,205,206,207,208,209,210,211,212,213,214,215,216,217,218,219,220,221,222,223,224,225,226,227,228,229,230,231,232,233,234,235,236,237,238,239,240,241,242,243,244,245,246,248,249,250,255,256,257,264,270,271,273,275,276,278,279,282,283,284,285,286,288,289,290,293,294,295,296,297,299,300,302,303,304,305,309,310,314,315,317,318,319,320,321,322,323,324,325],\"rating\":{\"__ndarray__\":\"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\",\"dtype\":\"float64\",\"shape\":[293]},\"rating_count\":{\"__ndarray__\":\"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\",\"dtype\":\"float64\",\"shape\":[293]},\"title\":[\"George Clooney/Governor Jeb Bush/Mavis Staples & Friends\",\"Scarlett Johansson/Elon Musk/Kendrick Lamar\",\"Vice President Joe Biden/Travis Kalanick/Toby Keith\",\"Amy Schumer/Stephen King/Troubled Waters\",\"Emily Blunt/Justice Stephen Breyer/The Dead Weather\",\"Jake Gyllenhaal/Apple CEO Tim Cook/Run the Jewels & TV on the Radio\",\"Kevin Spacey/Carol Burnett/Abbi Jacobson & Ilana Glazer/Willie Nelson & John Mellencamp\",\"Trevor Noah/Ban Ki-Moon/Chris Stapleton\",\"Lupita Nyong'o/Sen. Bernie Sanders/Cast of \\\"An American in Paris\\\"\",\"Steph Curry/Sen. Ted Cruz/Don Henley\",\"Donald Trump/Ernest Moniz/Raury\",\"Hugh Jackman/Sen. Elizabeth Warren/Pearl Jam\",\"Andrew Sullivan/Maria Shriver/Jim Gaffigan/Archbishop Thomas Wenski\",\"Malala Yousafzai/Kerry Washington/The Arcs\",\"Michelle Obama/Mindy Kaling/John Legend\",\"Ellen Page/Jesse Eisenberg/Dominic Wilcox\",\"Elizabeth Gilbert/John Oliver/Evan Spiegel/Bill Withers/Ed Sheeran\",\"Secretary of State John Kerry/Claire Danes/PewDiePie\",\"Morgan Freeman/Ruth Wilson/Sean Murray\",\"John McCain/Yo-Yo Ma/Misty Copeland\",\"Bill Clinton/Billy Eichner/Florence and the Machine\",\"Gina Rodriguez/Ben Bernanke/Tame Impala\",\"Cate Blanchett/Airbnb CEO Brian Chesky\",\"James Corden/Shane Smith/Halsey\",\"Carey Mulligan/Elvis Costello/Darlene Love\",\"Sarah Silverman/Elijah Wood/The Legends of Zelda: Symphony of the Goddesses\",\"Jack Black/Nick Woodman/Michelle Dorrance\",\"Oprah Winfrey/Joseph Fink & Jeffrey Cranor/Judith Hill\",\"Jimmy Kimmel/\\\"Crimson Peak\\\" Cast/Beach House\",\"Sienna Miller/Melissa Benoist/Chance the Rapper\",\"Hillary Clinton/Anthony Bourdain/Carrie Brownstein/Lianne La Navas\",\"Julianna Margulies/Jonathan Franzen/Alabama Shakes\",\"Seth MacFarlane/Neil DeGrasse Tyson\",\"Charlie Rose/Stacy Schiff/Ghost/The Zombies\",\"Allison Janney/Colin Quinn/Margaret Cho\",\"Antonio Banderas/Reed Hastings/John Irving\",\"Daniel Craig/Elizabeth Gilbert/Dr. Eugenia Cheng\",\"Bryan Cranston/Karl Ove Knausgaard/Shamir\",\"Whoopi Goldberg/Gov. John Kasich/Glen Hansard\",\"Ethan Hawke/Sen. Claire McCaskill & Sen. Amy Klobuchar/Nathaniel Ratcliff & the Night Sweats\",\"Aziz Ansari/Shonda Rhimes/Bruce Campbell & Lucy Lawless\",\"Viola Davis/Brian Greene/George Ezra\",\"Jennifer Connelly/Judd Apatow/The Internet\",\"Mark Ruffalo/John Cleese/Micheal Flatley\",\"Capt. Florent Groberg/Bill Maher/Shepard Fairey/The Acro-Cats\",\"Julianne Moore/Burt Reynolds/Public Image Ltd./CeeLo Green\",\"Sharon Stone/Justin Theroux/James Taylor\",\"Jane Fonda/Andrew Lloyd Webber/Brandon Niederauer\",\"Michael Caine/Larry Wilmore/Boots/Vulfpeck\",\"Sylvester Stallone/Ted Koppel/My Morning Jacket\",\"Spike Lee/Andy Cohen/Carly Simon\",\"Gloria Estefan/Navy Seal Eric Greitens/Jake Wood/Chef Daniel Boulud\",\"Steve Carell/Jennifer Hudson\",\"Marion Cotillard/George Saunders/Joanna Newsom\",\"Cast of \\\"Downton Abbey\\\"/Adam McKay/Kurt Vile\",\"Bruce Willis/Michael Lewis/Lizzo\",\"Lin-Manuel Miranda/Ike Barinholtz/Sharon Jones & the Dap Kings\",\"Jennifer Lawrence/Doris Kearns Goodwin/Sleater-Kinney\",\"Quentin Tarantino/Jonathan Groff/Squeeze\",\"Robert De Niro/Daniel Gilbert/Henry Rollins\",\"Michael Moore/Samantha Power/Michael C. Hall\",\"Mandy Patinkin/Kayvon Beykpour/Leon Bridges\",\"Samuel L. Jackson/Olivia Hallisey/Foals\",\"John Krasinski/Killer Mike/George Church/Foals\",\"Jerry Seinfeld/Sen. Rand Paul/Andra Day\",\"Damian Lewis/America Ferrera/FloydLittle's Double Dutch Team\",\"Matthew Broderick/Sarah Parcak/Kacey Musgraves\",\"Jane Lynch/HUD Secretary Julian Castro/EL VY\",\"Saoirse Ronan/Jeremy Stoppelman/Laura Ricciardi & Moira Demos/James Bay\",\"Paul Giamatti/Guerilla Girls/J.B. Mauney\",\"Olivia Munn/T.J. Miller/Father John Misty\",\"Scott Kelly/Abby Wambach/Maria Bamford\",\"Patricia Heaton/Quincy Jones/DeRay Mckesson/Grace\",\"Charlie Day/Colin Hanks/Margo Price\",\"James Spader/Brandon Marshall/Sarah Koenig/Rev Run\",\"Christian Slater/Josh Radnor/Iggy Pop\",\"Steven Tyler/Gaby Hoffmann/Lapsley\",\"Donald Rumsfeld/Russell Westbrook/Anderson Paak & the Free Nationals\",\"Laurence Fishburne/Sarah Paulson/Woke\",\"Chris Pine/Danielle Brooks/Jonah Reider/Baauer\",\"Josh Brolin/John Dickerson/Erin Brockovich/Aubrie Sellers\",\"John Travolta & Courtney B. Vance/Amy Cuddy/John Moreland\",\"David Schwimmer/Pastor Joel Osteen/M. Ward\",\"Dr. Phil McGraw/Mark & Jay Duplass/Michael Eric Dyson/Anderson Paak & the Free Nationals\",\"Michael Strahan/Samantha Bee/Wilco\",\"Bobby Cannavale/Donny Deutsch/Charles Kelley\",\"Tina Fey & Margot Robbie/Will Ferrell/Megyn Kelly/Keegan-Michael Key & Jordan Peele\",\"Bill O'Reilly/Eddie George/Macklemore & Ryan Lewis\",\"Olivia Wilde/Christiane Amanpour\",\"Ben Stiller/Sen. Bernie Sanders/TAO: Seventeen Samurai\",\"Kelsey Grammer/Fred Armisen/Sarah McDaniel/Ty Segall & the Muggers\",\"Craig Ferguson/Hailey Clauson & Ashley Graham/Cory Booker\",\"Eva Longoria/Abbi Jacobson & Ilana Glazer/Lucinda Williams\",\"Kate Hudson/Governor John Kasich/Courtney Barnett\",\"T\\u00e9a Leoni/Amanda Peet/Triumph the Insult Comic Dog\",\"Chelsea Handler/Zosia Mamet/The Lumineers\",\"Casey Affleck/Richard Dreyfuss/Mavis Staples\",\"Debra Messing/Zachary Quinto/Violent Femmes\",\"Adrien Brody/Danai Gurira/Brian Greene\",\"Tim Daly/Krysten Ritter/Jason Isbell\",\"Spike Jonze/Jeffrey Dean Morgan/Jack Garratt\",\"Chrissy Teigen/Mike Birbiglia/Adam Savage\",\"Octavia Spencer/John Stamos, Bob Saget & Dave Coulier/Lucius\",\"Christopher Meloni/Edward Byers/Ray LaMontagne\",\"Will Arnett/Charles Barkley/Max Greenfield\",\"Helen Mirren/J.J. Abrams/DMA's\",\"Sally Field/Jerrod Carmichael/Esperanza Spalding\",\"Anna Kendrick/Loretta Lynch/Brian Fallon\",\"Jeff Daniels/Audra McDonald/Mary Elizabeth Winstead\",\"John Oliver/Jordan Spieth/New Order\",\"Steve Martin & Edie Brickell/Shirley MacLaine/Gustavo Dudamel/Los Angeles Philharmonic\",\"Theo James/Jussie Smollett/Laurie Anderson\",\"William H. Macy/Melissa Rauch/Isaac Mizrahi\",\"Tom Hiddleston/Laura Benanti/Frightened Rabbit\",\"Adam Driver/Rachel Bloom/Savages\",\"Eric Stonestreet/Jason Jones/Sen. Elizabeth Warren\",\"Sarah Paulson/Tatiana Maslany/Wynton Marsalis, Lil Buck & Jared Grimes\",\"Steve Buscemi/Benjamin Walker/Cast of Broadway's \\\"American Psycho\\\"\",\"Matthew Perry/Nick Offerman/Explosions in the Sky\",\"Melissa McCarthy & Ben Falcone/Arianna Huffington/Babymetal\",\"Anna Kendrick & Sam Rockwell/David Duchovny/Autolux\",\"Mindy Kaling/Tituss Burgess/Ken Burns\",\"Hillary Clinton/Jesse Tyler Ferguson/Katharine McPhee/Sturgill Simpson\",\"Kevin Spacey/Thomas Middleditch/The Flaming Lips\",\"Dennis Quaid/Matt Walsh/Charles Bradley\",\"Tom Hanks/Leslie Odom, Jr./The Strumbellas/Roy Haynes\",\"Julia Louis-Dreyfus/Nikolaj Coster-Waldau/Sam Morril\",\"Michelle Williams/Eddie Huang/Bob Mould\",\"J. K. Simmons/Jane Krakowski/Chris Wallace\",\"Susan Sarandon/David Tennant/Catfish & the Bottlemen\",\"Julianna Margulies, Christine Baranski & Matt Czuchry/Hank Azaria/Anderson Cooper\",\"Anderson Cooper/Mark Feuerstein/Gwen Stefani\",\"Bill O'Reilly/Morris Chestnut/Deerhunter\",\"Dakota Johnson/Sebastian Stan/Lukas Nelson & Promise of the Real\",\"Anthony Mackie/Rob Reiner/Maxwell\",\"Judy Sheindlin/Zac Posen/W. Kamau Bell\",\"Lily Tomlin/Kumail Nanjiani/Ryan Hamilton\",\"Kaley Cuoco/Dan Savage/The National\",\"Chloe Grace Moretz/Katie Couric/Brian Green/Charlamagne Tha God\",\"Kate Beckinsale/B.J. Novak/Desiigner\",\"Ryan Gosling & Russell Crowe/Jessie Mueller/Animal Collective\",\"Matt Bomer/Zach Woods/Nick Griffin\",\"Jason Sudeikis/Michael Weatherly/Megyn Kelly\",\"Anthony Anderson/Eugene Levy & Catherine O'Hara/Coldplay\",\"Josh Gad/Gillian Jacobs/Band of Horses\",\"Rose Byrne/Bobby Flay/Weird Al Yankovic\",\"Seth Rogen/Krysten Ritter/Wolf Parade\",\"Emilia Clarke/Shiri Appleby/Cynthia Erivo\",\"Sean Hayes/Brooklyn Decker/Lewis Black\",\"James McAvoy/Nick Swardson/Physicist Brian Greene\",\"Lizzy Caplan/Neil Young/Mike Epps\",\"Rashida Jones/Daveed Diggs/Marina Franklin/The Struts\",\"James Corden/Scott Speedman/Death Cab for Cutie\",\"Jude Law/Norman Reedus/Hundred Waters, Skrillex & Chance the Rapper\",\"Laura Linney/John Leguizamo/Gary Clark Jr./Paula Robison\",\"Patrick Wilson/Gayle King/Gary Johnson & William Weld\",\"David Duchovny/Aaron Tveit/Alexander Koblikov\",\"Bill O'Reilly/Anna Chlumsky/Aesop Rock\",\"Daniel Radcliffe/George Lopez/Hinds\",\"Liam Hemsworth/Ana Gasteyer/Paul Mecurio\",\"Demi Lovato & Nick Jonas/Amy Ryan\",\"Aaron Paul/Michael Ian Black/Silversun Pickups\",\"Alexander Skarsgard/Natasha Leggero/Ziggy Marley\",\"Aubrey Plaza/Hugh Dancy/Andrew Zimmern\",\"Uzo Aduba/Neil DeGrasse Tyson/Adia Victoria\",\"Sen. Bernie Sanders/Paul Dano/Rascal Flatts\",\"Kevin Hart/Taylor Schilling/RuPaul\",\"Kevin Love/Jenny Slate/Dierks Bentley\",\"Tom Brokaw/Sara and Erin Foster/Bibi Bourelly\",\"Samuel L. Jackson/Julie Klausner/Schoolboy Q\",\"Ellie Kemper/Patrick Fugit/We Are Scientists\",\"Zachary Quinto/Natasha Lyonne/2 Chainz\",\"Bryan Cranston/Busy Philipps/Hollywood Vampires\",\"Nicholas Hoult/John Turturro/Bret Baier\",\"Benjamin Bratt/Rob Corddry/The Shelters\",\"Bill Maher/Michael K. Williams/Parquet Courts\",\"Charlie Rose, Gayle King & Norah O'Donnell/DeRay McKesson/Bonnie McFarlane\",\"Zoe Saldana/Jennifer Saunders/Ron Suskind\",\"Keegan-Michael Key/Kathryn Hahn/Jenny Lewis & NAF\",\"Tony Goldwyn/Mark Cuban/Lewis Black/Cory Kahaney/Wyclef Jean\",\"RNC/Sen. Elizabeth Warren/Billy Eichner/Cory Kahaney\",\"Jennifer Saunders/Cory Kahaney\",\"Allison Janney/Anthony Weiner/Ryan Adams\",\"DNC/Jeff Daniels/Bassem Youssef/Aurora\",\"DNC/John Oliver/Jai Courtney/Charlamagne Tha God/DMC\",\"DNC/Abbi Jacobson & Ilana Glazer/Doris Kearns Goodwin/Eric Andre\",\"The 2016 Democratic National Convention - A Look Back\",\"Viola Davis/Simon Helberg/Declan McKenna\",\"Will Smith/Logan Lerman/Tony Bennett\",\"John Cena/Scott Eastwood/Aaron Neville\",\"Jamie Dornan/Javier Munoz/Malcolm Gladwell/The O'Jays\",\"Diane Kruger/Mark Normand/Ibtihaj Muhammad\",\"Amy Schumer/Omari Hardwick/Michaela Watkins\",\"Rami Malek/Tika Sumpter & Parker Sawyers/Diana Gordon\",\"Anderson Cooper/Edgar Ramirez/Kip Moore\",\"Sen. Tim Kaine/Tony Hale/Car Seat Headrest\",\"Rachel Weisz/Kevin Smith/Spike Feresten\",\"Riz Ahmed/Pedro Pascal/Angel Olsen\",\"John Krasinski/Adam Brody/St. Paul & the Broken Bones\",\"Christian Slater/Rep. John Lewis/Chris Geere\",\"Larry Wilmore/Chris Noth/Sampha\",\"Anna Gunn/John Dickerson/Simone Giertz\",\"Harry Connick Jr./Ava DuVernay/Grouplove\",\"Whoopi Goldberg/Regina Hall/Sully Sullenberger\",\"Jessica Alba/Bradley Whitford/George Takei\",\"Tituss Burgess/Jeff Ross/Adam Richman\",\"Dr. Phil McGraw/Alan Cumming/Hamilton Leithauser & Rostam\",\"Joseph Gordon-Levitt/Millie Bobby Brown/The Head and the Heart\",\"Trevor Noah/Allen Iverson/Rachel Maddow\",\"Tracee Ellis Ross/Andrew Rannells/Mac Miller & Anderson.Paak\",\"John Slattery/Oliver Stone/Jon Fisch\",\"Chris Pratt/Scott Bakula/Frederik the Great\",\"Michelle Obama/America Ferrera\",\"Ethan Hawke/Tim Meadows/Wilco/Nile Rodgers\",\"Anthony Anderson/Mark Consuelos/The Kills\",\"Bruce Springsteen/Emma Willman\",\"Rob Lowe/Kal Penn/Emma Willmann\",\"Sean Penn/Sutton Foster/Regina Spektor\",\"Lupita Nyong'o/Donnie Wahlberg/John Prine\",\"Morgan Freeman/Judith Light/Jimmy Eat World\",\"Samantha Bee/Abby Elliott/Asa Butterfield\",\"Mindy Kaling/Gary Owen/Sum 41\",\"John Leguizamo/Cheri Oteri/Paul F. Tompkins/Melissa Etheridge\",\"Armie Hammer/Lindsey Vonn/Gustavo Dudamel/Simon Bolivar Symphony Orchestra\",\"Emily Blunt/Gael Garcia Bernal/Phantogram\",\"Diane Lane/Aja Naomi King/Alingon Mitra\",\"President Barack Obama/Bill O'Reilly/Randall Park/Bob Weir\",\"Nick Offerman/Wayne Gretzky/Morgan Spurlock/Joseph\",\"Hugh Laurie/Paul Reiser/Nate Silver\",\"Tiger Woods/Elijah Wood/Jorge Ramos\",\"Matt LeBlanc/Del. Eleanor Holmes Norton/Wyclef Jean\",\"Tom Hanks/Adam Conover\",\"Will Forte/Dermot Mulroney/Wyatt Cenac/Mitski\",\"Joel McHale/Abbi Jacobson/Jon Glaser\",\"Mary-Louise Parker/Pusha T/The Record Company\",\"Drew Carey/Claire Foy & Matt Smith/Sebastian Maniscalco/Aimee Mann\",\"Ruth Wilson/J.B. Smoove/Dalen Spratt, Juwan Mass & Marcus Harvey\",\"Mel Gibson & Luke Bracey/Tegan & Sara\",\"Michael Strahan/Nick Kroll/Aaron Lewis\",\"Aaron Eckhart/Tig Notaro/Ron Suskind\",\"Viggo Mortensen/Patton Oswalt/Maz Jobrani\",\"Don Cheadle/Stevie Wonder/Katherine Waterston\",\"Miles Teller/Neil DeGrasse Tyson/Triumph, the Insult Comic Dog\",\"Sting/Thandie Newton\",\"Eddie Redmayne/Bernie Sanders/Alton Brown/Chris Thile\",\"Anna Kendrick/Mahershala Ali/Chris Gethard\",\"Marion Cotillard/Dev Patel/Dwight Yoakam\",\"William H. Macy/Colin Quinn/Drive-By Truckers\",\"Michael Weatherly/Carrie Fisher/Pretenders\",\"James Marsden/Jimmie Johnson/John Waters\",\"Jason Bateman/Padma Lakshmi/Michael Lewis\",\"Joe Biden/DJ Khaled\",\"Sigourney Weaver/Andy Cohen/Pilobolus Dance Theater\",\"Liam Neeson/Shepard Smith/Jon Batiste\",\"Oprah Winfrey/Pretty Yende\",\"Kate Beckinsale/Chris Messina/Jen Kirkman\",\"Charlie Rose/Hayden Panettiere/Jack Maxwell\",\"Andrew Garfield/Erin Andrews/Cage the Elephant\",\"Jude Law/Gabrielle Union/Thomas L. Friedman\",\"Cuba Gooding Jr./Rupert Friend/Gary Gulman\",\"Sarah Paulson/Corey Stoll/Nick Grant & Watch the Duck\",\"Johnny Galecki/Chris Matthews/Bash & Pop\",\"Jim Gaffigan/Cristela Alonzo/The Avett Brothers\",\"Leslie Mann/Lewis Black/Dan Levy\",\"Josh Groban/Rachael Ray/Japandroids\",\"Ricky Gervais/Christina Ricci/Jain\",\"Priyanka Chopra/Thomas Sadoski/Pat Brown\",\"Paul Giamatti/Wendy Williams/Highly Suspect\",\"John Oliver/Isabelle Huppert/The Avett Brothers\",\"Will Arnett/Pete Holmes/Paul Mecurio\",\"Shailene Woodley/Laverne Cox/Rick & Marty Lagina\",\"Christine Baranski/Hans Zimmer\",\"Bob Odenkirk/Tatiana Maslany/George Saunders\",\"Sally Field/Maggie Siff/Lady Antebellum\",\"Uma Thurman/Jason Jones/Alison Krauss\",\"Joe Scarborough/Kate Upton/Yvette Nicole Brown\",\"Aubrey Plaza/Bradley Whitford/Lupe Fiasco\",\"Allison Williams/Cush Jumbo/Carmen Lynch\",\"Jon Stewart/Connie Britton/Zoey Deutch/Lori McKenna\",\"Lisa Kudrow/Josh Earnest/Tony Rock\",\"Anderson Cooper/Judd Apatow/Jidenna\",\"Kevin Kline/Jerrod Carmichael/Michael Hayden\",\"Ewan McGregor/Finn Wittrock/The Shins\",\"Neil DeGrasse Tyson/Rick Ross\",\"Bryan Cranston/Audra McDonald/Greer Barnes\",\"Ryan Reynolds/Josh Lucas/Andy Daly/Green Day\",\"Glenn Close/Michael McKean/H. Jon Benjamin\",\"Lily Tomlin & Jane Fonda/Jay Chandrasekhar/Aimee Mann\",\"Hank Azaria/Kate Walsh/Circus 1903\",\"Emma Roberts/Ken Jeong/Luke Bryan & Dierks Bentley\",\"Marisa Tomei/Hugh Dancy/Broken Social Scene\",\"Susan Sarandon/Joey McIntyre/Robert Klein\",\"Jason Sudeikis/Jennifer Esposito/Joey Bada$$\"]}},\"id\":\"a468ac64-cfce-414b-a8cb-911f34bf22dc\",\"type\":\"ColumnDataSource\"},{\"attributes\":{\"bottom_units\":\"screen\",\"fill_alpha\":{\"value\":0.5},\"fill_color\":{\"value\":\"lightgrey\"},\"left_units\":\"screen\",\"level\":\"overlay\",\"line_alpha\":{\"value\":1.0},\"line_color\":{\"value\":\"black\"},\"line_dash\":[4,4],\"line_width\":{\"value\":2},\"plot\":null,\"render_mode\":\"css\",\"right_units\":\"screen\",\"top_units\":\"screen\"},\"id\":\"f9a17b71-0713-4768-8ed1-1243ba1f1d28\",\"type\":\"BoxAnnotation\"},{\"attributes\":{\"months\":[0,2,4,6,8,10]},\"id\":\"0acd9806-0def-4113-9561-66fd62e49857\",\"type\":\"MonthsTicker\"},{\"attributes\":{\"active_drag\":\"auto\",\"active_scroll\":\"auto\",\"active_tap\":\"auto\",\"logo\":null,\"tools\":[{\"id\":\"808cdbc9-dc78-4013-9b7d-105df7334e2d\",\"type\":\"PanTool\"},{\"id\":\"a12880ca-7695-4d2a-86df-3665031c6022\",\"type\":\"WheelZoomTool\"},{\"id\":\"28069639-d50c-4189-af14-0a7b93825ae9\",\"type\":\"BoxZoomTool\"},{\"id\":\"ea341f35-13ad-4d2d-91a7-a57e7157bd93\",\"type\":\"SaveTool\"},{\"id\":\"e4ff7c31-ae18-46a9-8358-a22dffc2cd8d\",\"type\":\"ResetTool\"},{\"id\":\"23990485-7113-4529-89ba-0349e6a5a8d6\",\"type\":\"HelpTool\"},{\"id\":\"7f0ba73b-933c-4d4c-aa2e-4142b6ce558b\",\"type\":\"HoverTool\"}]},\"id\":\"759b6098-5888-4611-b18e-388ffd85c1f8\",\"type\":\"Toolbar\"},{\"attributes\":{\"overlay\":{\"id\":\"f9a17b71-0713-4768-8ed1-1243ba1f1d28\",\"type\":\"BoxAnnotation\"},\"plot\":{\"id\":\"55db2a77-a6c4-48da-9471-ebc6f2936bfa\",\"subtype\":\"Figure\",\"type\":\"Plot\"}},\"id\":\"28069639-d50c-4189-af14-0a7b93825ae9\",\"type\":\"BoxZoomTool\"},{\"attributes\":{\"plot\":{\"id\":\"55db2a77-a6c4-48da-9471-ebc6f2936bfa\",\"subtype\":\"Figure\",\"type\":\"Plot\"}},\"id\":\"a12880ca-7695-4d2a-86df-3665031c6022\",\"type\":\"WheelZoomTool\"},{\"attributes\":{\"months\":[0,6]},\"id\":\"f038208a-bad9-48b5-aabc-cf46c00377c3\",\"type\":\"MonthsTicker\"},{\"attributes\":{\"callback\":null},\"id\":\"df0162ff-1f03-45e5-b8cc-bce8dba518d2\",\"type\":\"DataRange1d\"},{\"attributes\":{\"plot\":{\"id\":\"55db2a77-a6c4-48da-9471-ebc6f2936bfa\",\"subtype\":\"Figure\",\"type\":\"Plot\"}},\"id\":\"e4ff7c31-ae18-46a9-8358-a22dffc2cd8d\",\"type\":\"ResetTool\"},{\"attributes\":{\"base\":60,\"mantissas\":[1,2,5,10,15,20,30],\"max_interval\":1800000.0,\"min_interval\":1000.0,\"num_minor_ticks\":0},\"id\":\"3e79a8b2-91ad-4c6e-b9cd-591a94a839f7\",\"type\":\"AdaptiveTicker\"},{\"attributes\":{\"num_minor_ticks\":5},\"id\":\"8539bcb7-8ded-454b-9fdc-1abeba6dbebd\",\"type\":\"DatetimeTicker\"},{\"attributes\":{\"fill_color\":{\"value\":\"#1f77b4\"},\"line_color\":{\"value\":\"#1f77b4\"},\"line_width\":{\"value\":2},\"size\":{\"units\":\"screen\",\"value\":5},\"x\":{\"field\":\"air_date\"},\"y\":{\"field\":\"rating\"}},\"id\":\"546a9e44-1f45-4faa-a466-154bba150783\",\"type\":\"Circle\"},{\"attributes\":{\"max_interval\":500.0,\"num_minor_ticks\":0},\"id\":\"7811f9e4-143d-40c1-a37a-69255076f8ac\",\"type\":\"AdaptiveTicker\"},{\"attributes\":{\"months\":[0,4,8]},\"id\":\"ea30d339-986f-418b-a2a2-bab6331db602\",\"type\":\"MonthsTicker\"},{\"attributes\":{},\"id\":\"64e8ac77-e2d6-442c-a974-77825100c75c\",\"type\":\"ToolEvents\"},{\"attributes\":{\"callback\":null},\"id\":\"e162e8d0-f883-4170-a066-b4f451294550\",\"type\":\"DataRange1d\"},{\"attributes\":{\"plot\":{\"id\":\"55db2a77-a6c4-48da-9471-ebc6f2936bfa\",\"subtype\":\"Figure\",\"type\":\"Plot\"}},\"id\":\"23990485-7113-4529-89ba-0349e6a5a8d6\",\"type\":\"HelpTool\"},{\"attributes\":{\"base\":24,\"mantissas\":[1,2,4,6,8,12],\"max_interval\":43200000.0,\"min_interval\":3600000.0,\"num_minor_ticks\":0},\"id\":\"b95ebdd8-9b35-4902-8552-cb41cca4fe3d\",\"type\":\"AdaptiveTicker\"},{\"attributes\":{\"dimension\":1,\"plot\":{\"id\":\"55db2a77-a6c4-48da-9471-ebc6f2936bfa\",\"subtype\":\"Figure\",\"type\":\"Plot\"},\"ticker\":{\"id\":\"7cefbe31-a898-42eb-8e2c-005937417e81\",\"type\":\"BasicTicker\"}},\"id\":\"1f728cea-5eb9-446d-a8d1-dbc494da117f\",\"type\":\"Grid\"},{\"attributes\":{},\"id\":\"7cefbe31-a898-42eb-8e2c-005937417e81\",\"type\":\"BasicTicker\"},{\"attributes\":{\"formatter\":{\"id\":\"750cfe24-7ca0-4959-a274-0a8c74d0d1df\",\"type\":\"BasicTickFormatter\"},\"plot\":{\"id\":\"55db2a77-a6c4-48da-9471-ebc6f2936bfa\",\"subtype\":\"Figure\",\"type\":\"Plot\"},\"ticker\":{\"id\":\"7cefbe31-a898-42eb-8e2c-005937417e81\",\"type\":\"BasicTicker\"}},\"id\":\"6a54acef-04ef-4928-8f2a-287a4e7f1c80\",\"type\":\"LinearAxis\"},{\"attributes\":{\"plot\":{\"id\":\"55db2a77-a6c4-48da-9471-ebc6f2936bfa\",\"subtype\":\"Figure\",\"type\":\"Plot\"},\"ticker\":{\"id\":\"8539bcb7-8ded-454b-9fdc-1abeba6dbebd\",\"type\":\"DatetimeTicker\"}},\"id\":\"4502bcab-c6c2-479e-b294-85a9c143824c\",\"type\":\"Grid\"}],\"root_ids\":[\"55db2a77-a6c4-48da-9471-ebc6f2936bfa\"]},\"title\":\"Bokeh Application\",\"version\":\"0.12.5\"}};\n",
       "            var render_items = [{\"docid\":\"d3913476-d202-45c0-a7c8-23dc5fc02adf\",\"elementid\":\"6252af48-4aa8-4b37-ad0f-6119a05c519d\",\"modelid\":\"55db2a77-a6c4-48da-9471-ebc6f2936bfa\"}];\n",
       "            \n",
       "            Bokeh.embed.embed_items(docs_json, render_items);\n",
       "          };\n",
       "          if (document.readyState != \"loading\") fn();\n",
       "          else document.addEventListener(\"DOMContentLoaded\", fn);\n",
       "        })();\n",
       "      },\n",
       "      function(Bokeh) {\n",
       "      }\n",
       "    ];\n",
       "  \n",
       "    function run_inline_js() {\n",
       "      \n",
       "      if ((window.Bokeh !== undefined) || (force === true)) {\n",
       "        for (var i = 0; i < inline_js.length; i++) {\n",
       "          inline_js[i](window.Bokeh);\n",
       "        }if (force === true) {\n",
       "          display_loaded();\n",
       "        }} else if (Date.now() < window._bokeh_timeout) {\n",
       "        setTimeout(run_inline_js, 100);\n",
       "      } else if (!window._bokeh_failed_load) {\n",
       "        console.log(\"Bokeh: BokehJS failed to load within specified timeout.\");\n",
       "        window._bokeh_failed_load = true;\n",
       "      } else if (force !== true) {\n",
       "        var cell = $(document.getElementById(\"6252af48-4aa8-4b37-ad0f-6119a05c519d\")).parents('.cell').data().cell;\n",
       "        cell.output_area.append_execute_result(NB_LOAD_WARNING)\n",
       "      }\n",
       "  \n",
       "    }\n",
       "  \n",
       "    if (window._bokeh_is_loading === 0) {\n",
       "      console.log(\"Bokeh: BokehJS loaded, going straight to plotting\");\n",
       "      run_inline_js();\n",
       "    } else {\n",
       "      load_libs(js_urls, function() {\n",
       "        console.log(\"Bokeh: BokehJS plotting callback run at\", now());\n",
       "        run_inline_js();\n",
       "      });\n",
       "    }\n",
       "  }(this));\n",
       "</script>"
      ]
     },
     "metadata": {},
     "output_type": "display_data"
    }
   ],
   "source": [
    "p = plot_interactive_timeseries(x='air_date', y='rating', data=episodes, \n",
    "                                title=\"Ratings per Episode\",\n",
    "                               hover_cols=hover_cols)\n",
    "show(p)"
   ]
  },
  {
   "cell_type": "markdown",
   "metadata": {},
   "source": [
    "## Ratings Count over Time"
   ]
  },
  {
   "cell_type": "code",
   "execution_count": 7,
   "metadata": {},
   "outputs": [
    {
     "data": {
      "text/html": [
       "\n",
       "\n",
       "    <div class=\"bk-root\">\n",
       "        <div class=\"bk-plotdiv\" id=\"960325f9-f86a-4c4e-9566-0f2f5177a3b8\"></div>\n",
       "    </div>\n",
       "<script type=\"text/javascript\">\n",
       "  \n",
       "  (function(global) {\n",
       "    function now() {\n",
       "      return new Date();\n",
       "    }\n",
       "  \n",
       "    var force = false;\n",
       "  \n",
       "    if (typeof (window._bokeh_onload_callbacks) === \"undefined\" || force === true) {\n",
       "      window._bokeh_onload_callbacks = [];\n",
       "      window._bokeh_is_loading = undefined;\n",
       "    }\n",
       "  \n",
       "  \n",
       "    \n",
       "    if (typeof (window._bokeh_timeout) === \"undefined\" || force === true) {\n",
       "      window._bokeh_timeout = Date.now() + 0;\n",
       "      window._bokeh_failed_load = false;\n",
       "    }\n",
       "  \n",
       "    var NB_LOAD_WARNING = {'data': {'text/html':\n",
       "       \"<div style='background-color: #fdd'>\\n\"+\n",
       "       \"<p>\\n\"+\n",
       "       \"BokehJS does not appear to have successfully loaded. If loading BokehJS from CDN, this \\n\"+\n",
       "       \"may be due to a slow or bad network connection. Possible fixes:\\n\"+\n",
       "       \"</p>\\n\"+\n",
       "       \"<ul>\\n\"+\n",
       "       \"<li>re-rerun `output_notebook()` to attempt to load from CDN again, or</li>\\n\"+\n",
       "       \"<li>use INLINE resources instead, as so:</li>\\n\"+\n",
       "       \"</ul>\\n\"+\n",
       "       \"<code>\\n\"+\n",
       "       \"from bokeh.resources import INLINE\\n\"+\n",
       "       \"output_notebook(resources=INLINE)\\n\"+\n",
       "       \"</code>\\n\"+\n",
       "       \"</div>\"}};\n",
       "  \n",
       "    function display_loaded() {\n",
       "      if (window.Bokeh !== undefined) {\n",
       "        var el = document.getElementById(\"960325f9-f86a-4c4e-9566-0f2f5177a3b8\");\n",
       "        el.textContent = \"BokehJS \" + Bokeh.version + \" successfully loaded.\";\n",
       "      } else if (Date.now() < window._bokeh_timeout) {\n",
       "        setTimeout(display_loaded, 100)\n",
       "      }\n",
       "    }\n",
       "  \n",
       "    function run_callbacks() {\n",
       "      window._bokeh_onload_callbacks.forEach(function(callback) { callback() });\n",
       "      delete window._bokeh_onload_callbacks\n",
       "      console.info(\"Bokeh: all callbacks have finished\");\n",
       "    }\n",
       "  \n",
       "    function load_libs(js_urls, callback) {\n",
       "      window._bokeh_onload_callbacks.push(callback);\n",
       "      if (window._bokeh_is_loading > 0) {\n",
       "        console.log(\"Bokeh: BokehJS is being loaded, scheduling callback at\", now());\n",
       "        return null;\n",
       "      }\n",
       "      if (js_urls == null || js_urls.length === 0) {\n",
       "        run_callbacks();\n",
       "        return null;\n",
       "      }\n",
       "      console.log(\"Bokeh: BokehJS not loaded, scheduling load and callback at\", now());\n",
       "      window._bokeh_is_loading = js_urls.length;\n",
       "      for (var i = 0; i < js_urls.length; i++) {\n",
       "        var url = js_urls[i];\n",
       "        var s = document.createElement('script');\n",
       "        s.src = url;\n",
       "        s.async = false;\n",
       "        s.onreadystatechange = s.onload = function() {\n",
       "          window._bokeh_is_loading--;\n",
       "          if (window._bokeh_is_loading === 0) {\n",
       "            console.log(\"Bokeh: all BokehJS libraries loaded\");\n",
       "            run_callbacks()\n",
       "          }\n",
       "        };\n",
       "        s.onerror = function() {\n",
       "          console.warn(\"failed to load library \" + url);\n",
       "        };\n",
       "        console.log(\"Bokeh: injecting script tag for BokehJS library: \", url);\n",
       "        document.getElementsByTagName(\"head\")[0].appendChild(s);\n",
       "      }\n",
       "    };var element = document.getElementById(\"960325f9-f86a-4c4e-9566-0f2f5177a3b8\");\n",
       "    if (element == null) {\n",
       "      console.log(\"Bokeh: ERROR: autoload.js configured with elementid '960325f9-f86a-4c4e-9566-0f2f5177a3b8' but no matching script tag was found. \")\n",
       "      return false;\n",
       "    }\n",
       "  \n",
       "    var js_urls = [];\n",
       "  \n",
       "    var inline_js = [\n",
       "      function(Bokeh) {\n",
       "        (function() {\n",
       "          var fn = function() {\n",
       "            var docs_json = {\"a58314aa-f70d-4768-acd9-ce7daf704ee7\":{\"roots\":{\"references\":[{\"attributes\":{\"months\":[0,4,8]},\"id\":\"07f16af1-55ea-498f-99a4-df900b2fe8c1\",\"type\":\"MonthsTicker\"},{\"attributes\":{\"formatter\":{\"id\":\"ee05b4ee-79de-47e5-942c-f6fd2aec9364\",\"type\":\"DatetimeTickFormatter\"},\"plot\":{\"id\":\"ec12c878-aab4-4a08-b5a8-c5a591182c31\",\"subtype\":\"Figure\",\"type\":\"Plot\"},\"ticker\":{\"id\":\"2bfb7468-5bbc-47a1-a721-4b0f519e2920\",\"type\":\"DatetimeTicker\"}},\"id\":\"97d31503-9ca8-4315-b47f-86afaf2d4f44\",\"type\":\"DatetimeAxis\"},{\"attributes\":{\"active_drag\":\"auto\",\"active_scroll\":\"auto\",\"active_tap\":\"auto\",\"logo\":null,\"tools\":[{\"id\":\"6f923b7e-ce75-47b1-9e0f-02074ac77110\",\"type\":\"PanTool\"},{\"id\":\"ee77f976-5704-4bbf-85c3-59f1a916992e\",\"type\":\"WheelZoomTool\"},{\"id\":\"b9f67fb6-e1b1-4401-adac-e6584758cd1e\",\"type\":\"BoxZoomTool\"},{\"id\":\"fe1dc9e6-81c1-4994-8958-04330f58b5c1\",\"type\":\"SaveTool\"},{\"id\":\"79edd3a2-ed9c-4e11-83bd-f282866c21b4\",\"type\":\"ResetTool\"},{\"id\":\"90d567d5-b645-4080-89ae-bada128ceb39\",\"type\":\"HelpTool\"},{\"id\":\"8c2c187d-98bc-4840-82ff-ab6da908e3de\",\"type\":\"HoverTool\"}]},\"id\":\"d57edf1a-03e7-4d5c-b0ea-f86931828426\",\"type\":\"Toolbar\"},{\"attributes\":{\"months\":[0,6]},\"id\":\"08106a4c-997b-4af0-b350-af3ed0719ef8\",\"type\":\"MonthsTicker\"},{\"attributes\":{},\"id\":\"4e5ebf6e-a43f-4ddb-9597-833024febcb8\",\"type\":\"YearsTicker\"},{\"attributes\":{\"below\":[{\"id\":\"97d31503-9ca8-4315-b47f-86afaf2d4f44\",\"type\":\"DatetimeAxis\"}],\"left\":[{\"id\":\"d076221d-9ff9-4484-ad52-168389688624\",\"type\":\"LinearAxis\"}],\"plot_height\":400,\"plot_width\":950,\"renderers\":[{\"id\":\"97d31503-9ca8-4315-b47f-86afaf2d4f44\",\"type\":\"DatetimeAxis\"},{\"id\":\"2516648b-809d-431f-ab47-3501252c1749\",\"type\":\"Grid\"},{\"id\":\"d076221d-9ff9-4484-ad52-168389688624\",\"type\":\"LinearAxis\"},{\"id\":\"fa2ef76b-f39e-4f47-9a75-75e7a51b2a0e\",\"type\":\"Grid\"},{\"id\":\"680b0a83-4e12-4c74-b470-3635cc10c6ca\",\"type\":\"BoxAnnotation\"},{\"id\":\"0d93d338-f1f8-4184-8232-9969965ec237\",\"type\":\"GlyphRenderer\"}],\"title\":{\"id\":\"ff5d98d4-29bc-46eb-bdc6-9696826e95e4\",\"type\":\"Title\"},\"tool_events\":{\"id\":\"265cabe4-5a70-4232-8094-6acd55bb54b5\",\"type\":\"ToolEvents\"},\"toolbar\":{\"id\":\"d57edf1a-03e7-4d5c-b0ea-f86931828426\",\"type\":\"Toolbar\"},\"x_range\":{\"id\":\"63813b78-e33b-4ccb-849f-8ddfe1c33a5a\",\"type\":\"DataRange1d\"},\"y_range\":{\"id\":\"15370fc6-22a7-47cf-95b9-ceb6d051adaa\",\"type\":\"DataRange1d\"}},\"id\":\"ec12c878-aab4-4a08-b5a8-c5a591182c31\",\"subtype\":\"Figure\",\"type\":\"Plot\"},{\"attributes\":{\"fill_color\":{\"value\":\"#1f77b4\"},\"line_color\":{\"value\":\"#1f77b4\"},\"line_width\":{\"value\":2},\"size\":{\"units\":\"screen\",\"value\":5},\"x\":{\"field\":\"air_date\"},\"y\":{\"field\":\"rating_count\"}},\"id\":\"62bab59c-9752-402a-b845-39bcab334121\",\"type\":\"Circle\"},{\"attributes\":{\"plot\":null,\"text\":\"Number of Ratings per Episode\"},\"id\":\"ff5d98d4-29bc-46eb-bdc6-9696826e95e4\",\"type\":\"Title\"},{\"attributes\":{\"plot\":{\"id\":\"ec12c878-aab4-4a08-b5a8-c5a591182c31\",\"subtype\":\"Figure\",\"type\":\"Plot\"}},\"id\":\"79edd3a2-ed9c-4e11-83bd-f282866c21b4\",\"type\":\"ResetTool\"},{\"attributes\":{\"base\":24,\"mantissas\":[1,2,4,6,8,12],\"max_interval\":43200000.0,\"min_interval\":3600000.0,\"num_minor_ticks\":0},\"id\":\"665e00d5-c68c-47f7-8688-83b5e0f47b3a\",\"type\":\"AdaptiveTicker\"},{\"attributes\":{\"formatter\":{\"id\":\"35cfaa78-3761-4704-9b62-54104e28912c\",\"type\":\"BasicTickFormatter\"},\"plot\":{\"id\":\"ec12c878-aab4-4a08-b5a8-c5a591182c31\",\"subtype\":\"Figure\",\"type\":\"Plot\"},\"ticker\":{\"id\":\"23707bf3-dd37-4781-84b7-208af150a9c3\",\"type\":\"BasicTicker\"}},\"id\":\"d076221d-9ff9-4484-ad52-168389688624\",\"type\":\"LinearAxis\"},{\"attributes\":{\"bottom_units\":\"screen\",\"fill_alpha\":{\"value\":0.5},\"fill_color\":{\"value\":\"lightgrey\"},\"left_units\":\"screen\",\"level\":\"overlay\",\"line_alpha\":{\"value\":1.0},\"line_color\":{\"value\":\"black\"},\"line_dash\":[4,4],\"line_width\":{\"value\":2},\"plot\":null,\"render_mode\":\"css\",\"right_units\":\"screen\",\"top_units\":\"screen\"},\"id\":\"680b0a83-4e12-4c74-b470-3635cc10c6ca\",\"type\":\"BoxAnnotation\"},{\"attributes\":{\"base\":60,\"mantissas\":[1,2,5,10,15,20,30],\"max_interval\":1800000.0,\"min_interval\":1000.0,\"num_minor_ticks\":0},\"id\":\"0538428a-8f29-4818-9a02-0e017db5e1f4\",\"type\":\"AdaptiveTicker\"},{\"attributes\":{\"dimension\":1,\"plot\":{\"id\":\"ec12c878-aab4-4a08-b5a8-c5a591182c31\",\"subtype\":\"Figure\",\"type\":\"Plot\"},\"ticker\":{\"id\":\"23707bf3-dd37-4781-84b7-208af150a9c3\",\"type\":\"BasicTicker\"}},\"id\":\"fa2ef76b-f39e-4f47-9a75-75e7a51b2a0e\",\"type\":\"Grid\"},{\"attributes\":{\"days\":[1,2,3,4,5,6,7,8,9,10,11,12,13,14,15,16,17,18,19,20,21,22,23,24,25,26,27,28,29,30,31]},\"id\":\"293d604e-cbd8-4012-a0c7-006a1d0e1cfe\",\"type\":\"DaysTicker\"},{\"attributes\":{\"callback\":null,\"plot\":{\"id\":\"ec12c878-aab4-4a08-b5a8-c5a591182c31\",\"subtype\":\"Figure\",\"type\":\"Plot\"},\"tooltips\":[[\"episode_number\",\"@episode_number\"],[\"title\",\"@title\"],[\"air_date\",\"@air_date_str\"],[\"rating\",\"@rating{1.11}\"],[\"rating_count\",\"@rating_count{1.11}\"]]},\"id\":\"8c2c187d-98bc-4840-82ff-ab6da908e3de\",\"type\":\"HoverTool\"},{\"attributes\":{\"max_interval\":500.0,\"num_minor_ticks\":0},\"id\":\"1811e286-6845-413e-913c-e922bf54c7c7\",\"type\":\"AdaptiveTicker\"},{\"attributes\":{\"use_scientific\":false},\"id\":\"35cfaa78-3761-4704-9b62-54104e28912c\",\"type\":\"BasicTickFormatter\"},{\"attributes\":{\"plot\":{\"id\":\"ec12c878-aab4-4a08-b5a8-c5a591182c31\",\"subtype\":\"Figure\",\"type\":\"Plot\"}},\"id\":\"ee77f976-5704-4bbf-85c3-59f1a916992e\",\"type\":\"WheelZoomTool\"},{\"attributes\":{\"plot\":{\"id\":\"ec12c878-aab4-4a08-b5a8-c5a591182c31\",\"subtype\":\"Figure\",\"type\":\"Plot\"}},\"id\":\"fe1dc9e6-81c1-4994-8958-04330f58b5c1\",\"type\":\"SaveTool\"},{\"attributes\":{\"plot\":{\"id\":\"ec12c878-aab4-4a08-b5a8-c5a591182c31\",\"subtype\":\"Figure\",\"type\":\"Plot\"}},\"id\":\"6f923b7e-ce75-47b1-9e0f-02074ac77110\",\"type\":\"PanTool\"},{\"attributes\":{\"data_source\":{\"id\":\"3ae0ee63-626f-4bec-ab14-6dac6b29b035\",\"type\":\"ColumnDataSource\"},\"glyph\":{\"id\":\"62bab59c-9752-402a-b845-39bcab334121\",\"type\":\"Circle\"},\"hover_glyph\":null,\"muted_glyph\":null,\"nonselection_glyph\":{\"id\":\"a4df41aa-b34b-4219-a2fb-ec9403077cad\",\"type\":\"Circle\"},\"selection_glyph\":null},\"id\":\"0d93d338-f1f8-4184-8232-9969965ec237\",\"type\":\"GlyphRenderer\"},{\"attributes\":{\"days\":[1,4,7,10,13,16,19,22,25,28]},\"id\":\"cb471ca4-7c36-4006-ab94-17f98229c9ed\",\"type\":\"DaysTicker\"},{\"attributes\":{\"plot\":{\"id\":\"ec12c878-aab4-4a08-b5a8-c5a591182c31\",\"subtype\":\"Figure\",\"type\":\"Plot\"}},\"id\":\"90d567d5-b645-4080-89ae-bada128ceb39\",\"type\":\"HelpTool\"},{\"attributes\":{},\"id\":\"265cabe4-5a70-4232-8094-6acd55bb54b5\",\"type\":\"ToolEvents\"},{\"attributes\":{\"overlay\":{\"id\":\"680b0a83-4e12-4c74-b470-3635cc10c6ca\",\"type\":\"BoxAnnotation\"},\"plot\":{\"id\":\"ec12c878-aab4-4a08-b5a8-c5a591182c31\",\"subtype\":\"Figure\",\"type\":\"Plot\"}},\"id\":\"b9f67fb6-e1b1-4401-adac-e6584758cd1e\",\"type\":\"BoxZoomTool\"},{\"attributes\":{},\"id\":\"ee05b4ee-79de-47e5-942c-f6fd2aec9364\",\"type\":\"DatetimeTickFormatter\"},{\"attributes\":{\"days\":[1,8,15,22]},\"id\":\"39cdf59a-2565-4591-a036-26ce7ac727c0\",\"type\":\"DaysTicker\"},{\"attributes\":{\"days\":[1,15]},\"id\":\"7e92b720-f4ba-43c5-b002-dbb9f5d8f259\",\"type\":\"DaysTicker\"},{\"attributes\":{\"callback\":null},\"id\":\"15370fc6-22a7-47cf-95b9-ceb6d051adaa\",\"type\":\"DataRange1d\"},{\"attributes\":{\"months\":[0,1,2,3,4,5,6,7,8,9,10,11]},\"id\":\"4b8f10c6-4336-4ab8-b3ad-717570ce037b\",\"type\":\"MonthsTicker\"},{\"attributes\":{\"num_minor_ticks\":5},\"id\":\"2bfb7468-5bbc-47a1-a721-4b0f519e2920\",\"type\":\"DatetimeTicker\"},{\"attributes\":{\"months\":[0,2,4,6,8,10]},\"id\":\"69626b49-7603-42c4-9e7f-93bff3bbd7d3\",\"type\":\"MonthsTicker\"},{\"attributes\":{\"callback\":null,\"column_names\":[\"episode_number\",\"title\",\"air_date\",\"rating\",\"rating_count\",\"index\",\"air_date_str\"],\"data\":{\"air_date\":{\"__ndarray__\":\"AACACKT6dEIAAEBu9vp0QgAAANRI+3RCAADAOZv7dEIAAABrkvx0QgAAwNDk/HRCAACANjf9dEIAAECcif10QgAAAALc/XRCAABAM9P+dEIAAACZJf90QgAAwP53/3RCAACAZMr/dEIAAEDKHAB1QgAAgPsTAXVCAABAYWYBdUIAAADHuAF1QgAAwCwLAnVCAACAkl0CdUIAAMDDVAN1QgAAgCmnA3VCAABAj/kDdUIAAAD1SwR1QgAAwFqeBHVCAAAAjJUFdUIAAMDx5wV1QgAAgFc6BnVCAABAvYwGdUIAAAAj3wZ1QgAAgBwXCnVCAABAgmkKdUIAAADouwp1QgAAwE0OC3VCAACAs2ALdUIAAMDkVwx1QgAAgEqqDHVCAABAsPwMdUIAAAAWTw11QgAAwHuhDXVCAAAArZgOdUIAAMAS6w51QgAAgHg9D3VCAABA3o8PdUIAAABE4g91QgAAQHXZEHVCAAAA2ysRdUIAAMBAfhF1QgAAgKbQEXVCAABADCMSdUIAAIA9GhN1QgAAQKNsE3VCAAAACb8TdUIAAADOmxd1QgAAwDPuF3VCAACAmUAYdUIAAED/khh1QgAAAGXlGHVCAABAltwZdUIAAAD8Lhp1QgAAwGGBGnVCAACAx9MadUIAAEAtJht1QgAAAO+eIHVCAADAVPEgdUIAAIC6QyF1QgAAQCCWIXVCAAAAhughdUIAAEC33yJ1QgAAAB0yI3VCAADAgoQjdUIAAIDo1iN1QgAAQE4pJHVCAACAfyAldUIAAEDlciV1QgAAAEvFJXVCAADAsBcmdUIAAIAWaiZ1QgAAwEdhJ3VCAACArbMndUIAAEATBih1QgAAAHlYKHVCAAAAEKIpdUIAAMB19Cl1QgAAgNtGKnVCAABAQZkqdUIAAACn6yp1QgAAgHKQK3VCAABA2OIrdUIAAAA+NSx1QgAAwKOHLHVCAACACdosdUIAAICgIy51QgAAQAZ2LnVCAAAAbMgudUIAAMDRGi91QgAAgDdtL3VCAADAaGQwdUIAAIDOtjB1QgAAQDQJMXVCAAAAmlsxdUIAAAAxpTJ1QgAAwJb3MnVCAACA/EkzdUIAAEBinDN1QgAAQPnlNHVCAAAAXzg1dUIAAMDEijV1QgAAgCrdNXVCAABAkC82dUIAAIDBJjd1QgAAQCd5N3VCAAAAjcs3dUIAAMDyHTh1QgAAAFKoO3VCAADAt/o7dUIAAIAdTTx1QgAAQIOfPHVCAAAA6fE8dUIAAEAa6T11QgAAAIA7PnVCAADA5Y0+dUIAAIBL4D51QgAAwKpqQnVCAACAEL1CdUIAAEB2D0N1QgAAANxhQ3VCAADAQbRDdUIAAABzq0R1QgAAwNj9RHVCAACAPlBFdUIAAECkokV1QgAAAAr1RXVCAABAO+xGdUIAAAChPkd1QgAAwAaRR3VCAACAbONHdUIAAEDSNUh1QgAAgAMtSXVCAABAaX9JdUIAAADP0Ul1QgAAwDQkSnVCAACAmnZKdUIAAMDLbUt1QgAAgDHAS3VCAABAlxJMdUIAAAD9ZEx1QgAAwGK3THVCAAAAlK5NdUIAAMD5AE51QgAAgF9TTnVCAABAxaVOdUIAAAAr+E51QgAAgCQwUnVCAABAioJSdUIAAADw1FJ1QgAAwFUnU3VCAACAu3lTdUIAAMDscFR1QgAAgFLDVHVCAABAuBVVdUIAAAAeaFV1QgAAwIO6VXVCAAAAtbFWdUIAAMAaBFd1QgAAgIBWV3VCAABA5qhXdUIAAABM+1d1QgAAQH3yWHVCAAAA40RZdUIAAMBIl1l1QgAAgK7pWXVCAABAFDxadUIAAMANdF11QgAAgHPGXXVCAABA2RhedUIAAAA/a151QgAAwKS9XnVCAAAA1rRfdUIAAMA7B2B1QgAAgKFZYHVCAABAB6xgdUIAAABt/mB1QgAAQJ71YXVCAAAABEhidUIAAMBpmmJ1QgAAgM/sYnVCAABANT9jdUIAAIBmNmR1QgAAQMyIZHVCAAAAMttkdUIAAMCXLWV1QgAAgP1/ZXVCAABAv/hqdUIAAAAlS2t1QgAAwIqda3VCAACA8O9rdUIAAEBWQmx1QgAAgIc5bXVCAABA7YttdUIAAABT3m11QgAAwLgwbnVCAACAHoNudUIAAIC1zG91QgAAQBsfcHVCAAAAgXFwdUIAAMDmw3B1QgAAABi7cXVCAADAfQ1ydUIAAIDjX3J1QgAAQEmycnVCAAAArwRzdUIAAEDg+3N1QgAAAEZOdHVCAADAq6B0dUIAAIAR83R1QgAAQHdFdXVCAACAqDx2dUIAAEAOj3Z1QgAAAHThdnVCAADA2TN3dUIAAIA/hnd1QgAAwHB9eHVCAACA1s94dUIAAEA8Inl1QgAAAKJ0eXVCAADAB8d5dUIAAEAB/3x1QgAAAGdRfXVCAADAzKN9dUIAAIAy9n11QgAAQJhIfnVCAACAyT9/dUIAAEAvkn91QgAAAJXkf3VCAADA+jaAdUIAAIBgiYB1QgAAwJGAgXVCAACA99KBdUIAAEBdJYJ1QgAAAMN3gnVCAADAKMqCdUIAAABawYN1QgAAgCVmhHVCAABAi7iEdUIAAEAiAoZ1QgAAAIhUhnVCAADA7aaGdUIAAEC5S4d1QgAAgOpCiHVCAABAUJWIdUIAAAB7xIx1QgAAwOAWjXVCAACARmmNdUIAAEDaTpB1QgAAwAEalnVCAACAZ2yWdUIAAAAzEZd1QgAAAMpamHVCAADAL62YdUIAAED7UZl1QgAAgCxJmnVCAADAXUCbdUIAAIDDkpt1QgAAAL3KnnVCAADAIh2fdUIAAICIb591QgAAAFQUoHVCAABAhQuhdUIAAADrXaF1QgAAQBxVonVCAACATUyjdUIAAECznqN1QgAAABnxo3VCAADAfkOkdUIAAMAVjaV1QgAAgHvfpXVCAAAAR4SmdUIAAMCs1qZ1QgAAAN7Np3VCAADAQyCodUIAAECmDqp1QgAAAAxhqnVCAACAbk+sdUIAAEDUoax1QgAAwDaQrnVCAACAnOKudUIAAEACNa91QgAAAP/QsHVCAADAZCOxdUIAAIDKdbF1QgAAQDDIsXVCAAAAlhqydUIAAEDHEbN1Qg==\",\"dtype\":\"float64\",\"shape\":[293]},\"air_date_str\":[\"09/08/15\",\"09/09/15\",\"09/10/15\",\"09/11/15\",\"09/14/15\",\"09/15/15\",\"09/16/15\",\"09/17/15\",\"09/18/15\",\"09/21/15\",\"09/22/15\",\"09/23/15\",\"09/24/15\",\"09/25/15\",\"09/28/15\",\"09/29/15\",\"09/30/15\",\"10/01/15\",\"10/02/15\",\"10/05/15\",\"10/06/15\",\"10/07/15\",\"10/08/15\",\"10/09/15\",\"10/12/15\",\"10/13/15\",\"10/14/15\",\"10/15/15\",\"10/16/15\",\"10/26/15\",\"10/27/15\",\"10/28/15\",\"10/29/15\",\"10/30/15\",\"11/02/15\",\"11/03/15\",\"11/04/15\",\"11/05/15\",\"11/06/15\",\"11/09/15\",\"11/10/15\",\"11/11/15\",\"11/12/15\",\"11/13/15\",\"11/16/15\",\"11/17/15\",\"11/18/15\",\"11/19/15\",\"11/20/15\",\"11/23/15\",\"11/24/15\",\"11/25/15\",\"12/07/15\",\"12/08/15\",\"12/09/15\",\"12/10/15\",\"12/11/15\",\"12/14/15\",\"12/15/15\",\"12/16/15\",\"12/17/15\",\"12/18/15\",\"01/04/16\",\"01/05/16\",\"01/06/16\",\"01/07/16\",\"01/08/16\",\"01/11/16\",\"01/12/16\",\"01/13/16\",\"01/14/16\",\"01/15/16\",\"01/18/16\",\"01/19/16\",\"01/20/16\",\"01/21/16\",\"01/22/16\",\"01/25/16\",\"01/26/16\",\"01/27/16\",\"01/28/16\",\"02/01/16\",\"02/02/16\",\"02/03/16\",\"02/04/16\",\"02/05/16\",\"02/07/16\",\"02/08/16\",\"02/09/16\",\"02/10/16\",\"02/11/16\",\"02/15/16\",\"02/16/16\",\"02/17/16\",\"02/18/16\",\"02/19/16\",\"02/22/16\",\"02/23/16\",\"02/24/16\",\"02/25/16\",\"02/29/16\",\"03/01/16\",\"03/02/16\",\"03/03/16\",\"03/07/16\",\"03/08/16\",\"03/09/16\",\"03/10/16\",\"03/11/16\",\"03/14/16\",\"03/15/16\",\"03/16/16\",\"03/17/16\",\"03/28/16\",\"03/29/16\",\"03/30/16\",\"03/31/16\",\"04/01/16\",\"04/04/16\",\"04/05/16\",\"04/06/16\",\"04/07/16\",\"04/18/16\",\"04/19/16\",\"04/20/16\",\"04/21/16\",\"04/22/16\",\"04/25/16\",\"04/26/16\",\"04/27/16\",\"04/28/16\",\"04/29/16\",\"05/02/16\",\"05/03/16\",\"05/04/16\",\"05/05/16\",\"05/06/16\",\"05/09/16\",\"05/10/16\",\"05/11/16\",\"05/12/16\",\"05/13/16\",\"05/16/16\",\"05/17/16\",\"05/18/16\",\"05/19/16\",\"05/20/16\",\"05/23/16\",\"05/24/16\",\"05/25/16\",\"05/26/16\",\"05/27/16\",\"06/06/16\",\"06/07/16\",\"06/08/16\",\"06/09/16\",\"06/10/16\",\"06/13/16\",\"06/14/16\",\"06/15/16\",\"06/16/16\",\"06/17/16\",\"06/20/16\",\"06/21/16\",\"06/22/16\",\"06/23/16\",\"06/24/16\",\"06/27/16\",\"06/28/16\",\"06/29/16\",\"06/30/16\",\"07/01/16\",\"07/11/16\",\"07/12/16\",\"07/13/16\",\"07/14/16\",\"07/15/16\",\"07/18/16\",\"07/19/16\",\"07/20/16\",\"07/21/16\",\"07/22/16\",\"07/25/16\",\"07/26/16\",\"07/27/16\",\"07/28/16\",\"07/29/16\",\"08/01/16\",\"08/02/16\",\"08/03/16\",\"08/04/16\",\"08/05/16\",\"08/22/16\",\"08/23/16\",\"08/24/16\",\"08/25/16\",\"08/26/16\",\"08/29/16\",\"08/30/16\",\"08/31/16\",\"09/01/16\",\"09/02/16\",\"09/06/16\",\"09/07/16\",\"09/08/16\",\"09/09/16\",\"09/12/16\",\"09/13/16\",\"09/14/16\",\"09/15/16\",\"09/16/16\",\"09/19/16\",\"09/20/16\",\"09/21/16\",\"09/22/16\",\"09/23/16\",\"09/26/16\",\"09/27/16\",\"09/28/16\",\"09/29/16\",\"09/30/16\",\"10/03/16\",\"10/04/16\",\"10/05/16\",\"10/06/16\",\"10/07/16\",\"10/17/16\",\"10/18/16\",\"10/19/16\",\"10/20/16\",\"10/21/16\",\"10/24/16\",\"10/25/16\",\"10/26/16\",\"10/27/16\",\"10/28/16\",\"10/31/16\",\"11/01/16\",\"11/02/16\",\"11/03/16\",\"11/04/16\",\"11/07/16\",\"11/09/16\",\"11/10/16\",\"11/14/16\",\"11/15/16\",\"11/16/16\",\"11/18/16\",\"11/21/16\",\"11/22/16\",\"12/05/16\",\"12/06/16\",\"12/07/16\",\"12/16/16\",\"01/03/17\",\"01/04/17\",\"01/06/17\",\"01/10/17\",\"01/11/17\",\"01/13/17\",\"01/16/17\",\"01/19/17\",\"01/20/17\",\"01/30/17\",\"01/31/17\",\"02/01/17\",\"02/03/17\",\"02/06/17\",\"02/07/17\",\"02/10/17\",\"02/13/17\",\"02/14/17\",\"02/15/17\",\"02/16/17\",\"02/20/17\",\"02/21/17\",\"02/23/17\",\"02/24/17\",\"02/27/17\",\"02/28/17\",\"03/06/17\",\"03/07/17\",\"03/13/17\",\"03/14/17\",\"03/20/17\",\"03/21/17\",\"03/22/17\",\"03/27/17\",\"03/28/17\",\"03/29/17\",\"03/30/17\",\"03/31/17\",\"04/03/17\"],\"episode_number\":[1,2,3,4,5,6,7,8,9,10,11,12,13,14,15,16,17,18,19,20,21,22,23,24,25,26,27,28,29,30,31,32,33,34,35,36,37,38,39,40,41,42,43,44,45,46,47,48,49,50,51,52,53,54,55,56,57,58,59,60,61,62,63,64,65,66,67,68,69,70,71,72,73,74,75,76,77,78,79,80,81,82,83,84,85,86,87,88,89,90,91,92,93,94,95,96,97,98,99,100,101,102,103,104,105,106,107,108,109,110,111,112,113,114,115,116,117,118,119,120,121,122,123,124,125,126,127,128,129,130,131,132,133,134,135,136,137,138,139,140,141,142,143,144,145,146,147,148,149,150,151,152,153,154,155,156,157,158,159,160,161,162,163,164,165,166,167,168,169,170,171,172,173,174,175,176,177,178,179,180,181,182,183,184,185,186,187,188,189,190,191,192,193,194,195,196,197,198,199,200,201,202,1,2,3,4,5,6,7,8,9,10,11,12,13,14,15,16,17,18,19,20,21,22,23,24,25,26,27,28,29,30,31,32,33,34,35,36,37,38,39,40,41,42,43,44,45,47,48,49,54,55,56,63,69,70,72,74,75,77,78,81,82,83,84,85,87,88,89,92,93,94,95,96,98,99,101,102,103,104,108,109,113,114,116,117,118,119,120,121,122,123,124],\"index\":[0,1,2,3,4,5,6,7,8,9,10,11,12,13,14,15,16,17,18,19,20,21,22,23,24,25,26,27,28,29,30,31,32,33,34,35,36,37,38,39,40,41,42,43,44,45,46,47,48,49,50,51,52,53,54,55,56,57,58,59,60,61,62,63,64,65,66,67,68,69,70,71,72,73,74,75,76,77,78,79,80,81,82,83,84,85,86,87,88,89,90,91,92,93,94,95,96,97,98,99,100,101,102,103,104,105,106,107,108,109,110,111,112,113,114,115,116,117,118,119,120,121,122,123,124,125,126,127,128,129,130,131,132,133,134,135,136,137,138,139,140,141,142,143,144,145,146,147,148,149,150,151,152,153,154,155,156,157,158,159,160,161,162,163,164,165,166,167,168,169,170,171,172,173,174,175,176,177,178,179,180,181,182,183,184,185,186,187,188,189,190,191,192,193,194,195,196,197,198,199,200,201,202,203,204,205,206,207,208,209,210,211,212,213,214,215,216,217,218,219,220,221,222,223,224,225,226,227,228,229,230,231,232,233,234,235,236,237,238,239,240,241,242,243,244,245,246,248,249,250,255,256,257,264,270,271,273,275,276,278,279,282,283,284,285,286,288,289,290,293,294,295,296,297,299,300,302,303,304,305,309,310,314,315,317,318,319,320,321,322,323,324,325],\"rating\":{\"__ndarray__\":\"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\",\"dtype\":\"float64\",\"shape\":[293]},\"rating_count\":{\"__ndarray__\":\"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\",\"dtype\":\"float64\",\"shape\":[293]},\"title\":[\"George Clooney/Governor Jeb Bush/Mavis Staples & Friends\",\"Scarlett Johansson/Elon Musk/Kendrick Lamar\",\"Vice President Joe Biden/Travis Kalanick/Toby Keith\",\"Amy Schumer/Stephen King/Troubled Waters\",\"Emily Blunt/Justice Stephen Breyer/The Dead Weather\",\"Jake Gyllenhaal/Apple CEO Tim Cook/Run the Jewels & TV on the Radio\",\"Kevin Spacey/Carol Burnett/Abbi Jacobson & Ilana Glazer/Willie Nelson & John Mellencamp\",\"Trevor Noah/Ban Ki-Moon/Chris Stapleton\",\"Lupita Nyong'o/Sen. Bernie Sanders/Cast of \\\"An American in Paris\\\"\",\"Steph Curry/Sen. Ted Cruz/Don Henley\",\"Donald Trump/Ernest Moniz/Raury\",\"Hugh Jackman/Sen. Elizabeth Warren/Pearl Jam\",\"Andrew Sullivan/Maria Shriver/Jim Gaffigan/Archbishop Thomas Wenski\",\"Malala Yousafzai/Kerry Washington/The Arcs\",\"Michelle Obama/Mindy Kaling/John Legend\",\"Ellen Page/Jesse Eisenberg/Dominic Wilcox\",\"Elizabeth Gilbert/John Oliver/Evan Spiegel/Bill Withers/Ed Sheeran\",\"Secretary of State John Kerry/Claire Danes/PewDiePie\",\"Morgan Freeman/Ruth Wilson/Sean Murray\",\"John McCain/Yo-Yo Ma/Misty Copeland\",\"Bill Clinton/Billy Eichner/Florence and the Machine\",\"Gina Rodriguez/Ben Bernanke/Tame Impala\",\"Cate Blanchett/Airbnb CEO Brian Chesky\",\"James Corden/Shane Smith/Halsey\",\"Carey Mulligan/Elvis Costello/Darlene Love\",\"Sarah Silverman/Elijah Wood/The Legends of Zelda: Symphony of the Goddesses\",\"Jack Black/Nick Woodman/Michelle Dorrance\",\"Oprah Winfrey/Joseph Fink & Jeffrey Cranor/Judith Hill\",\"Jimmy Kimmel/\\\"Crimson Peak\\\" Cast/Beach House\",\"Sienna Miller/Melissa Benoist/Chance the Rapper\",\"Hillary Clinton/Anthony Bourdain/Carrie Brownstein/Lianne La Navas\",\"Julianna Margulies/Jonathan Franzen/Alabama Shakes\",\"Seth MacFarlane/Neil DeGrasse Tyson\",\"Charlie Rose/Stacy Schiff/Ghost/The Zombies\",\"Allison Janney/Colin Quinn/Margaret Cho\",\"Antonio Banderas/Reed Hastings/John Irving\",\"Daniel Craig/Elizabeth Gilbert/Dr. Eugenia Cheng\",\"Bryan Cranston/Karl Ove Knausgaard/Shamir\",\"Whoopi Goldberg/Gov. John Kasich/Glen Hansard\",\"Ethan Hawke/Sen. Claire McCaskill & Sen. Amy Klobuchar/Nathaniel Ratcliff & the Night Sweats\",\"Aziz Ansari/Shonda Rhimes/Bruce Campbell & Lucy Lawless\",\"Viola Davis/Brian Greene/George Ezra\",\"Jennifer Connelly/Judd Apatow/The Internet\",\"Mark Ruffalo/John Cleese/Micheal Flatley\",\"Capt. Florent Groberg/Bill Maher/Shepard Fairey/The Acro-Cats\",\"Julianne Moore/Burt Reynolds/Public Image Ltd./CeeLo Green\",\"Sharon Stone/Justin Theroux/James Taylor\",\"Jane Fonda/Andrew Lloyd Webber/Brandon Niederauer\",\"Michael Caine/Larry Wilmore/Boots/Vulfpeck\",\"Sylvester Stallone/Ted Koppel/My Morning Jacket\",\"Spike Lee/Andy Cohen/Carly Simon\",\"Gloria Estefan/Navy Seal Eric Greitens/Jake Wood/Chef Daniel Boulud\",\"Steve Carell/Jennifer Hudson\",\"Marion Cotillard/George Saunders/Joanna Newsom\",\"Cast of \\\"Downton Abbey\\\"/Adam McKay/Kurt Vile\",\"Bruce Willis/Michael Lewis/Lizzo\",\"Lin-Manuel Miranda/Ike Barinholtz/Sharon Jones & the Dap Kings\",\"Jennifer Lawrence/Doris Kearns Goodwin/Sleater-Kinney\",\"Quentin Tarantino/Jonathan Groff/Squeeze\",\"Robert De Niro/Daniel Gilbert/Henry Rollins\",\"Michael Moore/Samantha Power/Michael C. Hall\",\"Mandy Patinkin/Kayvon Beykpour/Leon Bridges\",\"Samuel L. Jackson/Olivia Hallisey/Foals\",\"John Krasinski/Killer Mike/George Church/Foals\",\"Jerry Seinfeld/Sen. Rand Paul/Andra Day\",\"Damian Lewis/America Ferrera/FloydLittle's Double Dutch Team\",\"Matthew Broderick/Sarah Parcak/Kacey Musgraves\",\"Jane Lynch/HUD Secretary Julian Castro/EL VY\",\"Saoirse Ronan/Jeremy Stoppelman/Laura Ricciardi & Moira Demos/James Bay\",\"Paul Giamatti/Guerilla Girls/J.B. Mauney\",\"Olivia Munn/T.J. Miller/Father John Misty\",\"Scott Kelly/Abby Wambach/Maria Bamford\",\"Patricia Heaton/Quincy Jones/DeRay Mckesson/Grace\",\"Charlie Day/Colin Hanks/Margo Price\",\"James Spader/Brandon Marshall/Sarah Koenig/Rev Run\",\"Christian Slater/Josh Radnor/Iggy Pop\",\"Steven Tyler/Gaby Hoffmann/Lapsley\",\"Donald Rumsfeld/Russell Westbrook/Anderson Paak & the Free Nationals\",\"Laurence Fishburne/Sarah Paulson/Woke\",\"Chris Pine/Danielle Brooks/Jonah Reider/Baauer\",\"Josh Brolin/John Dickerson/Erin Brockovich/Aubrie Sellers\",\"John Travolta & Courtney B. Vance/Amy Cuddy/John Moreland\",\"David Schwimmer/Pastor Joel Osteen/M. Ward\",\"Dr. Phil McGraw/Mark & Jay Duplass/Michael Eric Dyson/Anderson Paak & the Free Nationals\",\"Michael Strahan/Samantha Bee/Wilco\",\"Bobby Cannavale/Donny Deutsch/Charles Kelley\",\"Tina Fey & Margot Robbie/Will Ferrell/Megyn Kelly/Keegan-Michael Key & Jordan Peele\",\"Bill O'Reilly/Eddie George/Macklemore & Ryan Lewis\",\"Olivia Wilde/Christiane Amanpour\",\"Ben Stiller/Sen. Bernie Sanders/TAO: Seventeen Samurai\",\"Kelsey Grammer/Fred Armisen/Sarah McDaniel/Ty Segall & the Muggers\",\"Craig Ferguson/Hailey Clauson & Ashley Graham/Cory Booker\",\"Eva Longoria/Abbi Jacobson & Ilana Glazer/Lucinda Williams\",\"Kate Hudson/Governor John Kasich/Courtney Barnett\",\"T\\u00e9a Leoni/Amanda Peet/Triumph the Insult Comic Dog\",\"Chelsea Handler/Zosia Mamet/The Lumineers\",\"Casey Affleck/Richard Dreyfuss/Mavis Staples\",\"Debra Messing/Zachary Quinto/Violent Femmes\",\"Adrien Brody/Danai Gurira/Brian Greene\",\"Tim Daly/Krysten Ritter/Jason Isbell\",\"Spike Jonze/Jeffrey Dean Morgan/Jack Garratt\",\"Chrissy Teigen/Mike Birbiglia/Adam Savage\",\"Octavia Spencer/John Stamos, Bob Saget & Dave Coulier/Lucius\",\"Christopher Meloni/Edward Byers/Ray LaMontagne\",\"Will Arnett/Charles Barkley/Max Greenfield\",\"Helen Mirren/J.J. Abrams/DMA's\",\"Sally Field/Jerrod Carmichael/Esperanza Spalding\",\"Anna Kendrick/Loretta Lynch/Brian Fallon\",\"Jeff Daniels/Audra McDonald/Mary Elizabeth Winstead\",\"John Oliver/Jordan Spieth/New Order\",\"Steve Martin & Edie Brickell/Shirley MacLaine/Gustavo Dudamel/Los Angeles Philharmonic\",\"Theo James/Jussie Smollett/Laurie Anderson\",\"William H. Macy/Melissa Rauch/Isaac Mizrahi\",\"Tom Hiddleston/Laura Benanti/Frightened Rabbit\",\"Adam Driver/Rachel Bloom/Savages\",\"Eric Stonestreet/Jason Jones/Sen. Elizabeth Warren\",\"Sarah Paulson/Tatiana Maslany/Wynton Marsalis, Lil Buck & Jared Grimes\",\"Steve Buscemi/Benjamin Walker/Cast of Broadway's \\\"American Psycho\\\"\",\"Matthew Perry/Nick Offerman/Explosions in the Sky\",\"Melissa McCarthy & Ben Falcone/Arianna Huffington/Babymetal\",\"Anna Kendrick & Sam Rockwell/David Duchovny/Autolux\",\"Mindy Kaling/Tituss Burgess/Ken Burns\",\"Hillary Clinton/Jesse Tyler Ferguson/Katharine McPhee/Sturgill Simpson\",\"Kevin Spacey/Thomas Middleditch/The Flaming Lips\",\"Dennis Quaid/Matt Walsh/Charles Bradley\",\"Tom Hanks/Leslie Odom, Jr./The Strumbellas/Roy Haynes\",\"Julia Louis-Dreyfus/Nikolaj Coster-Waldau/Sam Morril\",\"Michelle Williams/Eddie Huang/Bob Mould\",\"J. K. Simmons/Jane Krakowski/Chris Wallace\",\"Susan Sarandon/David Tennant/Catfish & the Bottlemen\",\"Julianna Margulies, Christine Baranski & Matt Czuchry/Hank Azaria/Anderson Cooper\",\"Anderson Cooper/Mark Feuerstein/Gwen Stefani\",\"Bill O'Reilly/Morris Chestnut/Deerhunter\",\"Dakota Johnson/Sebastian Stan/Lukas Nelson & Promise of the Real\",\"Anthony Mackie/Rob Reiner/Maxwell\",\"Judy Sheindlin/Zac Posen/W. Kamau Bell\",\"Lily Tomlin/Kumail Nanjiani/Ryan Hamilton\",\"Kaley Cuoco/Dan Savage/The National\",\"Chloe Grace Moretz/Katie Couric/Brian Green/Charlamagne Tha God\",\"Kate Beckinsale/B.J. Novak/Desiigner\",\"Ryan Gosling & Russell Crowe/Jessie Mueller/Animal Collective\",\"Matt Bomer/Zach Woods/Nick Griffin\",\"Jason Sudeikis/Michael Weatherly/Megyn Kelly\",\"Anthony Anderson/Eugene Levy & Catherine O'Hara/Coldplay\",\"Josh Gad/Gillian Jacobs/Band of Horses\",\"Rose Byrne/Bobby Flay/Weird Al Yankovic\",\"Seth Rogen/Krysten Ritter/Wolf Parade\",\"Emilia Clarke/Shiri Appleby/Cynthia Erivo\",\"Sean Hayes/Brooklyn Decker/Lewis Black\",\"James McAvoy/Nick Swardson/Physicist Brian Greene\",\"Lizzy Caplan/Neil Young/Mike Epps\",\"Rashida Jones/Daveed Diggs/Marina Franklin/The Struts\",\"James Corden/Scott Speedman/Death Cab for Cutie\",\"Jude Law/Norman Reedus/Hundred Waters, Skrillex & Chance the Rapper\",\"Laura Linney/John Leguizamo/Gary Clark Jr./Paula Robison\",\"Patrick Wilson/Gayle King/Gary Johnson & William Weld\",\"David Duchovny/Aaron Tveit/Alexander Koblikov\",\"Bill O'Reilly/Anna Chlumsky/Aesop Rock\",\"Daniel Radcliffe/George Lopez/Hinds\",\"Liam Hemsworth/Ana Gasteyer/Paul Mecurio\",\"Demi Lovato & Nick Jonas/Amy Ryan\",\"Aaron Paul/Michael Ian Black/Silversun Pickups\",\"Alexander Skarsgard/Natasha Leggero/Ziggy Marley\",\"Aubrey Plaza/Hugh Dancy/Andrew Zimmern\",\"Uzo Aduba/Neil DeGrasse Tyson/Adia Victoria\",\"Sen. Bernie Sanders/Paul Dano/Rascal Flatts\",\"Kevin Hart/Taylor Schilling/RuPaul\",\"Kevin Love/Jenny Slate/Dierks Bentley\",\"Tom Brokaw/Sara and Erin Foster/Bibi Bourelly\",\"Samuel L. Jackson/Julie Klausner/Schoolboy Q\",\"Ellie Kemper/Patrick Fugit/We Are Scientists\",\"Zachary Quinto/Natasha Lyonne/2 Chainz\",\"Bryan Cranston/Busy Philipps/Hollywood Vampires\",\"Nicholas Hoult/John Turturro/Bret Baier\",\"Benjamin Bratt/Rob Corddry/The Shelters\",\"Bill Maher/Michael K. Williams/Parquet Courts\",\"Charlie Rose, Gayle King & Norah O'Donnell/DeRay McKesson/Bonnie McFarlane\",\"Zoe Saldana/Jennifer Saunders/Ron Suskind\",\"Keegan-Michael Key/Kathryn Hahn/Jenny Lewis & NAF\",\"Tony Goldwyn/Mark Cuban/Lewis Black/Cory Kahaney/Wyclef Jean\",\"RNC/Sen. Elizabeth Warren/Billy Eichner/Cory Kahaney\",\"Jennifer Saunders/Cory Kahaney\",\"Allison Janney/Anthony Weiner/Ryan Adams\",\"DNC/Jeff Daniels/Bassem Youssef/Aurora\",\"DNC/John Oliver/Jai Courtney/Charlamagne Tha God/DMC\",\"DNC/Abbi Jacobson & Ilana Glazer/Doris Kearns Goodwin/Eric Andre\",\"The 2016 Democratic National Convention - A Look Back\",\"Viola Davis/Simon Helberg/Declan McKenna\",\"Will Smith/Logan Lerman/Tony Bennett\",\"John Cena/Scott Eastwood/Aaron Neville\",\"Jamie Dornan/Javier Munoz/Malcolm Gladwell/The O'Jays\",\"Diane Kruger/Mark Normand/Ibtihaj Muhammad\",\"Amy Schumer/Omari Hardwick/Michaela Watkins\",\"Rami Malek/Tika Sumpter & Parker Sawyers/Diana Gordon\",\"Anderson Cooper/Edgar Ramirez/Kip Moore\",\"Sen. Tim Kaine/Tony Hale/Car Seat Headrest\",\"Rachel Weisz/Kevin Smith/Spike Feresten\",\"Riz Ahmed/Pedro Pascal/Angel Olsen\",\"John Krasinski/Adam Brody/St. Paul & the Broken Bones\",\"Christian Slater/Rep. John Lewis/Chris Geere\",\"Larry Wilmore/Chris Noth/Sampha\",\"Anna Gunn/John Dickerson/Simone Giertz\",\"Harry Connick Jr./Ava DuVernay/Grouplove\",\"Whoopi Goldberg/Regina Hall/Sully Sullenberger\",\"Jessica Alba/Bradley Whitford/George Takei\",\"Tituss Burgess/Jeff Ross/Adam Richman\",\"Dr. Phil McGraw/Alan Cumming/Hamilton Leithauser & Rostam\",\"Joseph Gordon-Levitt/Millie Bobby Brown/The Head and the Heart\",\"Trevor Noah/Allen Iverson/Rachel Maddow\",\"Tracee Ellis Ross/Andrew Rannells/Mac Miller & Anderson.Paak\",\"John Slattery/Oliver Stone/Jon Fisch\",\"Chris Pratt/Scott Bakula/Frederik the Great\",\"Michelle Obama/America Ferrera\",\"Ethan Hawke/Tim Meadows/Wilco/Nile Rodgers\",\"Anthony Anderson/Mark Consuelos/The Kills\",\"Bruce Springsteen/Emma Willman\",\"Rob Lowe/Kal Penn/Emma Willmann\",\"Sean Penn/Sutton Foster/Regina Spektor\",\"Lupita Nyong'o/Donnie Wahlberg/John Prine\",\"Morgan Freeman/Judith Light/Jimmy Eat World\",\"Samantha Bee/Abby Elliott/Asa Butterfield\",\"Mindy Kaling/Gary Owen/Sum 41\",\"John Leguizamo/Cheri Oteri/Paul F. Tompkins/Melissa Etheridge\",\"Armie Hammer/Lindsey Vonn/Gustavo Dudamel/Simon Bolivar Symphony Orchestra\",\"Emily Blunt/Gael Garcia Bernal/Phantogram\",\"Diane Lane/Aja Naomi King/Alingon Mitra\",\"President Barack Obama/Bill O'Reilly/Randall Park/Bob Weir\",\"Nick Offerman/Wayne Gretzky/Morgan Spurlock/Joseph\",\"Hugh Laurie/Paul Reiser/Nate Silver\",\"Tiger Woods/Elijah Wood/Jorge Ramos\",\"Matt LeBlanc/Del. Eleanor Holmes Norton/Wyclef Jean\",\"Tom Hanks/Adam Conover\",\"Will Forte/Dermot Mulroney/Wyatt Cenac/Mitski\",\"Joel McHale/Abbi Jacobson/Jon Glaser\",\"Mary-Louise Parker/Pusha T/The Record Company\",\"Drew Carey/Claire Foy & Matt Smith/Sebastian Maniscalco/Aimee Mann\",\"Ruth Wilson/J.B. Smoove/Dalen Spratt, Juwan Mass & Marcus Harvey\",\"Mel Gibson & Luke Bracey/Tegan & Sara\",\"Michael Strahan/Nick Kroll/Aaron Lewis\",\"Aaron Eckhart/Tig Notaro/Ron Suskind\",\"Viggo Mortensen/Patton Oswalt/Maz Jobrani\",\"Don Cheadle/Stevie Wonder/Katherine Waterston\",\"Miles Teller/Neil DeGrasse Tyson/Triumph, the Insult Comic Dog\",\"Sting/Thandie Newton\",\"Eddie Redmayne/Bernie Sanders/Alton Brown/Chris Thile\",\"Anna Kendrick/Mahershala Ali/Chris Gethard\",\"Marion Cotillard/Dev Patel/Dwight Yoakam\",\"William H. Macy/Colin Quinn/Drive-By Truckers\",\"Michael Weatherly/Carrie Fisher/Pretenders\",\"James Marsden/Jimmie Johnson/John Waters\",\"Jason Bateman/Padma Lakshmi/Michael Lewis\",\"Joe Biden/DJ Khaled\",\"Sigourney Weaver/Andy Cohen/Pilobolus Dance Theater\",\"Liam Neeson/Shepard Smith/Jon Batiste\",\"Oprah Winfrey/Pretty Yende\",\"Kate Beckinsale/Chris Messina/Jen Kirkman\",\"Charlie Rose/Hayden Panettiere/Jack Maxwell\",\"Andrew Garfield/Erin Andrews/Cage the Elephant\",\"Jude Law/Gabrielle Union/Thomas L. Friedman\",\"Cuba Gooding Jr./Rupert Friend/Gary Gulman\",\"Sarah Paulson/Corey Stoll/Nick Grant & Watch the Duck\",\"Johnny Galecki/Chris Matthews/Bash & Pop\",\"Jim Gaffigan/Cristela Alonzo/The Avett Brothers\",\"Leslie Mann/Lewis Black/Dan Levy\",\"Josh Groban/Rachael Ray/Japandroids\",\"Ricky Gervais/Christina Ricci/Jain\",\"Priyanka Chopra/Thomas Sadoski/Pat Brown\",\"Paul Giamatti/Wendy Williams/Highly Suspect\",\"John Oliver/Isabelle Huppert/The Avett Brothers\",\"Will Arnett/Pete Holmes/Paul Mecurio\",\"Shailene Woodley/Laverne Cox/Rick & Marty Lagina\",\"Christine Baranski/Hans Zimmer\",\"Bob Odenkirk/Tatiana Maslany/George Saunders\",\"Sally Field/Maggie Siff/Lady Antebellum\",\"Uma Thurman/Jason Jones/Alison Krauss\",\"Joe Scarborough/Kate Upton/Yvette Nicole Brown\",\"Aubrey Plaza/Bradley Whitford/Lupe Fiasco\",\"Allison Williams/Cush Jumbo/Carmen Lynch\",\"Jon Stewart/Connie Britton/Zoey Deutch/Lori McKenna\",\"Lisa Kudrow/Josh Earnest/Tony Rock\",\"Anderson Cooper/Judd Apatow/Jidenna\",\"Kevin Kline/Jerrod Carmichael/Michael Hayden\",\"Ewan McGregor/Finn Wittrock/The Shins\",\"Neil DeGrasse Tyson/Rick Ross\",\"Bryan Cranston/Audra McDonald/Greer Barnes\",\"Ryan Reynolds/Josh Lucas/Andy Daly/Green Day\",\"Glenn Close/Michael McKean/H. Jon Benjamin\",\"Lily Tomlin & Jane Fonda/Jay Chandrasekhar/Aimee Mann\",\"Hank Azaria/Kate Walsh/Circus 1903\",\"Emma Roberts/Ken Jeong/Luke Bryan & Dierks Bentley\",\"Marisa Tomei/Hugh Dancy/Broken Social Scene\",\"Susan Sarandon/Joey McIntyre/Robert Klein\",\"Jason Sudeikis/Jennifer Esposito/Joey Bada$$\"]}},\"id\":\"3ae0ee63-626f-4bec-ab14-6dac6b29b035\",\"type\":\"ColumnDataSource\"},{\"attributes\":{\"callback\":null},\"id\":\"63813b78-e33b-4ccb-849f-8ddfe1c33a5a\",\"type\":\"DataRange1d\"},{\"attributes\":{\"plot\":{\"id\":\"ec12c878-aab4-4a08-b5a8-c5a591182c31\",\"subtype\":\"Figure\",\"type\":\"Plot\"},\"ticker\":{\"id\":\"2bfb7468-5bbc-47a1-a721-4b0f519e2920\",\"type\":\"DatetimeTicker\"}},\"id\":\"2516648b-809d-431f-ab47-3501252c1749\",\"type\":\"Grid\"},{\"attributes\":{\"fill_alpha\":{\"value\":0.1},\"fill_color\":{\"value\":\"#1f77b4\"},\"line_alpha\":{\"value\":0.1},\"line_color\":{\"value\":\"#1f77b4\"},\"line_width\":{\"value\":2},\"size\":{\"units\":\"screen\",\"value\":5},\"x\":{\"field\":\"air_date\"},\"y\":{\"field\":\"rating_count\"}},\"id\":\"a4df41aa-b34b-4219-a2fb-ec9403077cad\",\"type\":\"Circle\"},{\"attributes\":{},\"id\":\"23707bf3-dd37-4781-84b7-208af150a9c3\",\"type\":\"BasicTicker\"}],\"root_ids\":[\"ec12c878-aab4-4a08-b5a8-c5a591182c31\"]},\"title\":\"Bokeh Application\",\"version\":\"0.12.5\"}};\n",
       "            var render_items = [{\"docid\":\"a58314aa-f70d-4768-acd9-ce7daf704ee7\",\"elementid\":\"960325f9-f86a-4c4e-9566-0f2f5177a3b8\",\"modelid\":\"ec12c878-aab4-4a08-b5a8-c5a591182c31\"}];\n",
       "            \n",
       "            Bokeh.embed.embed_items(docs_json, render_items);\n",
       "          };\n",
       "          if (document.readyState != \"loading\") fn();\n",
       "          else document.addEventListener(\"DOMContentLoaded\", fn);\n",
       "        })();\n",
       "      },\n",
       "      function(Bokeh) {\n",
       "      }\n",
       "    ];\n",
       "  \n",
       "    function run_inline_js() {\n",
       "      \n",
       "      if ((window.Bokeh !== undefined) || (force === true)) {\n",
       "        for (var i = 0; i < inline_js.length; i++) {\n",
       "          inline_js[i](window.Bokeh);\n",
       "        }if (force === true) {\n",
       "          display_loaded();\n",
       "        }} else if (Date.now() < window._bokeh_timeout) {\n",
       "        setTimeout(run_inline_js, 100);\n",
       "      } else if (!window._bokeh_failed_load) {\n",
       "        console.log(\"Bokeh: BokehJS failed to load within specified timeout.\");\n",
       "        window._bokeh_failed_load = true;\n",
       "      } else if (force !== true) {\n",
       "        var cell = $(document.getElementById(\"960325f9-f86a-4c4e-9566-0f2f5177a3b8\")).parents('.cell').data().cell;\n",
       "        cell.output_area.append_execute_result(NB_LOAD_WARNING)\n",
       "      }\n",
       "  \n",
       "    }\n",
       "  \n",
       "    if (window._bokeh_is_loading === 0) {\n",
       "      console.log(\"Bokeh: BokehJS loaded, going straight to plotting\");\n",
       "      run_inline_js();\n",
       "    } else {\n",
       "      load_libs(js_urls, function() {\n",
       "        console.log(\"Bokeh: BokehJS plotting callback run at\", now());\n",
       "        run_inline_js();\n",
       "      });\n",
       "    }\n",
       "  }(this));\n",
       "</script>"
      ]
     },
     "metadata": {},
     "output_type": "display_data"
    }
   ],
   "source": [
    "p = plot_interactive_timeseries(x='air_date', y='rating_count', data=episodes, \n",
    "                                title=\"Number of Ratings per Episode\",\n",
    "                                hover_cols=hover_cols)\n",
    "show(p)"
   ]
  },
  {
   "cell_type": "markdown",
   "metadata": {},
   "source": [
    "## Ratings vs Rating Count"
   ]
  },
  {
   "cell_type": "code",
   "execution_count": 8,
   "metadata": {},
   "outputs": [
    {
     "data": {
      "text/plain": [
       "<matplotlib.axes._subplots.AxesSubplot at 0x1158fbb70>"
      ]
     },
     "execution_count": 8,
     "metadata": {},
     "output_type": "execute_result"
    },
    {
     "data": {
      "image/png": "[encoded data removed]",
      "text/plain": [
       "<matplotlib.figure.Figure at 0x11582d828>"
      ]
     },
     "metadata": {},
     "output_type": "display_data"
    }
   ],
   "source": [
    "episodes.plot(kind='scatter', x='rating', y='rating_count')"
   ]
  },
  {
   "cell_type": "markdown",
   "metadata": {},
   "source": [
    "## Sentiment Analysis"
   ]
  },
  {
   "cell_type": "code",
   "execution_count": 9,
   "metadata": {
    "scrolled": false
   },
   "outputs": [],
   "source": [
    "# rows = []\n",
    "# for index, row in episodes.iterrows():\n",
    "#     if pd.isnull(row.text): continue\n",
    "#     blob = TextBlob(row.text)\n",
    "#     sentiment = blob.sentiment\n",
    "#     row = {\"episode_number\": row.episode_number, \"polarity\": sentiment.polarity, \"subjectivity\": sentiment.subjectivity}\n",
    "#     rows.append(row)\n",
    "\n",
    "# sentiment = pd.DataFrame(rows).set_index('episode_number')\n",
    "# episodes = pd.concat([episodes.set_index('episode_number'), sentiment], axis=1).reset_index()\n",
    "# episodes[['episode_number', 'air_date', 'polarity', 'subjectivity', 'rating', 'rating_count']].head()"
   ]
  },
  {
   "cell_type": "code",
   "execution_count": 10,
   "metadata": {},
   "outputs": [],
   "source": [
    "# episodes.set_index('air_date').polarity.plot(style='.')\n",
    "# episodes.set_index('air_date').subjectivity.plot(style='.')\n",
    "# plt.legend()"
   ]
  },
  {
   "cell_type": "code",
   "execution_count": 11,
   "metadata": {},
   "outputs": [],
   "source": [
    "# mod = smf.ols(formula='rating ~ subjectivity + polarity', data=episodes)\n",
    "# res = mod.fit()\n",
    "# res.summary()"
   ]
  },
  {
   "cell_type": "markdown",
   "metadata": {},
   "source": [
    "## Subtitles of Most Recent Episodes"
   ]
  },
  {
   "cell_type": "code",
   "execution_count": 12,
   "metadata": {
    "scrolled": false
   },
   "outputs": [],
   "source": [
    "# for i, row in episodes.tail(5).iterrows():\n",
    "#     if pd.isnull(row.text): continue\n",
    "#     printb(row.episode_number, row.title)\n",
    "#     print(row.text[:800] + '...')\n",
    "#     print(\"\\n----------------------------------\\n\")"
   ]
  },
  {
   "cell_type": "code",
   "execution_count": null,
   "metadata": {
    "collapsed": true
   },
   "outputs": [],
   "source": []
  }
 ],
 "metadata": {
  "kernelspec": {
   "display_name": "Python 3",
   "language": "python",
   "name": "python3"
  },
  "language_info": {
   "codemirror_mode": {
    "name": "ipython",
    "version": 3
   },
   "file_extension": ".py",
   "mimetype": "text/x-python",
   "name": "python",
   "nbconvert_exporter": "python",
   "pygments_lexer": "ipython3",
   "version": "3.6.1"
  }
 },
 "nbformat": 4,
 "nbformat_minor": 1
}
