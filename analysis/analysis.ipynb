{
 "cells": [
  {
   "cell_type": "markdown",
   "metadata": {},
   "source": [
    "# The Late Show with Stephen Colbert Analysis"
   ]
  },
  {
   "cell_type": "markdown",
   "metadata": {},
   "source": [
    "## Standard Imports"
   ]
  },
  {
   "cell_type": "code",
   "execution_count": 1,
   "metadata": {
    "collapsed": false
   },
   "outputs": [
    {
     "data": {
      "text/html": []
     },
     "metadata": {},
     "output_type": "display_data"
    },
    {
     "data": {
      "application/javascript": [
       "\n",
       "(function(global) {\n",
       "  function now() {\n",
       "    return new Date();\n",
       "  }\n",
       "\n",
       "  if (typeof (window._bokeh_onload_callbacks) === \"undefined\") {\n",
       "    window._bokeh_onload_callbacks = [];\n",
       "  }\n",
       "\n",
       "  function run_callbacks() {\n",
       "    window._bokeh_onload_callbacks.forEach(function(callback) { callback() });\n",
       "    delete window._bokeh_onload_callbacks\n",
       "    console.info(\"Bokeh: all callbacks have finished\");\n",
       "  }\n",
       "\n",
       "  function load_libs(js_urls, callback) {\n",
       "    window._bokeh_onload_callbacks.push(callback);\n",
       "    if (window._bokeh_is_loading > 0) {\n",
       "      console.log(\"Bokeh: BokehJS is being loaded, scheduling callback at\", now());\n",
       "      return null;\n",
       "    }\n",
       "    if (js_urls == null || js_urls.length === 0) {\n",
       "      run_callbacks();\n",
       "      return null;\n",
       "    }\n",
       "    console.log(\"Bokeh: BokehJS not loaded, scheduling load and callback at\", now());\n",
       "    window._bokeh_is_loading = js_urls.length;\n",
       "    for (var i = 0; i < js_urls.length; i++) {\n",
       "      var url = js_urls[i];\n",
       "      var s = document.createElement('script');\n",
       "      s.src = url;\n",
       "      s.async = false;\n",
       "      s.onreadystatechange = s.onload = function() {\n",
       "        window._bokeh_is_loading--;\n",
       "        if (window._bokeh_is_loading === 0) {\n",
       "          console.log(\"Bokeh: all BokehJS libraries loaded\");\n",
       "          run_callbacks()\n",
       "        }\n",
       "      };\n",
       "      s.onerror = function() {\n",
       "        console.warn(\"failed to load library \" + url);\n",
       "      };\n",
       "      console.log(\"Bokeh: injecting script tag for BokehJS library: \", url);\n",
       "      document.getElementsByTagName(\"head\")[0].appendChild(s);\n",
       "    }\n",
       "  };\n",
       "\n",
       "  var js_urls = ['https://cdn.pydata.org/bokeh/release/bokeh-0.11.1.min.js', 'https://cdn.pydata.org/bokeh/release/bokeh-widgets-0.11.1.min.js', 'https://cdn.pydata.org/bokeh/release/bokeh-compiler-0.11.1.min.js'];\n",
       "\n",
       "  var inline_js = [\n",
       "    function(Bokeh) {\n",
       "      Bokeh.set_log_level(\"info\");\n",
       "    },\n",
       "    \n",
       "    function(Bokeh) {\n",
       "      Bokeh.$(\"#5718e7bc-f971-4aac-82ed-b52d50449f8f\").text(\"BokehJS successfully loaded\");\n",
       "    },\n",
       "    function(Bokeh) {\n",
       "      console.log(\"Bokeh: injecting CSS: https://cdn.pydata.org/bokeh/release/bokeh-0.11.1.min.css\");\n",
       "      Bokeh.embed.inject_css(\"https://cdn.pydata.org/bokeh/release/bokeh-0.11.1.min.css\");\n",
       "      console.log(\"Bokeh: injecting CSS: https://cdn.pydata.org/bokeh/release/bokeh-widgets-0.11.1.min.css\");\n",
       "      Bokeh.embed.inject_css(\"https://cdn.pydata.org/bokeh/release/bokeh-widgets-0.11.1.min.css\");\n",
       "    }\n",
       "  ];\n",
       "\n",
       "  function run_inline_js() {\n",
       "    for (var i = 0; i < inline_js.length; i++) {\n",
       "      inline_js[i](window.Bokeh);\n",
       "    }\n",
       "  }\n",
       "\n",
       "  if (window._bokeh_is_loading === 0) {\n",
       "    console.log(\"Bokeh: BokehJS loaded, going straight to plotting\");\n",
       "    run_inline_js();\n",
       "  } else {\n",
       "    load_libs(js_urls, function() {\n",
       "      console.log(\"Bokeh: BokehJS plotting callback run at\", now());\n",
       "      run_inline_js();\n",
       "    });\n",
       "  }\n",
       "}(this));"
      ]
     },
     "metadata": {},
     "output_type": "display_data"
    }
   ],
   "source": [
    "%matplotlib inline\n",
    "from matplotlib import pyplot as plt\n",
    "\n",
    "import pandas as pd\n",
    "import seaborn as sns\n",
    "from textblob import TextBlob\n",
    "import statsmodels.formula.api as smf\n",
    "\n",
    "plt.rcParams['figure.figsize'] = (20,6)\n",
    "\n",
    "from bokeh.plotting import output_notebook, show\n",
    "output_notebook(hide_banner=True)\n",
    "\n",
    "from IPython.display import display, HTML\n",
    "def printb(*args):\n",
    "    s = \" \".join([str(x) for x in args])\n",
    "    display(HTML('<strong>%s</strong>' % s))\n",
    "\n",
    "from analysis import create_df, plot_interactive_timeseries"
   ]
  },
  {
   "cell_type": "markdown",
   "metadata": {},
   "source": [
    "## Load Data"
   ]
  },
  {
   "cell_type": "code",
   "execution_count": 2,
   "metadata": {
    "collapsed": false
   },
   "outputs": [
    {
     "data": {
      "text/html": [
       "<div>\n",
       "<table border=\"1\" class=\"dataframe\">\n",
       "  <thead>\n",
       "    <tr style=\"text-align: right;\">\n",
       "      <th></th>\n",
       "      <th>number</th>\n",
       "      <th>rating</th>\n",
       "      <th>rating_count</th>\n",
       "      <th>airdate</th>\n",
       "      <th>title</th>\n",
       "      <th>description</th>\n",
       "      <th>text</th>\n",
       "    </tr>\n",
       "  </thead>\n",
       "  <tbody>\n",
       "    <tr>\n",
       "      <th>0</th>\n",
       "      <td>1</td>\n",
       "      <td>7.5</td>\n",
       "      <td>97.0</td>\n",
       "      <td>2015-09-08</td>\n",
       "      <td>George Clooney/Governor Jeb Bush/Mavis Staples...</td>\n",
       "      <td>Stephen Colbert succeeds David Letterman as \"L...</td>\n",
       "      <td>OH, SAY CAN YOU SEE BY THE DAWN'S EARLY LIGHT ...</td>\n",
       "    </tr>\n",
       "    <tr>\n",
       "      <th>1</th>\n",
       "      <td>2</td>\n",
       "      <td>7.5</td>\n",
       "      <td>58.0</td>\n",
       "      <td>2015-09-09</td>\n",
       "      <td>Scarlett Johansson/Elon Musk/Kendrick Lamar</td>\n",
       "      <td>Scarlett Johansson (Avengers: Age of Ultron (2...</td>\n",
       "      <td>♪ ♪ ♪  Captioning sponsored by CBS\\nStephen: W...</td>\n",
       "    </tr>\n",
       "    <tr>\n",
       "      <th>2</th>\n",
       "      <td>3</td>\n",
       "      <td>8.6</td>\n",
       "      <td>66.0</td>\n",
       "      <td>2015-09-10</td>\n",
       "      <td>Vice President Joe Biden/Travis Kalanick/Toby ...</td>\n",
       "      <td>Vice President Joe Biden; Uber CEO Travis Kala...</td>\n",
       "      <td>(CHEERS AND APPLAUSE)\\nStephen: HEY! (CHEERS A...</td>\n",
       "    </tr>\n",
       "    <tr>\n",
       "      <th>3</th>\n",
       "      <td>4</td>\n",
       "      <td>7.4</td>\n",
       "      <td>42.0</td>\n",
       "      <td>2015-09-11</td>\n",
       "      <td>Amy Schumer/Stephen King/Troubled Waters</td>\n",
       "      <td>Amy Schumer (Trainwreck (2015)); author Stephe...</td>\n",
       "      <td>COME ON! COME ON! ♪ ♪ ♪ ( CHEERS AND APPLAUSE ...</td>\n",
       "    </tr>\n",
       "    <tr>\n",
       "      <th>4</th>\n",
       "      <td>5</td>\n",
       "      <td>7.9</td>\n",
       "      <td>36.0</td>\n",
       "      <td>2015-09-14</td>\n",
       "      <td>Emily Blunt/Justice Stephen Breyer/The Dead We...</td>\n",
       "      <td>Actress Emily Blunt (Sicario (2015)); Supreme ...</td>\n",
       "      <td>(  BAND PLAYING  \"LATE SHOW\" THEME  ) (  CHEER...</td>\n",
       "    </tr>\n",
       "  </tbody>\n",
       "</table>\n",
       "</div>"
      ],
      "text/plain": [
       "   number  rating  rating_count    airdate  \\\n",
       "0       1     7.5          97.0 2015-09-08   \n",
       "1       2     7.5          58.0 2015-09-09   \n",
       "2       3     8.6          66.0 2015-09-10   \n",
       "3       4     7.4          42.0 2015-09-11   \n",
       "4       5     7.9          36.0 2015-09-14   \n",
       "\n",
       "                                               title  \\\n",
       "0  George Clooney/Governor Jeb Bush/Mavis Staples...   \n",
       "1        Scarlett Johansson/Elon Musk/Kendrick Lamar   \n",
       "2  Vice President Joe Biden/Travis Kalanick/Toby ...   \n",
       "3           Amy Schumer/Stephen King/Troubled Waters   \n",
       "4  Emily Blunt/Justice Stephen Breyer/The Dead We...   \n",
       "\n",
       "                                         description  \\\n",
       "0  Stephen Colbert succeeds David Letterman as \"L...   \n",
       "1  Scarlett Johansson (Avengers: Age of Ultron (2...   \n",
       "2  Vice President Joe Biden; Uber CEO Travis Kala...   \n",
       "3  Amy Schumer (Trainwreck (2015)); author Stephe...   \n",
       "4  Actress Emily Blunt (Sicario (2015)); Supreme ...   \n",
       "\n",
       "                                                text  \n",
       "0  OH, SAY CAN YOU SEE BY THE DAWN'S EARLY LIGHT ...  \n",
       "1  ♪ ♪ ♪  Captioning sponsored by CBS\\nStephen: W...  \n",
       "2  (CHEERS AND APPLAUSE)\\nStephen: HEY! (CHEERS A...  \n",
       "3  COME ON! COME ON! ♪ ♪ ♪ ( CHEERS AND APPLAUSE ...  \n",
       "4  (  BAND PLAYING  \"LATE SHOW\" THEME  ) (  CHEER...  "
      ]
     },
     "execution_count": 2,
     "metadata": {},
     "output_type": "execute_result"
    }
   ],
   "source": [
    "episodes = create_df()\n",
    "episodes.head()"
   ]
  },
  {
   "cell_type": "markdown",
   "metadata": {},
   "source": [
    "## Distribution of Rating and Rating Count"
   ]
  },
  {
   "cell_type": "markdown",
   "metadata": {},
   "source": [
    "Number of episodes with null rating (< 5 ratings)"
   ]
  },
  {
   "cell_type": "code",
   "execution_count": 3,
   "metadata": {
    "collapsed": false
   },
   "outputs": [
    {
     "data": {
      "text/plain": [
       "15"
      ]
     },
     "execution_count": 3,
     "metadata": {},
     "output_type": "execute_result"
    }
   ],
   "source": [
    "episodes.rating.isnull().sum()"
   ]
  },
  {
   "cell_type": "code",
   "execution_count": 4,
   "metadata": {
    "collapsed": false
   },
   "outputs": [
    {
     "data": {
      "text/html": [
       "<div>\n",
       "<table border=\"1\" class=\"dataframe\">\n",
       "  <thead>\n",
       "    <tr style=\"text-align: right;\">\n",
       "      <th></th>\n",
       "      <th>count</th>\n",
       "      <th>mean</th>\n",
       "      <th>std</th>\n",
       "      <th>min</th>\n",
       "      <th>25%</th>\n",
       "      <th>50%</th>\n",
       "      <th>75%</th>\n",
       "      <th>max</th>\n",
       "    </tr>\n",
       "  </thead>\n",
       "  <tbody>\n",
       "    <tr>\n",
       "      <th>rating</th>\n",
       "      <td>124.0</td>\n",
       "      <td>7.565323</td>\n",
       "      <td>0.565260</td>\n",
       "      <td>5.9</td>\n",
       "      <td>7.2</td>\n",
       "      <td>7.7</td>\n",
       "      <td>8.0</td>\n",
       "      <td>9.0</td>\n",
       "    </tr>\n",
       "    <tr>\n",
       "      <th>rating_count</th>\n",
       "      <td>124.0</td>\n",
       "      <td>13.419355</td>\n",
       "      <td>12.373652</td>\n",
       "      <td>5.0</td>\n",
       "      <td>7.0</td>\n",
       "      <td>9.0</td>\n",
       "      <td>14.0</td>\n",
       "      <td>97.0</td>\n",
       "    </tr>\n",
       "  </tbody>\n",
       "</table>\n",
       "</div>"
      ],
      "text/plain": [
       "              count       mean        std  min  25%  50%   75%   max\n",
       "rating        124.0   7.565323   0.565260  5.9  7.2  7.7   8.0   9.0\n",
       "rating_count  124.0  13.419355  12.373652  5.0  7.0  9.0  14.0  97.0"
      ]
     },
     "execution_count": 4,
     "metadata": {},
     "output_type": "execute_result"
    }
   ],
   "source": [
    "episodes[['rating', 'rating_count']].describe().T"
   ]
  },
  {
   "cell_type": "code",
   "execution_count": 5,
   "metadata": {
    "collapsed": false
   },
   "outputs": [
    {
     "data": {
      "text/plain": [
       "<matplotlib.axes._subplots.AxesSubplot at 0x11c909908>"
      ]
     },
     "execution_count": 5,
     "metadata": {},
     "output_type": "execute_result"
    },
    {
     "data": {
      "image/png": "[encoded data removed]",
      "text/plain": [
       "<matplotlib.figure.Figure at 0x119d68438>"
      ]
     },
     "metadata": {},
     "output_type": "display_data"
    }
   ],
   "source": [
    "fig, (ax1, ax2) = plt.subplots(ncols=2)\n",
    "\n",
    "episodes.rating.plot(kind='hist', bins=20, ax=ax1, title=\"Histogram of Ratings\")\n",
    "episodes.rating_count.plot(kind='hist', bins=20, ax=ax2, title=\"Histogram of Rating Counts\")"
   ]
  },
  {
   "cell_type": "markdown",
   "metadata": {},
   "source": [
    "## Ratings over Time"
   ]
  },
  {
   "cell_type": "code",
   "execution_count": 6,
   "metadata": {
    "collapsed": false
   },
   "outputs": [
    {
     "data": {
      "text/html": [
       "\n",
       "\n",
       "    <div class=\"plotdiv\" id=\"573b0a54-a8ab-486c-80bb-8d894fa9b0b1\"></div>\n",
       "<script type=\"text/javascript\">\n",
       "  \n",
       "  (function(global) {\n",
       "    function now() {\n",
       "      return new Date();\n",
       "    }\n",
       "  \n",
       "    if (typeof (window._bokeh_onload_callbacks) === \"undefined\") {\n",
       "      window._bokeh_onload_callbacks = [];\n",
       "    }\n",
       "  \n",
       "    function run_callbacks() {\n",
       "      window._bokeh_onload_callbacks.forEach(function(callback) { callback() });\n",
       "      delete window._bokeh_onload_callbacks\n",
       "      console.info(\"Bokeh: all callbacks have finished\");\n",
       "    }\n",
       "  \n",
       "    function load_libs(js_urls, callback) {\n",
       "      window._bokeh_onload_callbacks.push(callback);\n",
       "      if (window._bokeh_is_loading > 0) {\n",
       "        console.log(\"Bokeh: BokehJS is being loaded, scheduling callback at\", now());\n",
       "        return null;\n",
       "      }\n",
       "      if (js_urls == null || js_urls.length === 0) {\n",
       "        run_callbacks();\n",
       "        return null;\n",
       "      }\n",
       "      console.log(\"Bokeh: BokehJS not loaded, scheduling load and callback at\", now());\n",
       "      window._bokeh_is_loading = js_urls.length;\n",
       "      for (var i = 0; i < js_urls.length; i++) {\n",
       "        var url = js_urls[i];\n",
       "        var s = document.createElement('script');\n",
       "        s.src = url;\n",
       "        s.async = false;\n",
       "        s.onreadystatechange = s.onload = function() {\n",
       "          window._bokeh_is_loading--;\n",
       "          if (window._bokeh_is_loading === 0) {\n",
       "            console.log(\"Bokeh: all BokehJS libraries loaded\");\n",
       "            run_callbacks()\n",
       "          }\n",
       "        };\n",
       "        s.onerror = function() {\n",
       "          console.warn(\"failed to load library \" + url);\n",
       "        };\n",
       "        console.log(\"Bokeh: injecting script tag for BokehJS library: \", url);\n",
       "        document.getElementsByTagName(\"head\")[0].appendChild(s);\n",
       "      }\n",
       "    };var element = document.getElementById(\"573b0a54-a8ab-486c-80bb-8d894fa9b0b1\");\n",
       "    if (element == null) {\n",
       "      console.log(\"Bokeh: ERROR: autoload.js configured with elementid '573b0a54-a8ab-486c-80bb-8d894fa9b0b1' but no matching script tag was found. \")\n",
       "      return false;\n",
       "    }\n",
       "  \n",
       "    var js_urls = [];\n",
       "  \n",
       "    var inline_js = [\n",
       "      function(Bokeh) {\n",
       "        Bokeh.$(function() {\n",
       "            var docs_json = {\"f6ea2124-b13e-49b4-9f3b-92c0c728d7b2\":{\"roots\":{\"references\":[{\"attributes\":{\"callback\":null,\"column_names\":[\"rating\",\"airdate\",\"rating_count\",\"title\",\"index\",\"number\",\"airdatestr\"],\"data\":{\"airdate\":[1441670400000.0,1441756800000.0,1441843200000.0,1441929600000.0,1442188800000.0,1442275200000.0,1442361600000.0,1442448000000.0,1442534400000.0,1442793600000.0,1442880000000.0,1442966400000.0,1443052800000.0,1443139200000.0,1443398400000.0,1443484800000.0,1443571200000.0,1443657600000.0,1443744000000.0,1444003200000.0,1444089600000.0,1444176000000.0,1444262400000.0,1444348800000.0,1444608000000.0,1444694400000.0,1444780800000.0,1444867200000.0,1444953600000.0,1445817600000.0,1445904000000.0,1445990400000.0,1446076800000.0,1446163200000.0,1446422400000.0,1446508800000.0,1446595200000.0,1446681600000.0,1446768000000.0,1447027200000.0,1447113600000.0,1447200000000.0,1447286400000.0,1447372800000.0,1447632000000.0,1447718400000.0,1447804800000.0,1447891200000.0,1447977600000.0,1448236800000.0,1448323200000.0,1448409600000.0,1449446400000.0,1449532800000.0,1449619200000.0,1449705600000.0,1449792000000.0,1450051200000.0,1450137600000.0,1450224000000.0,1450310400000.0,1450396800000.0,1451865600000.0,1451952000000.0,1452038400000.0,1452124800000.0,1452211200000.0,1452556800000.0,1452643200000.0,1452729600000.0,1452816000000.0,1453075200000.0,1453161600000.0,1453248000000.0,1453334400000.0,1453420800000.0,1453680000000.0,1453766400000.0,1453852800000.0,1453939200000.0,1454284800000.0,1454371200000.0,1454457600000.0,1454544000000.0,1454630400000.0,1454803200000.0,1454889600000.0,1454976000000.0,1455062400000.0,1455148800000.0,1455494400000.0,1455580800000.0,1455840000000.0,1456099200000.0,1456185600000.0,1456272000000.0,1456358400000.0,1456704000000.0,1456790400000.0,1456876800000.0,1456963200000.0,1457308800000.0,1457395200000.0,1457481600000.0,1457568000000.0,1457654400000.0,1457913600000.0,1458000000000.0,1458086400000.0,1458172800000.0,1459123200000.0,1459209600000.0,1459296000000.0,1459382400000.0,1459468800000.0,1459728000000.0,1459814400000.0,1459900800000.0,1459987200000.0,1460937600000.0,1461024000000.0,1461196800000.0,1461283200000.0,1461715200000.0],\"airdatestr\":[\"09/08/15\",\"09/09/15\",\"09/10/15\",\"09/11/15\",\"09/14/15\",\"09/15/15\",\"09/16/15\",\"09/17/15\",\"09/18/15\",\"09/21/15\",\"09/22/15\",\"09/23/15\",\"09/24/15\",\"09/25/15\",\"09/28/15\",\"09/29/15\",\"09/30/15\",\"10/01/15\",\"10/02/15\",\"10/05/15\",\"10/06/15\",\"10/07/15\",\"10/08/15\",\"10/09/15\",\"10/12/15\",\"10/13/15\",\"10/14/15\",\"10/15/15\",\"10/16/15\",\"10/26/15\",\"10/27/15\",\"10/28/15\",\"10/29/15\",\"10/30/15\",\"11/02/15\",\"11/03/15\",\"11/04/15\",\"11/05/15\",\"11/06/15\",\"11/09/15\",\"11/10/15\",\"11/11/15\",\"11/12/15\",\"11/13/15\",\"11/16/15\",\"11/17/15\",\"11/18/15\",\"11/19/15\",\"11/20/15\",\"11/23/15\",\"11/24/15\",\"11/25/15\",\"12/07/15\",\"12/08/15\",\"12/09/15\",\"12/10/15\",\"12/11/15\",\"12/14/15\",\"12/15/15\",\"12/16/15\",\"12/17/15\",\"12/18/15\",\"01/04/16\",\"01/05/16\",\"01/06/16\",\"01/07/16\",\"01/08/16\",\"01/12/16\",\"01/13/16\",\"01/14/16\",\"01/15/16\",\"01/18/16\",\"01/19/16\",\"01/20/16\",\"01/21/16\",\"01/22/16\",\"01/25/16\",\"01/26/16\",\"01/27/16\",\"01/28/16\",\"02/01/16\",\"02/02/16\",\"02/03/16\",\"02/04/16\",\"02/05/16\",\"02/07/16\",\"02/08/16\",\"02/09/16\",\"02/10/16\",\"02/11/16\",\"02/15/16\",\"02/16/16\",\"02/19/16\",\"02/22/16\",\"02/23/16\",\"02/24/16\",\"02/25/16\",\"02/29/16\",\"03/01/16\",\"03/02/16\",\"03/03/16\",\"03/07/16\",\"03/08/16\",\"03/09/16\",\"03/10/16\",\"03/11/16\",\"03/14/16\",\"03/15/16\",\"03/16/16\",\"03/17/16\",\"03/28/16\",\"03/29/16\",\"03/30/16\",\"03/31/16\",\"04/01/16\",\"04/04/16\",\"04/05/16\",\"04/06/16\",\"04/07/16\",\"04/18/16\",\"04/19/16\",\"04/21/16\",\"04/22/16\",\"04/27/16\"],\"index\":[0,1,2,3,4,5,6,7,8,9,10,11,12,13,14,15,16,17,18,19,20,21,22,23,24,25,26,27,28,29,30,31,32,33,34,35,36,37,38,39,40,41,42,43,44,45,46,47,48,49,50,51,52,53,54,55,56,57,58,59,60,61,62,63,64,65,66,68,69,70,71,72,73,74,75,76,77,78,79,80,81,82,83,84,85,86,87,88,89,90,91,92,95,96,97,98,99,100,101,102,103,104,105,106,107,108,109,110,111,112,113,114,115,116,117,118,119,120,121,122,123,125,126,129],\"number\":[1,2,3,4,5,6,7,8,9,10,11,12,13,14,15,16,17,18,19,20,21,22,23,24,25,26,27,28,29,30,31,32,33,34,35,36,37,38,39,40,41,42,43,44,45,46,47,48,49,50,51,52,53,54,55,56,57,58,59,60,61,62,63,64,65,66,67,69,70,71,72,73,74,75,76,77,78,79,80,81,82,83,84,85,86,87,88,89,90,91,92,93,96,97,98,99,100,101,102,103,104,105,106,107,108,109,110,111,112,113,114,115,116,117,118,119,120,121,122,123,124,126,127,130],\"rating\":[7.5,7.5,8.6,7.4,7.9,7.8,8.0,7.7,8.2,8.0,8.2,7.7,7.3,7.8,7.2,7.4,8.2,6.9,7.7,8.2,7.4,7.9,8.5,7.7,8.1,8.5,8.3,7.2,8.5,7.2,7.9,8.0,8.0,7.3,7.5,7.7,8.3,7.7,7.3,6.9,8.1,7.6,7.6,7.4,8.1,8.0,7.7,8.5,9.0,8.4,7.2,7.1,7.2,7.7,6.6,8.2,7.8,7.4,8.0,7.1,7.9,7.8,7.4,7.7,8.1,7.5,8.0,7.0,7.0,7.0,7.7,7.5,7.6,8.0,7.7,8.5,7.9,7.8,7.2,7.8,7.6,7.0,6.4,7.6,7.7,7.6,7.1,7.4,7.8,7.2,6.8,6.7,6.4,7.0,7.3,7.8,7.3,8.4,7.4,7.7,7.7,6.9,7.3,6.8,7.0,6.0,7.9,7.0,7.1,7.6,7.1,6.1,8.1,8.0,7.7,7.2,5.9,6.9,6.2,8.0,8.1,6.8,7.8,7.8],\"rating_count\":[97.0,58.0,66.0,42.0,36.0,32.0,36.0,32.0,36.0,32.0,31.0,27.0,23.0,24.0,18.0,20.0,19.0,18.0,20.0,18.0,20.0,8.0,13.0,15.0,14.0,15.0,13.0,14.0,20.0,12.0,14.0,12.0,18.0,14.0,11.0,16.0,18.0,15.0,12.0,11.0,14.0,11.0,8.0,13.0,18.0,10.0,10.0,8.0,11.0,10.0,8.0,8.0,9.0,9.0,8.0,10.0,8.0,10.0,9.0,11.0,8.0,6.0,7.0,6.0,7.0,6.0,7.0,7.0,6.0,7.0,6.0,6.0,7.0,9.0,6.0,6.0,9.0,6.0,8.0,8.0,8.0,9.0,9.0,9.0,6.0,11.0,7.0,9.0,13.0,8.0,5.0,10.0,7.0,7.0,6.0,6.0,7.0,7.0,8.0,7.0,6.0,7.0,10.0,10.0,8.0,7.0,8.0,8.0,8.0,9.0,10.0,13.0,7.0,9.0,11.0,6.0,10.0,9.0,6.0,6.0,8.0,5.0,5.0,8.0],\"title\":[\"George Clooney/Governor Jeb Bush/Mavis Staples & Friends\",\"Scarlett Johansson/Elon Musk/Kendrick Lamar\",\"Vice President Joe Biden/Travis Kalanick/Toby Keith\",\"Amy Schumer/Stephen King/Troubled Waters\",\"Emily Blunt/Justice Stephen Breyer/The Dead Weather\",\"Jake Gyllenhaal/Apple CEO Tim Cook/Run the Jewels & TV on the Radio\",\"Kevin Spacey/Carol Burnett/Abbi Jacobson & Ilana Glazer/Willie Nelson & John Mellencamp\",\"Trevor Noah/Ban Ki-Moon/Chris Stapleton\",\"Lupita Nyong'o/Sen. Bernie Sanders/Cast of \\\"An American in Paris\\\"\",\"Steph Curry/Sen. Ted Cruz/Don Henley\",\"Donald Trump/Ernest Moniz/Raury\",\"Hugh Jackman/Sen. Elizabeth Warren/Pearl Jam\",\"Andrew Sullivan/Maria Shriver/Jim Gaffigan/Archbishop Thomas Wenski\",\"Malala Yousafzai/Kerry Washington/The Arcs\",\"Michelle Obama/Mindy Kaling/John Legend\",\"Ellen Page/Jesse Eisenberg/Dominic Wilcox\",\"Elizabeth Gilbert/John Oliver/Evan Spiegel/Bill Withers/Ed Sheeran\",\"Secretary of State John Kerry/Claire Danes/PewDiePie\",\"Morgan Freeman/Ruth Wilson/Sean Murray\",\"John McCain/Yo-Yo Ma/Misty Copeland\",\"Bill Clinton/Billy Eichner/Florence and the Machine\",\"Gina Rodriguez/Ben Bernanke/Tame Impala\",\"Cate Blanchett/Airbnb CEO Brian Chesky\",\"James Corden/Shane Smith/Halsey\",\"Carey Mulligan/Elvis Costello/Darlene Love\",\"Sarah Silverman/Elijah Wood/The Legends of Zelda: Symphony of the Goddesses\",\"Jack Black/Nick Woodman/Michelle Dorrance\",\"Oprah Winfrey/Joseph Fink & Jeffrey Cranor/Judith Hill\",\"Jimmy Kimmel/\\\"Crimson Peak\\\" Cast/Beach House\",\"Sienna Miller/Melissa Benoist/Chance the Rapper\",\"Hillary Clinton/Anthony Bourdain/Carrie Brownstein/Lianne La Navas\",\"Julianna Margulies/Jonathan Franzen/Alabama Shakes\",\"Seth MacFarlane/Neil DeGrasse Tyson\",\"Charlie Rose/Stacy Schiff/Ghost/The Zombies\",\"Allison Janney/Colin Quinn/Margaret Cho\",\"Antonio Banderas/Reed Hastings/John Irving\",\"Daniel Craig/Elizabeth Gilbert/Dr. Eugenia Cheng\",\"Bryan Cranston/Karl Ove Knausgaard/Shamir\",\"Whoopi Goldberg/Gov. John Kasich/Glen Hansard\",\"Ethan Hawke/Sen. Claire McCaskill & Sen. Amy Klobuchar/Nathaniel Ratcliff & the Night Sweats\",\"Aziz Ansari/Shonda Rhimes/Bruce Campbell & Lucy Lawless\",\"Viola Davis/Brian Greene/George Ezra\",\"Jennifer Connelly/Judd Apatow/The Internet\",\"Mark Ruffalo/John Cleese/Micheal Flatley\",\"Capt. Florent Groberg/Bill Maher/Shepard Fairey/The Acro-Cats\",\"Julianne Moore/Burt Reynolds/Public Image Ltd./CeeLo Green\",\"Sharon Stone/Justin Theroux/James Taylor\",\"Jane Fonda/Andrew Lloyd Webber/Brandon Niederauer\",\"Michael Caine/Larry Wilmore/Boots/Vulfpeck\",\"Sylvester Stallone/Ted Koppel/My Morning Jacket\",\"Spike Lee/Andy Cohen/Carly Simon\",\"Gloria Estefan/Navy Seal Eric Greitens/Jake Wood/Chef Daniel Boulud\",\"Steve Carell/Jennifer Hudson\",\"Marion Cotillard/George Saunders/Joanna Newsom\",\"Cast of \\\"Downton Abbey\\\"/Adam McKay/Kurt Vile\",\"Bruce Willis/Michael Lewis/Lizzo\",\"Lin-Manuel Miranda/Ike Barinholtz/Sharon Jones & the Dap Kings\",\"Jennifer Lawrence/Doris Kearns Goodwin/Sleater-Kinney\",\"Quentin Tarantino/Jonathan Groff/Squeeze\",\"Robert De Niro/Daniel Gilbert/Henry Rollins\",\"Michael Moore/Samantha Power/Michael C. Hall\",\"Mandy Patinkin/Kayvon Beykpour/Leon Bridges\",\"Samuel L. Jackson/Olivia Hallisey/Foals\",\"John Krasinski/Killer Mike/George Church/Foals\",\"Jerry Seinfeld/Sen. Rand Paul/Andra Day\",\"Damian Lewis/America Ferrera/FloydLittle's Double Dutch Team\",\"Matthew Broderick/Sarah Parcak/Kacey Musgraves\",\"Saoirse Ronan/Jeremy Stoppelman/Laura Ricciardi & Moira Demos/James Bay\",\"Paul Giamatti/Guerilla Girls/J.B. Mauney\",\"Olivia Munn/T.J. Miller/Father John Misty\",\"Scott Kelly/Abby Wambach/Maria Bamford\",\"Patricia Heaton/Quincy Jones/DeRay Mckesson/Grace\",\"Charlie Day/Colin Hanks/Margo Price\",\"James Spader/Brandon Marshall/Sarah Koenig/Rev Run\",\"Christian Slater/Josh Radnor/Iggy Pop\",\"Steven Tyler/Gaby Hoffmann/Lapsley\",\"Donald Rumsfeld/Russell Westbrook/Anderson Paak & the Free Nationals\",\"Laurence Fishburne/Sarah Paulson/Woke\",\"Chris Pine/Danielle Brooks/Jonah Reider/Baauer\",\"Josh Brolin/John Dickerson/Erin Brockovich/Aubrie Sellers\",\"John Travolta & Courtney B. Vance/Amy Cuddy/John Moreland\",\"David Schwimmer/Pastor Joel Osteen/M. Ward\",\"Dr. Phil McGraw/Mark & Jay Duplass/Michael Eric Dyson/Anderson Paak & the Free Nationals\",\"Michael Strahan/Samantha Bee/Wilco\",\"Bobby Cannavale/Donny Deutsch/Charles Kelley\",\"Tina Fey & Margot Robbie/Will Ferrell/Megyn Kelly/Keegan-Michael Key & Jordan Peele\",\"Bill O'Reilly/Eddie George/Macklemore & Ryan Lewis\",\"Olivia Wilde/Christiane Amanpour\",\"Ben Stiller/Sen. Bernie Sanders/TAO: Seventeen Samurai\",\"Kelsey Grammer/Fred Armisen/Sarah McDaniel/Ty Segall & the Muggers\",\"Craig Ferguson/Hailey Clauson & Ashley Graham/Cory Booker\",\"Eva Longoria/Abbi Jacobson & Ilana Glazer/Lucinda Williams\",\"Chelsea Handler/Zosia Mamet/The Lumineers\",\"Casey Affleck/Richard Dreyfuss/Mavis Staples\",\"Debra Messing/Zachary Quinto/Violent Femmes\",\"Adrien Brody/Danai Gurira/Brian Greene\",\"Tim Daly/Krysten Ritter/Jason Isbell\",\"Spike Jonze/Jeffrey Dean Morgan/Jack Garratt\",\"Chrissy Teigen/Mike Birbiglia/Adam Savage\",\"Octavia Spencer/John Stamos, Bob Saget & Dave Coulier/Lucius\",\"Christopher Meloni/Edward Byers/Ray LaMontagne\",\"Will Arnett/Charles Barkley/Max Greenfield\",\"Helen Mirren/J.J. Abrams/DMA's\",\"Sally Field/Jerrod Carmichael/Esperanza Spalding\",\"Anna Kendrick/Loretta Lynch/Brian Fallon\",\"Jeff Daniels/Audra McDonald/Mary Elizabeth Winstead\",\"John Oliver/Jordan Spieth/New Order\",\"Steve Martin & Edie Brickell/Shirley MacLaine/Gustavo Dudamel/Los Angeles Philharmonic\",\"Theo James/Jussie Smollett/Laurie Anderson\",\"William H. Macy/Melissa Rauch/Isaac Mizrahi\",\"Tom Hiddleston/Laura Benanti/Frightened Rabbit\",\"Adam Driver/Rachel Bloom/Savages\",\"Eric Stonestreet/Jason Jones/Sen. Elizabeth Warren\",\"Sarah Paulson/Tatiana Maslany/Wynton Marsalis, Lil Buck & Jared Grimes\",\"Steve Buscemi/Benjamin Walker/Cast of Broadway's \\\"American Psycho\\\"\",\"Matthew Perry/Nick Offerman/Explosions in the Sky\",\"Melissa McCarthy & Ben Falcone/Arianna Huffington/Babymetal\",\"Anna Kendrick & Sam Rockwell/David Duchovny/Autolux\",\"Mindy Kaling/Tituss Burgess/Ken Burns\",\"Hillary Clinton/Jesse Tyler Ferguson/Katharine McPhee/Sturgill Simpson\",\"Kevin Spacey/Thomas Middleditch/The Flaming Lips\",\"Tom Hanks/Leslie Odom, Jr./The Strumbellas/Roy Haynes\",\"Julia Louis-Dreyfus/Nikolaj Coster-Waldau/Sam Morril\",\"Susan Sarandon/David Tennant/Catfish & the Bottlemen\"]}},\"id\":\"a8ab26c5-e26e-4592-b9b5-c7afd5934433\",\"type\":\"ColumnDataSource\"},{\"attributes\":{\"plot\":{\"id\":\"608c788c-9ff8-4c17-be38-65fa4643842f\",\"subtype\":\"Figure\",\"type\":\"Plot\"}},\"id\":\"f6b70936-e77e-4c7a-b95c-4edf1f55dd1a\",\"type\":\"HelpTool\"},{\"attributes\":{\"fill_color\":{\"value\":\"#1f77b4\"},\"line_color\":{\"value\":\"#1f77b4\"},\"line_width\":{\"value\":2},\"size\":{\"units\":\"screen\",\"value\":5},\"x\":{\"field\":\"airdate\"},\"y\":{\"field\":\"rating\"}},\"id\":\"4af81153-0865-4bc4-b924-f36a62b6a7d9\",\"type\":\"Circle\"},{\"attributes\":{\"days\":[1,4,7,10,13,16,19,22,25,28]},\"id\":\"a0b78454-0cb5-40b4-a010-b32f3b747ea6\",\"type\":\"DaysTicker\"},{\"attributes\":{\"plot\":{\"id\":\"608c788c-9ff8-4c17-be38-65fa4643842f\",\"subtype\":\"Figure\",\"type\":\"Plot\"}},\"id\":\"96d5e28f-7e7a-40df-9d80-2f630d19c738\",\"type\":\"ResizeTool\"},{\"attributes\":{\"callback\":null},\"id\":\"f48010d2-ebc9-4f7c-b48b-967dc776cb93\",\"type\":\"DataRange1d\"},{\"attributes\":{\"plot\":{\"id\":\"608c788c-9ff8-4c17-be38-65fa4643842f\",\"subtype\":\"Figure\",\"type\":\"Plot\"}},\"id\":\"76005dc1-2801-4f56-907c-f2abc9c01d05\",\"type\":\"PreviewSaveTool\"},{\"attributes\":{\"formatter\":{\"id\":\"d06519cf-7f69-42f5-a656-27d67b3ebef5\",\"type\":\"DatetimeTickFormatter\"},\"plot\":{\"id\":\"608c788c-9ff8-4c17-be38-65fa4643842f\",\"subtype\":\"Figure\",\"type\":\"Plot\"},\"ticker\":{\"id\":\"fce55f51-ef6b-4983-b148-15a5b52d859a\",\"type\":\"DatetimeTicker\"}},\"id\":\"2c03501b-18d8-4f7f-bedb-065d9ad0579a\",\"type\":\"DatetimeAxis\"},{\"attributes\":{},\"id\":\"a95535cc-be6c-4ecf-af82-6f5b153aee80\",\"type\":\"YearsTicker\"},{\"attributes\":{\"callback\":null,\"plot\":{\"id\":\"608c788c-9ff8-4c17-be38-65fa4643842f\",\"subtype\":\"Figure\",\"type\":\"Plot\"},\"tooltips\":[[\"Episode\",\"@number\"],[\"Title\",\"@title\"],[\"Airdate\",\"@airdatestr\"],[\"Rating\",\"@rating{1.11}\"],[\"Rating Count\",\"@rating_count{1.11}\"]]},\"id\":\"f6a6f26a-9de1-4168-a60b-041cd6c903ae\",\"type\":\"HoverTool\"},{\"attributes\":{\"days\":[1,15]},\"id\":\"29c78333-6d02-4030-8d1d-a0fbc503a11f\",\"type\":\"DaysTicker\"},{\"attributes\":{\"months\":[0,4,8]},\"id\":\"c9be4236-0c63-47c6-aad8-26c09ee0eaf9\",\"type\":\"MonthsTicker\"},{\"attributes\":{\"max_interval\":500.0,\"num_minor_ticks\":0},\"id\":\"d505ae28-bf3e-4afb-aac9-263771673f20\",\"type\":\"AdaptiveTicker\"},{\"attributes\":{\"plot\":{\"id\":\"608c788c-9ff8-4c17-be38-65fa4643842f\",\"subtype\":\"Figure\",\"type\":\"Plot\"}},\"id\":\"c7d4a687-340b-4d73-8077-136518010ce5\",\"type\":\"ResetTool\"},{\"attributes\":{\"callback\":null},\"id\":\"249da4cf-83a6-4f5f-b4d0-fbd57eee82aa\",\"type\":\"DataRange1d\"},{\"attributes\":{\"days\":[1,2,3,4,5,6,7,8,9,10,11,12,13,14,15,16,17,18,19,20,21,22,23,24,25,26,27,28,29,30,31]},\"id\":\"317188ab-0487-4082-bd90-64b2df0cb2fd\",\"type\":\"DaysTicker\"},{\"attributes\":{},\"id\":\"33111c3d-a907-4c1a-8489-247fda2a990f\",\"type\":\"ToolEvents\"},{\"attributes\":{\"plot\":{\"id\":\"608c788c-9ff8-4c17-be38-65fa4643842f\",\"subtype\":\"Figure\",\"type\":\"Plot\"}},\"id\":\"7d49e258-3e15-4255-9499-0cb0932cd273\",\"type\":\"WheelZoomTool\"},{\"attributes\":{\"plot\":{\"id\":\"608c788c-9ff8-4c17-be38-65fa4643842f\",\"subtype\":\"Figure\",\"type\":\"Plot\"},\"ticker\":{\"id\":\"fce55f51-ef6b-4983-b148-15a5b52d859a\",\"type\":\"DatetimeTicker\"}},\"id\":\"61103a70-249e-4717-b37c-82664eebe483\",\"type\":\"Grid\"},{\"attributes\":{},\"id\":\"08ec61be-57d9-463a-8f6b-307c5bbd5e2a\",\"type\":\"BasicTicker\"},{\"attributes\":{\"num_minor_ticks\":5},\"id\":\"fce55f51-ef6b-4983-b148-15a5b52d859a\",\"type\":\"DatetimeTicker\"},{\"attributes\":{\"base\":24,\"mantissas\":[1,2,4,6,8,12],\"max_interval\":43200000.0,\"min_interval\":3600000.0,\"num_minor_ticks\":0},\"id\":\"d8f36446-3f71-4e4c-bfb2-042a1bf7f63a\",\"type\":\"AdaptiveTicker\"},{\"attributes\":{},\"id\":\"2b5e5bbd-8e77-4ed1-b265-1dd03907ad5c\",\"type\":\"BasicTickFormatter\"},{\"attributes\":{\"overlay\":{\"id\":\"4531ebf5-06e1-4d5f-8647-ba873a286026\",\"type\":\"BoxAnnotation\"},\"plot\":{\"id\":\"608c788c-9ff8-4c17-be38-65fa4643842f\",\"subtype\":\"Figure\",\"type\":\"Plot\"}},\"id\":\"02b149ff-bffe-4718-a5df-530116a50dcd\",\"type\":\"BoxZoomTool\"},{\"attributes\":{\"base\":60,\"mantissas\":[1,2,5,10,15,20,30],\"max_interval\":1800000.0,\"min_interval\":1000.0,\"num_minor_ticks\":0},\"id\":\"812f92e9-bd12-4b8c-bb33-e7bb4108c34e\",\"type\":\"AdaptiveTicker\"},{\"attributes\":{\"months\":[0,1,2,3,4,5,6,7,8,9,10,11]},\"id\":\"e303f896-664f-43bc-baf4-7b85fcd3b805\",\"type\":\"MonthsTicker\"},{\"attributes\":{\"bottom_units\":\"screen\",\"fill_alpha\":{\"value\":0.5},\"fill_color\":{\"value\":\"lightgrey\"},\"left_units\":\"screen\",\"level\":\"overlay\",\"line_alpha\":{\"value\":1.0},\"line_color\":{\"value\":\"black\"},\"line_dash\":[4,4],\"line_width\":{\"value\":2},\"plot\":null,\"render_mode\":\"css\",\"right_units\":\"screen\",\"top_units\":\"screen\"},\"id\":\"4531ebf5-06e1-4d5f-8647-ba873a286026\",\"type\":\"BoxAnnotation\"},{\"attributes\":{\"dimension\":1,\"plot\":{\"id\":\"608c788c-9ff8-4c17-be38-65fa4643842f\",\"subtype\":\"Figure\",\"type\":\"Plot\"},\"ticker\":{\"id\":\"08ec61be-57d9-463a-8f6b-307c5bbd5e2a\",\"type\":\"BasicTicker\"}},\"id\":\"fad73573-54bf-4a40-b86a-d8e7db1fb66c\",\"type\":\"Grid\"},{\"attributes\":{\"formatter\":{\"id\":\"2b5e5bbd-8e77-4ed1-b265-1dd03907ad5c\",\"type\":\"BasicTickFormatter\"},\"plot\":{\"id\":\"608c788c-9ff8-4c17-be38-65fa4643842f\",\"subtype\":\"Figure\",\"type\":\"Plot\"},\"ticker\":{\"id\":\"08ec61be-57d9-463a-8f6b-307c5bbd5e2a\",\"type\":\"BasicTicker\"}},\"id\":\"b0ed65d7-6a85-4170-88b2-20d17fdd6bac\",\"type\":\"LinearAxis\"},{\"attributes\":{\"plot\":{\"id\":\"608c788c-9ff8-4c17-be38-65fa4643842f\",\"subtype\":\"Figure\",\"type\":\"Plot\"}},\"id\":\"ebfb2d54-e95f-434d-b33f-e5cc4946f33f\",\"type\":\"PanTool\"},{\"attributes\":{\"months\":[0,6]},\"id\":\"27c40ac4-e0a2-44da-9a06-91df55ee1802\",\"type\":\"MonthsTicker\"},{\"attributes\":{\"months\":[0,2,4,6,8,10]},\"id\":\"116b24c6-b9b1-4bad-b79d-489d924fe25b\",\"type\":\"MonthsTicker\"},{\"attributes\":{\"fill_alpha\":{\"value\":0.1},\"fill_color\":{\"value\":\"#1f77b4\"},\"line_alpha\":{\"value\":0.1},\"line_color\":{\"value\":\"#1f77b4\"},\"line_width\":{\"value\":2},\"size\":{\"units\":\"screen\",\"value\":5},\"x\":{\"field\":\"airdate\"},\"y\":{\"field\":\"rating\"}},\"id\":\"0228c2b5-d9c8-4b86-bcf3-a81221eef68a\",\"type\":\"Circle\"},{\"attributes\":{\"below\":[{\"id\":\"2c03501b-18d8-4f7f-bedb-065d9ad0579a\",\"type\":\"DatetimeAxis\"}],\"left\":[{\"id\":\"b0ed65d7-6a85-4170-88b2-20d17fdd6bac\",\"type\":\"LinearAxis\"}],\"logo\":null,\"plot_height\":400,\"plot_width\":950,\"renderers\":[{\"id\":\"2c03501b-18d8-4f7f-bedb-065d9ad0579a\",\"type\":\"DatetimeAxis\"},{\"id\":\"61103a70-249e-4717-b37c-82664eebe483\",\"type\":\"Grid\"},{\"id\":\"b0ed65d7-6a85-4170-88b2-20d17fdd6bac\",\"type\":\"LinearAxis\"},{\"id\":\"fad73573-54bf-4a40-b86a-d8e7db1fb66c\",\"type\":\"Grid\"},{\"id\":\"4531ebf5-06e1-4d5f-8647-ba873a286026\",\"type\":\"BoxAnnotation\"},{\"id\":\"6ec0288a-c2ce-4a4f-be59-43ac8b92f148\",\"type\":\"GlyphRenderer\"}],\"title\":\"Ratings per Episode on The Late Show with Stephen Colbert\",\"tool_events\":{\"id\":\"33111c3d-a907-4c1a-8489-247fda2a990f\",\"type\":\"ToolEvents\"},\"tools\":[{\"id\":\"ebfb2d54-e95f-434d-b33f-e5cc4946f33f\",\"type\":\"PanTool\"},{\"id\":\"7d49e258-3e15-4255-9499-0cb0932cd273\",\"type\":\"WheelZoomTool\"},{\"id\":\"02b149ff-bffe-4718-a5df-530116a50dcd\",\"type\":\"BoxZoomTool\"},{\"id\":\"76005dc1-2801-4f56-907c-f2abc9c01d05\",\"type\":\"PreviewSaveTool\"},{\"id\":\"96d5e28f-7e7a-40df-9d80-2f630d19c738\",\"type\":\"ResizeTool\"},{\"id\":\"c7d4a687-340b-4d73-8077-136518010ce5\",\"type\":\"ResetTool\"},{\"id\":\"f6b70936-e77e-4c7a-b95c-4edf1f55dd1a\",\"type\":\"HelpTool\"},{\"id\":\"f6a6f26a-9de1-4168-a60b-041cd6c903ae\",\"type\":\"HoverTool\"}],\"x_range\":{\"id\":\"249da4cf-83a6-4f5f-b4d0-fbd57eee82aa\",\"type\":\"DataRange1d\"},\"y_range\":{\"id\":\"f48010d2-ebc9-4f7c-b48b-967dc776cb93\",\"type\":\"DataRange1d\"}},\"id\":\"608c788c-9ff8-4c17-be38-65fa4643842f\",\"subtype\":\"Figure\",\"type\":\"Plot\"},{\"attributes\":{\"days\":[1,8,15,22]},\"id\":\"8e5e230c-174a-47f2-a6df-a944bc66c243\",\"type\":\"DaysTicker\"},{\"attributes\":{},\"id\":\"d06519cf-7f69-42f5-a656-27d67b3ebef5\",\"type\":\"DatetimeTickFormatter\"},{\"attributes\":{\"data_source\":{\"id\":\"a8ab26c5-e26e-4592-b9b5-c7afd5934433\",\"type\":\"ColumnDataSource\"},\"glyph\":{\"id\":\"4af81153-0865-4bc4-b924-f36a62b6a7d9\",\"type\":\"Circle\"},\"hover_glyph\":null,\"nonselection_glyph\":{\"id\":\"0228c2b5-d9c8-4b86-bcf3-a81221eef68a\",\"type\":\"Circle\"},\"selection_glyph\":null},\"id\":\"6ec0288a-c2ce-4a4f-be59-43ac8b92f148\",\"type\":\"GlyphRenderer\"}],\"root_ids\":[\"608c788c-9ff8-4c17-be38-65fa4643842f\"]},\"title\":\"Bokeh Application\",\"version\":\"0.11.1\"}};\n",
       "            var render_items = [{\"docid\":\"f6ea2124-b13e-49b4-9f3b-92c0c728d7b2\",\"elementid\":\"573b0a54-a8ab-486c-80bb-8d894fa9b0b1\",\"modelid\":\"608c788c-9ff8-4c17-be38-65fa4643842f\",\"notebook_comms_target\":\"2f497dfe-f3a4-4274-9028-06d30a9fb1ce\"}];\n",
       "            \n",
       "            Bokeh.embed.embed_items(docs_json, render_items);\n",
       "        });\n",
       "      },\n",
       "      function(Bokeh) {\n",
       "      }\n",
       "    ];\n",
       "  \n",
       "    function run_inline_js() {\n",
       "      for (var i = 0; i < inline_js.length; i++) {\n",
       "        inline_js[i](window.Bokeh);\n",
       "      }\n",
       "    }\n",
       "  \n",
       "    if (window._bokeh_is_loading === 0) {\n",
       "      console.log(\"Bokeh: BokehJS loaded, going straight to plotting\");\n",
       "      run_inline_js();\n",
       "    } else {\n",
       "      load_libs(js_urls, function() {\n",
       "        console.log(\"Bokeh: BokehJS plotting callback run at\", now());\n",
       "        run_inline_js();\n",
       "      });\n",
       "    }\n",
       "  }(this));\n",
       "</script>"
      ]
     },
     "metadata": {},
     "output_type": "display_data"
    },
    {
     "data": {
      "text/html": [
       "<p><code>&lt;Bokeh Notebook handle for <strong>In[6]</strong>&gt;</code></p>"
      ],
      "text/plain": [
       "<bokeh.io._CommsHandle at 0x11ca2a860>"
      ]
     },
     "execution_count": 6,
     "metadata": {},
     "output_type": "execute_result"
    }
   ],
   "source": [
    "p = plot_interactive_timeseries(x='airdate', y='rating', data=episodes, \n",
    "                                title=\"Ratings per Episode on The Late Show with Stephen Colbert\")\n",
    "show(p)"
   ]
  },
  {
   "cell_type": "markdown",
   "metadata": {},
   "source": [
    "## Ratings Count over Time"
   ]
  },
  {
   "cell_type": "code",
   "execution_count": 7,
   "metadata": {
    "collapsed": false
   },
   "outputs": [
    {
     "data": {
      "text/html": [
       "\n",
       "\n",
       "    <div class=\"plotdiv\" id=\"3157c22c-0c7f-4b7c-9391-cac24aa47f7f\"></div>\n",
       "<script type=\"text/javascript\">\n",
       "  \n",
       "  (function(global) {\n",
       "    function now() {\n",
       "      return new Date();\n",
       "    }\n",
       "  \n",
       "    if (typeof (window._bokeh_onload_callbacks) === \"undefined\") {\n",
       "      window._bokeh_onload_callbacks = [];\n",
       "    }\n",
       "  \n",
       "    function run_callbacks() {\n",
       "      window._bokeh_onload_callbacks.forEach(function(callback) { callback() });\n",
       "      delete window._bokeh_onload_callbacks\n",
       "      console.info(\"Bokeh: all callbacks have finished\");\n",
       "    }\n",
       "  \n",
       "    function load_libs(js_urls, callback) {\n",
       "      window._bokeh_onload_callbacks.push(callback);\n",
       "      if (window._bokeh_is_loading > 0) {\n",
       "        console.log(\"Bokeh: BokehJS is being loaded, scheduling callback at\", now());\n",
       "        return null;\n",
       "      }\n",
       "      if (js_urls == null || js_urls.length === 0) {\n",
       "        run_callbacks();\n",
       "        return null;\n",
       "      }\n",
       "      console.log(\"Bokeh: BokehJS not loaded, scheduling load and callback at\", now());\n",
       "      window._bokeh_is_loading = js_urls.length;\n",
       "      for (var i = 0; i < js_urls.length; i++) {\n",
       "        var url = js_urls[i];\n",
       "        var s = document.createElement('script');\n",
       "        s.src = url;\n",
       "        s.async = false;\n",
       "        s.onreadystatechange = s.onload = function() {\n",
       "          window._bokeh_is_loading--;\n",
       "          if (window._bokeh_is_loading === 0) {\n",
       "            console.log(\"Bokeh: all BokehJS libraries loaded\");\n",
       "            run_callbacks()\n",
       "          }\n",
       "        };\n",
       "        s.onerror = function() {\n",
       "          console.warn(\"failed to load library \" + url);\n",
       "        };\n",
       "        console.log(\"Bokeh: injecting script tag for BokehJS library: \", url);\n",
       "        document.getElementsByTagName(\"head\")[0].appendChild(s);\n",
       "      }\n",
       "    };var element = document.getElementById(\"3157c22c-0c7f-4b7c-9391-cac24aa47f7f\");\n",
       "    if (element == null) {\n",
       "      console.log(\"Bokeh: ERROR: autoload.js configured with elementid '3157c22c-0c7f-4b7c-9391-cac24aa47f7f' but no matching script tag was found. \")\n",
       "      return false;\n",
       "    }\n",
       "  \n",
       "    var js_urls = [];\n",
       "  \n",
       "    var inline_js = [\n",
       "      function(Bokeh) {\n",
       "        Bokeh.$(function() {\n",
       "            var docs_json = {\"c2739b61-9e27-4622-8f51-511e9337ac33\":{\"roots\":{\"references\":[{\"attributes\":{\"formatter\":{\"id\":\"74275db7-a20a-46aa-bc43-f3127131f1c3\",\"type\":\"BasicTickFormatter\"},\"plot\":{\"id\":\"86fd8438-72e3-4d95-a748-15c37bca4056\",\"subtype\":\"Figure\",\"type\":\"Plot\"},\"ticker\":{\"id\":\"5ad8d05d-1de1-42b6-a690-b32cf8fa6460\",\"type\":\"BasicTicker\"}},\"id\":\"16f3ffb6-596b-4ff2-bea5-f4265ec4d162\",\"type\":\"LinearAxis\"},{\"attributes\":{\"days\":[1,4,7,10,13,16,19,22,25,28]},\"id\":\"a0b78454-0cb5-40b4-a010-b32f3b747ea6\",\"type\":\"DaysTicker\"},{\"attributes\":{\"plot\":{\"id\":\"608c788c-9ff8-4c17-be38-65fa4643842f\",\"subtype\":\"Figure\",\"type\":\"Plot\"}},\"id\":\"96d5e28f-7e7a-40df-9d80-2f630d19c738\",\"type\":\"ResizeTool\"},{\"attributes\":{\"callback\":null},\"id\":\"f48010d2-ebc9-4f7c-b48b-967dc776cb93\",\"type\":\"DataRange1d\"},{\"attributes\":{\"days\":[1,2,3,4,5,6,7,8,9,10,11,12,13,14,15,16,17,18,19,20,21,22,23,24,25,26,27,28,29,30,31]},\"id\":\"0bca41b6-56e1-41ef-95c5-9659f9408a3a\",\"type\":\"DaysTicker\"},{\"attributes\":{\"days\":[1,8,15,22]},\"id\":\"0ed30b98-ddc1-4851-9bc4-63bb4490e407\",\"type\":\"DaysTicker\"},{\"attributes\":{\"months\":[0,2,4,6,8,10]},\"id\":\"a0feeb2a-fc63-4629-bbae-9d7801a022d1\",\"type\":\"MonthsTicker\"},{\"attributes\":{\"plot\":{\"id\":\"608c788c-9ff8-4c17-be38-65fa4643842f\",\"subtype\":\"Figure\",\"type\":\"Plot\"}},\"id\":\"f6b70936-e77e-4c7a-b95c-4edf1f55dd1a\",\"type\":\"HelpTool\"},{\"attributes\":{},\"id\":\"a95535cc-be6c-4ecf-af82-6f5b153aee80\",\"type\":\"YearsTicker\"},{\"attributes\":{\"callback\":null,\"plot\":{\"id\":\"608c788c-9ff8-4c17-be38-65fa4643842f\",\"subtype\":\"Figure\",\"type\":\"Plot\"},\"tooltips\":[[\"Episode\",\"@number\"],[\"Title\",\"@title\"],[\"Airdate\",\"@airdatestr\"],[\"Rating\",\"@rating{1.11}\"],[\"Rating Count\",\"@rating_count{1.11}\"]]},\"id\":\"f6a6f26a-9de1-4168-a60b-041cd6c903ae\",\"type\":\"HoverTool\"},{\"attributes\":{\"days\":[1,15]},\"id\":\"29c78333-6d02-4030-8d1d-a0fbc503a11f\",\"type\":\"DaysTicker\"},{\"attributes\":{\"formatter\":{\"id\":\"2b5e5bbd-8e77-4ed1-b265-1dd03907ad5c\",\"type\":\"BasicTickFormatter\"},\"plot\":{\"id\":\"608c788c-9ff8-4c17-be38-65fa4643842f\",\"subtype\":\"Figure\",\"type\":\"Plot\"},\"ticker\":{\"id\":\"08ec61be-57d9-463a-8f6b-307c5bbd5e2a\",\"type\":\"BasicTicker\"}},\"id\":\"b0ed65d7-6a85-4170-88b2-20d17fdd6bac\",\"type\":\"LinearAxis\"},{\"attributes\":{\"data_source\":{\"id\":\"94ebbd05-c8a5-4c93-8835-e8245ee275c3\",\"type\":\"ColumnDataSource\"},\"glyph\":{\"id\":\"1b247d4a-84f5-404c-9a07-8fb0a1ac1b4d\",\"type\":\"Circle\"},\"hover_glyph\":null,\"nonselection_glyph\":{\"id\":\"4998a89f-b848-480a-86f7-e8232ae891cb\",\"type\":\"Circle\"},\"selection_glyph\":null},\"id\":\"97abb096-a314-43ba-9142-b44989a0dd60\",\"type\":\"GlyphRenderer\"},{\"attributes\":{\"plot\":{\"id\":\"608c788c-9ff8-4c17-be38-65fa4643842f\",\"subtype\":\"Figure\",\"type\":\"Plot\"}},\"id\":\"c7d4a687-340b-4d73-8077-136518010ce5\",\"type\":\"ResetTool\"},{\"attributes\":{\"plot\":{\"id\":\"86fd8438-72e3-4d95-a748-15c37bca4056\",\"subtype\":\"Figure\",\"type\":\"Plot\"}},\"id\":\"bf615511-eb3d-4993-a744-a5fe00213bca\",\"type\":\"ResizeTool\"},{\"attributes\":{\"plot\":{\"id\":\"86fd8438-72e3-4d95-a748-15c37bca4056\",\"subtype\":\"Figure\",\"type\":\"Plot\"}},\"id\":\"b9235ffe-ea79-4dcc-9fbc-09f63eeb49f7\",\"type\":\"PanTool\"},{\"attributes\":{\"base\":60,\"mantissas\":[1,2,5,10,15,20,30],\"max_interval\":1800000.0,\"min_interval\":1000.0,\"num_minor_ticks\":0},\"id\":\"b52561ad-5ba8-4b50-a346-6fdd8c4a2afa\",\"type\":\"AdaptiveTicker\"},{\"attributes\":{},\"id\":\"14056327-bcd7-45b0-bbc6-87728fc43726\",\"type\":\"DatetimeTickFormatter\"},{\"attributes\":{\"plot\":{\"id\":\"608c788c-9ff8-4c17-be38-65fa4643842f\",\"subtype\":\"Figure\",\"type\":\"Plot\"}},\"id\":\"7d49e258-3e15-4255-9499-0cb0932cd273\",\"type\":\"WheelZoomTool\"},{\"attributes\":{\"plot\":{\"id\":\"86fd8438-72e3-4d95-a748-15c37bca4056\",\"subtype\":\"Figure\",\"type\":\"Plot\"}},\"id\":\"98fed0da-7ce5-49a3-900d-523aa113235a\",\"type\":\"PreviewSaveTool\"},{\"attributes\":{\"callback\":null},\"id\":\"249da4cf-83a6-4f5f-b4d0-fbd57eee82aa\",\"type\":\"DataRange1d\"},{\"attributes\":{\"fill_color\":{\"value\":\"#1f77b4\"},\"line_color\":{\"value\":\"#1f77b4\"},\"line_width\":{\"value\":2},\"size\":{\"units\":\"screen\",\"value\":5},\"x\":{\"field\":\"airdate\"},\"y\":{\"field\":\"rating\"}},\"id\":\"4af81153-0865-4bc4-b924-f36a62b6a7d9\",\"type\":\"Circle\"},{\"attributes\":{\"num_minor_ticks\":5},\"id\":\"fce55f51-ef6b-4983-b148-15a5b52d859a\",\"type\":\"DatetimeTicker\"},{\"attributes\":{\"max_interval\":500.0,\"num_minor_ticks\":0},\"id\":\"1dbd9df4-4da0-48bb-bde5-ffbac52d2c36\",\"type\":\"AdaptiveTicker\"},{\"attributes\":{},\"id\":\"2b5e5bbd-8e77-4ed1-b265-1dd03907ad5c\",\"type\":\"BasicTickFormatter\"},{\"attributes\":{\"formatter\":{\"id\":\"14056327-bcd7-45b0-bbc6-87728fc43726\",\"type\":\"DatetimeTickFormatter\"},\"plot\":{\"id\":\"86fd8438-72e3-4d95-a748-15c37bca4056\",\"subtype\":\"Figure\",\"type\":\"Plot\"},\"ticker\":{\"id\":\"3b624853-365b-44d6-a483-18b4f94d2939\",\"type\":\"DatetimeTicker\"}},\"id\":\"555a989d-13e7-4fb4-8d5d-4c49d1393cf4\",\"type\":\"DatetimeAxis\"},{\"attributes\":{\"plot\":{\"id\":\"86fd8438-72e3-4d95-a748-15c37bca4056\",\"subtype\":\"Figure\",\"type\":\"Plot\"},\"ticker\":{\"id\":\"3b624853-365b-44d6-a483-18b4f94d2939\",\"type\":\"DatetimeTicker\"}},\"id\":\"c2c0e220-7ce2-4771-a395-9a2a969e4b94\",\"type\":\"Grid\"},{\"attributes\":{\"months\":[0,4,8]},\"id\":\"01a0f703-6430-4f77-a180-64fffc1b5f51\",\"type\":\"MonthsTicker\"},{\"attributes\":{\"days\":[1,2,3,4,5,6,7,8,9,10,11,12,13,14,15,16,17,18,19,20,21,22,23,24,25,26,27,28,29,30,31]},\"id\":\"317188ab-0487-4082-bd90-64b2df0cb2fd\",\"type\":\"DaysTicker\"},{\"attributes\":{\"months\":[0,1,2,3,4,5,6,7,8,9,10,11]},\"id\":\"e303f896-664f-43bc-baf4-7b85fcd3b805\",\"type\":\"MonthsTicker\"},{\"attributes\":{\"below\":[{\"id\":\"555a989d-13e7-4fb4-8d5d-4c49d1393cf4\",\"type\":\"DatetimeAxis\"}],\"left\":[{\"id\":\"16f3ffb6-596b-4ff2-bea5-f4265ec4d162\",\"type\":\"LinearAxis\"}],\"logo\":null,\"plot_height\":400,\"plot_width\":950,\"renderers\":[{\"id\":\"555a989d-13e7-4fb4-8d5d-4c49d1393cf4\",\"type\":\"DatetimeAxis\"},{\"id\":\"c2c0e220-7ce2-4771-a395-9a2a969e4b94\",\"type\":\"Grid\"},{\"id\":\"16f3ffb6-596b-4ff2-bea5-f4265ec4d162\",\"type\":\"LinearAxis\"},{\"id\":\"624b193a-cc8f-4a72-a43a-f635103f8be4\",\"type\":\"Grid\"},{\"id\":\"12a11d39-792a-4d5d-8fd0-61b8a71eaee9\",\"type\":\"BoxAnnotation\"},{\"id\":\"97abb096-a314-43ba-9142-b44989a0dd60\",\"type\":\"GlyphRenderer\"}],\"title\":\"Number of Ratings per Episode on The Late Show with Stephen Colbert\",\"tool_events\":{\"id\":\"cb880520-791c-4b9f-977e-e2a6d6406479\",\"type\":\"ToolEvents\"},\"tools\":[{\"id\":\"b9235ffe-ea79-4dcc-9fbc-09f63eeb49f7\",\"type\":\"PanTool\"},{\"id\":\"39fd712d-89d6-4f52-ab6d-c014ec56f4a4\",\"type\":\"WheelZoomTool\"},{\"id\":\"c1813062-5add-486f-a369-71b05274dc4e\",\"type\":\"BoxZoomTool\"},{\"id\":\"98fed0da-7ce5-49a3-900d-523aa113235a\",\"type\":\"PreviewSaveTool\"},{\"id\":\"bf615511-eb3d-4993-a744-a5fe00213bca\",\"type\":\"ResizeTool\"},{\"id\":\"9438c3e8-ec50-458a-bfd5-5f05be1b1bcb\",\"type\":\"ResetTool\"},{\"id\":\"0a5f51b9-6147-46ab-afb3-0ca7b8c9b583\",\"type\":\"HelpTool\"},{\"id\":\"d7193d0b-4c28-4bd1-ab58-9301f659455b\",\"type\":\"HoverTool\"}],\"x_range\":{\"id\":\"15e8dffe-4341-4ed9-a85a-8a4cc4cb56ff\",\"type\":\"DataRange1d\"},\"y_range\":{\"id\":\"97e11973-561c-4a43-850e-7f6d6e6cc99c\",\"type\":\"DataRange1d\"}},\"id\":\"86fd8438-72e3-4d95-a748-15c37bca4056\",\"subtype\":\"Figure\",\"type\":\"Plot\"},{\"attributes\":{\"overlay\":{\"id\":\"12a11d39-792a-4d5d-8fd0-61b8a71eaee9\",\"type\":\"BoxAnnotation\"},\"plot\":{\"id\":\"86fd8438-72e3-4d95-a748-15c37bca4056\",\"subtype\":\"Figure\",\"type\":\"Plot\"}},\"id\":\"c1813062-5add-486f-a369-71b05274dc4e\",\"type\":\"BoxZoomTool\"},{\"attributes\":{},\"id\":\"74275db7-a20a-46aa-bc43-f3127131f1c3\",\"type\":\"BasicTickFormatter\"},{\"attributes\":{},\"id\":\"5ad8d05d-1de1-42b6-a690-b32cf8fa6460\",\"type\":\"BasicTicker\"},{\"attributes\":{\"months\":[0,2,4,6,8,10]},\"id\":\"116b24c6-b9b1-4bad-b79d-489d924fe25b\",\"type\":\"MonthsTicker\"},{\"attributes\":{\"fill_alpha\":{\"value\":0.1},\"fill_color\":{\"value\":\"#1f77b4\"},\"line_alpha\":{\"value\":0.1},\"line_color\":{\"value\":\"#1f77b4\"},\"line_width\":{\"value\":2},\"size\":{\"units\":\"screen\",\"value\":5},\"x\":{\"field\":\"airdate\"},\"y\":{\"field\":\"rating\"}},\"id\":\"0228c2b5-d9c8-4b86-bcf3-a81221eef68a\",\"type\":\"Circle\"},{\"attributes\":{\"below\":[{\"id\":\"2c03501b-18d8-4f7f-bedb-065d9ad0579a\",\"type\":\"DatetimeAxis\"}],\"left\":[{\"id\":\"b0ed65d7-6a85-4170-88b2-20d17fdd6bac\",\"type\":\"LinearAxis\"}],\"logo\":null,\"plot_height\":400,\"plot_width\":950,\"renderers\":[{\"id\":\"2c03501b-18d8-4f7f-bedb-065d9ad0579a\",\"type\":\"DatetimeAxis\"},{\"id\":\"61103a70-249e-4717-b37c-82664eebe483\",\"type\":\"Grid\"},{\"id\":\"b0ed65d7-6a85-4170-88b2-20d17fdd6bac\",\"type\":\"LinearAxis\"},{\"id\":\"fad73573-54bf-4a40-b86a-d8e7db1fb66c\",\"type\":\"Grid\"},{\"id\":\"4531ebf5-06e1-4d5f-8647-ba873a286026\",\"type\":\"BoxAnnotation\"},{\"id\":\"6ec0288a-c2ce-4a4f-be59-43ac8b92f148\",\"type\":\"GlyphRenderer\"}],\"title\":\"Ratings per Episode on The Late Show with Stephen Colbert\",\"tool_events\":{\"id\":\"33111c3d-a907-4c1a-8489-247fda2a990f\",\"type\":\"ToolEvents\"},\"tools\":[{\"id\":\"ebfb2d54-e95f-434d-b33f-e5cc4946f33f\",\"type\":\"PanTool\"},{\"id\":\"7d49e258-3e15-4255-9499-0cb0932cd273\",\"type\":\"WheelZoomTool\"},{\"id\":\"02b149ff-bffe-4718-a5df-530116a50dcd\",\"type\":\"BoxZoomTool\"},{\"id\":\"76005dc1-2801-4f56-907c-f2abc9c01d05\",\"type\":\"PreviewSaveTool\"},{\"id\":\"96d5e28f-7e7a-40df-9d80-2f630d19c738\",\"type\":\"ResizeTool\"},{\"id\":\"c7d4a687-340b-4d73-8077-136518010ce5\",\"type\":\"ResetTool\"},{\"id\":\"f6b70936-e77e-4c7a-b95c-4edf1f55dd1a\",\"type\":\"HelpTool\"},{\"id\":\"f6a6f26a-9de1-4168-a60b-041cd6c903ae\",\"type\":\"HoverTool\"}],\"x_range\":{\"id\":\"249da4cf-83a6-4f5f-b4d0-fbd57eee82aa\",\"type\":\"DataRange1d\"},\"y_range\":{\"id\":\"f48010d2-ebc9-4f7c-b48b-967dc776cb93\",\"type\":\"DataRange1d\"}},\"id\":\"608c788c-9ff8-4c17-be38-65fa4643842f\",\"subtype\":\"Figure\",\"type\":\"Plot\"},{\"attributes\":{\"overlay\":{\"id\":\"4531ebf5-06e1-4d5f-8647-ba873a286026\",\"type\":\"BoxAnnotation\"},\"plot\":{\"id\":\"608c788c-9ff8-4c17-be38-65fa4643842f\",\"subtype\":\"Figure\",\"type\":\"Plot\"}},\"id\":\"02b149ff-bffe-4718-a5df-530116a50dcd\",\"type\":\"BoxZoomTool\"},{\"attributes\":{\"base\":24,\"mantissas\":[1,2,4,6,8,12],\"max_interval\":43200000.0,\"min_interval\":3600000.0,\"num_minor_ticks\":0},\"id\":\"2c59a512-ed4d-465b-b17e-8685ce1a407b\",\"type\":\"AdaptiveTicker\"},{\"attributes\":{\"callback\":null,\"column_names\":[\"rating\",\"airdate\",\"rating_count\",\"title\",\"index\",\"number\",\"airdatestr\"],\"data\":{\"airdate\":[1441670400000.0,1441756800000.0,1441843200000.0,1441929600000.0,1442188800000.0,1442275200000.0,1442361600000.0,1442448000000.0,1442534400000.0,1442793600000.0,1442880000000.0,1442966400000.0,1443052800000.0,1443139200000.0,1443398400000.0,1443484800000.0,1443571200000.0,1443657600000.0,1443744000000.0,1444003200000.0,1444089600000.0,1444176000000.0,1444262400000.0,1444348800000.0,1444608000000.0,1444694400000.0,1444780800000.0,1444867200000.0,1444953600000.0,1445817600000.0,1445904000000.0,1445990400000.0,1446076800000.0,1446163200000.0,1446422400000.0,1446508800000.0,1446595200000.0,1446681600000.0,1446768000000.0,1447027200000.0,1447113600000.0,1447200000000.0,1447286400000.0,1447372800000.0,1447632000000.0,1447718400000.0,1447804800000.0,1447891200000.0,1447977600000.0,1448236800000.0,1448323200000.0,1448409600000.0,1449446400000.0,1449532800000.0,1449619200000.0,1449705600000.0,1449792000000.0,1450051200000.0,1450137600000.0,1450224000000.0,1450310400000.0,1450396800000.0,1451865600000.0,1451952000000.0,1452038400000.0,1452124800000.0,1452211200000.0,1452556800000.0,1452643200000.0,1452729600000.0,1452816000000.0,1453075200000.0,1453161600000.0,1453248000000.0,1453334400000.0,1453420800000.0,1453680000000.0,1453766400000.0,1453852800000.0,1453939200000.0,1454284800000.0,1454371200000.0,1454457600000.0,1454544000000.0,1454630400000.0,1454803200000.0,1454889600000.0,1454976000000.0,1455062400000.0,1455148800000.0,1455494400000.0,1455580800000.0,1455840000000.0,1456099200000.0,1456185600000.0,1456272000000.0,1456358400000.0,1456704000000.0,1456790400000.0,1456876800000.0,1456963200000.0,1457308800000.0,1457395200000.0,1457481600000.0,1457568000000.0,1457654400000.0,1457913600000.0,1458000000000.0,1458086400000.0,1458172800000.0,1459123200000.0,1459209600000.0,1459296000000.0,1459382400000.0,1459468800000.0,1459728000000.0,1459814400000.0,1459900800000.0,1459987200000.0,1460937600000.0,1461024000000.0,1461196800000.0,1461283200000.0,1461715200000.0],\"airdatestr\":[\"09/08/15\",\"09/09/15\",\"09/10/15\",\"09/11/15\",\"09/14/15\",\"09/15/15\",\"09/16/15\",\"09/17/15\",\"09/18/15\",\"09/21/15\",\"09/22/15\",\"09/23/15\",\"09/24/15\",\"09/25/15\",\"09/28/15\",\"09/29/15\",\"09/30/15\",\"10/01/15\",\"10/02/15\",\"10/05/15\",\"10/06/15\",\"10/07/15\",\"10/08/15\",\"10/09/15\",\"10/12/15\",\"10/13/15\",\"10/14/15\",\"10/15/15\",\"10/16/15\",\"10/26/15\",\"10/27/15\",\"10/28/15\",\"10/29/15\",\"10/30/15\",\"11/02/15\",\"11/03/15\",\"11/04/15\",\"11/05/15\",\"11/06/15\",\"11/09/15\",\"11/10/15\",\"11/11/15\",\"11/12/15\",\"11/13/15\",\"11/16/15\",\"11/17/15\",\"11/18/15\",\"11/19/15\",\"11/20/15\",\"11/23/15\",\"11/24/15\",\"11/25/15\",\"12/07/15\",\"12/08/15\",\"12/09/15\",\"12/10/15\",\"12/11/15\",\"12/14/15\",\"12/15/15\",\"12/16/15\",\"12/17/15\",\"12/18/15\",\"01/04/16\",\"01/05/16\",\"01/06/16\",\"01/07/16\",\"01/08/16\",\"01/12/16\",\"01/13/16\",\"01/14/16\",\"01/15/16\",\"01/18/16\",\"01/19/16\",\"01/20/16\",\"01/21/16\",\"01/22/16\",\"01/25/16\",\"01/26/16\",\"01/27/16\",\"01/28/16\",\"02/01/16\",\"02/02/16\",\"02/03/16\",\"02/04/16\",\"02/05/16\",\"02/07/16\",\"02/08/16\",\"02/09/16\",\"02/10/16\",\"02/11/16\",\"02/15/16\",\"02/16/16\",\"02/19/16\",\"02/22/16\",\"02/23/16\",\"02/24/16\",\"02/25/16\",\"02/29/16\",\"03/01/16\",\"03/02/16\",\"03/03/16\",\"03/07/16\",\"03/08/16\",\"03/09/16\",\"03/10/16\",\"03/11/16\",\"03/14/16\",\"03/15/16\",\"03/16/16\",\"03/17/16\",\"03/28/16\",\"03/29/16\",\"03/30/16\",\"03/31/16\",\"04/01/16\",\"04/04/16\",\"04/05/16\",\"04/06/16\",\"04/07/16\",\"04/18/16\",\"04/19/16\",\"04/21/16\",\"04/22/16\",\"04/27/16\"],\"index\":[0,1,2,3,4,5,6,7,8,9,10,11,12,13,14,15,16,17,18,19,20,21,22,23,24,25,26,27,28,29,30,31,32,33,34,35,36,37,38,39,40,41,42,43,44,45,46,47,48,49,50,51,52,53,54,55,56,57,58,59,60,61,62,63,64,65,66,68,69,70,71,72,73,74,75,76,77,78,79,80,81,82,83,84,85,86,87,88,89,90,91,92,95,96,97,98,99,100,101,102,103,104,105,106,107,108,109,110,111,112,113,114,115,116,117,118,119,120,121,122,123,125,126,129],\"number\":[1,2,3,4,5,6,7,8,9,10,11,12,13,14,15,16,17,18,19,20,21,22,23,24,25,26,27,28,29,30,31,32,33,34,35,36,37,38,39,40,41,42,43,44,45,46,47,48,49,50,51,52,53,54,55,56,57,58,59,60,61,62,63,64,65,66,67,69,70,71,72,73,74,75,76,77,78,79,80,81,82,83,84,85,86,87,88,89,90,91,92,93,96,97,98,99,100,101,102,103,104,105,106,107,108,109,110,111,112,113,114,115,116,117,118,119,120,121,122,123,124,126,127,130],\"rating\":[7.5,7.5,8.6,7.4,7.9,7.8,8.0,7.7,8.2,8.0,8.2,7.7,7.3,7.8,7.2,7.4,8.2,6.9,7.7,8.2,7.4,7.9,8.5,7.7,8.1,8.5,8.3,7.2,8.5,7.2,7.9,8.0,8.0,7.3,7.5,7.7,8.3,7.7,7.3,6.9,8.1,7.6,7.6,7.4,8.1,8.0,7.7,8.5,9.0,8.4,7.2,7.1,7.2,7.7,6.6,8.2,7.8,7.4,8.0,7.1,7.9,7.8,7.4,7.7,8.1,7.5,8.0,7.0,7.0,7.0,7.7,7.5,7.6,8.0,7.7,8.5,7.9,7.8,7.2,7.8,7.6,7.0,6.4,7.6,7.7,7.6,7.1,7.4,7.8,7.2,6.8,6.7,6.4,7.0,7.3,7.8,7.3,8.4,7.4,7.7,7.7,6.9,7.3,6.8,7.0,6.0,7.9,7.0,7.1,7.6,7.1,6.1,8.1,8.0,7.7,7.2,5.9,6.9,6.2,8.0,8.1,6.8,7.8,7.8],\"rating_count\":[97.0,58.0,66.0,42.0,36.0,32.0,36.0,32.0,36.0,32.0,31.0,27.0,23.0,24.0,18.0,20.0,19.0,18.0,20.0,18.0,20.0,8.0,13.0,15.0,14.0,15.0,13.0,14.0,20.0,12.0,14.0,12.0,18.0,14.0,11.0,16.0,18.0,15.0,12.0,11.0,14.0,11.0,8.0,13.0,18.0,10.0,10.0,8.0,11.0,10.0,8.0,8.0,9.0,9.0,8.0,10.0,8.0,10.0,9.0,11.0,8.0,6.0,7.0,6.0,7.0,6.0,7.0,7.0,6.0,7.0,6.0,6.0,7.0,9.0,6.0,6.0,9.0,6.0,8.0,8.0,8.0,9.0,9.0,9.0,6.0,11.0,7.0,9.0,13.0,8.0,5.0,10.0,7.0,7.0,6.0,6.0,7.0,7.0,8.0,7.0,6.0,7.0,10.0,10.0,8.0,7.0,8.0,8.0,8.0,9.0,10.0,13.0,7.0,9.0,11.0,6.0,10.0,9.0,6.0,6.0,8.0,5.0,5.0,8.0],\"title\":[\"George Clooney/Governor Jeb Bush/Mavis Staples & Friends\",\"Scarlett Johansson/Elon Musk/Kendrick Lamar\",\"Vice President Joe Biden/Travis Kalanick/Toby Keith\",\"Amy Schumer/Stephen King/Troubled Waters\",\"Emily Blunt/Justice Stephen Breyer/The Dead Weather\",\"Jake Gyllenhaal/Apple CEO Tim Cook/Run the Jewels & TV on the Radio\",\"Kevin Spacey/Carol Burnett/Abbi Jacobson & Ilana Glazer/Willie Nelson & John Mellencamp\",\"Trevor Noah/Ban Ki-Moon/Chris Stapleton\",\"Lupita Nyong'o/Sen. Bernie Sanders/Cast of \\\"An American in Paris\\\"\",\"Steph Curry/Sen. Ted Cruz/Don Henley\",\"Donald Trump/Ernest Moniz/Raury\",\"Hugh Jackman/Sen. Elizabeth Warren/Pearl Jam\",\"Andrew Sullivan/Maria Shriver/Jim Gaffigan/Archbishop Thomas Wenski\",\"Malala Yousafzai/Kerry Washington/The Arcs\",\"Michelle Obama/Mindy Kaling/John Legend\",\"Ellen Page/Jesse Eisenberg/Dominic Wilcox\",\"Elizabeth Gilbert/John Oliver/Evan Spiegel/Bill Withers/Ed Sheeran\",\"Secretary of State John Kerry/Claire Danes/PewDiePie\",\"Morgan Freeman/Ruth Wilson/Sean Murray\",\"John McCain/Yo-Yo Ma/Misty Copeland\",\"Bill Clinton/Billy Eichner/Florence and the Machine\",\"Gina Rodriguez/Ben Bernanke/Tame Impala\",\"Cate Blanchett/Airbnb CEO Brian Chesky\",\"James Corden/Shane Smith/Halsey\",\"Carey Mulligan/Elvis Costello/Darlene Love\",\"Sarah Silverman/Elijah Wood/The Legends of Zelda: Symphony of the Goddesses\",\"Jack Black/Nick Woodman/Michelle Dorrance\",\"Oprah Winfrey/Joseph Fink & Jeffrey Cranor/Judith Hill\",\"Jimmy Kimmel/\\\"Crimson Peak\\\" Cast/Beach House\",\"Sienna Miller/Melissa Benoist/Chance the Rapper\",\"Hillary Clinton/Anthony Bourdain/Carrie Brownstein/Lianne La Navas\",\"Julianna Margulies/Jonathan Franzen/Alabama Shakes\",\"Seth MacFarlane/Neil DeGrasse Tyson\",\"Charlie Rose/Stacy Schiff/Ghost/The Zombies\",\"Allison Janney/Colin Quinn/Margaret Cho\",\"Antonio Banderas/Reed Hastings/John Irving\",\"Daniel Craig/Elizabeth Gilbert/Dr. Eugenia Cheng\",\"Bryan Cranston/Karl Ove Knausgaard/Shamir\",\"Whoopi Goldberg/Gov. John Kasich/Glen Hansard\",\"Ethan Hawke/Sen. Claire McCaskill & Sen. Amy Klobuchar/Nathaniel Ratcliff & the Night Sweats\",\"Aziz Ansari/Shonda Rhimes/Bruce Campbell & Lucy Lawless\",\"Viola Davis/Brian Greene/George Ezra\",\"Jennifer Connelly/Judd Apatow/The Internet\",\"Mark Ruffalo/John Cleese/Micheal Flatley\",\"Capt. Florent Groberg/Bill Maher/Shepard Fairey/The Acro-Cats\",\"Julianne Moore/Burt Reynolds/Public Image Ltd./CeeLo Green\",\"Sharon Stone/Justin Theroux/James Taylor\",\"Jane Fonda/Andrew Lloyd Webber/Brandon Niederauer\",\"Michael Caine/Larry Wilmore/Boots/Vulfpeck\",\"Sylvester Stallone/Ted Koppel/My Morning Jacket\",\"Spike Lee/Andy Cohen/Carly Simon\",\"Gloria Estefan/Navy Seal Eric Greitens/Jake Wood/Chef Daniel Boulud\",\"Steve Carell/Jennifer Hudson\",\"Marion Cotillard/George Saunders/Joanna Newsom\",\"Cast of \\\"Downton Abbey\\\"/Adam McKay/Kurt Vile\",\"Bruce Willis/Michael Lewis/Lizzo\",\"Lin-Manuel Miranda/Ike Barinholtz/Sharon Jones & the Dap Kings\",\"Jennifer Lawrence/Doris Kearns Goodwin/Sleater-Kinney\",\"Quentin Tarantino/Jonathan Groff/Squeeze\",\"Robert De Niro/Daniel Gilbert/Henry Rollins\",\"Michael Moore/Samantha Power/Michael C. Hall\",\"Mandy Patinkin/Kayvon Beykpour/Leon Bridges\",\"Samuel L. Jackson/Olivia Hallisey/Foals\",\"John Krasinski/Killer Mike/George Church/Foals\",\"Jerry Seinfeld/Sen. Rand Paul/Andra Day\",\"Damian Lewis/America Ferrera/FloydLittle's Double Dutch Team\",\"Matthew Broderick/Sarah Parcak/Kacey Musgraves\",\"Saoirse Ronan/Jeremy Stoppelman/Laura Ricciardi & Moira Demos/James Bay\",\"Paul Giamatti/Guerilla Girls/J.B. Mauney\",\"Olivia Munn/T.J. Miller/Father John Misty\",\"Scott Kelly/Abby Wambach/Maria Bamford\",\"Patricia Heaton/Quincy Jones/DeRay Mckesson/Grace\",\"Charlie Day/Colin Hanks/Margo Price\",\"James Spader/Brandon Marshall/Sarah Koenig/Rev Run\",\"Christian Slater/Josh Radnor/Iggy Pop\",\"Steven Tyler/Gaby Hoffmann/Lapsley\",\"Donald Rumsfeld/Russell Westbrook/Anderson Paak & the Free Nationals\",\"Laurence Fishburne/Sarah Paulson/Woke\",\"Chris Pine/Danielle Brooks/Jonah Reider/Baauer\",\"Josh Brolin/John Dickerson/Erin Brockovich/Aubrie Sellers\",\"John Travolta & Courtney B. Vance/Amy Cuddy/John Moreland\",\"David Schwimmer/Pastor Joel Osteen/M. Ward\",\"Dr. Phil McGraw/Mark & Jay Duplass/Michael Eric Dyson/Anderson Paak & the Free Nationals\",\"Michael Strahan/Samantha Bee/Wilco\",\"Bobby Cannavale/Donny Deutsch/Charles Kelley\",\"Tina Fey & Margot Robbie/Will Ferrell/Megyn Kelly/Keegan-Michael Key & Jordan Peele\",\"Bill O'Reilly/Eddie George/Macklemore & Ryan Lewis\",\"Olivia Wilde/Christiane Amanpour\",\"Ben Stiller/Sen. Bernie Sanders/TAO: Seventeen Samurai\",\"Kelsey Grammer/Fred Armisen/Sarah McDaniel/Ty Segall & the Muggers\",\"Craig Ferguson/Hailey Clauson & Ashley Graham/Cory Booker\",\"Eva Longoria/Abbi Jacobson & Ilana Glazer/Lucinda Williams\",\"Chelsea Handler/Zosia Mamet/The Lumineers\",\"Casey Affleck/Richard Dreyfuss/Mavis Staples\",\"Debra Messing/Zachary Quinto/Violent Femmes\",\"Adrien Brody/Danai Gurira/Brian Greene\",\"Tim Daly/Krysten Ritter/Jason Isbell\",\"Spike Jonze/Jeffrey Dean Morgan/Jack Garratt\",\"Chrissy Teigen/Mike Birbiglia/Adam Savage\",\"Octavia Spencer/John Stamos, Bob Saget & Dave Coulier/Lucius\",\"Christopher Meloni/Edward Byers/Ray LaMontagne\",\"Will Arnett/Charles Barkley/Max Greenfield\",\"Helen Mirren/J.J. Abrams/DMA's\",\"Sally Field/Jerrod Carmichael/Esperanza Spalding\",\"Anna Kendrick/Loretta Lynch/Brian Fallon\",\"Jeff Daniels/Audra McDonald/Mary Elizabeth Winstead\",\"John Oliver/Jordan Spieth/New Order\",\"Steve Martin & Edie Brickell/Shirley MacLaine/Gustavo Dudamel/Los Angeles Philharmonic\",\"Theo James/Jussie Smollett/Laurie Anderson\",\"William H. Macy/Melissa Rauch/Isaac Mizrahi\",\"Tom Hiddleston/Laura Benanti/Frightened Rabbit\",\"Adam Driver/Rachel Bloom/Savages\",\"Eric Stonestreet/Jason Jones/Sen. Elizabeth Warren\",\"Sarah Paulson/Tatiana Maslany/Wynton Marsalis, Lil Buck & Jared Grimes\",\"Steve Buscemi/Benjamin Walker/Cast of Broadway's \\\"American Psycho\\\"\",\"Matthew Perry/Nick Offerman/Explosions in the Sky\",\"Melissa McCarthy & Ben Falcone/Arianna Huffington/Babymetal\",\"Anna Kendrick & Sam Rockwell/David Duchovny/Autolux\",\"Mindy Kaling/Tituss Burgess/Ken Burns\",\"Hillary Clinton/Jesse Tyler Ferguson/Katharine McPhee/Sturgill Simpson\",\"Kevin Spacey/Thomas Middleditch/The Flaming Lips\",\"Tom Hanks/Leslie Odom, Jr./The Strumbellas/Roy Haynes\",\"Julia Louis-Dreyfus/Nikolaj Coster-Waldau/Sam Morril\",\"Susan Sarandon/David Tennant/Catfish & the Bottlemen\"]}},\"id\":\"a8ab26c5-e26e-4592-b9b5-c7afd5934433\",\"type\":\"ColumnDataSource\"},{\"attributes\":{\"months\":[0,6]},\"id\":\"27c40ac4-e0a2-44da-9a06-91df55ee1802\",\"type\":\"MonthsTicker\"},{\"attributes\":{\"bottom_units\":\"screen\",\"fill_alpha\":{\"value\":0.5},\"fill_color\":{\"value\":\"lightgrey\"},\"left_units\":\"screen\",\"level\":\"overlay\",\"line_alpha\":{\"value\":1.0},\"line_color\":{\"value\":\"black\"},\"line_dash\":[4,4],\"line_width\":{\"value\":2},\"plot\":null,\"render_mode\":\"css\",\"right_units\":\"screen\",\"top_units\":\"screen\"},\"id\":\"12a11d39-792a-4d5d-8fd0-61b8a71eaee9\",\"type\":\"BoxAnnotation\"},{\"attributes\":{\"months\":[0,1,2,3,4,5,6,7,8,9,10,11]},\"id\":\"ca7271f3-d1b8-491a-8ad2-e1907be18c5c\",\"type\":\"MonthsTicker\"},{\"attributes\":{\"months\":[0,6]},\"id\":\"5bee76c3-f554-4f7a-8635-37dfb762280c\",\"type\":\"MonthsTicker\"},{\"attributes\":{\"plot\":{\"id\":\"608c788c-9ff8-4c17-be38-65fa4643842f\",\"subtype\":\"Figure\",\"type\":\"Plot\"}},\"id\":\"76005dc1-2801-4f56-907c-f2abc9c01d05\",\"type\":\"PreviewSaveTool\"},{\"attributes\":{},\"id\":\"892c2a80-78d0-4e5c-849d-9c197a4af14e\",\"type\":\"YearsTicker\"},{\"attributes\":{\"plot\":{\"id\":\"86fd8438-72e3-4d95-a748-15c37bca4056\",\"subtype\":\"Figure\",\"type\":\"Plot\"}},\"id\":\"39fd712d-89d6-4f52-ab6d-c014ec56f4a4\",\"type\":\"WheelZoomTool\"},{\"attributes\":{\"callback\":null},\"id\":\"97e11973-561c-4a43-850e-7f6d6e6cc99c\",\"type\":\"DataRange1d\"},{\"attributes\":{\"months\":[0,4,8]},\"id\":\"c9be4236-0c63-47c6-aad8-26c09ee0eaf9\",\"type\":\"MonthsTicker\"},{\"attributes\":{\"max_interval\":500.0,\"num_minor_ticks\":0},\"id\":\"d505ae28-bf3e-4afb-aac9-263771673f20\",\"type\":\"AdaptiveTicker\"},{\"attributes\":{\"data_source\":{\"id\":\"a8ab26c5-e26e-4592-b9b5-c7afd5934433\",\"type\":\"ColumnDataSource\"},\"glyph\":{\"id\":\"4af81153-0865-4bc4-b924-f36a62b6a7d9\",\"type\":\"Circle\"},\"hover_glyph\":null,\"nonselection_glyph\":{\"id\":\"0228c2b5-d9c8-4b86-bcf3-a81221eef68a\",\"type\":\"Circle\"},\"selection_glyph\":null},\"id\":\"6ec0288a-c2ce-4a4f-be59-43ac8b92f148\",\"type\":\"GlyphRenderer\"},{\"attributes\":{\"plot\":{\"id\":\"86fd8438-72e3-4d95-a748-15c37bca4056\",\"subtype\":\"Figure\",\"type\":\"Plot\"}},\"id\":\"9438c3e8-ec50-458a-bfd5-5f05be1b1bcb\",\"type\":\"ResetTool\"},{\"attributes\":{\"plot\":{\"id\":\"86fd8438-72e3-4d95-a748-15c37bca4056\",\"subtype\":\"Figure\",\"type\":\"Plot\"}},\"id\":\"0a5f51b9-6147-46ab-afb3-0ca7b8c9b583\",\"type\":\"HelpTool\"},{\"attributes\":{},\"id\":\"33111c3d-a907-4c1a-8489-247fda2a990f\",\"type\":\"ToolEvents\"},{\"attributes\":{},\"id\":\"d06519cf-7f69-42f5-a656-27d67b3ebef5\",\"type\":\"DatetimeTickFormatter\"},{\"attributes\":{\"num_minor_ticks\":5},\"id\":\"3b624853-365b-44d6-a483-18b4f94d2939\",\"type\":\"DatetimeTicker\"},{\"attributes\":{\"plot\":{\"id\":\"608c788c-9ff8-4c17-be38-65fa4643842f\",\"subtype\":\"Figure\",\"type\":\"Plot\"},\"ticker\":{\"id\":\"fce55f51-ef6b-4983-b148-15a5b52d859a\",\"type\":\"DatetimeTicker\"}},\"id\":\"61103a70-249e-4717-b37c-82664eebe483\",\"type\":\"Grid\"},{\"attributes\":{\"callback\":null,\"plot\":{\"id\":\"86fd8438-72e3-4d95-a748-15c37bca4056\",\"subtype\":\"Figure\",\"type\":\"Plot\"},\"tooltips\":[[\"Episode\",\"@number\"],[\"Title\",\"@title\"],[\"Airdate\",\"@airdatestr\"],[\"Rating\",\"@rating{1.11}\"],[\"Rating Count\",\"@rating_count{1.11}\"]]},\"id\":\"d7193d0b-4c28-4bd1-ab58-9301f659455b\",\"type\":\"HoverTool\"},{\"attributes\":{},\"id\":\"08ec61be-57d9-463a-8f6b-307c5bbd5e2a\",\"type\":\"BasicTicker\"},{\"attributes\":{\"fill_alpha\":{\"value\":0.1},\"fill_color\":{\"value\":\"#1f77b4\"},\"line_alpha\":{\"value\":0.1},\"line_color\":{\"value\":\"#1f77b4\"},\"line_width\":{\"value\":2},\"size\":{\"units\":\"screen\",\"value\":5},\"x\":{\"field\":\"airdate\"},\"y\":{\"field\":\"rating_count\"}},\"id\":\"4998a89f-b848-480a-86f7-e8232ae891cb\",\"type\":\"Circle\"},{\"attributes\":{\"base\":24,\"mantissas\":[1,2,4,6,8,12],\"max_interval\":43200000.0,\"min_interval\":3600000.0,\"num_minor_ticks\":0},\"id\":\"d8f36446-3f71-4e4c-bfb2-042a1bf7f63a\",\"type\":\"AdaptiveTicker\"},{\"attributes\":{\"callback\":null},\"id\":\"15e8dffe-4341-4ed9-a85a-8a4cc4cb56ff\",\"type\":\"DataRange1d\"},{\"attributes\":{\"fill_color\":{\"value\":\"#1f77b4\"},\"line_color\":{\"value\":\"#1f77b4\"},\"line_width\":{\"value\":2},\"size\":{\"units\":\"screen\",\"value\":5},\"x\":{\"field\":\"airdate\"},\"y\":{\"field\":\"rating_count\"}},\"id\":\"1b247d4a-84f5-404c-9a07-8fb0a1ac1b4d\",\"type\":\"Circle\"},{\"attributes\":{\"callback\":null,\"column_names\":[\"rating\",\"airdate\",\"rating_count\",\"title\",\"index\",\"number\",\"airdatestr\"],\"data\":{\"airdate\":[1441670400000.0,1441756800000.0,1441843200000.0,1441929600000.0,1442188800000.0,1442275200000.0,1442361600000.0,1442448000000.0,1442534400000.0,1442793600000.0,1442880000000.0,1442966400000.0,1443052800000.0,1443139200000.0,1443398400000.0,1443484800000.0,1443571200000.0,1443657600000.0,1443744000000.0,1444003200000.0,1444089600000.0,1444176000000.0,1444262400000.0,1444348800000.0,1444608000000.0,1444694400000.0,1444780800000.0,1444867200000.0,1444953600000.0,1445817600000.0,1445904000000.0,1445990400000.0,1446076800000.0,1446163200000.0,1446422400000.0,1446508800000.0,1446595200000.0,1446681600000.0,1446768000000.0,1447027200000.0,1447113600000.0,1447200000000.0,1447286400000.0,1447372800000.0,1447632000000.0,1447718400000.0,1447804800000.0,1447891200000.0,1447977600000.0,1448236800000.0,1448323200000.0,1448409600000.0,1449446400000.0,1449532800000.0,1449619200000.0,1449705600000.0,1449792000000.0,1450051200000.0,1450137600000.0,1450224000000.0,1450310400000.0,1450396800000.0,1451865600000.0,1451952000000.0,1452038400000.0,1452124800000.0,1452211200000.0,1452556800000.0,1452643200000.0,1452729600000.0,1452816000000.0,1453075200000.0,1453161600000.0,1453248000000.0,1453334400000.0,1453420800000.0,1453680000000.0,1453766400000.0,1453852800000.0,1453939200000.0,1454284800000.0,1454371200000.0,1454457600000.0,1454544000000.0,1454630400000.0,1454803200000.0,1454889600000.0,1454976000000.0,1455062400000.0,1455148800000.0,1455494400000.0,1455580800000.0,1455840000000.0,1456099200000.0,1456185600000.0,1456272000000.0,1456358400000.0,1456704000000.0,1456790400000.0,1456876800000.0,1456963200000.0,1457308800000.0,1457395200000.0,1457481600000.0,1457568000000.0,1457654400000.0,1457913600000.0,1458000000000.0,1458086400000.0,1458172800000.0,1459123200000.0,1459209600000.0,1459296000000.0,1459382400000.0,1459468800000.0,1459728000000.0,1459814400000.0,1459900800000.0,1459987200000.0,1460937600000.0,1461024000000.0,1461196800000.0,1461283200000.0,1461715200000.0],\"airdatestr\":[\"09/08/15\",\"09/09/15\",\"09/10/15\",\"09/11/15\",\"09/14/15\",\"09/15/15\",\"09/16/15\",\"09/17/15\",\"09/18/15\",\"09/21/15\",\"09/22/15\",\"09/23/15\",\"09/24/15\",\"09/25/15\",\"09/28/15\",\"09/29/15\",\"09/30/15\",\"10/01/15\",\"10/02/15\",\"10/05/15\",\"10/06/15\",\"10/07/15\",\"10/08/15\",\"10/09/15\",\"10/12/15\",\"10/13/15\",\"10/14/15\",\"10/15/15\",\"10/16/15\",\"10/26/15\",\"10/27/15\",\"10/28/15\",\"10/29/15\",\"10/30/15\",\"11/02/15\",\"11/03/15\",\"11/04/15\",\"11/05/15\",\"11/06/15\",\"11/09/15\",\"11/10/15\",\"11/11/15\",\"11/12/15\",\"11/13/15\",\"11/16/15\",\"11/17/15\",\"11/18/15\",\"11/19/15\",\"11/20/15\",\"11/23/15\",\"11/24/15\",\"11/25/15\",\"12/07/15\",\"12/08/15\",\"12/09/15\",\"12/10/15\",\"12/11/15\",\"12/14/15\",\"12/15/15\",\"12/16/15\",\"12/17/15\",\"12/18/15\",\"01/04/16\",\"01/05/16\",\"01/06/16\",\"01/07/16\",\"01/08/16\",\"01/12/16\",\"01/13/16\",\"01/14/16\",\"01/15/16\",\"01/18/16\",\"01/19/16\",\"01/20/16\",\"01/21/16\",\"01/22/16\",\"01/25/16\",\"01/26/16\",\"01/27/16\",\"01/28/16\",\"02/01/16\",\"02/02/16\",\"02/03/16\",\"02/04/16\",\"02/05/16\",\"02/07/16\",\"02/08/16\",\"02/09/16\",\"02/10/16\",\"02/11/16\",\"02/15/16\",\"02/16/16\",\"02/19/16\",\"02/22/16\",\"02/23/16\",\"02/24/16\",\"02/25/16\",\"02/29/16\",\"03/01/16\",\"03/02/16\",\"03/03/16\",\"03/07/16\",\"03/08/16\",\"03/09/16\",\"03/10/16\",\"03/11/16\",\"03/14/16\",\"03/15/16\",\"03/16/16\",\"03/17/16\",\"03/28/16\",\"03/29/16\",\"03/30/16\",\"03/31/16\",\"04/01/16\",\"04/04/16\",\"04/05/16\",\"04/06/16\",\"04/07/16\",\"04/18/16\",\"04/19/16\",\"04/21/16\",\"04/22/16\",\"04/27/16\"],\"index\":[0,1,2,3,4,5,6,7,8,9,10,11,12,13,14,15,16,17,18,19,20,21,22,23,24,25,26,27,28,29,30,31,32,33,34,35,36,37,38,39,40,41,42,43,44,45,46,47,48,49,50,51,52,53,54,55,56,57,58,59,60,61,62,63,64,65,66,68,69,70,71,72,73,74,75,76,77,78,79,80,81,82,83,84,85,86,87,88,89,90,91,92,95,96,97,98,99,100,101,102,103,104,105,106,107,108,109,110,111,112,113,114,115,116,117,118,119,120,121,122,123,125,126,129],\"number\":[1,2,3,4,5,6,7,8,9,10,11,12,13,14,15,16,17,18,19,20,21,22,23,24,25,26,27,28,29,30,31,32,33,34,35,36,37,38,39,40,41,42,43,44,45,46,47,48,49,50,51,52,53,54,55,56,57,58,59,60,61,62,63,64,65,66,67,69,70,71,72,73,74,75,76,77,78,79,80,81,82,83,84,85,86,87,88,89,90,91,92,93,96,97,98,99,100,101,102,103,104,105,106,107,108,109,110,111,112,113,114,115,116,117,118,119,120,121,122,123,124,126,127,130],\"rating\":[7.5,7.5,8.6,7.4,7.9,7.8,8.0,7.7,8.2,8.0,8.2,7.7,7.3,7.8,7.2,7.4,8.2,6.9,7.7,8.2,7.4,7.9,8.5,7.7,8.1,8.5,8.3,7.2,8.5,7.2,7.9,8.0,8.0,7.3,7.5,7.7,8.3,7.7,7.3,6.9,8.1,7.6,7.6,7.4,8.1,8.0,7.7,8.5,9.0,8.4,7.2,7.1,7.2,7.7,6.6,8.2,7.8,7.4,8.0,7.1,7.9,7.8,7.4,7.7,8.1,7.5,8.0,7.0,7.0,7.0,7.7,7.5,7.6,8.0,7.7,8.5,7.9,7.8,7.2,7.8,7.6,7.0,6.4,7.6,7.7,7.6,7.1,7.4,7.8,7.2,6.8,6.7,6.4,7.0,7.3,7.8,7.3,8.4,7.4,7.7,7.7,6.9,7.3,6.8,7.0,6.0,7.9,7.0,7.1,7.6,7.1,6.1,8.1,8.0,7.7,7.2,5.9,6.9,6.2,8.0,8.1,6.8,7.8,7.8],\"rating_count\":[97.0,58.0,66.0,42.0,36.0,32.0,36.0,32.0,36.0,32.0,31.0,27.0,23.0,24.0,18.0,20.0,19.0,18.0,20.0,18.0,20.0,8.0,13.0,15.0,14.0,15.0,13.0,14.0,20.0,12.0,14.0,12.0,18.0,14.0,11.0,16.0,18.0,15.0,12.0,11.0,14.0,11.0,8.0,13.0,18.0,10.0,10.0,8.0,11.0,10.0,8.0,8.0,9.0,9.0,8.0,10.0,8.0,10.0,9.0,11.0,8.0,6.0,7.0,6.0,7.0,6.0,7.0,7.0,6.0,7.0,6.0,6.0,7.0,9.0,6.0,6.0,9.0,6.0,8.0,8.0,8.0,9.0,9.0,9.0,6.0,11.0,7.0,9.0,13.0,8.0,5.0,10.0,7.0,7.0,6.0,6.0,7.0,7.0,8.0,7.0,6.0,7.0,10.0,10.0,8.0,7.0,8.0,8.0,8.0,9.0,10.0,13.0,7.0,9.0,11.0,6.0,10.0,9.0,6.0,6.0,8.0,5.0,5.0,8.0],\"title\":[\"George Clooney/Governor Jeb Bush/Mavis Staples & Friends\",\"Scarlett Johansson/Elon Musk/Kendrick Lamar\",\"Vice President Joe Biden/Travis Kalanick/Toby Keith\",\"Amy Schumer/Stephen King/Troubled Waters\",\"Emily Blunt/Justice Stephen Breyer/The Dead Weather\",\"Jake Gyllenhaal/Apple CEO Tim Cook/Run the Jewels & TV on the Radio\",\"Kevin Spacey/Carol Burnett/Abbi Jacobson & Ilana Glazer/Willie Nelson & John Mellencamp\",\"Trevor Noah/Ban Ki-Moon/Chris Stapleton\",\"Lupita Nyong'o/Sen. Bernie Sanders/Cast of \\\"An American in Paris\\\"\",\"Steph Curry/Sen. Ted Cruz/Don Henley\",\"Donald Trump/Ernest Moniz/Raury\",\"Hugh Jackman/Sen. Elizabeth Warren/Pearl Jam\",\"Andrew Sullivan/Maria Shriver/Jim Gaffigan/Archbishop Thomas Wenski\",\"Malala Yousafzai/Kerry Washington/The Arcs\",\"Michelle Obama/Mindy Kaling/John Legend\",\"Ellen Page/Jesse Eisenberg/Dominic Wilcox\",\"Elizabeth Gilbert/John Oliver/Evan Spiegel/Bill Withers/Ed Sheeran\",\"Secretary of State John Kerry/Claire Danes/PewDiePie\",\"Morgan Freeman/Ruth Wilson/Sean Murray\",\"John McCain/Yo-Yo Ma/Misty Copeland\",\"Bill Clinton/Billy Eichner/Florence and the Machine\",\"Gina Rodriguez/Ben Bernanke/Tame Impala\",\"Cate Blanchett/Airbnb CEO Brian Chesky\",\"James Corden/Shane Smith/Halsey\",\"Carey Mulligan/Elvis Costello/Darlene Love\",\"Sarah Silverman/Elijah Wood/The Legends of Zelda: Symphony of the Goddesses\",\"Jack Black/Nick Woodman/Michelle Dorrance\",\"Oprah Winfrey/Joseph Fink & Jeffrey Cranor/Judith Hill\",\"Jimmy Kimmel/\\\"Crimson Peak\\\" Cast/Beach House\",\"Sienna Miller/Melissa Benoist/Chance the Rapper\",\"Hillary Clinton/Anthony Bourdain/Carrie Brownstein/Lianne La Navas\",\"Julianna Margulies/Jonathan Franzen/Alabama Shakes\",\"Seth MacFarlane/Neil DeGrasse Tyson\",\"Charlie Rose/Stacy Schiff/Ghost/The Zombies\",\"Allison Janney/Colin Quinn/Margaret Cho\",\"Antonio Banderas/Reed Hastings/John Irving\",\"Daniel Craig/Elizabeth Gilbert/Dr. Eugenia Cheng\",\"Bryan Cranston/Karl Ove Knausgaard/Shamir\",\"Whoopi Goldberg/Gov. John Kasich/Glen Hansard\",\"Ethan Hawke/Sen. Claire McCaskill & Sen. Amy Klobuchar/Nathaniel Ratcliff & the Night Sweats\",\"Aziz Ansari/Shonda Rhimes/Bruce Campbell & Lucy Lawless\",\"Viola Davis/Brian Greene/George Ezra\",\"Jennifer Connelly/Judd Apatow/The Internet\",\"Mark Ruffalo/John Cleese/Micheal Flatley\",\"Capt. Florent Groberg/Bill Maher/Shepard Fairey/The Acro-Cats\",\"Julianne Moore/Burt Reynolds/Public Image Ltd./CeeLo Green\",\"Sharon Stone/Justin Theroux/James Taylor\",\"Jane Fonda/Andrew Lloyd Webber/Brandon Niederauer\",\"Michael Caine/Larry Wilmore/Boots/Vulfpeck\",\"Sylvester Stallone/Ted Koppel/My Morning Jacket\",\"Spike Lee/Andy Cohen/Carly Simon\",\"Gloria Estefan/Navy Seal Eric Greitens/Jake Wood/Chef Daniel Boulud\",\"Steve Carell/Jennifer Hudson\",\"Marion Cotillard/George Saunders/Joanna Newsom\",\"Cast of \\\"Downton Abbey\\\"/Adam McKay/Kurt Vile\",\"Bruce Willis/Michael Lewis/Lizzo\",\"Lin-Manuel Miranda/Ike Barinholtz/Sharon Jones & the Dap Kings\",\"Jennifer Lawrence/Doris Kearns Goodwin/Sleater-Kinney\",\"Quentin Tarantino/Jonathan Groff/Squeeze\",\"Robert De Niro/Daniel Gilbert/Henry Rollins\",\"Michael Moore/Samantha Power/Michael C. Hall\",\"Mandy Patinkin/Kayvon Beykpour/Leon Bridges\",\"Samuel L. Jackson/Olivia Hallisey/Foals\",\"John Krasinski/Killer Mike/George Church/Foals\",\"Jerry Seinfeld/Sen. Rand Paul/Andra Day\",\"Damian Lewis/America Ferrera/FloydLittle's Double Dutch Team\",\"Matthew Broderick/Sarah Parcak/Kacey Musgraves\",\"Saoirse Ronan/Jeremy Stoppelman/Laura Ricciardi & Moira Demos/James Bay\",\"Paul Giamatti/Guerilla Girls/J.B. Mauney\",\"Olivia Munn/T.J. Miller/Father John Misty\",\"Scott Kelly/Abby Wambach/Maria Bamford\",\"Patricia Heaton/Quincy Jones/DeRay Mckesson/Grace\",\"Charlie Day/Colin Hanks/Margo Price\",\"James Spader/Brandon Marshall/Sarah Koenig/Rev Run\",\"Christian Slater/Josh Radnor/Iggy Pop\",\"Steven Tyler/Gaby Hoffmann/Lapsley\",\"Donald Rumsfeld/Russell Westbrook/Anderson Paak & the Free Nationals\",\"Laurence Fishburne/Sarah Paulson/Woke\",\"Chris Pine/Danielle Brooks/Jonah Reider/Baauer\",\"Josh Brolin/John Dickerson/Erin Brockovich/Aubrie Sellers\",\"John Travolta & Courtney B. Vance/Amy Cuddy/John Moreland\",\"David Schwimmer/Pastor Joel Osteen/M. Ward\",\"Dr. Phil McGraw/Mark & Jay Duplass/Michael Eric Dyson/Anderson Paak & the Free Nationals\",\"Michael Strahan/Samantha Bee/Wilco\",\"Bobby Cannavale/Donny Deutsch/Charles Kelley\",\"Tina Fey & Margot Robbie/Will Ferrell/Megyn Kelly/Keegan-Michael Key & Jordan Peele\",\"Bill O'Reilly/Eddie George/Macklemore & Ryan Lewis\",\"Olivia Wilde/Christiane Amanpour\",\"Ben Stiller/Sen. Bernie Sanders/TAO: Seventeen Samurai\",\"Kelsey Grammer/Fred Armisen/Sarah McDaniel/Ty Segall & the Muggers\",\"Craig Ferguson/Hailey Clauson & Ashley Graham/Cory Booker\",\"Eva Longoria/Abbi Jacobson & Ilana Glazer/Lucinda Williams\",\"Chelsea Handler/Zosia Mamet/The Lumineers\",\"Casey Affleck/Richard Dreyfuss/Mavis Staples\",\"Debra Messing/Zachary Quinto/Violent Femmes\",\"Adrien Brody/Danai Gurira/Brian Greene\",\"Tim Daly/Krysten Ritter/Jason Isbell\",\"Spike Jonze/Jeffrey Dean Morgan/Jack Garratt\",\"Chrissy Teigen/Mike Birbiglia/Adam Savage\",\"Octavia Spencer/John Stamos, Bob Saget & Dave Coulier/Lucius\",\"Christopher Meloni/Edward Byers/Ray LaMontagne\",\"Will Arnett/Charles Barkley/Max Greenfield\",\"Helen Mirren/J.J. Abrams/DMA's\",\"Sally Field/Jerrod Carmichael/Esperanza Spalding\",\"Anna Kendrick/Loretta Lynch/Brian Fallon\",\"Jeff Daniels/Audra McDonald/Mary Elizabeth Winstead\",\"John Oliver/Jordan Spieth/New Order\",\"Steve Martin & Edie Brickell/Shirley MacLaine/Gustavo Dudamel/Los Angeles Philharmonic\",\"Theo James/Jussie Smollett/Laurie Anderson\",\"William H. Macy/Melissa Rauch/Isaac Mizrahi\",\"Tom Hiddleston/Laura Benanti/Frightened Rabbit\",\"Adam Driver/Rachel Bloom/Savages\",\"Eric Stonestreet/Jason Jones/Sen. Elizabeth Warren\",\"Sarah Paulson/Tatiana Maslany/Wynton Marsalis, Lil Buck & Jared Grimes\",\"Steve Buscemi/Benjamin Walker/Cast of Broadway's \\\"American Psycho\\\"\",\"Matthew Perry/Nick Offerman/Explosions in the Sky\",\"Melissa McCarthy & Ben Falcone/Arianna Huffington/Babymetal\",\"Anna Kendrick & Sam Rockwell/David Duchovny/Autolux\",\"Mindy Kaling/Tituss Burgess/Ken Burns\",\"Hillary Clinton/Jesse Tyler Ferguson/Katharine McPhee/Sturgill Simpson\",\"Kevin Spacey/Thomas Middleditch/The Flaming Lips\",\"Tom Hanks/Leslie Odom, Jr./The Strumbellas/Roy Haynes\",\"Julia Louis-Dreyfus/Nikolaj Coster-Waldau/Sam Morril\",\"Susan Sarandon/David Tennant/Catfish & the Bottlemen\"]}},\"id\":\"94ebbd05-c8a5-4c93-8835-e8245ee275c3\",\"type\":\"ColumnDataSource\"},{\"attributes\":{\"base\":60,\"mantissas\":[1,2,5,10,15,20,30],\"max_interval\":1800000.0,\"min_interval\":1000.0,\"num_minor_ticks\":0},\"id\":\"812f92e9-bd12-4b8c-bb33-e7bb4108c34e\",\"type\":\"AdaptiveTicker\"},{\"attributes\":{\"bottom_units\":\"screen\",\"fill_alpha\":{\"value\":0.5},\"fill_color\":{\"value\":\"lightgrey\"},\"left_units\":\"screen\",\"level\":\"overlay\",\"line_alpha\":{\"value\":1.0},\"line_color\":{\"value\":\"black\"},\"line_dash\":[4,4],\"line_width\":{\"value\":2},\"plot\":null,\"render_mode\":\"css\",\"right_units\":\"screen\",\"top_units\":\"screen\"},\"id\":\"4531ebf5-06e1-4d5f-8647-ba873a286026\",\"type\":\"BoxAnnotation\"},{\"attributes\":{\"dimension\":1,\"plot\":{\"id\":\"608c788c-9ff8-4c17-be38-65fa4643842f\",\"subtype\":\"Figure\",\"type\":\"Plot\"},\"ticker\":{\"id\":\"08ec61be-57d9-463a-8f6b-307c5bbd5e2a\",\"type\":\"BasicTicker\"}},\"id\":\"fad73573-54bf-4a40-b86a-d8e7db1fb66c\",\"type\":\"Grid\"},{\"attributes\":{\"formatter\":{\"id\":\"d06519cf-7f69-42f5-a656-27d67b3ebef5\",\"type\":\"DatetimeTickFormatter\"},\"plot\":{\"id\":\"608c788c-9ff8-4c17-be38-65fa4643842f\",\"subtype\":\"Figure\",\"type\":\"Plot\"},\"ticker\":{\"id\":\"fce55f51-ef6b-4983-b148-15a5b52d859a\",\"type\":\"DatetimeTicker\"}},\"id\":\"2c03501b-18d8-4f7f-bedb-065d9ad0579a\",\"type\":\"DatetimeAxis\"},{\"attributes\":{},\"id\":\"cb880520-791c-4b9f-977e-e2a6d6406479\",\"type\":\"ToolEvents\"},{\"attributes\":{\"plot\":{\"id\":\"608c788c-9ff8-4c17-be38-65fa4643842f\",\"subtype\":\"Figure\",\"type\":\"Plot\"}},\"id\":\"ebfb2d54-e95f-434d-b33f-e5cc4946f33f\",\"type\":\"PanTool\"},{\"attributes\":{\"dimension\":1,\"plot\":{\"id\":\"86fd8438-72e3-4d95-a748-15c37bca4056\",\"subtype\":\"Figure\",\"type\":\"Plot\"},\"ticker\":{\"id\":\"5ad8d05d-1de1-42b6-a690-b32cf8fa6460\",\"type\":\"BasicTicker\"}},\"id\":\"624b193a-cc8f-4a72-a43a-f635103f8be4\",\"type\":\"Grid\"},{\"attributes\":{\"days\":[1,4,7,10,13,16,19,22,25,28]},\"id\":\"a22423ad-ddd5-4cce-ada1-7c0f30657e41\",\"type\":\"DaysTicker\"},{\"attributes\":{\"days\":[1,15]},\"id\":\"117432c3-e583-439a-acce-f6dcbb1f49d1\",\"type\":\"DaysTicker\"},{\"attributes\":{\"days\":[1,8,15,22]},\"id\":\"8e5e230c-174a-47f2-a6df-a944bc66c243\",\"type\":\"DaysTicker\"}],\"root_ids\":[\"608c788c-9ff8-4c17-be38-65fa4643842f\",\"86fd8438-72e3-4d95-a748-15c37bca4056\"]},\"title\":\"Bokeh Application\",\"version\":\"0.11.1\"}};\n",
       "            var render_items = [{\"docid\":\"c2739b61-9e27-4622-8f51-511e9337ac33\",\"elementid\":\"3157c22c-0c7f-4b7c-9391-cac24aa47f7f\",\"modelid\":\"86fd8438-72e3-4d95-a748-15c37bca4056\",\"notebook_comms_target\":\"e54aa419-02f6-4b0a-afc2-80104903f8c4\"}];\n",
       "            \n",
       "            Bokeh.embed.embed_items(docs_json, render_items);\n",
       "        });\n",
       "      },\n",
       "      function(Bokeh) {\n",
       "      }\n",
       "    ];\n",
       "  \n",
       "    function run_inline_js() {\n",
       "      for (var i = 0; i < inline_js.length; i++) {\n",
       "        inline_js[i](window.Bokeh);\n",
       "      }\n",
       "    }\n",
       "  \n",
       "    if (window._bokeh_is_loading === 0) {\n",
       "      console.log(\"Bokeh: BokehJS loaded, going straight to plotting\");\n",
       "      run_inline_js();\n",
       "    } else {\n",
       "      load_libs(js_urls, function() {\n",
       "        console.log(\"Bokeh: BokehJS plotting callback run at\", now());\n",
       "        run_inline_js();\n",
       "      });\n",
       "    }\n",
       "  }(this));\n",
       "</script>"
      ]
     },
     "metadata": {},
     "output_type": "display_data"
    },
    {
     "data": {
      "text/html": [
       "<p><code>&lt;Bokeh Notebook handle for <strong>In[7]</strong>&gt;</code></p>"
      ],
      "text/plain": [
       "<bokeh.io._CommsHandle at 0x11d355e80>"
      ]
     },
     "execution_count": 7,
     "metadata": {},
     "output_type": "execute_result"
    }
   ],
   "source": [
    "p = plot_interactive_timeseries(x='airdate', y='rating_count', data=episodes, \n",
    "                                title=\"Number of Ratings per Episode on The Late Show with Stephen Colbert\")\n",
    "show(p)"
   ]
  },
  {
   "cell_type": "markdown",
   "metadata": {},
   "source": [
    "## Sentiment Analysis"
   ]
  },
  {
   "cell_type": "code",
   "execution_count": 8,
   "metadata": {
    "collapsed": false,
    "scrolled": false
   },
   "outputs": [
    {
     "data": {
      "text/html": [
       "<div>\n",
       "<table border=\"1\" class=\"dataframe\">\n",
       "  <thead>\n",
       "    <tr style=\"text-align: right;\">\n",
       "      <th></th>\n",
       "      <th>number</th>\n",
       "      <th>airdate</th>\n",
       "      <th>polarity</th>\n",
       "      <th>subjectivity</th>\n",
       "      <th>rating</th>\n",
       "      <th>rating_count</th>\n",
       "    </tr>\n",
       "  </thead>\n",
       "  <tbody>\n",
       "    <tr>\n",
       "      <th>0</th>\n",
       "      <td>1</td>\n",
       "      <td>2015-09-08</td>\n",
       "      <td>0.177883</td>\n",
       "      <td>0.527630</td>\n",
       "      <td>7.5</td>\n",
       "      <td>97.0</td>\n",
       "    </tr>\n",
       "    <tr>\n",
       "      <th>1</th>\n",
       "      <td>2</td>\n",
       "      <td>2015-09-09</td>\n",
       "      <td>0.177891</td>\n",
       "      <td>0.529692</td>\n",
       "      <td>7.5</td>\n",
       "      <td>58.0</td>\n",
       "    </tr>\n",
       "    <tr>\n",
       "      <th>2</th>\n",
       "      <td>3</td>\n",
       "      <td>2015-09-10</td>\n",
       "      <td>0.210318</td>\n",
       "      <td>0.500193</td>\n",
       "      <td>8.6</td>\n",
       "      <td>66.0</td>\n",
       "    </tr>\n",
       "    <tr>\n",
       "      <th>3</th>\n",
       "      <td>4</td>\n",
       "      <td>2015-09-11</td>\n",
       "      <td>0.148042</td>\n",
       "      <td>0.523307</td>\n",
       "      <td>7.4</td>\n",
       "      <td>42.0</td>\n",
       "    </tr>\n",
       "    <tr>\n",
       "      <th>4</th>\n",
       "      <td>5</td>\n",
       "      <td>2015-09-14</td>\n",
       "      <td>0.171476</td>\n",
       "      <td>0.469937</td>\n",
       "      <td>7.9</td>\n",
       "      <td>36.0</td>\n",
       "    </tr>\n",
       "  </tbody>\n",
       "</table>\n",
       "</div>"
      ],
      "text/plain": [
       "   number    airdate  polarity  subjectivity  rating  rating_count\n",
       "0       1 2015-09-08  0.177883      0.527630     7.5          97.0\n",
       "1       2 2015-09-09  0.177891      0.529692     7.5          58.0\n",
       "2       3 2015-09-10  0.210318      0.500193     8.6          66.0\n",
       "3       4 2015-09-11  0.148042      0.523307     7.4          42.0\n",
       "4       5 2015-09-14  0.171476      0.469937     7.9          36.0"
      ]
     },
     "execution_count": 8,
     "metadata": {},
     "output_type": "execute_result"
    }
   ],
   "source": [
    "rows = []\n",
    "for index, row in episodes.iterrows():\n",
    "    if pd.isnull(row.text): continue\n",
    "    blob = TextBlob(row.text)\n",
    "    sentiment = blob.sentiment\n",
    "    row = {\"number\": row.number, \"polarity\": sentiment.polarity, \"subjectivity\": sentiment.subjectivity}\n",
    "    rows.append(row)\n",
    "\n",
    "sentiment = pd.DataFrame(rows).set_index('number')\n",
    "episodes = pd.concat([episodes.set_index('number'), sentiment], axis=1).reset_index()\n",
    "episodes[['number', 'airdate', 'polarity', 'subjectivity', 'rating', 'rating_count']].head()"
   ]
  },
  {
   "cell_type": "code",
   "execution_count": 9,
   "metadata": {
    "collapsed": false
   },
   "outputs": [
    {
     "data": {
      "text/plain": [
       "<matplotlib.legend.Legend at 0x11d641860>"
      ]
     },
     "execution_count": 9,
     "metadata": {},
     "output_type": "execute_result"
    },
    {
     "data": {
      "image/png": "[encoded data removed]",
      "text/plain": [
       "<matplotlib.figure.Figure at 0x11d678d30>"
      ]
     },
     "metadata": {},
     "output_type": "display_data"
    }
   ],
   "source": [
    "episodes.set_index('airdate').polarity.plot(style='.')\n",
    "episodes.set_index('airdate').subjectivity.plot(style='.')\n",
    "plt.legend()"
   ]
  },
  {
   "cell_type": "code",
   "execution_count": 10,
   "metadata": {
    "collapsed": false
   },
   "outputs": [
    {
     "data": {
      "text/html": [
       "<table class=\"simpletable\">\n",
       "<caption>OLS Regression Results</caption>\n",
       "<tr>\n",
       "  <th>Dep. Variable:</th>         <td>rating</td>      <th>  R-squared:         </th> <td>   0.004</td>\n",
       "</tr>\n",
       "<tr>\n",
       "  <th>Model:</th>                   <td>OLS</td>       <th>  Adj. R-squared:    </th> <td>  -0.013</td>\n",
       "</tr>\n",
       "<tr>\n",
       "  <th>Method:</th>             <td>Least Squares</td>  <th>  F-statistic:       </th> <td>  0.2252</td>\n",
       "</tr>\n",
       "<tr>\n",
       "  <th>Date:</th>             <td>Thu, 12 May 2016</td> <th>  Prob (F-statistic):</th>  <td> 0.799</td> \n",
       "</tr>\n",
       "<tr>\n",
       "  <th>Time:</th>                 <td>04:11:34</td>     <th>  Log-Likelihood:    </th> <td> -101.49</td>\n",
       "</tr>\n",
       "<tr>\n",
       "  <th>No. Observations:</th>      <td>   119</td>      <th>  AIC:               </th> <td>   209.0</td>\n",
       "</tr>\n",
       "<tr>\n",
       "  <th>Df Residuals:</th>          <td>   116</td>      <th>  BIC:               </th> <td>   217.3</td>\n",
       "</tr>\n",
       "<tr>\n",
       "  <th>Df Model:</th>              <td>     2</td>      <th>                     </th>     <td> </td>   \n",
       "</tr>\n",
       "<tr>\n",
       "  <th>Covariance Type:</th>      <td>nonrobust</td>    <th>                     </th>     <td> </td>   \n",
       "</tr>\n",
       "</table>\n",
       "<table class=\"simpletable\">\n",
       "<tr>\n",
       "        <td></td>          <th>coef</th>     <th>std err</th>      <th>t</th>      <th>P>|t|</th> <th>[95.0% Conf. Int.]</th> \n",
       "</tr>\n",
       "<tr>\n",
       "  <th>Intercept</th>    <td>    6.8203</td> <td>    1.188</td> <td>    5.743</td> <td> 0.000</td> <td>    4.468     9.172</td>\n",
       "</tr>\n",
       "<tr>\n",
       "  <th>subjectivity</th> <td>    1.3520</td> <td>    2.419</td> <td>    0.559</td> <td> 0.577</td> <td>   -3.439     6.143</td>\n",
       "</tr>\n",
       "<tr>\n",
       "  <th>polarity</th>     <td>    0.4420</td> <td>    1.862</td> <td>    0.237</td> <td> 0.813</td> <td>   -3.247     4.131</td>\n",
       "</tr>\n",
       "</table>\n",
       "<table class=\"simpletable\">\n",
       "<tr>\n",
       "  <th>Omnibus:</th>       <td> 5.996</td> <th>  Durbin-Watson:     </th> <td>   1.490</td>\n",
       "</tr>\n",
       "<tr>\n",
       "  <th>Prob(Omnibus):</th> <td> 0.050</td> <th>  Jarque-Bera (JB):  </th> <td>   5.466</td>\n",
       "</tr>\n",
       "<tr>\n",
       "  <th>Skew:</th>          <td>-0.492</td> <th>  Prob(JB):          </th> <td>  0.0650</td>\n",
       "</tr>\n",
       "<tr>\n",
       "  <th>Kurtosis:</th>      <td> 3.366</td> <th>  Cond. No.          </th> <td>    58.3</td>\n",
       "</tr>\n",
       "</table>"
      ],
      "text/plain": [
       "<class 'statsmodels.iolib.summary.Summary'>\n",
       "\"\"\"\n",
       "                            OLS Regression Results                            \n",
       "==============================================================================\n",
       "Dep. Variable:                 rating   R-squared:                       0.004\n",
       "Model:                            OLS   Adj. R-squared:                 -0.013\n",
       "Method:                 Least Squares   F-statistic:                    0.2252\n",
       "Date:                Thu, 12 May 2016   Prob (F-statistic):              0.799\n",
       "Time:                        04:11:34   Log-Likelihood:                -101.49\n",
       "No. Observations:                 119   AIC:                             209.0\n",
       "Df Residuals:                     116   BIC:                             217.3\n",
       "Df Model:                           2                                         \n",
       "Covariance Type:            nonrobust                                         \n",
       "================================================================================\n",
       "                   coef    std err          t      P>|t|      [95.0% Conf. Int.]\n",
       "--------------------------------------------------------------------------------\n",
       "Intercept        6.8203      1.188      5.743      0.000         4.468     9.172\n",
       "subjectivity     1.3520      2.419      0.559      0.577        -3.439     6.143\n",
       "polarity         0.4420      1.862      0.237      0.813        -3.247     4.131\n",
       "==============================================================================\n",
       "Omnibus:                        5.996   Durbin-Watson:                   1.490\n",
       "Prob(Omnibus):                  0.050   Jarque-Bera (JB):                5.466\n",
       "Skew:                          -0.492   Prob(JB):                       0.0650\n",
       "Kurtosis:                       3.366   Cond. No.                         58.3\n",
       "==============================================================================\n",
       "\n",
       "Warnings:\n",
       "[1] Standard Errors assume that the covariance matrix of the errors is correctly specified.\n",
       "\"\"\""
      ]
     },
     "execution_count": 10,
     "metadata": {},
     "output_type": "execute_result"
    }
   ],
   "source": [
    "mod = smf.ols(formula='rating ~ subjectivity + polarity', data=episodes)\n",
    "res = mod.fit()\n",
    "res.summary()"
   ]
  },
  {
   "cell_type": "markdown",
   "metadata": {},
   "source": [
    "## Subtitles of Most Recent Episodes"
   ]
  },
  {
   "cell_type": "code",
   "execution_count": 11,
   "metadata": {
    "collapsed": false,
    "scrolled": false
   },
   "outputs": [
    {
     "data": {
      "text/html": [
       "<strong>130 Susan Sarandon/David Tennant/Catfish & the Bottlemen</strong>"
      ],
      "text/plain": [
       "<IPython.core.display.HTML object>"
      ]
     },
     "metadata": {},
     "output_type": "display_data"
    },
    {
     "name": "stdout",
     "output_type": "stream",
     "text": [
      "STEPHEN. YOU GOT A SECLRKS. I WAS HOPING WE COULD MEET THERE'S A LOT GOING ON.\n",
      "Stephen: RIGHT NOW.\n",
      "YOU KNOW THE BIT WHERE WE RAISE THE BABY ON THE SHOW --\n",
      "DID I SEE GOOSE GO INTO THE MEN'S ROOM HOLD ON.\n",
      "THERE'S NO GOOSE.\n",
      "Stephen: HOLD ON. YUP. SORRY, FALSE ALARM. NO, SORRY, IT WAS A DUCK. I APOLOGIZE.\n",
      "TONIGHT, STEPHEN WELCOMES SUSAN SARANDON, DAVID TENNANT, AND A MUSICAL PERFORMANCE BY CATFISH AND THE BOTTLEMEN. FEATURING JON BATISTE AND STAY HUMAN.  NOW IT'S TIME FOR \"TH \"THE LATE SHOW\" WITH STEPHEN COLBERT.\"  Captioning sponsored by CBS\n",
      "Stephen: GOOD TO SEE YOU. HEY! HAY, MARK! LCOME TO \"THE LA \"THE LATE SHOW\" EVERYBODY. THANKS SO MUCH. ( CHEERS AND APPLAUSE )\n",
      "Stephen: THANKS SO MUCH. YOU'RE VERY KIND. THANKS SO MUCH. WELCOME TO \"THE LATE SHOW\".\" I'M YOUR HOST, STEPHEN COLBERT. I LIKE TO...\n",
      "\n",
      "----------------------------------\n",
      "\n"
     ]
    },
    {
     "data": {
      "text/html": [
       "<strong>131 Julianna Margulies, Christine Baranski & Matt Czuchry/Hank Azaria/Anderson Cooper</strong>"
      ],
      "text/plain": [
       "<IPython.core.display.HTML object>"
      ]
     },
     "metadata": {},
     "output_type": "display_data"
    },
    {
     "name": "stdout",
     "output_type": "stream",
     "text": [
      "Stephen: THANK YOU, LADIES AND GENTLEMEN! I STAND BEFORE YOU TONIGHT SURROUNDED BY AMERICAN FLAGS, SECURE IN THE KNOWLEDGE THAT I AM NOT RUNNING FOR PRESIDENT AND HAVE ZERO CHANCE OF BEING ELECTED ANYTHING! BUT ARE WE GOING TO LET THAT STOP MEH. ISABEL JUARREN-TINEZ? SI, SE PUEDE! FROM PICKING A VICE PRESIDENT? NO! THAT'S RIGHT TONIGHT, I AM PROUD TO ANNOUNCE JULIE WAINWRIGHT, MY SIDEVICE PRESIDENT RUNNING MATE. YOU'RE MY ROCK. THANK YOU. AND WHILE I'M PRETENDING I'VE GOT A SHOT, I'M PROUD TO ANNOUNCE MENOMINEE FOR THE SUPREME COURT IS SUPREME COURT STARTING GUARD FOR YOUR CHICAGO BULLS, MR. MICHAEL JORDAN. THANK YOU FOR BEING HERE. M.J. WISHES HE COULD BE HERE BUT UNFORTUNATELY WE HAVE NEVER MET AND HE DOESN'T KNOW THIS IS HAPPENING AND YOU KNOW WHAT? WHILE I'M AT IT, MY SECRETARY OF STAT...\n",
      "\n",
      "----------------------------------\n",
      "\n"
     ]
    },
    {
     "data": {
      "text/html": [
       "<strong>132 Anderson Cooper/Mark Feuerstein/Gwen Stefani</strong>"
      ],
      "text/plain": [
       "<IPython.core.display.HTML object>"
      ]
     },
     "metadata": {},
     "output_type": "display_data"
    },
    {
     "name": "stdout",
     "output_type": "stream",
     "text": [
      "Stephen: HEY, GWEN, I'M SO GLAD YOU'RE HERE. HI, I'M STEPHEN. SO NICE TO MEET YOU. I AM SO EXCITED YOU'RE DOING THE SHOW.\n",
      "I'M A HUGE FAN OF YOU.\n",
      "Stephen: DO YOU MIND IF WE ASK WHAT SONG YOU'RE SINGING TONIGHT?\n",
      "WE'RE GOING TO DO A NEW ONE, \"MAKE ME LIKE YOU.\"\n",
      "Stephen: I JUST WANTED TO MAKE SURE YOU WEREN'T DOING HOLLABACK GIRL.\n",
      "WHAT'S WRONG WITH HOLLABACK GIRL?\n",
      "Stephen: IT'S ONE OF MY FAVORITE SONGS. I'M A LITTLE STICKLER WHEN IT COMES TO SCRABBLE. AND I DON'T KNOW IF YOU KNOW IT, BUT IN THE SONG YOU SPELL THE WORD BANANA WRONG.\n",
      "NO, I DON'T. ♪ LET ME HEAR YOU SAY THE STUFF IT'S BANANAS, BANANAS, THE STUFF IS BANANAS.\n",
      "Stephen: THE CORRECT SPELLING OF BANANAS IS BANNANNAS. BUT THERE'S NO WAY YOU COULD DO THAT.\n",
      "BANANAS IS BANANAS, EVERYBODY KNOWS THAT.\n",
      "Stephen: JUST SAY THE WORD.\n",
      "BANANAS, BA--...\n",
      "\n",
      "----------------------------------\n",
      "\n"
     ]
    },
    {
     "data": {
      "text/html": [
       "<strong>133 Bill O'Reilly/Morris Chestnut/Deerhunter</strong>"
      ],
      "text/plain": [
       "<IPython.core.display.HTML object>"
      ]
     },
     "metadata": {},
     "output_type": "display_data"
    },
    {
     "name": "stdout",
     "output_type": "stream",
     "text": [
      "HEY, STEPHEN. I, HOW ARE YOU? THE REPORTER CALLED. ARE YOU DRESSING UP LIKE A CHICKEN AND A COW.\n",
      "Stephen: IN THE DRESSING ROOM?\n",
      "YEAH, EXCUSE ME. ONE SECOND. SORRY. STEPHEN? STEPHEN? SERIOUSLY? ♪\n",
      "TONIGHT, STEPHEN WELCOMES BILL O'REILLY! MORRIS CHESTNUT! AND THE MUSICAL PERFORMANCE BY \"DEERHUNTER\"! FEATURING JON BATISTE AND \"STAY HUMAN\"! AND NOW IT'S TIME FOR \"THE LATE SHOW\" WITH STEPHEN COLBERT! (CHEERS AND APPLAUSE) ♪  Captioning sponsored by CBS\n",
      "Stephen: HEY! HOW ARE YA! (CHEERS AND APPLAUSE) THANKS, EVERYBODY! WELCOME TO THE LATE SHOW. THANK YOU, MARK! (CHEERS AND APPLAUSE) THANKS SO MUCH! GOOD TO SEE YOU, MY FRIEND! WELCOME TO \"THE LATE SHOW.\" I'M STEPHEN COLBERT. EVERYONE HAVE A NICE WEEKEND? (CHEERS AND APPLAUSE)\n",
      "Stephen: I DID, TOO. BEFORE WE GET STARTED, I WANT TO GIVE A SHOUTOUT TO...\n",
      "\n",
      "----------------------------------\n",
      "\n"
     ]
    },
    {
     "data": {
      "text/html": [
       "<strong>134 Dakota Johnson/Sebastian Stan/Lukas Nelson & Promise of the Real</strong>"
      ],
      "text/plain": [
       "<IPython.core.display.HTML object>"
      ]
     },
     "metadata": {},
     "output_type": "display_data"
    },
    {
     "name": "stdout",
     "output_type": "stream",
     "text": [
      "Stephen: HEY, DAKOTA JOHNSON, THANK YOU SO MUCH FOR BEING HERE.\n",
      "HI, STEPHEN.\n",
      "Stephen: I'M REALLY LOOKING FORWARD TO YOUR NEW MOVIE \"A BIGGER SPLASH.\"\n",
      "THANK YOU.\n",
      "Stephen: IT MUST BE SO FUN TO WORK WITH TOMMING HANKS.\n",
      "WHAT DO YOU MEAN?\n",
      "Stephen: \"A BIGGER SPLASH.\" IT'S A SEQUEL TO BIG AND SPLASH WHERE TOM HANKS WISHES TO BE A MERMAID AND LEARNS A LESSON ABOUT LOVE.\n",
      "NO, THIS ONE IS ACTUALLY SORT OF A GRIPPING DRAMA THAT'S SORT OF EROTIC.\n",
      "Stephen: YEAH, YEAH. GRIPPING, EROTIC DRAMA, TOM HANKS.\n",
      "NO, IT'S ABOUT A ROCK STAR PLAYED BY TILDE SQUINTOP AND SHE HER EX-BOYFRIEND RAY FINES COMES TO SEE HER WHEN SHE'S ON HOLIDAY.\n",
      "Stephen: AND WRIEWR THE MERMAID?\n",
      "NO, THERE'S NO MERMAID. AND THERE'S NO TOM HANKS.\n",
      "Stephen: OH. DOES TOM KNOW HE'S OUT OF THE FILM.\n",
      "TONIGHT, STEPHEN WELCOMES DAKOTA JOHNSON SEBAST...\n",
      "\n",
      "----------------------------------\n",
      "\n"
     ]
    },
    {
     "data": {
      "text/html": [
       "<strong>135 Anthony Mackie/Rob Reiner/Maxwell</strong>"
      ],
      "text/plain": [
       "<IPython.core.display.HTML object>"
      ]
     },
     "metadata": {},
     "output_type": "display_data"
    },
    {
     "name": "stdout",
     "output_type": "stream",
     "text": [
      "I AM OFFICIALLY RUNNING FOR PRESIDENT OF THE UNITED STATES. AND WE ARE GOING TO MAKE OUR COUNTRY GREAT AGAIN.\n",
      "TRUMP STILL LEADS ON THE POLLS NATIONALLY.\n",
      "THE RESULTS ARE IN FROM THE BIGGEST DAY OF THE ELECTION SO FAR. IT WAS A SUPER TUESDAY FOR DONALD TRUMP.\n",
      "TRUMP WON SEVEN STATES...\n",
      "TRUMP TRIUMPHS.\n",
      "DONALD TRUMP IS GOING TO BE THE NOMINEE FOR THE REPUBLICAN PARTY.\n",
      "DONALD TRUMP, IF HE'S PROVEN ANYTHING--\n",
      "TONIGHT, STEPHEN WELCOMES ANTHONY MACKIE ROB REINER AND A MUSICAL PERFORMANCE BY MAXWELL. FEATURING JON BATISTE AND STAY HUMAN. AND NOW IT'S TIME FOR \"THE LATE SHOW WITH STEPHEN COLBERT\"!  Captioning sponsored by CBS (  BAND PLAYING  \"LATE SHOW\" THEME  ) ( CHEERS AND APPLAUSE ) ( CHEERS AND APPLAUSE )\n",
      "Stephen: WELCOME TO THE SHOW! HEY, EVERYBODY! HEY! HEY, EVERYBODY. I AM STEPHEN COLBERT. WE...\n",
      "\n",
      "----------------------------------\n",
      "\n"
     ]
    },
    {
     "data": {
      "text/html": [
       "<strong>136 Judy Sheindlin/Zac Posen/W. Kamau Bell</strong>"
      ],
      "text/plain": [
       "<IPython.core.display.HTML object>"
      ]
     },
     "metadata": {},
     "output_type": "display_data"
    },
    {
     "name": "stdout",
     "output_type": "stream",
     "text": [
      "STEPHEN, STEPHEN, I NEED TO TALK TO YOU ABOUT A PIZZA. GOT A MINUTE?\n",
      "NO. GOTCHA! NOW, IT'S AT THE TOP OF THE SHOW OR ACT FIVE.\n",
      "DON'T ASK HIM. IT'S JUST MY STUNT DOUBLE.\n",
      "HOW MUCH DO YOU EVEN PAY FOR THIS STUNT DOUBLE?\n",
      "GOTTA GO. (THEME SONG PLAYING)\n",
      "TONIGHT, STEPHEN WELCOMES JUDGE JUDY! ZAC POSEN! AND W. KA-MAO BELL! FEATURING JON BATISTE AND \"STAY HUMAN\"! AND NOW IT'S TIME FOR \"THE LATE SHOW\" WITH STEPHEN COLBERT! (CHEERS AND APPLAUSE) Captioning sponsored by CBS\n",
      "Stephen: HEY! WHAT'S UP? ♪ ♪ ♪\n",
      "Stephen: THANK YOU SO MUCH! WELCOME TO \"THE LATE SHOW\"! HELLO, JON!\n",
      "Jon: HEY!\n",
      "Stephen: HOW ARE YOU, MY FRIEND? GOOD TO SEE YOU! (CHEERS AND APPLAUSE) THANK YOU! WELCOME TO THE SHOAVMENT I'M YOUR HOST STEPHEN COLBERT. HAPPY CINCO DE MAYO! YOU GUYS LOVE CINCO DE MAYO? (CHEERS AND APPLAUSE) HEY, YOU KNOW...\n",
      "\n",
      "----------------------------------\n",
      "\n"
     ]
    },
    {
     "data": {
      "text/html": [
       "<strong>137 Lily Tomlin/Kumail Nanjiani/Ryan Hamilton</strong>"
      ],
      "text/plain": [
       "<IPython.core.display.HTML object>"
      ]
     },
     "metadata": {},
     "output_type": "display_data"
    },
    {
     "name": "stdout",
     "output_type": "stream",
     "text": [
      "Stephen: SO EXPLAIN THIS TO ME. IN THE SIMIRILLIAN, THERE IS A GRORFINDLE WHOIDIZE, BUT IN THE FELLOWSHIP OF THE RING IN THE FIGHT TO THE FORD, THERE IS ANOTHER ELFORD NAMED GALORAD FINDLE, IS THAT THE SAME GUIDE?\n",
      "NO HABLOS ENGLISH.  Captioning sponsored by CBS\n",
      "TONIGHT, STEPHEN WELCOMES LILY TOMLIN KUMAIL NANJIANI AND A PERFORMANCE BY COMEDIAN RYAN HAMILTON. FEATURING JON BATISTE AND STAY HUMAN. AND NOW IT'S TIME FOR \"THE LATE SHOW WITH STEPHEN COLBERT\"! ( CHEERS AND APPLAUSE )\n",
      "Stephen: HEY! WELCOME TO \"THE LATE SHOW,\"\" EVERYBODY. THANK YOU SO MUCH. THANK YOU SO MUCH, EVERYBODY. I AM STEPHEN COLBERT AND I AM SO EXCITED BECAUSE THIS WEEKEND IS THE KENTUCKY DERBY, THE ONE DAY A YEAR WHEN IT'S LEGAL TO BET ON THREE-YEAR-OLDS. LAST YEAR'S DERBY AND TRIPLE CROWN WINNER, AMERICAN PHAROAH, RETIRE...\n",
      "\n",
      "----------------------------------\n",
      "\n"
     ]
    },
    {
     "data": {
      "text/html": [
       "<strong>138 Kaley Cuoco/Dan Savage/The National</strong>"
      ],
      "text/plain": [
       "<IPython.core.display.HTML object>"
      ]
     },
     "metadata": {},
     "output_type": "display_data"
    },
    {
     "name": "stdout",
     "output_type": "stream",
     "text": [
      "OH, COME ON. ALL RIGHT, COME ON. OH, JEEZ. OH. MY HAND IS STUCK.\n",
      "IT'S A LOST CAUSE.\n",
      "IT IS NOT A LOST CAUSE. (CHEERS AND APPLAUSE).\n",
      "Stephen: WHAT ARE YOU DOING HERE?\n",
      "WELL, I DON'T TAKE MONEY FROM BILLIONAIRES BUT I DO CHECK EVERY VENDING MACHINE CHANGE SLOT.\n",
      "Stephen: COME ON. $27.\n",
      "NOTHING.\n",
      "Stephen: HEY, WAIT, AREN'T YOU GOING TO.\n",
      "TELL YOU ABOUT THE WEST VIRGINIA PRIMARY TOMORROW?\n",
      "Stephen: AH, SURE?\n",
      "WELL, I THINK WE GOT A SHOT TO WIN. AND I'LL TELL YOU WHY. IT'S BECAUSE IN WEST VIRGINIA LIKE EVERY PLACE ELSE IN THIS COUNTRY TOO MANY PEOPLE ARE WORKING LONGER HOURS FOR LOW WAGES AND THEY WANT CHANGE, STEPHEN.\n",
      "Stephen: OKAY, BUT EVEN IF YOU DO WELL TOMORROW, THE DELEGATE MATH IS AGAINST YOU. SO ISN'T THIS WIN REALLY ONLY A WIN. IT'S NOT REALLY A WIN.\n",
      "NOT REALLY.\n",
      "Stephen: MAYBE BOTH. I DON'T KN...\n",
      "\n",
      "----------------------------------\n",
      "\n"
     ]
    },
    {
     "data": {
      "text/html": [
       "<strong>139 Chloe Grace Moretz/Katie Couric/Brian Green/Charlamagne Tha God</strong>"
      ],
      "text/plain": [
       "<IPython.core.display.HTML object>"
      ]
     },
     "metadata": {},
     "output_type": "display_data"
    },
    {
     "name": "stdout",
     "output_type": "stream",
     "text": [
      "Stephen: KATIE COURIC.\n",
      "HEY, STEPHEN.\n",
      "Stephen: SO LOVELY TO SEE YOU. THANKS FOR BEING ON THE SHOW.\n",
      "ARE YOU KIDDING? SO HAPPY TO BE HERE.\n",
      "Stephen: MARNG YOU ARE GOING TO LOOK FANTASTIC IN THE CHICKEN SUIT.\n",
      "WHAT DO YOU MEAN.\n",
      "Stephen: I FORGOT TO TELL YOU WE ARE DOING THIS THING WHERE WE INTERVIEW OUR GUESTS IN COSTUMES.\n",
      "STEPHEN, I'M A SERIOUS JOURNALIST. I AM NOT GOING TO WEAR A CHICKEN SUIT.\n",
      "Stephen: IS IT OKAY IF I WEAR THE CHICKEN SUIT?\n",
      "IT'S JUR SHOW, KNOCK YOURSELF OUT.\n",
      "Stephen: YOU CAN BE THE HORSE.\n",
      "GREAT!\n",
      "TONIGHT, STEPHEN WELCOMES CHLOE GRACE MORETZ KATIE COURIC CHARLAMAGNE THA GOD FEATURING JON BATISTE AND STAY HUMAN. AND NOW IT'S TIME FOR \"THE LATE SHOW WITH STEPHEN COLBERT\"!  Captioning sponsored by CBS ( CHEERS AND APPLAUSE )\n",
      "Stephen: HEY! HEY! THANK YOU, JON! GOOD TO SEE YOU, MY MA...\n",
      "\n",
      "----------------------------------\n",
      "\n"
     ]
    }
   ],
   "source": [
    "for i, row in episodes.tail(10).iterrows():\n",
    "    if pd.isnull(row.text): continue\n",
    "    printb(row.number, row.title)\n",
    "    print(row.text[:800] + '...')\n",
    "    print(\"\\n----------------------------------\\n\")"
   ]
  }
 ],
 "metadata": {
  "kernelspec": {
   "display_name": "Python 3",
   "language": "python",
   "name": "python3"
  },
  "language_info": {
   "codemirror_mode": {
    "name": "ipython",
    "version": 3
   },
   "file_extension": ".py",
   "mimetype": "text/x-python",
   "name": "python",
   "nbconvert_exporter": "python",
   "pygments_lexer": "ipython3",
   "version": "3.5.1"
  }
 },
 "nbformat": 4,
 "nbformat_minor": 0
}
